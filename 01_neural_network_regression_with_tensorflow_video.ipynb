{
  "nbformat": 4,
  "nbformat_minor": 0,
  "metadata": {
    "colab": {
      "provenance": [],
      "authorship_tag": "ABX9TyPhD5iR/+HtueckS/yzsWan",
      "include_colab_link": true
    },
    "kernelspec": {
      "name": "python3",
      "display_name": "Python 3"
    },
    "language_info": {
      "name": "python"
    }
  },
  "cells": [
    {
      "cell_type": "markdown",
      "metadata": {
        "id": "view-in-github",
        "colab_type": "text"
      },
      "source": [
        "<a href=\"https://colab.research.google.com/github/ArtyomHov/tensorflow-zero-to-mastery/blob/master/01_neural_network_regression_with_tensorflow_video.ipynb\" target=\"_parent\"><img src=\"https://colab.research.google.com/assets/colab-badge.svg\" alt=\"Open In Colab\"/></a>"
      ]
    },
    {
      "cell_type": "markdown",
      "source": [
        "# Introduction to Regression with Neural Networks inTensorFlow\n",
        "There are many definitions for regressions model but in our case, we are going to simplify it: predicting a numerical variable based on some other combination of variables, even shorter... predicting a number."
      ],
      "metadata": {
        "id": "1VZR2AOXlGVn"
      }
    },
    {
      "cell_type": "code",
      "source": [
        "# Import TensorFlow\n",
        "import tensorflow as tf\n",
        "print(tf.__version__)"
      ],
      "metadata": {
        "colab": {
          "base_uri": "https://localhost:8080/"
        },
        "id": "UVJd_-QHVzjA",
        "outputId": "c670c61b-bda2-484a-cc4e-f203a3e2f3d5"
      },
      "execution_count": 1,
      "outputs": [
        {
          "output_type": "stream",
          "name": "stdout",
          "text": [
            "2.13.0\n"
          ]
        }
      ]
    },
    {
      "cell_type": "markdown",
      "source": [
        "### Creating a data to view and fit"
      ],
      "metadata": {
        "id": "OwXoHRGWbhmR"
      }
    },
    {
      "cell_type": "code",
      "source": [
        "import numpy as np\n",
        "import matplotlib.pyplot as plt\n",
        "\n",
        "# Create features\n",
        "X = np.array([-7.0, -4.0, -1.0, 2.0, 5.0, 8.0, 11.0, 14.0])\n",
        "\n",
        "# Create labels\n",
        "y = np.array([3.0, 6.0, 9.0, 12.0, 15.0, 18.0, 21.0, 24.0])\n",
        "\n",
        "# Visualize it\n",
        "plt.scatter(X, y)"
      ],
      "metadata": {
        "colab": {
          "base_uri": "https://localhost:8080/",
          "height": 453
        },
        "id": "WbMYpe5GblCH",
        "outputId": "3a9e0844-35ad-4a91-f5a5-ecaa316aef6c"
      },
      "execution_count": 2,
      "outputs": [
        {
          "output_type": "execute_result",
          "data": {
            "text/plain": [
              "<matplotlib.collections.PathCollection at 0x7de529953fa0>"
            ]
          },
          "metadata": {},
          "execution_count": 2
        },
        {
          "output_type": "display_data",
          "data": {
            "text/plain": [
              "<Figure size 640x480 with 1 Axes>"
            ],
            "image/png": "[encoded data removed]"
          },
          "metadata": {}
        }
      ]
    },
    {
      "cell_type": "code",
      "source": [
        "y == 10 + X"
      ],
      "metadata": {
        "colab": {
          "base_uri": "https://localhost:8080/"
        },
        "id": "DysXP8dfjrDP",
        "outputId": "84dae6c2-50d5-4014-8557-d757bcef27bc"
      },
      "execution_count": 3,
      "outputs": [
        {
          "output_type": "execute_result",
          "data": {
            "text/plain": [
              "array([ True,  True,  True,  True,  True,  True,  True,  True])"
            ]
          },
          "metadata": {},
          "execution_count": 3
        }
      ]
    },
    {
      "cell_type": "markdown",
      "source": [
        "### Input and Output shapes"
      ],
      "metadata": {
        "id": "qi9UL0mwj-xt"
      }
    },
    {
      "cell_type": "code",
      "source": [
        "# Create a demo tensor for our housing price prediction problem\n",
        "house_info = tf.constant([\"bedroom\", \"bathroom\", \"garage\"])\n",
        "house_price = tf.constant([939700])\n",
        "house_info, house_price"
      ],
      "metadata": {
        "colab": {
          "base_uri": "https://localhost:8080/"
        },
        "id": "e1s8u9eykBSq",
        "outputId": "6dc653cf-d225-4f9b-d959-12652183652e"
      },
      "execution_count": 4,
      "outputs": [
        {
          "output_type": "execute_result",
          "data": {
            "text/plain": [
              "(<tf.Tensor: shape=(3,), dtype=string, numpy=array([b'bedroom', b'bathroom', b'garage'], dtype=object)>,\n",
              " <tf.Tensor: shape=(1,), dtype=int32, numpy=array([939700], dtype=int32)>)"
            ]
          },
          "metadata": {},
          "execution_count": 4
        }
      ]
    },
    {
      "cell_type": "code",
      "source": [
        "input_shape = X.shape\n",
        "output_shape = y.shape\n",
        "input_shape, output_shape"
      ],
      "metadata": {
        "colab": {
          "base_uri": "https://localhost:8080/"
        },
        "id": "epBVYvBFmsUr",
        "outputId": "62f8e312-4437-4f66-c908-968b891593f9"
      },
      "execution_count": 5,
      "outputs": [
        {
          "output_type": "execute_result",
          "data": {
            "text/plain": [
              "((8,), (8,))"
            ]
          },
          "metadata": {},
          "execution_count": 5
        }
      ]
    },
    {
      "cell_type": "code",
      "source": [
        "X[0].ndim"
      ],
      "metadata": {
        "colab": {
          "base_uri": "https://localhost:8080/"
        },
        "id": "6nwbN3winPfL",
        "outputId": "8572a57b-be18-44bb-9fb5-211234b0a422"
      },
      "execution_count": 6,
      "outputs": [
        {
          "output_type": "execute_result",
          "data": {
            "text/plain": [
              "0"
            ]
          },
          "metadata": {},
          "execution_count": 6
        }
      ]
    },
    {
      "cell_type": "code",
      "source": [
        "X[0], y[0]"
      ],
      "metadata": {
        "colab": {
          "base_uri": "https://localhost:8080/"
        },
        "id": "NLWDrubVnZRp",
        "outputId": "802213f1-404a-438a-f33b-e84e0d414b17"
      },
      "execution_count": 7,
      "outputs": [
        {
          "output_type": "execute_result",
          "data": {
            "text/plain": [
              "(-7.0, 3.0)"
            ]
          },
          "metadata": {},
          "execution_count": 7
        }
      ]
    },
    {
      "cell_type": "code",
      "source": [
        "# Turn our numpy arrays into tensors\n",
        "\n",
        "X = tf.cast(tf.constant(X), dtype = tf.float32)\n",
        "y = tf.cast(tf.constant(y), dtype = tf.float32)\n",
        "X, y"
      ],
      "metadata": {
        "colab": {
          "base_uri": "https://localhost:8080/"
        },
        "id": "lkgJBV9lthlb",
        "outputId": "8952a44f-8ef7-4578-c5a3-6aeb3672a41c"
      },
      "execution_count": 8,
      "outputs": [
        {
          "output_type": "execute_result",
          "data": {
            "text/plain": [
              "(<tf.Tensor: shape=(8,), dtype=float32, numpy=array([-7., -4., -1.,  2.,  5.,  8., 11., 14.], dtype=float32)>,\n",
              " <tf.Tensor: shape=(8,), dtype=float32, numpy=array([ 3.,  6.,  9., 12., 15., 18., 21., 24.], dtype=float32)>)"
            ]
          },
          "metadata": {},
          "execution_count": 8
        }
      ]
    },
    {
      "cell_type": "code",
      "source": [
        "input_shape = X[0].shape\n",
        "output_shape = y[0].shape\n",
        "input_shape, output_shape"
      ],
      "metadata": {
        "colab": {
          "base_uri": "https://localhost:8080/"
        },
        "id": "anNjQu5nuFbs",
        "outputId": "bc7dd9e9-8894-4c6c-90e5-b8c971aa6bb7"
      },
      "execution_count": 9,
      "outputs": [
        {
          "output_type": "execute_result",
          "data": {
            "text/plain": [
              "(TensorShape([]), TensorShape([]))"
            ]
          },
          "metadata": {},
          "execution_count": 9
        }
      ]
    },
    {
      "cell_type": "code",
      "source": [
        "plt.scatter(X, y)"
      ],
      "metadata": {
        "colab": {
          "base_uri": "https://localhost:8080/",
          "height": 453
        },
        "id": "xn8LYwFbud9N",
        "outputId": "4f169199-3673-4d41-edae-64aa75c6f346"
      },
      "execution_count": 10,
      "outputs": [
        {
          "output_type": "execute_result",
          "data": {
            "text/plain": [
              "<matplotlib.collections.PathCollection at 0x7de527897340>"
            ]
          },
          "metadata": {},
          "execution_count": 10
        },
        {
          "output_type": "display_data",
          "data": {
            "text/plain": [
              "<Figure size 640x480 with 1 Axes>"
            ],
            "image/png": "[encoded data removed]"
          },
          "metadata": {}
        }
      ]
    },
    {
      "cell_type": "markdown",
      "source": [
        "## Steps in modeling with TensorFlow\n",
        "\n",
        "1. **Creating a model** - define the input and output layers, as well as the hidden layers of a deep learning model\n",
        "2. **Compiling a model** - define the loss function (in other words, the function which tells our model how wrong it is) and the optimizer (tells out model how to improve the patterns its learning) and evaluation metrics (what we can use to interpret the performance of our model).\n",
        "3. **Fitting a model** - letting the model try to find patterns between X and y (features and labels)"
      ],
      "metadata": {
        "id": "Ci7pWGwOul-7"
      }
    },
    {
      "cell_type": "code",
      "source": [
        "# Set random seed\n",
        "tf.random.set_seed(42)\n",
        "\n",
        "# 1. Create a model using the Sequential API\n",
        "model = tf.keras.Sequential([\n",
        "    tf.keras.layers.Dense(1)\n",
        "])\n",
        "\n",
        "# 2. Compile the model\n",
        "model.compile(loss = tf.keras.losses.mae, # mae is short for mean absolute error\n",
        "              optimizer = tf.keras.optimizers.SGD(), # sgd is short for stochastic gradient descent\n",
        "              metrics = [\"mae\"]\n",
        "              )\n",
        "\n",
        "# 3. Fit the model\n",
        "model.fit(tf.expand_dims(X, axis = -1), y, epochs = 5)"
      ],
      "metadata": {
        "colab": {
          "base_uri": "https://localhost:8080/"
        },
        "id": "CEKhHn6Fw9FG",
        "outputId": "e4c7585a-c10a-45fc-d178-ce6c82125535"
      },
      "execution_count": 11,
      "outputs": [
        {
          "output_type": "stream",
          "name": "stdout",
          "text": [
            "Epoch 1/5\n",
            "1/1 [==============================] - 1s 577ms/step - loss: 11.5796 - mae: 11.5796\n",
            "Epoch 2/5\n",
            "1/1 [==============================] - 0s 15ms/step - loss: 11.4471 - mae: 11.4471\n",
            "Epoch 3/5\n",
            "1/1 [==============================] - 0s 10ms/step - loss: 11.3146 - mae: 11.3146\n",
            "Epoch 4/5\n",
            "1/1 [==============================] - 0s 13ms/step - loss: 11.1821 - mae: 11.1821\n",
            "Epoch 5/5\n",
            "1/1 [==============================] - 0s 11ms/step - loss: 11.0496 - mae: 11.0496\n"
          ]
        },
        {
          "output_type": "execute_result",
          "data": {
            "text/plain": [
              "<keras.src.callbacks.History at 0x7de52481ad40>"
            ]
          },
          "metadata": {},
          "execution_count": 11
        }
      ]
    },
    {
      "cell_type": "code",
      "source": [
        "# Check X and y\n",
        "X, y"
      ],
      "metadata": {
        "colab": {
          "base_uri": "https://localhost:8080/"
        },
        "id": "NCWuVU1n2oAT",
        "outputId": "5b3342f0-0493-40e5-af13-0f98e19b0333"
      },
      "execution_count": 12,
      "outputs": [
        {
          "output_type": "execute_result",
          "data": {
            "text/plain": [
              "(<tf.Tensor: shape=(8,), dtype=float32, numpy=array([-7., -4., -1.,  2.,  5.,  8., 11., 14.], dtype=float32)>,\n",
              " <tf.Tensor: shape=(8,), dtype=float32, numpy=array([ 3.,  6.,  9., 12., 15., 18., 21., 24.], dtype=float32)>)"
            ]
          },
          "metadata": {},
          "execution_count": 12
        }
      ]
    },
    {
      "cell_type": "code",
      "source": [
        "# Try to make prediction using our model\n",
        "y_pred = model.predict([17.0])\n",
        "y_pred"
      ],
      "metadata": {
        "colab": {
          "base_uri": "https://localhost:8080/"
        },
        "id": "z72T849G2ueu",
        "outputId": "5bdbc13f-cb8c-495b-cd47-c97904a3741b"
      },
      "execution_count": 13,
      "outputs": [
        {
          "output_type": "stream",
          "name": "stdout",
          "text": [
            "1/1 [==============================] - 0s 109ms/step\n"
          ]
        },
        {
          "output_type": "execute_result",
          "data": {
            "text/plain": [
              "array([[12.352712]], dtype=float32)"
            ]
          },
          "metadata": {},
          "execution_count": 13
        }
      ]
    },
    {
      "cell_type": "markdown",
      "source": [
        "## Improving model\n",
        "\n",
        "We can improve our model by altering the steps we took to create a model.\n",
        "\n",
        "1. **Creating a model** - here we might add more layers, increase the number of hidden units (all called neurons) within each of the hidden layers, change the activation function of each layer.\n",
        "2. **Compiling a model** - here we might change the optimization function or perhaps the **learning rate** of the optimization function.\n",
        "3. **Fitting a model** - here we might fit a model for more **epochs** (leave for training longer) or on more data (give the model more examples to learn)"
      ],
      "metadata": {
        "id": "fDJ8_YOB3XS-"
      }
    },
    {
      "cell_type": "code",
      "source": [
        "# Let'srebuild our model\n",
        "\n",
        "# 1. Create the model\n",
        "model = tf.keras.Sequential([\n",
        "    tf.keras.layers.Dense(1)\n",
        "])\n",
        "\n",
        "# 2. Compile the model\n",
        "model.compile(loss = tf.keras.losses.mae,\n",
        "              optimizer= tf.keras.optimizers.SGD(),\n",
        "              metrics = [\"mae\"])\n",
        "\n",
        "# 3. Fit the model (this time we'll train for longer)\n",
        "model.fit(tf.expand_dims(X, axis = -1), y, epochs=100)"
      ],
      "metadata": {
        "colab": {
          "base_uri": "https://localhost:8080/"
        },
        "id": "boXPypT_F_Jy",
        "outputId": "fff11840-1396-4189-b571-5b90ddb64484"
      },
      "execution_count": 14,
      "outputs": [
        {
          "output_type": "stream",
          "name": "stdout",
          "text": [
            "Epoch 1/100\n",
            "1/1 [==============================] - 0s 349ms/step - loss: 17.5019 - mae: 17.5019\n",
            "Epoch 2/100\n",
            "1/1 [==============================] - 0s 12ms/step - loss: 17.2206 - mae: 17.2206\n",
            "Epoch 3/100\n",
            "1/1 [==============================] - 0s 16ms/step - loss: 16.9394 - mae: 16.9394\n",
            "Epoch 4/100\n",
            "1/1 [==============================] - 0s 13ms/step - loss: 16.6581 - mae: 16.6581\n",
            "Epoch 5/100\n",
            "1/1 [==============================] - 0s 12ms/step - loss: 16.3769 - mae: 16.3769\n",
            "Epoch 6/100\n",
            "1/1 [==============================] - 0s 13ms/step - loss: 16.0956 - mae: 16.0956\n",
            "Epoch 7/100\n",
            "1/1 [==============================] - 0s 12ms/step - loss: 15.8144 - mae: 15.8144\n",
            "Epoch 8/100\n",
            "1/1 [==============================] - 0s 25ms/step - loss: 15.5331 - mae: 15.5331\n",
            "Epoch 9/100\n",
            "1/1 [==============================] - 0s 20ms/step - loss: 15.2519 - mae: 15.2519\n",
            "Epoch 10/100\n",
            "1/1 [==============================] - 0s 24ms/step - loss: 14.9706 - mae: 14.9706\n",
            "Epoch 11/100\n",
            "1/1 [==============================] - 0s 23ms/step - loss: 14.7554 - mae: 14.7554\n",
            "Epoch 12/100\n",
            "1/1 [==============================] - 0s 19ms/step - loss: 14.6229 - mae: 14.6229\n",
            "Epoch 13/100\n",
            "1/1 [==============================] - 0s 21ms/step - loss: 14.4904 - mae: 14.4904\n",
            "Epoch 14/100\n",
            "1/1 [==============================] - 0s 21ms/step - loss: 14.3579 - mae: 14.3579\n",
            "Epoch 15/100\n",
            "1/1 [==============================] - 0s 23ms/step - loss: 14.2254 - mae: 14.2254\n",
            "Epoch 16/100\n",
            "1/1 [==============================] - 0s 17ms/step - loss: 14.0929 - mae: 14.0929\n",
            "Epoch 17/100\n",
            "1/1 [==============================] - 0s 12ms/step - loss: 13.9604 - mae: 13.9604\n",
            "Epoch 18/100\n",
            "1/1 [==============================] - 0s 22ms/step - loss: 13.8279 - mae: 13.8279\n",
            "Epoch 19/100\n",
            "1/1 [==============================] - 0s 18ms/step - loss: 13.6954 - mae: 13.6954\n",
            "Epoch 20/100\n",
            "1/1 [==============================] - 0s 12ms/step - loss: 13.5629 - mae: 13.5629\n",
            "Epoch 21/100\n",
            "1/1 [==============================] - 0s 16ms/step - loss: 13.4304 - mae: 13.4304\n",
            "Epoch 22/100\n",
            "1/1 [==============================] - 0s 29ms/step - loss: 13.2979 - mae: 13.2979\n",
            "Epoch 23/100\n",
            "1/1 [==============================] - 0s 24ms/step - loss: 13.1654 - mae: 13.1654\n",
            "Epoch 24/100\n",
            "1/1 [==============================] - 0s 27ms/step - loss: 13.0329 - mae: 13.0329\n",
            "Epoch 25/100\n",
            "1/1 [==============================] - 0s 38ms/step - loss: 12.9004 - mae: 12.9004\n",
            "Epoch 26/100\n",
            "1/1 [==============================] - 0s 14ms/step - loss: 12.7679 - mae: 12.7679\n",
            "Epoch 27/100\n",
            "1/1 [==============================] - 0s 25ms/step - loss: 12.6354 - mae: 12.6354\n",
            "Epoch 28/100\n",
            "1/1 [==============================] - 0s 15ms/step - loss: 12.5029 - mae: 12.5029\n",
            "Epoch 29/100\n",
            "1/1 [==============================] - 0s 23ms/step - loss: 12.3704 - mae: 12.3704\n",
            "Epoch 30/100\n",
            "1/1 [==============================] - 0s 16ms/step - loss: 12.2379 - mae: 12.2379\n",
            "Epoch 31/100\n",
            "1/1 [==============================] - 0s 14ms/step - loss: 12.1054 - mae: 12.1054\n",
            "Epoch 32/100\n",
            "1/1 [==============================] - 0s 16ms/step - loss: 11.9729 - mae: 11.9729\n",
            "Epoch 33/100\n",
            "1/1 [==============================] - 0s 18ms/step - loss: 11.8404 - mae: 11.8404\n",
            "Epoch 34/100\n",
            "1/1 [==============================] - 0s 43ms/step - loss: 11.7079 - mae: 11.7079\n",
            "Epoch 35/100\n",
            "1/1 [==============================] - 0s 16ms/step - loss: 11.5754 - mae: 11.5754\n",
            "Epoch 36/100\n",
            "1/1 [==============================] - 0s 29ms/step - loss: 11.4429 - mae: 11.4429\n",
            "Epoch 37/100\n",
            "1/1 [==============================] - 0s 14ms/step - loss: 11.3104 - mae: 11.3104\n",
            "Epoch 38/100\n",
            "1/1 [==============================] - 0s 16ms/step - loss: 11.1779 - mae: 11.1779\n",
            "Epoch 39/100\n",
            "1/1 [==============================] - 0s 16ms/step - loss: 11.0454 - mae: 11.0454\n",
            "Epoch 40/100\n",
            "1/1 [==============================] - 0s 16ms/step - loss: 10.9129 - mae: 10.9129\n",
            "Epoch 41/100\n",
            "1/1 [==============================] - 0s 15ms/step - loss: 10.7804 - mae: 10.7804\n",
            "Epoch 42/100\n",
            "1/1 [==============================] - 0s 19ms/step - loss: 10.6479 - mae: 10.6479\n",
            "Epoch 43/100\n",
            "1/1 [==============================] - 0s 16ms/step - loss: 10.5154 - mae: 10.5154\n",
            "Epoch 44/100\n",
            "1/1 [==============================] - 0s 17ms/step - loss: 10.3829 - mae: 10.3829\n",
            "Epoch 45/100\n",
            "1/1 [==============================] - 0s 68ms/step - loss: 10.2504 - mae: 10.2504\n",
            "Epoch 46/100\n",
            "1/1 [==============================] - 0s 21ms/step - loss: 10.1179 - mae: 10.1179\n",
            "Epoch 47/100\n",
            "1/1 [==============================] - 0s 14ms/step - loss: 9.9854 - mae: 9.9854\n",
            "Epoch 48/100\n",
            "1/1 [==============================] - 0s 15ms/step - loss: 9.8529 - mae: 9.8529\n",
            "Epoch 49/100\n",
            "1/1 [==============================] - 0s 14ms/step - loss: 9.7204 - mae: 9.7204\n",
            "Epoch 50/100\n",
            "1/1 [==============================] - 0s 12ms/step - loss: 9.5879 - mae: 9.5879\n",
            "Epoch 51/100\n",
            "1/1 [==============================] - 0s 29ms/step - loss: 9.4554 - mae: 9.4554\n",
            "Epoch 52/100\n",
            "1/1 [==============================] - 0s 13ms/step - loss: 9.3229 - mae: 9.3229\n",
            "Epoch 53/100\n",
            "1/1 [==============================] - 0s 13ms/step - loss: 9.1904 - mae: 9.1904\n",
            "Epoch 54/100\n",
            "1/1 [==============================] - 0s 26ms/step - loss: 9.0579 - mae: 9.0579\n",
            "Epoch 55/100\n",
            "1/1 [==============================] - 0s 13ms/step - loss: 8.9254 - mae: 8.9254\n",
            "Epoch 56/100\n",
            "1/1 [==============================] - 0s 17ms/step - loss: 8.7929 - mae: 8.7929\n",
            "Epoch 57/100\n",
            "1/1 [==============================] - 0s 14ms/step - loss: 8.6604 - mae: 8.6604\n",
            "Epoch 58/100\n",
            "1/1 [==============================] - 0s 12ms/step - loss: 8.5279 - mae: 8.5279\n",
            "Epoch 59/100\n",
            "1/1 [==============================] - 0s 42ms/step - loss: 8.3954 - mae: 8.3954\n",
            "Epoch 60/100\n",
            "1/1 [==============================] - 0s 14ms/step - loss: 8.2629 - mae: 8.2629\n",
            "Epoch 61/100\n",
            "1/1 [==============================] - 0s 20ms/step - loss: 8.1304 - mae: 8.1304\n",
            "Epoch 62/100\n",
            "1/1 [==============================] - 0s 16ms/step - loss: 7.9979 - mae: 7.9979\n",
            "Epoch 63/100\n",
            "1/1 [==============================] - 0s 26ms/step - loss: 7.8654 - mae: 7.8654\n",
            "Epoch 64/100\n",
            "1/1 [==============================] - 0s 16ms/step - loss: 7.7329 - mae: 7.7329\n",
            "Epoch 65/100\n",
            "1/1 [==============================] - 0s 15ms/step - loss: 7.6004 - mae: 7.6004\n",
            "Epoch 66/100\n",
            "1/1 [==============================] - 0s 20ms/step - loss: 7.4679 - mae: 7.4679\n",
            "Epoch 67/100\n",
            "1/1 [==============================] - 0s 20ms/step - loss: 7.3354 - mae: 7.3354\n",
            "Epoch 68/100\n",
            "1/1 [==============================] - 0s 39ms/step - loss: 7.2029 - mae: 7.2029\n",
            "Epoch 69/100\n",
            "1/1 [==============================] - 0s 20ms/step - loss: 7.0704 - mae: 7.0704\n",
            "Epoch 70/100\n",
            "1/1 [==============================] - 0s 19ms/step - loss: 7.0013 - mae: 7.0013\n",
            "Epoch 71/100\n",
            "1/1 [==============================] - 0s 22ms/step - loss: 6.9956 - mae: 6.9956\n",
            "Epoch 72/100\n",
            "1/1 [==============================] - 0s 22ms/step - loss: 6.9900 - mae: 6.9900\n",
            "Epoch 73/100\n",
            "1/1 [==============================] - 0s 18ms/step - loss: 6.9844 - mae: 6.9844\n",
            "Epoch 74/100\n",
            "1/1 [==============================] - 0s 19ms/step - loss: 6.9788 - mae: 6.9788\n",
            "Epoch 75/100\n",
            "1/1 [==============================] - 0s 19ms/step - loss: 6.9731 - mae: 6.9731\n",
            "Epoch 76/100\n",
            "1/1 [==============================] - 0s 21ms/step - loss: 6.9675 - mae: 6.9675\n",
            "Epoch 77/100\n",
            "1/1 [==============================] - 0s 25ms/step - loss: 6.9619 - mae: 6.9619\n",
            "Epoch 78/100\n",
            "1/1 [==============================] - 0s 20ms/step - loss: 6.9563 - mae: 6.9563\n",
            "Epoch 79/100\n",
            "1/1 [==============================] - 0s 19ms/step - loss: 6.9506 - mae: 6.9506\n",
            "Epoch 80/100\n",
            "1/1 [==============================] - 0s 29ms/step - loss: 6.9450 - mae: 6.9450\n",
            "Epoch 81/100\n",
            "1/1 [==============================] - 0s 35ms/step - loss: 6.9394 - mae: 6.9394\n",
            "Epoch 82/100\n",
            "1/1 [==============================] - 0s 21ms/step - loss: 6.9338 - mae: 6.9338\n",
            "Epoch 83/100\n",
            "1/1 [==============================] - 0s 23ms/step - loss: 6.9281 - mae: 6.9281\n",
            "Epoch 84/100\n",
            "1/1 [==============================] - 0s 17ms/step - loss: 6.9225 - mae: 6.9225\n",
            "Epoch 85/100\n",
            "1/1 [==============================] - 0s 29ms/step - loss: 6.9169 - mae: 6.9169\n",
            "Epoch 86/100\n",
            "1/1 [==============================] - 0s 18ms/step - loss: 6.9113 - mae: 6.9113\n",
            "Epoch 87/100\n",
            "1/1 [==============================] - 0s 13ms/step - loss: 6.9056 - mae: 6.9056\n",
            "Epoch 88/100\n",
            "1/1 [==============================] - 0s 23ms/step - loss: 6.9000 - mae: 6.9000\n",
            "Epoch 89/100\n",
            "1/1 [==============================] - 0s 30ms/step - loss: 6.8944 - mae: 6.8944\n",
            "Epoch 90/100\n",
            "1/1 [==============================] - 0s 19ms/step - loss: 6.8888 - mae: 6.8888\n",
            "Epoch 91/100\n",
            "1/1 [==============================] - 0s 45ms/step - loss: 6.8831 - mae: 6.8831\n",
            "Epoch 92/100\n",
            "1/1 [==============================] - 0s 31ms/step - loss: 6.8775 - mae: 6.8775\n",
            "Epoch 93/100\n",
            "1/1 [==============================] - 0s 46ms/step - loss: 6.8719 - mae: 6.8719\n",
            "Epoch 94/100\n",
            "1/1 [==============================] - 0s 32ms/step - loss: 6.8663 - mae: 6.8663\n",
            "Epoch 95/100\n",
            "1/1 [==============================] - 0s 22ms/step - loss: 6.8606 - mae: 6.8606\n",
            "Epoch 96/100\n",
            "1/1 [==============================] - 0s 35ms/step - loss: 6.8550 - mae: 6.8550\n",
            "Epoch 97/100\n",
            "1/1 [==============================] - 0s 17ms/step - loss: 6.8494 - mae: 6.8494\n",
            "Epoch 98/100\n",
            "1/1 [==============================] - 0s 23ms/step - loss: 6.8438 - mae: 6.8438\n",
            "Epoch 99/100\n",
            "1/1 [==============================] - 0s 15ms/step - loss: 6.8381 - mae: 6.8381\n",
            "Epoch 100/100\n",
            "1/1 [==============================] - 0s 13ms/step - loss: 6.8325 - mae: 6.8325\n"
          ]
        },
        {
          "output_type": "execute_result",
          "data": {
            "text/plain": [
              "<keras.src.callbacks.History at 0x7de524498dc0>"
            ]
          },
          "metadata": {},
          "execution_count": 14
        }
      ]
    },
    {
      "cell_type": "code",
      "source": [
        "# Remind ourselves of the data\n",
        "\n",
        "X, y"
      ],
      "metadata": {
        "colab": {
          "base_uri": "https://localhost:8080/"
        },
        "id": "K8D9tuf0OWKZ",
        "outputId": "2c9871fc-9dd3-4fd2-82f0-9fbe038e45b2"
      },
      "execution_count": 15,
      "outputs": [
        {
          "output_type": "execute_result",
          "data": {
            "text/plain": [
              "(<tf.Tensor: shape=(8,), dtype=float32, numpy=array([-7., -4., -1.,  2.,  5.,  8., 11., 14.], dtype=float32)>,\n",
              " <tf.Tensor: shape=(8,), dtype=float32, numpy=array([ 3.,  6.,  9., 12., 15., 18., 21., 24.], dtype=float32)>)"
            ]
          },
          "metadata": {},
          "execution_count": 15
        }
      ]
    },
    {
      "cell_type": "code",
      "source": [
        "# Let's see if our model's prediction has inproved\n",
        "\n",
        "model.predict([17.0])"
      ],
      "metadata": {
        "colab": {
          "base_uri": "https://localhost:8080/"
        },
        "id": "Ev8cp9QTOjHR",
        "outputId": "9e982a34-aae6-41fa-f9ba-72397432a756"
      },
      "execution_count": 16,
      "outputs": [
        {
          "output_type": "stream",
          "name": "stdout",
          "text": [
            "1/1 [==============================] - 0s 439ms/step\n"
          ]
        },
        {
          "output_type": "execute_result",
          "data": {
            "text/plain": [
              "array([[29.540434]], dtype=float32)"
            ]
          },
          "metadata": {},
          "execution_count": 16
        }
      ]
    },
    {
      "cell_type": "code",
      "source": [
        "# Let's see if we can make another change to improve our model\n",
        "\n",
        "# 1. Create the model (this time with an extra hidden layer with 100 hidden units)\n",
        "model = tf.keras.Sequential([\n",
        "    tf.keras.layers.Dense(50, activation = None),\n",
        "    tf.keras.layers.Dense(1)\n",
        "])\n",
        "\n",
        "# 2. Compile the model\n",
        "model.compile(loss = tf.keras.losses.mae,\n",
        "              optimizer = tf.keras.optimizers.Adam(learning_rate = 0.01),\n",
        "              metrics=[\"mae\"])\n",
        "\n",
        "# 3. Fit the model\n",
        "model.fit(tf.expand_dims(X, axis = -1), y, epochs = 100)"
      ],
      "metadata": {
        "colab": {
          "base_uri": "https://localhost:8080/"
        },
        "id": "ZTKE8AUAT40S",
        "outputId": "c318a854-e868-471d-a5e2-4a1130681272"
      },
      "execution_count": 17,
      "outputs": [
        {
          "output_type": "stream",
          "name": "stdout",
          "text": [
            "Epoch 1/100\n",
            "1/1 [==============================] - 3s 3s/step - loss: 14.3385 - mae: 14.3385\n",
            "Epoch 2/100\n",
            "1/1 [==============================] - 0s 14ms/step - loss: 13.6325 - mae: 13.6325\n",
            "Epoch 3/100\n",
            "1/1 [==============================] - 0s 32ms/step - loss: 12.9295 - mae: 12.9295\n",
            "Epoch 4/100\n",
            "1/1 [==============================] - 0s 26ms/step - loss: 12.2247 - mae: 12.2247\n",
            "Epoch 5/100\n",
            "1/1 [==============================] - 0s 28ms/step - loss: 11.5150 - mae: 11.5150\n",
            "Epoch 6/100\n",
            "1/1 [==============================] - 0s 27ms/step - loss: 10.7982 - mae: 10.7982\n",
            "Epoch 7/100\n",
            "1/1 [==============================] - 0s 17ms/step - loss: 10.0723 - mae: 10.0723\n",
            "Epoch 8/100\n",
            "1/1 [==============================] - 0s 39ms/step - loss: 9.3348 - mae: 9.3348\n",
            "Epoch 9/100\n",
            "1/1 [==============================] - 0s 14ms/step - loss: 8.5831 - mae: 8.5831\n",
            "Epoch 10/100\n",
            "1/1 [==============================] - 0s 19ms/step - loss: 7.8145 - mae: 7.8145\n",
            "Epoch 11/100\n",
            "1/1 [==============================] - 0s 18ms/step - loss: 7.0260 - mae: 7.0260\n",
            "Epoch 12/100\n",
            "1/1 [==============================] - 0s 20ms/step - loss: 6.6491 - mae: 6.6491\n",
            "Epoch 13/100\n",
            "1/1 [==============================] - 0s 19ms/step - loss: 6.9521 - mae: 6.9521\n",
            "Epoch 14/100\n",
            "1/1 [==============================] - 0s 15ms/step - loss: 7.2610 - mae: 7.2610\n",
            "Epoch 15/100\n",
            "1/1 [==============================] - 0s 19ms/step - loss: 7.6600 - mae: 7.6600\n",
            "Epoch 16/100\n",
            "1/1 [==============================] - 0s 25ms/step - loss: 7.7949 - mae: 7.7949\n",
            "Epoch 17/100\n",
            "1/1 [==============================] - 0s 19ms/step - loss: 7.7240 - mae: 7.7240\n",
            "Epoch 18/100\n",
            "1/1 [==============================] - 0s 42ms/step - loss: 7.4964 - mae: 7.4964\n",
            "Epoch 19/100\n",
            "1/1 [==============================] - 0s 37ms/step - loss: 7.1492 - mae: 7.1492\n",
            "Epoch 20/100\n",
            "1/1 [==============================] - 0s 16ms/step - loss: 6.7747 - mae: 6.7747\n",
            "Epoch 21/100\n",
            "1/1 [==============================] - 0s 14ms/step - loss: 6.4889 - mae: 6.4889\n",
            "Epoch 22/100\n",
            "1/1 [==============================] - 0s 16ms/step - loss: 6.1933 - mae: 6.1933\n",
            "Epoch 23/100\n",
            "1/1 [==============================] - 0s 16ms/step - loss: 5.9899 - mae: 5.9899\n",
            "Epoch 24/100\n",
            "1/1 [==============================] - 0s 30ms/step - loss: 5.9500 - mae: 5.9500\n",
            "Epoch 25/100\n",
            "1/1 [==============================] - 0s 23ms/step - loss: 6.0453 - mae: 6.0453\n",
            "Epoch 26/100\n",
            "1/1 [==============================] - 0s 28ms/step - loss: 6.1407 - mae: 6.1407\n",
            "Epoch 27/100\n",
            "1/1 [==============================] - 0s 37ms/step - loss: 6.1338 - mae: 6.1338\n",
            "Epoch 28/100\n",
            "1/1 [==============================] - 0s 19ms/step - loss: 6.0370 - mae: 6.0370\n",
            "Epoch 29/100\n",
            "1/1 [==============================] - 0s 16ms/step - loss: 5.8592 - mae: 5.8592\n",
            "Epoch 30/100\n",
            "1/1 [==============================] - 0s 23ms/step - loss: 5.6073 - mae: 5.6073\n",
            "Epoch 31/100\n",
            "1/1 [==============================] - 0s 13ms/step - loss: 5.4077 - mae: 5.4077\n",
            "Epoch 32/100\n",
            "1/1 [==============================] - 0s 15ms/step - loss: 5.2964 - mae: 5.2964\n",
            "Epoch 33/100\n",
            "1/1 [==============================] - 0s 20ms/step - loss: 5.2247 - mae: 5.2247\n",
            "Epoch 34/100\n",
            "1/1 [==============================] - 0s 20ms/step - loss: 5.2271 - mae: 5.2271\n",
            "Epoch 35/100\n",
            "1/1 [==============================] - 0s 21ms/step - loss: 5.1856 - mae: 5.1856\n",
            "Epoch 36/100\n",
            "1/1 [==============================] - 0s 18ms/step - loss: 5.1033 - mae: 5.1033\n",
            "Epoch 37/100\n",
            "1/1 [==============================] - 0s 20ms/step - loss: 4.9835 - mae: 4.9835\n",
            "Epoch 38/100\n",
            "1/1 [==============================] - 0s 17ms/step - loss: 4.8289 - mae: 4.8289\n",
            "Epoch 39/100\n",
            "1/1 [==============================] - 0s 16ms/step - loss: 4.6425 - mae: 4.6425\n",
            "Epoch 40/100\n",
            "1/1 [==============================] - 0s 25ms/step - loss: 4.4885 - mae: 4.4885\n",
            "Epoch 41/100\n",
            "1/1 [==============================] - 0s 19ms/step - loss: 4.3904 - mae: 4.3904\n",
            "Epoch 42/100\n",
            "1/1 [==============================] - 0s 12ms/step - loss: 4.2841 - mae: 4.2841\n",
            "Epoch 43/100\n",
            "1/1 [==============================] - 0s 12ms/step - loss: 4.2062 - mae: 4.2062\n",
            "Epoch 44/100\n",
            "1/1 [==============================] - 0s 15ms/step - loss: 4.0717 - mae: 4.0717\n",
            "Epoch 45/100\n",
            "1/1 [==============================] - 0s 14ms/step - loss: 3.8868 - mae: 3.8868\n",
            "Epoch 46/100\n",
            "1/1 [==============================] - 0s 14ms/step - loss: 3.7295 - mae: 3.7295\n",
            "Epoch 47/100\n",
            "1/1 [==============================] - 0s 15ms/step - loss: 3.5649 - mae: 3.5649\n",
            "Epoch 48/100\n",
            "1/1 [==============================] - 0s 18ms/step - loss: 3.4449 - mae: 3.4449\n",
            "Epoch 49/100\n",
            "1/1 [==============================] - 0s 21ms/step - loss: 3.3167 - mae: 3.3167\n",
            "Epoch 50/100\n",
            "1/1 [==============================] - 0s 25ms/step - loss: 3.1373 - mae: 3.1373\n",
            "Epoch 51/100\n",
            "1/1 [==============================] - 0s 20ms/step - loss: 2.9090 - mae: 2.9090\n",
            "Epoch 52/100\n",
            "1/1 [==============================] - 0s 37ms/step - loss: 2.7318 - mae: 2.7318\n",
            "Epoch 53/100\n",
            "1/1 [==============================] - 0s 20ms/step - loss: 2.5678 - mae: 2.5678\n",
            "Epoch 54/100\n",
            "1/1 [==============================] - 0s 23ms/step - loss: 2.3723 - mae: 2.3723\n",
            "Epoch 55/100\n",
            "1/1 [==============================] - 0s 21ms/step - loss: 2.1394 - mae: 2.1394\n",
            "Epoch 56/100\n",
            "1/1 [==============================] - 0s 19ms/step - loss: 1.9537 - mae: 1.9537\n",
            "Epoch 57/100\n",
            "1/1 [==============================] - 0s 19ms/step - loss: 1.7706 - mae: 1.7706\n",
            "Epoch 58/100\n",
            "1/1 [==============================] - 0s 17ms/step - loss: 1.5236 - mae: 1.5236\n",
            "Epoch 59/100\n",
            "1/1 [==============================] - 0s 18ms/step - loss: 1.2301 - mae: 1.2301\n",
            "Epoch 60/100\n",
            "1/1 [==============================] - 0s 22ms/step - loss: 1.0023 - mae: 1.0023\n",
            "Epoch 61/100\n",
            "1/1 [==============================] - 0s 17ms/step - loss: 0.7262 - mae: 0.7262\n",
            "Epoch 62/100\n",
            "1/1 [==============================] - 0s 18ms/step - loss: 0.4902 - mae: 0.4902\n",
            "Epoch 63/100\n",
            "1/1 [==============================] - 0s 18ms/step - loss: 0.2078 - mae: 0.2078\n",
            "Epoch 64/100\n",
            "1/1 [==============================] - 0s 17ms/step - loss: 0.3096 - mae: 0.3096\n",
            "Epoch 65/100\n",
            "1/1 [==============================] - 0s 17ms/step - loss: 0.4086 - mae: 0.4086\n",
            "Epoch 66/100\n",
            "1/1 [==============================] - 0s 22ms/step - loss: 0.6471 - mae: 0.6471\n",
            "Epoch 67/100\n",
            "1/1 [==============================] - 0s 25ms/step - loss: 0.8134 - mae: 0.8134\n",
            "Epoch 68/100\n",
            "1/1 [==============================] - 0s 22ms/step - loss: 0.7548 - mae: 0.7548\n",
            "Epoch 69/100\n",
            "1/1 [==============================] - 0s 20ms/step - loss: 0.8876 - mae: 0.8876\n",
            "Epoch 70/100\n",
            "1/1 [==============================] - 0s 32ms/step - loss: 0.9566 - mae: 0.9566\n",
            "Epoch 71/100\n",
            "1/1 [==============================] - 0s 26ms/step - loss: 0.8026 - mae: 0.8026\n",
            "Epoch 72/100\n",
            "1/1 [==============================] - 0s 26ms/step - loss: 0.6966 - mae: 0.6966\n",
            "Epoch 73/100\n",
            "1/1 [==============================] - 0s 19ms/step - loss: 0.6858 - mae: 0.6858\n",
            "Epoch 74/100\n",
            "1/1 [==============================] - 0s 23ms/step - loss: 0.4917 - mae: 0.4917\n",
            "Epoch 75/100\n",
            "1/1 [==============================] - 0s 26ms/step - loss: 0.3977 - mae: 0.3977\n",
            "Epoch 76/100\n",
            "1/1 [==============================] - 0s 14ms/step - loss: 0.3447 - mae: 0.3447\n",
            "Epoch 77/100\n",
            "1/1 [==============================] - 0s 22ms/step - loss: 0.0357 - mae: 0.0357\n",
            "Epoch 78/100\n",
            "1/1 [==============================] - 0s 13ms/step - loss: 0.5144 - mae: 0.5144\n",
            "Epoch 79/100\n",
            "1/1 [==============================] - 0s 18ms/step - loss: 0.6693 - mae: 0.6693\n",
            "Epoch 80/100\n",
            "1/1 [==============================] - 0s 11ms/step - loss: 0.5540 - mae: 0.5540\n",
            "Epoch 81/100\n",
            "1/1 [==============================] - 0s 11ms/step - loss: 0.3566 - mae: 0.3566\n",
            "Epoch 82/100\n",
            "1/1 [==============================] - 0s 16ms/step - loss: 0.4879 - mae: 0.4879\n",
            "Epoch 83/100\n",
            "1/1 [==============================] - 0s 22ms/step - loss: 0.4543 - mae: 0.4543\n",
            "Epoch 84/100\n",
            "1/1 [==============================] - 0s 12ms/step - loss: 0.2954 - mae: 0.2954\n",
            "Epoch 85/100\n",
            "1/1 [==============================] - 0s 11ms/step - loss: 0.3581 - mae: 0.3581\n",
            "Epoch 86/100\n",
            "1/1 [==============================] - 0s 10ms/step - loss: 0.2428 - mae: 0.2428\n",
            "Epoch 87/100\n",
            "1/1 [==============================] - 0s 17ms/step - loss: 0.1577 - mae: 0.1577\n",
            "Epoch 88/100\n",
            "1/1 [==============================] - 0s 11ms/step - loss: 0.2087 - mae: 0.2087\n",
            "Epoch 89/100\n",
            "1/1 [==============================] - 0s 23ms/step - loss: 0.1732 - mae: 0.1732\n",
            "Epoch 90/100\n",
            "1/1 [==============================] - 0s 13ms/step - loss: 0.2414 - mae: 0.2414\n",
            "Epoch 91/100\n",
            "1/1 [==============================] - 0s 21ms/step - loss: 0.1802 - mae: 0.1802\n",
            "Epoch 92/100\n",
            "1/1 [==============================] - 0s 25ms/step - loss: 0.1706 - mae: 0.1706\n",
            "Epoch 93/100\n",
            "1/1 [==============================] - 0s 22ms/step - loss: 0.1644 - mae: 0.1644\n",
            "Epoch 94/100\n",
            "1/1 [==============================] - 0s 11ms/step - loss: 0.0686 - mae: 0.0686\n",
            "Epoch 95/100\n",
            "1/1 [==============================] - 0s 12ms/step - loss: 0.1666 - mae: 0.1666\n",
            "Epoch 96/100\n",
            "1/1 [==============================] - 0s 16ms/step - loss: 0.1997 - mae: 0.1997\n",
            "Epoch 97/100\n",
            "1/1 [==============================] - 0s 13ms/step - loss: 0.2246 - mae: 0.2246\n",
            "Epoch 98/100\n",
            "1/1 [==============================] - 0s 20ms/step - loss: 0.2410 - mae: 0.2410\n",
            "Epoch 99/100\n",
            "1/1 [==============================] - 0s 22ms/step - loss: 0.1797 - mae: 0.1797\n",
            "Epoch 100/100\n",
            "1/1 [==============================] - 0s 13ms/step - loss: 0.1224 - mae: 0.1224\n"
          ]
        },
        {
          "output_type": "execute_result",
          "data": {
            "text/plain": [
              "<keras.src.callbacks.History at 0x7de524346440>"
            ]
          },
          "metadata": {},
          "execution_count": 17
        }
      ]
    },
    {
      "cell_type": "code",
      "source": [
        "# Let's remind ourselves about the data\n",
        "X, y"
      ],
      "metadata": {
        "colab": {
          "base_uri": "https://localhost:8080/"
        },
        "id": "Df02HdRMW1bp",
        "outputId": "ecc34a0e-4eb6-4070-a9b2-e53d8d550a5e"
      },
      "execution_count": 18,
      "outputs": [
        {
          "output_type": "execute_result",
          "data": {
            "text/plain": [
              "(<tf.Tensor: shape=(8,), dtype=float32, numpy=array([-7., -4., -1.,  2.,  5.,  8., 11., 14.], dtype=float32)>,\n",
              " <tf.Tensor: shape=(8,), dtype=float32, numpy=array([ 3.,  6.,  9., 12., 15., 18., 21., 24.], dtype=float32)>)"
            ]
          },
          "metadata": {},
          "execution_count": 18
        }
      ]
    },
    {
      "cell_type": "code",
      "source": [
        "# Let's try to make a prediction\n",
        "model.predict([17.0])"
      ],
      "metadata": {
        "colab": {
          "base_uri": "https://localhost:8080/"
        },
        "id": "-swGWav7W8La",
        "outputId": "d3fb9f8d-6c70-4e5e-c773-ec41a72d6e6c"
      },
      "execution_count": 19,
      "outputs": [
        {
          "output_type": "stream",
          "name": "stdout",
          "text": [
            "1/1 [==============================] - 0s 204ms/step\n"
          ]
        },
        {
          "output_type": "execute_result",
          "data": {
            "text/plain": [
              "array([[27.520218]], dtype=float32)"
            ]
          },
          "metadata": {},
          "execution_count": 19
        }
      ]
    },
    {
      "cell_type": "markdown",
      "source": [
        "## Evaluating a model\n",
        "In practice, a typical workflow you'll go through when building neural networks is:\n",
        "\n",
        "```\n",
        "Build a model -> Fit it -> evaluate it -> tweak a model ->  -> Fit it -> evaluate it -> tweak a model -> Fit it -> evaluate it -> tweak a model\n",
        "```"
      ],
      "metadata": {
        "id": "eaHE71W9aYqi"
      }
    },
    {
      "cell_type": "markdown",
      "source": [
        "When it comes to evaluation... there are 3 words you should memorise\n",
        "> \"Visualize, Visualize, Visualize\"\n",
        "\n",
        "It's good idea to visualize:\n",
        "\n",
        "* The data - what data we are working with? What does it look like?\n",
        "* The model itself - what does a model look like?\n",
        "* The training of model - how does a model perform while it learns?\n",
        "* The predictions of the model - how do the the predictions of a model line up against the ground truth (the original labels)?\n"
      ],
      "metadata": {
        "id": "5uabykW803SO"
      }
    },
    {
      "cell_type": "code",
      "source": [
        "# Make a bigger dataset\n",
        "X = tf.range(-100, 100, 4)\n",
        "X"
      ],
      "metadata": {
        "colab": {
          "base_uri": "https://localhost:8080/"
        },
        "id": "xeMMos6g1W3s",
        "outputId": "537f450f-6c29-4295-cd13-d109a0868c32"
      },
      "execution_count": 20,
      "outputs": [
        {
          "output_type": "execute_result",
          "data": {
            "text/plain": [
              "<tf.Tensor: shape=(50,), dtype=int32, numpy=\n",
              "array([-100,  -96,  -92,  -88,  -84,  -80,  -76,  -72,  -68,  -64,  -60,\n",
              "        -56,  -52,  -48,  -44,  -40,  -36,  -32,  -28,  -24,  -20,  -16,\n",
              "        -12,   -8,   -4,    0,    4,    8,   12,   16,   20,   24,   28,\n",
              "         32,   36,   40,   44,   48,   52,   56,   60,   64,   68,   72,\n",
              "         76,   80,   84,   88,   92,   96], dtype=int32)>"
            ]
          },
          "metadata": {},
          "execution_count": 20
        }
      ]
    },
    {
      "cell_type": "code",
      "source": [
        "# Make labels for dataset\n",
        "\n",
        "y = X + 10\n",
        "y"
      ],
      "metadata": {
        "colab": {
          "base_uri": "https://localhost:8080/"
        },
        "id": "SzjJOu9L2lyu",
        "outputId": "61993cdf-0d71-4c45-c6bf-72748752ab22"
      },
      "execution_count": 21,
      "outputs": [
        {
          "output_type": "execute_result",
          "data": {
            "text/plain": [
              "<tf.Tensor: shape=(50,), dtype=int32, numpy=\n",
              "array([-90, -86, -82, -78, -74, -70, -66, -62, -58, -54, -50, -46, -42,\n",
              "       -38, -34, -30, -26, -22, -18, -14, -10,  -6,  -2,   2,   6,  10,\n",
              "        14,  18,  22,  26,  30,  34,  38,  42,  46,  50,  54,  58,  62,\n",
              "        66,  70,  74,  78,  82,  86,  90,  94,  98, 102, 106], dtype=int32)>"
            ]
          },
          "metadata": {},
          "execution_count": 21
        }
      ]
    },
    {
      "cell_type": "code",
      "source": [
        "# Visualize the data\n",
        "import matplotlib.pyplot as plt\n",
        "plt.scatter(X, y)\n"
      ],
      "metadata": {
        "colab": {
          "base_uri": "https://localhost:8080/",
          "height": 448
        },
        "id": "tHyQs2bH2v-L",
        "outputId": "19563556-d636-4f05-c2fe-e6414c258219"
      },
      "execution_count": 22,
      "outputs": [
        {
          "output_type": "execute_result",
          "data": {
            "text/plain": [
              "<matplotlib.collections.PathCollection at 0x7de5242ca830>"
            ]
          },
          "metadata": {},
          "execution_count": 22
        },
        {
          "output_type": "display_data",
          "data": {
            "text/plain": [
              "<Figure size 640x480 with 1 Axes>"
            ],
            "image/png": "[encoded data removed]"
          },
          "metadata": {}
        }
      ]
    },
    {
      "cell_type": "markdown",
      "source": [
        "### The 3 sets...\n",
        "\n",
        "**Training set** - the model learns from this data, which is typically 70-80% of the total data you have available\n",
        "\n",
        "**Validation set** - the model gets tuned on this data, which is typically 10-15% of the data available\n",
        "\n",
        "**Test set** - the model gets evaluated on this data to test what it has learned, which is typically 10-15% of the data available.\n"
      ],
      "metadata": {
        "id": "LtFy_UgJ3GvN"
      }
    },
    {
      "cell_type": "code",
      "source": [
        "# Check the length of how many samples we have\n",
        "\n",
        "len(X)"
      ],
      "metadata": {
        "colab": {
          "base_uri": "https://localhost:8080/"
        },
        "id": "QF3pURD77gDd",
        "outputId": "3b413832-1a22-48db-e210-33ea7bbe2641"
      },
      "execution_count": 23,
      "outputs": [
        {
          "output_type": "execute_result",
          "data": {
            "text/plain": [
              "50"
            ]
          },
          "metadata": {},
          "execution_count": 23
        }
      ]
    },
    {
      "cell_type": "code",
      "source": [
        "# Split the data into train and test sets\n",
        "\n",
        "X_train = X[:40] # first 40 are training samples\n",
        "y_train = y[:40]\n",
        "\n",
        "X_test = X[40:] # last 10 are test samples\n",
        "y_test = y[40:]\n",
        "\n",
        "len(X_train), len(X_test), len(y_train), len(y_test)"
      ],
      "metadata": {
        "colab": {
          "base_uri": "https://localhost:8080/"
        },
        "id": "UBaKO6Ob8y7o",
        "outputId": "12533f63-bf9a-4f68-c5ff-16b1d6304521"
      },
      "execution_count": 24,
      "outputs": [
        {
          "output_type": "execute_result",
          "data": {
            "text/plain": [
              "(40, 10, 40, 10)"
            ]
          },
          "metadata": {},
          "execution_count": 24
        }
      ]
    },
    {
      "cell_type": "markdown",
      "source": [
        "### Visualizing the data\n",
        "\n",
        "Now we've got our data in training and test sets... let's visualize it again!"
      ],
      "metadata": {
        "id": "ijcsjbrW-E_k"
      }
    },
    {
      "cell_type": "code",
      "source": [
        "plt.figure(figsize = (10, 7))\n",
        "\n",
        "# Plot training data in blue\n",
        "\n",
        "plt.scatter(X_train, y_train, c = 'b', label = 'Training data')\n",
        "\n",
        "# Plot test data in green\n",
        "\n",
        "plt.scatter(X_test, y_test, c = 'g', label = 'Test data')\n",
        "\n",
        "# Show legend\n",
        "\n",
        "plt.legend()"
      ],
      "metadata": {
        "colab": {
          "base_uri": "https://localhost:8080/",
          "height": 617
        },
        "id": "dEE_2i2c-b5V",
        "outputId": "bfcbea77-6005-40f9-cb4b-6983023f1536"
      },
      "execution_count": 25,
      "outputs": [
        {
          "output_type": "execute_result",
          "data": {
            "text/plain": [
              "<matplotlib.legend.Legend at 0x7de516f72aa0>"
            ]
          },
          "metadata": {},
          "execution_count": 25
        },
        {
          "output_type": "display_data",
          "data": {
            "text/plain": [
              "<Figure size 1000x700 with 1 Axes>"
            ],
            "image/png": "[encoded data removed]"
          },
          "metadata": {}
        }
      ]
    },
    {
      "cell_type": "code",
      "source": [
        "# Let's have a look at how to build a neural network for our data\n",
        "\n",
        "# 1. Create a model\n",
        "\n",
        "model = tf.keras.Sequential([\n",
        "    tf.keras.layers.Dense(1)\n",
        "])\n",
        "\n",
        "# 2. Compile the model\n",
        "\n",
        "model.compile(loss = tf.keras.losses.mae,\n",
        "              optimizer = tf.keras.optimizers.SGD(),\n",
        "              metrics = [\"mae\"])\n",
        "\n",
        "# 3. Fit the model\n",
        "#model.fit(X_train, y_train, epochs=100)"
      ],
      "metadata": {
        "id": "bOgcmcyu1u1y"
      },
      "execution_count": 26,
      "outputs": []
    },
    {
      "cell_type": "markdown",
      "source": [
        "### Visualizing the model"
      ],
      "metadata": {
        "id": "vAkiEqwg3LD-"
      }
    },
    {
      "cell_type": "code",
      "source": [
        "model.summary()"
      ],
      "metadata": {
        "colab": {
          "base_uri": "https://localhost:8080/",
          "height": 304
        },
        "id": "KZnW3kTH3PXk",
        "outputId": "b0b2239e-a24a-4f26-d9d5-9123006af64f"
      },
      "execution_count": 27,
      "outputs": [
        {
          "output_type": "error",
          "ename": "ValueError",
          "evalue": "ignored",
          "traceback": [
            "\u001b[0;31m---------------------------------------------------------------------------\u001b[0m",
            "\u001b[0;31mValueError\u001b[0m                                Traceback (most recent call last)",
            "\u001b[0;32m<ipython-input-27-5f15418b3570>\u001b[0m in \u001b[0;36m<cell line: 1>\u001b[0;34m()\u001b[0m\n\u001b[0;32m----> 1\u001b[0;31m \u001b[0mmodel\u001b[0m\u001b[0;34m.\u001b[0m\u001b[0msummary\u001b[0m\u001b[0;34m(\u001b[0m\u001b[0;34m)\u001b[0m\u001b[0;34m\u001b[0m\u001b[0;34m\u001b[0m\u001b[0m\n\u001b[0m",
            "\u001b[0;32m/usr/local/lib/python3.10/dist-packages/keras/src/engine/training.py\u001b[0m in \u001b[0;36msummary\u001b[0;34m(self, line_length, positions, print_fn, expand_nested, show_trainable, layer_range)\u001b[0m\n\u001b[1;32m   3401\u001b[0m         \"\"\"\n\u001b[1;32m   3402\u001b[0m         \u001b[0;32mif\u001b[0m \u001b[0;32mnot\u001b[0m \u001b[0mself\u001b[0m\u001b[0;34m.\u001b[0m\u001b[0mbuilt\u001b[0m\u001b[0;34m:\u001b[0m\u001b[0;34m\u001b[0m\u001b[0;34m\u001b[0m\u001b[0m\n\u001b[0;32m-> 3403\u001b[0;31m             raise ValueError(\n\u001b[0m\u001b[1;32m   3404\u001b[0m                 \u001b[0;34m\"This model has not yet been built. \"\u001b[0m\u001b[0;34m\u001b[0m\u001b[0;34m\u001b[0m\u001b[0m\n\u001b[1;32m   3405\u001b[0m                 \u001b[0;34m\"Build the model first by calling `build()` or by calling \"\u001b[0m\u001b[0;34m\u001b[0m\u001b[0;34m\u001b[0m\u001b[0m\n",
            "\u001b[0;31mValueError\u001b[0m: This model has not yet been built. Build the model first by calling `build()` or by calling the model on a batch of data."
          ]
        }
      ]
    },
    {
      "cell_type": "code",
      "source": [
        "# Let's create a model which builds automatically by defining the input_shape argument in the first layer\n",
        "\n",
        "tf.random.set_seed(42)\n",
        "\n",
        "# Create a model (same as above)\n",
        "\n",
        "model = tf.keras.Sequential([\n",
        "    tf.keras.layers.Dense(10, input_shape=[1], name='input_layer'),\n",
        "    tf.keras.layers.Dense(1, name='output_layer')\n",
        "], name='model_1')\n",
        "\n",
        "# Compile a model (same as above)\n",
        "model.compile(loss=tf.keras.losses.mae,\n",
        "              optimizer=tf.keras.optimizers.SGD(),\n",
        "              metrics=[\"mae\"])"
      ],
      "metadata": {
        "id": "KqwQO1Vz3fT7"
      },
      "execution_count": 28,
      "outputs": []
    },
    {
      "cell_type": "code",
      "source": [
        "model.summary()"
      ],
      "metadata": {
        "colab": {
          "base_uri": "https://localhost:8080/"
        },
        "id": "w44moFz24z1e",
        "outputId": "f6080eed-bd46-4a93-f493-cbe8e6499e4e"
      },
      "execution_count": 29,
      "outputs": [
        {
          "output_type": "stream",
          "name": "stdout",
          "text": [
            "Model: \"model_1\"\n",
            "_________________________________________________________________\n",
            " Layer (type)                Output Shape              Param #   \n",
            "=================================================================\n",
            " input_layer (Dense)         (None, 10)                20        \n",
            "                                                                 \n",
            " output_layer (Dense)        (None, 1)                 11        \n",
            "                                                                 \n",
            "=================================================================\n",
            "Total params: 31 (124.00 Byte)\n",
            "Trainable params: 31 (124.00 Byte)\n",
            "Non-trainable params: 0 (0.00 Byte)\n",
            "_________________________________________________________________\n"
          ]
        }
      ]
    },
    {
      "cell_type": "markdown",
      "source": [
        "* Total params - total number of parameters in the model\n",
        "* Trainable parameters - these are the parameters (patterns) the model can update as it trains.\n",
        "* Non-trainable params - these parameters aren't updated during training (this is typical when you bring in already learn patterns or parameters from other models during **transfer learning**)\n",
        "\n",
        "📖**Resource:** For a more in depth overview of the trainable parameters within a layer, check out MIT's introduction to deep learning.\n",
        "\n",
        "⚓**Exercise** Try playing around with the number of hidden units in the dense layer, see how that effects the number of parameters total and trainable by calling model.summary()"
      ],
      "metadata": {
        "id": "CmDgPusF5KMt"
      }
    },
    {
      "cell_type": "code",
      "source": [
        "# Let's fit our model to the training data\n",
        "model.fit(X_train, y_train, epochs=100, verbose=0)"
      ],
      "metadata": {
        "colab": {
          "base_uri": "https://localhost:8080/"
        },
        "id": "134jJyEB8bdn",
        "outputId": "0dfcc0c5-6009-4d9c-e53f-449feb1ccc23"
      },
      "execution_count": 51,
      "outputs": [
        {
          "output_type": "execute_result",
          "data": {
            "text/plain": [
              "<keras.src.callbacks.History at 0x7de524498670>"
            ]
          },
          "metadata": {},
          "execution_count": 51
        }
      ]
    },
    {
      "cell_type": "code",
      "source": [
        "# Get a summary of our model\n",
        "model.summary()"
      ],
      "metadata": {
        "colab": {
          "base_uri": "https://localhost:8080/"
        },
        "id": "2NiEDCahh03K",
        "outputId": "9a545a2c-c4ca-44bc-8f40-829a6bd1c759"
      },
      "execution_count": 31,
      "outputs": [
        {
          "output_type": "stream",
          "name": "stdout",
          "text": [
            "Model: \"model_1\"\n",
            "_________________________________________________________________\n",
            " Layer (type)                Output Shape              Param #   \n",
            "=================================================================\n",
            " input_layer (Dense)         (None, 10)                20        \n",
            "                                                                 \n",
            " output_layer (Dense)        (None, 1)                 11        \n",
            "                                                                 \n",
            "=================================================================\n",
            "Total params: 31 (124.00 Byte)\n",
            "Trainable params: 31 (124.00 Byte)\n",
            "Non-trainable params: 0 (0.00 Byte)\n",
            "_________________________________________________________________\n"
          ]
        }
      ]
    },
    {
      "cell_type": "code",
      "source": [
        "from tensorflow.keras.utils import plot_model\n",
        "plot_model(model=model, show_shapes=True)"
      ],
      "metadata": {
        "colab": {
          "base_uri": "https://localhost:8080/",
          "height": 312
        },
        "id": "j6jgjS84iTKZ",
        "outputId": "1877a3cd-6aae-4ab9-dca1-a4cf577c83f5"
      },
      "execution_count": 32,
      "outputs": [
        {
          "output_type": "execute_result",
          "data": {
            "image/png": "[encoded data removed]",
            "text/plain": [
              "<IPython.core.display.Image object>"
            ]
          },
          "metadata": {},
          "execution_count": 32
        }
      ]
    },
    {
      "cell_type": "markdown",
      "source": [
        "### Visualizing our model's predictions\n",
        "To visualize predictions it's a good idea to plot them against the ground truth labels.\n",
        "\n",
        "Often you'll see this in the form of `y_test` or `y_true` versus `y_pred` (ground truth versus your model predictions)"
      ],
      "metadata": {
        "id": "4YPEnsgikETD"
      }
    },
    {
      "cell_type": "code",
      "source": [
        "# Make some predictions\n",
        "\n",
        "y_pred = model.predict(X_test)\n",
        "y_pred"
      ],
      "metadata": {
        "colab": {
          "base_uri": "https://localhost:8080/"
        },
        "id": "Kj-An0oa4znY",
        "outputId": "a1cfd98b-dc51-4dbb-d7fd-67900d335ea7"
      },
      "execution_count": 33,
      "outputs": [
        {
          "output_type": "stream",
          "name": "stdout",
          "text": [
            "1/1 [==============================] - 0s 63ms/step\n"
          ]
        },
        {
          "output_type": "execute_result",
          "data": {
            "text/plain": [
              "array([[ 75.80161 ],\n",
              "       [ 80.739914],\n",
              "       [ 85.678215],\n",
              "       [ 90.616516],\n",
              "       [ 95.55481 ],\n",
              "       [100.49312 ],\n",
              "       [105.43141 ],\n",
              "       [110.36972 ],\n",
              "       [115.308014],\n",
              "       [120.246315]], dtype=float32)"
            ]
          },
          "metadata": {},
          "execution_count": 33
        }
      ]
    },
    {
      "cell_type": "markdown",
      "source": [
        "**Note** If you feel like you are going to use some functionality in the future it's a good idea to turn it into a function"
      ],
      "metadata": {
        "id": "cN-qjgtx5Quh"
      }
    },
    {
      "cell_type": "code",
      "source": [
        "# Let's create a plotting function\n",
        "def plot_predictions(train_data = X_train,\n",
        "                     train_labels = y_train,\n",
        "                     test_data=X_test,\n",
        "                     test_labels=y_test,\n",
        "                     predictions=y_pred):\n",
        "  \"\"\"\n",
        "  Plots training data, test data and compares predictions to ground truth labels\n",
        "  \"\"\"\n",
        "  plt.figure(figsize=(10, 7))\n",
        "  # Plot training data in blue\n",
        "  plt.scatter(train_data, train_labels, c = \"b\", label = \"Training data\")\n",
        "  # Plot testing data in green\n",
        "  plt.scatter(test_data, test_labels, c=\"g\", label=\"Testing data\")\n",
        "  # Plot models predictions in red\n",
        "  plt.scatter(test_data, predictions, c = \"r\", label = \"Predictions\")\n",
        "  plt.legend()"
      ],
      "metadata": {
        "id": "GpqbggKN5Ehy"
      },
      "execution_count": 34,
      "outputs": []
    },
    {
      "cell_type": "code",
      "source": [
        "plot_predictions(train_data=X_train,\n",
        "                 train_labels=y_train,\n",
        "                 test_data=X_test,\n",
        "                 test_labels=y_test,\n",
        "                 predictions=y_pred)"
      ],
      "metadata": {
        "colab": {
          "base_uri": "https://localhost:8080/",
          "height": 599
        },
        "id": "77AWq7aL7WCF",
        "outputId": "e6b9c5af-00b5-441d-9083-7dc5f95b2be0"
      },
      "execution_count": 35,
      "outputs": [
        {
          "output_type": "display_data",
          "data": {
            "text/plain": [
              "<Figure size 1000x700 with 1 Axes>"
            ],
            "image/png": "[encoded data removed]"
          },
          "metadata": {}
        }
      ]
    },
    {
      "cell_type": "markdown",
      "source": [
        "### Evaluating our model's predictions with regression evaluation metrics.\n",
        "Depending on the problem you are working on, there will be different evaluation metric to evaluate your model's performance.\n",
        "\n",
        "Since we are working on a regression, two of the main metrics:\n",
        "* MAE - mean absolute error, \"on average\", how wrong is each of my model's predictions\"\n",
        "* MSE - mean square error, \"square the average errors\""
      ],
      "metadata": {
        "id": "jlkrCCOI7zpi"
      }
    },
    {
      "cell_type": "code",
      "source": [
        "# Evaluate the model on the test set\n",
        "model.evaluate(X_test, y_test)"
      ],
      "metadata": {
        "colab": {
          "base_uri": "https://localhost:8080/"
        },
        "id": "cRkOZV8yHjmQ",
        "outputId": "9dcadf8f-44da-44ec-afba-2b672706dc5a"
      },
      "execution_count": 36,
      "outputs": [
        {
          "output_type": "stream",
          "name": "stdout",
          "text": [
            "1/1 [==============================] - 0s 210ms/step - loss: 10.0240 - mae: 10.0240\n"
          ]
        },
        {
          "output_type": "execute_result",
          "data": {
            "text/plain": [
              "[10.023963928222656, 10.023963928222656]"
            ]
          },
          "metadata": {},
          "execution_count": 36
        }
      ]
    },
    {
      "cell_type": "code",
      "source": [
        "# Calculate the mean absolute error\n",
        "mae = tf.metrics.mean_absolute_error(y_true = y_test,\n",
        "                                     y_pred = tf.constant(y_pred))\n",
        "mae"
      ],
      "metadata": {
        "colab": {
          "base_uri": "https://localhost:8080/"
        },
        "id": "i-eLUncBJ1YQ",
        "outputId": "5e6fa294-4e9f-48dd-c778-14fce9951c0a"
      },
      "execution_count": 37,
      "outputs": [
        {
          "output_type": "execute_result",
          "data": {
            "text/plain": [
              "<tf.Tensor: shape=(10,), dtype=float32, numpy=\n",
              "array([13.719032, 11.304034, 10.064357, 10.123303, 11.421924, 13.895871,\n",
              "       17.54513 , 22.36972 , 27.308014, 32.246315], dtype=float32)>"
            ]
          },
          "metadata": {},
          "execution_count": 37
        }
      ]
    },
    {
      "cell_type": "code",
      "source": [
        "y_pred"
      ],
      "metadata": {
        "colab": {
          "base_uri": "https://localhost:8080/"
        },
        "id": "QouKt4idKD9_",
        "outputId": "9b338c71-6fa1-40c4-905f-dae4404bf645"
      },
      "execution_count": 38,
      "outputs": [
        {
          "output_type": "execute_result",
          "data": {
            "text/plain": [
              "array([[ 75.80161 ],\n",
              "       [ 80.739914],\n",
              "       [ 85.678215],\n",
              "       [ 90.616516],\n",
              "       [ 95.55481 ],\n",
              "       [100.49312 ],\n",
              "       [105.43141 ],\n",
              "       [110.36972 ],\n",
              "       [115.308014],\n",
              "       [120.246315]], dtype=float32)"
            ]
          },
          "metadata": {},
          "execution_count": 38
        }
      ]
    },
    {
      "cell_type": "code",
      "source": [
        "y_test"
      ],
      "metadata": {
        "colab": {
          "base_uri": "https://localhost:8080/"
        },
        "id": "9Sefo97aKFI7",
        "outputId": "9cae69e5-e5a3-4032-e7ba-94bd9f373d57"
      },
      "execution_count": 39,
      "outputs": [
        {
          "output_type": "execute_result",
          "data": {
            "text/plain": [
              "<tf.Tensor: shape=(10,), dtype=int32, numpy=array([ 70,  74,  78,  82,  86,  90,  94,  98, 102, 106], dtype=int32)>"
            ]
          },
          "metadata": {},
          "execution_count": 39
        }
      ]
    },
    {
      "cell_type": "code",
      "source": [
        "tf.squeeze(y_pred)"
      ],
      "metadata": {
        "colab": {
          "base_uri": "https://localhost:8080/"
        },
        "id": "HicAw1FZtSAJ",
        "outputId": "d1e9673c-b015-4a20-e991-243b9635576b"
      },
      "execution_count": 40,
      "outputs": [
        {
          "output_type": "execute_result",
          "data": {
            "text/plain": [
              "<tf.Tensor: shape=(10,), dtype=float32, numpy=\n",
              "array([ 75.80161 ,  80.739914,  85.678215,  90.616516,  95.55481 ,\n",
              "       100.49312 , 105.43141 , 110.36972 , 115.308014, 120.246315],\n",
              "      dtype=float32)>"
            ]
          },
          "metadata": {},
          "execution_count": 40
        }
      ]
    },
    {
      "cell_type": "code",
      "source": [
        "# Calculate the mean absolute error\n",
        "mae = tf.metrics.mean_absolute_error(y_true = y_test,\n",
        "                                     y_pred = tf.squeeze(y_pred))\n",
        "mae"
      ],
      "metadata": {
        "colab": {
          "base_uri": "https://localhost:8080/"
        },
        "id": "a6iqOUVwtZ-A",
        "outputId": "29817af4-e62c-44b1-8e65-be054adc7c97"
      },
      "execution_count": 41,
      "outputs": [
        {
          "output_type": "execute_result",
          "data": {
            "text/plain": [
              "<tf.Tensor: shape=(), dtype=float32, numpy=10.023965>"
            ]
          },
          "metadata": {},
          "execution_count": 41
        }
      ]
    },
    {
      "cell_type": "code",
      "source": [
        "# Calculate the mean squared error\n",
        "mse = tf.metrics.mean_squared_error(y_true = y_test,\n",
        "                                     y_pred = tf.squeeze(y_pred))\n",
        "mse"
      ],
      "metadata": {
        "colab": {
          "base_uri": "https://localhost:8080/"
        },
        "id": "4xD8KYWZt840",
        "outputId": "4ff8b6ec-ab62-435e-8b88-883c0e1e70a4"
      },
      "execution_count": 45,
      "outputs": [
        {
          "output_type": "execute_result",
          "data": {
            "text/plain": [
              "<tf.Tensor: shape=(), dtype=float32, numpy=107.74324>"
            ]
          },
          "metadata": {},
          "execution_count": 45
        }
      ]
    },
    {
      "cell_type": "code",
      "source": [
        "# Make some functions to reause MAE and MSE\n",
        "def mae(y_true, y_pred):\n",
        "  return tf.metrics.mean_absolute_error(y_true = y_true,\n",
        "                                        y_pred = tf.squeeze(y_pred))\n",
        "\n",
        "def mse(y_true, y_pred):\n",
        "  return tf.metrics.mean_squared_error(y_true = y_true,\n",
        "                                       y_pred = tf.squeeze(y_pred))"
      ],
      "metadata": {
        "id": "eJtlBX8yuySQ"
      },
      "execution_count": 66,
      "outputs": []
    },
    {
      "cell_type": "markdown",
      "source": [
        "### Running experiments to i mprove our model\n",
        "\n",
        "```\n",
        "Build a model -> fit it -> evaluate it -> tweak it -> fit it -> evaluate it -> tweak it -> fit it -> evaluate it ...\n",
        "```\n",
        "1. Get more data - get more examples for you model to train on (more opportunities to learn patterns or relationships between features and labels)\n",
        "2. Make your model larger (using more complex model) - this might come in the form of more layers or more hidden units in eaxh layer.\n",
        "3. Train for longer - give your model more of a chance to find a patterns in the data\n",
        "\n",
        "Lets do 3 modelling experiments.\n",
        "\n",
        "1. `model_1` - same as the original model, 1 layer, trained for 100 epochs.\n",
        "2. `model_2` - 2 layers, trained for 100 epochs.\n",
        "3. `model_3` - 2 layers, trained for 500 epochs."
      ],
      "metadata": {
        "id": "TP8bORXObTgL"
      }
    },
    {
      "cell_type": "markdown",
      "source": [
        "**Build** `model_1`"
      ],
      "metadata": {
        "id": "mY_sCQBneU1H"
      }
    },
    {
      "cell_type": "code",
      "source": [
        "# Set random seed\n",
        "tf.random.set_seed(42)\n",
        "# 1. Create the model\n",
        "model_1 = tf.keras.Sequential([\n",
        "    tf.keras.layers.Dense(1)\n",
        "])\n",
        "\n",
        "# 2. Compile the model\n",
        "model_1.compile(loss = tf.keras.losses.mae,\n",
        "                optimizer = tf.keras.optimizers.SGD(),\n",
        "                metrics = ['mae'])\n",
        "\n",
        "# 3. Fit the model\n",
        "model_1.fit(tf.expand_dims(X_train, axis = -1), y_train, epochs = 100)"
      ],
      "metadata": {
        "colab": {
          "base_uri": "https://localhost:8080/"
        },
        "id": "2VjtBjM6b5yr",
        "outputId": "d1f4c80d-2cf2-4670-d878-891e42affd7e"
      },
      "execution_count": 52,
      "outputs": [
        {
          "output_type": "stream",
          "name": "stdout",
          "text": [
            "Epoch 1/100\n",
            "2/2 [==============================] - 1s 25ms/step - loss: 50.1545 - mae: 50.1545\n",
            "Epoch 2/100\n",
            "2/2 [==============================] - 0s 12ms/step - loss: 17.4200 - mae: 17.4200\n",
            "Epoch 3/100\n",
            "2/2 [==============================] - 0s 10ms/step - loss: 16.6700 - mae: 16.6700\n",
            "Epoch 4/100\n",
            "2/2 [==============================] - 0s 11ms/step - loss: 8.9762 - mae: 8.9762\n",
            "Epoch 5/100\n",
            "2/2 [==============================] - 0s 11ms/step - loss: 11.1369 - mae: 11.1369\n",
            "Epoch 6/100\n",
            "2/2 [==============================] - 0s 11ms/step - loss: 10.2848 - mae: 10.2848\n",
            "Epoch 7/100\n",
            "2/2 [==============================] - 0s 11ms/step - loss: 9.2862 - mae: 9.2862\n",
            "Epoch 8/100\n",
            "2/2 [==============================] - 0s 10ms/step - loss: 9.1968 - mae: 9.1968\n",
            "Epoch 9/100\n",
            "2/2 [==============================] - 0s 19ms/step - loss: 11.8446 - mae: 11.8446\n",
            "Epoch 10/100\n",
            "2/2 [==============================] - 0s 15ms/step - loss: 13.7825 - mae: 13.7825\n",
            "Epoch 11/100\n",
            "2/2 [==============================] - 0s 11ms/step - loss: 11.8795 - mae: 11.8795\n",
            "Epoch 12/100\n",
            "2/2 [==============================] - 0s 12ms/step - loss: 16.3022 - mae: 16.3022\n",
            "Epoch 13/100\n",
            "2/2 [==============================] - 0s 11ms/step - loss: 11.8729 - mae: 11.8729\n",
            "Epoch 14/100\n",
            "2/2 [==============================] - 0s 12ms/step - loss: 13.7756 - mae: 13.7756\n",
            "Epoch 15/100\n",
            "2/2 [==============================] - 0s 14ms/step - loss: 11.1588 - mae: 11.1588\n",
            "Epoch 16/100\n",
            "2/2 [==============================] - 0s 12ms/step - loss: 8.6261 - mae: 8.6261\n",
            "Epoch 17/100\n",
            "2/2 [==============================] - 0s 20ms/step - loss: 13.8234 - mae: 13.8234\n",
            "Epoch 18/100\n",
            "2/2 [==============================] - 0s 20ms/step - loss: 11.6957 - mae: 11.6957\n",
            "Epoch 19/100\n",
            "2/2 [==============================] - 0s 18ms/step - loss: 17.6554 - mae: 17.6554\n",
            "Epoch 20/100\n",
            "2/2 [==============================] - 0s 13ms/step - loss: 14.7920 - mae: 14.7920\n",
            "Epoch 21/100\n",
            "2/2 [==============================] - 0s 15ms/step - loss: 10.7168 - mae: 10.7168\n",
            "Epoch 22/100\n",
            "2/2 [==============================] - 0s 14ms/step - loss: 8.4517 - mae: 8.4517\n",
            "Epoch 23/100\n",
            "2/2 [==============================] - 0s 14ms/step - loss: 9.8457 - mae: 9.8457\n",
            "Epoch 24/100\n",
            "2/2 [==============================] - 0s 12ms/step - loss: 15.9124 - mae: 15.9124\n",
            "Epoch 25/100\n",
            "2/2 [==============================] - 0s 13ms/step - loss: 12.3004 - mae: 12.3004\n",
            "Epoch 26/100\n",
            "2/2 [==============================] - 0s 14ms/step - loss: 13.4693 - mae: 13.4693\n",
            "Epoch 27/100\n",
            "2/2 [==============================] - 0s 21ms/step - loss: 10.8561 - mae: 10.8561\n",
            "Epoch 28/100\n",
            "2/2 [==============================] - 0s 14ms/step - loss: 13.1771 - mae: 13.1771\n",
            "Epoch 29/100\n",
            "2/2 [==============================] - 0s 14ms/step - loss: 9.5767 - mae: 9.5767\n",
            "Epoch 30/100\n",
            "2/2 [==============================] - 0s 14ms/step - loss: 16.8581 - mae: 16.8581\n",
            "Epoch 31/100\n",
            "2/2 [==============================] - 0s 14ms/step - loss: 23.1820 - mae: 23.1820\n",
            "Epoch 32/100\n",
            "2/2 [==============================] - 0s 12ms/step - loss: 7.3142 - mae: 7.3142\n",
            "Epoch 33/100\n",
            "2/2 [==============================] - 0s 11ms/step - loss: 10.4990 - mae: 10.4990\n",
            "Epoch 34/100\n",
            "2/2 [==============================] - 0s 16ms/step - loss: 9.7868 - mae: 9.7868\n",
            "Epoch 35/100\n",
            "2/2 [==============================] - 0s 13ms/step - loss: 8.3785 - mae: 8.3785\n",
            "Epoch 36/100\n",
            "2/2 [==============================] - 0s 38ms/step - loss: 8.5223 - mae: 8.5223\n",
            "Epoch 37/100\n",
            "2/2 [==============================] - 0s 14ms/step - loss: 8.5816 - mae: 8.5816\n",
            "Epoch 38/100\n",
            "2/2 [==============================] - 0s 10ms/step - loss: 9.2267 - mae: 9.2267\n",
            "Epoch 39/100\n",
            "2/2 [==============================] - 0s 13ms/step - loss: 10.1266 - mae: 10.1266\n",
            "Epoch 40/100\n",
            "2/2 [==============================] - 0s 18ms/step - loss: 9.7482 - mae: 9.7482\n",
            "Epoch 41/100\n",
            "2/2 [==============================] - 0s 21ms/step - loss: 8.1033 - mae: 8.1033\n",
            "Epoch 42/100\n",
            "2/2 [==============================] - 0s 10ms/step - loss: 10.4459 - mae: 10.4459\n",
            "Epoch 43/100\n",
            "2/2 [==============================] - 0s 9ms/step - loss: 7.9679 - mae: 7.9679\n",
            "Epoch 44/100\n",
            "2/2 [==============================] - 0s 8ms/step - loss: 17.5482 - mae: 17.5482\n",
            "Epoch 45/100\n",
            "2/2 [==============================] - 0s 12ms/step - loss: 13.3916 - mae: 13.3916\n",
            "Epoch 46/100\n",
            "2/2 [==============================] - 0s 13ms/step - loss: 8.1246 - mae: 8.1246\n",
            "Epoch 47/100\n",
            "2/2 [==============================] - 0s 18ms/step - loss: 8.8588 - mae: 8.8588\n",
            "Epoch 48/100\n",
            "2/2 [==============================] - 0s 17ms/step - loss: 10.2052 - mae: 10.2052\n",
            "Epoch 49/100\n",
            "2/2 [==============================] - 0s 18ms/step - loss: 7.0972 - mae: 7.0972\n",
            "Epoch 50/100\n",
            "2/2 [==============================] - 0s 22ms/step - loss: 9.1226 - mae: 9.1226\n",
            "Epoch 51/100\n",
            "2/2 [==============================] - 0s 10ms/step - loss: 10.6027 - mae: 10.6027\n",
            "Epoch 52/100\n",
            "2/2 [==============================] - 0s 9ms/step - loss: 15.3783 - mae: 15.3783\n",
            "Epoch 53/100\n",
            "2/2 [==============================] - 0s 11ms/step - loss: 14.3797 - mae: 14.3797\n",
            "Epoch 54/100\n",
            "2/2 [==============================] - 0s 8ms/step - loss: 21.7575 - mae: 21.7575\n",
            "Epoch 55/100\n",
            "2/2 [==============================] - 0s 9ms/step - loss: 15.8819 - mae: 15.8819\n",
            "Epoch 56/100\n",
            "2/2 [==============================] - 0s 8ms/step - loss: 10.3851 - mae: 10.3851\n",
            "Epoch 57/100\n",
            "2/2 [==============================] - 0s 11ms/step - loss: 9.7242 - mae: 9.7242\n",
            "Epoch 58/100\n",
            "2/2 [==============================] - 0s 10ms/step - loss: 9.0224 - mae: 9.0224\n",
            "Epoch 59/100\n",
            "2/2 [==============================] - 0s 11ms/step - loss: 10.2702 - mae: 10.2702\n",
            "Epoch 60/100\n",
            "2/2 [==============================] - 0s 9ms/step - loss: 8.1553 - mae: 8.1553\n",
            "Epoch 61/100\n",
            "2/2 [==============================] - 0s 8ms/step - loss: 10.0052 - mae: 10.0052\n",
            "Epoch 62/100\n",
            "2/2 [==============================] - 0s 9ms/step - loss: 7.0706 - mae: 7.0706\n",
            "Epoch 63/100\n",
            "2/2 [==============================] - 0s 9ms/step - loss: 8.5620 - mae: 8.5620\n",
            "Epoch 64/100\n",
            "2/2 [==============================] - 0s 10ms/step - loss: 11.0847 - mae: 11.0847\n",
            "Epoch 65/100\n",
            "2/2 [==============================] - 0s 11ms/step - loss: 12.4082 - mae: 12.4082\n",
            "Epoch 66/100\n",
            "2/2 [==============================] - 0s 8ms/step - loss: 12.9523 - mae: 12.9523\n",
            "Epoch 67/100\n",
            "2/2 [==============================] - 0s 9ms/step - loss: 7.8201 - mae: 7.8201\n",
            "Epoch 68/100\n",
            "2/2 [==============================] - 0s 8ms/step - loss: 11.0652 - mae: 11.0652\n",
            "Epoch 69/100\n",
            "2/2 [==============================] - 0s 9ms/step - loss: 12.7250 - mae: 12.7250\n",
            "Epoch 70/100\n",
            "2/2 [==============================] - 0s 10ms/step - loss: 8.8826 - mae: 8.8826\n",
            "Epoch 71/100\n",
            "2/2 [==============================] - 0s 10ms/step - loss: 9.8486 - mae: 9.8486\n",
            "Epoch 72/100\n",
            "2/2 [==============================] - 0s 8ms/step - loss: 9.9083 - mae: 9.9083\n",
            "Epoch 73/100\n",
            "2/2 [==============================] - 0s 8ms/step - loss: 12.2967 - mae: 12.2967\n",
            "Epoch 74/100\n",
            "2/2 [==============================] - 0s 8ms/step - loss: 10.7356 - mae: 10.7356\n",
            "Epoch 75/100\n",
            "2/2 [==============================] - 0s 8ms/step - loss: 9.5568 - mae: 9.5568\n",
            "Epoch 76/100\n",
            "2/2 [==============================] - 0s 8ms/step - loss: 11.0052 - mae: 11.0052\n",
            "Epoch 77/100\n",
            "2/2 [==============================] - 0s 8ms/step - loss: 11.0753 - mae: 11.0753\n",
            "Epoch 78/100\n",
            "2/2 [==============================] - 0s 7ms/step - loss: 11.5783 - mae: 11.5783\n",
            "Epoch 79/100\n",
            "2/2 [==============================] - 0s 12ms/step - loss: 15.6275 - mae: 15.6275\n",
            "Epoch 80/100\n",
            "2/2 [==============================] - 0s 8ms/step - loss: 11.5732 - mae: 11.5732\n",
            "Epoch 81/100\n",
            "2/2 [==============================] - 0s 8ms/step - loss: 9.4834 - mae: 9.4834\n",
            "Epoch 82/100\n",
            "2/2 [==============================] - 0s 8ms/step - loss: 12.5634 - mae: 12.5634\n",
            "Epoch 83/100\n",
            "2/2 [==============================] - 0s 8ms/step - loss: 8.1640 - mae: 8.1640\n",
            "Epoch 84/100\n",
            "2/2 [==============================] - 0s 8ms/step - loss: 7.5459 - mae: 7.5459\n",
            "Epoch 85/100\n",
            "2/2 [==============================] - 0s 10ms/step - loss: 9.7344 - mae: 9.7344\n",
            "Epoch 86/100\n",
            "2/2 [==============================] - 0s 11ms/step - loss: 9.0413 - mae: 9.0413\n",
            "Epoch 87/100\n",
            "2/2 [==============================] - 0s 11ms/step - loss: 11.6775 - mae: 11.6775\n",
            "Epoch 88/100\n",
            "2/2 [==============================] - 0s 11ms/step - loss: 10.2767 - mae: 10.2767\n",
            "Epoch 89/100\n",
            "2/2 [==============================] - 0s 9ms/step - loss: 6.7461 - mae: 6.7461\n",
            "Epoch 90/100\n",
            "2/2 [==============================] - 0s 8ms/step - loss: 8.1104 - mae: 8.1104\n",
            "Epoch 91/100\n",
            "2/2 [==============================] - 0s 11ms/step - loss: 6.7482 - mae: 6.7482\n",
            "Epoch 92/100\n",
            "2/2 [==============================] - 0s 10ms/step - loss: 10.2050 - mae: 10.2050\n",
            "Epoch 93/100\n",
            "2/2 [==============================] - 0s 8ms/step - loss: 7.5722 - mae: 7.5722\n",
            "Epoch 94/100\n",
            "2/2 [==============================] - 0s 8ms/step - loss: 9.2004 - mae: 9.2004\n",
            "Epoch 95/100\n",
            "2/2 [==============================] - 0s 8ms/step - loss: 10.7516 - mae: 10.7516\n",
            "Epoch 96/100\n",
            "2/2 [==============================] - 0s 9ms/step - loss: 10.3800 - mae: 10.3800\n",
            "Epoch 97/100\n",
            "2/2 [==============================] - 0s 8ms/step - loss: 7.6295 - mae: 7.6295\n",
            "Epoch 98/100\n",
            "2/2 [==============================] - 0s 9ms/step - loss: 8.5724 - mae: 8.5724\n",
            "Epoch 99/100\n",
            "2/2 [==============================] - 0s 9ms/step - loss: 9.3432 - mae: 9.3432\n",
            "Epoch 100/100\n",
            "2/2 [==============================] - 0s 9ms/step - loss: 8.8085 - mae: 8.8085\n"
          ]
        },
        {
          "output_type": "execute_result",
          "data": {
            "text/plain": [
              "<keras.src.callbacks.History at 0x7de513b2ae90>"
            ]
          },
          "metadata": {},
          "execution_count": 52
        }
      ]
    },
    {
      "cell_type": "code",
      "source": [
        "# Make and plot predictions for model_1\n",
        "y_preds_1 = model_1.predict(X_test)\n",
        "plot_predictions(predictions=y_preds_1)"
      ],
      "metadata": {
        "colab": {
          "base_uri": "https://localhost:8080/",
          "height": 655
        },
        "id": "zjCmcPEph_xy",
        "outputId": "5f5328af-5665-4326-b423-ec0b0548bc63"
      },
      "execution_count": 80,
      "outputs": [
        {
          "output_type": "stream",
          "name": "stderr",
          "text": [
            "WARNING:tensorflow:5 out of the last 6 calls to <function Model.make_predict_function.<locals>.predict_function at 0x7de524d608b0> triggered tf.function retracing. Tracing is expensive and the excessive number of tracings could be due to (1) creating @tf.function repeatedly in a loop, (2) passing tensors with different shapes, (3) passing Python objects instead of tensors. For (1), please define your @tf.function outside of the loop. For (2), @tf.function has reduce_retracing=True option that can avoid unnecessary retracing. For (3), please refer to https://www.tensorflow.org/guide/function#controlling_retracing and https://www.tensorflow.org/api_docs/python/tf/function for  more details.\n"
          ]
        },
        {
          "output_type": "stream",
          "name": "stdout",
          "text": [
            "1/1 [==============================] - 0s 78ms/step\n"
          ]
        },
        {
          "output_type": "display_data",
          "data": {
            "text/plain": [
              "<Figure size 1000x700 with 1 Axes>"
            ],
            "image/png": "[encoded data removed]"
          },
          "metadata": {}
        }
      ]
    },
    {
      "cell_type": "code",
      "source": [
        "tf.constant(y_preds_1), tf.squeeze(y_preds_1)"
      ],
      "metadata": {
        "colab": {
          "base_uri": "https://localhost:8080/"
        },
        "id": "YF2gQyySjWCE",
        "outputId": "814098e6-389a-402b-de8b-635c3a966475"
      },
      "execution_count": 81,
      "outputs": [
        {
          "output_type": "execute_result",
          "data": {
            "text/plain": [
              "(<tf.Tensor: shape=(10, 1), dtype=float32, numpy=\n",
              " array([[ 74.42394 ],\n",
              "        [ 79.29867 ],\n",
              "        [ 84.17339 ],\n",
              "        [ 89.04811 ],\n",
              "        [ 93.92283 ],\n",
              "        [ 98.797554],\n",
              "        [103.67228 ],\n",
              "        [108.547   ],\n",
              "        [113.421715],\n",
              "        [118.29644 ]], dtype=float32)>,\n",
              " <tf.Tensor: shape=(10,), dtype=float32, numpy=\n",
              " array([ 74.42394 ,  79.29867 ,  84.17339 ,  89.04811 ,  93.92283 ,\n",
              "         98.797554, 103.67228 , 108.547   , 113.421715, 118.29644 ],\n",
              "       dtype=float32)>)"
            ]
          },
          "metadata": {},
          "execution_count": 81
        }
      ]
    },
    {
      "cell_type": "code",
      "source": [
        "# Calculate model_1 evaluation metrics\n",
        "mae_1 = mae(y_test, y_preds_1)\n",
        "mse_1 = mse(y_test, y_preds_1)\n",
        "mae_1, mse_1"
      ],
      "metadata": {
        "colab": {
          "base_uri": "https://localhost:8080/"
        },
        "id": "b_GPftVciark",
        "outputId": "3f94b693-1dea-4db6-8c68-6c588a6cc50b"
      },
      "execution_count": 82,
      "outputs": [
        {
          "output_type": "execute_result",
          "data": {
            "text/plain": [
              "(<tf.Tensor: shape=(), dtype=float32, numpy=8.360193>,\n",
              " <tf.Tensor: shape=(), dtype=float32, numpy=76.205215>)"
            ]
          },
          "metadata": {},
          "execution_count": 82
        }
      ]
    },
    {
      "cell_type": "markdown",
      "source": [
        "**Build `model_2`**\n",
        "\n",
        "* 2 dense layers, trained for 100 epochs"
      ],
      "metadata": {
        "id": "cfq1AhUgkBOj"
      }
    },
    {
      "cell_type": "code",
      "source": [
        "# Set random seed\n",
        "tf.random.set_seed(42)\n",
        "\n",
        "# 2. Create the model\n",
        "model_2 = tf.keras.Sequential([\n",
        "    tf.keras.layers.Dense(10),\n",
        "    tf.keras.layers.Dense(1)\n",
        "])\n",
        "\n",
        "# 2. Compile the model\n",
        "model_2.compile(loss = tf.keras.losses.mae,\n",
        "            optimizer = tf.keras.optimizers.SGD(),\n",
        "            metrics = ['mse'])\n",
        "\n",
        "# 3. Fit the model\n",
        "model_2.fit(tf.expand_dims(X_train, axis = -1), y_train, epochs = 100)"
      ],
      "metadata": {
        "colab": {
          "base_uri": "https://localhost:8080/"
        },
        "id": "ZJ4LuQjIkSum",
        "outputId": "71fa8690-4bcb-4a48-ed43-4500aafa982e"
      },
      "execution_count": 90,
      "outputs": [
        {
          "output_type": "stream",
          "name": "stdout",
          "text": [
            "Epoch 1/100\n",
            "2/2 [==============================] - 0s 12ms/step - loss: 22.0397 - mse: 837.7127\n",
            "Epoch 2/100\n",
            "2/2 [==============================] - 0s 9ms/step - loss: 21.8720 - mse: 624.4990\n",
            "Epoch 3/100\n",
            "2/2 [==============================] - 0s 11ms/step - loss: 27.8097 - mse: 1157.4919\n",
            "Epoch 4/100\n",
            "2/2 [==============================] - 0s 13ms/step - loss: 28.3775 - mse: 1197.5996\n",
            "Epoch 5/100\n",
            "2/2 [==============================] - 0s 10ms/step - loss: 13.8133 - mse: 232.3829\n",
            "Epoch 6/100\n",
            "2/2 [==============================] - 0s 10ms/step - loss: 11.0866 - mse: 136.1880\n",
            "Epoch 7/100\n",
            "2/2 [==============================] - 0s 9ms/step - loss: 12.0812 - mse: 184.3757\n",
            "Epoch 8/100\n",
            "2/2 [==============================] - 0s 8ms/step - loss: 10.8638 - mse: 133.5634\n",
            "Epoch 9/100\n",
            "2/2 [==============================] - 0s 8ms/step - loss: 37.5988 - mse: 2178.5227\n",
            "Epoch 10/100\n",
            "2/2 [==============================] - 0s 9ms/step - loss: 25.2488 - mse: 894.3512\n",
            "Epoch 11/100\n",
            "2/2 [==============================] - 0s 8ms/step - loss: 10.2455 - mse: 146.7431\n",
            "Epoch 12/100\n",
            "2/2 [==============================] - 0s 8ms/step - loss: 25.3759 - mse: 896.4237\n",
            "Epoch 13/100\n",
            "2/2 [==============================] - 0s 10ms/step - loss: 16.8402 - mse: 391.3185\n",
            "Epoch 14/100\n",
            "2/2 [==============================] - 0s 10ms/step - loss: 25.6487 - mse: 1025.0298\n",
            "Epoch 15/100\n",
            "2/2 [==============================] - 0s 12ms/step - loss: 17.5246 - mse: 424.8923\n",
            "Epoch 16/100\n",
            "2/2 [==============================] - 0s 9ms/step - loss: 10.0303 - mse: 124.4265\n",
            "Epoch 17/100\n",
            "2/2 [==============================] - 0s 10ms/step - loss: 18.5430 - mse: 459.4385\n",
            "Epoch 18/100\n",
            "2/2 [==============================] - 0s 8ms/step - loss: 11.3643 - mse: 200.1416\n",
            "Epoch 19/100\n",
            "2/2 [==============================] - 0s 11ms/step - loss: 13.9601 - mse: 303.7235\n",
            "Epoch 20/100\n",
            "2/2 [==============================] - 0s 10ms/step - loss: 11.2050 - mse: 146.3352\n",
            "Epoch 21/100\n",
            "2/2 [==============================] - 0s 11ms/step - loss: 17.2811 - mse: 423.0121\n",
            "Epoch 22/100\n",
            "2/2 [==============================] - 0s 8ms/step - loss: 15.5165 - mse: 331.7664\n",
            "Epoch 23/100\n",
            "2/2 [==============================] - 0s 8ms/step - loss: 9.2333 - mse: 118.5007\n",
            "Epoch 24/100\n",
            "2/2 [==============================] - 0s 9ms/step - loss: 17.2609 - mse: 408.2850\n",
            "Epoch 25/100\n",
            "2/2 [==============================] - 0s 10ms/step - loss: 15.9341 - mse: 333.6048\n",
            "Epoch 26/100\n",
            "2/2 [==============================] - 0s 10ms/step - loss: 20.9263 - mse: 649.1144\n",
            "Epoch 27/100\n",
            "2/2 [==============================] - 0s 16ms/step - loss: 25.9723 - mse: 1052.5220\n",
            "Epoch 28/100\n",
            "2/2 [==============================] - 0s 9ms/step - loss: 18.4679 - mse: 539.8107\n",
            "Epoch 29/100\n",
            "2/2 [==============================] - 0s 8ms/step - loss: 9.2377 - mse: 97.5242\n",
            "Epoch 30/100\n",
            "2/2 [==============================] - 0s 8ms/step - loss: 29.0865 - mse: 1511.4244\n",
            "Epoch 31/100\n",
            "2/2 [==============================] - 0s 9ms/step - loss: 52.6803 - mse: 4962.4019\n",
            "Epoch 32/100\n",
            "2/2 [==============================] - 0s 9ms/step - loss: 11.9209 - mse: 206.8826\n",
            "Epoch 33/100\n",
            "2/2 [==============================] - 0s 8ms/step - loss: 15.5155 - mse: 331.7569\n",
            "Epoch 34/100\n",
            "2/2 [==============================] - 0s 9ms/step - loss: 12.6060 - mse: 209.8038\n",
            "Epoch 35/100\n",
            "2/2 [==============================] - 0s 9ms/step - loss: 9.1981 - mse: 91.6720\n",
            "Epoch 36/100\n",
            "2/2 [==============================] - 0s 9ms/step - loss: 16.5011 - mse: 395.8838\n",
            "Epoch 37/100\n",
            "2/2 [==============================] - 0s 10ms/step - loss: 11.0749 - mse: 192.1452\n",
            "Epoch 38/100\n",
            "2/2 [==============================] - 0s 8ms/step - loss: 18.2044 - mse: 436.5385\n",
            "Epoch 39/100\n",
            "2/2 [==============================] - 0s 8ms/step - loss: 19.1374 - mse: 533.1742\n",
            "Epoch 40/100\n",
            "2/2 [==============================] - 0s 8ms/step - loss: 20.5003 - mse: 613.9669\n",
            "Epoch 41/100\n",
            "2/2 [==============================] - 0s 8ms/step - loss: 14.8171 - mse: 274.9628\n",
            "Epoch 42/100\n",
            "2/2 [==============================] - 0s 8ms/step - loss: 12.2095 - mse: 182.7052\n",
            "Epoch 43/100\n",
            "2/2 [==============================] - 0s 10ms/step - loss: 10.6946 - mse: 163.6114\n",
            "Epoch 44/100\n",
            "2/2 [==============================] - 0s 8ms/step - loss: 32.3171 - mse: 1718.0823\n",
            "Epoch 45/100\n",
            "2/2 [==============================] - 0s 8ms/step - loss: 12.4760 - mse: 202.3784\n",
            "Epoch 46/100\n",
            "2/2 [==============================] - 0s 8ms/step - loss: 17.5523 - mse: 461.6862\n",
            "Epoch 47/100\n",
            "2/2 [==============================] - 0s 11ms/step - loss: 15.7400 - mse: 338.7194\n",
            "Epoch 48/100\n",
            "2/2 [==============================] - 0s 11ms/step - loss: 8.3635 - mse: 112.5861\n",
            "Epoch 49/100\n",
            "2/2 [==============================] - 0s 14ms/step - loss: 13.9703 - mse: 268.5653\n",
            "Epoch 50/100\n",
            "2/2 [==============================] - 0s 13ms/step - loss: 12.8153 - mse: 215.0118\n",
            "Epoch 51/100\n",
            "2/2 [==============================] - 0s 11ms/step - loss: 14.8272 - mse: 308.9727\n",
            "Epoch 52/100\n",
            "2/2 [==============================] - 0s 10ms/step - loss: 18.7141 - mse: 528.8824\n",
            "Epoch 53/100\n",
            "2/2 [==============================] - 0s 8ms/step - loss: 24.1577 - mse: 827.7799\n",
            "Epoch 54/100\n",
            "2/2 [==============================] - 0s 13ms/step - loss: 23.2047 - mse: 806.7363\n",
            "Epoch 55/100\n",
            "2/2 [==============================] - 0s 10ms/step - loss: 24.0601 - mse: 871.1976\n",
            "Epoch 56/100\n",
            "2/2 [==============================] - 0s 11ms/step - loss: 11.1639 - mse: 170.9620\n",
            "Epoch 57/100\n",
            "2/2 [==============================] - 0s 9ms/step - loss: 13.1217 - mse: 214.4071\n",
            "Epoch 58/100\n",
            "2/2 [==============================] - 0s 10ms/step - loss: 9.8115 - mse: 106.2731\n",
            "Epoch 59/100\n",
            "2/2 [==============================] - 0s 9ms/step - loss: 13.3107 - mse: 249.7802\n",
            "Epoch 60/100\n",
            "2/2 [==============================] - 0s 9ms/step - loss: 10.8704 - mse: 139.3955\n",
            "Epoch 61/100\n",
            "2/2 [==============================] - 0s 9ms/step - loss: 13.4752 - mse: 241.9303\n",
            "Epoch 62/100\n",
            "2/2 [==============================] - 0s 10ms/step - loss: 17.5125 - mse: 468.0067\n",
            "Epoch 63/100\n",
            "2/2 [==============================] - 0s 12ms/step - loss: 9.1575 - mse: 87.6070\n",
            "Epoch 64/100\n",
            "2/2 [==============================] - 0s 13ms/step - loss: 18.3830 - mse: 491.2299\n",
            "Epoch 65/100\n",
            "2/2 [==============================] - 0s 12ms/step - loss: 10.1129 - mse: 114.8432\n",
            "Epoch 66/100\n",
            "2/2 [==============================] - 0s 10ms/step - loss: 24.2479 - mse: 887.3400\n",
            "Epoch 67/100\n",
            "2/2 [==============================] - 0s 8ms/step - loss: 10.8816 - mse: 142.5905\n",
            "Epoch 68/100\n",
            "2/2 [==============================] - 0s 9ms/step - loss: 10.7641 - mse: 158.9288\n",
            "Epoch 69/100\n",
            "2/2 [==============================] - 0s 8ms/step - loss: 23.2334 - mse: 780.1393\n",
            "Epoch 70/100\n",
            "2/2 [==============================] - 0s 8ms/step - loss: 8.8149 - mse: 143.3380\n",
            "Epoch 71/100\n",
            "2/2 [==============================] - 0s 10ms/step - loss: 15.9841 - mse: 348.0021\n",
            "Epoch 72/100\n",
            "2/2 [==============================] - 0s 8ms/step - loss: 8.1408 - mse: 109.5586\n",
            "Epoch 73/100\n",
            "2/2 [==============================] - 0s 8ms/step - loss: 9.4637 - mse: 153.0125\n",
            "Epoch 74/100\n",
            "2/2 [==============================] - 0s 9ms/step - loss: 28.1619 - mse: 1111.0004\n",
            "Epoch 75/100\n",
            "2/2 [==============================] - 0s 8ms/step - loss: 10.1866 - mse: 145.4170\n",
            "Epoch 76/100\n",
            "2/2 [==============================] - 0s 13ms/step - loss: 13.1352 - mse: 218.2970\n",
            "Epoch 77/100\n",
            "2/2 [==============================] - 0s 12ms/step - loss: 18.3699 - mse: 529.1254\n",
            "Epoch 78/100\n",
            "2/2 [==============================] - 0s 12ms/step - loss: 9.0082 - mse: 91.2219\n",
            "Epoch 79/100\n",
            "2/2 [==============================] - 0s 12ms/step - loss: 23.4190 - mse: 820.1346\n",
            "Epoch 80/100\n",
            "2/2 [==============================] - 0s 12ms/step - loss: 26.0848 - mse: 1045.2131\n",
            "Epoch 81/100\n",
            "2/2 [==============================] - 0s 10ms/step - loss: 11.3709 - mse: 157.7154\n",
            "Epoch 82/100\n",
            "2/2 [==============================] - 0s 12ms/step - loss: 12.5014 - mse: 227.6801\n",
            "Epoch 83/100\n",
            "2/2 [==============================] - 0s 9ms/step - loss: 17.1909 - mse: 384.4968\n",
            "Epoch 84/100\n",
            "2/2 [==============================] - 0s 9ms/step - loss: 6.5918 - mse: 64.5313\n",
            "Epoch 85/100\n",
            "2/2 [==============================] - 0s 9ms/step - loss: 20.2698 - mse: 574.4824\n",
            "Epoch 86/100\n",
            "2/2 [==============================] - 0s 9ms/step - loss: 10.1576 - mse: 115.4127\n",
            "Epoch 87/100\n",
            "2/2 [==============================] - 0s 8ms/step - loss: 24.3111 - mse: 826.8307\n",
            "Epoch 88/100\n",
            "2/2 [==============================] - 0s 9ms/step - loss: 18.9758 - mse: 511.4984\n",
            "Epoch 89/100\n",
            "2/2 [==============================] - 0s 9ms/step - loss: 7.1577 - mse: 70.1392\n",
            "Epoch 90/100\n",
            "2/2 [==============================] - 0s 10ms/step - loss: 18.2648 - mse: 495.3762\n",
            "Epoch 91/100\n",
            "2/2 [==============================] - 0s 11ms/step - loss: 13.3152 - mse: 256.1335\n",
            "Epoch 92/100\n",
            "2/2 [==============================] - 0s 10ms/step - loss: 8.7186 - mse: 127.0654\n",
            "Epoch 93/100\n",
            "2/2 [==============================] - 0s 10ms/step - loss: 14.1754 - mse: 276.0958\n",
            "Epoch 94/100\n",
            "2/2 [==============================] - 0s 8ms/step - loss: 17.1765 - mse: 436.7093\n",
            "Epoch 95/100\n",
            "2/2 [==============================] - 0s 9ms/step - loss: 16.7524 - mse: 384.1517\n",
            "Epoch 96/100\n",
            "2/2 [==============================] - 0s 9ms/step - loss: 11.1209 - mse: 209.7904\n",
            "Epoch 97/100\n",
            "2/2 [==============================] - 0s 10ms/step - loss: 21.1706 - mse: 639.9677\n",
            "Epoch 98/100\n",
            "2/2 [==============================] - 0s 8ms/step - loss: 10.4899 - mse: 139.7141\n",
            "Epoch 99/100\n",
            "2/2 [==============================] - 0s 8ms/step - loss: 14.5924 - mse: 295.9196\n",
            "Epoch 100/100\n",
            "2/2 [==============================] - 0s 8ms/step - loss: 17.7677 - mse: 468.3028\n"
          ]
        },
        {
          "output_type": "execute_result",
          "data": {
            "text/plain": [
              "<keras.src.callbacks.History at 0x7de513c20ca0>"
            ]
          },
          "metadata": {},
          "execution_count": 90
        }
      ]
    },
    {
      "cell_type": "code",
      "source": [
        "# Make and plot predictions for model_2\n",
        "y_preds_2 = model_2.predict(X_test)\n",
        "plot_predictions(predictions=y_preds_2)"
      ],
      "metadata": {
        "colab": {
          "base_uri": "https://localhost:8080/",
          "height": 617
        },
        "id": "OiM1bhjU58Db",
        "outputId": "83bb1051-fdb9-4ae2-feaf-a39a29c210f4"
      },
      "execution_count": 91,
      "outputs": [
        {
          "output_type": "stream",
          "name": "stdout",
          "text": [
            "1/1 [==============================] - 0s 72ms/step\n"
          ]
        },
        {
          "output_type": "display_data",
          "data": {
            "text/plain": [
              "<Figure size 1000x700 with 1 Axes>"
            ],
            "image/png": "[encoded data removed]"
          },
          "metadata": {}
        }
      ]
    },
    {
      "cell_type": "code",
      "source": [
        "# Calculate model_2 evaluation matrix\n",
        "\n",
        "mae_2 = mae(y_test, y_preds_2)\n",
        "mse_2 = mse(y_test, y_preds_2)\n",
        "mae_2, mse_2"
      ],
      "metadata": {
        "colab": {
          "base_uri": "https://localhost:8080/"
        },
        "id": "UxnveU7I7vJ9",
        "outputId": "503e337f-84a6-4031-8c51-917ca7813086"
      },
      "execution_count": 94,
      "outputs": [
        {
          "output_type": "execute_result",
          "data": {
            "text/plain": [
              "(<tf.Tensor: shape=(), dtype=float32, numpy=2.0735574>,\n",
              " <tf.Tensor: shape=(), dtype=float32, numpy=6.288787>)"
            ]
          },
          "metadata": {},
          "execution_count": 94
        }
      ]
    },
    {
      "cell_type": "markdown",
      "source": [
        "**Build** ``model_3``\n",
        "\n",
        "* 2 layers trained for 500 epochs"
      ],
      "metadata": {
        "id": "Zlt8sa8Z8CQZ"
      }
    },
    {
      "cell_type": "code",
      "source": [
        "# Set random seed\n",
        "tf.random.set_seed(42)\n",
        "\n",
        "# 1. Create the model\n",
        "model_3 = tf.keras.Sequential([\n",
        "    tf.keras.layers.Dense(10),\n",
        "    tf.keras.layers.Dense(1)\n",
        "])\n",
        "\n",
        "# 2. Compile the model\n",
        "model_3.compile(loss = tf.keras.losses.mae,\n",
        "                optimizer = tf.keras.optimizers.SGD(),\n",
        "                metrics = ['mae'])\n",
        "\n",
        "# 3. Fit the model\n",
        "model_3.fit(tf.expand_dims(X_train, axis = -1), y_train, epochs = 500)"
      ],
      "metadata": {
        "colab": {
          "base_uri": "https://localhost:8080/"
        },
        "id": "GuCvzSXL8Q_P",
        "outputId": "2c31a1cc-122e-432a-d2b8-62a03d832066"
      },
      "execution_count": 106,
      "outputs": [
        {
          "output_type": "stream",
          "name": "stdout",
          "text": [
            "Epoch 1/500\n",
            "2/2 [==============================] - 0s 17ms/step - loss: 27.0807 - mae: 27.0807\n",
            "Epoch 2/500\n",
            "2/2 [==============================] - 0s 8ms/step - loss: 24.7563 - mae: 24.7563\n",
            "Epoch 3/500\n",
            "2/2 [==============================] - 0s 11ms/step - loss: 29.6995 - mae: 29.6995\n",
            "Epoch 4/500\n",
            "2/2 [==============================] - 0s 9ms/step - loss: 16.2653 - mae: 16.2653\n",
            "Epoch 5/500\n",
            "2/2 [==============================] - 0s 9ms/step - loss: 22.4437 - mae: 22.4437\n",
            "Epoch 6/500\n",
            "2/2 [==============================] - 0s 7ms/step - loss: 11.0697 - mae: 11.0697\n",
            "Epoch 7/500\n",
            "2/2 [==============================] - 0s 10ms/step - loss: 12.1084 - mae: 12.1084\n",
            "Epoch 8/500\n",
            "2/2 [==============================] - 0s 10ms/step - loss: 10.9424 - mae: 10.9424\n",
            "Epoch 9/500\n",
            "2/2 [==============================] - 0s 8ms/step - loss: 38.1228 - mae: 38.1228\n",
            "Epoch 10/500\n",
            "2/2 [==============================] - 0s 8ms/step - loss: 25.6923 - mae: 25.6923\n",
            "Epoch 11/500\n",
            "2/2 [==============================] - 0s 11ms/step - loss: 10.2599 - mae: 10.2599\n",
            "Epoch 12/500\n",
            "2/2 [==============================] - 0s 8ms/step - loss: 25.3052 - mae: 25.3052\n",
            "Epoch 13/500\n",
            "2/2 [==============================] - 0s 8ms/step - loss: 17.0828 - mae: 17.0828\n",
            "Epoch 14/500\n",
            "2/2 [==============================] - 0s 8ms/step - loss: 26.0887 - mae: 26.0887\n",
            "Epoch 15/500\n",
            "2/2 [==============================] - 0s 10ms/step - loss: 18.1315 - mae: 18.1315\n",
            "Epoch 16/500\n",
            "2/2 [==============================] - 0s 8ms/step - loss: 7.8642 - mae: 7.8642\n",
            "Epoch 17/500\n",
            "2/2 [==============================] - 0s 8ms/step - loss: 22.2441 - mae: 22.2441\n",
            "Epoch 18/500\n",
            "2/2 [==============================] - 0s 8ms/step - loss: 10.8373 - mae: 10.8373\n",
            "Epoch 19/500\n",
            "2/2 [==============================] - 0s 8ms/step - loss: 10.7253 - mae: 10.7253\n",
            "Epoch 20/500\n",
            "2/2 [==============================] - 0s 8ms/step - loss: 12.0468 - mae: 12.0468\n",
            "Epoch 21/500\n",
            "2/2 [==============================] - 0s 9ms/step - loss: 20.1562 - mae: 20.1562\n",
            "Epoch 22/500\n",
            "2/2 [==============================] - 0s 8ms/step - loss: 13.7940 - mae: 13.7940\n",
            "Epoch 23/500\n",
            "2/2 [==============================] - 0s 8ms/step - loss: 9.5415 - mae: 9.5415\n",
            "Epoch 24/500\n",
            "2/2 [==============================] - 0s 11ms/step - loss: 11.8981 - mae: 11.8981\n",
            "Epoch 25/500\n",
            "2/2 [==============================] - 0s 8ms/step - loss: 16.2072 - mae: 16.2072\n",
            "Epoch 26/500\n",
            "2/2 [==============================] - 0s 10ms/step - loss: 16.3999 - mae: 16.3999\n",
            "Epoch 27/500\n",
            "2/2 [==============================] - 0s 12ms/step - loss: 11.5893 - mae: 11.5893\n",
            "Epoch 28/500\n",
            "2/2 [==============================] - 0s 8ms/step - loss: 29.9761 - mae: 29.9761\n",
            "Epoch 29/500\n",
            "2/2 [==============================] - 0s 8ms/step - loss: 9.2552 - mae: 9.2552\n",
            "Epoch 30/500\n",
            "2/2 [==============================] - 0s 10ms/step - loss: 30.5234 - mae: 30.5234\n",
            "Epoch 31/500\n",
            "2/2 [==============================] - 0s 7ms/step - loss: 55.4863 - mae: 55.4863\n",
            "Epoch 32/500\n",
            "2/2 [==============================] - 0s 7ms/step - loss: 9.7305 - mae: 9.7305\n",
            "Epoch 33/500\n",
            "2/2 [==============================] - 0s 8ms/step - loss: 12.3485 - mae: 12.3485\n",
            "Epoch 34/500\n",
            "2/2 [==============================] - 0s 9ms/step - loss: 24.6896 - mae: 24.6896\n",
            "Epoch 35/500\n",
            "2/2 [==============================] - 0s 8ms/step - loss: 11.9232 - mae: 11.9232\n",
            "Epoch 36/500\n",
            "2/2 [==============================] - 0s 7ms/step - loss: 22.1073 - mae: 22.1073\n",
            "Epoch 37/500\n",
            "2/2 [==============================] - 0s 9ms/step - loss: 17.5548 - mae: 17.5548\n",
            "Epoch 38/500\n",
            "2/2 [==============================] - 0s 8ms/step - loss: 10.7296 - mae: 10.7296\n",
            "Epoch 39/500\n",
            "2/2 [==============================] - 0s 8ms/step - loss: 11.2464 - mae: 11.2464\n",
            "Epoch 40/500\n",
            "2/2 [==============================] - 0s 9ms/step - loss: 18.2162 - mae: 18.2162\n",
            "Epoch 41/500\n",
            "2/2 [==============================] - 0s 9ms/step - loss: 10.4947 - mae: 10.4947\n",
            "Epoch 42/500\n",
            "2/2 [==============================] - 0s 8ms/step - loss: 7.8449 - mae: 7.8449\n",
            "Epoch 43/500\n",
            "2/2 [==============================] - 0s 7ms/step - loss: 14.2089 - mae: 14.2089\n",
            "Epoch 44/500\n",
            "2/2 [==============================] - 0s 8ms/step - loss: 24.9623 - mae: 24.9623\n",
            "Epoch 45/500\n",
            "2/2 [==============================] - 0s 8ms/step - loss: 10.9568 - mae: 10.9568\n",
            "Epoch 46/500\n",
            "2/2 [==============================] - 0s 8ms/step - loss: 13.0542 - mae: 13.0542\n",
            "Epoch 47/500\n",
            "2/2 [==============================] - 0s 8ms/step - loss: 10.4365 - mae: 10.4365\n",
            "Epoch 48/500\n",
            "2/2 [==============================] - 0s 8ms/step - loss: 17.1523 - mae: 17.1523\n",
            "Epoch 49/500\n",
            "2/2 [==============================] - 0s 9ms/step - loss: 9.6305 - mae: 9.6305\n",
            "Epoch 50/500\n",
            "2/2 [==============================] - 0s 8ms/step - loss: 13.9186 - mae: 13.9186\n",
            "Epoch 51/500\n",
            "2/2 [==============================] - 0s 9ms/step - loss: 11.6358 - mae: 11.6358\n",
            "Epoch 52/500\n",
            "2/2 [==============================] - 0s 9ms/step - loss: 30.7963 - mae: 30.7963\n",
            "Epoch 53/500\n",
            "2/2 [==============================] - 0s 8ms/step - loss: 14.4615 - mae: 14.4615\n",
            "Epoch 54/500\n",
            "2/2 [==============================] - 0s 10ms/step - loss: 24.1585 - mae: 24.1585\n",
            "Epoch 55/500\n",
            "2/2 [==============================] - 0s 7ms/step - loss: 23.3986 - mae: 23.3986\n",
            "Epoch 56/500\n",
            "2/2 [==============================] - 0s 7ms/step - loss: 10.9523 - mae: 10.9523\n",
            "Epoch 57/500\n",
            "2/2 [==============================] - 0s 12ms/step - loss: 12.8364 - mae: 12.8364\n",
            "Epoch 58/500\n",
            "2/2 [==============================] - 0s 13ms/step - loss: 9.6523 - mae: 9.6523\n",
            "Epoch 59/500\n",
            "2/2 [==============================] - 0s 13ms/step - loss: 12.9991 - mae: 12.9991\n",
            "Epoch 60/500\n",
            "2/2 [==============================] - 0s 11ms/step - loss: 10.6888 - mae: 10.6888\n",
            "Epoch 61/500\n",
            "2/2 [==============================] - 0s 8ms/step - loss: 17.4520 - mae: 17.4520\n",
            "Epoch 62/500\n",
            "2/2 [==============================] - 0s 7ms/step - loss: 10.6038 - mae: 10.6038\n",
            "Epoch 63/500\n",
            "2/2 [==============================] - 0s 7ms/step - loss: 10.4892 - mae: 10.4892\n",
            "Epoch 64/500\n",
            "2/2 [==============================] - 0s 7ms/step - loss: 24.8321 - mae: 24.8321\n",
            "Epoch 65/500\n",
            "2/2 [==============================] - 0s 7ms/step - loss: 10.6760 - mae: 10.6760\n",
            "Epoch 66/500\n",
            "2/2 [==============================] - 0s 10ms/step - loss: 21.7700 - mae: 21.7700\n",
            "Epoch 67/500\n",
            "2/2 [==============================] - 0s 9ms/step - loss: 10.7125 - mae: 10.7125\n",
            "Epoch 68/500\n",
            "2/2 [==============================] - 0s 9ms/step - loss: 10.6395 - mae: 10.6395\n",
            "Epoch 69/500\n",
            "2/2 [==============================] - 0s 11ms/step - loss: 22.6775 - mae: 22.6775\n",
            "Epoch 70/500\n",
            "2/2 [==============================] - 0s 10ms/step - loss: 9.3358 - mae: 9.3358\n",
            "Epoch 71/500\n",
            "2/2 [==============================] - 0s 9ms/step - loss: 15.4414 - mae: 15.4414\n",
            "Epoch 72/500\n",
            "2/2 [==============================] - 0s 10ms/step - loss: 6.7470 - mae: 6.7470\n",
            "Epoch 73/500\n",
            "2/2 [==============================] - 0s 9ms/step - loss: 11.6887 - mae: 11.6887\n",
            "Epoch 74/500\n",
            "2/2 [==============================] - 0s 10ms/step - loss: 24.0261 - mae: 24.0261\n",
            "Epoch 75/500\n",
            "2/2 [==============================] - 0s 9ms/step - loss: 9.5885 - mae: 9.5885\n",
            "Epoch 76/500\n",
            "2/2 [==============================] - 0s 10ms/step - loss: 12.4353 - mae: 12.4353\n",
            "Epoch 77/500\n",
            "2/2 [==============================] - 0s 10ms/step - loss: 16.6400 - mae: 16.6400\n",
            "Epoch 78/500\n",
            "2/2 [==============================] - 0s 10ms/step - loss: 9.0626 - mae: 9.0626\n",
            "Epoch 79/500\n",
            "2/2 [==============================] - 0s 8ms/step - loss: 23.9553 - mae: 23.9553\n",
            "Epoch 80/500\n",
            "2/2 [==============================] - 0s 15ms/step - loss: 26.7319 - mae: 26.7319\n",
            "Epoch 81/500\n",
            "2/2 [==============================] - 0s 14ms/step - loss: 11.6675 - mae: 11.6675\n",
            "Epoch 82/500\n",
            "2/2 [==============================] - 0s 12ms/step - loss: 12.0273 - mae: 12.0273\n",
            "Epoch 83/500\n",
            "2/2 [==============================] - 0s 8ms/step - loss: 17.4281 - mae: 17.4281\n",
            "Epoch 84/500\n",
            "2/2 [==============================] - 0s 8ms/step - loss: 7.2662 - mae: 7.2662\n",
            "Epoch 85/500\n",
            "2/2 [==============================] - 0s 8ms/step - loss: 14.9700 - mae: 14.9700\n",
            "Epoch 86/500\n",
            "2/2 [==============================] - 0s 8ms/step - loss: 15.2903 - mae: 15.2903\n",
            "Epoch 87/500\n",
            "2/2 [==============================] - 0s 7ms/step - loss: 19.1153 - mae: 19.1153\n",
            "Epoch 88/500\n",
            "2/2 [==============================] - 0s 7ms/step - loss: 29.8063 - mae: 29.8063\n",
            "Epoch 89/500\n",
            "2/2 [==============================] - 0s 8ms/step - loss: 10.1742 - mae: 10.1742\n",
            "Epoch 90/500\n",
            "2/2 [==============================] - 0s 8ms/step - loss: 21.5109 - mae: 21.5109\n",
            "Epoch 91/500\n",
            "2/2 [==============================] - 0s 9ms/step - loss: 10.5707 - mae: 10.5707\n",
            "Epoch 92/500\n",
            "2/2 [==============================] - 0s 11ms/step - loss: 18.3865 - mae: 18.3865\n",
            "Epoch 93/500\n",
            "2/2 [==============================] - 0s 12ms/step - loss: 7.4150 - mae: 7.4150\n",
            "Epoch 94/500\n",
            "2/2 [==============================] - 0s 8ms/step - loss: 17.7280 - mae: 17.7280\n",
            "Epoch 95/500\n",
            "2/2 [==============================] - 0s 10ms/step - loss: 11.1124 - mae: 11.1124\n",
            "Epoch 96/500\n",
            "2/2 [==============================] - 0s 8ms/step - loss: 19.4252 - mae: 19.4252\n",
            "Epoch 97/500\n",
            "2/2 [==============================] - 0s 8ms/step - loss: 12.1562 - mae: 12.1562\n",
            "Epoch 98/500\n",
            "2/2 [==============================] - 0s 10ms/step - loss: 11.5632 - mae: 11.5632\n",
            "Epoch 99/500\n",
            "2/2 [==============================] - 0s 7ms/step - loss: 13.8776 - mae: 13.8776\n",
            "Epoch 100/500\n",
            "2/2 [==============================] - 0s 10ms/step - loss: 20.2164 - mae: 20.2164\n",
            "Epoch 101/500\n",
            "2/2 [==============================] - 0s 9ms/step - loss: 11.4462 - mae: 11.4462\n",
            "Epoch 102/500\n",
            "2/2 [==============================] - 0s 8ms/step - loss: 17.4748 - mae: 17.4748\n",
            "Epoch 103/500\n",
            "2/2 [==============================] - 0s 9ms/step - loss: 7.0234 - mae: 7.0234\n",
            "Epoch 104/500\n",
            "2/2 [==============================] - 0s 9ms/step - loss: 23.5845 - mae: 23.5845\n",
            "Epoch 105/500\n",
            "2/2 [==============================] - 0s 8ms/step - loss: 16.8817 - mae: 16.8817\n",
            "Epoch 106/500\n",
            "2/2 [==============================] - 0s 12ms/step - loss: 9.2982 - mae: 9.2982\n",
            "Epoch 107/500\n",
            "2/2 [==============================] - 0s 11ms/step - loss: 25.3800 - mae: 25.3800\n",
            "Epoch 108/500\n",
            "2/2 [==============================] - 0s 8ms/step - loss: 13.4539 - mae: 13.4539\n",
            "Epoch 109/500\n",
            "2/2 [==============================] - 0s 11ms/step - loss: 9.5215 - mae: 9.5215\n",
            "Epoch 110/500\n",
            "2/2 [==============================] - 0s 13ms/step - loss: 9.6708 - mae: 9.6708\n",
            "Epoch 111/500\n",
            "2/2 [==============================] - 0s 10ms/step - loss: 14.5923 - mae: 14.5923\n",
            "Epoch 112/500\n",
            "2/2 [==============================] - 0s 10ms/step - loss: 9.5666 - mae: 9.5666\n",
            "Epoch 113/500\n",
            "2/2 [==============================] - 0s 8ms/step - loss: 17.7986 - mae: 17.7986\n",
            "Epoch 114/500\n",
            "2/2 [==============================] - 0s 8ms/step - loss: 17.1681 - mae: 17.1681\n",
            "Epoch 115/500\n",
            "2/2 [==============================] - 0s 8ms/step - loss: 11.1171 - mae: 11.1171\n",
            "Epoch 116/500\n",
            "2/2 [==============================] - 0s 12ms/step - loss: 23.2932 - mae: 23.2932\n",
            "Epoch 117/500\n",
            "2/2 [==============================] - 0s 9ms/step - loss: 9.6126 - mae: 9.6126\n",
            "Epoch 118/500\n",
            "2/2 [==============================] - 0s 9ms/step - loss: 10.6873 - mae: 10.6873\n",
            "Epoch 119/500\n",
            "2/2 [==============================] - 0s 8ms/step - loss: 8.0374 - mae: 8.0374\n",
            "Epoch 120/500\n",
            "2/2 [==============================] - 0s 8ms/step - loss: 29.6681 - mae: 29.6681\n",
            "Epoch 121/500\n",
            "2/2 [==============================] - 0s 8ms/step - loss: 8.0733 - mae: 8.0733\n",
            "Epoch 122/500\n",
            "2/2 [==============================] - 0s 8ms/step - loss: 28.2937 - mae: 28.2937\n",
            "Epoch 123/500\n",
            "2/2 [==============================] - 0s 7ms/step - loss: 32.8829 - mae: 32.8829\n",
            "Epoch 124/500\n",
            "2/2 [==============================] - 0s 9ms/step - loss: 19.6162 - mae: 19.6162\n",
            "Epoch 125/500\n",
            "2/2 [==============================] - 0s 9ms/step - loss: 7.0126 - mae: 7.0126\n",
            "Epoch 126/500\n",
            "2/2 [==============================] - 0s 8ms/step - loss: 21.7923 - mae: 21.7923\n",
            "Epoch 127/500\n",
            "2/2 [==============================] - 0s 9ms/step - loss: 7.9815 - mae: 7.9815\n",
            "Epoch 128/500\n",
            "2/2 [==============================] - 0s 8ms/step - loss: 21.0457 - mae: 21.0457\n",
            "Epoch 129/500\n",
            "2/2 [==============================] - 0s 8ms/step - loss: 9.0108 - mae: 9.0108\n",
            "Epoch 130/500\n",
            "2/2 [==============================] - 0s 9ms/step - loss: 24.0355 - mae: 24.0355\n",
            "Epoch 131/500\n",
            "2/2 [==============================] - 0s 9ms/step - loss: 9.7529 - mae: 9.7529\n",
            "Epoch 132/500\n",
            "2/2 [==============================] - 0s 8ms/step - loss: 18.2930 - mae: 18.2930\n",
            "Epoch 133/500\n",
            "2/2 [==============================] - 0s 8ms/step - loss: 7.5838 - mae: 7.5838\n",
            "Epoch 134/500\n",
            "2/2 [==============================] - 0s 8ms/step - loss: 18.5640 - mae: 18.5640\n",
            "Epoch 135/500\n",
            "2/2 [==============================] - 0s 11ms/step - loss: 10.5346 - mae: 10.5346\n",
            "Epoch 136/500\n",
            "2/2 [==============================] - 0s 10ms/step - loss: 18.2599 - mae: 18.2599\n",
            "Epoch 137/500\n",
            "2/2 [==============================] - 0s 12ms/step - loss: 23.1522 - mae: 23.1522\n",
            "Epoch 138/500\n",
            "2/2 [==============================] - 0s 10ms/step - loss: 9.1334 - mae: 9.1334\n",
            "Epoch 139/500\n",
            "2/2 [==============================] - 0s 8ms/step - loss: 8.9172 - mae: 8.9172\n",
            "Epoch 140/500\n",
            "2/2 [==============================] - 0s 11ms/step - loss: 16.4638 - mae: 16.4638\n",
            "Epoch 141/500\n",
            "2/2 [==============================] - 0s 8ms/step - loss: 8.4227 - mae: 8.4227\n",
            "Epoch 142/500\n",
            "2/2 [==============================] - 0s 8ms/step - loss: 36.9327 - mae: 36.9327\n",
            "Epoch 143/500\n",
            "2/2 [==============================] - 0s 8ms/step - loss: 25.5664 - mae: 25.5664\n",
            "Epoch 144/500\n",
            "2/2 [==============================] - 0s 8ms/step - loss: 9.5420 - mae: 9.5420\n",
            "Epoch 145/500\n",
            "2/2 [==============================] - 0s 9ms/step - loss: 26.6106 - mae: 26.6106\n",
            "Epoch 146/500\n",
            "2/2 [==============================] - 0s 8ms/step - loss: 8.7209 - mae: 8.7209\n",
            "Epoch 147/500\n",
            "2/2 [==============================] - 0s 9ms/step - loss: 15.6226 - mae: 15.6226\n",
            "Epoch 148/500\n",
            "2/2 [==============================] - 0s 8ms/step - loss: 18.3127 - mae: 18.3127\n",
            "Epoch 149/500\n",
            "2/2 [==============================] - 0s 9ms/step - loss: 8.1972 - mae: 8.1972\n",
            "Epoch 150/500\n",
            "2/2 [==============================] - 0s 8ms/step - loss: 7.4972 - mae: 7.4972\n",
            "Epoch 151/500\n",
            "2/2 [==============================] - 0s 8ms/step - loss: 18.3258 - mae: 18.3258\n",
            "Epoch 152/500\n",
            "2/2 [==============================] - 0s 8ms/step - loss: 10.2889 - mae: 10.2889\n",
            "Epoch 153/500\n",
            "2/2 [==============================] - 0s 8ms/step - loss: 29.6239 - mae: 29.6239\n",
            "Epoch 154/500\n",
            "2/2 [==============================] - 0s 8ms/step - loss: 10.5605 - mae: 10.5605\n",
            "Epoch 155/500\n",
            "2/2 [==============================] - 0s 8ms/step - loss: 15.4580 - mae: 15.4580\n",
            "Epoch 156/500\n",
            "2/2 [==============================] - 0s 8ms/step - loss: 17.0255 - mae: 17.0255\n",
            "Epoch 157/500\n",
            "2/2 [==============================] - 0s 9ms/step - loss: 32.8013 - mae: 32.8013\n",
            "Epoch 158/500\n",
            "2/2 [==============================] - 0s 9ms/step - loss: 10.7007 - mae: 10.7007\n",
            "Epoch 159/500\n",
            "2/2 [==============================] - 0s 8ms/step - loss: 8.9053 - mae: 8.9053\n",
            "Epoch 160/500\n",
            "2/2 [==============================] - 0s 9ms/step - loss: 22.1181 - mae: 22.1181\n",
            "Epoch 161/500\n",
            "2/2 [==============================] - 0s 9ms/step - loss: 11.7077 - mae: 11.7077\n",
            "Epoch 162/500\n",
            "2/2 [==============================] - 0s 8ms/step - loss: 21.5603 - mae: 21.5603\n",
            "Epoch 163/500\n",
            "2/2 [==============================] - 0s 8ms/step - loss: 19.2366 - mae: 19.2366\n",
            "Epoch 164/500\n",
            "2/2 [==============================] - 0s 8ms/step - loss: 11.0102 - mae: 11.0102\n",
            "Epoch 165/500\n",
            "2/2 [==============================] - 0s 8ms/step - loss: 9.6221 - mae: 9.6221\n",
            "Epoch 166/500\n",
            "2/2 [==============================] - 0s 8ms/step - loss: 21.5976 - mae: 21.5976\n",
            "Epoch 167/500\n",
            "2/2 [==============================] - 0s 8ms/step - loss: 26.2682 - mae: 26.2682\n",
            "Epoch 168/500\n",
            "2/2 [==============================] - 0s 8ms/step - loss: 9.8520 - mae: 9.8520\n",
            "Epoch 169/500\n",
            "2/2 [==============================] - 0s 8ms/step - loss: 22.5458 - mae: 22.5458\n",
            "Epoch 170/500\n",
            "2/2 [==============================] - 0s 8ms/step - loss: 10.1541 - mae: 10.1541\n",
            "Epoch 171/500\n",
            "2/2 [==============================] - 0s 8ms/step - loss: 18.0541 - mae: 18.0541\n",
            "Epoch 172/500\n",
            "2/2 [==============================] - 0s 13ms/step - loss: 28.8194 - mae: 28.8194\n",
            "Epoch 173/500\n",
            "2/2 [==============================] - 0s 9ms/step - loss: 16.5143 - mae: 16.5143\n",
            "Epoch 174/500\n",
            "2/2 [==============================] - 0s 9ms/step - loss: 11.2144 - mae: 11.2144\n",
            "Epoch 175/500\n",
            "2/2 [==============================] - 0s 9ms/step - loss: 27.5884 - mae: 27.5884\n",
            "Epoch 176/500\n",
            "2/2 [==============================] - 0s 12ms/step - loss: 8.2655 - mae: 8.2655\n",
            "Epoch 177/500\n",
            "2/2 [==============================] - 0s 10ms/step - loss: 9.2570 - mae: 9.2570\n",
            "Epoch 178/500\n",
            "2/2 [==============================] - 0s 10ms/step - loss: 18.1298 - mae: 18.1298\n",
            "Epoch 179/500\n",
            "2/2 [==============================] - 0s 8ms/step - loss: 10.6063 - mae: 10.6063\n",
            "Epoch 180/500\n",
            "2/2 [==============================] - 0s 8ms/step - loss: 7.8993 - mae: 7.8993\n",
            "Epoch 181/500\n",
            "2/2 [==============================] - 0s 9ms/step - loss: 17.3893 - mae: 17.3893\n",
            "Epoch 182/500\n",
            "2/2 [==============================] - 0s 9ms/step - loss: 11.0059 - mae: 11.0059\n",
            "Epoch 183/500\n",
            "2/2 [==============================] - 0s 9ms/step - loss: 11.6978 - mae: 11.6978\n",
            "Epoch 184/500\n",
            "2/2 [==============================] - 0s 9ms/step - loss: 30.3862 - mae: 30.3862\n",
            "Epoch 185/500\n",
            "2/2 [==============================] - 0s 9ms/step - loss: 8.1730 - mae: 8.1730\n",
            "Epoch 186/500\n",
            "2/2 [==============================] - 0s 9ms/step - loss: 22.6786 - mae: 22.6786\n",
            "Epoch 187/500\n",
            "2/2 [==============================] - 0s 9ms/step - loss: 19.2667 - mae: 19.2667\n",
            "Epoch 188/500\n",
            "2/2 [==============================] - 0s 11ms/step - loss: 13.6850 - mae: 13.6850\n",
            "Epoch 189/500\n",
            "2/2 [==============================] - 0s 9ms/step - loss: 15.0550 - mae: 15.0550\n",
            "Epoch 190/500\n",
            "2/2 [==============================] - 0s 8ms/step - loss: 20.5872 - mae: 20.5872\n",
            "Epoch 191/500\n",
            "2/2 [==============================] - 0s 11ms/step - loss: 22.2939 - mae: 22.2939\n",
            "Epoch 192/500\n",
            "2/2 [==============================] - 0s 9ms/step - loss: 10.0238 - mae: 10.0238\n",
            "Epoch 193/500\n",
            "2/2 [==============================] - 0s 9ms/step - loss: 28.5968 - mae: 28.5968\n",
            "Epoch 194/500\n",
            "2/2 [==============================] - 0s 11ms/step - loss: 7.0772 - mae: 7.0772\n",
            "Epoch 195/500\n",
            "2/2 [==============================] - 0s 15ms/step - loss: 7.0835 - mae: 7.0835\n",
            "Epoch 196/500\n",
            "2/2 [==============================] - 0s 9ms/step - loss: 22.0481 - mae: 22.0481\n",
            "Epoch 197/500\n",
            "2/2 [==============================] - 0s 9ms/step - loss: 20.7574 - mae: 20.7574\n",
            "Epoch 198/500\n",
            "2/2 [==============================] - 0s 10ms/step - loss: 12.4297 - mae: 12.4297\n",
            "Epoch 199/500\n",
            "2/2 [==============================] - 0s 9ms/step - loss: 17.8327 - mae: 17.8327\n",
            "Epoch 200/500\n",
            "2/2 [==============================] - 0s 9ms/step - loss: 13.6795 - mae: 13.6795\n",
            "Epoch 201/500\n",
            "2/2 [==============================] - 0s 8ms/step - loss: 5.5046 - mae: 5.5046\n",
            "Epoch 202/500\n",
            "2/2 [==============================] - 0s 8ms/step - loss: 13.6309 - mae: 13.6309\n",
            "Epoch 203/500\n",
            "2/2 [==============================] - 0s 8ms/step - loss: 9.4155 - mae: 9.4155\n",
            "Epoch 204/500\n",
            "2/2 [==============================] - 0s 8ms/step - loss: 20.8379 - mae: 20.8379\n",
            "Epoch 205/500\n",
            "2/2 [==============================] - 0s 8ms/step - loss: 9.5262 - mae: 9.5262\n",
            "Epoch 206/500\n",
            "2/2 [==============================] - 0s 8ms/step - loss: 11.1665 - mae: 11.1665\n",
            "Epoch 207/500\n",
            "2/2 [==============================] - 0s 12ms/step - loss: 17.7243 - mae: 17.7243\n",
            "Epoch 208/500\n",
            "2/2 [==============================] - 0s 8ms/step - loss: 14.4162 - mae: 14.4162\n",
            "Epoch 209/500\n",
            "2/2 [==============================] - 0s 8ms/step - loss: 16.7486 - mae: 16.7486\n",
            "Epoch 210/500\n",
            "2/2 [==============================] - 0s 8ms/step - loss: 18.2712 - mae: 18.2712\n",
            "Epoch 211/500\n",
            "2/2 [==============================] - 0s 8ms/step - loss: 9.9735 - mae: 9.9735\n",
            "Epoch 212/500\n",
            "2/2 [==============================] - 0s 7ms/step - loss: 18.7574 - mae: 18.7574\n",
            "Epoch 213/500\n",
            "2/2 [==============================] - 0s 8ms/step - loss: 14.9368 - mae: 14.9368\n",
            "Epoch 214/500\n",
            "2/2 [==============================] - 0s 9ms/step - loss: 14.5247 - mae: 14.5247\n",
            "Epoch 215/500\n",
            "2/2 [==============================] - 0s 8ms/step - loss: 23.1646 - mae: 23.1646\n",
            "Epoch 216/500\n",
            "2/2 [==============================] - 0s 8ms/step - loss: 13.6084 - mae: 13.6084\n",
            "Epoch 217/500\n",
            "2/2 [==============================] - 0s 8ms/step - loss: 10.0708 - mae: 10.0708\n",
            "Epoch 218/500\n",
            "2/2 [==============================] - 0s 8ms/step - loss: 12.4103 - mae: 12.4103\n",
            "Epoch 219/500\n",
            "2/2 [==============================] - 0s 8ms/step - loss: 5.8668 - mae: 5.8668\n",
            "Epoch 220/500\n",
            "2/2 [==============================] - 0s 7ms/step - loss: 10.2066 - mae: 10.2066\n",
            "Epoch 221/500\n",
            "2/2 [==============================] - 0s 8ms/step - loss: 28.9008 - mae: 28.9008\n",
            "Epoch 222/500\n",
            "2/2 [==============================] - 0s 9ms/step - loss: 28.0948 - mae: 28.0948\n",
            "Epoch 223/500\n",
            "2/2 [==============================] - 0s 8ms/step - loss: 10.0722 - mae: 10.0722\n",
            "Epoch 224/500\n",
            "2/2 [==============================] - 0s 8ms/step - loss: 14.6205 - mae: 14.6205\n",
            "Epoch 225/500\n",
            "2/2 [==============================] - 0s 9ms/step - loss: 16.6357 - mae: 16.6357\n",
            "Epoch 226/500\n",
            "2/2 [==============================] - 0s 8ms/step - loss: 15.8579 - mae: 15.8579\n",
            "Epoch 227/500\n",
            "2/2 [==============================] - 0s 10ms/step - loss: 16.0764 - mae: 16.0764\n",
            "Epoch 228/500\n",
            "2/2 [==============================] - 0s 8ms/step - loss: 13.8567 - mae: 13.8567\n",
            "Epoch 229/500\n",
            "2/2 [==============================] - 0s 8ms/step - loss: 17.9736 - mae: 17.9736\n",
            "Epoch 230/500\n",
            "2/2 [==============================] - 0s 8ms/step - loss: 15.5685 - mae: 15.5685\n",
            "Epoch 231/500\n",
            "2/2 [==============================] - 0s 9ms/step - loss: 21.0866 - mae: 21.0866\n",
            "Epoch 232/500\n",
            "2/2 [==============================] - 0s 8ms/step - loss: 25.5389 - mae: 25.5389\n",
            "Epoch 233/500\n",
            "2/2 [==============================] - 0s 8ms/step - loss: 16.5313 - mae: 16.5313\n",
            "Epoch 234/500\n",
            "2/2 [==============================] - 0s 7ms/step - loss: 7.3620 - mae: 7.3620\n",
            "Epoch 235/500\n",
            "2/2 [==============================] - 0s 8ms/step - loss: 17.1720 - mae: 17.1720\n",
            "Epoch 236/500\n",
            "2/2 [==============================] - 0s 8ms/step - loss: 7.2253 - mae: 7.2253\n",
            "Epoch 237/500\n",
            "2/2 [==============================] - 0s 8ms/step - loss: 9.3279 - mae: 9.3279\n",
            "Epoch 238/500\n",
            "2/2 [==============================] - 0s 8ms/step - loss: 8.1792 - mae: 8.1792\n",
            "Epoch 239/500\n",
            "2/2 [==============================] - 0s 9ms/step - loss: 17.1974 - mae: 17.1974\n",
            "Epoch 240/500\n",
            "2/2 [==============================] - 0s 9ms/step - loss: 8.9558 - mae: 8.9558\n",
            "Epoch 241/500\n",
            "2/2 [==============================] - 0s 7ms/step - loss: 13.2827 - mae: 13.2827\n",
            "Epoch 242/500\n",
            "2/2 [==============================] - 0s 9ms/step - loss: 8.8633 - mae: 8.8633\n",
            "Epoch 243/500\n",
            "2/2 [==============================] - 0s 8ms/step - loss: 18.9384 - mae: 18.9384\n",
            "Epoch 244/500\n",
            "2/2 [==============================] - 0s 9ms/step - loss: 14.0375 - mae: 14.0375\n",
            "Epoch 245/500\n",
            "2/2 [==============================] - 0s 8ms/step - loss: 14.6678 - mae: 14.6678\n",
            "Epoch 246/500\n",
            "2/2 [==============================] - 0s 8ms/step - loss: 15.8006 - mae: 15.8006\n",
            "Epoch 247/500\n",
            "2/2 [==============================] - 0s 8ms/step - loss: 17.6751 - mae: 17.6751\n",
            "Epoch 248/500\n",
            "2/2 [==============================] - 0s 8ms/step - loss: 13.2327 - mae: 13.2327\n",
            "Epoch 249/500\n",
            "2/2 [==============================] - 0s 7ms/step - loss: 14.5133 - mae: 14.5133\n",
            "Epoch 250/500\n",
            "2/2 [==============================] - 0s 7ms/step - loss: 23.2288 - mae: 23.2288\n",
            "Epoch 251/500\n",
            "2/2 [==============================] - 0s 8ms/step - loss: 9.3393 - mae: 9.3393\n",
            "Epoch 252/500\n",
            "2/2 [==============================] - 0s 11ms/step - loss: 36.6714 - mae: 36.6714\n",
            "Epoch 253/500\n",
            "2/2 [==============================] - 0s 11ms/step - loss: 21.8424 - mae: 21.8424\n",
            "Epoch 254/500\n",
            "2/2 [==============================] - 0s 10ms/step - loss: 7.3180 - mae: 7.3180\n",
            "Epoch 255/500\n",
            "2/2 [==============================] - 0s 9ms/step - loss: 24.7115 - mae: 24.7115\n",
            "Epoch 256/500\n",
            "2/2 [==============================] - 0s 9ms/step - loss: 12.4478 - mae: 12.4478\n",
            "Epoch 257/500\n",
            "2/2 [==============================] - 0s 9ms/step - loss: 10.6063 - mae: 10.6063\n",
            "Epoch 258/500\n",
            "2/2 [==============================] - 0s 9ms/step - loss: 14.2301 - mae: 14.2301\n",
            "Epoch 259/500\n",
            "2/2 [==============================] - 0s 8ms/step - loss: 11.2797 - mae: 11.2797\n",
            "Epoch 260/500\n",
            "2/2 [==============================] - 0s 8ms/step - loss: 31.6543 - mae: 31.6543\n",
            "Epoch 261/500\n",
            "2/2 [==============================] - 0s 8ms/step - loss: 11.2081 - mae: 11.2081\n",
            "Epoch 262/500\n",
            "2/2 [==============================] - 0s 8ms/step - loss: 10.0596 - mae: 10.0596\n",
            "Epoch 263/500\n",
            "2/2 [==============================] - 0s 11ms/step - loss: 8.9659 - mae: 8.9659\n",
            "Epoch 264/500\n",
            "2/2 [==============================] - 0s 8ms/step - loss: 21.5293 - mae: 21.5293\n",
            "Epoch 265/500\n",
            "2/2 [==============================] - 0s 8ms/step - loss: 11.4407 - mae: 11.4407\n",
            "Epoch 266/500\n",
            "2/2 [==============================] - 0s 8ms/step - loss: 13.2777 - mae: 13.2777\n",
            "Epoch 267/500\n",
            "2/2 [==============================] - 0s 9ms/step - loss: 11.0769 - mae: 11.0769\n",
            "Epoch 268/500\n",
            "2/2 [==============================] - 0s 8ms/step - loss: 19.1407 - mae: 19.1407\n",
            "Epoch 269/500\n",
            "2/2 [==============================] - 0s 8ms/step - loss: 40.7581 - mae: 40.7581\n",
            "Epoch 270/500\n",
            "2/2 [==============================] - 0s 7ms/step - loss: 12.9583 - mae: 12.9583\n",
            "Epoch 271/500\n",
            "2/2 [==============================] - 0s 9ms/step - loss: 14.7590 - mae: 14.7590\n",
            "Epoch 272/500\n",
            "2/2 [==============================] - 0s 8ms/step - loss: 28.4994 - mae: 28.4994\n",
            "Epoch 273/500\n",
            "2/2 [==============================] - 0s 8ms/step - loss: 7.3854 - mae: 7.3854\n",
            "Epoch 274/500\n",
            "2/2 [==============================] - 0s 8ms/step - loss: 6.3586 - mae: 6.3586\n",
            "Epoch 275/500\n",
            "2/2 [==============================] - 0s 8ms/step - loss: 36.9671 - mae: 36.9671\n",
            "Epoch 276/500\n",
            "2/2 [==============================] - 0s 7ms/step - loss: 8.2986 - mae: 8.2986\n",
            "Epoch 277/500\n",
            "2/2 [==============================] - 0s 8ms/step - loss: 27.7772 - mae: 27.7772\n",
            "Epoch 278/500\n",
            "2/2 [==============================] - 0s 7ms/step - loss: 10.6665 - mae: 10.6665\n",
            "Epoch 279/500\n",
            "2/2 [==============================] - 0s 8ms/step - loss: 16.0991 - mae: 16.0991\n",
            "Epoch 280/500\n",
            "2/2 [==============================] - 0s 7ms/step - loss: 21.2119 - mae: 21.2119\n",
            "Epoch 281/500\n",
            "2/2 [==============================] - 0s 41ms/step - loss: 23.8504 - mae: 23.8504\n",
            "Epoch 282/500\n",
            "2/2 [==============================] - 0s 44ms/step - loss: 8.2816 - mae: 8.2816\n",
            "Epoch 283/500\n",
            "2/2 [==============================] - 0s 30ms/step - loss: 8.4550 - mae: 8.4550\n",
            "Epoch 284/500\n",
            "2/2 [==============================] - 0s 54ms/step - loss: 26.6912 - mae: 26.6912\n",
            "Epoch 285/500\n",
            "2/2 [==============================] - 0s 44ms/step - loss: 14.2780 - mae: 14.2780\n",
            "Epoch 286/500\n",
            "2/2 [==============================] - 0s 65ms/step - loss: 5.2653 - mae: 5.2653\n",
            "Epoch 287/500\n",
            "2/2 [==============================] - 0s 46ms/step - loss: 20.7908 - mae: 20.7908\n",
            "Epoch 288/500\n",
            "2/2 [==============================] - 0s 45ms/step - loss: 27.6927 - mae: 27.6927\n",
            "Epoch 289/500\n",
            "2/2 [==============================] - 0s 46ms/step - loss: 10.4150 - mae: 10.4150\n",
            "Epoch 290/500\n",
            "2/2 [==============================] - 0s 42ms/step - loss: 16.2882 - mae: 16.2882\n",
            "Epoch 291/500\n",
            "2/2 [==============================] - 0s 48ms/step - loss: 16.4692 - mae: 16.4692\n",
            "Epoch 292/500\n",
            "2/2 [==============================] - 0s 64ms/step - loss: 7.4196 - mae: 7.4196\n",
            "Epoch 293/500\n",
            "2/2 [==============================] - 0s 55ms/step - loss: 16.5335 - mae: 16.5335\n",
            "Epoch 294/500\n",
            "2/2 [==============================] - 0s 38ms/step - loss: 25.3071 - mae: 25.3071\n",
            "Epoch 295/500\n",
            "2/2 [==============================] - 0s 52ms/step - loss: 14.6398 - mae: 14.6398\n",
            "Epoch 296/500\n",
            "2/2 [==============================] - 0s 39ms/step - loss: 4.5148 - mae: 4.5148\n",
            "Epoch 297/500\n",
            "2/2 [==============================] - 0s 41ms/step - loss: 9.6832 - mae: 9.6832\n",
            "Epoch 298/500\n",
            "2/2 [==============================] - 0s 53ms/step - loss: 23.8117 - mae: 23.8117\n",
            "Epoch 299/500\n",
            "2/2 [==============================] - 0s 48ms/step - loss: 18.9450 - mae: 18.9450\n",
            "Epoch 300/500\n",
            "2/2 [==============================] - 0s 44ms/step - loss: 8.7840 - mae: 8.7840\n",
            "Epoch 301/500\n",
            "2/2 [==============================] - 0s 47ms/step - loss: 15.8179 - mae: 15.8179\n",
            "Epoch 302/500\n",
            "2/2 [==============================] - 0s 38ms/step - loss: 6.5897 - mae: 6.5897\n",
            "Epoch 303/500\n",
            "2/2 [==============================] - 0s 46ms/step - loss: 21.5650 - mae: 21.5650\n",
            "Epoch 304/500\n",
            "2/2 [==============================] - 0s 12ms/step - loss: 25.9120 - mae: 25.9120\n",
            "Epoch 305/500\n",
            "2/2 [==============================] - 0s 38ms/step - loss: 9.5352 - mae: 9.5352\n",
            "Epoch 306/500\n",
            "2/2 [==============================] - 0s 32ms/step - loss: 17.6906 - mae: 17.6906\n",
            "Epoch 307/500\n",
            "2/2 [==============================] - 0s 18ms/step - loss: 9.8198 - mae: 9.8198\n",
            "Epoch 308/500\n",
            "2/2 [==============================] - 0s 8ms/step - loss: 20.5987 - mae: 20.5987\n",
            "Epoch 309/500\n",
            "2/2 [==============================] - 0s 8ms/step - loss: 13.5699 - mae: 13.5699\n",
            "Epoch 310/500\n",
            "2/2 [==============================] - 0s 13ms/step - loss: 6.6772 - mae: 6.6772\n",
            "Epoch 311/500\n",
            "2/2 [==============================] - 0s 26ms/step - loss: 13.6672 - mae: 13.6672\n",
            "Epoch 312/500\n",
            "2/2 [==============================] - 0s 45ms/step - loss: 30.0251 - mae: 30.0251\n",
            "Epoch 313/500\n",
            "2/2 [==============================] - 0s 47ms/step - loss: 7.5408 - mae: 7.5408\n",
            "Epoch 314/500\n",
            "2/2 [==============================] - 0s 43ms/step - loss: 9.9646 - mae: 9.9646\n",
            "Epoch 315/500\n",
            "2/2 [==============================] - 0s 22ms/step - loss: 23.8791 - mae: 23.8791\n",
            "Epoch 316/500\n",
            "2/2 [==============================] - 0s 42ms/step - loss: 16.1739 - mae: 16.1739\n",
            "Epoch 317/500\n",
            "2/2 [==============================] - 0s 27ms/step - loss: 20.6696 - mae: 20.6696\n",
            "Epoch 318/500\n",
            "2/2 [==============================] - 0s 13ms/step - loss: 8.7297 - mae: 8.7297\n",
            "Epoch 319/500\n",
            "2/2 [==============================] - 0s 14ms/step - loss: 15.2700 - mae: 15.2700\n",
            "Epoch 320/500\n",
            "2/2 [==============================] - 0s 19ms/step - loss: 8.3568 - mae: 8.3568\n",
            "Epoch 321/500\n",
            "2/2 [==============================] - 0s 19ms/step - loss: 14.6847 - mae: 14.6847\n",
            "Epoch 322/500\n",
            "2/2 [==============================] - 0s 19ms/step - loss: 12.8135 - mae: 12.8135\n",
            "Epoch 323/500\n",
            "2/2 [==============================] - 0s 18ms/step - loss: 19.0879 - mae: 19.0879\n",
            "Epoch 324/500\n",
            "2/2 [==============================] - 0s 15ms/step - loss: 17.0307 - mae: 17.0307\n",
            "Epoch 325/500\n",
            "2/2 [==============================] - 0s 18ms/step - loss: 9.2945 - mae: 9.2945\n",
            "Epoch 326/500\n",
            "2/2 [==============================] - 0s 16ms/step - loss: 19.9231 - mae: 19.9231\n",
            "Epoch 327/500\n",
            "2/2 [==============================] - 0s 17ms/step - loss: 28.1261 - mae: 28.1261\n",
            "Epoch 328/500\n",
            "2/2 [==============================] - 0s 12ms/step - loss: 11.7058 - mae: 11.7058\n",
            "Epoch 329/500\n",
            "2/2 [==============================] - 0s 21ms/step - loss: 16.3836 - mae: 16.3836\n",
            "Epoch 330/500\n",
            "2/2 [==============================] - 0s 14ms/step - loss: 7.3255 - mae: 7.3255\n",
            "Epoch 331/500\n",
            "2/2 [==============================] - 0s 17ms/step - loss: 22.5669 - mae: 22.5669\n",
            "Epoch 332/500\n",
            "2/2 [==============================] - 0s 14ms/step - loss: 13.3512 - mae: 13.3512\n",
            "Epoch 333/500\n",
            "2/2 [==============================] - 0s 19ms/step - loss: 10.1699 - mae: 10.1699\n",
            "Epoch 334/500\n",
            "2/2 [==============================] - 0s 19ms/step - loss: 6.6253 - mae: 6.6253\n",
            "Epoch 335/500\n",
            "2/2 [==============================] - 0s 17ms/step - loss: 6.2714 - mae: 6.2714\n",
            "Epoch 336/500\n",
            "2/2 [==============================] - 0s 46ms/step - loss: 34.5144 - mae: 34.5144\n",
            "Epoch 337/500\n",
            "2/2 [==============================] - 0s 34ms/step - loss: 26.9482 - mae: 26.9482\n",
            "Epoch 338/500\n",
            "2/2 [==============================] - 0s 29ms/step - loss: 13.9989 - mae: 13.9989\n",
            "Epoch 339/500\n",
            "2/2 [==============================] - 0s 28ms/step - loss: 11.5441 - mae: 11.5441\n",
            "Epoch 340/500\n",
            "2/2 [==============================] - 0s 25ms/step - loss: 8.8296 - mae: 8.8296\n",
            "Epoch 341/500\n",
            "2/2 [==============================] - 0s 25ms/step - loss: 23.4656 - mae: 23.4656\n",
            "Epoch 342/500\n",
            "2/2 [==============================] - 0s 29ms/step - loss: 13.8925 - mae: 13.8925\n",
            "Epoch 343/500\n",
            "2/2 [==============================] - 0s 12ms/step - loss: 14.8323 - mae: 14.8323\n",
            "Epoch 344/500\n",
            "2/2 [==============================] - 0s 34ms/step - loss: 13.3939 - mae: 13.3939\n",
            "Epoch 345/500\n",
            "2/2 [==============================] - 0s 23ms/step - loss: 31.0285 - mae: 31.0285\n",
            "Epoch 346/500\n",
            "2/2 [==============================] - 0s 22ms/step - loss: 10.7074 - mae: 10.7074\n",
            "Epoch 347/500\n",
            "2/2 [==============================] - 0s 21ms/step - loss: 25.7336 - mae: 25.7336\n",
            "Epoch 348/500\n",
            "2/2 [==============================] - 0s 14ms/step - loss: 12.8771 - mae: 12.8771\n",
            "Epoch 349/500\n",
            "2/2 [==============================] - 0s 23ms/step - loss: 13.1687 - mae: 13.1687\n",
            "Epoch 350/500\n",
            "2/2 [==============================] - 0s 22ms/step - loss: 15.4434 - mae: 15.4434\n",
            "Epoch 351/500\n",
            "2/2 [==============================] - 0s 19ms/step - loss: 32.9634 - mae: 32.9634\n",
            "Epoch 352/500\n",
            "2/2 [==============================] - 0s 17ms/step - loss: 14.2107 - mae: 14.2107\n",
            "Epoch 353/500\n",
            "2/2 [==============================] - 0s 25ms/step - loss: 15.9255 - mae: 15.9255\n",
            "Epoch 354/500\n",
            "2/2 [==============================] - 0s 19ms/step - loss: 19.0986 - mae: 19.0986\n",
            "Epoch 355/500\n",
            "2/2 [==============================] - 0s 27ms/step - loss: 34.0927 - mae: 34.0927\n",
            "Epoch 356/500\n",
            "2/2 [==============================] - 0s 19ms/step - loss: 7.6947 - mae: 7.6947\n",
            "Epoch 357/500\n",
            "2/2 [==============================] - 0s 8ms/step - loss: 25.1961 - mae: 25.1961\n",
            "Epoch 358/500\n",
            "2/2 [==============================] - 0s 9ms/step - loss: 22.6503 - mae: 22.6503\n",
            "Epoch 359/500\n",
            "2/2 [==============================] - 0s 8ms/step - loss: 8.8980 - mae: 8.8980\n",
            "Epoch 360/500\n",
            "2/2 [==============================] - 0s 17ms/step - loss: 21.4919 - mae: 21.4919\n",
            "Epoch 361/500\n",
            "2/2 [==============================] - 0s 15ms/step - loss: 20.5643 - mae: 20.5643\n",
            "Epoch 362/500\n",
            "2/2 [==============================] - 0s 11ms/step - loss: 7.0803 - mae: 7.0803\n",
            "Epoch 363/500\n",
            "2/2 [==============================] - 0s 8ms/step - loss: 25.7586 - mae: 25.7586\n",
            "Epoch 364/500\n",
            "2/2 [==============================] - 0s 16ms/step - loss: 32.1560 - mae: 32.1560\n",
            "Epoch 365/500\n",
            "2/2 [==============================] - 0s 19ms/step - loss: 10.0031 - mae: 10.0031\n",
            "Epoch 366/500\n",
            "2/2 [==============================] - 0s 15ms/step - loss: 9.6900 - mae: 9.6900\n",
            "Epoch 367/500\n",
            "2/2 [==============================] - 0s 9ms/step - loss: 30.4359 - mae: 30.4359\n",
            "Epoch 368/500\n",
            "2/2 [==============================] - 0s 17ms/step - loss: 10.5310 - mae: 10.5310\n",
            "Epoch 369/500\n",
            "2/2 [==============================] - 0s 25ms/step - loss: 15.0196 - mae: 15.0196\n",
            "Epoch 370/500\n",
            "2/2 [==============================] - 0s 22ms/step - loss: 14.6784 - mae: 14.6784\n",
            "Epoch 371/500\n",
            "2/2 [==============================] - 0s 23ms/step - loss: 23.4061 - mae: 23.4061\n",
            "Epoch 372/500\n",
            "2/2 [==============================] - 0s 29ms/step - loss: 13.0431 - mae: 13.0431\n",
            "Epoch 373/500\n",
            "2/2 [==============================] - 0s 12ms/step - loss: 9.2129 - mae: 9.2129\n",
            "Epoch 374/500\n",
            "2/2 [==============================] - 0s 18ms/step - loss: 9.7078 - mae: 9.7078\n",
            "Epoch 375/500\n",
            "2/2 [==============================] - 0s 19ms/step - loss: 13.0402 - mae: 13.0402\n",
            "Epoch 376/500\n",
            "2/2 [==============================] - 0s 17ms/step - loss: 14.9226 - mae: 14.9226\n",
            "Epoch 377/500\n",
            "2/2 [==============================] - 0s 31ms/step - loss: 14.8330 - mae: 14.8330\n",
            "Epoch 378/500\n",
            "2/2 [==============================] - 0s 11ms/step - loss: 16.3056 - mae: 16.3056\n",
            "Epoch 379/500\n",
            "2/2 [==============================] - 0s 13ms/step - loss: 20.8917 - mae: 20.8917\n",
            "Epoch 380/500\n",
            "2/2 [==============================] - 0s 12ms/step - loss: 33.3560 - mae: 33.3560\n",
            "Epoch 381/500\n",
            "2/2 [==============================] - 0s 13ms/step - loss: 8.1953 - mae: 8.1953\n",
            "Epoch 382/500\n",
            "2/2 [==============================] - 0s 19ms/step - loss: 12.9825 - mae: 12.9825\n",
            "Epoch 383/500\n",
            "2/2 [==============================] - 0s 13ms/step - loss: 8.4717 - mae: 8.4717\n",
            "Epoch 384/500\n",
            "2/2 [==============================] - 0s 10ms/step - loss: 7.0892 - mae: 7.0892\n",
            "Epoch 385/500\n",
            "2/2 [==============================] - 0s 16ms/step - loss: 10.9813 - mae: 10.9813\n",
            "Epoch 386/500\n",
            "2/2 [==============================] - 0s 14ms/step - loss: 19.8426 - mae: 19.8426\n",
            "Epoch 387/500\n",
            "2/2 [==============================] - 0s 17ms/step - loss: 24.6838 - mae: 24.6838\n",
            "Epoch 388/500\n",
            "2/2 [==============================] - 0s 8ms/step - loss: 8.6846 - mae: 8.6846\n",
            "Epoch 389/500\n",
            "2/2 [==============================] - 0s 17ms/step - loss: 5.9453 - mae: 5.9453\n",
            "Epoch 390/500\n",
            "2/2 [==============================] - 0s 15ms/step - loss: 24.2432 - mae: 24.2432\n",
            "Epoch 391/500\n",
            "2/2 [==============================] - 0s 21ms/step - loss: 5.9653 - mae: 5.9653\n",
            "Epoch 392/500\n",
            "2/2 [==============================] - 0s 12ms/step - loss: 16.0403 - mae: 16.0403\n",
            "Epoch 393/500\n",
            "2/2 [==============================] - 0s 9ms/step - loss: 6.4775 - mae: 6.4775\n",
            "Epoch 394/500\n",
            "2/2 [==============================] - 0s 8ms/step - loss: 12.4806 - mae: 12.4806\n",
            "Epoch 395/500\n",
            "2/2 [==============================] - 0s 8ms/step - loss: 12.3528 - mae: 12.3528\n",
            "Epoch 396/500\n",
            "2/2 [==============================] - 0s 7ms/step - loss: 7.3267 - mae: 7.3267\n",
            "Epoch 397/500\n",
            "2/2 [==============================] - 0s 18ms/step - loss: 7.5864 - mae: 7.5864\n",
            "Epoch 398/500\n",
            "2/2 [==============================] - 0s 15ms/step - loss: 20.2370 - mae: 20.2370\n",
            "Epoch 399/500\n",
            "2/2 [==============================] - 0s 17ms/step - loss: 5.9131 - mae: 5.9131\n",
            "Epoch 400/500\n",
            "2/2 [==============================] - 0s 16ms/step - loss: 24.6572 - mae: 24.6572\n",
            "Epoch 401/500\n",
            "2/2 [==============================] - 0s 21ms/step - loss: 13.0931 - mae: 13.0931\n",
            "Epoch 402/500\n",
            "2/2 [==============================] - 0s 17ms/step - loss: 8.3357 - mae: 8.3357\n",
            "Epoch 403/500\n",
            "2/2 [==============================] - 0s 19ms/step - loss: 9.8177 - mae: 9.8177\n",
            "Epoch 404/500\n",
            "2/2 [==============================] - 0s 20ms/step - loss: 12.5474 - mae: 12.5474\n",
            "Epoch 405/500\n",
            "2/2 [==============================] - 0s 24ms/step - loss: 8.7760 - mae: 8.7760\n",
            "Epoch 406/500\n",
            "2/2 [==============================] - 0s 12ms/step - loss: 21.6496 - mae: 21.6496\n",
            "Epoch 407/500\n",
            "2/2 [==============================] - 0s 19ms/step - loss: 20.3373 - mae: 20.3373\n",
            "Epoch 408/500\n",
            "2/2 [==============================] - 0s 15ms/step - loss: 10.3491 - mae: 10.3491\n",
            "Epoch 409/500\n",
            "2/2 [==============================] - 0s 20ms/step - loss: 9.3440 - mae: 9.3440\n",
            "Epoch 410/500\n",
            "2/2 [==============================] - 0s 32ms/step - loss: 13.3992 - mae: 13.3992\n",
            "Epoch 411/500\n",
            "2/2 [==============================] - 0s 21ms/step - loss: 15.8565 - mae: 15.8565\n",
            "Epoch 412/500\n",
            "2/2 [==============================] - 0s 13ms/step - loss: 23.5642 - mae: 23.5642\n",
            "Epoch 413/500\n",
            "2/2 [==============================] - 0s 18ms/step - loss: 16.3904 - mae: 16.3904\n",
            "Epoch 414/500\n",
            "2/2 [==============================] - 0s 22ms/step - loss: 4.9307 - mae: 4.9307\n",
            "Epoch 415/500\n",
            "2/2 [==============================] - 0s 16ms/step - loss: 13.9748 - mae: 13.9748\n",
            "Epoch 416/500\n",
            "2/2 [==============================] - 0s 8ms/step - loss: 28.9668 - mae: 28.9668\n",
            "Epoch 417/500\n",
            "2/2 [==============================] - 0s 23ms/step - loss: 5.9639 - mae: 5.9639\n",
            "Epoch 418/500\n",
            "2/2 [==============================] - 0s 9ms/step - loss: 12.4533 - mae: 12.4533\n",
            "Epoch 419/500\n",
            "2/2 [==============================] - 0s 10ms/step - loss: 11.4806 - mae: 11.4806\n",
            "Epoch 420/500\n",
            "2/2 [==============================] - 0s 12ms/step - loss: 23.8576 - mae: 23.8576\n",
            "Epoch 421/500\n",
            "2/2 [==============================] - 0s 26ms/step - loss: 19.7419 - mae: 19.7419\n",
            "Epoch 422/500\n",
            "2/2 [==============================] - 0s 14ms/step - loss: 4.0265 - mae: 4.0265\n",
            "Epoch 423/500\n",
            "2/2 [==============================] - 0s 30ms/step - loss: 34.4627 - mae: 34.4627\n",
            "Epoch 424/500\n",
            "2/2 [==============================] - 0s 11ms/step - loss: 12.9911 - mae: 12.9911\n",
            "Epoch 425/500\n",
            "2/2 [==============================] - 0s 14ms/step - loss: 6.9342 - mae: 6.9342\n",
            "Epoch 426/500\n",
            "2/2 [==============================] - 0s 19ms/step - loss: 19.4086 - mae: 19.4086\n",
            "Epoch 427/500\n",
            "2/2 [==============================] - 0s 11ms/step - loss: 3.7542 - mae: 3.7542\n",
            "Epoch 428/500\n",
            "2/2 [==============================] - 0s 14ms/step - loss: 22.2006 - mae: 22.2006\n",
            "Epoch 429/500\n",
            "2/2 [==============================] - 0s 12ms/step - loss: 16.7286 - mae: 16.7286\n",
            "Epoch 430/500\n",
            "2/2 [==============================] - 0s 17ms/step - loss: 11.8536 - mae: 11.8536\n",
            "Epoch 431/500\n",
            "2/2 [==============================] - 0s 19ms/step - loss: 7.9905 - mae: 7.9905\n",
            "Epoch 432/500\n",
            "2/2 [==============================] - 0s 13ms/step - loss: 22.3223 - mae: 22.3223\n",
            "Epoch 433/500\n",
            "2/2 [==============================] - 0s 15ms/step - loss: 4.8399 - mae: 4.8399\n",
            "Epoch 434/500\n",
            "2/2 [==============================] - 0s 28ms/step - loss: 33.3033 - mae: 33.3033\n",
            "Epoch 435/500\n",
            "2/2 [==============================] - 0s 26ms/step - loss: 14.1612 - mae: 14.1612\n",
            "Epoch 436/500\n",
            "2/2 [==============================] - 0s 16ms/step - loss: 29.8095 - mae: 29.8095\n",
            "Epoch 437/500\n",
            "2/2 [==============================] - 0s 18ms/step - loss: 10.9151 - mae: 10.9151\n",
            "Epoch 438/500\n",
            "2/2 [==============================] - 0s 14ms/step - loss: 12.6989 - mae: 12.6989\n",
            "Epoch 439/500\n",
            "2/2 [==============================] - 0s 17ms/step - loss: 33.5433 - mae: 33.5433\n",
            "Epoch 440/500\n",
            "2/2 [==============================] - 0s 11ms/step - loss: 14.9228 - mae: 14.9228\n",
            "Epoch 441/500\n",
            "2/2 [==============================] - 0s 21ms/step - loss: 17.3533 - mae: 17.3533\n",
            "Epoch 442/500\n",
            "2/2 [==============================] - 0s 39ms/step - loss: 22.0268 - mae: 22.0268\n",
            "Epoch 443/500\n",
            "2/2 [==============================] - 0s 21ms/step - loss: 24.2479 - mae: 24.2479\n",
            "Epoch 444/500\n",
            "2/2 [==============================] - 0s 41ms/step - loss: 11.5394 - mae: 11.5394\n",
            "Epoch 445/500\n",
            "2/2 [==============================] - 0s 31ms/step - loss: 14.7649 - mae: 14.7649\n",
            "Epoch 446/500\n",
            "2/2 [==============================] - 0s 21ms/step - loss: 17.7768 - mae: 17.7768\n",
            "Epoch 447/500\n",
            "2/2 [==============================] - 0s 16ms/step - loss: 5.6948 - mae: 5.6948\n",
            "Epoch 448/500\n",
            "2/2 [==============================] - 0s 27ms/step - loss: 9.5272 - mae: 9.5272\n",
            "Epoch 449/500\n",
            "2/2 [==============================] - 0s 23ms/step - loss: 14.1857 - mae: 14.1857\n",
            "Epoch 450/500\n",
            "2/2 [==============================] - 0s 20ms/step - loss: 16.9535 - mae: 16.9535\n",
            "Epoch 451/500\n",
            "2/2 [==============================] - 0s 21ms/step - loss: 14.3694 - mae: 14.3694\n",
            "Epoch 452/500\n",
            "2/2 [==============================] - 0s 55ms/step - loss: 30.7746 - mae: 30.7746\n",
            "Epoch 453/500\n",
            "2/2 [==============================] - 0s 23ms/step - loss: 8.4277 - mae: 8.4277\n",
            "Epoch 454/500\n",
            "2/2 [==============================] - 0s 32ms/step - loss: 27.7016 - mae: 27.7016\n",
            "Epoch 455/500\n",
            "2/2 [==============================] - 0s 16ms/step - loss: 9.8142 - mae: 9.8142\n",
            "Epoch 456/500\n",
            "2/2 [==============================] - 0s 17ms/step - loss: 14.6419 - mae: 14.6419\n",
            "Epoch 457/500\n",
            "2/2 [==============================] - 0s 15ms/step - loss: 17.8041 - mae: 17.8041\n",
            "Epoch 458/500\n",
            "2/2 [==============================] - 0s 8ms/step - loss: 14.0767 - mae: 14.0767\n",
            "Epoch 459/500\n",
            "2/2 [==============================] - 0s 21ms/step - loss: 26.0175 - mae: 26.0175\n",
            "Epoch 460/500\n",
            "2/2 [==============================] - 0s 30ms/step - loss: 14.7415 - mae: 14.7415\n",
            "Epoch 461/500\n",
            "2/2 [==============================] - 0s 18ms/step - loss: 12.0427 - mae: 12.0427\n",
            "Epoch 462/500\n",
            "2/2 [==============================] - 0s 26ms/step - loss: 13.3156 - mae: 13.3156\n",
            "Epoch 463/500\n",
            "2/2 [==============================] - 0s 9ms/step - loss: 29.5437 - mae: 29.5437\n",
            "Epoch 464/500\n",
            "2/2 [==============================] - 0s 27ms/step - loss: 3.4758 - mae: 3.4758\n",
            "Epoch 465/500\n",
            "2/2 [==============================] - 0s 21ms/step - loss: 15.2072 - mae: 15.2072\n",
            "Epoch 466/500\n",
            "2/2 [==============================] - 0s 13ms/step - loss: 20.8203 - mae: 20.8203\n",
            "Epoch 467/500\n",
            "2/2 [==============================] - 0s 16ms/step - loss: 30.5468 - mae: 30.5468\n",
            "Epoch 468/500\n",
            "2/2 [==============================] - 0s 18ms/step - loss: 11.0822 - mae: 11.0822\n",
            "Epoch 469/500\n",
            "2/2 [==============================] - 0s 26ms/step - loss: 12.8591 - mae: 12.8591\n",
            "Epoch 470/500\n",
            "2/2 [==============================] - 0s 24ms/step - loss: 3.2545 - mae: 3.2545\n",
            "Epoch 471/500\n",
            "2/2 [==============================] - 0s 23ms/step - loss: 16.6962 - mae: 16.6962\n",
            "Epoch 472/500\n",
            "2/2 [==============================] - 0s 31ms/step - loss: 13.3878 - mae: 13.3878\n",
            "Epoch 473/500\n",
            "2/2 [==============================] - 0s 18ms/step - loss: 15.2794 - mae: 15.2794\n",
            "Epoch 474/500\n",
            "2/2 [==============================] - 0s 23ms/step - loss: 11.7486 - mae: 11.7486\n",
            "Epoch 475/500\n",
            "2/2 [==============================] - 0s 32ms/step - loss: 16.4122 - mae: 16.4122\n",
            "Epoch 476/500\n",
            "2/2 [==============================] - 0s 28ms/step - loss: 13.8816 - mae: 13.8816\n",
            "Epoch 477/500\n",
            "2/2 [==============================] - 0s 12ms/step - loss: 30.6714 - mae: 30.6714\n",
            "Epoch 478/500\n",
            "2/2 [==============================] - 0s 22ms/step - loss: 8.5915 - mae: 8.5915\n",
            "Epoch 479/500\n",
            "2/2 [==============================] - 0s 49ms/step - loss: 10.7448 - mae: 10.7448\n",
            "Epoch 480/500\n",
            "2/2 [==============================] - 0s 38ms/step - loss: 17.9116 - mae: 17.9116\n",
            "Epoch 481/500\n",
            "2/2 [==============================] - 0s 42ms/step - loss: 15.8162 - mae: 15.8162\n",
            "Epoch 482/500\n",
            "2/2 [==============================] - 0s 24ms/step - loss: 21.3160 - mae: 21.3160\n",
            "Epoch 483/500\n",
            "2/2 [==============================] - 0s 21ms/step - loss: 25.3612 - mae: 25.3612\n",
            "Epoch 484/500\n",
            "2/2 [==============================] - 0s 18ms/step - loss: 23.9623 - mae: 23.9623\n",
            "Epoch 485/500\n",
            "2/2 [==============================] - 0s 15ms/step - loss: 5.7817 - mae: 5.7817\n",
            "Epoch 486/500\n",
            "2/2 [==============================] - 0s 18ms/step - loss: 19.9650 - mae: 19.9650\n",
            "Epoch 487/500\n",
            "2/2 [==============================] - 0s 17ms/step - loss: 14.0481 - mae: 14.0481\n",
            "Epoch 488/500\n",
            "2/2 [==============================] - 0s 18ms/step - loss: 30.6184 - mae: 30.6184\n",
            "Epoch 489/500\n",
            "2/2 [==============================] - 0s 13ms/step - loss: 11.9586 - mae: 11.9586\n",
            "Epoch 490/500\n",
            "2/2 [==============================] - 0s 15ms/step - loss: 12.5654 - mae: 12.5654\n",
            "Epoch 491/500\n",
            "2/2 [==============================] - 0s 13ms/step - loss: 23.8595 - mae: 23.8595\n",
            "Epoch 492/500\n",
            "2/2 [==============================] - 0s 13ms/step - loss: 19.9336 - mae: 19.9336\n",
            "Epoch 493/500\n",
            "2/2 [==============================] - 0s 14ms/step - loss: 4.8757 - mae: 4.8757\n",
            "Epoch 494/500\n",
            "2/2 [==============================] - 0s 12ms/step - loss: 12.2912 - mae: 12.2912\n",
            "Epoch 495/500\n",
            "2/2 [==============================] - 0s 19ms/step - loss: 13.5941 - mae: 13.5941\n",
            "Epoch 496/500\n",
            "2/2 [==============================] - 0s 28ms/step - loss: 12.8253 - mae: 12.8253\n",
            "Epoch 497/500\n",
            "2/2 [==============================] - 0s 14ms/step - loss: 17.8946 - mae: 17.8946\n",
            "Epoch 498/500\n",
            "2/2 [==============================] - 0s 19ms/step - loss: 22.9481 - mae: 22.9481\n",
            "Epoch 499/500\n",
            "2/2 [==============================] - 0s 15ms/step - loss: 8.7842 - mae: 8.7842\n",
            "Epoch 500/500\n",
            "2/2 [==============================] - 0s 31ms/step - loss: 14.4309 - mae: 14.4309\n"
          ]
        },
        {
          "output_type": "execute_result",
          "data": {
            "text/plain": [
              "<keras.src.callbacks.History at 0x7de5250293f0>"
            ]
          },
          "metadata": {},
          "execution_count": 106
        }
      ]
    },
    {
      "cell_type": "code",
      "source": [
        "# Make and plot some predictions\n",
        "y_preds_3 = model_3.predict(X_test)\n",
        "plot_predictions(predictions = y_preds_3)"
      ],
      "metadata": {
        "colab": {
          "base_uri": "https://localhost:8080/",
          "height": 617
        },
        "id": "_tS0lJBT9WcD",
        "outputId": "c44b6225-bf60-4886-a17f-05e9513fa4e6"
      },
      "execution_count": 107,
      "outputs": [
        {
          "output_type": "stream",
          "name": "stdout",
          "text": [
            "1/1 [==============================] - 0s 57ms/step\n"
          ]
        },
        {
          "output_type": "display_data",
          "data": {
            "text/plain": [
              "<Figure size 1000x700 with 1 Axes>"
            ],
            "image/png": "[encoded data removed]"
          },
          "metadata": {}
        }
      ]
    },
    {
      "cell_type": "code",
      "source": [
        "# Calculate model_3 evaluation matrix\n",
        "mae_3 = mae(y_test, y_preds_3)\n",
        "mse_3 = mse(y_test, y_preds_3)\n",
        "mae_3, mse_3"
      ],
      "metadata": {
        "colab": {
          "base_uri": "https://localhost:8080/"
        },
        "id": "EDebsehq_DrU",
        "outputId": "abb050c3-a8eb-4454-c58d-4b126cc4617b"
      },
      "execution_count": 109,
      "outputs": [
        {
          "output_type": "execute_result",
          "data": {
            "text/plain": [
              "(<tf.Tensor: shape=(), dtype=float32, numpy=68.0676>,\n",
              " <tf.Tensor: shape=(), dtype=float32, numpy=4717.968>)"
            ]
          },
          "metadata": {},
          "execution_count": 109
        }
      ]
    },
    {
      "cell_type": "markdown",
      "source": [
        "### Comparing the results of our experments\n",
        "We've run some experiments, let's compare the results"
      ],
      "metadata": {
        "id": "_QfZ6msk_cB-"
      }
    }
  ]
}
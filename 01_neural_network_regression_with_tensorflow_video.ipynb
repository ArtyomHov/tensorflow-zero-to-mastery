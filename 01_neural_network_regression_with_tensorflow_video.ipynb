{
  "nbformat": 4,
  "nbformat_minor": 0,
  "metadata": {
    "colab": {
      "provenance": [],
      "authorship_tag": "ABX9TyN5uqei4voG/DYQg0P6KQ7A",
      "include_colab_link": true
    },
    "kernelspec": {
      "name": "python3",
      "display_name": "Python 3"
    },
    "language_info": {
      "name": "python"
    }
  },
  "cells": [
    {
      "cell_type": "markdown",
      "metadata": {
        "id": "view-in-github",
        "colab_type": "text"
      },
      "source": [
        "<a href=\"https://colab.research.google.com/github/ArtyomHov/tensorflow-zero-to-mastery/blob/master/01_neural_network_regression_with_tensorflow_video.ipynb\" target=\"_parent\"><img src=\"https://colab.research.google.com/assets/colab-badge.svg\" alt=\"Open In Colab\"/></a>"
      ]
    },
    {
      "cell_type": "markdown",
      "source": [
        "# Introduction to Regression with Neural Networks inTensorFlow\n",
        "There are many definitions for regressions model but in our case, we are going to simplify it: predicting a numerical variable based on some other combination of variables, even shorter... predicting a number."
      ],
      "metadata": {
        "id": "1VZR2AOXlGVn"
      }
    },
    {
      "cell_type": "code",
      "source": [
        "# Import TensorFlow\n",
        "import tensorflow as tf\n",
        "print(tf.__version__)"
      ],
      "metadata": {
        "colab": {
          "base_uri": "https://localhost:8080/"
        },
        "id": "UVJd_-QHVzjA",
        "outputId": "e080350f-9a30-4eaa-e2c4-605618692780"
      },
      "execution_count": 1,
      "outputs": [
        {
          "output_type": "stream",
          "name": "stdout",
          "text": [
            "2.12.0\n"
          ]
        }
      ]
    },
    {
      "cell_type": "markdown",
      "source": [
        "### Creating a data to view and fit"
      ],
      "metadata": {
        "id": "OwXoHRGWbhmR"
      }
    },
    {
      "cell_type": "code",
      "source": [
        "import numpy as np\n",
        "import matplotlib.pyplot as plt\n",
        "\n",
        "# Create features\n",
        "X = np.array([-7.0, -4.0, -1.0, 2.0, 5.0, 8.0, 11.0, 14.0])\n",
        "\n",
        "# Create labels\n",
        "y = np.array([3.0, 6.0, 9.0, 12.0, 15.0, 18.0, 21.0, 24.0])\n",
        "\n",
        "# Visualize it\n",
        "plt.scatter(X, y)"
      ],
      "metadata": {
        "colab": {
          "base_uri": "https://localhost:8080/",
          "height": 453
        },
        "id": "WbMYpe5GblCH",
        "outputId": "d45ff2df-277a-43ed-bbc4-1cfd91993a0f"
      },
      "execution_count": 2,
      "outputs": [
        {
          "output_type": "execute_result",
          "data": {
            "text/plain": [
              "<matplotlib.collections.PathCollection at 0x7c749a4c1de0>"
            ]
          },
          "metadata": {},
          "execution_count": 2
        },
        {
          "output_type": "display_data",
          "data": {
            "text/plain": [
              "<Figure size 640x480 with 1 Axes>"
            ],
            "image/png": "[encoded data removed]"
          },
          "metadata": {}
        }
      ]
    },
    {
      "cell_type": "code",
      "source": [
        "y == 10 + X"
      ],
      "metadata": {
        "colab": {
          "base_uri": "https://localhost:8080/"
        },
        "id": "DysXP8dfjrDP",
        "outputId": "56c4f53b-1ed1-4bcf-cf4a-ab4b147464a8"
      },
      "execution_count": 3,
      "outputs": [
        {
          "output_type": "execute_result",
          "data": {
            "text/plain": [
              "array([ True,  True,  True,  True,  True,  True,  True,  True])"
            ]
          },
          "metadata": {},
          "execution_count": 3
        }
      ]
    },
    {
      "cell_type": "markdown",
      "source": [
        "### Input and Output shapes"
      ],
      "metadata": {
        "id": "qi9UL0mwj-xt"
      }
    },
    {
      "cell_type": "code",
      "source": [
        "# Create a demo tensor for our housing price prediction problem\n",
        "house_info = tf.constant([\"bedroom\", \"bathroom\", \"garage\"])\n",
        "house_price = tf.constant([939700])\n",
        "house_info, house_price"
      ],
      "metadata": {
        "colab": {
          "base_uri": "https://localhost:8080/"
        },
        "id": "e1s8u9eykBSq",
        "outputId": "9d1c74b2-d30d-45cf-da75-85fdc4361441"
      },
      "execution_count": 4,
      "outputs": [
        {
          "output_type": "execute_result",
          "data": {
            "text/plain": [
              "(<tf.Tensor: shape=(3,), dtype=string, numpy=array([b'bedroom', b'bathroom', b'garage'], dtype=object)>,\n",
              " <tf.Tensor: shape=(1,), dtype=int32, numpy=array([939700], dtype=int32)>)"
            ]
          },
          "metadata": {},
          "execution_count": 4
        }
      ]
    },
    {
      "cell_type": "code",
      "source": [
        "input_shape = X.shape\n",
        "output_shape = y.shape\n",
        "input_shape, output_shape"
      ],
      "metadata": {
        "colab": {
          "base_uri": "https://localhost:8080/"
        },
        "id": "epBVYvBFmsUr",
        "outputId": "301f2823-319a-4fc8-d57e-f5db5a47b6a3"
      },
      "execution_count": 5,
      "outputs": [
        {
          "output_type": "execute_result",
          "data": {
            "text/plain": [
              "((8,), (8,))"
            ]
          },
          "metadata": {},
          "execution_count": 5
        }
      ]
    },
    {
      "cell_type": "code",
      "source": [
        "X[0].ndim"
      ],
      "metadata": {
        "colab": {
          "base_uri": "https://localhost:8080/"
        },
        "id": "6nwbN3winPfL",
        "outputId": "b8f71bdb-c625-46e4-809e-fa0f1300bc7e"
      },
      "execution_count": 6,
      "outputs": [
        {
          "output_type": "execute_result",
          "data": {
            "text/plain": [
              "0"
            ]
          },
          "metadata": {},
          "execution_count": 6
        }
      ]
    },
    {
      "cell_type": "code",
      "source": [
        "X[0], y[0]"
      ],
      "metadata": {
        "colab": {
          "base_uri": "https://localhost:8080/"
        },
        "id": "NLWDrubVnZRp",
        "outputId": "75c93226-311a-4b7c-b3ff-a4b5ef3872da"
      },
      "execution_count": 7,
      "outputs": [
        {
          "output_type": "execute_result",
          "data": {
            "text/plain": [
              "(-7.0, 3.0)"
            ]
          },
          "metadata": {},
          "execution_count": 7
        }
      ]
    },
    {
      "cell_type": "code",
      "source": [
        "# Turn our numpy arrays into tensors\n",
        "\n",
        "X = tf.cast(tf.constant(X), dtype = tf.float32)\n",
        "y = tf.cast(tf.constant(y), dtype = tf.float32)\n",
        "X, y"
      ],
      "metadata": {
        "colab": {
          "base_uri": "https://localhost:8080/"
        },
        "id": "lkgJBV9lthlb",
        "outputId": "d599b42a-0519-4718-9907-140835196ec0"
      },
      "execution_count": 8,
      "outputs": [
        {
          "output_type": "execute_result",
          "data": {
            "text/plain": [
              "(<tf.Tensor: shape=(8,), dtype=float32, numpy=array([-7., -4., -1.,  2.,  5.,  8., 11., 14.], dtype=float32)>,\n",
              " <tf.Tensor: shape=(8,), dtype=float32, numpy=array([ 3.,  6.,  9., 12., 15., 18., 21., 24.], dtype=float32)>)"
            ]
          },
          "metadata": {},
          "execution_count": 8
        }
      ]
    },
    {
      "cell_type": "code",
      "source": [
        "input_shape = X[0].shape\n",
        "output_shape = y[0].shape\n",
        "input_shape, output_shape"
      ],
      "metadata": {
        "colab": {
          "base_uri": "https://localhost:8080/"
        },
        "id": "anNjQu5nuFbs",
        "outputId": "87db0d6e-17e3-4340-afa5-178f86786866"
      },
      "execution_count": 9,
      "outputs": [
        {
          "output_type": "execute_result",
          "data": {
            "text/plain": [
              "(TensorShape([]), TensorShape([]))"
            ]
          },
          "metadata": {},
          "execution_count": 9
        }
      ]
    },
    {
      "cell_type": "code",
      "source": [
        "plt.scatter(X, y)"
      ],
      "metadata": {
        "colab": {
          "base_uri": "https://localhost:8080/",
          "height": 453
        },
        "id": "xn8LYwFbud9N",
        "outputId": "54077221-5eb3-46d1-aecb-5173448bd497"
      },
      "execution_count": 10,
      "outputs": [
        {
          "output_type": "execute_result",
          "data": {
            "text/plain": [
              "<matplotlib.collections.PathCollection at 0x7c749a352380>"
            ]
          },
          "metadata": {},
          "execution_count": 10
        },
        {
          "output_type": "display_data",
          "data": {
            "text/plain": [
              "<Figure size 640x480 with 1 Axes>"
            ],
            "image/png": "[encoded data removed]"
          },
          "metadata": {}
        }
      ]
    },
    {
      "cell_type": "markdown",
      "source": [
        "## Steps in modeling with TensorFlow\n",
        "\n",
        "1. **Creating a model** - define the input and output layers, as well as the hidden layers of a deep learning model\n",
        "2. **Compiling a model** - define the loss function (in other words, the function which tells our model how wrong it is) and the optimizer (tells out model how to improve the patterns its learning) and evaluation metrics (what we can use to interpret the performance of our model).\n",
        "3. **Fitting a model** - letting the model try to find patterns between X and y (features and labels)"
      ],
      "metadata": {
        "id": "Ci7pWGwOul-7"
      }
    },
    {
      "cell_type": "code",
      "source": [
        "# Set random seed\n",
        "tf.random.set_seed(42)\n",
        "\n",
        "# 1. Create a model using the Sequential API\n",
        "model = tf.keras.Sequential([\n",
        "    tf.keras.layers.Dense(1)\n",
        "])\n",
        "\n",
        "# 2. Compile the model\n",
        "model.compile(loss = tf.keras.losses.mae, # mae is short for mean absolute error\n",
        "              optimizer = tf.keras.optimizers.SGD(), # sgd is short for stochastic gradient descent\n",
        "              metrics = [\"mae\"]\n",
        "              )\n",
        "\n",
        "# 3. Fit the model\n",
        "model.fit(tf.expand_dims(X, axis = -1), y, epochs = 5)"
      ],
      "metadata": {
        "colab": {
          "base_uri": "https://localhost:8080/"
        },
        "id": "CEKhHn6Fw9FG",
        "outputId": "2245b23a-26bb-4b42-afe1-2c17212283e9"
      },
      "execution_count": 11,
      "outputs": [
        {
          "output_type": "stream",
          "name": "stdout",
          "text": [
            "Epoch 1/5\n",
            "1/1 [==============================] - 1s 520ms/step - loss: 21.7769 - mae: 21.7769\n",
            "Epoch 2/5\n",
            "1/1 [==============================] - 0s 11ms/step - loss: 21.3838 - mae: 21.3838\n",
            "Epoch 3/5\n",
            "1/1 [==============================] - 0s 9ms/step - loss: 20.9907 - mae: 20.9907\n",
            "Epoch 4/5\n",
            "1/1 [==============================] - 0s 17ms/step - loss: 20.5976 - mae: 20.5976\n",
            "Epoch 5/5\n",
            "1/1 [==============================] - 0s 10ms/step - loss: 20.2651 - mae: 20.2651\n"
          ]
        },
        {
          "output_type": "execute_result",
          "data": {
            "text/plain": [
              "<keras.callbacks.History at 0x7c749822fca0>"
            ]
          },
          "metadata": {},
          "execution_count": 11
        }
      ]
    },
    {
      "cell_type": "code",
      "source": [
        "# Check X and y\n",
        "X, y"
      ],
      "metadata": {
        "colab": {
          "base_uri": "https://localhost:8080/"
        },
        "id": "NCWuVU1n2oAT",
        "outputId": "765239c0-a233-47c6-92dd-5ec4155741ba"
      },
      "execution_count": 12,
      "outputs": [
        {
          "output_type": "execute_result",
          "data": {
            "text/plain": [
              "(<tf.Tensor: shape=(8,), dtype=float32, numpy=array([-7., -4., -1.,  2.,  5.,  8., 11., 14.], dtype=float32)>,\n",
              " <tf.Tensor: shape=(8,), dtype=float32, numpy=array([ 3.,  6.,  9., 12., 15., 18., 21., 24.], dtype=float32)>)"
            ]
          },
          "metadata": {},
          "execution_count": 12
        }
      ]
    },
    {
      "cell_type": "code",
      "source": [
        "# Try to make prediction using our model\n",
        "y_pred = model.predict([17.0])\n",
        "y_pred"
      ],
      "metadata": {
        "colab": {
          "base_uri": "https://localhost:8080/"
        },
        "id": "z72T849G2ueu",
        "outputId": "7f82a848-6170-4d1d-d54b-0330e9ef3568"
      },
      "execution_count": 13,
      "outputs": [
        {
          "output_type": "stream",
          "name": "stdout",
          "text": [
            "1/1 [==============================] - 0s 92ms/step\n"
          ]
        },
        {
          "output_type": "execute_result",
          "data": {
            "text/plain": [
              "array([[-23.463293]], dtype=float32)"
            ]
          },
          "metadata": {},
          "execution_count": 13
        }
      ]
    },
    {
      "cell_type": "markdown",
      "source": [
        "## Improving model\n",
        "\n",
        "We can improve our model by altering the steps we took to create a model.\n",
        "\n",
        "1. **Creating a model** - here we might add more layers, increase the number of hidden units (all called neurons) within each of the hidden layers, change the activation function of each layer.\n",
        "2. **Compiling a model** - here we might change the optimization function or perhaps the **learning rate** of the optimization function.\n",
        "3. **Fitting a model** - here we might fit a model for more **epochs** (leave for training longer) or on more data (give the model more examples to learn)"
      ],
      "metadata": {
        "id": "fDJ8_YOB3XS-"
      }
    },
    {
      "cell_type": "code",
      "source": [
        "# Let'srebuild our model\n",
        "\n",
        "# 1. Create the model\n",
        "model = tf.keras.Sequential([\n",
        "    tf.keras.layers.Dense(1)\n",
        "])\n",
        "\n",
        "# 2. Compile the model\n",
        "model.compile(loss = tf.keras.losses.mae,\n",
        "              optimizer= tf.keras.optimizers.SGD(),\n",
        "              metrics = [\"mae\"])\n",
        "\n",
        "# 3. Fit the model (this time we'll train for longer)\n",
        "model.fit(tf.expand_dims(X, axis = -1), y, epochs=100)"
      ],
      "metadata": {
        "colab": {
          "base_uri": "https://localhost:8080/"
        },
        "id": "boXPypT_F_Jy",
        "outputId": "d7fa7473-6521-4847-c62e-95f5b9200120"
      },
      "execution_count": 16,
      "outputs": [
        {
          "output_type": "stream",
          "name": "stdout",
          "text": [
            "Epoch 1/100\n",
            "1/1 [==============================] - 1s 542ms/step - loss: 9.6930 - mae: 9.6930\n",
            "Epoch 2/100\n",
            "1/1 [==============================] - 0s 24ms/step - loss: 9.5605 - mae: 9.5605\n",
            "Epoch 3/100\n",
            "1/1 [==============================] - 0s 10ms/step - loss: 9.4280 - mae: 9.4280\n",
            "Epoch 4/100\n",
            "1/1 [==============================] - 0s 9ms/step - loss: 9.2955 - mae: 9.2955\n",
            "Epoch 5/100\n",
            "1/1 [==============================] - 0s 9ms/step - loss: 9.1630 - mae: 9.1630\n",
            "Epoch 6/100\n",
            "1/1 [==============================] - 0s 9ms/step - loss: 9.0305 - mae: 9.0305\n",
            "Epoch 7/100\n",
            "1/1 [==============================] - 0s 18ms/step - loss: 8.8980 - mae: 8.8980\n",
            "Epoch 8/100\n",
            "1/1 [==============================] - 0s 10ms/step - loss: 8.7655 - mae: 8.7655\n",
            "Epoch 9/100\n",
            "1/1 [==============================] - 0s 18ms/step - loss: 8.6330 - mae: 8.6330\n",
            "Epoch 10/100\n",
            "1/1 [==============================] - 0s 14ms/step - loss: 8.5005 - mae: 8.5005\n",
            "Epoch 11/100\n",
            "1/1 [==============================] - 0s 27ms/step - loss: 8.3680 - mae: 8.3680\n",
            "Epoch 12/100\n",
            "1/1 [==============================] - 0s 17ms/step - loss: 8.2355 - mae: 8.2355\n",
            "Epoch 13/100\n",
            "1/1 [==============================] - 0s 21ms/step - loss: 8.1030 - mae: 8.1030\n",
            "Epoch 14/100\n",
            "1/1 [==============================] - 0s 14ms/step - loss: 7.9705 - mae: 7.9705\n",
            "Epoch 15/100\n",
            "1/1 [==============================] - 0s 14ms/step - loss: 7.8380 - mae: 7.8380\n",
            "Epoch 16/100\n",
            "1/1 [==============================] - 0s 14ms/step - loss: 7.7055 - mae: 7.7055\n",
            "Epoch 17/100\n",
            "1/1 [==============================] - 0s 15ms/step - loss: 7.5730 - mae: 7.5730\n",
            "Epoch 18/100\n",
            "1/1 [==============================] - 0s 13ms/step - loss: 7.4405 - mae: 7.4405\n",
            "Epoch 19/100\n",
            "1/1 [==============================] - 0s 11ms/step - loss: 7.3650 - mae: 7.3650\n",
            "Epoch 20/100\n",
            "1/1 [==============================] - 0s 21ms/step - loss: 7.3594 - mae: 7.3594\n",
            "Epoch 21/100\n",
            "1/1 [==============================] - 0s 16ms/step - loss: 7.3538 - mae: 7.3538\n",
            "Epoch 22/100\n",
            "1/1 [==============================] - 0s 10ms/step - loss: 7.3481 - mae: 7.3481\n",
            "Epoch 23/100\n",
            "1/1 [==============================] - 0s 10ms/step - loss: 7.3425 - mae: 7.3425\n",
            "Epoch 24/100\n",
            "1/1 [==============================] - 0s 12ms/step - loss: 7.3369 - mae: 7.3369\n",
            "Epoch 25/100\n",
            "1/1 [==============================] - 0s 9ms/step - loss: 7.3313 - mae: 7.3313\n",
            "Epoch 26/100\n",
            "1/1 [==============================] - 0s 8ms/step - loss: 7.3256 - mae: 7.3256\n",
            "Epoch 27/100\n",
            "1/1 [==============================] - 0s 8ms/step - loss: 7.3200 - mae: 7.3200\n",
            "Epoch 28/100\n",
            "1/1 [==============================] - 0s 11ms/step - loss: 7.3144 - mae: 7.3144\n",
            "Epoch 29/100\n",
            "1/1 [==============================] - 0s 10ms/step - loss: 7.3088 - mae: 7.3088\n",
            "Epoch 30/100\n",
            "1/1 [==============================] - 0s 9ms/step - loss: 7.3031 - mae: 7.3031\n",
            "Epoch 31/100\n",
            "1/1 [==============================] - 0s 8ms/step - loss: 7.2975 - mae: 7.2975\n",
            "Epoch 32/100\n",
            "1/1 [==============================] - 0s 8ms/step - loss: 7.2919 - mae: 7.2919\n",
            "Epoch 33/100\n",
            "1/1 [==============================] - 0s 9ms/step - loss: 7.2863 - mae: 7.2863\n",
            "Epoch 34/100\n",
            "1/1 [==============================] - 0s 8ms/step - loss: 7.2806 - mae: 7.2806\n",
            "Epoch 35/100\n",
            "1/1 [==============================] - 0s 8ms/step - loss: 7.2750 - mae: 7.2750\n",
            "Epoch 36/100\n",
            "1/1 [==============================] - 0s 8ms/step - loss: 7.2694 - mae: 7.2694\n",
            "Epoch 37/100\n",
            "1/1 [==============================] - 0s 8ms/step - loss: 7.2638 - mae: 7.2638\n",
            "Epoch 38/100\n",
            "1/1 [==============================] - 0s 8ms/step - loss: 7.2581 - mae: 7.2581\n",
            "Epoch 39/100\n",
            "1/1 [==============================] - 0s 13ms/step - loss: 7.2525 - mae: 7.2525\n",
            "Epoch 40/100\n",
            "1/1 [==============================] - 0s 21ms/step - loss: 7.2469 - mae: 7.2469\n",
            "Epoch 41/100\n",
            "1/1 [==============================] - 0s 9ms/step - loss: 7.2413 - mae: 7.2413\n",
            "Epoch 42/100\n",
            "1/1 [==============================] - 0s 9ms/step - loss: 7.2356 - mae: 7.2356\n",
            "Epoch 43/100\n",
            "1/1 [==============================] - 0s 12ms/step - loss: 7.2300 - mae: 7.2300\n",
            "Epoch 44/100\n",
            "1/1 [==============================] - 0s 10ms/step - loss: 7.2244 - mae: 7.2244\n",
            "Epoch 45/100\n",
            "1/1 [==============================] - 0s 14ms/step - loss: 7.2188 - mae: 7.2188\n",
            "Epoch 46/100\n",
            "1/1 [==============================] - 0s 11ms/step - loss: 7.2131 - mae: 7.2131\n",
            "Epoch 47/100\n",
            "1/1 [==============================] - 0s 7ms/step - loss: 7.2075 - mae: 7.2075\n",
            "Epoch 48/100\n",
            "1/1 [==============================] - 0s 14ms/step - loss: 7.2019 - mae: 7.2019\n",
            "Epoch 49/100\n",
            "1/1 [==============================] - 0s 9ms/step - loss: 7.1962 - mae: 7.1962\n",
            "Epoch 50/100\n",
            "1/1 [==============================] - 0s 9ms/step - loss: 7.1906 - mae: 7.1906\n",
            "Epoch 51/100\n",
            "1/1 [==============================] - 0s 9ms/step - loss: 7.1850 - mae: 7.1850\n",
            "Epoch 52/100\n",
            "1/1 [==============================] - 0s 9ms/step - loss: 7.1794 - mae: 7.1794\n",
            "Epoch 53/100\n",
            "1/1 [==============================] - 0s 9ms/step - loss: 7.1737 - mae: 7.1737\n",
            "Epoch 54/100\n",
            "1/1 [==============================] - 0s 8ms/step - loss: 7.1681 - mae: 7.1681\n",
            "Epoch 55/100\n",
            "1/1 [==============================] - 0s 8ms/step - loss: 7.1625 - mae: 7.1625\n",
            "Epoch 56/100\n",
            "1/1 [==============================] - 0s 9ms/step - loss: 7.1569 - mae: 7.1569\n",
            "Epoch 57/100\n",
            "1/1 [==============================] - 0s 9ms/step - loss: 7.1513 - mae: 7.1513\n",
            "Epoch 58/100\n",
            "1/1 [==============================] - 0s 9ms/step - loss: 7.1456 - mae: 7.1456\n",
            "Epoch 59/100\n",
            "1/1 [==============================] - 0s 9ms/step - loss: 7.1400 - mae: 7.1400\n",
            "Epoch 60/100\n",
            "1/1 [==============================] - 0s 9ms/step - loss: 7.1344 - mae: 7.1344\n",
            "Epoch 61/100\n",
            "1/1 [==============================] - 0s 9ms/step - loss: 7.1288 - mae: 7.1288\n",
            "Epoch 62/100\n",
            "1/1 [==============================] - 0s 8ms/step - loss: 7.1231 - mae: 7.1231\n",
            "Epoch 63/100\n",
            "1/1 [==============================] - 0s 9ms/step - loss: 7.1175 - mae: 7.1175\n",
            "Epoch 64/100\n",
            "1/1 [==============================] - 0s 9ms/step - loss: 7.1119 - mae: 7.1119\n",
            "Epoch 65/100\n",
            "1/1 [==============================] - 0s 9ms/step - loss: 7.1063 - mae: 7.1063\n",
            "Epoch 66/100\n",
            "1/1 [==============================] - 0s 9ms/step - loss: 7.1006 - mae: 7.1006\n",
            "Epoch 67/100\n",
            "1/1 [==============================] - 0s 11ms/step - loss: 7.0950 - mae: 7.0950\n",
            "Epoch 68/100\n",
            "1/1 [==============================] - 0s 8ms/step - loss: 7.0894 - mae: 7.0894\n",
            "Epoch 69/100\n",
            "1/1 [==============================] - 0s 9ms/step - loss: 7.0838 - mae: 7.0838\n",
            "Epoch 70/100\n",
            "1/1 [==============================] - 0s 11ms/step - loss: 7.0781 - mae: 7.0781\n",
            "Epoch 71/100\n",
            "1/1 [==============================] - 0s 9ms/step - loss: 7.0725 - mae: 7.0725\n",
            "Epoch 72/100\n",
            "1/1 [==============================] - 0s 9ms/step - loss: 7.0669 - mae: 7.0669\n",
            "Epoch 73/100\n",
            "1/1 [==============================] - 0s 9ms/step - loss: 7.0612 - mae: 7.0612\n",
            "Epoch 74/100\n",
            "1/1 [==============================] - 0s 9ms/step - loss: 7.0556 - mae: 7.0556\n",
            "Epoch 75/100\n",
            "1/1 [==============================] - 0s 9ms/step - loss: 7.0500 - mae: 7.0500\n",
            "Epoch 76/100\n",
            "1/1 [==============================] - 0s 12ms/step - loss: 7.0444 - mae: 7.0444\n",
            "Epoch 77/100\n",
            "1/1 [==============================] - 0s 7ms/step - loss: 7.0388 - mae: 7.0388\n",
            "Epoch 78/100\n",
            "1/1 [==============================] - 0s 9ms/step - loss: 7.0331 - mae: 7.0331\n",
            "Epoch 79/100\n",
            "1/1 [==============================] - 0s 9ms/step - loss: 7.0275 - mae: 7.0275\n",
            "Epoch 80/100\n",
            "1/1 [==============================] - 0s 8ms/step - loss: 7.0219 - mae: 7.0219\n",
            "Epoch 81/100\n",
            "1/1 [==============================] - 0s 10ms/step - loss: 7.0163 - mae: 7.0163\n",
            "Epoch 82/100\n",
            "1/1 [==============================] - 0s 9ms/step - loss: 7.0106 - mae: 7.0106\n",
            "Epoch 83/100\n",
            "1/1 [==============================] - 0s 8ms/step - loss: 7.0050 - mae: 7.0050\n",
            "Epoch 84/100\n",
            "1/1 [==============================] - 0s 9ms/step - loss: 6.9994 - mae: 6.9994\n",
            "Epoch 85/100\n",
            "1/1 [==============================] - 0s 9ms/step - loss: 6.9938 - mae: 6.9938\n",
            "Epoch 86/100\n",
            "1/1 [==============================] - 0s 9ms/step - loss: 6.9881 - mae: 6.9881\n",
            "Epoch 87/100\n",
            "1/1 [==============================] - 0s 10ms/step - loss: 6.9825 - mae: 6.9825\n",
            "Epoch 88/100\n",
            "1/1 [==============================] - 0s 9ms/step - loss: 6.9769 - mae: 6.9769\n",
            "Epoch 89/100\n",
            "1/1 [==============================] - 0s 9ms/step - loss: 6.9713 - mae: 6.9713\n",
            "Epoch 90/100\n",
            "1/1 [==============================] - 0s 11ms/step - loss: 6.9656 - mae: 6.9656\n",
            "Epoch 91/100\n",
            "1/1 [==============================] - 0s 10ms/step - loss: 6.9600 - mae: 6.9600\n",
            "Epoch 92/100\n",
            "1/1 [==============================] - 0s 11ms/step - loss: 6.9544 - mae: 6.9544\n",
            "Epoch 93/100\n",
            "1/1 [==============================] - 0s 12ms/step - loss: 6.9488 - mae: 6.9488\n",
            "Epoch 94/100\n",
            "1/1 [==============================] - 0s 11ms/step - loss: 6.9431 - mae: 6.9431\n",
            "Epoch 95/100\n",
            "1/1 [==============================] - 0s 11ms/step - loss: 6.9375 - mae: 6.9375\n",
            "Epoch 96/100\n",
            "1/1 [==============================] - 0s 10ms/step - loss: 6.9319 - mae: 6.9319\n",
            "Epoch 97/100\n",
            "1/1 [==============================] - 0s 9ms/step - loss: 6.9263 - mae: 6.9263\n",
            "Epoch 98/100\n",
            "1/1 [==============================] - 0s 10ms/step - loss: 6.9206 - mae: 6.9206\n",
            "Epoch 99/100\n",
            "1/1 [==============================] - 0s 8ms/step - loss: 6.9150 - mae: 6.9150\n",
            "Epoch 100/100\n",
            "1/1 [==============================] - 0s 9ms/step - loss: 6.9094 - mae: 6.9094\n"
          ]
        },
        {
          "output_type": "execute_result",
          "data": {
            "text/plain": [
              "<keras.callbacks.History at 0x7c74849ef490>"
            ]
          },
          "metadata": {},
          "execution_count": 16
        }
      ]
    },
    {
      "cell_type": "code",
      "source": [
        "# Remind ourselves of the data\n",
        "\n",
        "X, y"
      ],
      "metadata": {
        "colab": {
          "base_uri": "https://localhost:8080/"
        },
        "id": "K8D9tuf0OWKZ",
        "outputId": "530ef364-ebc2-41ed-8309-316a5d35a53d"
      },
      "execution_count": 18,
      "outputs": [
        {
          "output_type": "execute_result",
          "data": {
            "text/plain": [
              "(<tf.Tensor: shape=(8,), dtype=float32, numpy=array([-7., -4., -1.,  2.,  5.,  8., 11., 14.], dtype=float32)>,\n",
              " <tf.Tensor: shape=(8,), dtype=float32, numpy=array([ 3.,  6.,  9., 12., 15., 18., 21., 24.], dtype=float32)>)"
            ]
          },
          "metadata": {},
          "execution_count": 18
        }
      ]
    },
    {
      "cell_type": "code",
      "source": [
        "# Let's see if our model's prediction has inproved\n",
        "\n",
        "model.predict([17.0])"
      ],
      "metadata": {
        "colab": {
          "base_uri": "https://localhost:8080/"
        },
        "id": "Ev8cp9QTOjHR",
        "outputId": "bb091c04-bd85-422b-f5b7-d1812994ea1d"
      },
      "execution_count": 21,
      "outputs": [
        {
          "output_type": "stream",
          "name": "stdout",
          "text": [
            "1/1 [==============================] - 0s 62ms/step\n"
          ]
        },
        {
          "output_type": "execute_result",
          "data": {
            "text/plain": [
              "array([[29.996084]], dtype=float32)"
            ]
          },
          "metadata": {},
          "execution_count": 21
        }
      ]
    },
    {
      "cell_type": "code",
      "source": [
        "# Let's see if we can make another change to improve our model\n",
        "\n",
        "# 1. Create the model (this time with an extra hidden layer with 100 hidden units)\n",
        "model = tf.keras.Sequential([\n",
        "    tf.keras.layers.Dense(50, activation = None),\n",
        "    tf.keras.layers.Dense(1)\n",
        "])\n",
        "\n",
        "# 2. Compile the model\n",
        "model.compile(loss = tf.keras.losses.mae,\n",
        "              optimizer = tf.keras.optimizers.Adam(learning_rate = 0.01),\n",
        "              metrics=[\"mae\"])\n",
        "\n",
        "# 3. Fit the model\n",
        "model.fit(tf.expand_dims(X, axis = -1), y, epochs = 100)"
      ],
      "metadata": {
        "colab": {
          "base_uri": "https://localhost:8080/"
        },
        "id": "ZTKE8AUAT40S",
        "outputId": "6166e57c-9100-4f27-d3d8-ebd1d5f6f4df"
      },
      "execution_count": 39,
      "outputs": [
        {
          "output_type": "stream",
          "name": "stdout",
          "text": [
            "Epoch 1/100\n",
            "1/1 [==============================] - 1s 616ms/step - loss: 12.9562 - mae: 12.9562\n",
            "Epoch 2/100\n",
            "1/1 [==============================] - 0s 10ms/step - loss: 12.2761 - mae: 12.2761\n",
            "Epoch 3/100\n",
            "1/1 [==============================] - 0s 13ms/step - loss: 11.5885 - mae: 11.5885\n",
            "Epoch 4/100\n",
            "1/1 [==============================] - 0s 15ms/step - loss: 10.8908 - mae: 10.8908\n",
            "Epoch 5/100\n",
            "1/1 [==============================] - 0s 13ms/step - loss: 10.1807 - mae: 10.1807\n",
            "Epoch 6/100\n",
            "1/1 [==============================] - 0s 10ms/step - loss: 9.4567 - mae: 9.4567\n",
            "Epoch 7/100\n",
            "1/1 [==============================] - 0s 10ms/step - loss: 8.7167 - mae: 8.7167\n",
            "Epoch 8/100\n",
            "1/1 [==============================] - 0s 11ms/step - loss: 7.9581 - mae: 7.9581\n",
            "Epoch 9/100\n",
            "1/1 [==============================] - 0s 11ms/step - loss: 7.1781 - mae: 7.1781\n",
            "Epoch 10/100\n",
            "1/1 [==============================] - 0s 10ms/step - loss: 6.8061 - mae: 6.8061\n",
            "Epoch 11/100\n",
            "1/1 [==============================] - 0s 14ms/step - loss: 7.0904 - mae: 7.0904\n",
            "Epoch 12/100\n",
            "1/1 [==============================] - 0s 13ms/step - loss: 7.3836 - mae: 7.3836\n",
            "Epoch 13/100\n",
            "1/1 [==============================] - 0s 19ms/step - loss: 7.7019 - mae: 7.7019\n",
            "Epoch 14/100\n",
            "1/1 [==============================] - 0s 13ms/step - loss: 7.7882 - mae: 7.7882\n",
            "Epoch 15/100\n",
            "1/1 [==============================] - 0s 12ms/step - loss: 7.6684 - mae: 7.6684\n",
            "Epoch 16/100\n",
            "1/1 [==============================] - 0s 11ms/step - loss: 7.3958 - mae: 7.3958\n",
            "Epoch 17/100\n",
            "1/1 [==============================] - 0s 10ms/step - loss: 7.0465 - mae: 7.0465\n",
            "Epoch 18/100\n",
            "1/1 [==============================] - 0s 11ms/step - loss: 6.7810 - mae: 6.7810\n",
            "Epoch 19/100\n",
            "1/1 [==============================] - 0s 13ms/step - loss: 6.4999 - mae: 6.4999\n",
            "Epoch 20/100\n",
            "1/1 [==============================] - 0s 13ms/step - loss: 6.2073 - mae: 6.2073\n",
            "Epoch 21/100\n",
            "1/1 [==============================] - 0s 11ms/step - loss: 6.1517 - mae: 6.1517\n",
            "Epoch 22/100\n",
            "1/1 [==============================] - 0s 11ms/step - loss: 6.1593 - mae: 6.1593\n",
            "Epoch 23/100\n",
            "1/1 [==============================] - 0s 11ms/step - loss: 6.2845 - mae: 6.2845\n",
            "Epoch 24/100\n",
            "1/1 [==============================] - 0s 11ms/step - loss: 6.3000 - mae: 6.3000\n",
            "Epoch 25/100\n",
            "1/1 [==============================] - 0s 11ms/step - loss: 6.2203 - mae: 6.2203\n",
            "Epoch 26/100\n",
            "1/1 [==============================] - 0s 10ms/step - loss: 6.0555 - mae: 6.0555\n",
            "Epoch 27/100\n",
            "1/1 [==============================] - 0s 11ms/step - loss: 5.8132 - mae: 5.8132\n",
            "Epoch 28/100\n",
            "1/1 [==============================] - 0s 9ms/step - loss: 5.6357 - mae: 5.6357\n",
            "Epoch 29/100\n",
            "1/1 [==============================] - 0s 14ms/step - loss: 5.5278 - mae: 5.5278\n",
            "Epoch 30/100\n",
            "1/1 [==============================] - 0s 14ms/step - loss: 5.4509 - mae: 5.4509\n",
            "Epoch 31/100\n",
            "1/1 [==============================] - 0s 11ms/step - loss: 5.4541 - mae: 5.4541\n",
            "Epoch 32/100\n",
            "1/1 [==============================] - 0s 11ms/step - loss: 5.4128 - mae: 5.4128\n",
            "Epoch 33/100\n",
            "1/1 [==============================] - 0s 11ms/step - loss: 5.3302 - mae: 5.3302\n",
            "Epoch 34/100\n",
            "1/1 [==============================] - 0s 15ms/step - loss: 5.2098 - mae: 5.2098\n",
            "Epoch 35/100\n",
            "1/1 [==============================] - 0s 11ms/step - loss: 5.0548 - mae: 5.0548\n",
            "Epoch 36/100\n",
            "1/1 [==============================] - 0s 12ms/step - loss: 4.8682 - mae: 4.8682\n",
            "Epoch 37/100\n",
            "1/1 [==============================] - 0s 10ms/step - loss: 4.7589 - mae: 4.7589\n",
            "Epoch 38/100\n",
            "1/1 [==============================] - 0s 11ms/step - loss: 4.6673 - mae: 4.6673\n",
            "Epoch 39/100\n",
            "1/1 [==============================] - 0s 11ms/step - loss: 4.5677 - mae: 4.5677\n",
            "Epoch 40/100\n",
            "1/1 [==============================] - 0s 14ms/step - loss: 4.5419 - mae: 4.5419\n",
            "Epoch 41/100\n",
            "1/1 [==============================] - 0s 13ms/step - loss: 4.4150 - mae: 4.4150\n",
            "Epoch 42/100\n",
            "1/1 [==============================] - 0s 11ms/step - loss: 4.1891 - mae: 4.1891\n",
            "Epoch 43/100\n",
            "1/1 [==============================] - 0s 11ms/step - loss: 4.0375 - mae: 4.0375\n",
            "Epoch 44/100\n",
            "1/1 [==============================] - 0s 10ms/step - loss: 3.8787 - mae: 3.8787\n",
            "Epoch 45/100\n",
            "1/1 [==============================] - 0s 10ms/step - loss: 3.7125 - mae: 3.7125\n",
            "Epoch 46/100\n",
            "1/1 [==============================] - 0s 11ms/step - loss: 3.6377 - mae: 3.6377\n",
            "Epoch 47/100\n",
            "1/1 [==============================] - 0s 12ms/step - loss: 3.5115 - mae: 3.5115\n",
            "Epoch 48/100\n",
            "1/1 [==============================] - 0s 11ms/step - loss: 3.3323 - mae: 3.3323\n",
            "Epoch 49/100\n",
            "1/1 [==============================] - 0s 10ms/step - loss: 3.1030 - mae: 3.1030\n",
            "Epoch 50/100\n",
            "1/1 [==============================] - 0s 13ms/step - loss: 2.8782 - mae: 2.8782\n",
            "Epoch 51/100\n",
            "1/1 [==============================] - 0s 12ms/step - loss: 2.7050 - mae: 2.7050\n",
            "Epoch 52/100\n",
            "1/1 [==============================] - 0s 11ms/step - loss: 2.5757 - mae: 2.5757\n",
            "Epoch 53/100\n",
            "1/1 [==============================] - 0s 13ms/step - loss: 2.3393 - mae: 2.3393\n",
            "Epoch 54/100\n",
            "1/1 [==============================] - 0s 11ms/step - loss: 2.0744 - mae: 2.0744\n",
            "Epoch 55/100\n",
            "1/1 [==============================] - 0s 10ms/step - loss: 1.9206 - mae: 1.9206\n",
            "Epoch 56/100\n",
            "1/1 [==============================] - 0s 12ms/step - loss: 1.7457 - mae: 1.7457\n",
            "Epoch 57/100\n",
            "1/1 [==============================] - 0s 10ms/step - loss: 1.5022 - mae: 1.5022\n",
            "Epoch 58/100\n",
            "1/1 [==============================] - 0s 10ms/step - loss: 1.1935 - mae: 1.1935\n",
            "Epoch 59/100\n",
            "1/1 [==============================] - 0s 10ms/step - loss: 0.8782 - mae: 0.8782\n",
            "Epoch 60/100\n",
            "1/1 [==============================] - 0s 11ms/step - loss: 0.7843 - mae: 0.7843\n",
            "Epoch 61/100\n",
            "1/1 [==============================] - 0s 10ms/step - loss: 0.4997 - mae: 0.4997\n",
            "Epoch 62/100\n",
            "1/1 [==============================] - 0s 10ms/step - loss: 0.0430 - mae: 0.0430\n",
            "Epoch 63/100\n",
            "1/1 [==============================] - 0s 11ms/step - loss: 0.3241 - mae: 0.3241\n",
            "Epoch 64/100\n",
            "1/1 [==============================] - 0s 10ms/step - loss: 0.4943 - mae: 0.4943\n",
            "Epoch 65/100\n",
            "1/1 [==============================] - 0s 10ms/step - loss: 0.6595 - mae: 0.6595\n",
            "Epoch 66/100\n",
            "1/1 [==============================] - 0s 11ms/step - loss: 0.7996 - mae: 0.7996\n",
            "Epoch 67/100\n",
            "1/1 [==============================] - 0s 10ms/step - loss: 0.8322 - mae: 0.8322\n",
            "Epoch 68/100\n",
            "1/1 [==============================] - 0s 11ms/step - loss: 0.9003 - mae: 0.9003\n",
            "Epoch 69/100\n",
            "1/1 [==============================] - 0s 11ms/step - loss: 0.8704 - mae: 0.8704\n",
            "Epoch 70/100\n",
            "1/1 [==============================] - 0s 12ms/step - loss: 0.7752 - mae: 0.7752\n",
            "Epoch 71/100\n",
            "1/1 [==============================] - 0s 11ms/step - loss: 0.7430 - mae: 0.7430\n",
            "Epoch 72/100\n",
            "1/1 [==============================] - 0s 11ms/step - loss: 0.5698 - mae: 0.5698\n",
            "Epoch 73/100\n",
            "1/1 [==============================] - 0s 11ms/step - loss: 0.5169 - mae: 0.5169\n",
            "Epoch 74/100\n",
            "1/1 [==============================] - 0s 10ms/step - loss: 0.3045 - mae: 0.3045\n",
            "Epoch 75/100\n",
            "1/1 [==============================] - 0s 11ms/step - loss: 0.2245 - mae: 0.2245\n",
            "Epoch 76/100\n",
            "1/1 [==============================] - 0s 10ms/step - loss: 0.1711 - mae: 0.1711\n",
            "Epoch 77/100\n",
            "1/1 [==============================] - 0s 10ms/step - loss: 0.3440 - mae: 0.3440\n",
            "Epoch 78/100\n",
            "1/1 [==============================] - 0s 11ms/step - loss: 0.4933 - mae: 0.4933\n",
            "Epoch 79/100\n",
            "1/1 [==============================] - 0s 11ms/step - loss: 0.4472 - mae: 0.4472\n",
            "Epoch 80/100\n",
            "1/1 [==============================] - 0s 13ms/step - loss: 0.4339 - mae: 0.4339\n",
            "Epoch 81/100\n",
            "1/1 [==============================] - 0s 15ms/step - loss: 0.4814 - mae: 0.4814\n",
            "Epoch 82/100\n",
            "1/1 [==============================] - 0s 11ms/step - loss: 0.3448 - mae: 0.3448\n",
            "Epoch 83/100\n",
            "1/1 [==============================] - 0s 14ms/step - loss: 0.3721 - mae: 0.3721\n",
            "Epoch 84/100\n",
            "1/1 [==============================] - 0s 11ms/step - loss: 0.3091 - mae: 0.3091\n",
            "Epoch 85/100\n",
            "1/1 [==============================] - 0s 10ms/step - loss: 0.0829 - mae: 0.0829\n",
            "Epoch 86/100\n",
            "1/1 [==============================] - 0s 11ms/step - loss: 0.2219 - mae: 0.2219\n",
            "Epoch 87/100\n",
            "1/1 [==============================] - 0s 12ms/step - loss: 0.1854 - mae: 0.1854\n",
            "Epoch 88/100\n",
            "1/1 [==============================] - 0s 12ms/step - loss: 0.4212 - mae: 0.4212\n",
            "Epoch 89/100\n",
            "1/1 [==============================] - 0s 12ms/step - loss: 0.4619 - mae: 0.4619\n",
            "Epoch 90/100\n",
            "1/1 [==============================] - 0s 13ms/step - loss: 0.2799 - mae: 0.2799\n",
            "Epoch 91/100\n",
            "1/1 [==============================] - 0s 12ms/step - loss: 0.4848 - mae: 0.4848\n",
            "Epoch 92/100\n",
            "1/1 [==============================] - 0s 13ms/step - loss: 0.5218 - mae: 0.5218\n",
            "Epoch 93/100\n",
            "1/1 [==============================] - 0s 12ms/step - loss: 0.3893 - mae: 0.3893\n",
            "Epoch 94/100\n",
            "1/1 [==============================] - 0s 12ms/step - loss: 0.0792 - mae: 0.0792\n",
            "Epoch 95/100\n",
            "1/1 [==============================] - 0s 12ms/step - loss: 0.2565 - mae: 0.2565\n",
            "Epoch 96/100\n",
            "1/1 [==============================] - 0s 10ms/step - loss: 0.2008 - mae: 0.2008\n",
            "Epoch 97/100\n",
            "1/1 [==============================] - 0s 12ms/step - loss: 0.2397 - mae: 0.2397\n",
            "Epoch 98/100\n",
            "1/1 [==============================] - 0s 12ms/step - loss: 0.2521 - mae: 0.2521\n",
            "Epoch 99/100\n",
            "1/1 [==============================] - 0s 11ms/step - loss: 0.2254 - mae: 0.2254\n",
            "Epoch 100/100\n",
            "1/1 [==============================] - 0s 11ms/step - loss: 0.1957 - mae: 0.1957\n"
          ]
        },
        {
          "output_type": "execute_result",
          "data": {
            "text/plain": [
              "<keras.callbacks.History at 0x7c747b054520>"
            ]
          },
          "metadata": {},
          "execution_count": 39
        }
      ]
    },
    {
      "cell_type": "code",
      "source": [
        "# Let's remind ourselves about the data\n",
        "X, y"
      ],
      "metadata": {
        "colab": {
          "base_uri": "https://localhost:8080/"
        },
        "id": "Df02HdRMW1bp",
        "outputId": "c8e6c63f-d989-4ba8-8907-8d2d6544bd58"
      },
      "execution_count": 34,
      "outputs": [
        {
          "output_type": "execute_result",
          "data": {
            "text/plain": [
              "(<tf.Tensor: shape=(8,), dtype=float32, numpy=array([-7., -4., -1.,  2.,  5.,  8., 11., 14.], dtype=float32)>,\n",
              " <tf.Tensor: shape=(8,), dtype=float32, numpy=array([ 3.,  6.,  9., 12., 15., 18., 21., 24.], dtype=float32)>)"
            ]
          },
          "metadata": {},
          "execution_count": 34
        }
      ]
    },
    {
      "cell_type": "code",
      "source": [
        "# Let's try to make a prediction\n",
        "model.predict([17.0])"
      ],
      "metadata": {
        "colab": {
          "base_uri": "https://localhost:8080/"
        },
        "id": "-swGWav7W8La",
        "outputId": "2644f3f7-5ce9-4d4a-b403-6e90d53226a6"
      },
      "execution_count": 40,
      "outputs": [
        {
          "output_type": "stream",
          "name": "stdout",
          "text": [
            "1/1 [==============================] - 0s 75ms/step\n"
          ]
        },
        {
          "output_type": "execute_result",
          "data": {
            "text/plain": [
              "array([[27.402987]], dtype=float32)"
            ]
          },
          "metadata": {},
          "execution_count": 40
        }
      ]
    },
    {
      "cell_type": "markdown",
      "source": [
        "## Evaluating a model"
      ],
      "metadata": {
        "id": "eaHE71W9aYqi"
      }
    }
  ]
}
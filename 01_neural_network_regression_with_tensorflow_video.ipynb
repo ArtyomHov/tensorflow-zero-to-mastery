{
  "cells": [
    {
      "cell_type": "markdown",
      "metadata": {
        "id": "view-in-github",
        "colab_type": "text"
      },
      "source": [
        "<a href=\"https://colab.research.google.com/github/ArtyomHov/tensorflow-zero-to-mastery/blob/master/01_neural_network_regression_with_tensorflow_video.ipynb\" target=\"_parent\"><img src=\"https://colab.research.google.com/assets/colab-badge.svg\" alt=\"Open In Colab\"/></a>"
      ]
    },
    {
      "cell_type": "markdown",
      "metadata": {
        "id": "1VZR2AOXlGVn"
      },
      "source": [
        "# Introduction to Regression with Neural Networks inTensorFlow\n",
        "There are many definitions for regressions model but in our case, we are going to simplify it: predicting a numerical variable based on some other combination of variables, even shorter... predicting a number."
      ]
    },
    {
      "cell_type": "code",
      "execution_count": null,
      "metadata": {
        "colab": {
          "base_uri": "https://localhost:8080/"
        },
        "id": "UVJd_-QHVzjA",
        "outputId": "46cbc5ff-5d3c-4eff-8678-4d5c0b3a90f7"
      },
      "outputs": [
        {
          "output_type": "stream",
          "name": "stdout",
          "text": [
            "2.14.0\n"
          ]
        }
      ],
      "source": [
        "# Import TensorFlow\n",
        "import tensorflow as tf\n",
        "print(tf.__version__)"
      ]
    },
    {
      "cell_type": "markdown",
      "metadata": {
        "id": "OwXoHRGWbhmR"
      },
      "source": [
        "### Creating a data to view and fit"
      ]
    },
    {
      "cell_type": "code",
      "execution_count": null,
      "metadata": {
        "colab": {
          "base_uri": "https://localhost:8080/",
          "height": 453
        },
        "id": "WbMYpe5GblCH",
        "outputId": "f68abf79-d378-4a2a-f9fa-e9cf53a5c617"
      },
      "outputs": [
        {
          "output_type": "execute_result",
          "data": {
            "text/plain": [
              "<matplotlib.collections.PathCollection at 0x7af608b01750>"
            ]
          },
          "metadata": {},
          "execution_count": 2
        },
        {
          "output_type": "display_data",
          "data": {
            "text/plain": [
              "<Figure size 640x480 with 1 Axes>"
            ],
            "image/png": "[encoded data removed]"
          },
          "metadata": {}
        }
      ],
      "source": [
        "import numpy as np\n",
        "import matplotlib.pyplot as plt\n",
        "\n",
        "# Create features\n",
        "X = np.array([-7.0, -4.0, -1.0, 2.0, 5.0, 8.0, 11.0, 14.0])\n",
        "\n",
        "# Create labels\n",
        "y = np.array([3.0, 6.0, 9.0, 12.0, 15.0, 18.0, 21.0, 24.0])\n",
        "\n",
        "# Visualize it\n",
        "plt.scatter(X, y)"
      ]
    },
    {
      "cell_type": "code",
      "execution_count": null,
      "metadata": {
        "colab": {
          "base_uri": "https://localhost:8080/"
        },
        "id": "DysXP8dfjrDP",
        "outputId": "edb02476-72b4-409e-c733-9edd0a5d77bc"
      },
      "outputs": [
        {
          "output_type": "execute_result",
          "data": {
            "text/plain": [
              "array([ True,  True,  True,  True,  True,  True,  True,  True])"
            ]
          },
          "metadata": {},
          "execution_count": 3
        }
      ],
      "source": [
        "y == 10 + X"
      ]
    },
    {
      "cell_type": "markdown",
      "metadata": {
        "id": "qi9UL0mwj-xt"
      },
      "source": [
        "### Input and Output shapes"
      ]
    },
    {
      "cell_type": "code",
      "execution_count": null,
      "metadata": {
        "colab": {
          "base_uri": "https://localhost:8080/"
        },
        "id": "e1s8u9eykBSq",
        "outputId": "d720182e-3cfa-4230-ccf1-2a7ba1b88bf9"
      },
      "outputs": [
        {
          "output_type": "execute_result",
          "data": {
            "text/plain": [
              "(<tf.Tensor: shape=(3,), dtype=string, numpy=array([b'bedroom', b'bathroom', b'garage'], dtype=object)>,\n",
              " <tf.Tensor: shape=(1,), dtype=int32, numpy=array([939700], dtype=int32)>)"
            ]
          },
          "metadata": {},
          "execution_count": 4
        }
      ],
      "source": [
        "# Create a demo tensor for our housing price prediction problem\n",
        "house_info = tf.constant([\"bedroom\", \"bathroom\", \"garage\"])\n",
        "house_price = tf.constant([939700])\n",
        "house_info, house_price"
      ]
    },
    {
      "cell_type": "code",
      "execution_count": null,
      "metadata": {
        "colab": {
          "base_uri": "https://localhost:8080/"
        },
        "id": "epBVYvBFmsUr",
        "outputId": "abd3f340-6670-49c0-cb34-b38e6b011802"
      },
      "outputs": [
        {
          "output_type": "execute_result",
          "data": {
            "text/plain": [
              "((8,), (8,))"
            ]
          },
          "metadata": {},
          "execution_count": 5
        }
      ],
      "source": [
        "input_shape = X.shape\n",
        "output_shape = y.shape\n",
        "input_shape, output_shape"
      ]
    },
    {
      "cell_type": "code",
      "execution_count": null,
      "metadata": {
        "colab": {
          "base_uri": "https://localhost:8080/"
        },
        "id": "6nwbN3winPfL",
        "outputId": "66377f88-d63a-4163-96d8-b680a2dd6192"
      },
      "outputs": [
        {
          "output_type": "execute_result",
          "data": {
            "text/plain": [
              "0"
            ]
          },
          "metadata": {},
          "execution_count": 6
        }
      ],
      "source": [
        "X[0].ndim"
      ]
    },
    {
      "cell_type": "code",
      "execution_count": null,
      "metadata": {
        "colab": {
          "base_uri": "https://localhost:8080/"
        },
        "id": "NLWDrubVnZRp",
        "outputId": "aac57da0-d119-41cf-dfc0-d32ace7d4a7f"
      },
      "outputs": [
        {
          "output_type": "execute_result",
          "data": {
            "text/plain": [
              "(-7.0, 3.0)"
            ]
          },
          "metadata": {},
          "execution_count": 7
        }
      ],
      "source": [
        "X[0], y[0]"
      ]
    },
    {
      "cell_type": "code",
      "execution_count": null,
      "metadata": {
        "colab": {
          "base_uri": "https://localhost:8080/"
        },
        "id": "lkgJBV9lthlb",
        "outputId": "c3234273-ae52-47e1-b6f1-9c34bc61e9c0"
      },
      "outputs": [
        {
          "output_type": "execute_result",
          "data": {
            "text/plain": [
              "(<tf.Tensor: shape=(8,), dtype=float32, numpy=array([-7., -4., -1.,  2.,  5.,  8., 11., 14.], dtype=float32)>,\n",
              " <tf.Tensor: shape=(8,), dtype=float32, numpy=array([ 3.,  6.,  9., 12., 15., 18., 21., 24.], dtype=float32)>)"
            ]
          },
          "metadata": {},
          "execution_count": 8
        }
      ],
      "source": [
        "# Turn our numpy arrays into tensors\n",
        "\n",
        "X = tf.cast(tf.constant(X), dtype = tf.float32)\n",
        "y = tf.cast(tf.constant(y), dtype = tf.float32)\n",
        "X, y"
      ]
    },
    {
      "cell_type": "code",
      "execution_count": null,
      "metadata": {
        "colab": {
          "base_uri": "https://localhost:8080/"
        },
        "id": "anNjQu5nuFbs",
        "outputId": "ec4176c6-42f9-4ef1-c53e-26d52caaa803"
      },
      "outputs": [
        {
          "output_type": "execute_result",
          "data": {
            "text/plain": [
              "(TensorShape([]), TensorShape([]))"
            ]
          },
          "metadata": {},
          "execution_count": 9
        }
      ],
      "source": [
        "input_shape = X[0].shape\n",
        "output_shape = y[0].shape\n",
        "input_shape, output_shape"
      ]
    },
    {
      "cell_type": "code",
      "execution_count": null,
      "metadata": {
        "colab": {
          "base_uri": "https://localhost:8080/",
          "height": 453
        },
        "id": "xn8LYwFbud9N",
        "outputId": "3ea64be1-e23f-449e-dcd1-ea0a330d9cbe"
      },
      "outputs": [
        {
          "output_type": "execute_result",
          "data": {
            "text/plain": [
              "<matplotlib.collections.PathCollection at 0x7af606a605e0>"
            ]
          },
          "metadata": {},
          "execution_count": 10
        },
        {
          "output_type": "display_data",
          "data": {
            "text/plain": [
              "<Figure size 640x480 with 1 Axes>"
            ],
            "image/png": "[encoded data removed]"
          },
          "metadata": {}
        }
      ],
      "source": [
        "plt.scatter(X, y)"
      ]
    },
    {
      "cell_type": "markdown",
      "metadata": {
        "id": "Ci7pWGwOul-7"
      },
      "source": [
        "## Steps in modeling with TensorFlow\n",
        "\n",
        "1. **Creating a model** - define the input and output layers, as well as the hidden layers of a deep learning model\n",
        "2. **Compiling a model** - define the loss function (in other words, the function which tells our model how wrong it is) and the optimizer (tells out model how to improve the patterns its learning) and evaluation metrics (what we can use to interpret the performance of our model).\n",
        "3. **Fitting a model** - letting the model try to find patterns between X and y (features and labels)"
      ]
    },
    {
      "cell_type": "code",
      "execution_count": null,
      "metadata": {
        "colab": {
          "base_uri": "https://localhost:8080/"
        },
        "id": "CEKhHn6Fw9FG",
        "outputId": "c53a69f9-a5e8-4308-c1e9-013aeb463b9a"
      },
      "outputs": [
        {
          "output_type": "stream",
          "name": "stdout",
          "text": [
            "Epoch 1/5\n",
            "1/1 [==============================] - 1s 737ms/step - loss: 15.0281 - mae: 15.0281\n",
            "Epoch 2/5\n",
            "1/1 [==============================] - 0s 21ms/step - loss: 14.8275 - mae: 14.8275\n",
            "Epoch 3/5\n",
            "1/1 [==============================] - 0s 16ms/step - loss: 14.6950 - mae: 14.6950\n",
            "Epoch 4/5\n",
            "1/1 [==============================] - 0s 18ms/step - loss: 14.5625 - mae: 14.5625\n",
            "Epoch 5/5\n",
            "1/1 [==============================] - 0s 20ms/step - loss: 14.4300 - mae: 14.4300\n"
          ]
        },
        {
          "output_type": "execute_result",
          "data": {
            "text/plain": [
              "<keras.src.callbacks.History at 0x7af5f7728e50>"
            ]
          },
          "metadata": {},
          "execution_count": 11
        }
      ],
      "source": [
        "# Set random seed\n",
        "tf.random.set_seed(42)\n",
        "\n",
        "# 1. Create a model using the Sequential API\n",
        "model = tf.keras.Sequential([\n",
        "    tf.keras.layers.Dense(1)\n",
        "])\n",
        "\n",
        "# 2. Compile the model\n",
        "model.compile(loss = tf.keras.losses.mae, # mae is short for mean absolute error\n",
        "              optimizer = tf.keras.optimizers.SGD(), # sgd is short for stochastic gradient descent\n",
        "              metrics = [\"mae\"]\n",
        "              )\n",
        "\n",
        "# 3. Fit the model\n",
        "model.fit(tf.expand_dims(X, axis = -1), y, epochs = 5)"
      ]
    },
    {
      "cell_type": "code",
      "execution_count": null,
      "metadata": {
        "id": "NCWuVU1n2oAT",
        "colab": {
          "base_uri": "https://localhost:8080/"
        },
        "outputId": "e37b0d48-dd3b-41f1-f830-0abb912f77f5"
      },
      "outputs": [
        {
          "output_type": "execute_result",
          "data": {
            "text/plain": [
              "(<tf.Tensor: shape=(8,), dtype=float32, numpy=array([-7., -4., -1.,  2.,  5.,  8., 11., 14.], dtype=float32)>,\n",
              " <tf.Tensor: shape=(8,), dtype=float32, numpy=array([ 3.,  6.,  9., 12., 15., 18., 21., 24.], dtype=float32)>)"
            ]
          },
          "metadata": {},
          "execution_count": 12
        }
      ],
      "source": [
        "# Check X and y\n",
        "X, y"
      ]
    },
    {
      "cell_type": "code",
      "execution_count": null,
      "metadata": {
        "id": "z72T849G2ueu",
        "colab": {
          "base_uri": "https://localhost:8080/"
        },
        "outputId": "7f99836f-ce7f-47cc-df5f-862c093125f4"
      },
      "outputs": [
        {
          "output_type": "stream",
          "name": "stdout",
          "text": [
            "1/1 [==============================] - 0s 250ms/step\n"
          ]
        },
        {
          "output_type": "execute_result",
          "data": {
            "text/plain": [
              "array([[-4.056695]], dtype=float32)"
            ]
          },
          "metadata": {},
          "execution_count": 13
        }
      ],
      "source": [
        "# Try to make prediction using our model\n",
        "y_pred = model.predict([17.0])\n",
        "y_pred"
      ]
    },
    {
      "cell_type": "markdown",
      "metadata": {
        "id": "fDJ8_YOB3XS-"
      },
      "source": [
        "## Improving model\n",
        "\n",
        "We can improve our model by altering the steps we took to create a model.\n",
        "\n",
        "1. **Creating a model** - here we might add more layers, increase the number of hidden units (all called neurons) within each of the hidden layers, change the activation function of each layer.\n",
        "2. **Compiling a model** - here we might change the optimization function or perhaps the **learning rate** of the optimization function.\n",
        "3. **Fitting a model** - here we might fit a model for more **epochs** (leave for training longer) or on more data (give the model more examples to learn)"
      ]
    },
    {
      "cell_type": "code",
      "execution_count": null,
      "metadata": {
        "id": "boXPypT_F_Jy",
        "colab": {
          "base_uri": "https://localhost:8080/"
        },
        "outputId": "aae6ce02-0d27-4e3d-c578-72cdd924b219"
      },
      "outputs": [
        {
          "output_type": "stream",
          "name": "stdout",
          "text": [
            "Epoch 1/100\n",
            "1/1 [==============================] - 1s 757ms/step - loss: 12.2214 - mae: 12.2214\n",
            "Epoch 2/100\n",
            "1/1 [==============================] - 0s 27ms/step - loss: 12.0889 - mae: 12.0889\n",
            "Epoch 3/100\n",
            "1/1 [==============================] - 0s 19ms/step - loss: 11.9564 - mae: 11.9564\n",
            "Epoch 4/100\n",
            "1/1 [==============================] - 0s 21ms/step - loss: 11.8239 - mae: 11.8239\n",
            "Epoch 5/100\n",
            "1/1 [==============================] - 0s 16ms/step - loss: 11.6914 - mae: 11.6914\n",
            "Epoch 6/100\n",
            "1/1 [==============================] - 0s 18ms/step - loss: 11.5589 - mae: 11.5589\n",
            "Epoch 7/100\n",
            "1/1 [==============================] - 0s 15ms/step - loss: 11.4264 - mae: 11.4264\n",
            "Epoch 8/100\n",
            "1/1 [==============================] - 0s 29ms/step - loss: 11.2939 - mae: 11.2939\n",
            "Epoch 9/100\n",
            "1/1 [==============================] - 0s 13ms/step - loss: 11.1614 - mae: 11.1614\n",
            "Epoch 10/100\n",
            "1/1 [==============================] - 0s 15ms/step - loss: 11.0289 - mae: 11.0289\n",
            "Epoch 11/100\n",
            "1/1 [==============================] - 0s 22ms/step - loss: 10.8964 - mae: 10.8964\n",
            "Epoch 12/100\n",
            "1/1 [==============================] - 0s 25ms/step - loss: 10.7639 - mae: 10.7639\n",
            "Epoch 13/100\n",
            "1/1 [==============================] - 0s 17ms/step - loss: 10.6314 - mae: 10.6314\n",
            "Epoch 14/100\n",
            "1/1 [==============================] - 0s 18ms/step - loss: 10.4989 - mae: 10.4989\n",
            "Epoch 15/100\n",
            "1/1 [==============================] - 0s 11ms/step - loss: 10.3664 - mae: 10.3664\n",
            "Epoch 16/100\n",
            "1/1 [==============================] - 0s 13ms/step - loss: 10.2339 - mae: 10.2339\n",
            "Epoch 17/100\n",
            "1/1 [==============================] - 0s 13ms/step - loss: 10.1014 - mae: 10.1014\n",
            "Epoch 18/100\n",
            "1/1 [==============================] - 0s 24ms/step - loss: 9.9689 - mae: 9.9689\n",
            "Epoch 19/100\n",
            "1/1 [==============================] - 0s 30ms/step - loss: 9.8364 - mae: 9.8364\n",
            "Epoch 20/100\n",
            "1/1 [==============================] - 0s 14ms/step - loss: 9.7039 - mae: 9.7039\n",
            "Epoch 21/100\n",
            "1/1 [==============================] - 0s 27ms/step - loss: 9.5714 - mae: 9.5714\n",
            "Epoch 22/100\n",
            "1/1 [==============================] - 0s 22ms/step - loss: 9.4389 - mae: 9.4389\n",
            "Epoch 23/100\n",
            "1/1 [==============================] - 0s 14ms/step - loss: 9.3064 - mae: 9.3064\n",
            "Epoch 24/100\n",
            "1/1 [==============================] - 0s 24ms/step - loss: 9.1739 - mae: 9.1739\n",
            "Epoch 25/100\n",
            "1/1 [==============================] - 0s 22ms/step - loss: 9.0414 - mae: 9.0414\n",
            "Epoch 26/100\n",
            "1/1 [==============================] - 0s 23ms/step - loss: 8.9089 - mae: 8.9089\n",
            "Epoch 27/100\n",
            "1/1 [==============================] - 0s 38ms/step - loss: 8.7764 - mae: 8.7764\n",
            "Epoch 28/100\n",
            "1/1 [==============================] - 0s 31ms/step - loss: 8.6439 - mae: 8.6439\n",
            "Epoch 29/100\n",
            "1/1 [==============================] - 0s 22ms/step - loss: 8.5114 - mae: 8.5114\n",
            "Epoch 30/100\n",
            "1/1 [==============================] - 0s 41ms/step - loss: 8.3789 - mae: 8.3789\n",
            "Epoch 31/100\n",
            "1/1 [==============================] - 0s 34ms/step - loss: 8.2464 - mae: 8.2464\n",
            "Epoch 32/100\n",
            "1/1 [==============================] - 0s 62ms/step - loss: 8.1139 - mae: 8.1139\n",
            "Epoch 33/100\n",
            "1/1 [==============================] - 0s 38ms/step - loss: 7.9814 - mae: 7.9814\n",
            "Epoch 34/100\n",
            "1/1 [==============================] - 0s 26ms/step - loss: 7.8489 - mae: 7.8489\n",
            "Epoch 35/100\n",
            "1/1 [==============================] - 0s 22ms/step - loss: 7.7164 - mae: 7.7164\n",
            "Epoch 36/100\n",
            "1/1 [==============================] - 0s 20ms/step - loss: 7.5839 - mae: 7.5839\n",
            "Epoch 37/100\n",
            "1/1 [==============================] - 0s 23ms/step - loss: 7.4514 - mae: 7.4514\n",
            "Epoch 38/100\n",
            "1/1 [==============================] - 0s 14ms/step - loss: 7.3189 - mae: 7.3189\n",
            "Epoch 39/100\n",
            "1/1 [==============================] - 0s 26ms/step - loss: 7.2150 - mae: 7.2150\n",
            "Epoch 40/100\n",
            "1/1 [==============================] - 0s 20ms/step - loss: 7.2094 - mae: 7.2094\n",
            "Epoch 41/100\n",
            "1/1 [==============================] - 0s 20ms/step - loss: 7.2038 - mae: 7.2038\n",
            "Epoch 42/100\n",
            "1/1 [==============================] - 0s 22ms/step - loss: 7.1981 - mae: 7.1981\n",
            "Epoch 43/100\n",
            "1/1 [==============================] - 0s 23ms/step - loss: 7.1925 - mae: 7.1925\n",
            "Epoch 44/100\n",
            "1/1 [==============================] - 0s 15ms/step - loss: 7.1869 - mae: 7.1869\n",
            "Epoch 45/100\n",
            "1/1 [==============================] - 0s 11ms/step - loss: 7.1813 - mae: 7.1813\n",
            "Epoch 46/100\n",
            "1/1 [==============================] - 0s 15ms/step - loss: 7.1756 - mae: 7.1756\n",
            "Epoch 47/100\n",
            "1/1 [==============================] - 0s 20ms/step - loss: 7.1700 - mae: 7.1700\n",
            "Epoch 48/100\n",
            "1/1 [==============================] - 0s 20ms/step - loss: 7.1644 - mae: 7.1644\n",
            "Epoch 49/100\n",
            "1/1 [==============================] - 0s 26ms/step - loss: 7.1588 - mae: 7.1588\n",
            "Epoch 50/100\n",
            "1/1 [==============================] - 0s 17ms/step - loss: 7.1531 - mae: 7.1531\n",
            "Epoch 51/100\n",
            "1/1 [==============================] - 0s 25ms/step - loss: 7.1475 - mae: 7.1475\n",
            "Epoch 52/100\n",
            "1/1 [==============================] - 0s 27ms/step - loss: 7.1419 - mae: 7.1419\n",
            "Epoch 53/100\n",
            "1/1 [==============================] - 0s 19ms/step - loss: 7.1363 - mae: 7.1363\n",
            "Epoch 54/100\n",
            "1/1 [==============================] - 0s 19ms/step - loss: 7.1306 - mae: 7.1306\n",
            "Epoch 55/100\n",
            "1/1 [==============================] - 0s 26ms/step - loss: 7.1250 - mae: 7.1250\n",
            "Epoch 56/100\n",
            "1/1 [==============================] - 0s 29ms/step - loss: 7.1194 - mae: 7.1194\n",
            "Epoch 57/100\n",
            "1/1 [==============================] - 0s 34ms/step - loss: 7.1137 - mae: 7.1137\n",
            "Epoch 58/100\n",
            "1/1 [==============================] - 0s 32ms/step - loss: 7.1081 - mae: 7.1081\n",
            "Epoch 59/100\n",
            "1/1 [==============================] - 0s 51ms/step - loss: 7.1025 - mae: 7.1025\n",
            "Epoch 60/100\n",
            "1/1 [==============================] - 0s 31ms/step - loss: 7.0969 - mae: 7.0969\n",
            "Epoch 61/100\n",
            "1/1 [==============================] - 0s 27ms/step - loss: 7.0913 - mae: 7.0913\n",
            "Epoch 62/100\n",
            "1/1 [==============================] - 0s 40ms/step - loss: 7.0856 - mae: 7.0856\n",
            "Epoch 63/100\n",
            "1/1 [==============================] - 0s 26ms/step - loss: 7.0800 - mae: 7.0800\n",
            "Epoch 64/100\n",
            "1/1 [==============================] - 0s 25ms/step - loss: 7.0744 - mae: 7.0744\n",
            "Epoch 65/100\n",
            "1/1 [==============================] - 0s 26ms/step - loss: 7.0688 - mae: 7.0688\n",
            "Epoch 66/100\n",
            "1/1 [==============================] - 0s 27ms/step - loss: 7.0631 - mae: 7.0631\n",
            "Epoch 67/100\n",
            "1/1 [==============================] - 0s 28ms/step - loss: 7.0575 - mae: 7.0575\n",
            "Epoch 68/100\n",
            "1/1 [==============================] - 0s 31ms/step - loss: 7.0519 - mae: 7.0519\n",
            "Epoch 69/100\n",
            "1/1 [==============================] - 0s 26ms/step - loss: 7.0463 - mae: 7.0463\n",
            "Epoch 70/100\n",
            "1/1 [==============================] - 0s 24ms/step - loss: 7.0406 - mae: 7.0406\n",
            "Epoch 71/100\n",
            "1/1 [==============================] - 0s 22ms/step - loss: 7.0350 - mae: 7.0350\n",
            "Epoch 72/100\n",
            "1/1 [==============================] - 0s 28ms/step - loss: 7.0294 - mae: 7.0294\n",
            "Epoch 73/100\n",
            "1/1 [==============================] - 0s 24ms/step - loss: 7.0238 - mae: 7.0238\n",
            "Epoch 74/100\n",
            "1/1 [==============================] - 0s 30ms/step - loss: 7.0181 - mae: 7.0181\n",
            "Epoch 75/100\n",
            "1/1 [==============================] - 0s 21ms/step - loss: 7.0125 - mae: 7.0125\n",
            "Epoch 76/100\n",
            "1/1 [==============================] - 0s 29ms/step - loss: 7.0069 - mae: 7.0069\n",
            "Epoch 77/100\n",
            "1/1 [==============================] - 0s 23ms/step - loss: 7.0013 - mae: 7.0013\n",
            "Epoch 78/100\n",
            "1/1 [==============================] - 0s 26ms/step - loss: 6.9956 - mae: 6.9956\n",
            "Epoch 79/100\n",
            "1/1 [==============================] - 0s 35ms/step - loss: 6.9900 - mae: 6.9900\n",
            "Epoch 80/100\n",
            "1/1 [==============================] - 0s 34ms/step - loss: 6.9844 - mae: 6.9844\n",
            "Epoch 81/100\n",
            "1/1 [==============================] - 0s 34ms/step - loss: 6.9788 - mae: 6.9788\n",
            "Epoch 82/100\n",
            "1/1 [==============================] - 0s 27ms/step - loss: 6.9731 - mae: 6.9731\n",
            "Epoch 83/100\n",
            "1/1 [==============================] - 0s 35ms/step - loss: 6.9675 - mae: 6.9675\n",
            "Epoch 84/100\n",
            "1/1 [==============================] - 0s 41ms/step - loss: 6.9619 - mae: 6.9619\n",
            "Epoch 85/100\n",
            "1/1 [==============================] - 0s 39ms/step - loss: 6.9563 - mae: 6.9563\n",
            "Epoch 86/100\n",
            "1/1 [==============================] - 0s 27ms/step - loss: 6.9506 - mae: 6.9506\n",
            "Epoch 87/100\n",
            "1/1 [==============================] - 0s 25ms/step - loss: 6.9450 - mae: 6.9450\n",
            "Epoch 88/100\n",
            "1/1 [==============================] - 0s 19ms/step - loss: 6.9394 - mae: 6.9394\n",
            "Epoch 89/100\n",
            "1/1 [==============================] - 0s 24ms/step - loss: 6.9338 - mae: 6.9338\n",
            "Epoch 90/100\n",
            "1/1 [==============================] - 0s 25ms/step - loss: 6.9281 - mae: 6.9281\n",
            "Epoch 91/100\n",
            "1/1 [==============================] - 0s 20ms/step - loss: 6.9225 - mae: 6.9225\n",
            "Epoch 92/100\n",
            "1/1 [==============================] - 0s 24ms/step - loss: 6.9169 - mae: 6.9169\n",
            "Epoch 93/100\n",
            "1/1 [==============================] - 0s 20ms/step - loss: 6.9113 - mae: 6.9113\n",
            "Epoch 94/100\n",
            "1/1 [==============================] - 0s 26ms/step - loss: 6.9056 - mae: 6.9056\n",
            "Epoch 95/100\n",
            "1/1 [==============================] - 0s 34ms/step - loss: 6.9000 - mae: 6.9000\n",
            "Epoch 96/100\n",
            "1/1 [==============================] - 0s 31ms/step - loss: 6.8944 - mae: 6.8944\n",
            "Epoch 97/100\n",
            "1/1 [==============================] - 0s 23ms/step - loss: 6.8888 - mae: 6.8888\n",
            "Epoch 98/100\n",
            "1/1 [==============================] - 0s 24ms/step - loss: 6.8831 - mae: 6.8831\n",
            "Epoch 99/100\n",
            "1/1 [==============================] - 0s 28ms/step - loss: 6.8775 - mae: 6.8775\n",
            "Epoch 100/100\n",
            "1/1 [==============================] - 0s 22ms/step - loss: 6.8719 - mae: 6.8719\n"
          ]
        },
        {
          "output_type": "execute_result",
          "data": {
            "text/plain": [
              "<keras.src.callbacks.History at 0x7af5f6d8af20>"
            ]
          },
          "metadata": {},
          "execution_count": 14
        }
      ],
      "source": [
        "# Let'srebuild our model\n",
        "\n",
        "# 1. Create the model\n",
        "model = tf.keras.Sequential([\n",
        "    tf.keras.layers.Dense(1)\n",
        "])\n",
        "\n",
        "# 2. Compile the model\n",
        "model.compile(loss = tf.keras.losses.mae,\n",
        "              optimizer= tf.keras.optimizers.SGD(),\n",
        "              metrics = [\"mae\"])\n",
        "\n",
        "# 3. Fit the model (this time we'll train for longer)\n",
        "model.fit(tf.expand_dims(X, axis = -1), y, epochs=100)"
      ]
    },
    {
      "cell_type": "code",
      "execution_count": null,
      "metadata": {
        "id": "K8D9tuf0OWKZ",
        "colab": {
          "base_uri": "https://localhost:8080/"
        },
        "outputId": "bee69dc0-06fb-4110-8cdd-da73b61a876e"
      },
      "outputs": [
        {
          "output_type": "execute_result",
          "data": {
            "text/plain": [
              "(<tf.Tensor: shape=(8,), dtype=float32, numpy=array([-7., -4., -1.,  2.,  5.,  8., 11., 14.], dtype=float32)>,\n",
              " <tf.Tensor: shape=(8,), dtype=float32, numpy=array([ 3.,  6.,  9., 12., 15., 18., 21., 24.], dtype=float32)>)"
            ]
          },
          "metadata": {},
          "execution_count": 15
        }
      ],
      "source": [
        "# Remind ourselves of the data\n",
        "\n",
        "X, y"
      ]
    },
    {
      "cell_type": "code",
      "execution_count": null,
      "metadata": {
        "id": "Ev8cp9QTOjHR",
        "colab": {
          "base_uri": "https://localhost:8080/"
        },
        "outputId": "911a745e-c13d-4a49-ff65-44fe162bf4af"
      },
      "outputs": [
        {
          "output_type": "stream",
          "name": "stdout",
          "text": [
            "1/1 [==============================] - 0s 288ms/step\n"
          ]
        },
        {
          "output_type": "execute_result",
          "data": {
            "text/plain": [
              "array([[29.665558]], dtype=float32)"
            ]
          },
          "metadata": {},
          "execution_count": 16
        }
      ],
      "source": [
        "# Let's see if our model's prediction has inproved\n",
        "\n",
        "model.predict([17.0])"
      ]
    },
    {
      "cell_type": "code",
      "execution_count": null,
      "metadata": {
        "id": "ZTKE8AUAT40S",
        "colab": {
          "base_uri": "https://localhost:8080/"
        },
        "outputId": "32495aa8-8ce3-45f0-a3dd-3e67ef429da4"
      },
      "outputs": [
        {
          "output_type": "stream",
          "name": "stdout",
          "text": [
            "Epoch 1/100\n",
            "1/1 [==============================] - 3s 3s/step - loss: 14.1342 - mae: 14.1342\n",
            "Epoch 2/100\n",
            "1/1 [==============================] - 0s 55ms/step - loss: 13.4540 - mae: 13.4540\n",
            "Epoch 3/100\n",
            "1/1 [==============================] - 0s 22ms/step - loss: 12.7680 - mae: 12.7680\n",
            "Epoch 4/100\n",
            "1/1 [==============================] - 0s 20ms/step - loss: 12.0734 - mae: 12.0734\n",
            "Epoch 5/100\n",
            "1/1 [==============================] - 0s 20ms/step - loss: 11.3677 - mae: 11.3677\n",
            "Epoch 6/100\n",
            "1/1 [==============================] - 0s 19ms/step - loss: 10.6482 - mae: 10.6482\n",
            "Epoch 7/100\n",
            "1/1 [==============================] - 0s 29ms/step - loss: 9.9122 - mae: 9.9122\n",
            "Epoch 8/100\n",
            "1/1 [==============================] - 0s 15ms/step - loss: 9.1566 - mae: 9.1566\n",
            "Epoch 9/100\n",
            "1/1 [==============================] - 0s 14ms/step - loss: 8.3784 - mae: 8.3784\n",
            "Epoch 10/100\n",
            "1/1 [==============================] - 0s 15ms/step - loss: 7.5748 - mae: 7.5748\n",
            "Epoch 11/100\n",
            "1/1 [==============================] - 0s 15ms/step - loss: 6.7435 - mae: 6.7435\n",
            "Epoch 12/100\n",
            "1/1 [==============================] - 0s 22ms/step - loss: 6.5729 - mae: 6.5729\n",
            "Epoch 13/100\n",
            "1/1 [==============================] - 0s 35ms/step - loss: 6.9315 - mae: 6.9315\n",
            "Epoch 14/100\n",
            "1/1 [==============================] - 0s 39ms/step - loss: 7.2107 - mae: 7.2107\n",
            "Epoch 15/100\n",
            "1/1 [==============================] - 0s 15ms/step - loss: 7.4144 - mae: 7.4144\n",
            "Epoch 16/100\n",
            "1/1 [==============================] - 0s 37ms/step - loss: 7.3952 - mae: 7.3952\n",
            "Epoch 17/100\n",
            "1/1 [==============================] - 0s 27ms/step - loss: 7.2048 - mae: 7.2048\n",
            "Epoch 18/100\n",
            "1/1 [==============================] - 0s 18ms/step - loss: 6.8828 - mae: 6.8828\n",
            "Epoch 19/100\n",
            "1/1 [==============================] - 0s 40ms/step - loss: 6.5802 - mae: 6.5802\n",
            "Epoch 20/100\n",
            "1/1 [==============================] - 0s 32ms/step - loss: 6.2960 - mae: 6.2960\n",
            "Epoch 21/100\n",
            "1/1 [==============================] - 0s 23ms/step - loss: 5.9989 - mae: 5.9989\n",
            "Epoch 22/100\n",
            "1/1 [==============================] - 0s 17ms/step - loss: 5.8651 - mae: 5.8651\n",
            "Epoch 23/100\n",
            "1/1 [==============================] - 0s 21ms/step - loss: 5.8183 - mae: 5.8183\n",
            "Epoch 24/100\n",
            "1/1 [==============================] - 0s 14ms/step - loss: 6.0060 - mae: 6.0060\n",
            "Epoch 25/100\n",
            "1/1 [==============================] - 0s 12ms/step - loss: 6.0859 - mae: 6.0859\n",
            "Epoch 26/100\n",
            "1/1 [==============================] - 0s 13ms/step - loss: 6.0588 - mae: 6.0588\n",
            "Epoch 27/100\n",
            "1/1 [==============================] - 0s 48ms/step - loss: 5.9377 - mae: 5.9377\n",
            "Epoch 28/100\n",
            "1/1 [==============================] - 0s 14ms/step - loss: 5.7325 - mae: 5.7325\n",
            "Epoch 29/100\n",
            "1/1 [==============================] - 0s 24ms/step - loss: 5.4501 - mae: 5.4501\n",
            "Epoch 30/100\n",
            "1/1 [==============================] - 0s 22ms/step - loss: 5.2125 - mae: 5.2125\n",
            "Epoch 31/100\n",
            "1/1 [==============================] - 0s 14ms/step - loss: 5.0909 - mae: 5.0909\n",
            "Epoch 32/100\n",
            "1/1 [==============================] - 0s 17ms/step - loss: 5.0523 - mae: 5.0523\n",
            "Epoch 33/100\n",
            "1/1 [==============================] - 0s 18ms/step - loss: 5.0582 - mae: 5.0582\n",
            "Epoch 34/100\n",
            "1/1 [==============================] - 0s 25ms/step - loss: 5.0178 - mae: 5.0178\n",
            "Epoch 35/100\n",
            "1/1 [==============================] - 0s 31ms/step - loss: 4.9348 - mae: 4.9348\n",
            "Epoch 36/100\n",
            "1/1 [==============================] - 0s 17ms/step - loss: 4.8125 - mae: 4.8125\n",
            "Epoch 37/100\n",
            "1/1 [==============================] - 0s 20ms/step - loss: 4.6544 - mae: 4.6544\n",
            "Epoch 38/100\n",
            "1/1 [==============================] - 0s 22ms/step - loss: 4.4638 - mae: 4.4638\n",
            "Epoch 39/100\n",
            "1/1 [==============================] - 0s 28ms/step - loss: 4.2436 - mae: 4.2436\n",
            "Epoch 40/100\n",
            "1/1 [==============================] - 0s 25ms/step - loss: 4.1329 - mae: 4.1329\n",
            "Epoch 41/100\n",
            "1/1 [==============================] - 0s 24ms/step - loss: 4.0321 - mae: 4.0321\n",
            "Epoch 42/100\n",
            "1/1 [==============================] - 0s 19ms/step - loss: 4.0464 - mae: 4.0464\n",
            "Epoch 43/100\n",
            "1/1 [==============================] - 0s 24ms/step - loss: 3.9575 - mae: 3.9575\n",
            "Epoch 44/100\n",
            "1/1 [==============================] - 0s 43ms/step - loss: 3.7513 - mae: 3.7513\n",
            "Epoch 45/100\n",
            "1/1 [==============================] - 0s 22ms/step - loss: 3.4783 - mae: 3.4783\n",
            "Epoch 46/100\n",
            "1/1 [==============================] - 0s 24ms/step - loss: 3.3052 - mae: 3.3052\n",
            "Epoch 47/100\n",
            "1/1 [==============================] - 0s 19ms/step - loss: 3.1716 - mae: 3.1716\n",
            "Epoch 48/100\n",
            "1/1 [==============================] - 0s 20ms/step - loss: 3.0704 - mae: 3.0704\n",
            "Epoch 49/100\n",
            "1/1 [==============================] - 0s 35ms/step - loss: 2.9188 - mae: 2.9188\n",
            "Epoch 50/100\n",
            "1/1 [==============================] - 0s 28ms/step - loss: 2.7197 - mae: 2.7197\n",
            "Epoch 51/100\n",
            "1/1 [==============================] - 0s 28ms/step - loss: 2.4757 - mae: 2.4757\n",
            "Epoch 52/100\n",
            "1/1 [==============================] - 0s 21ms/step - loss: 2.2807 - mae: 2.2807\n",
            "Epoch 53/100\n",
            "1/1 [==============================] - 0s 53ms/step - loss: 2.1587 - mae: 2.1587\n",
            "Epoch 54/100\n",
            "1/1 [==============================] - 0s 25ms/step - loss: 1.9713 - mae: 1.9713\n",
            "Epoch 55/100\n",
            "1/1 [==============================] - 0s 20ms/step - loss: 1.6780 - mae: 1.6780\n",
            "Epoch 56/100\n",
            "1/1 [==============================] - 0s 27ms/step - loss: 1.4577 - mae: 1.4577\n",
            "Epoch 57/100\n",
            "1/1 [==============================] - 0s 24ms/step - loss: 1.2652 - mae: 1.2652\n",
            "Epoch 58/100\n",
            "1/1 [==============================] - 0s 22ms/step - loss: 1.0133 - mae: 1.0133\n",
            "Epoch 59/100\n",
            "1/1 [==============================] - 0s 17ms/step - loss: 0.7524 - mae: 0.7524\n",
            "Epoch 60/100\n",
            "1/1 [==============================] - 0s 27ms/step - loss: 0.6028 - mae: 0.6028\n",
            "Epoch 61/100\n",
            "1/1 [==============================] - 0s 25ms/step - loss: 0.2866 - mae: 0.2866\n",
            "Epoch 62/100\n",
            "1/1 [==============================] - 0s 23ms/step - loss: 0.2466 - mae: 0.2466\n",
            "Epoch 63/100\n",
            "1/1 [==============================] - 0s 39ms/step - loss: 0.3715 - mae: 0.3715\n",
            "Epoch 64/100\n",
            "1/1 [==============================] - 0s 36ms/step - loss: 0.5081 - mae: 0.5081\n",
            "Epoch 65/100\n",
            "1/1 [==============================] - 0s 29ms/step - loss: 0.6480 - mae: 0.6480\n",
            "Epoch 66/100\n",
            "1/1 [==============================] - 0s 23ms/step - loss: 0.6908 - mae: 0.6908\n",
            "Epoch 67/100\n",
            "1/1 [==============================] - 0s 18ms/step - loss: 0.8218 - mae: 0.8218\n",
            "Epoch 68/100\n",
            "1/1 [==============================] - 0s 24ms/step - loss: 0.8089 - mae: 0.8089\n",
            "Epoch 69/100\n",
            "1/1 [==============================] - 0s 36ms/step - loss: 0.7305 - mae: 0.7305\n",
            "Epoch 70/100\n",
            "1/1 [==============================] - 0s 22ms/step - loss: 0.7111 - mae: 0.7111\n",
            "Epoch 71/100\n",
            "1/1 [==============================] - 0s 15ms/step - loss: 0.6135 - mae: 0.6135\n",
            "Epoch 72/100\n",
            "1/1 [==============================] - 0s 14ms/step - loss: 0.4539 - mae: 0.4539\n",
            "Epoch 73/100\n",
            "1/1 [==============================] - 0s 14ms/step - loss: 0.3678 - mae: 0.3678\n",
            "Epoch 74/100\n",
            "1/1 [==============================] - 0s 13ms/step - loss: 0.1850 - mae: 0.1850\n",
            "Epoch 75/100\n",
            "1/1 [==============================] - 0s 15ms/step - loss: 0.0439 - mae: 0.0439\n",
            "Epoch 76/100\n",
            "1/1 [==============================] - 0s 13ms/step - loss: 0.3614 - mae: 0.3614\n",
            "Epoch 77/100\n",
            "1/1 [==============================] - 0s 13ms/step - loss: 0.4339 - mae: 0.4339\n",
            "Epoch 78/100\n",
            "1/1 [==============================] - 0s 15ms/step - loss: 0.3475 - mae: 0.3475\n",
            "Epoch 79/100\n",
            "1/1 [==============================] - 0s 26ms/step - loss: 0.5264 - mae: 0.5264\n",
            "Epoch 80/100\n",
            "1/1 [==============================] - 0s 17ms/step - loss: 0.5423 - mae: 0.5423\n",
            "Epoch 81/100\n",
            "1/1 [==============================] - 0s 23ms/step - loss: 0.4023 - mae: 0.4023\n",
            "Epoch 82/100\n",
            "1/1 [==============================] - 0s 21ms/step - loss: 0.4319 - mae: 0.4319\n",
            "Epoch 83/100\n",
            "1/1 [==============================] - 0s 32ms/step - loss: 0.3678 - mae: 0.3678\n",
            "Epoch 84/100\n",
            "1/1 [==============================] - 0s 18ms/step - loss: 0.2498 - mae: 0.2498\n",
            "Epoch 85/100\n",
            "1/1 [==============================] - 0s 11ms/step - loss: 0.1568 - mae: 0.1568\n",
            "Epoch 86/100\n",
            "1/1 [==============================] - 0s 14ms/step - loss: 0.1450 - mae: 0.1450\n",
            "Epoch 87/100\n",
            "1/1 [==============================] - 0s 13ms/step - loss: 0.1129 - mae: 0.1129\n",
            "Epoch 88/100\n",
            "1/1 [==============================] - 0s 11ms/step - loss: 0.4018 - mae: 0.4018\n",
            "Epoch 89/100\n",
            "1/1 [==============================] - 0s 12ms/step - loss: 0.4436 - mae: 0.4436\n",
            "Epoch 90/100\n",
            "1/1 [==============================] - 0s 29ms/step - loss: 0.2717 - mae: 0.2717\n",
            "Epoch 91/100\n",
            "1/1 [==============================] - 0s 15ms/step - loss: 0.4258 - mae: 0.4258\n",
            "Epoch 92/100\n",
            "1/1 [==============================] - 0s 16ms/step - loss: 0.4600 - mae: 0.4600\n",
            "Epoch 93/100\n",
            "1/1 [==============================] - 0s 16ms/step - loss: 0.3311 - mae: 0.3311\n",
            "Epoch 94/100\n",
            "1/1 [==============================] - 0s 34ms/step - loss: 0.0720 - mae: 0.0720\n",
            "Epoch 95/100\n",
            "1/1 [==============================] - 0s 36ms/step - loss: 0.1709 - mae: 0.1709\n",
            "Epoch 96/100\n",
            "1/1 [==============================] - 0s 27ms/step - loss: 0.1336 - mae: 0.1336\n",
            "Epoch 97/100\n",
            "1/1 [==============================] - 0s 19ms/step - loss: 0.3802 - mae: 0.3802\n",
            "Epoch 98/100\n",
            "1/1 [==============================] - 0s 25ms/step - loss: 0.4275 - mae: 0.4275\n",
            "Epoch 99/100\n",
            "1/1 [==============================] - 0s 22ms/step - loss: 0.2564 - mae: 0.2564\n",
            "Epoch 100/100\n",
            "1/1 [==============================] - 0s 21ms/step - loss: 0.3856 - mae: 0.3856\n"
          ]
        },
        {
          "output_type": "execute_result",
          "data": {
            "text/plain": [
              "<keras.src.callbacks.History at 0x7af5f642db40>"
            ]
          },
          "metadata": {},
          "execution_count": 17
        }
      ],
      "source": [
        "# Let's see if we can make another change to improve our model\n",
        "\n",
        "# 1. Create the model (this time with an extra hidden layer with 100 hidden units)\n",
        "model = tf.keras.Sequential([\n",
        "    tf.keras.layers.Dense(50, activation = None),\n",
        "    tf.keras.layers.Dense(1)\n",
        "])\n",
        "\n",
        "# 2. Compile the model\n",
        "model.compile(loss = tf.keras.losses.mae,\n",
        "              optimizer = tf.keras.optimizers.Adam(learning_rate = 0.01),\n",
        "              metrics=[\"mae\"])\n",
        "\n",
        "# 3. Fit the model\n",
        "model.fit(tf.expand_dims(X, axis = -1), y, epochs = 100)"
      ]
    },
    {
      "cell_type": "code",
      "execution_count": null,
      "metadata": {
        "id": "Df02HdRMW1bp",
        "colab": {
          "base_uri": "https://localhost:8080/"
        },
        "outputId": "379eed3b-1c55-4f5d-e0c9-71c69f34f574"
      },
      "outputs": [
        {
          "output_type": "execute_result",
          "data": {
            "text/plain": [
              "(<tf.Tensor: shape=(8,), dtype=float32, numpy=array([-7., -4., -1.,  2.,  5.,  8., 11., 14.], dtype=float32)>,\n",
              " <tf.Tensor: shape=(8,), dtype=float32, numpy=array([ 3.,  6.,  9., 12., 15., 18., 21., 24.], dtype=float32)>)"
            ]
          },
          "metadata": {},
          "execution_count": 18
        }
      ],
      "source": [
        "# Let's remind ourselves about the data\n",
        "X, y"
      ]
    },
    {
      "cell_type": "code",
      "execution_count": null,
      "metadata": {
        "id": "-swGWav7W8La",
        "colab": {
          "base_uri": "https://localhost:8080/"
        },
        "outputId": "769e8521-aa97-461d-c818-ac1ed4c19fe9"
      },
      "outputs": [
        {
          "output_type": "stream",
          "name": "stdout",
          "text": [
            "1/1 [==============================] - 0s 280ms/step\n"
          ]
        },
        {
          "output_type": "execute_result",
          "data": {
            "text/plain": [
              "array([[25.894266]], dtype=float32)"
            ]
          },
          "metadata": {},
          "execution_count": 19
        }
      ],
      "source": [
        "# Let's try to make a prediction\n",
        "model.predict([17.0])"
      ]
    },
    {
      "cell_type": "markdown",
      "metadata": {
        "id": "eaHE71W9aYqi"
      },
      "source": [
        "## Evaluating a model\n",
        "In practice, a typical workflow you'll go through when building neural networks is:\n",
        "\n",
        "```\n",
        "Build a model -> Fit it -> evaluate it -> tweak a model ->  -> Fit it -> evaluate it -> tweak a model -> Fit it -> evaluate it -> tweak a model\n",
        "```"
      ]
    },
    {
      "cell_type": "markdown",
      "metadata": {
        "id": "5uabykW803SO"
      },
      "source": [
        "When it comes to evaluation... there are 3 words you should memorise\n",
        "> \"Visualize, Visualize, Visualize\"\n",
        "\n",
        "It's good idea to visualize:\n",
        "\n",
        "* The data - what data we are working with? What does it look like?\n",
        "* The model itself - what does a model look like?\n",
        "* The training of model - how does a model perform while it learns?\n",
        "* The predictions of the model - how do the the predictions of a model line up against the ground truth (the original labels)?\n"
      ]
    },
    {
      "cell_type": "code",
      "execution_count": null,
      "metadata": {
        "id": "xeMMos6g1W3s",
        "colab": {
          "base_uri": "https://localhost:8080/"
        },
        "outputId": "3b9c782d-1ace-4c46-cca6-440cd53cde9a"
      },
      "outputs": [
        {
          "output_type": "execute_result",
          "data": {
            "text/plain": [
              "<tf.Tensor: shape=(50,), dtype=int32, numpy=\n",
              "array([-100,  -96,  -92,  -88,  -84,  -80,  -76,  -72,  -68,  -64,  -60,\n",
              "        -56,  -52,  -48,  -44,  -40,  -36,  -32,  -28,  -24,  -20,  -16,\n",
              "        -12,   -8,   -4,    0,    4,    8,   12,   16,   20,   24,   28,\n",
              "         32,   36,   40,   44,   48,   52,   56,   60,   64,   68,   72,\n",
              "         76,   80,   84,   88,   92,   96], dtype=int32)>"
            ]
          },
          "metadata": {},
          "execution_count": 20
        }
      ],
      "source": [
        "# Make a bigger dataset\n",
        "X = tf.range(-100, 100, 4)\n",
        "X"
      ]
    },
    {
      "cell_type": "code",
      "execution_count": null,
      "metadata": {
        "id": "SzjJOu9L2lyu",
        "colab": {
          "base_uri": "https://localhost:8080/"
        },
        "outputId": "52b78aff-04f7-4556-f70e-eaf88eb11cd9"
      },
      "outputs": [
        {
          "output_type": "execute_result",
          "data": {
            "text/plain": [
              "<tf.Tensor: shape=(50,), dtype=int32, numpy=\n",
              "array([-90, -86, -82, -78, -74, -70, -66, -62, -58, -54, -50, -46, -42,\n",
              "       -38, -34, -30, -26, -22, -18, -14, -10,  -6,  -2,   2,   6,  10,\n",
              "        14,  18,  22,  26,  30,  34,  38,  42,  46,  50,  54,  58,  62,\n",
              "        66,  70,  74,  78,  82,  86,  90,  94,  98, 102, 106], dtype=int32)>"
            ]
          },
          "metadata": {},
          "execution_count": 21
        }
      ],
      "source": [
        "# Make labels for dataset\n",
        "\n",
        "y = X + 10\n",
        "y"
      ]
    },
    {
      "cell_type": "code",
      "execution_count": null,
      "metadata": {
        "id": "tHyQs2bH2v-L",
        "colab": {
          "base_uri": "https://localhost:8080/",
          "height": 448
        },
        "outputId": "272f62b8-b249-47a6-f4db-2c1d680fa14d"
      },
      "outputs": [
        {
          "output_type": "execute_result",
          "data": {
            "text/plain": [
              "<matplotlib.collections.PathCollection at 0x7af5f639ad10>"
            ]
          },
          "metadata": {},
          "execution_count": 22
        },
        {
          "output_type": "display_data",
          "data": {
            "text/plain": [
              "<Figure size 640x480 with 1 Axes>"
            ],
            "image/png": "[encoded data removed]"
          },
          "metadata": {}
        }
      ],
      "source": [
        "# Visualize the data\n",
        "import matplotlib.pyplot as plt\n",
        "plt.scatter(X, y)\n"
      ]
    },
    {
      "cell_type": "markdown",
      "metadata": {
        "id": "LtFy_UgJ3GvN"
      },
      "source": [
        "### The 3 sets...\n",
        "\n",
        "**Training set** - the model learns from this data, which is typically 70-80% of the total data you have available\n",
        "\n",
        "**Validation set** - the model gets tuned on this data, which is typically 10-15% of the data available\n",
        "\n",
        "**Test set** - the model gets evaluated on this data to test what it has learned, which is typically 10-15% of the data available.\n"
      ]
    },
    {
      "cell_type": "code",
      "execution_count": null,
      "metadata": {
        "id": "QF3pURD77gDd",
        "colab": {
          "base_uri": "https://localhost:8080/"
        },
        "outputId": "ad96dbce-9707-4c5f-c999-1872f8116ca6"
      },
      "outputs": [
        {
          "output_type": "execute_result",
          "data": {
            "text/plain": [
              "50"
            ]
          },
          "metadata": {},
          "execution_count": 23
        }
      ],
      "source": [
        "# Check the length of how many samples we have\n",
        "\n",
        "len(X)"
      ]
    },
    {
      "cell_type": "code",
      "execution_count": null,
      "metadata": {
        "id": "UBaKO6Ob8y7o",
        "colab": {
          "base_uri": "https://localhost:8080/"
        },
        "outputId": "efe7f00c-defe-44ba-dfa8-cde418004924"
      },
      "outputs": [
        {
          "output_type": "execute_result",
          "data": {
            "text/plain": [
              "(40, 10, 40, 10)"
            ]
          },
          "metadata": {},
          "execution_count": 24
        }
      ],
      "source": [
        "# Split the data into train and test sets\n",
        "\n",
        "X_train = X[:40] # first 40 are training samples\n",
        "y_train = y[:40]\n",
        "\n",
        "X_test = X[40:] # last 10 are test samples\n",
        "y_test = y[40:]\n",
        "\n",
        "len(X_train), len(X_test), len(y_train), len(y_test)"
      ]
    },
    {
      "cell_type": "markdown",
      "metadata": {
        "id": "ijcsjbrW-E_k"
      },
      "source": [
        "### Visualizing the data\n",
        "\n",
        "Now we've got our data in training and test sets... let's visualize it again!"
      ]
    },
    {
      "cell_type": "code",
      "execution_count": null,
      "metadata": {
        "id": "dEE_2i2c-b5V",
        "colab": {
          "base_uri": "https://localhost:8080/",
          "height": 617
        },
        "outputId": "eda7eec8-cffc-41ae-f1b9-86b392b303eb"
      },
      "outputs": [
        {
          "output_type": "execute_result",
          "data": {
            "text/plain": [
              "<matplotlib.legend.Legend at 0x7af5f6238d90>"
            ]
          },
          "metadata": {},
          "execution_count": 25
        },
        {
          "output_type": "display_data",
          "data": {
            "text/plain": [
              "<Figure size 1000x700 with 1 Axes>"
            ],
            "image/png": "[encoded data removed]"
          },
          "metadata": {}
        }
      ],
      "source": [
        "plt.figure(figsize = (10, 7))\n",
        "\n",
        "# Plot training data in blue\n",
        "\n",
        "plt.scatter(X_train, y_train, c = 'b', label = 'Training data')\n",
        "\n",
        "# Plot test data in green\n",
        "\n",
        "plt.scatter(X_test, y_test, c = 'g', label = 'Test data')\n",
        "\n",
        "# Show legend\n",
        "\n",
        "plt.legend()"
      ]
    },
    {
      "cell_type": "code",
      "execution_count": null,
      "metadata": {
        "id": "bOgcmcyu1u1y"
      },
      "outputs": [],
      "source": [
        "# Let's have a look at how to build a neural network for our data\n",
        "\n",
        "# 1. Create a model\n",
        "\n",
        "model = tf.keras.Sequential([\n",
        "    tf.keras.layers.Dense(1)\n",
        "])\n",
        "\n",
        "# 2. Compile the model\n",
        "\n",
        "model.compile(loss = tf.keras.losses.mae,\n",
        "              optimizer = tf.keras.optimizers.SGD(),\n",
        "              metrics = [\"mae\"])\n",
        "\n",
        "# 3. Fit the model\n",
        "#model.fit(X_train, y_train, epochs=100)"
      ]
    },
    {
      "cell_type": "markdown",
      "metadata": {
        "id": "vAkiEqwg3LD-"
      },
      "source": [
        "### Visualizing the model"
      ]
    },
    {
      "cell_type": "code",
      "execution_count": null,
      "metadata": {
        "id": "KZnW3kTH3PXk"
      },
      "outputs": [],
      "source": [
        "#model.summary()"
      ]
    },
    {
      "cell_type": "code",
      "execution_count": null,
      "metadata": {
        "id": "KqwQO1Vz3fT7"
      },
      "outputs": [],
      "source": [
        "# Let's create a model which builds automatically by defining the input_shape argument in the first layer\n",
        "\n",
        "tf.random.set_seed(42)\n",
        "\n",
        "# Create a model (same as above)\n",
        "\n",
        "model = tf.keras.Sequential([\n",
        "    tf.keras.layers.Dense(10, input_shape=[1], name='input_layer'),\n",
        "    tf.keras.layers.Dense(1, name='output_layer')\n",
        "], name='model_1')\n",
        "\n",
        "# Compile a model (same as above)\n",
        "model.compile(loss=tf.keras.losses.mae,\n",
        "              optimizer=tf.keras.optimizers.SGD(),\n",
        "              metrics=[\"mae\"])"
      ]
    },
    {
      "cell_type": "code",
      "execution_count": null,
      "metadata": {
        "id": "w44moFz24z1e",
        "colab": {
          "base_uri": "https://localhost:8080/"
        },
        "outputId": "999b9478-ebeb-4142-d6b1-0f61b2697768"
      },
      "outputs": [
        {
          "output_type": "stream",
          "name": "stdout",
          "text": [
            "Model: \"model_1\"\n",
            "_________________________________________________________________\n",
            " Layer (type)                Output Shape              Param #   \n",
            "=================================================================\n",
            " input_layer (Dense)         (None, 10)                20        \n",
            "                                                                 \n",
            " output_layer (Dense)        (None, 1)                 11        \n",
            "                                                                 \n",
            "=================================================================\n",
            "Total params: 31 (124.00 Byte)\n",
            "Trainable params: 31 (124.00 Byte)\n",
            "Non-trainable params: 0 (0.00 Byte)\n",
            "_________________________________________________________________\n"
          ]
        }
      ],
      "source": [
        "model.summary()"
      ]
    },
    {
      "cell_type": "markdown",
      "metadata": {
        "id": "CmDgPusF5KMt"
      },
      "source": [
        "* Total params - total number of parameters in the model\n",
        "* Trainable parameters - these are the parameters (patterns) the model can update as it trains.\n",
        "* Non-trainable params - these parameters aren't updated during training (this is typical when you bring in already learn patterns or parameters from other models during **transfer learning**)\n",
        "\n",
        "📖**Resource:** For a more in depth overview of the trainable parameters within a layer, check out MIT's introduction to deep learning.\n",
        "\n",
        "⚓**Exercise** Try playing around with the number of hidden units in the dense layer, see how that effects the number of parameters total and trainable by calling model.summary()"
      ]
    },
    {
      "cell_type": "code",
      "execution_count": null,
      "metadata": {
        "id": "134jJyEB8bdn",
        "colab": {
          "base_uri": "https://localhost:8080/"
        },
        "outputId": "424d151d-4452-48e6-8088-f1e083e9e093"
      },
      "outputs": [
        {
          "output_type": "execute_result",
          "data": {
            "text/plain": [
              "<keras.src.callbacks.History at 0x7af5f6296f50>"
            ]
          },
          "metadata": {},
          "execution_count": 30
        }
      ],
      "source": [
        "# Let's fit our model to the training data\n",
        "model.fit(X_train, y_train, epochs=100, verbose=0)"
      ]
    },
    {
      "cell_type": "code",
      "execution_count": null,
      "metadata": {
        "id": "2NiEDCahh03K",
        "colab": {
          "base_uri": "https://localhost:8080/"
        },
        "outputId": "f9ce92d4-3bdf-4ff3-fd96-b74d82819c6a"
      },
      "outputs": [
        {
          "output_type": "stream",
          "name": "stdout",
          "text": [
            "Model: \"model_1\"\n",
            "_________________________________________________________________\n",
            " Layer (type)                Output Shape              Param #   \n",
            "=================================================================\n",
            " input_layer (Dense)         (None, 10)                20        \n",
            "                                                                 \n",
            " output_layer (Dense)        (None, 1)                 11        \n",
            "                                                                 \n",
            "=================================================================\n",
            "Total params: 31 (124.00 Byte)\n",
            "Trainable params: 31 (124.00 Byte)\n",
            "Non-trainable params: 0 (0.00 Byte)\n",
            "_________________________________________________________________\n"
          ]
        }
      ],
      "source": [
        "# Get a summary of our model\n",
        "model.summary()"
      ]
    },
    {
      "cell_type": "code",
      "execution_count": null,
      "metadata": {
        "id": "j6jgjS84iTKZ",
        "colab": {
          "base_uri": "https://localhost:8080/",
          "height": 312
        },
        "outputId": "a4468917-ce9f-4de1-f76a-87c4dcb9121c"
      },
      "outputs": [
        {
          "output_type": "execute_result",
          "data": {
            "image/png": "[encoded data removed]",
            "text/plain": [
              "<IPython.core.display.Image object>"
            ]
          },
          "metadata": {},
          "execution_count": 32
        }
      ],
      "source": [
        "from tensorflow.keras.utils import plot_model\n",
        "plot_model(model=model, show_shapes=True)"
      ]
    },
    {
      "cell_type": "markdown",
      "metadata": {
        "id": "4YPEnsgikETD"
      },
      "source": [
        "### Visualizing our model's predictions\n",
        "To visualize predictions it's a good idea to plot them against the ground truth labels.\n",
        "\n",
        "Often you'll see this in the form of `y_test` or `y_true` versus `y_pred` (ground truth versus your model predictions)"
      ]
    },
    {
      "cell_type": "code",
      "execution_count": null,
      "metadata": {
        "id": "Kj-An0oa4znY",
        "colab": {
          "base_uri": "https://localhost:8080/"
        },
        "outputId": "2e86f52b-f7b8-4586-cd52-18f796d778e6"
      },
      "outputs": [
        {
          "output_type": "stream",
          "name": "stdout",
          "text": [
            "1/1 [==============================] - 0s 87ms/step\n"
          ]
        },
        {
          "output_type": "execute_result",
          "data": {
            "text/plain": [
              "array([[ 90.34643 ],\n",
              "       [ 96.24984 ],\n",
              "       [102.15326 ],\n",
              "       [108.056656],\n",
              "       [113.96008 ],\n",
              "       [119.86349 ],\n",
              "       [125.76691 ],\n",
              "       [131.67033 ],\n",
              "       [137.57373 ],\n",
              "       [143.47716 ]], dtype=float32)"
            ]
          },
          "metadata": {},
          "execution_count": 33
        }
      ],
      "source": [
        "# Make some predictions\n",
        "\n",
        "y_pred = model.predict(X_test)\n",
        "y_pred"
      ]
    },
    {
      "cell_type": "markdown",
      "metadata": {
        "id": "cN-qjgtx5Quh"
      },
      "source": [
        "**Note** If you feel like you are going to use some functionality in the future it's a good idea to turn it into a function"
      ]
    },
    {
      "cell_type": "code",
      "execution_count": null,
      "metadata": {
        "id": "GpqbggKN5Ehy"
      },
      "outputs": [],
      "source": [
        "# Let's create a plotting function\n",
        "def plot_predictions(train_data = X_train,\n",
        "                     train_labels = y_train,\n",
        "                     test_data=X_test,\n",
        "                     test_labels=y_test,\n",
        "                     predictions=y_pred):\n",
        "  \"\"\"\n",
        "  Plots training data, test data and compares predictions to ground truth labels\n",
        "  \"\"\"\n",
        "  plt.figure(figsize=(10, 7))\n",
        "  # Plot training data in blue\n",
        "  plt.scatter(train_data, train_labels, c = \"b\", label = \"Training data\")\n",
        "  # Plot testing data in green\n",
        "  plt.scatter(test_data, test_labels, c=\"g\", label=\"Testing data\")\n",
        "  # Plot models predictions in red\n",
        "  plt.scatter(test_data, predictions, c = \"r\", label = \"Predictions\")\n",
        "  plt.legend()"
      ]
    },
    {
      "cell_type": "code",
      "execution_count": null,
      "metadata": {
        "id": "77AWq7aL7WCF",
        "colab": {
          "base_uri": "https://localhost:8080/",
          "height": 599
        },
        "outputId": "4f0e206e-ce05-452c-c6de-c57e060634ee"
      },
      "outputs": [
        {
          "output_type": "display_data",
          "data": {
            "text/plain": [
              "<Figure size 1000x700 with 1 Axes>"
            ],
            "image/png": "[encoded data removed]"
          },
          "metadata": {}
        }
      ],
      "source": [
        "plot_predictions(train_data=X_train,\n",
        "                 train_labels=y_train,\n",
        "                 test_data=X_test,\n",
        "                 test_labels=y_test,\n",
        "                 predictions=y_pred)"
      ]
    },
    {
      "cell_type": "markdown",
      "metadata": {
        "id": "jlkrCCOI7zpi"
      },
      "source": [
        "### Evaluating our model's predictions with regression evaluation metrics.\n",
        "Depending on the problem you are working on, there will be different evaluation metric to evaluate your model's performance.\n",
        "\n",
        "Since we are working on a regression, two of the main metrics:\n",
        "* MAE - mean absolute error, \"on average\", how wrong is each of my model's predictions\"\n",
        "* MSE - mean square error, \"square the average errors\""
      ]
    },
    {
      "cell_type": "code",
      "execution_count": null,
      "metadata": {
        "id": "cRkOZV8yHjmQ",
        "colab": {
          "base_uri": "https://localhost:8080/"
        },
        "outputId": "dffd3d16-bd0d-40d0-ec90-5ab948e77e08"
      },
      "outputs": [
        {
          "output_type": "stream",
          "name": "stdout",
          "text": [
            "1/1 [==============================] - 0s 494ms/step - loss: 28.9118 - mae: 28.9118\n"
          ]
        },
        {
          "output_type": "execute_result",
          "data": {
            "text/plain": [
              "[28.911792755126953, 28.911792755126953]"
            ]
          },
          "metadata": {},
          "execution_count": 36
        }
      ],
      "source": [
        "# Evaluate the model on the test set\n",
        "model.evaluate(X_test, y_test)"
      ]
    },
    {
      "cell_type": "code",
      "execution_count": null,
      "metadata": {
        "id": "i-eLUncBJ1YQ",
        "colab": {
          "base_uri": "https://localhost:8080/"
        },
        "outputId": "9d69ab6e-86d5-4de2-c126-b37c7b505f84"
      },
      "outputs": [
        {
          "output_type": "execute_result",
          "data": {
            "text/plain": [
              "<tf.Tensor: shape=(10,), dtype=float32, numpy=\n",
              "array([10.069285, 11.699936, 14.922607, 20.056656, 25.960083, 31.86349 ,\n",
              "       37.766907, 43.670334, 49.57373 , 55.47716 ], dtype=float32)>"
            ]
          },
          "metadata": {},
          "execution_count": 37
        }
      ],
      "source": [
        "# Calculate the mean absolute error\n",
        "mae = tf.metrics.mean_absolute_error(y_true = y_test,\n",
        "                                     y_pred = tf.constant(y_pred))\n",
        "mae"
      ]
    },
    {
      "cell_type": "code",
      "execution_count": null,
      "metadata": {
        "id": "QouKt4idKD9_",
        "colab": {
          "base_uri": "https://localhost:8080/"
        },
        "outputId": "8c584510-94d8-4785-af29-5436048c7e18"
      },
      "outputs": [
        {
          "output_type": "execute_result",
          "data": {
            "text/plain": [
              "array([[ 90.34643 ],\n",
              "       [ 96.24984 ],\n",
              "       [102.15326 ],\n",
              "       [108.056656],\n",
              "       [113.96008 ],\n",
              "       [119.86349 ],\n",
              "       [125.76691 ],\n",
              "       [131.67033 ],\n",
              "       [137.57373 ],\n",
              "       [143.47716 ]], dtype=float32)"
            ]
          },
          "metadata": {},
          "execution_count": 38
        }
      ],
      "source": [
        "y_pred"
      ]
    },
    {
      "cell_type": "code",
      "execution_count": null,
      "metadata": {
        "id": "9Sefo97aKFI7",
        "colab": {
          "base_uri": "https://localhost:8080/"
        },
        "outputId": "6b760272-fa92-4952-c85e-772db7563ade"
      },
      "outputs": [
        {
          "output_type": "execute_result",
          "data": {
            "text/plain": [
              "<tf.Tensor: shape=(10,), dtype=int32, numpy=array([ 70,  74,  78,  82,  86,  90,  94,  98, 102, 106], dtype=int32)>"
            ]
          },
          "metadata": {},
          "execution_count": 39
        }
      ],
      "source": [
        "y_test"
      ]
    },
    {
      "cell_type": "code",
      "execution_count": null,
      "metadata": {
        "id": "HicAw1FZtSAJ",
        "colab": {
          "base_uri": "https://localhost:8080/"
        },
        "outputId": "9124db4e-4cae-48eb-f260-a4fa26f13c11"
      },
      "outputs": [
        {
          "output_type": "execute_result",
          "data": {
            "text/plain": [
              "<tf.Tensor: shape=(10,), dtype=float32, numpy=\n",
              "array([ 90.34643 ,  96.24984 , 102.15326 , 108.056656, 113.96008 ,\n",
              "       119.86349 , 125.76691 , 131.67033 , 137.57373 , 143.47716 ],\n",
              "      dtype=float32)>"
            ]
          },
          "metadata": {},
          "execution_count": 40
        }
      ],
      "source": [
        "tf.squeeze(y_pred)"
      ]
    },
    {
      "cell_type": "code",
      "execution_count": null,
      "metadata": {
        "id": "a6iqOUVwtZ-A",
        "colab": {
          "base_uri": "https://localhost:8080/"
        },
        "outputId": "09168795-545b-43ea-8939-8bb7271d0145"
      },
      "outputs": [
        {
          "output_type": "execute_result",
          "data": {
            "text/plain": [
              "<tf.Tensor: shape=(), dtype=float32, numpy=28.911785>"
            ]
          },
          "metadata": {},
          "execution_count": 41
        }
      ],
      "source": [
        "# Calculate the mean absolute error\n",
        "mae = tf.metrics.mean_absolute_error(y_true = y_test,\n",
        "                                     y_pred = tf.squeeze(y_pred))\n",
        "mae"
      ]
    },
    {
      "cell_type": "code",
      "execution_count": null,
      "metadata": {
        "id": "4xD8KYWZt840",
        "colab": {
          "base_uri": "https://localhost:8080/"
        },
        "outputId": "61b1316c-0159-481e-e428-4fc45e0e1dd1"
      },
      "outputs": [
        {
          "output_type": "execute_result",
          "data": {
            "text/plain": [
              "<tf.Tensor: shape=(), dtype=float32, numpy=865.7811>"
            ]
          },
          "metadata": {},
          "execution_count": 42
        }
      ],
      "source": [
        "# Calculate the mean squared error\n",
        "mse = tf.metrics.mean_squared_error(y_true = y_test,\n",
        "                                     y_pred = tf.squeeze(y_pred))\n",
        "mse"
      ]
    },
    {
      "cell_type": "code",
      "execution_count": null,
      "metadata": {
        "id": "eJtlBX8yuySQ"
      },
      "outputs": [],
      "source": [
        "# Make some functions to reause MAE and MSE\n",
        "def mae(y_true, y_pred):\n",
        "  return tf.metrics.mean_absolute_error(y_true = y_true,\n",
        "                                        y_pred = tf.squeeze(y_pred))\n",
        "\n",
        "def mse(y_true, y_pred):\n",
        "  return tf.metrics.mean_squared_error(y_true = y_true,\n",
        "                                       y_pred = tf.squeeze(y_pred))"
      ]
    },
    {
      "cell_type": "markdown",
      "metadata": {
        "id": "TP8bORXObTgL"
      },
      "source": [
        "### Running experiments to i mprove our model\n",
        "\n",
        "```\n",
        "Build a model -> fit it -> evaluate it -> tweak it -> fit it -> evaluate it -> tweak it -> fit it -> evaluate it ...\n",
        "```\n",
        "1. Get more data - get more examples for you model to train on (more opportunities to learn patterns or relationships between features and labels)\n",
        "2. Make your model larger (using more complex model) - this might come in the form of more layers or more hidden units in eaxh layer.\n",
        "3. Train for longer - give your model more of a chance to find a patterns in the data\n",
        "\n",
        "Lets do 3 modelling experiments.\n",
        "\n",
        "1. `model_1` - same as the original model, 1 layer, trained for 100 epochs.\n",
        "2. `model_2` - 2 layers, trained for 100 epochs.\n",
        "3. `model_3` - 2 layers, trained for 500 epochs."
      ]
    },
    {
      "cell_type": "markdown",
      "metadata": {
        "id": "mY_sCQBneU1H"
      },
      "source": [
        "**Build** `model_1`"
      ]
    },
    {
      "cell_type": "code",
      "execution_count": null,
      "metadata": {
        "id": "2VjtBjM6b5yr",
        "colab": {
          "base_uri": "https://localhost:8080/"
        },
        "outputId": "8fbd8c3d-34f0-4d33-f36e-24bcc2059683"
      },
      "outputs": [
        {
          "output_type": "stream",
          "name": "stdout",
          "text": [
            "Epoch 1/100\n",
            "2/2 [==============================] - 2s 17ms/step - loss: 12.5395 - mae: 12.5395\n",
            "Epoch 2/100\n",
            "2/2 [==============================] - 0s 10ms/step - loss: 8.9680 - mae: 8.9680\n",
            "Epoch 3/100\n",
            "2/2 [==============================] - 0s 21ms/step - loss: 12.7680 - mae: 12.7680\n",
            "Epoch 4/100\n",
            "2/2 [==============================] - 0s 18ms/step - loss: 8.3498 - mae: 8.3498\n",
            "Epoch 5/100\n",
            "2/2 [==============================] - 0s 18ms/step - loss: 11.8533 - mae: 11.8533\n",
            "Epoch 6/100\n",
            "2/2 [==============================] - 0s 8ms/step - loss: 10.9768 - mae: 10.9768\n",
            "Epoch 7/100\n",
            "2/2 [==============================] - 0s 13ms/step - loss: 8.4522 - mae: 8.4522\n",
            "Epoch 8/100\n",
            "2/2 [==============================] - 0s 17ms/step - loss: 8.8663 - mae: 8.8663\n",
            "Epoch 9/100\n",
            "2/2 [==============================] - 0s 17ms/step - loss: 17.0867 - mae: 17.0867\n",
            "Epoch 10/100\n",
            "2/2 [==============================] - 0s 20ms/step - loss: 12.4761 - mae: 12.4761\n",
            "Epoch 11/100\n",
            "2/2 [==============================] - 0s 21ms/step - loss: 10.1933 - mae: 10.1933\n",
            "Epoch 12/100\n",
            "2/2 [==============================] - 0s 16ms/step - loss: 18.7376 - mae: 18.7376\n",
            "Epoch 13/100\n",
            "2/2 [==============================] - 0s 9ms/step - loss: 9.6964 - mae: 9.6964\n",
            "Epoch 14/100\n",
            "2/2 [==============================] - 0s 15ms/step - loss: 15.5235 - mae: 15.5235\n",
            "Epoch 15/100\n",
            "2/2 [==============================] - 0s 20ms/step - loss: 11.3647 - mae: 11.3647\n",
            "Epoch 16/100\n",
            "2/2 [==============================] - 0s 12ms/step - loss: 8.5492 - mae: 8.5492\n",
            "Epoch 17/100\n",
            "2/2 [==============================] - 0s 16ms/step - loss: 13.6602 - mae: 13.6602\n",
            "Epoch 18/100\n",
            "2/2 [==============================] - 0s 20ms/step - loss: 11.4952 - mae: 11.4952\n",
            "Epoch 19/100\n",
            "2/2 [==============================] - 0s 18ms/step - loss: 17.8713 - mae: 17.8713\n",
            "Epoch 20/100\n",
            "2/2 [==============================] - 0s 23ms/step - loss: 15.0063 - mae: 15.0063\n",
            "Epoch 21/100\n",
            "2/2 [==============================] - 0s 27ms/step - loss: 10.8762 - mae: 10.8762\n",
            "Epoch 22/100\n",
            "2/2 [==============================] - 0s 33ms/step - loss: 8.6309 - mae: 8.6309\n",
            "Epoch 23/100\n",
            "2/2 [==============================] - 0s 37ms/step - loss: 9.6804 - mae: 9.6804\n",
            "Epoch 24/100\n",
            "2/2 [==============================] - 0s 27ms/step - loss: 8.5769 - mae: 8.5769\n",
            "Epoch 25/100\n",
            "2/2 [==============================] - 0s 40ms/step - loss: 11.5824 - mae: 11.5824\n",
            "Epoch 26/100\n",
            "2/2 [==============================] - 0s 26ms/step - loss: 15.1427 - mae: 15.1427\n",
            "Epoch 27/100\n",
            "2/2 [==============================] - 0s 35ms/step - loss: 12.0330 - mae: 12.0330\n",
            "Epoch 28/100\n",
            "2/2 [==============================] - 0s 21ms/step - loss: 13.3214 - mae: 13.3214\n",
            "Epoch 29/100\n",
            "2/2 [==============================] - 0s 22ms/step - loss: 9.5924 - mae: 9.5924\n",
            "Epoch 30/100\n",
            "2/2 [==============================] - 0s 27ms/step - loss: 17.0954 - mae: 17.0954\n",
            "Epoch 31/100\n",
            "2/2 [==============================] - 0s 32ms/step - loss: 22.9546 - mae: 22.9546\n",
            "Epoch 32/100\n",
            "2/2 [==============================] - 0s 35ms/step - loss: 7.5475 - mae: 7.5475\n",
            "Epoch 33/100\n",
            "2/2 [==============================] - 0s 15ms/step - loss: 15.4329 - mae: 15.4329\n",
            "Epoch 34/100\n",
            "2/2 [==============================] - 0s 22ms/step - loss: 13.3603 - mae: 13.3603\n",
            "Epoch 35/100\n",
            "2/2 [==============================] - 0s 15ms/step - loss: 7.9744 - mae: 7.9744\n",
            "Epoch 36/100\n",
            "2/2 [==============================] - 0s 19ms/step - loss: 9.9776 - mae: 9.9776\n",
            "Epoch 37/100\n",
            "2/2 [==============================] - 0s 21ms/step - loss: 9.7281 - mae: 9.7281\n",
            "Epoch 38/100\n",
            "2/2 [==============================] - 0s 14ms/step - loss: 10.5927 - mae: 10.5927\n",
            "Epoch 39/100\n",
            "2/2 [==============================] - 0s 13ms/step - loss: 15.6746 - mae: 15.6746\n",
            "Epoch 40/100\n",
            "2/2 [==============================] - 0s 13ms/step - loss: 13.4239 - mae: 13.4239\n",
            "Epoch 41/100\n",
            "2/2 [==============================] - 0s 24ms/step - loss: 9.2822 - mae: 9.2822\n",
            "Epoch 42/100\n",
            "2/2 [==============================] - 0s 19ms/step - loss: 10.9920 - mae: 10.9920\n",
            "Epoch 43/100\n",
            "2/2 [==============================] - 0s 11ms/step - loss: 8.3284 - mae: 8.3284\n",
            "Epoch 44/100\n",
            "2/2 [==============================] - 0s 11ms/step - loss: 13.0329 - mae: 13.0329\n",
            "Epoch 45/100\n",
            "2/2 [==============================] - 0s 12ms/step - loss: 13.6834 - mae: 13.6834\n",
            "Epoch 46/100\n",
            "2/2 [==============================] - 0s 21ms/step - loss: 8.3895 - mae: 8.3895\n",
            "Epoch 47/100\n",
            "2/2 [==============================] - 0s 9ms/step - loss: 9.1808 - mae: 9.1808\n",
            "Epoch 48/100\n",
            "2/2 [==============================] - 0s 10ms/step - loss: 10.6918 - mae: 10.6918\n",
            "Epoch 49/100\n",
            "2/2 [==============================] - 0s 16ms/step - loss: 7.7917 - mae: 7.7917\n",
            "Epoch 50/100\n",
            "2/2 [==============================] - 0s 10ms/step - loss: 9.6072 - mae: 9.6072\n",
            "Epoch 51/100\n",
            "2/2 [==============================] - 0s 10ms/step - loss: 9.1704 - mae: 9.1704\n",
            "Epoch 52/100\n",
            "2/2 [==============================] - 0s 10ms/step - loss: 16.5143 - mae: 16.5143\n",
            "Epoch 53/100\n",
            "2/2 [==============================] - 0s 11ms/step - loss: 14.0603 - mae: 14.0603\n",
            "Epoch 54/100\n",
            "2/2 [==============================] - 0s 18ms/step - loss: 20.9533 - mae: 20.9533\n",
            "Epoch 55/100\n",
            "2/2 [==============================] - 0s 17ms/step - loss: 16.5322 - mae: 16.5322\n",
            "Epoch 56/100\n",
            "2/2 [==============================] - 0s 15ms/step - loss: 9.8315 - mae: 9.8315\n",
            "Epoch 57/100\n",
            "2/2 [==============================] - 0s 17ms/step - loss: 9.6735 - mae: 9.6735\n",
            "Epoch 58/100\n",
            "2/2 [==============================] - 0s 17ms/step - loss: 8.9873 - mae: 8.9873\n",
            "Epoch 59/100\n",
            "2/2 [==============================] - 0s 10ms/step - loss: 10.2070 - mae: 10.2070\n",
            "Epoch 60/100\n",
            "2/2 [==============================] - 0s 9ms/step - loss: 8.3989 - mae: 8.3989\n",
            "Epoch 61/100\n",
            "2/2 [==============================] - 0s 9ms/step - loss: 9.2282 - mae: 9.2282\n",
            "Epoch 62/100\n",
            "2/2 [==============================] - 0s 10ms/step - loss: 7.2744 - mae: 7.2744\n",
            "Epoch 63/100\n",
            "2/2 [==============================] - 0s 19ms/step - loss: 8.1806 - mae: 8.1806\n",
            "Epoch 64/100\n",
            "2/2 [==============================] - 0s 17ms/step - loss: 12.5526 - mae: 12.5526\n",
            "Epoch 65/100\n",
            "2/2 [==============================] - 0s 11ms/step - loss: 10.6336 - mae: 10.6336\n",
            "Epoch 66/100\n",
            "2/2 [==============================] - 0s 11ms/step - loss: 15.4495 - mae: 15.4495\n",
            "Epoch 67/100\n",
            "2/2 [==============================] - 0s 11ms/step - loss: 9.8950 - mae: 9.8950\n",
            "Epoch 68/100\n",
            "2/2 [==============================] - 0s 11ms/step - loss: 8.6721 - mae: 8.6721\n",
            "Epoch 69/100\n",
            "2/2 [==============================] - 0s 18ms/step - loss: 13.3233 - mae: 13.3233\n",
            "Epoch 70/100\n",
            "2/2 [==============================] - 0s 11ms/step - loss: 7.8548 - mae: 7.8548\n",
            "Epoch 71/100\n",
            "2/2 [==============================] - 0s 11ms/step - loss: 11.3554 - mae: 11.3554\n",
            "Epoch 72/100\n",
            "2/2 [==============================] - 0s 10ms/step - loss: 9.5490 - mae: 9.5490\n",
            "Epoch 73/100\n",
            "2/2 [==============================] - 0s 14ms/step - loss: 11.6484 - mae: 11.6484\n",
            "Epoch 74/100\n",
            "2/2 [==============================] - 0s 10ms/step - loss: 10.7569 - mae: 10.7569\n",
            "Epoch 75/100\n",
            "2/2 [==============================] - 0s 10ms/step - loss: 9.5467 - mae: 9.5467\n",
            "Epoch 76/100\n",
            "2/2 [==============================] - 0s 10ms/step - loss: 10.9938 - mae: 10.9938\n",
            "Epoch 77/100\n",
            "2/2 [==============================] - 0s 10ms/step - loss: 11.0580 - mae: 11.0580\n",
            "Epoch 78/100\n",
            "2/2 [==============================] - 0s 12ms/step - loss: 11.5894 - mae: 11.5894\n",
            "Epoch 79/100\n",
            "2/2 [==============================] - 0s 12ms/step - loss: 15.6536 - mae: 15.6536\n",
            "Epoch 80/100\n",
            "2/2 [==============================] - 0s 15ms/step - loss: 11.5559 - mae: 11.5559\n",
            "Epoch 81/100\n",
            "2/2 [==============================] - 0s 19ms/step - loss: 9.5076 - mae: 9.5076\n",
            "Epoch 82/100\n",
            "2/2 [==============================] - 0s 16ms/step - loss: 12.5451 - mae: 12.5451\n",
            "Epoch 83/100\n",
            "2/2 [==============================] - 0s 17ms/step - loss: 8.1506 - mae: 8.1506\n",
            "Epoch 84/100\n",
            "2/2 [==============================] - 0s 19ms/step - loss: 7.5522 - mae: 7.5522\n",
            "Epoch 85/100\n",
            "2/2 [==============================] - 0s 17ms/step - loss: 9.7490 - mae: 9.7490\n",
            "Epoch 86/100\n",
            "2/2 [==============================] - 0s 9ms/step - loss: 9.0509 - mae: 9.0509\n",
            "Epoch 87/100\n",
            "2/2 [==============================] - 0s 14ms/step - loss: 11.6947 - mae: 11.6947\n",
            "Epoch 88/100\n",
            "2/2 [==============================] - 0s 9ms/step - loss: 10.2948 - mae: 10.2948\n",
            "Epoch 89/100\n",
            "2/2 [==============================] - 0s 11ms/step - loss: 6.7461 - mae: 6.7461\n",
            "Epoch 90/100\n",
            "2/2 [==============================] - 0s 10ms/step - loss: 8.1211 - mae: 8.1211\n",
            "Epoch 91/100\n",
            "2/2 [==============================] - 0s 20ms/step - loss: 6.8944 - mae: 6.8944\n",
            "Epoch 92/100\n",
            "2/2 [==============================] - 0s 10ms/step - loss: 8.9933 - mae: 8.9933\n",
            "Epoch 93/100\n",
            "2/2 [==============================] - 0s 9ms/step - loss: 7.4902 - mae: 7.4902\n",
            "Epoch 94/100\n",
            "2/2 [==============================] - 0s 11ms/step - loss: 9.1084 - mae: 9.1084\n",
            "Epoch 95/100\n",
            "2/2 [==============================] - 0s 20ms/step - loss: 10.5686 - mae: 10.5686\n",
            "Epoch 96/100\n",
            "2/2 [==============================] - 0s 16ms/step - loss: 10.5845 - mae: 10.5845\n",
            "Epoch 97/100\n",
            "2/2 [==============================] - 0s 19ms/step - loss: 6.9981 - mae: 6.9981\n",
            "Epoch 98/100\n",
            "2/2 [==============================] - 0s 18ms/step - loss: 9.1431 - mae: 9.1431\n",
            "Epoch 99/100\n",
            "2/2 [==============================] - 0s 16ms/step - loss: 8.9474 - mae: 8.9474\n",
            "Epoch 100/100\n",
            "2/2 [==============================] - 0s 13ms/step - loss: 13.0820 - mae: 13.0820\n"
          ]
        },
        {
          "output_type": "execute_result",
          "data": {
            "text/plain": [
              "<keras.src.callbacks.History at 0x7af5f76a8670>"
            ]
          },
          "metadata": {},
          "execution_count": 44
        }
      ],
      "source": [
        "# Set random seed\n",
        "tf.random.set_seed(42)\n",
        "# 1. Create the model\n",
        "model_1 = tf.keras.Sequential([\n",
        "    tf.keras.layers.Dense(1)\n",
        "])\n",
        "\n",
        "# 2. Compile the model\n",
        "model_1.compile(loss = tf.keras.losses.mae,\n",
        "                optimizer = tf.keras.optimizers.SGD(),\n",
        "                metrics = ['mae'])\n",
        "\n",
        "# 3. Fit the model\n",
        "model_1.fit(tf.expand_dims(X_train, axis = -1), y_train, epochs = 100)"
      ]
    },
    {
      "cell_type": "code",
      "execution_count": null,
      "metadata": {
        "id": "zjCmcPEph_xy",
        "colab": {
          "base_uri": "https://localhost:8080/",
          "height": 655
        },
        "outputId": "94b303dc-1657-4920-dfb3-8427d4c1cd78"
      },
      "outputs": [
        {
          "output_type": "stream",
          "name": "stderr",
          "text": [
            "WARNING:tensorflow:5 out of the last 5 calls to <function Model.make_predict_function.<locals>.predict_function at 0x7af5f62a3370> triggered tf.function retracing. Tracing is expensive and the excessive number of tracings could be due to (1) creating @tf.function repeatedly in a loop, (2) passing tensors with different shapes, (3) passing Python objects instead of tensors. For (1), please define your @tf.function outside of the loop. For (2), @tf.function has reduce_retracing=True option that can avoid unnecessary retracing. For (3), please refer to https://www.tensorflow.org/guide/function#controlling_retracing and https://www.tensorflow.org/api_docs/python/tf/function for  more details.\n"
          ]
        },
        {
          "output_type": "stream",
          "name": "stdout",
          "text": [
            "1/1 [==============================] - 0s 121ms/step\n"
          ]
        },
        {
          "output_type": "display_data",
          "data": {
            "text/plain": [
              "<Figure size 1000x700 with 1 Axes>"
            ],
            "image/png": "[encoded data removed]"
          },
          "metadata": {}
        }
      ],
      "source": [
        "# Make and plot predictions for model_1\n",
        "y_preds_1 = model_1.predict(X_test)\n",
        "plot_predictions(predictions=y_preds_1)"
      ]
    },
    {
      "cell_type": "code",
      "execution_count": null,
      "metadata": {
        "id": "YF2gQyySjWCE",
        "colab": {
          "base_uri": "https://localhost:8080/"
        },
        "outputId": "81f2eff7-d0f4-407e-b5ae-fad66aa0cad3"
      },
      "outputs": [
        {
          "output_type": "execute_result",
          "data": {
            "text/plain": [
              "(<tf.Tensor: shape=(10, 1), dtype=float32, numpy=\n",
              " array([[42.88579 ],\n",
              "        [45.65747 ],\n",
              "        [48.42915 ],\n",
              "        [51.20083 ],\n",
              "        [53.972504],\n",
              "        [56.744183],\n",
              "        [59.51586 ],\n",
              "        [62.287537],\n",
              "        [65.05922 ],\n",
              "        [67.830894]], dtype=float32)>,\n",
              " <tf.Tensor: shape=(10,), dtype=float32, numpy=\n",
              " array([42.88579 , 45.65747 , 48.42915 , 51.20083 , 53.972504, 56.744183,\n",
              "        59.51586 , 62.287537, 65.05922 , 67.830894], dtype=float32)>)"
            ]
          },
          "metadata": {},
          "execution_count": 46
        }
      ],
      "source": [
        "tf.constant(y_preds_1), tf.squeeze(y_preds_1)"
      ]
    },
    {
      "cell_type": "code",
      "execution_count": null,
      "metadata": {
        "id": "b_GPftVciark",
        "colab": {
          "base_uri": "https://localhost:8080/"
        },
        "outputId": "5c9691e3-4017-4477-fa93-97545b345432"
      },
      "outputs": [
        {
          "output_type": "execute_result",
          "data": {
            "text/plain": [
              "(<tf.Tensor: shape=(), dtype=float32, numpy=32.641655>,\n",
              " <tf.Tensor: shape=(), dtype=float32, numpy=1077.925>)"
            ]
          },
          "metadata": {},
          "execution_count": 47
        }
      ],
      "source": [
        "# Calculate model_1 evaluation metrics\n",
        "mae_1 = mae(y_test, y_preds_1)\n",
        "mse_1 = mse(y_test, y_preds_1)\n",
        "mae_1, mse_1"
      ]
    },
    {
      "cell_type": "markdown",
      "metadata": {
        "id": "cfq1AhUgkBOj"
      },
      "source": [
        "**Build `model_2`**\n",
        "\n",
        "* 2 dense layers, trained for 100 epochs"
      ]
    },
    {
      "cell_type": "code",
      "execution_count": null,
      "metadata": {
        "id": "ZJ4LuQjIkSum",
        "colab": {
          "base_uri": "https://localhost:8080/"
        },
        "outputId": "8c4a2dc8-175e-453e-9179-f1a65916d345"
      },
      "outputs": [
        {
          "output_type": "stream",
          "name": "stdout",
          "text": [
            "Epoch 1/100\n",
            "2/2 [==============================] - 1s 17ms/step - loss: 18.1060 - mse: 801.5162\n",
            "Epoch 2/100\n",
            "2/2 [==============================] - 0s 10ms/step - loss: 22.8962 - mse: 709.3137\n",
            "Epoch 3/100\n",
            "2/2 [==============================] - 0s 17ms/step - loss: 28.2626 - mse: 1206.2781\n",
            "Epoch 4/100\n",
            "2/2 [==============================] - 0s 9ms/step - loss: 13.5338 - mse: 247.0885\n",
            "Epoch 5/100\n",
            "2/2 [==============================] - 0s 8ms/step - loss: 18.2178 - mse: 449.0377\n",
            "Epoch 6/100\n",
            "2/2 [==============================] - 0s 9ms/step - loss: 9.2243 - mse: 126.0564\n",
            "Epoch 7/100\n",
            "2/2 [==============================] - 0s 10ms/step - loss: 10.1962 - mse: 138.9439\n",
            "Epoch 8/100\n",
            "2/2 [==============================] - 0s 10ms/step - loss: 11.1808 - mse: 172.0206\n",
            "Epoch 9/100\n",
            "2/2 [==============================] - 0s 10ms/step - loss: 41.5523 - mse: 2747.2173\n",
            "Epoch 10/100\n",
            "2/2 [==============================] - 0s 10ms/step - loss: 28.8070 - mse: 1172.3127\n",
            "Epoch 11/100\n",
            "2/2 [==============================] - 0s 10ms/step - loss: 8.5282 - mse: 96.4079\n",
            "Epoch 12/100\n",
            "2/2 [==============================] - 0s 11ms/step - loss: 27.4595 - mse: 1036.3801\n",
            "Epoch 13/100\n",
            "2/2 [==============================] - 0s 13ms/step - loss: 12.1024 - mse: 173.4745\n",
            "Epoch 14/100\n",
            "2/2 [==============================] - 0s 12ms/step - loss: 34.7339 - mse: 1982.1256\n",
            "Epoch 15/100\n",
            "2/2 [==============================] - 0s 11ms/step - loss: 22.5912 - mse: 724.6671\n",
            "Epoch 16/100\n",
            "2/2 [==============================] - 0s 15ms/step - loss: 9.9198 - mse: 125.3097\n",
            "Epoch 17/100\n",
            "2/2 [==============================] - 0s 10ms/step - loss: 17.8535 - mse: 422.8372\n",
            "Epoch 18/100\n",
            "2/2 [==============================] - 0s 11ms/step - loss: 14.3294 - mse: 325.5689\n",
            "Epoch 19/100\n",
            "2/2 [==============================] - 0s 12ms/step - loss: 14.4329 - mse: 327.9892\n",
            "Epoch 20/100\n",
            "2/2 [==============================] - 0s 13ms/step - loss: 10.4624 - mse: 148.6806\n",
            "Epoch 21/100\n",
            "2/2 [==============================] - 0s 14ms/step - loss: 15.2129 - mse: 313.9793\n",
            "Epoch 22/100\n",
            "2/2 [==============================] - 0s 11ms/step - loss: 15.5508 - mse: 333.3190\n",
            "Epoch 23/100\n",
            "2/2 [==============================] - 0s 13ms/step - loss: 9.2359 - mse: 118.6316\n",
            "Epoch 24/100\n",
            "2/2 [==============================] - 0s 9ms/step - loss: 17.2513 - mse: 407.6745\n",
            "Epoch 25/100\n",
            "2/2 [==============================] - 0s 16ms/step - loss: 15.9290 - mse: 333.2962\n",
            "Epoch 26/100\n",
            "2/2 [==============================] - 0s 15ms/step - loss: 20.9095 - mse: 648.3171\n",
            "Epoch 27/100\n",
            "2/2 [==============================] - 0s 17ms/step - loss: 26.0107 - mse: 1056.0449\n",
            "Epoch 28/100\n",
            "2/2 [==============================] - 0s 24ms/step - loss: 18.5019 - mse: 541.8944\n",
            "Epoch 29/100\n",
            "2/2 [==============================] - 0s 21ms/step - loss: 9.2434 - mse: 97.4550\n",
            "Epoch 30/100\n",
            "2/2 [==============================] - 0s 12ms/step - loss: 29.1197 - mse: 1515.9363\n",
            "Epoch 31/100\n",
            "2/2 [==============================] - 0s 10ms/step - loss: 52.7448 - mse: 4975.2266\n",
            "Epoch 32/100\n",
            "2/2 [==============================] - 0s 17ms/step - loss: 11.9390 - mse: 207.8668\n",
            "Epoch 33/100\n",
            "2/2 [==============================] - 0s 10ms/step - loss: 15.5403 - mse: 332.8637\n",
            "Epoch 34/100\n",
            "2/2 [==============================] - 0s 14ms/step - loss: 12.6259 - mse: 210.7301\n",
            "Epoch 35/100\n",
            "2/2 [==============================] - 0s 9ms/step - loss: 9.2096 - mse: 91.9591\n",
            "Epoch 36/100\n",
            "2/2 [==============================] - 0s 9ms/step - loss: 16.5288 - mse: 397.2652\n",
            "Epoch 37/100\n",
            "2/2 [==============================] - 0s 20ms/step - loss: 11.0713 - mse: 192.2544\n",
            "Epoch 38/100\n",
            "2/2 [==============================] - 0s 15ms/step - loss: 18.1998 - mse: 436.1561\n",
            "Epoch 39/100\n",
            "2/2 [==============================] - 0s 11ms/step - loss: 19.1338 - mse: 532.7048\n",
            "Epoch 40/100\n",
            "2/2 [==============================] - 0s 10ms/step - loss: 20.4920 - mse: 613.4688\n",
            "Epoch 41/100\n",
            "2/2 [==============================] - 0s 9ms/step - loss: 14.8347 - mse: 275.7106\n",
            "Epoch 42/100\n",
            "2/2 [==============================] - 0s 10ms/step - loss: 12.2234 - mse: 183.2898\n",
            "Epoch 43/100\n",
            "2/2 [==============================] - 0s 11ms/step - loss: 10.7033 - mse: 164.1110\n",
            "Epoch 44/100\n",
            "2/2 [==============================] - 0s 9ms/step - loss: 32.3420 - mse: 1721.0586\n",
            "Epoch 45/100\n",
            "2/2 [==============================] - 0s 10ms/step - loss: 12.4884 - mse: 202.9246\n",
            "Epoch 46/100\n",
            "2/2 [==============================] - 0s 9ms/step - loss: 17.5724 - mse: 462.7816\n",
            "Epoch 47/100\n",
            "2/2 [==============================] - 0s 9ms/step - loss: 15.7357 - mse: 338.5512\n",
            "Epoch 48/100\n",
            "2/2 [==============================] - 0s 13ms/step - loss: 8.3633 - mse: 112.6552\n",
            "Epoch 49/100\n",
            "2/2 [==============================] - 0s 21ms/step - loss: 13.9688 - mse: 268.6013\n",
            "Epoch 50/100\n",
            "2/2 [==============================] - 0s 23ms/step - loss: 12.8128 - mse: 214.9490\n",
            "Epoch 51/100\n",
            "2/2 [==============================] - 0s 10ms/step - loss: 14.8267 - mse: 308.8664\n",
            "Epoch 52/100\n",
            "2/2 [==============================] - 0s 11ms/step - loss: 18.7146 - mse: 528.7090\n",
            "Epoch 53/100\n",
            "2/2 [==============================] - 0s 16ms/step - loss: 24.1541 - mse: 827.5734\n",
            "Epoch 54/100\n",
            "2/2 [==============================] - 0s 12ms/step - loss: 23.2141 - mse: 807.5140\n",
            "Epoch 55/100\n",
            "2/2 [==============================] - 0s 11ms/step - loss: 24.0716 - mse: 872.0978\n",
            "Epoch 56/100\n",
            "2/2 [==============================] - 0s 10ms/step - loss: 11.1727 - mse: 171.0907\n",
            "Epoch 57/100\n",
            "2/2 [==============================] - 0s 10ms/step - loss: 13.1310 - mse: 214.6948\n",
            "Epoch 58/100\n",
            "2/2 [==============================] - 0s 19ms/step - loss: 9.8184 - mse: 106.4056\n",
            "Epoch 59/100\n",
            "2/2 [==============================] - 0s 10ms/step - loss: 13.3177 - mse: 250.0308\n",
            "Epoch 60/100\n",
            "2/2 [==============================] - 0s 11ms/step - loss: 10.8772 - mse: 139.5405\n",
            "Epoch 61/100\n",
            "2/2 [==============================] - 0s 9ms/step - loss: 13.4809 - mse: 242.0939\n",
            "Epoch 62/100\n",
            "2/2 [==============================] - 0s 17ms/step - loss: 17.5149 - mse: 468.1417\n",
            "Epoch 63/100\n",
            "2/2 [==============================] - 0s 33ms/step - loss: 9.1628 - mse: 87.6997\n",
            "Epoch 64/100\n",
            "2/2 [==============================] - 0s 28ms/step - loss: 18.3845 - mse: 491.2975\n",
            "Epoch 65/100\n",
            "2/2 [==============================] - 0s 26ms/step - loss: 10.1179 - mse: 114.9319\n",
            "Epoch 66/100\n",
            "2/2 [==============================] - 0s 16ms/step - loss: 24.2467 - mse: 887.2085\n",
            "Epoch 67/100\n",
            "2/2 [==============================] - 0s 10ms/step - loss: 10.8862 - mse: 142.6497\n",
            "Epoch 68/100\n",
            "2/2 [==============================] - 0s 13ms/step - loss: 10.7686 - mse: 158.9307\n",
            "Epoch 69/100\n",
            "2/2 [==============================] - 0s 12ms/step - loss: 23.2277 - mse: 779.7524\n",
            "Epoch 70/100\n",
            "2/2 [==============================] - 0s 12ms/step - loss: 8.8190 - mse: 143.3851\n",
            "Epoch 71/100\n",
            "2/2 [==============================] - 0s 11ms/step - loss: 15.9889 - mse: 348.1684\n",
            "Epoch 72/100\n",
            "2/2 [==============================] - 0s 11ms/step - loss: 8.1471 - mse: 109.6355\n",
            "Epoch 73/100\n",
            "2/2 [==============================] - 0s 8ms/step - loss: 9.4664 - mse: 153.0246\n",
            "Epoch 74/100\n",
            "2/2 [==============================] - 0s 10ms/step - loss: 28.1650 - mse: 1111.1877\n",
            "Epoch 75/100\n",
            "2/2 [==============================] - 0s 11ms/step - loss: 10.1886 - mse: 145.5310\n",
            "Epoch 76/100\n",
            "2/2 [==============================] - 0s 15ms/step - loss: 13.1364 - mse: 218.1929\n",
            "Epoch 77/100\n",
            "2/2 [==============================] - 0s 17ms/step - loss: 18.3606 - mse: 528.5038\n",
            "Epoch 78/100\n",
            "2/2 [==============================] - 0s 8ms/step - loss: 9.0119 - mse: 91.2202\n",
            "Epoch 79/100\n",
            "2/2 [==============================] - 0s 14ms/step - loss: 23.4059 - mse: 819.1455\n",
            "Epoch 80/100\n",
            "2/2 [==============================] - 0s 11ms/step - loss: 26.0695 - mse: 1043.8763\n",
            "Epoch 81/100\n",
            "2/2 [==============================] - 0s 8ms/step - loss: 11.3686 - mse: 157.5087\n",
            "Epoch 82/100\n",
            "2/2 [==============================] - 0s 7ms/step - loss: 12.5077 - mse: 227.8279\n",
            "Epoch 83/100\n",
            "2/2 [==============================] - 0s 7ms/step - loss: 17.2001 - mse: 384.8929\n",
            "Epoch 84/100\n",
            "2/2 [==============================] - 0s 14ms/step - loss: 6.5992 - mse: 64.7066\n",
            "Epoch 85/100\n",
            "2/2 [==============================] - 0s 27ms/step - loss: 20.2536 - mse: 573.5115\n",
            "Epoch 86/100\n",
            "2/2 [==============================] - 0s 23ms/step - loss: 10.1594 - mse: 115.3134\n",
            "Epoch 87/100\n",
            "2/2 [==============================] - 0s 13ms/step - loss: 24.2915 - mse: 825.4261\n",
            "Epoch 88/100\n",
            "2/2 [==============================] - 0s 18ms/step - loss: 18.9570 - mse: 510.5456\n",
            "Epoch 89/100\n",
            "2/2 [==============================] - 0s 19ms/step - loss: 7.6649 - mse: 83.8962\n",
            "Epoch 90/100\n",
            "2/2 [==============================] - 0s 22ms/step - loss: 17.3080 - mse: 429.3280\n",
            "Epoch 91/100\n",
            "2/2 [==============================] - 0s 11ms/step - loss: 12.4306 - mse: 225.9868\n",
            "Epoch 92/100\n",
            "2/2 [==============================] - 0s 16ms/step - loss: 24.7846 - mse: 896.4066\n",
            "Epoch 93/100\n",
            "2/2 [==============================] - 0s 12ms/step - loss: 15.5022 - mse: 367.0193\n",
            "Epoch 94/100\n",
            "2/2 [==============================] - 0s 10ms/step - loss: 9.7475 - mse: 119.9720\n",
            "Epoch 95/100\n",
            "2/2 [==============================] - 0s 8ms/step - loss: 18.4309 - mse: 501.2080\n",
            "Epoch 96/100\n",
            "2/2 [==============================] - 0s 10ms/step - loss: 10.3934 - mse: 179.1316\n",
            "Epoch 97/100\n",
            "2/2 [==============================] - 0s 15ms/step - loss: 14.1713 - mse: 301.6408\n",
            "Epoch 98/100\n",
            "2/2 [==============================] - 0s 23ms/step - loss: 9.6358 - mse: 136.8938\n",
            "Epoch 99/100\n",
            "2/2 [==============================] - 0s 21ms/step - loss: 11.3297 - mse: 164.2894\n",
            "Epoch 100/100\n",
            "2/2 [==============================] - 0s 14ms/step - loss: 29.2995 - mse: 1321.6742\n"
          ]
        },
        {
          "output_type": "execute_result",
          "data": {
            "text/plain": [
              "<keras.src.callbacks.History at 0x7af5f741cf40>"
            ]
          },
          "metadata": {},
          "execution_count": 48
        }
      ],
      "source": [
        "# Set random seed\n",
        "tf.random.set_seed(42)\n",
        "\n",
        "# 2. Create the model\n",
        "model_2 = tf.keras.Sequential([\n",
        "    tf.keras.layers.Dense(10),\n",
        "    tf.keras.layers.Dense(1)\n",
        "])\n",
        "\n",
        "# 2. Compile the model\n",
        "model_2.compile(loss = tf.keras.losses.mae,\n",
        "            optimizer = tf.keras.optimizers.SGD(),\n",
        "            metrics = ['mse'])\n",
        "\n",
        "# 3. Fit the model\n",
        "model_2.fit(tf.expand_dims(X_train, axis = -1), y_train, epochs = 100)"
      ]
    },
    {
      "cell_type": "code",
      "execution_count": null,
      "metadata": {
        "id": "OiM1bhjU58Db",
        "colab": {
          "base_uri": "https://localhost:8080/",
          "height": 655
        },
        "outputId": "5e496f5b-0dc2-44eb-8add-d030ddebf055"
      },
      "outputs": [
        {
          "output_type": "stream",
          "name": "stderr",
          "text": [
            "WARNING:tensorflow:6 out of the last 6 calls to <function Model.make_predict_function.<locals>.predict_function at 0x7af5f769f520> triggered tf.function retracing. Tracing is expensive and the excessive number of tracings could be due to (1) creating @tf.function repeatedly in a loop, (2) passing tensors with different shapes, (3) passing Python objects instead of tensors. For (1), please define your @tf.function outside of the loop. For (2), @tf.function has reduce_retracing=True option that can avoid unnecessary retracing. For (3), please refer to https://www.tensorflow.org/guide/function#controlling_retracing and https://www.tensorflow.org/api_docs/python/tf/function for  more details.\n"
          ]
        },
        {
          "output_type": "stream",
          "name": "stdout",
          "text": [
            "1/1 [==============================] - 0s 124ms/step\n"
          ]
        },
        {
          "output_type": "display_data",
          "data": {
            "text/plain": [
              "<Figure size 1000x700 with 1 Axes>"
            ],
            "image/png": "[encoded data removed]"
          },
          "metadata": {}
        }
      ],
      "source": [
        "# Make and plot predictions for model_2\n",
        "y_preds_2 = model_2.predict(X_test)\n",
        "plot_predictions(predictions=y_preds_2)"
      ]
    },
    {
      "cell_type": "code",
      "execution_count": null,
      "metadata": {
        "id": "UxnveU7I7vJ9",
        "colab": {
          "base_uri": "https://localhost:8080/"
        },
        "outputId": "d0400a5a-ec25-42ed-9a7a-e5d80008fec1"
      },
      "outputs": [
        {
          "output_type": "execute_result",
          "data": {
            "text/plain": [
              "(<tf.Tensor: shape=(), dtype=float32, numpy=11.608168>,\n",
              " <tf.Tensor: shape=(), dtype=float32, numpy=143.34453>)"
            ]
          },
          "metadata": {},
          "execution_count": 50
        }
      ],
      "source": [
        "# Calculate model_2 evaluation matrix\n",
        "\n",
        "mae_2 = mae(y_test, y_preds_2)\n",
        "mse_2 = mse(y_test, y_preds_2)\n",
        "mae_2, mse_2"
      ]
    },
    {
      "cell_type": "markdown",
      "metadata": {
        "id": "Zlt8sa8Z8CQZ"
      },
      "source": [
        "**Build** ``model_3``\n",
        "\n",
        "* 2 layers trained for 500 epochs"
      ]
    },
    {
      "cell_type": "code",
      "execution_count": null,
      "metadata": {
        "id": "GuCvzSXL8Q_P",
        "colab": {
          "base_uri": "https://localhost:8080/"
        },
        "outputId": "e70aa349-4683-4c6e-ffbd-14f081543843"
      },
      "outputs": [
        {
          "output_type": "stream",
          "name": "stdout",
          "text": [
            "Epoch 1/500\n",
            "2/2 [==============================] - 1s 25ms/step - loss: 35.4779 - mae: 35.4779\n",
            "Epoch 2/500\n",
            "2/2 [==============================] - 0s 19ms/step - loss: 21.9357 - mae: 21.9357\n",
            "Epoch 3/500\n",
            "2/2 [==============================] - 0s 26ms/step - loss: 27.7835 - mae: 27.7835\n",
            "Epoch 4/500\n",
            "2/2 [==============================] - 0s 27ms/step - loss: 19.7022 - mae: 19.7022\n",
            "Epoch 5/500\n",
            "2/2 [==============================] - 0s 14ms/step - loss: 13.3044 - mae: 13.3044\n",
            "Epoch 6/500\n",
            "2/2 [==============================] - 0s 15ms/step - loss: 10.7433 - mae: 10.7433\n",
            "Epoch 7/500\n",
            "2/2 [==============================] - 0s 25ms/step - loss: 11.7113 - mae: 11.7113\n",
            "Epoch 8/500\n",
            "2/2 [==============================] - 0s 24ms/step - loss: 10.7638 - mae: 10.7638\n",
            "Epoch 9/500\n",
            "2/2 [==============================] - 0s 28ms/step - loss: 36.4256 - mae: 36.4256\n",
            "Epoch 10/500\n",
            "2/2 [==============================] - 0s 17ms/step - loss: 24.2616 - mae: 24.2616\n",
            "Epoch 11/500\n",
            "2/2 [==============================] - 0s 20ms/step - loss: 11.7971 - mae: 11.7971\n",
            "Epoch 12/500\n",
            "2/2 [==============================] - 0s 27ms/step - loss: 23.6035 - mae: 23.6035\n",
            "Epoch 13/500\n",
            "2/2 [==============================] - 0s 19ms/step - loss: 21.1278 - mae: 21.1278\n",
            "Epoch 14/500\n",
            "2/2 [==============================] - 0s 15ms/step - loss: 23.5796 - mae: 23.5796\n",
            "Epoch 15/500\n",
            "2/2 [==============================] - 0s 26ms/step - loss: 15.6825 - mae: 15.6825\n",
            "Epoch 16/500\n",
            "2/2 [==============================] - 0s 22ms/step - loss: 10.3999 - mae: 10.3999\n",
            "Epoch 17/500\n",
            "2/2 [==============================] - 0s 21ms/step - loss: 19.6015 - mae: 19.6015\n",
            "Epoch 18/500\n",
            "2/2 [==============================] - 0s 15ms/step - loss: 13.2544 - mae: 13.2544\n",
            "Epoch 19/500\n",
            "2/2 [==============================] - 0s 13ms/step - loss: 16.0149 - mae: 16.0149\n",
            "Epoch 20/500\n",
            "2/2 [==============================] - 0s 16ms/step - loss: 10.1808 - mae: 10.1808\n",
            "Epoch 21/500\n",
            "2/2 [==============================] - 0s 14ms/step - loss: 13.7235 - mae: 13.7235\n",
            "Epoch 22/500\n",
            "2/2 [==============================] - 0s 13ms/step - loss: 21.9273 - mae: 21.9273\n",
            "Epoch 23/500\n",
            "2/2 [==============================] - 0s 11ms/step - loss: 10.4494 - mae: 10.4494\n",
            "Epoch 24/500\n",
            "2/2 [==============================] - 0s 15ms/step - loss: 15.7476 - mae: 15.7476\n",
            "Epoch 25/500\n",
            "2/2 [==============================] - 0s 11ms/step - loss: 14.8961 - mae: 14.8961\n",
            "Epoch 26/500\n",
            "2/2 [==============================] - 0s 19ms/step - loss: 19.5242 - mae: 19.5242\n",
            "Epoch 27/500\n",
            "2/2 [==============================] - 0s 30ms/step - loss: 20.5275 - mae: 20.5275\n",
            "Epoch 28/500\n",
            "2/2 [==============================] - 0s 13ms/step - loss: 14.8984 - mae: 14.8984\n",
            "Epoch 29/500\n",
            "2/2 [==============================] - 0s 25ms/step - loss: 9.2552 - mae: 9.2552\n",
            "Epoch 30/500\n",
            "2/2 [==============================] - 0s 18ms/step - loss: 30.2781 - mae: 30.2781\n",
            "Epoch 31/500\n",
            "2/2 [==============================] - 0s 19ms/step - loss: 55.0057 - mae: 55.0057\n",
            "Epoch 32/500\n",
            "2/2 [==============================] - 0s 12ms/step - loss: 9.6747 - mae: 9.6747\n",
            "Epoch 33/500\n",
            "2/2 [==============================] - 0s 18ms/step - loss: 12.2832 - mae: 12.2832\n",
            "Epoch 34/500\n",
            "2/2 [==============================] - 0s 10ms/step - loss: 24.4049 - mae: 24.4049\n",
            "Epoch 35/500\n",
            "2/2 [==============================] - 0s 24ms/step - loss: 11.9576 - mae: 11.9576\n",
            "Epoch 36/500\n",
            "2/2 [==============================] - 0s 21ms/step - loss: 22.2155 - mae: 22.2155\n",
            "Epoch 37/500\n",
            "2/2 [==============================] - 0s 14ms/step - loss: 17.3715 - mae: 17.3715\n",
            "Epoch 38/500\n",
            "2/2 [==============================] - 0s 22ms/step - loss: 10.6608 - mae: 10.6608\n",
            "Epoch 39/500\n",
            "2/2 [==============================] - 0s 12ms/step - loss: 11.1781 - mae: 11.1781\n",
            "Epoch 40/500\n",
            "2/2 [==============================] - 0s 19ms/step - loss: 17.9923 - mae: 17.9923\n",
            "Epoch 41/500\n",
            "2/2 [==============================] - 0s 12ms/step - loss: 10.3990 - mae: 10.3990\n",
            "Epoch 42/500\n",
            "2/2 [==============================] - 0s 15ms/step - loss: 7.2626 - mae: 7.2626\n",
            "Epoch 43/500\n",
            "2/2 [==============================] - 0s 13ms/step - loss: 18.9607 - mae: 18.9607\n",
            "Epoch 44/500\n",
            "2/2 [==============================] - 0s 19ms/step - loss: 20.1191 - mae: 20.1191\n",
            "Epoch 45/500\n",
            "2/2 [==============================] - 0s 21ms/step - loss: 10.1187 - mae: 10.1187\n",
            "Epoch 46/500\n",
            "2/2 [==============================] - 0s 21ms/step - loss: 11.3829 - mae: 11.3829\n",
            "Epoch 47/500\n",
            "2/2 [==============================] - 0s 22ms/step - loss: 9.8100 - mae: 9.8100\n",
            "Epoch 48/500\n",
            "2/2 [==============================] - 0s 24ms/step - loss: 17.5954 - mae: 17.5954\n",
            "Epoch 49/500\n",
            "2/2 [==============================] - 0s 17ms/step - loss: 9.3336 - mae: 9.3336\n",
            "Epoch 50/500\n",
            "2/2 [==============================] - 0s 23ms/step - loss: 13.3886 - mae: 13.3886\n",
            "Epoch 51/500\n",
            "2/2 [==============================] - 0s 20ms/step - loss: 11.4339 - mae: 11.4339\n",
            "Epoch 52/500\n",
            "2/2 [==============================] - 0s 16ms/step - loss: 29.4589 - mae: 29.4589\n",
            "Epoch 53/500\n",
            "2/2 [==============================] - 0s 19ms/step - loss: 16.7811 - mae: 16.7811\n",
            "Epoch 54/500\n",
            "2/2 [==============================] - 0s 21ms/step - loss: 21.7689 - mae: 21.7689\n",
            "Epoch 55/500\n",
            "2/2 [==============================] - 0s 25ms/step - loss: 22.3832 - mae: 22.3832\n",
            "Epoch 56/500\n",
            "2/2 [==============================] - 0s 14ms/step - loss: 10.6319 - mae: 10.6319\n",
            "Epoch 57/500\n",
            "2/2 [==============================] - 0s 20ms/step - loss: 12.3987 - mae: 12.3987\n",
            "Epoch 58/500\n",
            "2/2 [==============================] - 0s 12ms/step - loss: 9.4081 - mae: 9.4081\n",
            "Epoch 59/500\n",
            "2/2 [==============================] - 0s 15ms/step - loss: 12.1962 - mae: 12.1962\n",
            "Epoch 60/500\n",
            "2/2 [==============================] - 0s 24ms/step - loss: 11.6740 - mae: 11.6740\n",
            "Epoch 61/500\n",
            "2/2 [==============================] - 0s 20ms/step - loss: 16.1382 - mae: 16.1382\n",
            "Epoch 62/500\n",
            "2/2 [==============================] - 0s 9ms/step - loss: 11.1846 - mae: 11.1846\n",
            "Epoch 63/500\n",
            "2/2 [==============================] - 0s 12ms/step - loss: 12.4568 - mae: 12.4568\n",
            "Epoch 64/500\n",
            "2/2 [==============================] - 0s 14ms/step - loss: 15.8372 - mae: 15.8372\n",
            "Epoch 65/500\n",
            "2/2 [==============================] - 0s 15ms/step - loss: 10.6336 - mae: 10.6336\n",
            "Epoch 66/500\n",
            "2/2 [==============================] - 0s 13ms/step - loss: 21.5992 - mae: 21.5992\n",
            "Epoch 67/500\n",
            "2/2 [==============================] - 0s 33ms/step - loss: 10.6548 - mae: 10.6548\n",
            "Epoch 68/500\n",
            "2/2 [==============================] - 0s 26ms/step - loss: 10.5973 - mae: 10.5973\n",
            "Epoch 69/500\n",
            "2/2 [==============================] - 0s 12ms/step - loss: 22.4743 - mae: 22.4743\n",
            "Epoch 70/500\n",
            "2/2 [==============================] - 0s 15ms/step - loss: 9.3759 - mae: 9.3759\n",
            "Epoch 71/500\n",
            "2/2 [==============================] - 0s 15ms/step - loss: 15.5089 - mae: 15.5089\n",
            "Epoch 72/500\n",
            "2/2 [==============================] - 0s 18ms/step - loss: 7.0198 - mae: 7.0198\n",
            "Epoch 73/500\n",
            "2/2 [==============================] - 0s 24ms/step - loss: 12.2513 - mae: 12.2513\n",
            "Epoch 74/500\n",
            "2/2 [==============================] - 0s 21ms/step - loss: 17.4143 - mae: 17.4143\n",
            "Epoch 75/500\n",
            "2/2 [==============================] - 0s 29ms/step - loss: 7.2358 - mae: 7.2358\n",
            "Epoch 76/500\n",
            "2/2 [==============================] - 0s 24ms/step - loss: 9.9930 - mae: 9.9930\n",
            "Epoch 77/500\n",
            "2/2 [==============================] - 0s 26ms/step - loss: 21.4756 - mae: 21.4756\n",
            "Epoch 78/500\n",
            "2/2 [==============================] - 0s 19ms/step - loss: 18.8287 - mae: 18.8287\n",
            "Epoch 79/500\n",
            "2/2 [==============================] - 0s 19ms/step - loss: 16.0945 - mae: 16.0945\n",
            "Epoch 80/500\n",
            "2/2 [==============================] - 0s 16ms/step - loss: 23.8235 - mae: 23.8235\n",
            "Epoch 81/500\n",
            "2/2 [==============================] - 0s 12ms/step - loss: 11.0913 - mae: 11.0913\n",
            "Epoch 82/500\n",
            "2/2 [==============================] - 0s 13ms/step - loss: 12.6511 - mae: 12.6511\n",
            "Epoch 83/500\n",
            "2/2 [==============================] - 0s 17ms/step - loss: 17.3898 - mae: 17.3898\n",
            "Epoch 84/500\n",
            "2/2 [==============================] - 0s 15ms/step - loss: 7.2744 - mae: 7.2744\n",
            "Epoch 85/500\n",
            "2/2 [==============================] - 0s 13ms/step - loss: 14.9470 - mae: 14.9470\n",
            "Epoch 86/500\n",
            "2/2 [==============================] - 0s 33ms/step - loss: 15.2744 - mae: 15.2744\n",
            "Epoch 87/500\n",
            "2/2 [==============================] - 0s 20ms/step - loss: 19.0772 - mae: 19.0772\n",
            "Epoch 88/500\n",
            "2/2 [==============================] - 0s 15ms/step - loss: 29.9109 - mae: 29.9109\n",
            "Epoch 89/500\n",
            "2/2 [==============================] - 0s 13ms/step - loss: 10.2053 - mae: 10.2053\n",
            "Epoch 90/500\n",
            "2/2 [==============================] - 0s 12ms/step - loss: 21.5880 - mae: 21.5880\n",
            "Epoch 91/500\n",
            "2/2 [==============================] - 0s 14ms/step - loss: 10.6035 - mae: 10.6035\n",
            "Epoch 92/500\n",
            "2/2 [==============================] - 0s 12ms/step - loss: 18.4500 - mae: 18.4500\n",
            "Epoch 93/500\n",
            "2/2 [==============================] - 0s 15ms/step - loss: 7.4335 - mae: 7.4335\n",
            "Epoch 94/500\n",
            "2/2 [==============================] - 0s 16ms/step - loss: 17.7788 - mae: 17.7788\n",
            "Epoch 95/500\n",
            "2/2 [==============================] - 0s 15ms/step - loss: 11.1436 - mae: 11.1436\n",
            "Epoch 96/500\n",
            "2/2 [==============================] - 0s 19ms/step - loss: 19.4732 - mae: 19.4732\n",
            "Epoch 97/500\n",
            "2/2 [==============================] - 0s 14ms/step - loss: 12.5129 - mae: 12.5129\n",
            "Epoch 98/500\n",
            "2/2 [==============================] - 0s 21ms/step - loss: 10.3074 - mae: 10.3074\n",
            "Epoch 99/500\n",
            "2/2 [==============================] - 0s 17ms/step - loss: 13.8359 - mae: 13.8359\n",
            "Epoch 100/500\n",
            "2/2 [==============================] - 0s 11ms/step - loss: 20.1234 - mae: 20.1234\n",
            "Epoch 101/500\n",
            "2/2 [==============================] - 0s 12ms/step - loss: 11.4261 - mae: 11.4261\n",
            "Epoch 102/500\n",
            "2/2 [==============================] - 0s 16ms/step - loss: 17.3865 - mae: 17.3865\n",
            "Epoch 103/500\n",
            "2/2 [==============================] - 0s 21ms/step - loss: 7.7776 - mae: 7.7776\n",
            "Epoch 104/500\n",
            "2/2 [==============================] - 0s 37ms/step - loss: 22.1354 - mae: 22.1354\n",
            "Epoch 105/500\n",
            "2/2 [==============================] - 0s 15ms/step - loss: 20.6381 - mae: 20.6381\n",
            "Epoch 106/500\n",
            "2/2 [==============================] - 0s 15ms/step - loss: 10.0617 - mae: 10.0617\n",
            "Epoch 107/500\n",
            "2/2 [==============================] - 0s 17ms/step - loss: 24.6594 - mae: 24.6594\n",
            "Epoch 108/500\n",
            "2/2 [==============================] - 0s 18ms/step - loss: 15.4243 - mae: 15.4243\n",
            "Epoch 109/500\n",
            "2/2 [==============================] - 0s 10ms/step - loss: 8.1693 - mae: 8.1693\n",
            "Epoch 110/500\n",
            "2/2 [==============================] - 0s 17ms/step - loss: 7.0185 - mae: 7.0185\n",
            "Epoch 111/500\n",
            "2/2 [==============================] - 0s 22ms/step - loss: 9.7694 - mae: 9.7694\n",
            "Epoch 112/500\n",
            "2/2 [==============================] - 0s 16ms/step - loss: 19.2601 - mae: 19.2601\n",
            "Epoch 113/500\n",
            "2/2 [==============================] - 0s 17ms/step - loss: 9.0729 - mae: 9.0729\n",
            "Epoch 114/500\n",
            "2/2 [==============================] - 0s 11ms/step - loss: 26.5729 - mae: 26.5729\n",
            "Epoch 115/500\n",
            "2/2 [==============================] - 0s 9ms/step - loss: 14.7814 - mae: 14.7814\n",
            "Epoch 116/500\n",
            "2/2 [==============================] - 0s 20ms/step - loss: 12.3864 - mae: 12.3864\n",
            "Epoch 117/500\n",
            "2/2 [==============================] - 0s 18ms/step - loss: 16.0039 - mae: 16.0039\n",
            "Epoch 118/500\n",
            "2/2 [==============================] - 0s 8ms/step - loss: 6.4466 - mae: 6.4466\n",
            "Epoch 119/500\n",
            "2/2 [==============================] - 0s 7ms/step - loss: 9.8613 - mae: 9.8613\n",
            "Epoch 120/500\n",
            "2/2 [==============================] - 0s 12ms/step - loss: 32.0693 - mae: 32.0693\n",
            "Epoch 121/500\n",
            "2/2 [==============================] - 0s 24ms/step - loss: 14.2056 - mae: 14.2056\n",
            "Epoch 122/500\n",
            "2/2 [==============================] - 0s 17ms/step - loss: 28.4337 - mae: 28.4337\n",
            "Epoch 123/500\n",
            "2/2 [==============================] - 0s 14ms/step - loss: 12.7463 - mae: 12.7463\n",
            "Epoch 124/500\n",
            "2/2 [==============================] - 0s 13ms/step - loss: 18.4473 - mae: 18.4473\n",
            "Epoch 125/500\n",
            "2/2 [==============================] - 0s 17ms/step - loss: 9.1735 - mae: 9.1735\n",
            "Epoch 126/500\n",
            "2/2 [==============================] - 0s 15ms/step - loss: 9.3113 - mae: 9.3113\n",
            "Epoch 127/500\n",
            "2/2 [==============================] - 0s 10ms/step - loss: 11.4400 - mae: 11.4400\n",
            "Epoch 128/500\n",
            "2/2 [==============================] - 0s 8ms/step - loss: 17.3063 - mae: 17.3063\n",
            "Epoch 129/500\n",
            "2/2 [==============================] - 0s 16ms/step - loss: 9.0277 - mae: 9.0277\n",
            "Epoch 130/500\n",
            "2/2 [==============================] - 0s 19ms/step - loss: 24.0873 - mae: 24.0873\n",
            "Epoch 131/500\n",
            "2/2 [==============================] - 0s 12ms/step - loss: 9.7722 - mae: 9.7722\n",
            "Epoch 132/500\n",
            "2/2 [==============================] - 0s 11ms/step - loss: 18.3350 - mae: 18.3350\n",
            "Epoch 133/500\n",
            "2/2 [==============================] - 0s 10ms/step - loss: 7.5961 - mae: 7.5961\n",
            "Epoch 134/500\n",
            "2/2 [==============================] - 0s 10ms/step - loss: 18.6009 - mae: 18.6009\n",
            "Epoch 135/500\n",
            "2/2 [==============================] - 0s 14ms/step - loss: 10.5523 - mae: 10.5523\n",
            "Epoch 136/500\n",
            "2/2 [==============================] - 0s 14ms/step - loss: 18.2870 - mae: 18.2870\n",
            "Epoch 137/500\n",
            "2/2 [==============================] - 0s 29ms/step - loss: 23.1877 - mae: 23.1877\n",
            "Epoch 138/500\n",
            "2/2 [==============================] - 0s 28ms/step - loss: 9.1509 - mae: 9.1509\n",
            "Epoch 139/500\n",
            "2/2 [==============================] - 0s 20ms/step - loss: 8.9292 - mae: 8.9292\n",
            "Epoch 140/500\n",
            "2/2 [==============================] - 0s 19ms/step - loss: 16.4824 - mae: 16.4824\n",
            "Epoch 141/500\n",
            "2/2 [==============================] - 0s 16ms/step - loss: 8.4304 - mae: 8.4304\n",
            "Epoch 142/500\n",
            "2/2 [==============================] - 0s 17ms/step - loss: 36.9527 - mae: 36.9527\n",
            "Epoch 143/500\n",
            "2/2 [==============================] - 0s 11ms/step - loss: 25.5871 - mae: 25.5871\n",
            "Epoch 144/500\n",
            "2/2 [==============================] - 0s 14ms/step - loss: 9.5464 - mae: 9.5464\n",
            "Epoch 145/500\n",
            "2/2 [==============================] - 0s 12ms/step - loss: 26.6085 - mae: 26.6085\n",
            "Epoch 146/500\n",
            "2/2 [==============================] - 0s 11ms/step - loss: 8.7313 - mae: 8.7313\n",
            "Epoch 147/500\n",
            "2/2 [==============================] - 0s 14ms/step - loss: 15.6254 - mae: 15.6254\n",
            "Epoch 148/500\n",
            "2/2 [==============================] - 0s 12ms/step - loss: 18.3151 - mae: 18.3151\n",
            "Epoch 149/500\n",
            "2/2 [==============================] - 0s 14ms/step - loss: 8.2019 - mae: 8.2019\n",
            "Epoch 150/500\n",
            "2/2 [==============================] - 0s 14ms/step - loss: 7.5026 - mae: 7.5026\n",
            "Epoch 151/500\n",
            "2/2 [==============================] - 0s 15ms/step - loss: 18.3197 - mae: 18.3197\n",
            "Epoch 152/500\n",
            "2/2 [==============================] - 0s 12ms/step - loss: 10.2927 - mae: 10.2927\n",
            "Epoch 153/500\n",
            "2/2 [==============================] - 0s 15ms/step - loss: 29.6070 - mae: 29.6070\n",
            "Epoch 154/500\n",
            "2/2 [==============================] - 0s 10ms/step - loss: 10.5676 - mae: 10.5676\n",
            "Epoch 155/500\n",
            "2/2 [==============================] - 0s 14ms/step - loss: 15.4645 - mae: 15.4645\n",
            "Epoch 156/500\n",
            "2/2 [==============================] - 0s 17ms/step - loss: 17.0382 - mae: 17.0382\n",
            "Epoch 157/500\n",
            "2/2 [==============================] - 0s 23ms/step - loss: 32.7702 - mae: 32.7702\n",
            "Epoch 158/500\n",
            "2/2 [==============================] - 0s 15ms/step - loss: 10.6977 - mae: 10.6977\n",
            "Epoch 159/500\n",
            "2/2 [==============================] - 0s 11ms/step - loss: 8.9061 - mae: 8.9061\n",
            "Epoch 160/500\n",
            "2/2 [==============================] - 0s 12ms/step - loss: 22.0901 - mae: 22.0901\n",
            "Epoch 161/500\n",
            "2/2 [==============================] - 0s 12ms/step - loss: 11.7008 - mae: 11.7008\n",
            "Epoch 162/500\n",
            "2/2 [==============================] - 0s 17ms/step - loss: 21.5314 - mae: 21.5314\n",
            "Epoch 163/500\n",
            "2/2 [==============================] - 0s 21ms/step - loss: 19.2096 - mae: 19.2096\n",
            "Epoch 164/500\n",
            "2/2 [==============================] - 0s 22ms/step - loss: 10.9966 - mae: 10.9966\n",
            "Epoch 165/500\n",
            "2/2 [==============================] - 0s 11ms/step - loss: 9.6303 - mae: 9.6303\n",
            "Epoch 166/500\n",
            "2/2 [==============================] - 0s 12ms/step - loss: 21.6165 - mae: 21.6165\n",
            "Epoch 167/500\n",
            "2/2 [==============================] - 0s 24ms/step - loss: 26.2221 - mae: 26.2221\n",
            "Epoch 168/500\n",
            "2/2 [==============================] - 0s 14ms/step - loss: 9.8489 - mae: 9.8489\n",
            "Epoch 169/500\n",
            "2/2 [==============================] - 0s 9ms/step - loss: 22.4941 - mae: 22.4941\n",
            "Epoch 170/500\n",
            "2/2 [==============================] - 0s 12ms/step - loss: 10.1654 - mae: 10.1654\n",
            "Epoch 171/500\n",
            "2/2 [==============================] - 0s 15ms/step - loss: 18.0783 - mae: 18.0783\n",
            "Epoch 172/500\n",
            "2/2 [==============================] - 0s 21ms/step - loss: 28.7617 - mae: 28.7617\n",
            "Epoch 173/500\n",
            "2/2 [==============================] - 0s 23ms/step - loss: 16.4705 - mae: 16.4705\n",
            "Epoch 174/500\n",
            "2/2 [==============================] - 0s 24ms/step - loss: 11.2221 - mae: 11.2221\n",
            "Epoch 175/500\n",
            "2/2 [==============================] - 0s 16ms/step - loss: 27.6043 - mae: 27.6043\n",
            "Epoch 176/500\n",
            "2/2 [==============================] - 0s 13ms/step - loss: 8.2539 - mae: 8.2539\n",
            "Epoch 177/500\n",
            "2/2 [==============================] - 0s 17ms/step - loss: 9.2495 - mae: 9.2495\n",
            "Epoch 178/500\n",
            "2/2 [==============================] - 0s 16ms/step - loss: 18.0762 - mae: 18.0762\n",
            "Epoch 179/500\n",
            "2/2 [==============================] - 0s 23ms/step - loss: 10.6327 - mae: 10.6327\n",
            "Epoch 180/500\n",
            "2/2 [==============================] - 0s 13ms/step - loss: 7.8949 - mae: 7.8949\n",
            "Epoch 181/500\n",
            "2/2 [==============================] - 0s 25ms/step - loss: 17.3403 - mae: 17.3403\n",
            "Epoch 182/500\n",
            "2/2 [==============================] - 0s 18ms/step - loss: 10.9886 - mae: 10.9886\n",
            "Epoch 183/500\n",
            "2/2 [==============================] - 0s 32ms/step - loss: 11.6749 - mae: 11.6749\n",
            "Epoch 184/500\n",
            "2/2 [==============================] - 0s 22ms/step - loss: 30.3002 - mae: 30.3002\n",
            "Epoch 185/500\n",
            "2/2 [==============================] - 0s 16ms/step - loss: 8.1814 - mae: 8.1814\n",
            "Epoch 186/500\n",
            "2/2 [==============================] - 0s 14ms/step - loss: 22.7083 - mae: 22.7083\n",
            "Epoch 187/500\n",
            "2/2 [==============================] - 0s 13ms/step - loss: 19.2064 - mae: 19.2064\n",
            "Epoch 188/500\n",
            "2/2 [==============================] - 0s 16ms/step - loss: 13.6276 - mae: 13.6276\n",
            "Epoch 189/500\n",
            "2/2 [==============================] - 0s 16ms/step - loss: 15.0734 - mae: 15.0734\n",
            "Epoch 190/500\n",
            "2/2 [==============================] - 0s 17ms/step - loss: 20.6214 - mae: 20.6214\n",
            "Epoch 191/500\n",
            "2/2 [==============================] - 0s 9ms/step - loss: 22.2149 - mae: 22.2149\n",
            "Epoch 192/500\n",
            "2/2 [==============================] - 0s 8ms/step - loss: 10.0309 - mae: 10.0309\n",
            "Epoch 193/500\n",
            "2/2 [==============================] - 0s 10ms/step - loss: 28.6201 - mae: 28.6201\n",
            "Epoch 194/500\n",
            "2/2 [==============================] - 0s 12ms/step - loss: 7.0553 - mae: 7.0553\n",
            "Epoch 195/500\n",
            "2/2 [==============================] - 0s 13ms/step - loss: 7.8040 - mae: 7.8040\n",
            "Epoch 196/500\n",
            "2/2 [==============================] - 0s 11ms/step - loss: 26.0542 - mae: 26.0542\n",
            "Epoch 197/500\n",
            "2/2 [==============================] - 0s 10ms/step - loss: 11.5718 - mae: 11.5718\n",
            "Epoch 198/500\n",
            "2/2 [==============================] - 0s 10ms/step - loss: 18.8655 - mae: 18.8655\n",
            "Epoch 199/500\n",
            "2/2 [==============================] - 0s 10ms/step - loss: 16.6662 - mae: 16.6662\n",
            "Epoch 200/500\n",
            "2/2 [==============================] - 0s 9ms/step - loss: 12.3611 - mae: 12.3611\n",
            "Epoch 201/500\n",
            "2/2 [==============================] - 0s 9ms/step - loss: 7.1182 - mae: 7.1182\n",
            "Epoch 202/500\n",
            "2/2 [==============================] - 0s 9ms/step - loss: 22.8804 - mae: 22.8804\n",
            "Epoch 203/500\n",
            "2/2 [==============================] - 0s 8ms/step - loss: 8.9969 - mae: 8.9969\n",
            "Epoch 204/500\n",
            "2/2 [==============================] - 0s 8ms/step - loss: 18.8366 - mae: 18.8366\n",
            "Epoch 205/500\n",
            "2/2 [==============================] - 0s 8ms/step - loss: 9.3942 - mae: 9.3942\n",
            "Epoch 206/500\n",
            "2/2 [==============================] - 0s 9ms/step - loss: 10.4578 - mae: 10.4578\n",
            "Epoch 207/500\n",
            "2/2 [==============================] - 0s 11ms/step - loss: 21.0660 - mae: 21.0660\n",
            "Epoch 208/500\n",
            "2/2 [==============================] - 0s 8ms/step - loss: 16.4627 - mae: 16.4627\n",
            "Epoch 209/500\n",
            "2/2 [==============================] - 0s 8ms/step - loss: 14.3450 - mae: 14.3450\n",
            "Epoch 210/500\n",
            "2/2 [==============================] - 0s 9ms/step - loss: 17.3095 - mae: 17.3095\n",
            "Epoch 211/500\n",
            "2/2 [==============================] - 0s 7ms/step - loss: 10.2717 - mae: 10.2717\n",
            "Epoch 212/500\n",
            "2/2 [==============================] - 0s 8ms/step - loss: 19.8044 - mae: 19.8044\n",
            "Epoch 213/500\n",
            "2/2 [==============================] - 0s 8ms/step - loss: 14.6584 - mae: 14.6584\n",
            "Epoch 214/500\n",
            "2/2 [==============================] - 0s 8ms/step - loss: 14.3468 - mae: 14.3468\n",
            "Epoch 215/500\n",
            "2/2 [==============================] - 0s 8ms/step - loss: 22.7997 - mae: 22.7997\n",
            "Epoch 216/500\n",
            "2/2 [==============================] - 0s 7ms/step - loss: 14.5255 - mae: 14.5255\n",
            "Epoch 217/500\n",
            "2/2 [==============================] - 0s 7ms/step - loss: 9.2536 - mae: 9.2536\n",
            "Epoch 218/500\n",
            "2/2 [==============================] - 0s 7ms/step - loss: 11.8399 - mae: 11.8399\n",
            "Epoch 219/500\n",
            "2/2 [==============================] - 0s 8ms/step - loss: 6.8283 - mae: 6.8283\n",
            "Epoch 220/500\n",
            "2/2 [==============================] - 0s 10ms/step - loss: 7.1228 - mae: 7.1228\n",
            "Epoch 221/500\n",
            "2/2 [==============================] - 0s 7ms/step - loss: 38.6416 - mae: 38.6416\n",
            "Epoch 222/500\n",
            "2/2 [==============================] - 0s 11ms/step - loss: 38.6982 - mae: 38.6982\n",
            "Epoch 223/500\n",
            "2/2 [==============================] - 0s 7ms/step - loss: 5.0742 - mae: 5.0742\n",
            "Epoch 224/500\n",
            "2/2 [==============================] - 0s 7ms/step - loss: 11.2493 - mae: 11.2493\n",
            "Epoch 225/500\n",
            "2/2 [==============================] - 0s 8ms/step - loss: 31.0916 - mae: 31.0916\n",
            "Epoch 226/500\n",
            "2/2 [==============================] - 0s 8ms/step - loss: 12.2722 - mae: 12.2722\n",
            "Epoch 227/500\n",
            "2/2 [==============================] - 0s 7ms/step - loss: 19.2313 - mae: 19.2313\n",
            "Epoch 228/500\n",
            "2/2 [==============================] - 0s 8ms/step - loss: 11.3021 - mae: 11.3021\n",
            "Epoch 229/500\n",
            "2/2 [==============================] - 0s 8ms/step - loss: 13.7448 - mae: 13.7448\n",
            "Epoch 230/500\n",
            "2/2 [==============================] - 0s 7ms/step - loss: 9.5977 - mae: 9.5977\n",
            "Epoch 231/500\n",
            "2/2 [==============================] - 0s 8ms/step - loss: 19.2348 - mae: 19.2348\n",
            "Epoch 232/500\n",
            "2/2 [==============================] - 0s 7ms/step - loss: 15.8377 - mae: 15.8377\n",
            "Epoch 233/500\n",
            "2/2 [==============================] - 0s 7ms/step - loss: 11.3233 - mae: 11.3233\n",
            "Epoch 234/500\n",
            "2/2 [==============================] - 0s 8ms/step - loss: 11.5508 - mae: 11.5508\n",
            "Epoch 235/500\n",
            "2/2 [==============================] - 0s 8ms/step - loss: 8.5988 - mae: 8.5988\n",
            "Epoch 236/500\n",
            "2/2 [==============================] - 0s 10ms/step - loss: 10.0964 - mae: 10.0964\n",
            "Epoch 237/500\n",
            "2/2 [==============================] - 0s 9ms/step - loss: 7.9534 - mae: 7.9534\n",
            "Epoch 238/500\n",
            "2/2 [==============================] - 0s 7ms/step - loss: 7.4259 - mae: 7.4259\n",
            "Epoch 239/500\n",
            "2/2 [==============================] - 0s 7ms/step - loss: 14.0970 - mae: 14.0970\n",
            "Epoch 240/500\n",
            "2/2 [==============================] - 0s 8ms/step - loss: 9.1889 - mae: 9.1889\n",
            "Epoch 241/500\n",
            "2/2 [==============================] - 0s 7ms/step - loss: 13.6857 - mae: 13.6857\n",
            "Epoch 242/500\n",
            "2/2 [==============================] - 0s 8ms/step - loss: 9.0374 - mae: 9.0374\n",
            "Epoch 243/500\n",
            "2/2 [==============================] - 0s 7ms/step - loss: 19.6621 - mae: 19.6621\n",
            "Epoch 244/500\n",
            "2/2 [==============================] - 0s 8ms/step - loss: 14.3734 - mae: 14.3734\n",
            "Epoch 245/500\n",
            "2/2 [==============================] - 0s 7ms/step - loss: 14.9622 - mae: 14.9622\n",
            "Epoch 246/500\n",
            "2/2 [==============================] - 0s 8ms/step - loss: 16.0725 - mae: 16.0725\n",
            "Epoch 247/500\n",
            "2/2 [==============================] - 0s 7ms/step - loss: 18.0345 - mae: 18.0345\n",
            "Epoch 248/500\n",
            "2/2 [==============================] - 0s 8ms/step - loss: 13.5722 - mae: 13.5722\n",
            "Epoch 249/500\n",
            "2/2 [==============================] - 0s 7ms/step - loss: 14.7214 - mae: 14.7214\n",
            "Epoch 250/500\n",
            "2/2 [==============================] - 0s 8ms/step - loss: 23.6289 - mae: 23.6289\n",
            "Epoch 251/500\n",
            "2/2 [==============================] - 0s 10ms/step - loss: 13.8291 - mae: 13.8291\n",
            "Epoch 252/500\n",
            "2/2 [==============================] - 0s 8ms/step - loss: 22.9802 - mae: 22.9802\n",
            "Epoch 253/500\n",
            "2/2 [==============================] - 0s 8ms/step - loss: 10.4347 - mae: 10.4347\n",
            "Epoch 254/500\n",
            "2/2 [==============================] - 0s 8ms/step - loss: 12.3752 - mae: 12.3752\n",
            "Epoch 255/500\n",
            "2/2 [==============================] - 0s 8ms/step - loss: 16.7909 - mae: 16.7909\n",
            "Epoch 256/500\n",
            "2/2 [==============================] - 0s 8ms/step - loss: 9.4246 - mae: 9.4246\n",
            "Epoch 257/500\n",
            "2/2 [==============================] - 0s 7ms/step - loss: 13.2925 - mae: 13.2925\n",
            "Epoch 258/500\n",
            "2/2 [==============================] - 0s 8ms/step - loss: 7.4974 - mae: 7.4974\n",
            "Epoch 259/500\n",
            "2/2 [==============================] - 0s 14ms/step - loss: 18.4355 - mae: 18.4355\n",
            "Epoch 260/500\n",
            "2/2 [==============================] - 0s 11ms/step - loss: 25.9924 - mae: 25.9924\n",
            "Epoch 261/500\n",
            "2/2 [==============================] - 0s 8ms/step - loss: 9.5235 - mae: 9.5235\n",
            "Epoch 262/500\n",
            "2/2 [==============================] - 0s 8ms/step - loss: 8.6095 - mae: 8.6095\n",
            "Epoch 263/500\n",
            "2/2 [==============================] - 0s 7ms/step - loss: 8.0989 - mae: 8.0989\n",
            "Epoch 264/500\n",
            "2/2 [==============================] - 0s 7ms/step - loss: 17.9734 - mae: 17.9734\n",
            "Epoch 265/500\n",
            "2/2 [==============================] - 0s 7ms/step - loss: 12.2182 - mae: 12.2182\n",
            "Epoch 266/500\n",
            "2/2 [==============================] - 0s 7ms/step - loss: 13.5939 - mae: 13.5939\n",
            "Epoch 267/500\n",
            "2/2 [==============================] - 0s 7ms/step - loss: 11.2457 - mae: 11.2457\n",
            "Epoch 268/500\n",
            "2/2 [==============================] - 0s 7ms/step - loss: 19.5413 - mae: 19.5413\n",
            "Epoch 269/500\n",
            "2/2 [==============================] - 0s 7ms/step - loss: 39.5219 - mae: 39.5219\n",
            "Epoch 270/500\n",
            "2/2 [==============================] - 0s 7ms/step - loss: 12.1418 - mae: 12.1418\n",
            "Epoch 271/500\n",
            "2/2 [==============================] - 0s 7ms/step - loss: 14.1350 - mae: 14.1350\n",
            "Epoch 272/500\n",
            "2/2 [==============================] - 0s 7ms/step - loss: 27.9832 - mae: 27.9832\n",
            "Epoch 273/500\n",
            "2/2 [==============================] - 0s 7ms/step - loss: 8.0145 - mae: 8.0145\n",
            "Epoch 274/500\n",
            "2/2 [==============================] - 0s 8ms/step - loss: 6.4503 - mae: 6.4503\n",
            "Epoch 275/500\n",
            "2/2 [==============================] - 0s 7ms/step - loss: 33.8695 - mae: 33.8695\n",
            "Epoch 276/500\n",
            "2/2 [==============================] - 0s 10ms/step - loss: 7.9745 - mae: 7.9745\n",
            "Epoch 277/500\n",
            "2/2 [==============================] - 0s 8ms/step - loss: 25.2049 - mae: 25.2049\n",
            "Epoch 278/500\n",
            "2/2 [==============================] - 0s 9ms/step - loss: 11.5432 - mae: 11.5432\n",
            "Epoch 279/500\n",
            "2/2 [==============================] - 0s 10ms/step - loss: 16.2765 - mae: 16.2765\n",
            "Epoch 280/500\n",
            "2/2 [==============================] - 0s 9ms/step - loss: 21.5950 - mae: 21.5950\n",
            "Epoch 281/500\n",
            "2/2 [==============================] - 0s 12ms/step - loss: 22.9394 - mae: 22.9394\n",
            "Epoch 282/500\n",
            "2/2 [==============================] - 0s 7ms/step - loss: 8.0237 - mae: 8.0237\n",
            "Epoch 283/500\n",
            "2/2 [==============================] - 0s 7ms/step - loss: 8.3155 - mae: 8.3155\n",
            "Epoch 284/500\n",
            "2/2 [==============================] - 0s 7ms/step - loss: 25.6806 - mae: 25.6806\n",
            "Epoch 285/500\n",
            "2/2 [==============================] - 0s 7ms/step - loss: 14.2624 - mae: 14.2624\n",
            "Epoch 286/500\n",
            "2/2 [==============================] - 0s 8ms/step - loss: 5.2839 - mae: 5.2839\n",
            "Epoch 287/500\n",
            "2/2 [==============================] - 0s 8ms/step - loss: 20.8096 - mae: 20.8096\n",
            "Epoch 288/500\n",
            "2/2 [==============================] - 0s 7ms/step - loss: 27.6456 - mae: 27.6456\n",
            "Epoch 289/500\n",
            "2/2 [==============================] - 0s 7ms/step - loss: 10.4347 - mae: 10.4347\n",
            "Epoch 290/500\n",
            "2/2 [==============================] - 0s 7ms/step - loss: 16.3069 - mae: 16.3069\n",
            "Epoch 291/500\n",
            "2/2 [==============================] - 0s 8ms/step - loss: 16.4944 - mae: 16.4944\n",
            "Epoch 292/500\n",
            "2/2 [==============================] - 0s 8ms/step - loss: 7.4445 - mae: 7.4445\n",
            "Epoch 293/500\n",
            "2/2 [==============================] - 0s 7ms/step - loss: 16.5520 - mae: 16.5520\n",
            "Epoch 294/500\n",
            "2/2 [==============================] - 0s 7ms/step - loss: 25.3351 - mae: 25.3351\n",
            "Epoch 295/500\n",
            "2/2 [==============================] - 0s 8ms/step - loss: 14.5827 - mae: 14.5827\n",
            "Epoch 296/500\n",
            "2/2 [==============================] - 0s 7ms/step - loss: 4.6882 - mae: 4.6882\n",
            "Epoch 297/500\n",
            "2/2 [==============================] - 0s 10ms/step - loss: 7.2985 - mae: 7.2985\n",
            "Epoch 298/500\n",
            "2/2 [==============================] - 0s 8ms/step - loss: 19.5995 - mae: 19.5995\n",
            "Epoch 299/500\n",
            "2/2 [==============================] - 0s 8ms/step - loss: 6.6329 - mae: 6.6329\n",
            "Epoch 300/500\n",
            "2/2 [==============================] - 0s 8ms/step - loss: 22.0384 - mae: 22.0384\n",
            "Epoch 301/500\n",
            "2/2 [==============================] - 0s 8ms/step - loss: 9.1467 - mae: 9.1467\n",
            "Epoch 302/500\n",
            "2/2 [==============================] - 0s 7ms/step - loss: 11.1890 - mae: 11.1890\n",
            "Epoch 303/500\n",
            "2/2 [==============================] - 0s 7ms/step - loss: 9.3473 - mae: 9.3473\n",
            "Epoch 304/500\n",
            "2/2 [==============================] - 0s 7ms/step - loss: 23.6857 - mae: 23.6857\n",
            "Epoch 305/500\n",
            "2/2 [==============================] - 0s 9ms/step - loss: 7.9313 - mae: 7.9313\n",
            "Epoch 306/500\n",
            "2/2 [==============================] - 0s 8ms/step - loss: 23.7197 - mae: 23.7197\n",
            "Epoch 307/500\n",
            "2/2 [==============================] - 0s 8ms/step - loss: 5.8956 - mae: 5.8956\n",
            "Epoch 308/500\n",
            "2/2 [==============================] - 0s 8ms/step - loss: 21.3426 - mae: 21.3426\n",
            "Epoch 309/500\n",
            "2/2 [==============================] - 0s 7ms/step - loss: 18.3725 - mae: 18.3725\n",
            "Epoch 310/500\n",
            "2/2 [==============================] - 0s 7ms/step - loss: 4.5102 - mae: 4.5102\n",
            "Epoch 311/500\n",
            "2/2 [==============================] - 0s 7ms/step - loss: 6.5208 - mae: 6.5208\n",
            "Epoch 312/500\n",
            "2/2 [==============================] - 0s 8ms/step - loss: 35.3841 - mae: 35.3841\n",
            "Epoch 313/500\n",
            "2/2 [==============================] - 0s 7ms/step - loss: 28.8604 - mae: 28.8604\n",
            "Epoch 314/500\n",
            "2/2 [==============================] - 0s 9ms/step - loss: 11.2074 - mae: 11.2074\n",
            "Epoch 315/500\n",
            "2/2 [==============================] - 0s 7ms/step - loss: 23.5761 - mae: 23.5761\n",
            "Epoch 316/500\n",
            "2/2 [==============================] - 0s 7ms/step - loss: 14.3867 - mae: 14.3867\n",
            "Epoch 317/500\n",
            "2/2 [==============================] - 0s 7ms/step - loss: 19.9215 - mae: 19.9215\n",
            "Epoch 318/500\n",
            "2/2 [==============================] - 0s 7ms/step - loss: 7.9929 - mae: 7.9929\n",
            "Epoch 319/500\n",
            "2/2 [==============================] - 0s 7ms/step - loss: 18.0540 - mae: 18.0540\n",
            "Epoch 320/500\n",
            "2/2 [==============================] - 0s 6ms/step - loss: 10.6052 - mae: 10.6052\n",
            "Epoch 321/500\n",
            "2/2 [==============================] - 0s 7ms/step - loss: 7.0079 - mae: 7.0079\n",
            "Epoch 322/500\n",
            "2/2 [==============================] - 0s 7ms/step - loss: 8.6924 - mae: 8.6924\n",
            "Epoch 323/500\n",
            "2/2 [==============================] - 0s 9ms/step - loss: 18.3706 - mae: 18.3706\n",
            "Epoch 324/500\n",
            "2/2 [==============================] - 0s 6ms/step - loss: 6.2985 - mae: 6.2985\n",
            "Epoch 325/500\n",
            "2/2 [==============================] - 0s 7ms/step - loss: 14.5503 - mae: 14.5503\n",
            "Epoch 326/500\n",
            "2/2 [==============================] - 0s 7ms/step - loss: 6.9794 - mae: 6.9794\n",
            "Epoch 327/500\n",
            "2/2 [==============================] - 0s 8ms/step - loss: 17.5271 - mae: 17.5271\n",
            "Epoch 328/500\n",
            "2/2 [==============================] - 0s 7ms/step - loss: 14.4003 - mae: 14.4003\n",
            "Epoch 329/500\n",
            "2/2 [==============================] - 0s 8ms/step - loss: 17.7256 - mae: 17.7256\n",
            "Epoch 330/500\n",
            "2/2 [==============================] - 0s 10ms/step - loss: 6.7760 - mae: 6.7760\n",
            "Epoch 331/500\n",
            "2/2 [==============================] - 0s 8ms/step - loss: 19.6411 - mae: 19.6411\n",
            "Epoch 332/500\n",
            "2/2 [==============================] - 0s 7ms/step - loss: 10.5135 - mae: 10.5135\n",
            "Epoch 333/500\n",
            "2/2 [==============================] - 0s 7ms/step - loss: 16.2451 - mae: 16.2451\n",
            "Epoch 334/500\n",
            "2/2 [==============================] - 0s 7ms/step - loss: 9.7578 - mae: 9.7578\n",
            "Epoch 335/500\n",
            "2/2 [==============================] - 0s 9ms/step - loss: 13.0680 - mae: 13.0680\n",
            "Epoch 336/500\n",
            "2/2 [==============================] - 0s 7ms/step - loss: 32.5152 - mae: 32.5152\n",
            "Epoch 337/500\n",
            "2/2 [==============================] - 0s 8ms/step - loss: 11.0619 - mae: 11.0619\n",
            "Epoch 338/500\n",
            "2/2 [==============================] - 0s 8ms/step - loss: 20.0054 - mae: 20.0054\n",
            "Epoch 339/500\n",
            "2/2 [==============================] - 0s 8ms/step - loss: 34.1723 - mae: 34.1723\n",
            "Epoch 340/500\n",
            "2/2 [==============================] - 0s 8ms/step - loss: 8.7008 - mae: 8.7008\n",
            "Epoch 341/500\n",
            "2/2 [==============================] - 0s 8ms/step - loss: 21.8293 - mae: 21.8293\n",
            "Epoch 342/500\n",
            "2/2 [==============================] - 0s 8ms/step - loss: 13.8850 - mae: 13.8850\n",
            "Epoch 343/500\n",
            "2/2 [==============================] - 0s 7ms/step - loss: 11.7376 - mae: 11.7376\n",
            "Epoch 344/500\n",
            "2/2 [==============================] - 0s 7ms/step - loss: 10.7014 - mae: 10.7014\n",
            "Epoch 345/500\n",
            "2/2 [==============================] - 0s 7ms/step - loss: 30.9322 - mae: 30.9322\n",
            "Epoch 346/500\n",
            "2/2 [==============================] - 0s 7ms/step - loss: 10.6595 - mae: 10.6595\n",
            "Epoch 347/500\n",
            "2/2 [==============================] - 0s 7ms/step - loss: 25.6054 - mae: 25.6054\n",
            "Epoch 348/500\n",
            "2/2 [==============================] - 0s 8ms/step - loss: 13.1894 - mae: 13.1894\n",
            "Epoch 349/500\n",
            "2/2 [==============================] - 0s 8ms/step - loss: 13.0725 - mae: 13.0725\n",
            "Epoch 350/500\n",
            "2/2 [==============================] - 0s 7ms/step - loss: 15.4150 - mae: 15.4150\n",
            "Epoch 351/500\n",
            "2/2 [==============================] - 0s 8ms/step - loss: 32.8980 - mae: 32.8980\n",
            "Epoch 352/500\n",
            "2/2 [==============================] - 0s 7ms/step - loss: 14.1197 - mae: 14.1197\n",
            "Epoch 353/500\n",
            "2/2 [==============================] - 0s 7ms/step - loss: 15.8532 - mae: 15.8532\n",
            "Epoch 354/500\n",
            "2/2 [==============================] - 0s 8ms/step - loss: 18.9446 - mae: 18.9446\n",
            "Epoch 355/500\n",
            "2/2 [==============================] - 0s 7ms/step - loss: 34.5272 - mae: 34.5272\n",
            "Epoch 356/500\n",
            "2/2 [==============================] - 0s 8ms/step - loss: 8.3575 - mae: 8.3575\n",
            "Epoch 357/500\n",
            "2/2 [==============================] - 0s 8ms/step - loss: 21.9680 - mae: 21.9680\n",
            "Epoch 358/500\n",
            "2/2 [==============================] - 0s 9ms/step - loss: 20.1267 - mae: 20.1267\n",
            "Epoch 359/500\n",
            "2/2 [==============================] - 0s 8ms/step - loss: 11.0439 - mae: 11.0439\n",
            "Epoch 360/500\n",
            "2/2 [==============================] - 0s 7ms/step - loss: 20.2469 - mae: 20.2469\n",
            "Epoch 361/500\n",
            "2/2 [==============================] - 0s 7ms/step - loss: 11.0690 - mae: 11.0690\n",
            "Epoch 362/500\n",
            "2/2 [==============================] - 0s 7ms/step - loss: 6.8512 - mae: 6.8512\n",
            "Epoch 363/500\n",
            "2/2 [==============================] - 0s 7ms/step - loss: 24.0469 - mae: 24.0469\n",
            "Epoch 364/500\n",
            "2/2 [==============================] - 0s 7ms/step - loss: 29.8318 - mae: 29.8318\n",
            "Epoch 365/500\n",
            "2/2 [==============================] - 0s 7ms/step - loss: 8.3965 - mae: 8.3965\n",
            "Epoch 366/500\n",
            "2/2 [==============================] - 0s 10ms/step - loss: 6.1183 - mae: 6.1183\n",
            "Epoch 367/500\n",
            "2/2 [==============================] - 0s 7ms/step - loss: 34.9474 - mae: 34.9474\n",
            "Epoch 368/500\n",
            "2/2 [==============================] - 0s 8ms/step - loss: 7.4422 - mae: 7.4422\n",
            "Epoch 369/500\n",
            "2/2 [==============================] - 0s 8ms/step - loss: 9.2551 - mae: 9.2551\n",
            "Epoch 370/500\n",
            "2/2 [==============================] - 0s 7ms/step - loss: 10.9544 - mae: 10.9544\n",
            "Epoch 371/500\n",
            "2/2 [==============================] - 0s 7ms/step - loss: 9.0161 - mae: 9.0161\n",
            "Epoch 372/500\n",
            "2/2 [==============================] - 0s 7ms/step - loss: 7.7140 - mae: 7.7140\n",
            "Epoch 373/500\n",
            "2/2 [==============================] - 0s 7ms/step - loss: 25.0564 - mae: 25.0564\n",
            "Epoch 374/500\n",
            "2/2 [==============================] - 0s 7ms/step - loss: 13.2313 - mae: 13.2313\n",
            "Epoch 375/500\n",
            "2/2 [==============================] - 0s 8ms/step - loss: 11.8578 - mae: 11.8578\n",
            "Epoch 376/500\n",
            "2/2 [==============================] - 0s 8ms/step - loss: 14.1303 - mae: 14.1303\n",
            "Epoch 377/500\n",
            "2/2 [==============================] - 0s 12ms/step - loss: 15.7250 - mae: 15.7250\n",
            "Epoch 378/500\n",
            "2/2 [==============================] - 0s 8ms/step - loss: 17.0493 - mae: 17.0493\n",
            "Epoch 379/500\n",
            "2/2 [==============================] - 0s 10ms/step - loss: 19.3846 - mae: 19.3846\n",
            "Epoch 380/500\n",
            "2/2 [==============================] - 0s 10ms/step - loss: 15.7441 - mae: 15.7441\n",
            "Epoch 381/500\n",
            "2/2 [==============================] - 0s 11ms/step - loss: 11.4694 - mae: 11.4694\n",
            "Epoch 382/500\n",
            "2/2 [==============================] - 0s 8ms/step - loss: 16.3492 - mae: 16.3492\n",
            "Epoch 383/500\n",
            "2/2 [==============================] - 0s 8ms/step - loss: 22.1085 - mae: 22.1085\n",
            "Epoch 384/500\n",
            "2/2 [==============================] - 0s 7ms/step - loss: 7.7630 - mae: 7.7630\n",
            "Epoch 385/500\n",
            "2/2 [==============================] - 0s 7ms/step - loss: 10.6294 - mae: 10.6294\n",
            "Epoch 386/500\n",
            "2/2 [==============================] - 0s 7ms/step - loss: 19.1163 - mae: 19.1163\n",
            "Epoch 387/500\n",
            "2/2 [==============================] - 0s 8ms/step - loss: 26.4407 - mae: 26.4407\n",
            "Epoch 388/500\n",
            "2/2 [==============================] - 0s 7ms/step - loss: 10.0912 - mae: 10.0912\n",
            "Epoch 389/500\n",
            "2/2 [==============================] - 0s 7ms/step - loss: 5.1858 - mae: 5.1858\n",
            "Epoch 390/500\n",
            "2/2 [==============================] - 0s 7ms/step - loss: 18.7711 - mae: 18.7711\n",
            "Epoch 391/500\n",
            "2/2 [==============================] - 0s 6ms/step - loss: 9.3558 - mae: 9.3558\n",
            "Epoch 392/500\n",
            "2/2 [==============================] - 0s 7ms/step - loss: 14.4206 - mae: 14.4206\n",
            "Epoch 393/500\n",
            "2/2 [==============================] - 0s 7ms/step - loss: 15.4317 - mae: 15.4317\n",
            "Epoch 394/500\n",
            "2/2 [==============================] - 0s 7ms/step - loss: 14.7646 - mae: 14.7646\n",
            "Epoch 395/500\n",
            "2/2 [==============================] - 0s 7ms/step - loss: 25.0049 - mae: 25.0049\n",
            "Epoch 396/500\n",
            "2/2 [==============================] - 0s 7ms/step - loss: 19.0707 - mae: 19.0707\n",
            "Epoch 397/500\n",
            "2/2 [==============================] - 0s 10ms/step - loss: 11.6095 - mae: 11.6095\n",
            "Epoch 398/500\n",
            "2/2 [==============================] - 0s 9ms/step - loss: 19.2740 - mae: 19.2740\n",
            "Epoch 399/500\n",
            "2/2 [==============================] - 0s 7ms/step - loss: 25.8225 - mae: 25.8225\n",
            "Epoch 400/500\n",
            "2/2 [==============================] - 0s 10ms/step - loss: 15.4996 - mae: 15.4996\n",
            "Epoch 401/500\n",
            "2/2 [==============================] - 0s 7ms/step - loss: 14.6935 - mae: 14.6935\n",
            "Epoch 402/500\n",
            "2/2 [==============================] - 0s 7ms/step - loss: 24.3243 - mae: 24.3243\n",
            "Epoch 403/500\n",
            "2/2 [==============================] - 0s 9ms/step - loss: 16.1764 - mae: 16.1764\n",
            "Epoch 404/500\n",
            "2/2 [==============================] - 0s 9ms/step - loss: 10.3821 - mae: 10.3821\n",
            "Epoch 405/500\n",
            "2/2 [==============================] - 0s 7ms/step - loss: 6.3999 - mae: 6.3999\n",
            "Epoch 406/500\n",
            "2/2 [==============================] - 0s 10ms/step - loss: 17.6251 - mae: 17.6251\n",
            "Epoch 407/500\n",
            "2/2 [==============================] - 0s 10ms/step - loss: 11.0668 - mae: 11.0668\n",
            "Epoch 408/500\n",
            "2/2 [==============================] - 0s 10ms/step - loss: 21.1497 - mae: 21.1497\n",
            "Epoch 409/500\n",
            "2/2 [==============================] - 0s 8ms/step - loss: 30.0820 - mae: 30.0820\n",
            "Epoch 410/500\n",
            "2/2 [==============================] - 0s 8ms/step - loss: 9.9003 - mae: 9.9003\n",
            "Epoch 411/500\n",
            "2/2 [==============================] - 0s 7ms/step - loss: 14.7584 - mae: 14.7584\n",
            "Epoch 412/500\n",
            "2/2 [==============================] - 0s 7ms/step - loss: 21.5315 - mae: 21.5315\n",
            "Epoch 413/500\n",
            "2/2 [==============================] - 0s 8ms/step - loss: 13.1879 - mae: 13.1879\n",
            "Epoch 414/500\n",
            "2/2 [==============================] - 0s 9ms/step - loss: 8.2796 - mae: 8.2796\n",
            "Epoch 415/500\n",
            "2/2 [==============================] - 0s 9ms/step - loss: 11.6934 - mae: 11.6934\n",
            "Epoch 416/500\n",
            "2/2 [==============================] - 0s 8ms/step - loss: 25.6021 - mae: 25.6021\n",
            "Epoch 417/500\n",
            "2/2 [==============================] - 0s 12ms/step - loss: 15.7899 - mae: 15.7899\n",
            "Epoch 418/500\n",
            "2/2 [==============================] - 0s 8ms/step - loss: 12.5731 - mae: 12.5731\n",
            "Epoch 419/500\n",
            "2/2 [==============================] - 0s 11ms/step - loss: 15.7328 - mae: 15.7328\n",
            "Epoch 420/500\n",
            "2/2 [==============================] - 0s 7ms/step - loss: 24.4236 - mae: 24.4236\n",
            "Epoch 421/500\n",
            "2/2 [==============================] - 0s 8ms/step - loss: 18.2915 - mae: 18.2915\n",
            "Epoch 422/500\n",
            "2/2 [==============================] - 0s 9ms/step - loss: 8.6802 - mae: 8.6802\n",
            "Epoch 423/500\n",
            "2/2 [==============================] - 0s 11ms/step - loss: 24.6430 - mae: 24.6430\n",
            "Epoch 424/500\n",
            "2/2 [==============================] - 0s 9ms/step - loss: 16.8616 - mae: 16.8616\n",
            "Epoch 425/500\n",
            "2/2 [==============================] - 0s 7ms/step - loss: 7.3798 - mae: 7.3798\n",
            "Epoch 426/500\n",
            "2/2 [==============================] - 0s 9ms/step - loss: 21.0446 - mae: 21.0446\n",
            "Epoch 427/500\n",
            "2/2 [==============================] - 0s 7ms/step - loss: 6.5493 - mae: 6.5493\n",
            "Epoch 428/500\n",
            "2/2 [==============================] - 0s 7ms/step - loss: 13.4627 - mae: 13.4627\n",
            "Epoch 429/500\n",
            "2/2 [==============================] - 0s 7ms/step - loss: 11.1903 - mae: 11.1903\n",
            "Epoch 430/500\n",
            "2/2 [==============================] - 0s 7ms/step - loss: 12.0863 - mae: 12.0863\n",
            "Epoch 431/500\n",
            "2/2 [==============================] - 0s 7ms/step - loss: 8.6509 - mae: 8.6509\n",
            "Epoch 432/500\n",
            "2/2 [==============================] - 0s 9ms/step - loss: 18.8795 - mae: 18.8795\n",
            "Epoch 433/500\n",
            "2/2 [==============================] - 0s 8ms/step - loss: 9.4929 - mae: 9.4929\n",
            "Epoch 434/500\n",
            "2/2 [==============================] - 0s 10ms/step - loss: 30.9997 - mae: 30.9997\n",
            "Epoch 435/500\n",
            "2/2 [==============================] - 0s 9ms/step - loss: 11.8728 - mae: 11.8728\n",
            "Epoch 436/500\n",
            "2/2 [==============================] - 0s 7ms/step - loss: 28.8003 - mae: 28.8003\n",
            "Epoch 437/500\n",
            "2/2 [==============================] - 0s 7ms/step - loss: 8.1063 - mae: 8.1063\n",
            "Epoch 438/500\n",
            "2/2 [==============================] - 0s 7ms/step - loss: 12.8367 - mae: 12.8367\n",
            "Epoch 439/500\n",
            "2/2 [==============================] - 0s 7ms/step - loss: 33.9271 - mae: 33.9271\n",
            "Epoch 440/500\n",
            "2/2 [==============================] - 0s 7ms/step - loss: 15.4844 - mae: 15.4844\n",
            "Epoch 441/500\n",
            "2/2 [==============================] - 0s 11ms/step - loss: 17.8481 - mae: 17.8481\n",
            "Epoch 442/500\n",
            "2/2 [==============================] - 0s 12ms/step - loss: 17.5449 - mae: 17.5449\n",
            "Epoch 443/500\n",
            "2/2 [==============================] - 0s 7ms/step - loss: 7.6811 - mae: 7.6811\n",
            "Epoch 444/500\n",
            "2/2 [==============================] - 0s 7ms/step - loss: 22.8597 - mae: 22.8597\n",
            "Epoch 445/500\n",
            "2/2 [==============================] - 0s 8ms/step - loss: 12.1109 - mae: 12.1109\n",
            "Epoch 446/500\n",
            "2/2 [==============================] - 0s 8ms/step - loss: 10.4936 - mae: 10.4936\n",
            "Epoch 447/500\n",
            "2/2 [==============================] - 0s 10ms/step - loss: 16.9580 - mae: 16.9580\n",
            "Epoch 448/500\n",
            "2/2 [==============================] - 0s 8ms/step - loss: 11.6662 - mae: 11.6662\n",
            "Epoch 449/500\n",
            "2/2 [==============================] - 0s 9ms/step - loss: 14.8556 - mae: 14.8556\n",
            "Epoch 450/500\n",
            "2/2 [==============================] - 0s 8ms/step - loss: 17.6101 - mae: 17.6101\n",
            "Epoch 451/500\n",
            "2/2 [==============================] - 0s 8ms/step - loss: 14.6496 - mae: 14.6496\n",
            "Epoch 452/500\n",
            "2/2 [==============================] - 0s 8ms/step - loss: 31.3189 - mae: 31.3189\n",
            "Epoch 453/500\n",
            "2/2 [==============================] - 0s 9ms/step - loss: 10.6021 - mae: 10.6021\n",
            "Epoch 454/500\n",
            "2/2 [==============================] - 0s 8ms/step - loss: 26.9257 - mae: 26.9257\n",
            "Epoch 455/500\n",
            "2/2 [==============================] - 0s 9ms/step - loss: 12.1295 - mae: 12.1295\n",
            "Epoch 456/500\n",
            "2/2 [==============================] - 0s 10ms/step - loss: 15.3969 - mae: 15.3969\n",
            "Epoch 457/500\n",
            "2/2 [==============================] - 0s 8ms/step - loss: 19.1476 - mae: 19.1476\n",
            "Epoch 458/500\n",
            "2/2 [==============================] - 0s 8ms/step - loss: 23.2880 - mae: 23.2880\n",
            "Epoch 459/500\n",
            "2/2 [==============================] - 0s 12ms/step - loss: 16.6582 - mae: 16.6582\n",
            "Epoch 460/500\n",
            "2/2 [==============================] - 0s 7ms/step - loss: 3.9876 - mae: 3.9876\n",
            "Epoch 461/500\n",
            "2/2 [==============================] - 0s 7ms/step - loss: 18.3958 - mae: 18.3958\n",
            "Epoch 462/500\n",
            "2/2 [==============================] - 0s 6ms/step - loss: 11.1907 - mae: 11.1907\n",
            "Epoch 463/500\n",
            "2/2 [==============================] - 0s 7ms/step - loss: 26.9585 - mae: 26.9585\n",
            "Epoch 464/500\n",
            "2/2 [==============================] - 0s 7ms/step - loss: 12.1101 - mae: 12.1101\n",
            "Epoch 465/500\n",
            "2/2 [==============================] - 0s 7ms/step - loss: 7.6419 - mae: 7.6419\n",
            "Epoch 466/500\n",
            "2/2 [==============================] - 0s 7ms/step - loss: 12.6408 - mae: 12.6408\n",
            "Epoch 467/500\n",
            "2/2 [==============================] - 0s 7ms/step - loss: 6.1480 - mae: 6.1480\n",
            "Epoch 468/500\n",
            "2/2 [==============================] - 0s 7ms/step - loss: 13.8667 - mae: 13.8667\n",
            "Epoch 469/500\n",
            "2/2 [==============================] - 0s 8ms/step - loss: 14.0311 - mae: 14.0311\n",
            "Epoch 470/500\n",
            "2/2 [==============================] - 0s 6ms/step - loss: 3.6538 - mae: 3.6538\n",
            "Epoch 471/500\n",
            "2/2 [==============================] - 0s 7ms/step - loss: 15.5135 - mae: 15.5135\n",
            "Epoch 472/500\n",
            "2/2 [==============================] - 0s 7ms/step - loss: 12.3136 - mae: 12.3136\n",
            "Epoch 473/500\n",
            "2/2 [==============================] - 0s 7ms/step - loss: 14.6953 - mae: 14.6953\n",
            "Epoch 474/500\n",
            "2/2 [==============================] - 0s 7ms/step - loss: 18.5669 - mae: 18.5669\n",
            "Epoch 475/500\n",
            "2/2 [==============================] - 0s 7ms/step - loss: 12.6493 - mae: 12.6493\n",
            "Epoch 476/500\n",
            "2/2 [==============================] - 0s 7ms/step - loss: 13.6866 - mae: 13.6866\n",
            "Epoch 477/500\n",
            "2/2 [==============================] - 0s 6ms/step - loss: 30.2756 - mae: 30.2756\n",
            "Epoch 478/500\n",
            "2/2 [==============================] - 0s 7ms/step - loss: 6.9502 - mae: 6.9502\n",
            "Epoch 479/500\n",
            "2/2 [==============================] - 0s 7ms/step - loss: 11.6196 - mae: 11.6196\n",
            "Epoch 480/500\n",
            "2/2 [==============================] - 0s 7ms/step - loss: 18.2948 - mae: 18.2948\n",
            "Epoch 481/500\n",
            "2/2 [==============================] - 0s 7ms/step - loss: 16.1503 - mae: 16.1503\n",
            "Epoch 482/500\n",
            "2/2 [==============================] - 0s 7ms/step - loss: 14.9593 - mae: 14.9593\n",
            "Epoch 483/500\n",
            "2/2 [==============================] - 0s 8ms/step - loss: 20.3406 - mae: 20.3406\n",
            "Epoch 484/500\n",
            "2/2 [==============================] - 0s 8ms/step - loss: 35.6709 - mae: 35.6709\n",
            "Epoch 485/500\n",
            "2/2 [==============================] - 0s 7ms/step - loss: 14.1465 - mae: 14.1465\n",
            "Epoch 486/500\n",
            "2/2 [==============================] - 0s 7ms/step - loss: 6.8741 - mae: 6.8741\n",
            "Epoch 487/500\n",
            "2/2 [==============================] - 0s 7ms/step - loss: 6.3547 - mae: 6.3547\n",
            "Epoch 488/500\n",
            "2/2 [==============================] - 0s 10ms/step - loss: 30.0833 - mae: 30.0833\n",
            "Epoch 489/500\n",
            "2/2 [==============================] - 0s 7ms/step - loss: 12.5995 - mae: 12.5995\n",
            "Epoch 490/500\n",
            "2/2 [==============================] - 0s 7ms/step - loss: 13.0776 - mae: 13.0776\n",
            "Epoch 491/500\n",
            "2/2 [==============================] - 0s 7ms/step - loss: 24.3007 - mae: 24.3007\n",
            "Epoch 492/500\n",
            "2/2 [==============================] - 0s 7ms/step - loss: 18.7716 - mae: 18.7716\n",
            "Epoch 493/500\n",
            "2/2 [==============================] - 0s 8ms/step - loss: 4.8481 - mae: 4.8481\n",
            "Epoch 494/500\n",
            "2/2 [==============================] - 0s 7ms/step - loss: 12.1094 - mae: 12.1094\n",
            "Epoch 495/500\n",
            "2/2 [==============================] - 0s 7ms/step - loss: 13.6795 - mae: 13.6795\n",
            "Epoch 496/500\n",
            "2/2 [==============================] - 0s 7ms/step - loss: 12.8858 - mae: 12.8858\n",
            "Epoch 497/500\n",
            "2/2 [==============================] - 0s 8ms/step - loss: 18.0054 - mae: 18.0054\n",
            "Epoch 498/500\n",
            "2/2 [==============================] - 0s 8ms/step - loss: 22.7084 - mae: 22.7084\n",
            "Epoch 499/500\n",
            "2/2 [==============================] - 0s 8ms/step - loss: 8.4758 - mae: 8.4758\n",
            "Epoch 500/500\n",
            "2/2 [==============================] - 0s 7ms/step - loss: 14.0266 - mae: 14.0266\n"
          ]
        },
        {
          "output_type": "execute_result",
          "data": {
            "text/plain": [
              "<keras.src.callbacks.History at 0x7af5f734e440>"
            ]
          },
          "metadata": {},
          "execution_count": 51
        }
      ],
      "source": [
        "# Set random seed\n",
        "tf.random.set_seed(42)\n",
        "\n",
        "# 1. Create the model\n",
        "model_3 = tf.keras.Sequential([\n",
        "    tf.keras.layers.Dense(10),\n",
        "    tf.keras.layers.Dense(1)\n",
        "])\n",
        "\n",
        "# 2. Compile the model\n",
        "model_3.compile(loss = tf.keras.losses.mae,\n",
        "                optimizer = tf.keras.optimizers.SGD(),\n",
        "                metrics = ['mae'])\n",
        "\n",
        "# 3. Fit the model\n",
        "model_3.fit(tf.expand_dims(X_train, axis = -1), y_train, epochs = 500)"
      ]
    },
    {
      "cell_type": "code",
      "execution_count": null,
      "metadata": {
        "id": "_tS0lJBT9WcD",
        "colab": {
          "base_uri": "https://localhost:8080/",
          "height": 617
        },
        "outputId": "acfa099d-e11b-43fe-c691-8a1630e48061"
      },
      "outputs": [
        {
          "output_type": "stream",
          "name": "stdout",
          "text": [
            "1/1 [==============================] - 0s 58ms/step\n"
          ]
        },
        {
          "output_type": "display_data",
          "data": {
            "text/plain": [
              "<Figure size 1000x700 with 1 Axes>"
            ],
            "image/png": "[encoded data removed]"
          },
          "metadata": {}
        }
      ],
      "source": [
        "# Make and plot some predictions\n",
        "y_preds_3 = model_3.predict(X_test)\n",
        "plot_predictions(predictions = y_preds_3)"
      ]
    },
    {
      "cell_type": "code",
      "execution_count": null,
      "metadata": {
        "id": "EDebsehq_DrU",
        "colab": {
          "base_uri": "https://localhost:8080/"
        },
        "outputId": "250e2bb7-d09d-4e14-ecaf-0975487a619b"
      },
      "outputs": [
        {
          "output_type": "execute_result",
          "data": {
            "text/plain": [
              "(<tf.Tensor: shape=(), dtype=float32, numpy=67.30993>,\n",
              " <tf.Tensor: shape=(), dtype=float32, numpy=4613.419>)"
            ]
          },
          "metadata": {},
          "execution_count": 53
        }
      ],
      "source": [
        "# Calculate model_3 evaluation matrix\n",
        "mae_3 = mae(y_test, y_preds_3)\n",
        "mse_3 = mse(y_test, y_preds_3)\n",
        "mae_3, mse_3"
      ]
    },
    {
      "cell_type": "markdown",
      "metadata": {
        "id": "TTeACsrP9PcT"
      },
      "source": [
        "**Note** You want to start with small experiments (small models) and make sure they work and then increase their scale when necessary."
      ]
    },
    {
      "cell_type": "markdown",
      "metadata": {
        "id": "_QfZ6msk_cB-"
      },
      "source": [
        "### Comparing the results of our experments\n",
        "We've run some experiments, let's compare the results"
      ]
    },
    {
      "cell_type": "code",
      "execution_count": null,
      "metadata": {
        "id": "aw7Ei17Y93r1",
        "colab": {
          "base_uri": "https://localhost:8080/",
          "height": 143
        },
        "outputId": "88112105-fa79-4d77-eb23-54b4075707c7"
      },
      "outputs": [
        {
          "output_type": "execute_result",
          "data": {
            "text/plain": [
              "     model        mae          mse\n",
              "0  model_1  32.641655  1077.925049\n",
              "1  model_2  11.608168   143.344528\n",
              "2  model_3  67.309929  4613.418945"
            ],
            "text/html": [
              "\n",
              "  <div id=\"df-80ed35f1-eca5-407f-b7e4-5fb3b4ed9458\" class=\"colab-df-container\">\n",
              "    <div>\n",
              "<style scoped>\n",
              "    .dataframe tbody tr th:only-of-type {\n",
              "        vertical-align: middle;\n",
              "    }\n",
              "\n",
              "    .dataframe tbody tr th {\n",
              "        vertical-align: top;\n",
              "    }\n",
              "\n",
              "    .dataframe thead th {\n",
              "        text-align: right;\n",
              "    }\n",
              "</style>\n",
              "<table border=\"1\" class=\"dataframe\">\n",
              "  <thead>\n",
              "    <tr style=\"text-align: right;\">\n",
              "      <th></th>\n",
              "      <th>model</th>\n",
              "      <th>mae</th>\n",
              "      <th>mse</th>\n",
              "    </tr>\n",
              "  </thead>\n",
              "  <tbody>\n",
              "    <tr>\n",
              "      <th>0</th>\n",
              "      <td>model_1</td>\n",
              "      <td>32.641655</td>\n",
              "      <td>1077.925049</td>\n",
              "    </tr>\n",
              "    <tr>\n",
              "      <th>1</th>\n",
              "      <td>model_2</td>\n",
              "      <td>11.608168</td>\n",
              "      <td>143.344528</td>\n",
              "    </tr>\n",
              "    <tr>\n",
              "      <th>2</th>\n",
              "      <td>model_3</td>\n",
              "      <td>67.309929</td>\n",
              "      <td>4613.418945</td>\n",
              "    </tr>\n",
              "  </tbody>\n",
              "</table>\n",
              "</div>\n",
              "    <div class=\"colab-df-buttons\">\n",
              "\n",
              "  <div class=\"colab-df-container\">\n",
              "    <button class=\"colab-df-convert\" onclick=\"convertToInteractive('df-80ed35f1-eca5-407f-b7e4-5fb3b4ed9458')\"\n",
              "            title=\"Convert this dataframe to an interactive table.\"\n",
              "            style=\"display:none;\">\n",
              "\n",
              "  <svg xmlns=\"http://www.w3.org/2000/svg\" height=\"24px\" viewBox=\"0 -960 960 960\">\n",
              "    <path d=\"M120-120v-720h720v720H120Zm60-500h600v-160H180v160Zm220 220h160v-160H400v160Zm0 220h160v-160H400v160ZM180-400h160v-160H180v160Zm440 0h160v-160H620v160ZM180-180h160v-160H180v160Zm440 0h160v-160H620v160Z\"/>\n",
              "  </svg>\n",
              "    </button>\n",
              "\n",
              "  <style>\n",
              "    .colab-df-container {\n",
              "      display:flex;\n",
              "      gap: 12px;\n",
              "    }\n",
              "\n",
              "    .colab-df-convert {\n",
              "      background-color: #E8F0FE;\n",
              "      border: none;\n",
              "      border-radius: 50%;\n",
              "      cursor: pointer;\n",
              "      display: none;\n",
              "      fill: #1967D2;\n",
              "      height: 32px;\n",
              "      padding: 0 0 0 0;\n",
              "      width: 32px;\n",
              "    }\n",
              "\n",
              "    .colab-df-convert:hover {\n",
              "      background-color: #E2EBFA;\n",
              "      box-shadow: 0px 1px 2px rgba(60, 64, 67, 0.3), 0px 1px 3px 1px rgba(60, 64, 67, 0.15);\n",
              "      fill: #174EA6;\n",
              "    }\n",
              "\n",
              "    .colab-df-buttons div {\n",
              "      margin-bottom: 4px;\n",
              "    }\n",
              "\n",
              "    [theme=dark] .colab-df-convert {\n",
              "      background-color: #3B4455;\n",
              "      fill: #D2E3FC;\n",
              "    }\n",
              "\n",
              "    [theme=dark] .colab-df-convert:hover {\n",
              "      background-color: #434B5C;\n",
              "      box-shadow: 0px 1px 3px 1px rgba(0, 0, 0, 0.15);\n",
              "      filter: drop-shadow(0px 1px 2px rgba(0, 0, 0, 0.3));\n",
              "      fill: #FFFFFF;\n",
              "    }\n",
              "  </style>\n",
              "\n",
              "    <script>\n",
              "      const buttonEl =\n",
              "        document.querySelector('#df-80ed35f1-eca5-407f-b7e4-5fb3b4ed9458 button.colab-df-convert');\n",
              "      buttonEl.style.display =\n",
              "        google.colab.kernel.accessAllowed ? 'block' : 'none';\n",
              "\n",
              "      async function convertToInteractive(key) {\n",
              "        const element = document.querySelector('#df-80ed35f1-eca5-407f-b7e4-5fb3b4ed9458');\n",
              "        const dataTable =\n",
              "          await google.colab.kernel.invokeFunction('convertToInteractive',\n",
              "                                                    [key], {});\n",
              "        if (!dataTable) return;\n",
              "\n",
              "        const docLinkHtml = 'Like what you see? Visit the ' +\n",
              "          '<a target=\"_blank\" href=https://colab.research.google.com/notebooks/data_table.ipynb>data table notebook</a>'\n",
              "          + ' to learn more about interactive tables.';\n",
              "        element.innerHTML = '';\n",
              "        dataTable['output_type'] = 'display_data';\n",
              "        await google.colab.output.renderOutput(dataTable, element);\n",
              "        const docLink = document.createElement('div');\n",
              "        docLink.innerHTML = docLinkHtml;\n",
              "        element.appendChild(docLink);\n",
              "      }\n",
              "    </script>\n",
              "  </div>\n",
              "\n",
              "\n",
              "<div id=\"df-b9e16801-8822-4d62-91f6-0026cbd99485\">\n",
              "  <button class=\"colab-df-quickchart\" onclick=\"quickchart('df-b9e16801-8822-4d62-91f6-0026cbd99485')\"\n",
              "            title=\"Suggest charts.\"\n",
              "            style=\"display:none;\">\n",
              "\n",
              "<svg xmlns=\"http://www.w3.org/2000/svg\" height=\"24px\"viewBox=\"0 0 24 24\"\n",
              "     width=\"24px\">\n",
              "    <g>\n",
              "        <path d=\"M19 3H5c-1.1 0-2 .9-2 2v14c0 1.1.9 2 2 2h14c1.1 0 2-.9 2-2V5c0-1.1-.9-2-2-2zM9 17H7v-7h2v7zm4 0h-2V7h2v10zm4 0h-2v-4h2v4z\"/>\n",
              "    </g>\n",
              "</svg>\n",
              "  </button>\n",
              "\n",
              "<style>\n",
              "  .colab-df-quickchart {\n",
              "      --bg-color: #E8F0FE;\n",
              "      --fill-color: #1967D2;\n",
              "      --hover-bg-color: #E2EBFA;\n",
              "      --hover-fill-color: #174EA6;\n",
              "      --disabled-fill-color: #AAA;\n",
              "      --disabled-bg-color: #DDD;\n",
              "  }\n",
              "\n",
              "  [theme=dark] .colab-df-quickchart {\n",
              "      --bg-color: #3B4455;\n",
              "      --fill-color: #D2E3FC;\n",
              "      --hover-bg-color: #434B5C;\n",
              "      --hover-fill-color: #FFFFFF;\n",
              "      --disabled-bg-color: #3B4455;\n",
              "      --disabled-fill-color: #666;\n",
              "  }\n",
              "\n",
              "  .colab-df-quickchart {\n",
              "    background-color: var(--bg-color);\n",
              "    border: none;\n",
              "    border-radius: 50%;\n",
              "    cursor: pointer;\n",
              "    display: none;\n",
              "    fill: var(--fill-color);\n",
              "    height: 32px;\n",
              "    padding: 0;\n",
              "    width: 32px;\n",
              "  }\n",
              "\n",
              "  .colab-df-quickchart:hover {\n",
              "    background-color: var(--hover-bg-color);\n",
              "    box-shadow: 0 1px 2px rgba(60, 64, 67, 0.3), 0 1px 3px 1px rgba(60, 64, 67, 0.15);\n",
              "    fill: var(--button-hover-fill-color);\n",
              "  }\n",
              "\n",
              "  .colab-df-quickchart-complete:disabled,\n",
              "  .colab-df-quickchart-complete:disabled:hover {\n",
              "    background-color: var(--disabled-bg-color);\n",
              "    fill: var(--disabled-fill-color);\n",
              "    box-shadow: none;\n",
              "  }\n",
              "\n",
              "  .colab-df-spinner {\n",
              "    border: 2px solid var(--fill-color);\n",
              "    border-color: transparent;\n",
              "    border-bottom-color: var(--fill-color);\n",
              "    animation:\n",
              "      spin 1s steps(1) infinite;\n",
              "  }\n",
              "\n",
              "  @keyframes spin {\n",
              "    0% {\n",
              "      border-color: transparent;\n",
              "      border-bottom-color: var(--fill-color);\n",
              "      border-left-color: var(--fill-color);\n",
              "    }\n",
              "    20% {\n",
              "      border-color: transparent;\n",
              "      border-left-color: var(--fill-color);\n",
              "      border-top-color: var(--fill-color);\n",
              "    }\n",
              "    30% {\n",
              "      border-color: transparent;\n",
              "      border-left-color: var(--fill-color);\n",
              "      border-top-color: var(--fill-color);\n",
              "      border-right-color: var(--fill-color);\n",
              "    }\n",
              "    40% {\n",
              "      border-color: transparent;\n",
              "      border-right-color: var(--fill-color);\n",
              "      border-top-color: var(--fill-color);\n",
              "    }\n",
              "    60% {\n",
              "      border-color: transparent;\n",
              "      border-right-color: var(--fill-color);\n",
              "    }\n",
              "    80% {\n",
              "      border-color: transparent;\n",
              "      border-right-color: var(--fill-color);\n",
              "      border-bottom-color: var(--fill-color);\n",
              "    }\n",
              "    90% {\n",
              "      border-color: transparent;\n",
              "      border-bottom-color: var(--fill-color);\n",
              "    }\n",
              "  }\n",
              "</style>\n",
              "\n",
              "  <script>\n",
              "    async function quickchart(key) {\n",
              "      const quickchartButtonEl =\n",
              "        document.querySelector('#' + key + ' button');\n",
              "      quickchartButtonEl.disabled = true;  // To prevent multiple clicks.\n",
              "      quickchartButtonEl.classList.add('colab-df-spinner');\n",
              "      try {\n",
              "        const charts = await google.colab.kernel.invokeFunction(\n",
              "            'suggestCharts', [key], {});\n",
              "      } catch (error) {\n",
              "        console.error('Error during call to suggestCharts:', error);\n",
              "      }\n",
              "      quickchartButtonEl.classList.remove('colab-df-spinner');\n",
              "      quickchartButtonEl.classList.add('colab-df-quickchart-complete');\n",
              "    }\n",
              "    (() => {\n",
              "      let quickchartButtonEl =\n",
              "        document.querySelector('#df-b9e16801-8822-4d62-91f6-0026cbd99485 button');\n",
              "      quickchartButtonEl.style.display =\n",
              "        google.colab.kernel.accessAllowed ? 'block' : 'none';\n",
              "    })();\n",
              "  </script>\n",
              "</div>\n",
              "    </div>\n",
              "  </div>\n"
            ]
          },
          "metadata": {},
          "execution_count": 54
        }
      ],
      "source": [
        "# Let's compare our model's results using Panda's dataframe\n",
        "import pandas as pd\n",
        "\n",
        "model_results = [['model_1', mae_1.numpy(), mse_1.numpy()],\n",
        "                 ['model_2', mae_2.numpy(), mse_2.numpy()],\n",
        "                 ['model_3', mae_3.numpy(), mse_3.numpy()]]\n",
        "\n",
        "all_results = pd.DataFrame(model_results, columns = ['model', 'mae', 'mse'])\n",
        "all_results"
      ]
    },
    {
      "cell_type": "markdown",
      "metadata": {
        "id": "4XJitjcCAKZy"
      },
      "source": [
        "## Looks like `model_2` performed the best"
      ]
    },
    {
      "cell_type": "code",
      "execution_count": null,
      "metadata": {
        "id": "uTydp5a7_sBW",
        "colab": {
          "base_uri": "https://localhost:8080/"
        },
        "outputId": "9233e967-6c17-4163-be9d-68766bf54ea4"
      },
      "outputs": [
        {
          "output_type": "stream",
          "name": "stdout",
          "text": [
            "Model: \"sequential_5\"\n",
            "_________________________________________________________________\n",
            " Layer (type)                Output Shape              Param #   \n",
            "=================================================================\n",
            " dense_6 (Dense)             (None, 10)                20        \n",
            "                                                                 \n",
            " dense_7 (Dense)             (None, 1)                 11        \n",
            "                                                                 \n",
            "=================================================================\n",
            "Total params: 31 (124.00 Byte)\n",
            "Trainable params: 31 (124.00 Byte)\n",
            "Non-trainable params: 0 (0.00 Byte)\n",
            "_________________________________________________________________\n"
          ]
        }
      ],
      "source": [
        "model_2.summary()"
      ]
    },
    {
      "cell_type": "markdown",
      "metadata": {
        "id": "0FC0OLvWAWzq"
      },
      "source": [
        "**Note:** One of your main goals should be to minimize the time between your experiments. The more experiments you do the more thing you'll figure out which don't work. Remember the machine learning practitioner's motto: \"experiment, experiment, experiment."
      ]
    },
    {
      "cell_type": "markdown",
      "metadata": {
        "id": "fta5hklpBJX2"
      },
      "source": [
        "## Tracking you experiments\n",
        "\n",
        "One really good habbit in machine learning modelling is to track the results of your experiments.\n",
        "\n",
        "And when doing so, it can be tedios if you running lots of expermients.\n",
        "\n",
        "Luckily, there are tools to help us!\n",
        "\n",
        "**Resource:** As you build more models, you'll want to look into using:\n",
        "\n",
        "* Tensorboard - a component of the Tensorflow library to help track modelling experiments (we'll see this one later).\n",
        "* Weghts & Biases - a tool for tracking all of kinds of machine learning experiments (plugs straight into Tensorboard)."
      ]
    },
    {
      "cell_type": "markdown",
      "metadata": {
        "id": "-jha9pxTCwhL"
      },
      "source": [
        "### Saving our models\n",
        "Saving models allows us to use them outside of Google Colab (or whereever they were trained) such as in a web application or a mobile app.\n",
        "\n",
        "There are two main formats we can save our model's too:\n",
        "\n",
        "1. The SavedModel format\n",
        "2. The HDF5 format"
      ]
    },
    {
      "cell_type": "code",
      "execution_count": null,
      "metadata": {
        "id": "_2GDo0GUmbw5"
      },
      "outputs": [],
      "source": [
        "# Save a model using Tthe SavedModel format\n",
        "model_2.save(\"model_2_SavedModel_format\")"
      ]
    },
    {
      "cell_type": "code",
      "execution_count": null,
      "metadata": {
        "id": "GYGL3DpMpB2l",
        "colab": {
          "base_uri": "https://localhost:8080/"
        },
        "outputId": "fefedb61-0f09-4462-da05-dc75dacd9131"
      },
      "outputs": [
        {
          "output_type": "stream",
          "name": "stderr",
          "text": [
            "/usr/local/lib/python3.10/dist-packages/keras/src/engine/training.py:3079: UserWarning: You are saving your model as an HDF5 file via `model.save()`. This file format is considered legacy. We recommend using instead the native Keras format, e.g. `model.save('my_model.keras')`.\n",
            "  saving_api.save_model(\n"
          ]
        }
      ],
      "source": [
        "# Save the model using HDF5 format.\n",
        "model_2.save(\"model_2_HDF5_format.h5\")"
      ]
    },
    {
      "cell_type": "markdown",
      "metadata": {
        "id": "rRyzyBXJp17A"
      },
      "source": [
        "### Loading in a saved model."
      ]
    },
    {
      "cell_type": "code",
      "execution_count": null,
      "metadata": {
        "id": "EvSonbfmrIJO",
        "colab": {
          "base_uri": "https://localhost:8080/"
        },
        "outputId": "56aebd93-8cc5-4eba-9b59-05d90cd2ad7a"
      },
      "outputs": [
        {
          "output_type": "stream",
          "name": "stdout",
          "text": [
            "Model: \"sequential_5\"\n",
            "_________________________________________________________________\n",
            " Layer (type)                Output Shape              Param #   \n",
            "=================================================================\n",
            " dense_6 (Dense)             (None, 10)                20        \n",
            "                                                                 \n",
            " dense_7 (Dense)             (None, 1)                 11        \n",
            "                                                                 \n",
            "=================================================================\n",
            "Total params: 31 (124.00 Byte)\n",
            "Trainable params: 31 (124.00 Byte)\n",
            "Non-trainable params: 0 (0.00 Byte)\n",
            "_________________________________________________________________\n"
          ]
        }
      ],
      "source": [
        "# Load in the SavedModel format model\n",
        "loaded_SavedModel_format = tf.keras.models.load_model(\"/content/model_2_SavedModel_format\")\n",
        "loaded_SavedModel_format.summary()"
      ]
    },
    {
      "cell_type": "code",
      "execution_count": null,
      "metadata": {
        "id": "gZHrUzudrrzY",
        "colab": {
          "base_uri": "https://localhost:8080/"
        },
        "outputId": "43632c76-f40b-477f-bdbd-34f50818419b"
      },
      "outputs": [
        {
          "output_type": "stream",
          "name": "stdout",
          "text": [
            "1/1 [==============================] - 0s 41ms/step\n",
            "1/1 [==============================] - 0s 60ms/step\n"
          ]
        },
        {
          "output_type": "execute_result",
          "data": {
            "text/plain": [
              "array([[ True],\n",
              "       [ True],\n",
              "       [ True],\n",
              "       [ True],\n",
              "       [ True],\n",
              "       [ True],\n",
              "       [ True],\n",
              "       [ True],\n",
              "       [ True],\n",
              "       [ True]])"
            ]
          },
          "metadata": {},
          "execution_count": 59
        }
      ],
      "source": [
        "# Compare model_2 predictions with loaded_SavedModel_format predictions.\n",
        "model_2_preds = model_2.predict(X_test)\n",
        "loaded_SavedModel_format_preds = loaded_SavedModel_format.predict(X_test)\n",
        "model_2_preds == loaded_SavedModel_format_preds"
      ]
    },
    {
      "cell_type": "code",
      "execution_count": null,
      "metadata": {
        "id": "1qy1-MGitGwz",
        "colab": {
          "base_uri": "https://localhost:8080/"
        },
        "outputId": "25f271e0-d795-44f9-d176-94234898f8d6"
      },
      "outputs": [
        {
          "output_type": "stream",
          "name": "stdout",
          "text": [
            "Model: \"sequential_5\"\n",
            "_________________________________________________________________\n",
            " Layer (type)                Output Shape              Param #   \n",
            "=================================================================\n",
            " dense_6 (Dense)             (None, 10)                20        \n",
            "                                                                 \n",
            " dense_7 (Dense)             (None, 1)                 11        \n",
            "                                                                 \n",
            "=================================================================\n",
            "Total params: 31 (124.00 Byte)\n",
            "Trainable params: 31 (124.00 Byte)\n",
            "Non-trainable params: 0 (0.00 Byte)\n",
            "_________________________________________________________________\n"
          ]
        }
      ],
      "source": [
        "# Loading a model using .h5 format\n",
        "loaded_h5_model = tf.keras.models.load_model('/content/model_2_HDF5_format.h5')\n",
        "loaded_h5_model.summary()"
      ]
    },
    {
      "cell_type": "code",
      "execution_count": null,
      "metadata": {
        "id": "NE91HVkUsN48",
        "colab": {
          "base_uri": "https://localhost:8080/"
        },
        "outputId": "c9259edf-da81-41c0-cb35-9dc5e80c8675"
      },
      "outputs": [
        {
          "output_type": "execute_result",
          "data": {
            "text/plain": [
              "<tf.Tensor: shape=(), dtype=bool, numpy=True>"
            ]
          },
          "metadata": {},
          "execution_count": 61
        }
      ],
      "source": [
        "# Compare the MAE of model_2 preds and loaded_SavedModel preds.\n",
        "mae(y_true=y_test, y_pred=model_2_preds) == mae(y_true=y_test, y_pred=loaded_SavedModel_format_preds)"
      ]
    },
    {
      "cell_type": "code",
      "execution_count": null,
      "metadata": {
        "id": "vWZ3qGTptkhq",
        "colab": {
          "base_uri": "https://localhost:8080/"
        },
        "outputId": "aea1dce2-7cd6-4a71-b7b1-e02ac3b8d186"
      },
      "outputs": [
        {
          "output_type": "stream",
          "name": "stdout",
          "text": [
            "1/1 [==============================] - 0s 22ms/step\n",
            "1/1 [==============================] - 0s 63ms/step\n"
          ]
        },
        {
          "output_type": "execute_result",
          "data": {
            "text/plain": [
              "array([[ True],\n",
              "       [ True],\n",
              "       [ True],\n",
              "       [ True],\n",
              "       [ True],\n",
              "       [ True],\n",
              "       [ True],\n",
              "       [ True],\n",
              "       [ True],\n",
              "       [ True]])"
            ]
          },
          "metadata": {},
          "execution_count": 62
        }
      ],
      "source": [
        "# Check to see if loaded .h5 model predictions match model_2\n",
        "model_2_preds = model_2.predict(X_test)\n",
        "loaded_h5_model_preds = loaded_h5_model.predict(X_test)\n",
        "model_2_preds == loaded_h5_model_preds"
      ]
    },
    {
      "cell_type": "markdown",
      "metadata": {
        "id": "keunR5jTv2_C"
      },
      "source": [
        "## Download a model (or any other file) from Google Colab\n",
        "\n",
        "1. You can go to \"files\" and right click on the file you are after and click \"download\"\n",
        "2. Use code (see the cell below)\n",
        "3. Save it to google drive by connecting google drive and copying it there."
      ]
    },
    {
      "cell_type": "code",
      "execution_count": null,
      "metadata": {
        "id": "HopKL0S5xRsN",
        "colab": {
          "base_uri": "https://localhost:8080/"
        },
        "outputId": "15fd4068-d603-45bd-dd7c-f3dd13da3fd9"
      },
      "outputs": [
        {
          "output_type": "stream",
          "name": "stdout",
          "text": [
            "Drive already mounted at /content/drive; to attempt to forcibly remount, call drive.mount(\"/content/drive\", force_remount=True).\n"
          ]
        }
      ],
      "source": [
        "from google.colab import drive\n",
        "drive.mount('/content/drive')"
      ]
    },
    {
      "cell_type": "code",
      "execution_count": null,
      "metadata": {
        "id": "xRJb7n6iv7v6",
        "colab": {
          "base_uri": "https://localhost:8080/",
          "height": 17
        },
        "outputId": "7fba34b2-577a-4675-9edd-a2ad582bbbe5"
      },
      "outputs": [
        {
          "output_type": "display_data",
          "data": {
            "text/plain": [
              "<IPython.core.display.Javascript object>"
            ],
            "application/javascript": [
              "\n",
              "    async function download(id, filename, size) {\n",
              "      if (!google.colab.kernel.accessAllowed) {\n",
              "        return;\n",
              "      }\n",
              "      const div = document.createElement('div');\n",
              "      const label = document.createElement('label');\n",
              "      label.textContent = `Downloading \"${filename}\": `;\n",
              "      div.appendChild(label);\n",
              "      const progress = document.createElement('progress');\n",
              "      progress.max = size;\n",
              "      div.appendChild(progress);\n",
              "      document.body.appendChild(div);\n",
              "\n",
              "      const buffers = [];\n",
              "      let downloaded = 0;\n",
              "\n",
              "      const channel = await google.colab.kernel.comms.open(id);\n",
              "      // Send a message to notify the kernel that we're ready.\n",
              "      channel.send({})\n",
              "\n",
              "      for await (const message of channel.messages) {\n",
              "        // Send a message to notify the kernel that we're ready.\n",
              "        channel.send({})\n",
              "        if (message.buffers) {\n",
              "          for (const buffer of message.buffers) {\n",
              "            buffers.push(buffer);\n",
              "            downloaded += buffer.byteLength;\n",
              "            progress.value = downloaded;\n",
              "          }\n",
              "        }\n",
              "      }\n",
              "      const blob = new Blob(buffers, {type: 'application/binary'});\n",
              "      const a = document.createElement('a');\n",
              "      a.href = window.URL.createObjectURL(blob);\n",
              "      a.download = filename;\n",
              "      div.appendChild(a);\n",
              "      a.click();\n",
              "      div.remove();\n",
              "    }\n",
              "  "
            ]
          },
          "metadata": {}
        },
        {
          "output_type": "display_data",
          "data": {
            "text/plain": [
              "<IPython.core.display.Javascript object>"
            ],
            "application/javascript": [
              "download(\"download_e4918c76-c0da-4acf-8d4c-21620f6ae404\", \"model_2_HDF5_format.h5\", 21952)"
            ]
          },
          "metadata": {}
        }
      ],
      "source": [
        "# Download a file from Google Colab\n",
        "from google.colab import files\n",
        "files.download(\"/content/model_2_HDF5_format.h5\")"
      ]
    },
    {
      "cell_type": "code",
      "execution_count": null,
      "metadata": {
        "id": "aH9CgyEPw7Cj"
      },
      "outputs": [],
      "source": [
        "# Save it from Google Colab to Google Drive (this requires mounting Google Drive)\n",
        "!cp /content/model_2_HDF5_format.h5 /content/drive/MyDrive/model_2_HDF5_format.h5"
      ]
    },
    {
      "cell_type": "markdown",
      "metadata": {
        "id": "bQ9Poi3YvedL"
      },
      "source": [
        "## A larger example"
      ]
    },
    {
      "cell_type": "code",
      "execution_count": null,
      "metadata": {
        "id": "i3MrFL8Evh3w"
      },
      "outputs": [],
      "source": [
        "# Import required libraries\n",
        "import tensorflow as tf\n",
        "import pandas as pd\n",
        "import matplotlib.pyplot as plt\n"
      ]
    },
    {
      "cell_type": "code",
      "execution_count": null,
      "metadata": {
        "id": "AF7BXjL1w0_H",
        "colab": {
          "base_uri": "https://localhost:8080/",
          "height": 424
        },
        "outputId": "fed60560-4800-4ea3-c12b-0ab124071098"
      },
      "outputs": [
        {
          "output_type": "execute_result",
          "data": {
            "text/plain": [
              "      age     sex     bmi  children smoker     region      charges\n",
              "0      19  female  27.900         0    yes  southwest  16884.92400\n",
              "1      18    male  33.770         1     no  southeast   1725.55230\n",
              "2      28    male  33.000         3     no  southeast   4449.46200\n",
              "3      33    male  22.705         0     no  northwest  21984.47061\n",
              "4      32    male  28.880         0     no  northwest   3866.85520\n",
              "...   ...     ...     ...       ...    ...        ...          ...\n",
              "1333   50    male  30.970         3     no  northwest  10600.54830\n",
              "1334   18  female  31.920         0     no  northeast   2205.98080\n",
              "1335   18  female  36.850         0     no  southeast   1629.83350\n",
              "1336   21  female  25.800         0     no  southwest   2007.94500\n",
              "1337   61  female  29.070         0    yes  northwest  29141.36030\n",
              "\n",
              "[1338 rows x 7 columns]"
            ],
            "text/html": [
              "\n",
              "  <div id=\"df-b49d141a-03f6-44b5-8441-be5c00685fc4\" class=\"colab-df-container\">\n",
              "    <div>\n",
              "<style scoped>\n",
              "    .dataframe tbody tr th:only-of-type {\n",
              "        vertical-align: middle;\n",
              "    }\n",
              "\n",
              "    .dataframe tbody tr th {\n",
              "        vertical-align: top;\n",
              "    }\n",
              "\n",
              "    .dataframe thead th {\n",
              "        text-align: right;\n",
              "    }\n",
              "</style>\n",
              "<table border=\"1\" class=\"dataframe\">\n",
              "  <thead>\n",
              "    <tr style=\"text-align: right;\">\n",
              "      <th></th>\n",
              "      <th>age</th>\n",
              "      <th>sex</th>\n",
              "      <th>bmi</th>\n",
              "      <th>children</th>\n",
              "      <th>smoker</th>\n",
              "      <th>region</th>\n",
              "      <th>charges</th>\n",
              "    </tr>\n",
              "  </thead>\n",
              "  <tbody>\n",
              "    <tr>\n",
              "      <th>0</th>\n",
              "      <td>19</td>\n",
              "      <td>female</td>\n",
              "      <td>27.900</td>\n",
              "      <td>0</td>\n",
              "      <td>yes</td>\n",
              "      <td>southwest</td>\n",
              "      <td>16884.92400</td>\n",
              "    </tr>\n",
              "    <tr>\n",
              "      <th>1</th>\n",
              "      <td>18</td>\n",
              "      <td>male</td>\n",
              "      <td>33.770</td>\n",
              "      <td>1</td>\n",
              "      <td>no</td>\n",
              "      <td>southeast</td>\n",
              "      <td>1725.55230</td>\n",
              "    </tr>\n",
              "    <tr>\n",
              "      <th>2</th>\n",
              "      <td>28</td>\n",
              "      <td>male</td>\n",
              "      <td>33.000</td>\n",
              "      <td>3</td>\n",
              "      <td>no</td>\n",
              "      <td>southeast</td>\n",
              "      <td>4449.46200</td>\n",
              "    </tr>\n",
              "    <tr>\n",
              "      <th>3</th>\n",
              "      <td>33</td>\n",
              "      <td>male</td>\n",
              "      <td>22.705</td>\n",
              "      <td>0</td>\n",
              "      <td>no</td>\n",
              "      <td>northwest</td>\n",
              "      <td>21984.47061</td>\n",
              "    </tr>\n",
              "    <tr>\n",
              "      <th>4</th>\n",
              "      <td>32</td>\n",
              "      <td>male</td>\n",
              "      <td>28.880</td>\n",
              "      <td>0</td>\n",
              "      <td>no</td>\n",
              "      <td>northwest</td>\n",
              "      <td>3866.85520</td>\n",
              "    </tr>\n",
              "    <tr>\n",
              "      <th>...</th>\n",
              "      <td>...</td>\n",
              "      <td>...</td>\n",
              "      <td>...</td>\n",
              "      <td>...</td>\n",
              "      <td>...</td>\n",
              "      <td>...</td>\n",
              "      <td>...</td>\n",
              "    </tr>\n",
              "    <tr>\n",
              "      <th>1333</th>\n",
              "      <td>50</td>\n",
              "      <td>male</td>\n",
              "      <td>30.970</td>\n",
              "      <td>3</td>\n",
              "      <td>no</td>\n",
              "      <td>northwest</td>\n",
              "      <td>10600.54830</td>\n",
              "    </tr>\n",
              "    <tr>\n",
              "      <th>1334</th>\n",
              "      <td>18</td>\n",
              "      <td>female</td>\n",
              "      <td>31.920</td>\n",
              "      <td>0</td>\n",
              "      <td>no</td>\n",
              "      <td>northeast</td>\n",
              "      <td>2205.98080</td>\n",
              "    </tr>\n",
              "    <tr>\n",
              "      <th>1335</th>\n",
              "      <td>18</td>\n",
              "      <td>female</td>\n",
              "      <td>36.850</td>\n",
              "      <td>0</td>\n",
              "      <td>no</td>\n",
              "      <td>southeast</td>\n",
              "      <td>1629.83350</td>\n",
              "    </tr>\n",
              "    <tr>\n",
              "      <th>1336</th>\n",
              "      <td>21</td>\n",
              "      <td>female</td>\n",
              "      <td>25.800</td>\n",
              "      <td>0</td>\n",
              "      <td>no</td>\n",
              "      <td>southwest</td>\n",
              "      <td>2007.94500</td>\n",
              "    </tr>\n",
              "    <tr>\n",
              "      <th>1337</th>\n",
              "      <td>61</td>\n",
              "      <td>female</td>\n",
              "      <td>29.070</td>\n",
              "      <td>0</td>\n",
              "      <td>yes</td>\n",
              "      <td>northwest</td>\n",
              "      <td>29141.36030</td>\n",
              "    </tr>\n",
              "  </tbody>\n",
              "</table>\n",
              "<p>1338 rows × 7 columns</p>\n",
              "</div>\n",
              "    <div class=\"colab-df-buttons\">\n",
              "\n",
              "  <div class=\"colab-df-container\">\n",
              "    <button class=\"colab-df-convert\" onclick=\"convertToInteractive('df-b49d141a-03f6-44b5-8441-be5c00685fc4')\"\n",
              "            title=\"Convert this dataframe to an interactive table.\"\n",
              "            style=\"display:none;\">\n",
              "\n",
              "  <svg xmlns=\"http://www.w3.org/2000/svg\" height=\"24px\" viewBox=\"0 -960 960 960\">\n",
              "    <path d=\"M120-120v-720h720v720H120Zm60-500h600v-160H180v160Zm220 220h160v-160H400v160Zm0 220h160v-160H400v160ZM180-400h160v-160H180v160Zm440 0h160v-160H620v160ZM180-180h160v-160H180v160Zm440 0h160v-160H620v160Z\"/>\n",
              "  </svg>\n",
              "    </button>\n",
              "\n",
              "  <style>\n",
              "    .colab-df-container {\n",
              "      display:flex;\n",
              "      gap: 12px;\n",
              "    }\n",
              "\n",
              "    .colab-df-convert {\n",
              "      background-color: #E8F0FE;\n",
              "      border: none;\n",
              "      border-radius: 50%;\n",
              "      cursor: pointer;\n",
              "      display: none;\n",
              "      fill: #1967D2;\n",
              "      height: 32px;\n",
              "      padding: 0 0 0 0;\n",
              "      width: 32px;\n",
              "    }\n",
              "\n",
              "    .colab-df-convert:hover {\n",
              "      background-color: #E2EBFA;\n",
              "      box-shadow: 0px 1px 2px rgba(60, 64, 67, 0.3), 0px 1px 3px 1px rgba(60, 64, 67, 0.15);\n",
              "      fill: #174EA6;\n",
              "    }\n",
              "\n",
              "    .colab-df-buttons div {\n",
              "      margin-bottom: 4px;\n",
              "    }\n",
              "\n",
              "    [theme=dark] .colab-df-convert {\n",
              "      background-color: #3B4455;\n",
              "      fill: #D2E3FC;\n",
              "    }\n",
              "\n",
              "    [theme=dark] .colab-df-convert:hover {\n",
              "      background-color: #434B5C;\n",
              "      box-shadow: 0px 1px 3px 1px rgba(0, 0, 0, 0.15);\n",
              "      filter: drop-shadow(0px 1px 2px rgba(0, 0, 0, 0.3));\n",
              "      fill: #FFFFFF;\n",
              "    }\n",
              "  </style>\n",
              "\n",
              "    <script>\n",
              "      const buttonEl =\n",
              "        document.querySelector('#df-b49d141a-03f6-44b5-8441-be5c00685fc4 button.colab-df-convert');\n",
              "      buttonEl.style.display =\n",
              "        google.colab.kernel.accessAllowed ? 'block' : 'none';\n",
              "\n",
              "      async function convertToInteractive(key) {\n",
              "        const element = document.querySelector('#df-b49d141a-03f6-44b5-8441-be5c00685fc4');\n",
              "        const dataTable =\n",
              "          await google.colab.kernel.invokeFunction('convertToInteractive',\n",
              "                                                    [key], {});\n",
              "        if (!dataTable) return;\n",
              "\n",
              "        const docLinkHtml = 'Like what you see? Visit the ' +\n",
              "          '<a target=\"_blank\" href=https://colab.research.google.com/notebooks/data_table.ipynb>data table notebook</a>'\n",
              "          + ' to learn more about interactive tables.';\n",
              "        element.innerHTML = '';\n",
              "        dataTable['output_type'] = 'display_data';\n",
              "        await google.colab.output.renderOutput(dataTable, element);\n",
              "        const docLink = document.createElement('div');\n",
              "        docLink.innerHTML = docLinkHtml;\n",
              "        element.appendChild(docLink);\n",
              "      }\n",
              "    </script>\n",
              "  </div>\n",
              "\n",
              "\n",
              "<div id=\"df-3945feb2-5bd8-4ffa-8c5f-bf04002338e6\">\n",
              "  <button class=\"colab-df-quickchart\" onclick=\"quickchart('df-3945feb2-5bd8-4ffa-8c5f-bf04002338e6')\"\n",
              "            title=\"Suggest charts.\"\n",
              "            style=\"display:none;\">\n",
              "\n",
              "<svg xmlns=\"http://www.w3.org/2000/svg\" height=\"24px\"viewBox=\"0 0 24 24\"\n",
              "     width=\"24px\">\n",
              "    <g>\n",
              "        <path d=\"M19 3H5c-1.1 0-2 .9-2 2v14c0 1.1.9 2 2 2h14c1.1 0 2-.9 2-2V5c0-1.1-.9-2-2-2zM9 17H7v-7h2v7zm4 0h-2V7h2v10zm4 0h-2v-4h2v4z\"/>\n",
              "    </g>\n",
              "</svg>\n",
              "  </button>\n",
              "\n",
              "<style>\n",
              "  .colab-df-quickchart {\n",
              "      --bg-color: #E8F0FE;\n",
              "      --fill-color: #1967D2;\n",
              "      --hover-bg-color: #E2EBFA;\n",
              "      --hover-fill-color: #174EA6;\n",
              "      --disabled-fill-color: #AAA;\n",
              "      --disabled-bg-color: #DDD;\n",
              "  }\n",
              "\n",
              "  [theme=dark] .colab-df-quickchart {\n",
              "      --bg-color: #3B4455;\n",
              "      --fill-color: #D2E3FC;\n",
              "      --hover-bg-color: #434B5C;\n",
              "      --hover-fill-color: #FFFFFF;\n",
              "      --disabled-bg-color: #3B4455;\n",
              "      --disabled-fill-color: #666;\n",
              "  }\n",
              "\n",
              "  .colab-df-quickchart {\n",
              "    background-color: var(--bg-color);\n",
              "    border: none;\n",
              "    border-radius: 50%;\n",
              "    cursor: pointer;\n",
              "    display: none;\n",
              "    fill: var(--fill-color);\n",
              "    height: 32px;\n",
              "    padding: 0;\n",
              "    width: 32px;\n",
              "  }\n",
              "\n",
              "  .colab-df-quickchart:hover {\n",
              "    background-color: var(--hover-bg-color);\n",
              "    box-shadow: 0 1px 2px rgba(60, 64, 67, 0.3), 0 1px 3px 1px rgba(60, 64, 67, 0.15);\n",
              "    fill: var(--button-hover-fill-color);\n",
              "  }\n",
              "\n",
              "  .colab-df-quickchart-complete:disabled,\n",
              "  .colab-df-quickchart-complete:disabled:hover {\n",
              "    background-color: var(--disabled-bg-color);\n",
              "    fill: var(--disabled-fill-color);\n",
              "    box-shadow: none;\n",
              "  }\n",
              "\n",
              "  .colab-df-spinner {\n",
              "    border: 2px solid var(--fill-color);\n",
              "    border-color: transparent;\n",
              "    border-bottom-color: var(--fill-color);\n",
              "    animation:\n",
              "      spin 1s steps(1) infinite;\n",
              "  }\n",
              "\n",
              "  @keyframes spin {\n",
              "    0% {\n",
              "      border-color: transparent;\n",
              "      border-bottom-color: var(--fill-color);\n",
              "      border-left-color: var(--fill-color);\n",
              "    }\n",
              "    20% {\n",
              "      border-color: transparent;\n",
              "      border-left-color: var(--fill-color);\n",
              "      border-top-color: var(--fill-color);\n",
              "    }\n",
              "    30% {\n",
              "      border-color: transparent;\n",
              "      border-left-color: var(--fill-color);\n",
              "      border-top-color: var(--fill-color);\n",
              "      border-right-color: var(--fill-color);\n",
              "    }\n",
              "    40% {\n",
              "      border-color: transparent;\n",
              "      border-right-color: var(--fill-color);\n",
              "      border-top-color: var(--fill-color);\n",
              "    }\n",
              "    60% {\n",
              "      border-color: transparent;\n",
              "      border-right-color: var(--fill-color);\n",
              "    }\n",
              "    80% {\n",
              "      border-color: transparent;\n",
              "      border-right-color: var(--fill-color);\n",
              "      border-bottom-color: var(--fill-color);\n",
              "    }\n",
              "    90% {\n",
              "      border-color: transparent;\n",
              "      border-bottom-color: var(--fill-color);\n",
              "    }\n",
              "  }\n",
              "</style>\n",
              "\n",
              "  <script>\n",
              "    async function quickchart(key) {\n",
              "      const quickchartButtonEl =\n",
              "        document.querySelector('#' + key + ' button');\n",
              "      quickchartButtonEl.disabled = true;  // To prevent multiple clicks.\n",
              "      quickchartButtonEl.classList.add('colab-df-spinner');\n",
              "      try {\n",
              "        const charts = await google.colab.kernel.invokeFunction(\n",
              "            'suggestCharts', [key], {});\n",
              "      } catch (error) {\n",
              "        console.error('Error during call to suggestCharts:', error);\n",
              "      }\n",
              "      quickchartButtonEl.classList.remove('colab-df-spinner');\n",
              "      quickchartButtonEl.classList.add('colab-df-quickchart-complete');\n",
              "    }\n",
              "    (() => {\n",
              "      let quickchartButtonEl =\n",
              "        document.querySelector('#df-3945feb2-5bd8-4ffa-8c5f-bf04002338e6 button');\n",
              "      quickchartButtonEl.style.display =\n",
              "        google.colab.kernel.accessAllowed ? 'block' : 'none';\n",
              "    })();\n",
              "  </script>\n",
              "</div>\n",
              "    </div>\n",
              "  </div>\n"
            ]
          },
          "metadata": {},
          "execution_count": 67
        }
      ],
      "source": [
        "# Read the insurance dataset\n",
        "insurance = pd.read_csv(\"https://raw.githubusercontent.com/stedy/Machine-Learning-with-R-datasets/master/insurance.csv\")\n",
        "insurance"
      ]
    },
    {
      "cell_type": "code",
      "execution_count": null,
      "metadata": {
        "id": "srtJ5yuYxgIE",
        "colab": {
          "base_uri": "https://localhost:8080/",
          "height": 206
        },
        "outputId": "3fa90f1a-419a-4283-ee58-04ae02383793"
      },
      "outputs": [
        {
          "output_type": "execute_result",
          "data": {
            "text/plain": [
              "   age     bmi  children      charges  sex_female  sex_male  smoker_no  \\\n",
              "0   19  27.900         0  16884.92400           1         0          0   \n",
              "1   18  33.770         1   1725.55230           0         1          1   \n",
              "2   28  33.000         3   4449.46200           0         1          1   \n",
              "3   33  22.705         0  21984.47061           0         1          1   \n",
              "4   32  28.880         0   3866.85520           0         1          1   \n",
              "\n",
              "   smoker_yes  region_northeast  region_northwest  region_southeast  \\\n",
              "0           1                 0                 0                 0   \n",
              "1           0                 0                 0                 1   \n",
              "2           0                 0                 0                 1   \n",
              "3           0                 0                 1                 0   \n",
              "4           0                 0                 1                 0   \n",
              "\n",
              "   region_southwest  \n",
              "0                 1  \n",
              "1                 0  \n",
              "2                 0  \n",
              "3                 0  \n",
              "4                 0  "
            ],
            "text/html": [
              "\n",
              "  <div id=\"df-4d4e07b8-426d-4530-aa3d-3facfff053c1\" class=\"colab-df-container\">\n",
              "    <div>\n",
              "<style scoped>\n",
              "    .dataframe tbody tr th:only-of-type {\n",
              "        vertical-align: middle;\n",
              "    }\n",
              "\n",
              "    .dataframe tbody tr th {\n",
              "        vertical-align: top;\n",
              "    }\n",
              "\n",
              "    .dataframe thead th {\n",
              "        text-align: right;\n",
              "    }\n",
              "</style>\n",
              "<table border=\"1\" class=\"dataframe\">\n",
              "  <thead>\n",
              "    <tr style=\"text-align: right;\">\n",
              "      <th></th>\n",
              "      <th>age</th>\n",
              "      <th>bmi</th>\n",
              "      <th>children</th>\n",
              "      <th>charges</th>\n",
              "      <th>sex_female</th>\n",
              "      <th>sex_male</th>\n",
              "      <th>smoker_no</th>\n",
              "      <th>smoker_yes</th>\n",
              "      <th>region_northeast</th>\n",
              "      <th>region_northwest</th>\n",
              "      <th>region_southeast</th>\n",
              "      <th>region_southwest</th>\n",
              "    </tr>\n",
              "  </thead>\n",
              "  <tbody>\n",
              "    <tr>\n",
              "      <th>0</th>\n",
              "      <td>19</td>\n",
              "      <td>27.900</td>\n",
              "      <td>0</td>\n",
              "      <td>16884.92400</td>\n",
              "      <td>1</td>\n",
              "      <td>0</td>\n",
              "      <td>0</td>\n",
              "      <td>1</td>\n",
              "      <td>0</td>\n",
              "      <td>0</td>\n",
              "      <td>0</td>\n",
              "      <td>1</td>\n",
              "    </tr>\n",
              "    <tr>\n",
              "      <th>1</th>\n",
              "      <td>18</td>\n",
              "      <td>33.770</td>\n",
              "      <td>1</td>\n",
              "      <td>1725.55230</td>\n",
              "      <td>0</td>\n",
              "      <td>1</td>\n",
              "      <td>1</td>\n",
              "      <td>0</td>\n",
              "      <td>0</td>\n",
              "      <td>0</td>\n",
              "      <td>1</td>\n",
              "      <td>0</td>\n",
              "    </tr>\n",
              "    <tr>\n",
              "      <th>2</th>\n",
              "      <td>28</td>\n",
              "      <td>33.000</td>\n",
              "      <td>3</td>\n",
              "      <td>4449.46200</td>\n",
              "      <td>0</td>\n",
              "      <td>1</td>\n",
              "      <td>1</td>\n",
              "      <td>0</td>\n",
              "      <td>0</td>\n",
              "      <td>0</td>\n",
              "      <td>1</td>\n",
              "      <td>0</td>\n",
              "    </tr>\n",
              "    <tr>\n",
              "      <th>3</th>\n",
              "      <td>33</td>\n",
              "      <td>22.705</td>\n",
              "      <td>0</td>\n",
              "      <td>21984.47061</td>\n",
              "      <td>0</td>\n",
              "      <td>1</td>\n",
              "      <td>1</td>\n",
              "      <td>0</td>\n",
              "      <td>0</td>\n",
              "      <td>1</td>\n",
              "      <td>0</td>\n",
              "      <td>0</td>\n",
              "    </tr>\n",
              "    <tr>\n",
              "      <th>4</th>\n",
              "      <td>32</td>\n",
              "      <td>28.880</td>\n",
              "      <td>0</td>\n",
              "      <td>3866.85520</td>\n",
              "      <td>0</td>\n",
              "      <td>1</td>\n",
              "      <td>1</td>\n",
              "      <td>0</td>\n",
              "      <td>0</td>\n",
              "      <td>1</td>\n",
              "      <td>0</td>\n",
              "      <td>0</td>\n",
              "    </tr>\n",
              "  </tbody>\n",
              "</table>\n",
              "</div>\n",
              "    <div class=\"colab-df-buttons\">\n",
              "\n",
              "  <div class=\"colab-df-container\">\n",
              "    <button class=\"colab-df-convert\" onclick=\"convertToInteractive('df-4d4e07b8-426d-4530-aa3d-3facfff053c1')\"\n",
              "            title=\"Convert this dataframe to an interactive table.\"\n",
              "            style=\"display:none;\">\n",
              "\n",
              "  <svg xmlns=\"http://www.w3.org/2000/svg\" height=\"24px\" viewBox=\"0 -960 960 960\">\n",
              "    <path d=\"M120-120v-720h720v720H120Zm60-500h600v-160H180v160Zm220 220h160v-160H400v160Zm0 220h160v-160H400v160ZM180-400h160v-160H180v160Zm440 0h160v-160H620v160ZM180-180h160v-160H180v160Zm440 0h160v-160H620v160Z\"/>\n",
              "  </svg>\n",
              "    </button>\n",
              "\n",
              "  <style>\n",
              "    .colab-df-container {\n",
              "      display:flex;\n",
              "      gap: 12px;\n",
              "    }\n",
              "\n",
              "    .colab-df-convert {\n",
              "      background-color: #E8F0FE;\n",
              "      border: none;\n",
              "      border-radius: 50%;\n",
              "      cursor: pointer;\n",
              "      display: none;\n",
              "      fill: #1967D2;\n",
              "      height: 32px;\n",
              "      padding: 0 0 0 0;\n",
              "      width: 32px;\n",
              "    }\n",
              "\n",
              "    .colab-df-convert:hover {\n",
              "      background-color: #E2EBFA;\n",
              "      box-shadow: 0px 1px 2px rgba(60, 64, 67, 0.3), 0px 1px 3px 1px rgba(60, 64, 67, 0.15);\n",
              "      fill: #174EA6;\n",
              "    }\n",
              "\n",
              "    .colab-df-buttons div {\n",
              "      margin-bottom: 4px;\n",
              "    }\n",
              "\n",
              "    [theme=dark] .colab-df-convert {\n",
              "      background-color: #3B4455;\n",
              "      fill: #D2E3FC;\n",
              "    }\n",
              "\n",
              "    [theme=dark] .colab-df-convert:hover {\n",
              "      background-color: #434B5C;\n",
              "      box-shadow: 0px 1px 3px 1px rgba(0, 0, 0, 0.15);\n",
              "      filter: drop-shadow(0px 1px 2px rgba(0, 0, 0, 0.3));\n",
              "      fill: #FFFFFF;\n",
              "    }\n",
              "  </style>\n",
              "\n",
              "    <script>\n",
              "      const buttonEl =\n",
              "        document.querySelector('#df-4d4e07b8-426d-4530-aa3d-3facfff053c1 button.colab-df-convert');\n",
              "      buttonEl.style.display =\n",
              "        google.colab.kernel.accessAllowed ? 'block' : 'none';\n",
              "\n",
              "      async function convertToInteractive(key) {\n",
              "        const element = document.querySelector('#df-4d4e07b8-426d-4530-aa3d-3facfff053c1');\n",
              "        const dataTable =\n",
              "          await google.colab.kernel.invokeFunction('convertToInteractive',\n",
              "                                                    [key], {});\n",
              "        if (!dataTable) return;\n",
              "\n",
              "        const docLinkHtml = 'Like what you see? Visit the ' +\n",
              "          '<a target=\"_blank\" href=https://colab.research.google.com/notebooks/data_table.ipynb>data table notebook</a>'\n",
              "          + ' to learn more about interactive tables.';\n",
              "        element.innerHTML = '';\n",
              "        dataTable['output_type'] = 'display_data';\n",
              "        await google.colab.output.renderOutput(dataTable, element);\n",
              "        const docLink = document.createElement('div');\n",
              "        docLink.innerHTML = docLinkHtml;\n",
              "        element.appendChild(docLink);\n",
              "      }\n",
              "    </script>\n",
              "  </div>\n",
              "\n",
              "\n",
              "<div id=\"df-539e2aa1-347c-46f6-8bbc-279e92f477dc\">\n",
              "  <button class=\"colab-df-quickchart\" onclick=\"quickchart('df-539e2aa1-347c-46f6-8bbc-279e92f477dc')\"\n",
              "            title=\"Suggest charts.\"\n",
              "            style=\"display:none;\">\n",
              "\n",
              "<svg xmlns=\"http://www.w3.org/2000/svg\" height=\"24px\"viewBox=\"0 0 24 24\"\n",
              "     width=\"24px\">\n",
              "    <g>\n",
              "        <path d=\"M19 3H5c-1.1 0-2 .9-2 2v14c0 1.1.9 2 2 2h14c1.1 0 2-.9 2-2V5c0-1.1-.9-2-2-2zM9 17H7v-7h2v7zm4 0h-2V7h2v10zm4 0h-2v-4h2v4z\"/>\n",
              "    </g>\n",
              "</svg>\n",
              "  </button>\n",
              "\n",
              "<style>\n",
              "  .colab-df-quickchart {\n",
              "      --bg-color: #E8F0FE;\n",
              "      --fill-color: #1967D2;\n",
              "      --hover-bg-color: #E2EBFA;\n",
              "      --hover-fill-color: #174EA6;\n",
              "      --disabled-fill-color: #AAA;\n",
              "      --disabled-bg-color: #DDD;\n",
              "  }\n",
              "\n",
              "  [theme=dark] .colab-df-quickchart {\n",
              "      --bg-color: #3B4455;\n",
              "      --fill-color: #D2E3FC;\n",
              "      --hover-bg-color: #434B5C;\n",
              "      --hover-fill-color: #FFFFFF;\n",
              "      --disabled-bg-color: #3B4455;\n",
              "      --disabled-fill-color: #666;\n",
              "  }\n",
              "\n",
              "  .colab-df-quickchart {\n",
              "    background-color: var(--bg-color);\n",
              "    border: none;\n",
              "    border-radius: 50%;\n",
              "    cursor: pointer;\n",
              "    display: none;\n",
              "    fill: var(--fill-color);\n",
              "    height: 32px;\n",
              "    padding: 0;\n",
              "    width: 32px;\n",
              "  }\n",
              "\n",
              "  .colab-df-quickchart:hover {\n",
              "    background-color: var(--hover-bg-color);\n",
              "    box-shadow: 0 1px 2px rgba(60, 64, 67, 0.3), 0 1px 3px 1px rgba(60, 64, 67, 0.15);\n",
              "    fill: var(--button-hover-fill-color);\n",
              "  }\n",
              "\n",
              "  .colab-df-quickchart-complete:disabled,\n",
              "  .colab-df-quickchart-complete:disabled:hover {\n",
              "    background-color: var(--disabled-bg-color);\n",
              "    fill: var(--disabled-fill-color);\n",
              "    box-shadow: none;\n",
              "  }\n",
              "\n",
              "  .colab-df-spinner {\n",
              "    border: 2px solid var(--fill-color);\n",
              "    border-color: transparent;\n",
              "    border-bottom-color: var(--fill-color);\n",
              "    animation:\n",
              "      spin 1s steps(1) infinite;\n",
              "  }\n",
              "\n",
              "  @keyframes spin {\n",
              "    0% {\n",
              "      border-color: transparent;\n",
              "      border-bottom-color: var(--fill-color);\n",
              "      border-left-color: var(--fill-color);\n",
              "    }\n",
              "    20% {\n",
              "      border-color: transparent;\n",
              "      border-left-color: var(--fill-color);\n",
              "      border-top-color: var(--fill-color);\n",
              "    }\n",
              "    30% {\n",
              "      border-color: transparent;\n",
              "      border-left-color: var(--fill-color);\n",
              "      border-top-color: var(--fill-color);\n",
              "      border-right-color: var(--fill-color);\n",
              "    }\n",
              "    40% {\n",
              "      border-color: transparent;\n",
              "      border-right-color: var(--fill-color);\n",
              "      border-top-color: var(--fill-color);\n",
              "    }\n",
              "    60% {\n",
              "      border-color: transparent;\n",
              "      border-right-color: var(--fill-color);\n",
              "    }\n",
              "    80% {\n",
              "      border-color: transparent;\n",
              "      border-right-color: var(--fill-color);\n",
              "      border-bottom-color: var(--fill-color);\n",
              "    }\n",
              "    90% {\n",
              "      border-color: transparent;\n",
              "      border-bottom-color: var(--fill-color);\n",
              "    }\n",
              "  }\n",
              "</style>\n",
              "\n",
              "  <script>\n",
              "    async function quickchart(key) {\n",
              "      const quickchartButtonEl =\n",
              "        document.querySelector('#' + key + ' button');\n",
              "      quickchartButtonEl.disabled = true;  // To prevent multiple clicks.\n",
              "      quickchartButtonEl.classList.add('colab-df-spinner');\n",
              "      try {\n",
              "        const charts = await google.colab.kernel.invokeFunction(\n",
              "            'suggestCharts', [key], {});\n",
              "      } catch (error) {\n",
              "        console.error('Error during call to suggestCharts:', error);\n",
              "      }\n",
              "      quickchartButtonEl.classList.remove('colab-df-spinner');\n",
              "      quickchartButtonEl.classList.add('colab-df-quickchart-complete');\n",
              "    }\n",
              "    (() => {\n",
              "      let quickchartButtonEl =\n",
              "        document.querySelector('#df-539e2aa1-347c-46f6-8bbc-279e92f477dc button');\n",
              "      quickchartButtonEl.style.display =\n",
              "        google.colab.kernel.accessAllowed ? 'block' : 'none';\n",
              "    })();\n",
              "  </script>\n",
              "</div>\n",
              "    </div>\n",
              "  </div>\n"
            ]
          },
          "metadata": {},
          "execution_count": 68
        }
      ],
      "source": [
        "# Let's try one-hot encode our dataframe so it's all numbers.\n",
        "insurance_one_hot = pd.get_dummies(insurance)\n",
        "insurance_one_hot.head()"
      ]
    },
    {
      "cell_type": "code",
      "execution_count": null,
      "metadata": {
        "id": "FkfzYEBCzaw4"
      },
      "outputs": [],
      "source": [
        "# Create X and y values (features and labels)\n",
        "X = insurance_one_hot.drop(\"charges\", axis=1)\n",
        "y = insurance_one_hot['charges']"
      ]
    },
    {
      "cell_type": "code",
      "execution_count": null,
      "metadata": {
        "id": "-nIKVtfBCG9j",
        "colab": {
          "base_uri": "https://localhost:8080/",
          "height": 206
        },
        "outputId": "93848891-8673-4893-c040-a8b869aeb0ac"
      },
      "outputs": [
        {
          "output_type": "execute_result",
          "data": {
            "text/plain": [
              "   age     bmi  children  sex_female  sex_male  smoker_no  smoker_yes  \\\n",
              "0   19  27.900         0           1         0          0           1   \n",
              "1   18  33.770         1           0         1          1           0   \n",
              "2   28  33.000         3           0         1          1           0   \n",
              "3   33  22.705         0           0         1          1           0   \n",
              "4   32  28.880         0           0         1          1           0   \n",
              "\n",
              "   region_northeast  region_northwest  region_southeast  region_southwest  \n",
              "0                 0                 0                 0                 1  \n",
              "1                 0                 0                 1                 0  \n",
              "2                 0                 0                 1                 0  \n",
              "3                 0                 1                 0                 0  \n",
              "4                 0                 1                 0                 0  "
            ],
            "text/html": [
              "\n",
              "  <div id=\"df-7901c647-aefd-4db8-a9e1-aaf56f23f56b\" class=\"colab-df-container\">\n",
              "    <div>\n",
              "<style scoped>\n",
              "    .dataframe tbody tr th:only-of-type {\n",
              "        vertical-align: middle;\n",
              "    }\n",
              "\n",
              "    .dataframe tbody tr th {\n",
              "        vertical-align: top;\n",
              "    }\n",
              "\n",
              "    .dataframe thead th {\n",
              "        text-align: right;\n",
              "    }\n",
              "</style>\n",
              "<table border=\"1\" class=\"dataframe\">\n",
              "  <thead>\n",
              "    <tr style=\"text-align: right;\">\n",
              "      <th></th>\n",
              "      <th>age</th>\n",
              "      <th>bmi</th>\n",
              "      <th>children</th>\n",
              "      <th>sex_female</th>\n",
              "      <th>sex_male</th>\n",
              "      <th>smoker_no</th>\n",
              "      <th>smoker_yes</th>\n",
              "      <th>region_northeast</th>\n",
              "      <th>region_northwest</th>\n",
              "      <th>region_southeast</th>\n",
              "      <th>region_southwest</th>\n",
              "    </tr>\n",
              "  </thead>\n",
              "  <tbody>\n",
              "    <tr>\n",
              "      <th>0</th>\n",
              "      <td>19</td>\n",
              "      <td>27.900</td>\n",
              "      <td>0</td>\n",
              "      <td>1</td>\n",
              "      <td>0</td>\n",
              "      <td>0</td>\n",
              "      <td>1</td>\n",
              "      <td>0</td>\n",
              "      <td>0</td>\n",
              "      <td>0</td>\n",
              "      <td>1</td>\n",
              "    </tr>\n",
              "    <tr>\n",
              "      <th>1</th>\n",
              "      <td>18</td>\n",
              "      <td>33.770</td>\n",
              "      <td>1</td>\n",
              "      <td>0</td>\n",
              "      <td>1</td>\n",
              "      <td>1</td>\n",
              "      <td>0</td>\n",
              "      <td>0</td>\n",
              "      <td>0</td>\n",
              "      <td>1</td>\n",
              "      <td>0</td>\n",
              "    </tr>\n",
              "    <tr>\n",
              "      <th>2</th>\n",
              "      <td>28</td>\n",
              "      <td>33.000</td>\n",
              "      <td>3</td>\n",
              "      <td>0</td>\n",
              "      <td>1</td>\n",
              "      <td>1</td>\n",
              "      <td>0</td>\n",
              "      <td>0</td>\n",
              "      <td>0</td>\n",
              "      <td>1</td>\n",
              "      <td>0</td>\n",
              "    </tr>\n",
              "    <tr>\n",
              "      <th>3</th>\n",
              "      <td>33</td>\n",
              "      <td>22.705</td>\n",
              "      <td>0</td>\n",
              "      <td>0</td>\n",
              "      <td>1</td>\n",
              "      <td>1</td>\n",
              "      <td>0</td>\n",
              "      <td>0</td>\n",
              "      <td>1</td>\n",
              "      <td>0</td>\n",
              "      <td>0</td>\n",
              "    </tr>\n",
              "    <tr>\n",
              "      <th>4</th>\n",
              "      <td>32</td>\n",
              "      <td>28.880</td>\n",
              "      <td>0</td>\n",
              "      <td>0</td>\n",
              "      <td>1</td>\n",
              "      <td>1</td>\n",
              "      <td>0</td>\n",
              "      <td>0</td>\n",
              "      <td>1</td>\n",
              "      <td>0</td>\n",
              "      <td>0</td>\n",
              "    </tr>\n",
              "  </tbody>\n",
              "</table>\n",
              "</div>\n",
              "    <div class=\"colab-df-buttons\">\n",
              "\n",
              "  <div class=\"colab-df-container\">\n",
              "    <button class=\"colab-df-convert\" onclick=\"convertToInteractive('df-7901c647-aefd-4db8-a9e1-aaf56f23f56b')\"\n",
              "            title=\"Convert this dataframe to an interactive table.\"\n",
              "            style=\"display:none;\">\n",
              "\n",
              "  <svg xmlns=\"http://www.w3.org/2000/svg\" height=\"24px\" viewBox=\"0 -960 960 960\">\n",
              "    <path d=\"M120-120v-720h720v720H120Zm60-500h600v-160H180v160Zm220 220h160v-160H400v160Zm0 220h160v-160H400v160ZM180-400h160v-160H180v160Zm440 0h160v-160H620v160ZM180-180h160v-160H180v160Zm440 0h160v-160H620v160Z\"/>\n",
              "  </svg>\n",
              "    </button>\n",
              "\n",
              "  <style>\n",
              "    .colab-df-container {\n",
              "      display:flex;\n",
              "      gap: 12px;\n",
              "    }\n",
              "\n",
              "    .colab-df-convert {\n",
              "      background-color: #E8F0FE;\n",
              "      border: none;\n",
              "      border-radius: 50%;\n",
              "      cursor: pointer;\n",
              "      display: none;\n",
              "      fill: #1967D2;\n",
              "      height: 32px;\n",
              "      padding: 0 0 0 0;\n",
              "      width: 32px;\n",
              "    }\n",
              "\n",
              "    .colab-df-convert:hover {\n",
              "      background-color: #E2EBFA;\n",
              "      box-shadow: 0px 1px 2px rgba(60, 64, 67, 0.3), 0px 1px 3px 1px rgba(60, 64, 67, 0.15);\n",
              "      fill: #174EA6;\n",
              "    }\n",
              "\n",
              "    .colab-df-buttons div {\n",
              "      margin-bottom: 4px;\n",
              "    }\n",
              "\n",
              "    [theme=dark] .colab-df-convert {\n",
              "      background-color: #3B4455;\n",
              "      fill: #D2E3FC;\n",
              "    }\n",
              "\n",
              "    [theme=dark] .colab-df-convert:hover {\n",
              "      background-color: #434B5C;\n",
              "      box-shadow: 0px 1px 3px 1px rgba(0, 0, 0, 0.15);\n",
              "      filter: drop-shadow(0px 1px 2px rgba(0, 0, 0, 0.3));\n",
              "      fill: #FFFFFF;\n",
              "    }\n",
              "  </style>\n",
              "\n",
              "    <script>\n",
              "      const buttonEl =\n",
              "        document.querySelector('#df-7901c647-aefd-4db8-a9e1-aaf56f23f56b button.colab-df-convert');\n",
              "      buttonEl.style.display =\n",
              "        google.colab.kernel.accessAllowed ? 'block' : 'none';\n",
              "\n",
              "      async function convertToInteractive(key) {\n",
              "        const element = document.querySelector('#df-7901c647-aefd-4db8-a9e1-aaf56f23f56b');\n",
              "        const dataTable =\n",
              "          await google.colab.kernel.invokeFunction('convertToInteractive',\n",
              "                                                    [key], {});\n",
              "        if (!dataTable) return;\n",
              "\n",
              "        const docLinkHtml = 'Like what you see? Visit the ' +\n",
              "          '<a target=\"_blank\" href=https://colab.research.google.com/notebooks/data_table.ipynb>data table notebook</a>'\n",
              "          + ' to learn more about interactive tables.';\n",
              "        element.innerHTML = '';\n",
              "        dataTable['output_type'] = 'display_data';\n",
              "        await google.colab.output.renderOutput(dataTable, element);\n",
              "        const docLink = document.createElement('div');\n",
              "        docLink.innerHTML = docLinkHtml;\n",
              "        element.appendChild(docLink);\n",
              "      }\n",
              "    </script>\n",
              "  </div>\n",
              "\n",
              "\n",
              "<div id=\"df-0597c629-2297-41ef-853e-79ab654e5be8\">\n",
              "  <button class=\"colab-df-quickchart\" onclick=\"quickchart('df-0597c629-2297-41ef-853e-79ab654e5be8')\"\n",
              "            title=\"Suggest charts.\"\n",
              "            style=\"display:none;\">\n",
              "\n",
              "<svg xmlns=\"http://www.w3.org/2000/svg\" height=\"24px\"viewBox=\"0 0 24 24\"\n",
              "     width=\"24px\">\n",
              "    <g>\n",
              "        <path d=\"M19 3H5c-1.1 0-2 .9-2 2v14c0 1.1.9 2 2 2h14c1.1 0 2-.9 2-2V5c0-1.1-.9-2-2-2zM9 17H7v-7h2v7zm4 0h-2V7h2v10zm4 0h-2v-4h2v4z\"/>\n",
              "    </g>\n",
              "</svg>\n",
              "  </button>\n",
              "\n",
              "<style>\n",
              "  .colab-df-quickchart {\n",
              "      --bg-color: #E8F0FE;\n",
              "      --fill-color: #1967D2;\n",
              "      --hover-bg-color: #E2EBFA;\n",
              "      --hover-fill-color: #174EA6;\n",
              "      --disabled-fill-color: #AAA;\n",
              "      --disabled-bg-color: #DDD;\n",
              "  }\n",
              "\n",
              "  [theme=dark] .colab-df-quickchart {\n",
              "      --bg-color: #3B4455;\n",
              "      --fill-color: #D2E3FC;\n",
              "      --hover-bg-color: #434B5C;\n",
              "      --hover-fill-color: #FFFFFF;\n",
              "      --disabled-bg-color: #3B4455;\n",
              "      --disabled-fill-color: #666;\n",
              "  }\n",
              "\n",
              "  .colab-df-quickchart {\n",
              "    background-color: var(--bg-color);\n",
              "    border: none;\n",
              "    border-radius: 50%;\n",
              "    cursor: pointer;\n",
              "    display: none;\n",
              "    fill: var(--fill-color);\n",
              "    height: 32px;\n",
              "    padding: 0;\n",
              "    width: 32px;\n",
              "  }\n",
              "\n",
              "  .colab-df-quickchart:hover {\n",
              "    background-color: var(--hover-bg-color);\n",
              "    box-shadow: 0 1px 2px rgba(60, 64, 67, 0.3), 0 1px 3px 1px rgba(60, 64, 67, 0.15);\n",
              "    fill: var(--button-hover-fill-color);\n",
              "  }\n",
              "\n",
              "  .colab-df-quickchart-complete:disabled,\n",
              "  .colab-df-quickchart-complete:disabled:hover {\n",
              "    background-color: var(--disabled-bg-color);\n",
              "    fill: var(--disabled-fill-color);\n",
              "    box-shadow: none;\n",
              "  }\n",
              "\n",
              "  .colab-df-spinner {\n",
              "    border: 2px solid var(--fill-color);\n",
              "    border-color: transparent;\n",
              "    border-bottom-color: var(--fill-color);\n",
              "    animation:\n",
              "      spin 1s steps(1) infinite;\n",
              "  }\n",
              "\n",
              "  @keyframes spin {\n",
              "    0% {\n",
              "      border-color: transparent;\n",
              "      border-bottom-color: var(--fill-color);\n",
              "      border-left-color: var(--fill-color);\n",
              "    }\n",
              "    20% {\n",
              "      border-color: transparent;\n",
              "      border-left-color: var(--fill-color);\n",
              "      border-top-color: var(--fill-color);\n",
              "    }\n",
              "    30% {\n",
              "      border-color: transparent;\n",
              "      border-left-color: var(--fill-color);\n",
              "      border-top-color: var(--fill-color);\n",
              "      border-right-color: var(--fill-color);\n",
              "    }\n",
              "    40% {\n",
              "      border-color: transparent;\n",
              "      border-right-color: var(--fill-color);\n",
              "      border-top-color: var(--fill-color);\n",
              "    }\n",
              "    60% {\n",
              "      border-color: transparent;\n",
              "      border-right-color: var(--fill-color);\n",
              "    }\n",
              "    80% {\n",
              "      border-color: transparent;\n",
              "      border-right-color: var(--fill-color);\n",
              "      border-bottom-color: var(--fill-color);\n",
              "    }\n",
              "    90% {\n",
              "      border-color: transparent;\n",
              "      border-bottom-color: var(--fill-color);\n",
              "    }\n",
              "  }\n",
              "</style>\n",
              "\n",
              "  <script>\n",
              "    async function quickchart(key) {\n",
              "      const quickchartButtonEl =\n",
              "        document.querySelector('#' + key + ' button');\n",
              "      quickchartButtonEl.disabled = true;  // To prevent multiple clicks.\n",
              "      quickchartButtonEl.classList.add('colab-df-spinner');\n",
              "      try {\n",
              "        const charts = await google.colab.kernel.invokeFunction(\n",
              "            'suggestCharts', [key], {});\n",
              "      } catch (error) {\n",
              "        console.error('Error during call to suggestCharts:', error);\n",
              "      }\n",
              "      quickchartButtonEl.classList.remove('colab-df-spinner');\n",
              "      quickchartButtonEl.classList.add('colab-df-quickchart-complete');\n",
              "    }\n",
              "    (() => {\n",
              "      let quickchartButtonEl =\n",
              "        document.querySelector('#df-0597c629-2297-41ef-853e-79ab654e5be8 button');\n",
              "      quickchartButtonEl.style.display =\n",
              "        google.colab.kernel.accessAllowed ? 'block' : 'none';\n",
              "    })();\n",
              "  </script>\n",
              "</div>\n",
              "    </div>\n",
              "  </div>\n"
            ]
          },
          "metadata": {},
          "execution_count": 70
        }
      ],
      "source": [
        "# View X\n",
        "X.head()"
      ]
    },
    {
      "cell_type": "code",
      "execution_count": null,
      "metadata": {
        "id": "OICZrd8aCNOi",
        "colab": {
          "base_uri": "https://localhost:8080/"
        },
        "outputId": "22527daa-3361-4d0a-c4df-917df39f4c8d"
      },
      "outputs": [
        {
          "output_type": "execute_result",
          "data": {
            "text/plain": [
              "0    16884.92400\n",
              "1     1725.55230\n",
              "2     4449.46200\n",
              "3    21984.47061\n",
              "4     3866.85520\n",
              "Name: charges, dtype: float64"
            ]
          },
          "metadata": {},
          "execution_count": 71
        }
      ],
      "source": [
        "# View y\n",
        "y.head()"
      ]
    },
    {
      "cell_type": "code",
      "execution_count": null,
      "metadata": {
        "id": "wXuD9sPFBwly",
        "colab": {
          "base_uri": "https://localhost:8080/"
        },
        "outputId": "13669457-58ce-4ef7-c472-c3988d9691f8"
      },
      "outputs": [
        {
          "output_type": "execute_result",
          "data": {
            "text/plain": [
              "(1338, 1070, 268)"
            ]
          },
          "metadata": {},
          "execution_count": 72
        }
      ],
      "source": [
        "\n",
        "# Create training and test sets\n",
        "from sklearn.model_selection import train_test_split\n",
        "X_train, X_test, y_train, y_test = train_test_split(X, y, test_size = 0.2, random_state = 42)\n",
        "len(X), len(X_train), len(X_test)"
      ]
    },
    {
      "cell_type": "code",
      "execution_count": null,
      "metadata": {
        "id": "o7_uUA_xBy2K",
        "colab": {
          "base_uri": "https://localhost:8080/"
        },
        "outputId": "0bc8f23f-5d69-47ab-dcd8-0c8f0f755179"
      },
      "outputs": [
        {
          "output_type": "stream",
          "name": "stdout",
          "text": [
            "Epoch 1/100\n",
            "34/34 [==============================] - 0s 2ms/step - loss: 8648.7832 - mae: 8648.7832\n",
            "Epoch 2/100\n",
            "34/34 [==============================] - 0s 2ms/step - loss: 7880.7661 - mae: 7880.7661\n",
            "Epoch 3/100\n",
            "34/34 [==============================] - 0s 2ms/step - loss: 7580.7266 - mae: 7580.7266\n",
            "Epoch 4/100\n",
            "34/34 [==============================] - 0s 2ms/step - loss: 7688.1226 - mae: 7688.1226\n",
            "Epoch 5/100\n",
            "34/34 [==============================] - 0s 2ms/step - loss: 7740.7856 - mae: 7740.7856\n",
            "Epoch 6/100\n",
            "34/34 [==============================] - 0s 2ms/step - loss: 7662.9575 - mae: 7662.9575\n",
            "Epoch 7/100\n",
            "34/34 [==============================] - 0s 2ms/step - loss: 7580.5029 - mae: 7580.5029\n",
            "Epoch 8/100\n",
            "34/34 [==============================] - 0s 2ms/step - loss: 7751.4346 - mae: 7751.4346\n",
            "Epoch 9/100\n",
            "34/34 [==============================] - 0s 2ms/step - loss: 7608.4741 - mae: 7608.4741\n",
            "Epoch 10/100\n",
            "34/34 [==============================] - 0s 2ms/step - loss: 7749.1997 - mae: 7749.1997\n",
            "Epoch 11/100\n",
            "34/34 [==============================] - 0s 2ms/step - loss: 7488.5708 - mae: 7488.5708\n",
            "Epoch 12/100\n",
            "34/34 [==============================] - 0s 2ms/step - loss: 7653.3647 - mae: 7653.3647\n",
            "Epoch 13/100\n",
            "34/34 [==============================] - 0s 2ms/step - loss: 7612.3115 - mae: 7612.3115\n",
            "Epoch 14/100\n",
            "34/34 [==============================] - 0s 2ms/step - loss: 7646.3955 - mae: 7646.3955\n",
            "Epoch 15/100\n",
            "34/34 [==============================] - 0s 2ms/step - loss: 7401.0171 - mae: 7401.0171\n",
            "Epoch 16/100\n",
            "34/34 [==============================] - 0s 2ms/step - loss: 7772.5610 - mae: 7772.5610\n",
            "Epoch 17/100\n",
            "34/34 [==============================] - 0s 2ms/step - loss: 7524.1270 - mae: 7524.1270\n",
            "Epoch 18/100\n",
            "34/34 [==============================] - 0s 2ms/step - loss: 7839.1528 - mae: 7839.1528\n",
            "Epoch 19/100\n",
            "34/34 [==============================] - 0s 2ms/step - loss: 7752.8970 - mae: 7752.8970\n",
            "Epoch 20/100\n",
            "34/34 [==============================] - 0s 2ms/step - loss: 7909.1504 - mae: 7909.1504\n",
            "Epoch 21/100\n",
            "34/34 [==============================] - 0s 2ms/step - loss: 7445.7676 - mae: 7445.7676\n",
            "Epoch 22/100\n",
            "34/34 [==============================] - 0s 2ms/step - loss: 7912.4497 - mae: 7912.4497\n",
            "Epoch 23/100\n",
            "34/34 [==============================] - 0s 2ms/step - loss: 7660.2402 - mae: 7660.2402\n",
            "Epoch 24/100\n",
            "34/34 [==============================] - 0s 2ms/step - loss: 7525.4580 - mae: 7525.4580\n",
            "Epoch 25/100\n",
            "34/34 [==============================] - 0s 2ms/step - loss: 7585.9639 - mae: 7585.9639\n",
            "Epoch 26/100\n",
            "34/34 [==============================] - 0s 2ms/step - loss: 7639.6567 - mae: 7639.6567\n",
            "Epoch 27/100\n",
            "34/34 [==============================] - 0s 2ms/step - loss: 7582.3521 - mae: 7582.3521\n",
            "Epoch 28/100\n",
            "34/34 [==============================] - 0s 2ms/step - loss: 7520.2881 - mae: 7520.2881\n",
            "Epoch 29/100\n",
            "34/34 [==============================] - 0s 2ms/step - loss: 7583.9062 - mae: 7583.9062\n",
            "Epoch 30/100\n",
            "34/34 [==============================] - 0s 2ms/step - loss: 7634.1880 - mae: 7634.1880\n",
            "Epoch 31/100\n",
            "34/34 [==============================] - 0s 2ms/step - loss: 7306.4624 - mae: 7306.4624\n",
            "Epoch 32/100\n",
            "34/34 [==============================] - 0s 2ms/step - loss: 7663.1499 - mae: 7663.1499\n",
            "Epoch 33/100\n",
            "34/34 [==============================] - 0s 2ms/step - loss: 7405.6919 - mae: 7405.6919\n",
            "Epoch 34/100\n",
            "34/34 [==============================] - 0s 2ms/step - loss: 7402.8413 - mae: 7402.8413\n",
            "Epoch 35/100\n",
            "34/34 [==============================] - 0s 2ms/step - loss: 7422.8828 - mae: 7422.8828\n",
            "Epoch 36/100\n",
            "34/34 [==============================] - 0s 2ms/step - loss: 7573.4219 - mae: 7573.4219\n",
            "Epoch 37/100\n",
            "34/34 [==============================] - 0s 2ms/step - loss: 7621.5981 - mae: 7621.5981\n",
            "Epoch 38/100\n",
            "34/34 [==============================] - 0s 2ms/step - loss: 7597.5732 - mae: 7597.5732\n",
            "Epoch 39/100\n",
            "34/34 [==============================] - 0s 2ms/step - loss: 7523.9800 - mae: 7523.9800\n",
            "Epoch 40/100\n",
            "34/34 [==============================] - 0s 2ms/step - loss: 7492.3462 - mae: 7492.3462\n",
            "Epoch 41/100\n",
            "34/34 [==============================] - 0s 2ms/step - loss: 7743.8101 - mae: 7743.8101\n",
            "Epoch 42/100\n",
            "34/34 [==============================] - 0s 2ms/step - loss: 7232.6841 - mae: 7232.6841\n",
            "Epoch 43/100\n",
            "34/34 [==============================] - 0s 2ms/step - loss: 7606.9214 - mae: 7606.9214\n",
            "Epoch 44/100\n",
            "34/34 [==============================] - 0s 2ms/step - loss: 7482.6646 - mae: 7482.6646\n",
            "Epoch 45/100\n",
            "34/34 [==============================] - 0s 2ms/step - loss: 7494.5215 - mae: 7494.5215\n",
            "Epoch 46/100\n",
            "34/34 [==============================] - 0s 2ms/step - loss: 7361.6792 - mae: 7361.6792\n",
            "Epoch 47/100\n",
            "34/34 [==============================] - 0s 2ms/step - loss: 7522.5537 - mae: 7522.5537\n",
            "Epoch 48/100\n",
            "34/34 [==============================] - 0s 2ms/step - loss: 7455.0684 - mae: 7455.0684\n",
            "Epoch 49/100\n",
            "34/34 [==============================] - 0s 2ms/step - loss: 7552.8843 - mae: 7552.8843\n",
            "Epoch 50/100\n",
            "34/34 [==============================] - 0s 2ms/step - loss: 7471.9731 - mae: 7471.9731\n",
            "Epoch 51/100\n",
            "34/34 [==============================] - 0s 2ms/step - loss: 7428.8423 - mae: 7428.8423\n",
            "Epoch 52/100\n",
            "34/34 [==============================] - 0s 2ms/step - loss: 7314.7715 - mae: 7314.7715\n",
            "Epoch 53/100\n",
            "34/34 [==============================] - 0s 2ms/step - loss: 7540.0923 - mae: 7540.0923\n",
            "Epoch 54/100\n",
            "34/34 [==============================] - 0s 2ms/step - loss: 7293.4575 - mae: 7293.4575\n",
            "Epoch 55/100\n",
            "34/34 [==============================] - 0s 2ms/step - loss: 7194.6099 - mae: 7194.6099\n",
            "Epoch 56/100\n",
            "34/34 [==============================] - 0s 2ms/step - loss: 7276.1509 - mae: 7276.1509\n",
            "Epoch 57/100\n",
            "34/34 [==============================] - 0s 2ms/step - loss: 7425.0366 - mae: 7425.0366\n",
            "Epoch 58/100\n",
            "34/34 [==============================] - 0s 2ms/step - loss: 7525.4067 - mae: 7525.4067\n",
            "Epoch 59/100\n",
            "34/34 [==============================] - 0s 3ms/step - loss: 7468.7588 - mae: 7468.7588\n",
            "Epoch 60/100\n",
            "34/34 [==============================] - 0s 4ms/step - loss: 7402.7041 - mae: 7402.7041\n",
            "Epoch 61/100\n",
            "34/34 [==============================] - 0s 3ms/step - loss: 7507.2334 - mae: 7507.2334\n",
            "Epoch 62/100\n",
            "34/34 [==============================] - 0s 3ms/step - loss: 7373.8164 - mae: 7373.8164\n",
            "Epoch 63/100\n",
            "34/34 [==============================] - 0s 3ms/step - loss: 7426.8667 - mae: 7426.8667\n",
            "Epoch 64/100\n",
            "34/34 [==============================] - 0s 3ms/step - loss: 7297.0464 - mae: 7297.0464\n",
            "Epoch 65/100\n",
            "34/34 [==============================] - 0s 4ms/step - loss: 7445.7935 - mae: 7445.7935\n",
            "Epoch 66/100\n",
            "34/34 [==============================] - 0s 3ms/step - loss: 7499.2407 - mae: 7499.2407\n",
            "Epoch 67/100\n",
            "34/34 [==============================] - 0s 3ms/step - loss: 7301.0488 - mae: 7301.0488\n",
            "Epoch 68/100\n",
            "34/34 [==============================] - 0s 3ms/step - loss: 7414.8057 - mae: 7414.8057\n",
            "Epoch 69/100\n",
            "34/34 [==============================] - 0s 3ms/step - loss: 7380.1904 - mae: 7380.1904\n",
            "Epoch 70/100\n",
            "34/34 [==============================] - 0s 2ms/step - loss: 7632.0200 - mae: 7632.0200\n",
            "Epoch 71/100\n",
            "34/34 [==============================] - 0s 3ms/step - loss: 7317.8926 - mae: 7317.8926\n",
            "Epoch 72/100\n",
            "34/34 [==============================] - 0s 3ms/step - loss: 7400.8501 - mae: 7400.8501\n",
            "Epoch 73/100\n",
            "34/34 [==============================] - 0s 3ms/step - loss: 7391.4722 - mae: 7391.4722\n",
            "Epoch 74/100\n",
            "34/34 [==============================] - 0s 3ms/step - loss: 7527.1240 - mae: 7527.1240\n",
            "Epoch 75/100\n",
            "34/34 [==============================] - 0s 3ms/step - loss: 7239.3208 - mae: 7239.3208\n",
            "Epoch 76/100\n",
            "34/34 [==============================] - 0s 3ms/step - loss: 7157.7178 - mae: 7157.7178\n",
            "Epoch 77/100\n",
            "34/34 [==============================] - 0s 3ms/step - loss: 7548.3848 - mae: 7548.3848\n",
            "Epoch 78/100\n",
            "34/34 [==============================] - 0s 3ms/step - loss: 7088.4077 - mae: 7088.4077\n",
            "Epoch 79/100\n",
            "34/34 [==============================] - 0s 3ms/step - loss: 7503.2148 - mae: 7503.2148\n",
            "Epoch 80/100\n",
            "34/34 [==============================] - 0s 3ms/step - loss: 7412.1011 - mae: 7412.1011\n",
            "Epoch 81/100\n",
            "34/34 [==============================] - 0s 3ms/step - loss: 7208.3003 - mae: 7208.3003\n",
            "Epoch 82/100\n",
            "34/34 [==============================] - 0s 3ms/step - loss: 7159.5244 - mae: 7159.5244\n",
            "Epoch 83/100\n",
            "34/34 [==============================] - 0s 3ms/step - loss: 7364.0342 - mae: 7364.0342\n",
            "Epoch 84/100\n",
            "34/34 [==============================] - 0s 3ms/step - loss: 7200.7861 - mae: 7200.7861\n",
            "Epoch 85/100\n",
            "34/34 [==============================] - 0s 3ms/step - loss: 7533.6938 - mae: 7533.6938\n",
            "Epoch 86/100\n",
            "34/34 [==============================] - 0s 3ms/step - loss: 7570.9780 - mae: 7570.9780\n",
            "Epoch 87/100\n",
            "34/34 [==============================] - 0s 3ms/step - loss: 6929.6260 - mae: 6929.6260\n",
            "Epoch 88/100\n",
            "34/34 [==============================] - 0s 3ms/step - loss: 7260.6855 - mae: 7260.6855\n",
            "Epoch 89/100\n",
            "34/34 [==============================] - 0s 3ms/step - loss: 7506.0869 - mae: 7506.0869\n",
            "Epoch 90/100\n",
            "34/34 [==============================] - 0s 3ms/step - loss: 7275.5059 - mae: 7275.5059\n",
            "Epoch 91/100\n",
            "34/34 [==============================] - 0s 3ms/step - loss: 7242.3823 - mae: 7242.3823\n",
            "Epoch 92/100\n",
            "34/34 [==============================] - 0s 3ms/step - loss: 7204.5811 - mae: 7204.5811\n",
            "Epoch 93/100\n",
            "34/34 [==============================] - 0s 3ms/step - loss: 7529.4614 - mae: 7529.4614\n",
            "Epoch 94/100\n",
            "34/34 [==============================] - 0s 3ms/step - loss: 7212.7329 - mae: 7212.7329\n",
            "Epoch 95/100\n",
            "34/34 [==============================] - 0s 3ms/step - loss: 7481.4312 - mae: 7481.4312\n",
            "Epoch 96/100\n",
            "34/34 [==============================] - 0s 3ms/step - loss: 7128.4834 - mae: 7128.4834\n",
            "Epoch 97/100\n",
            "34/34 [==============================] - 0s 2ms/step - loss: 7175.2422 - mae: 7175.2422\n",
            "Epoch 98/100\n",
            "34/34 [==============================] - 0s 3ms/step - loss: 7323.2456 - mae: 7323.2456\n",
            "Epoch 99/100\n",
            "34/34 [==============================] - 0s 3ms/step - loss: 7295.8428 - mae: 7295.8428\n",
            "Epoch 100/100\n",
            "34/34 [==============================] - 0s 3ms/step - loss: 7334.3745 - mae: 7334.3745\n"
          ]
        },
        {
          "output_type": "execute_result",
          "data": {
            "text/plain": [
              "<keras.src.callbacks.History at 0x7af5f08140a0>"
            ]
          },
          "metadata": {},
          "execution_count": 73
        }
      ],
      "source": [
        "# Build a neural network (sort of like model_2 above)\n",
        "tf.random.set_seed(42)\n",
        "\n",
        "# 1. Create a model\n",
        "insurance_model = tf.keras.Sequential([\n",
        "    tf.keras.layers.Dense(10),\n",
        "    tf.keras.layers.Dense(1)\n",
        "])\n",
        "\n",
        "# 2. Compile the model\n",
        "insurance_model.compile(loss = tf.keras.losses.mae,\n",
        "                        optimizer = tf.keras.optimizers.SGD(),\n",
        "                        metrics = [\"mae\"])\n",
        "\n",
        "# 3. fit the model\n",
        "insurance_model.fit(X_train, y_train, epochs = 100)"
      ]
    },
    {
      "cell_type": "code",
      "execution_count": null,
      "metadata": {
        "id": "FVy7DzxOGf1K",
        "colab": {
          "base_uri": "https://localhost:8080/"
        },
        "outputId": "9b37b679-144d-480d-9a30-f747f2d31378"
      },
      "outputs": [
        {
          "output_type": "stream",
          "name": "stdout",
          "text": [
            "9/9 [==============================] - 0s 2ms/step - loss: 8793.3311 - mae: 8793.3311\n"
          ]
        },
        {
          "output_type": "execute_result",
          "data": {
            "text/plain": [
              "[8793.3310546875, 8793.3310546875]"
            ]
          },
          "metadata": {},
          "execution_count": 74
        }
      ],
      "source": [
        "# check the results of the insurance_model on the test data\n",
        "insurance_model.evaluate(X_test, y_test)"
      ]
    },
    {
      "cell_type": "code",
      "execution_count": null,
      "metadata": {
        "id": "Qo_SEXFMGyX_",
        "colab": {
          "base_uri": "https://localhost:8080/"
        },
        "outputId": "f41345c9-054b-472a-f0b1-642c76314c6c"
      },
      "outputs": [
        {
          "output_type": "execute_result",
          "data": {
            "text/plain": [
              "(9575.4421, 13346.089736364485)"
            ]
          },
          "metadata": {},
          "execution_count": 75
        }
      ],
      "source": [
        "y_train.median(), y_train.mean()"
      ]
    },
    {
      "cell_type": "markdown",
      "metadata": {
        "id": "J7DY5UlkHEId"
      },
      "source": [
        "#### Right now it looks like our model isn't performing too well... let's try and improve it.\n",
        "\n",
        "To try to improve our model, we'll run 2 experiments\n",
        "1. Add an extra layers with more hidden units and use Adam optimizer\n",
        "2. Same as above but train for longer (200 epochs)\n",
        "3. Insert your experiments here"
      ]
    },
    {
      "cell_type": "code",
      "execution_count": null,
      "metadata": {
        "id": "zv7d9-H4HSuQ",
        "colab": {
          "base_uri": "https://localhost:8080/"
        },
        "outputId": "70c282e7-092c-4f40-edd9-67ea7163332e"
      },
      "outputs": [
        {
          "output_type": "stream",
          "name": "stdout",
          "text": [
            "Epoch 1/100\n",
            "34/34 [==============================] - 1s 3ms/step - loss: 13288.2314 - mae: 13288.2314\n",
            "Epoch 2/100\n",
            "34/34 [==============================] - 0s 2ms/step - loss: 13100.1553 - mae: 13100.1553\n",
            "Epoch 3/100\n",
            "34/34 [==============================] - 0s 2ms/step - loss: 12717.9160 - mae: 12717.9160\n",
            "Epoch 4/100\n",
            "34/34 [==============================] - 0s 2ms/step - loss: 11988.6475 - mae: 11988.6475\n",
            "Epoch 5/100\n",
            "34/34 [==============================] - 0s 2ms/step - loss: 10799.1270 - mae: 10799.1270\n",
            "Epoch 6/100\n",
            "34/34 [==============================] - 0s 2ms/step - loss: 9330.5371 - mae: 9330.5371\n",
            "Epoch 7/100\n",
            "34/34 [==============================] - 0s 2ms/step - loss: 8046.1880 - mae: 8046.1880\n",
            "Epoch 8/100\n",
            "34/34 [==============================] - 0s 3ms/step - loss: 7498.9282 - mae: 7498.9282\n",
            "Epoch 9/100\n",
            "34/34 [==============================] - 0s 2ms/step - loss: 7417.2202 - mae: 7417.2202\n",
            "Epoch 10/100\n",
            "34/34 [==============================] - 0s 2ms/step - loss: 7397.0303 - mae: 7397.0303\n",
            "Epoch 11/100\n",
            "34/34 [==============================] - 0s 2ms/step - loss: 7377.6401 - mae: 7377.6401\n",
            "Epoch 12/100\n",
            "34/34 [==============================] - 0s 2ms/step - loss: 7354.7739 - mae: 7354.7739\n",
            "Epoch 13/100\n",
            "34/34 [==============================] - 0s 2ms/step - loss: 7333.6431 - mae: 7333.6431\n",
            "Epoch 14/100\n",
            "34/34 [==============================] - 0s 2ms/step - loss: 7310.2148 - mae: 7310.2148\n",
            "Epoch 15/100\n",
            "34/34 [==============================] - 0s 2ms/step - loss: 7290.6323 - mae: 7290.6323\n",
            "Epoch 16/100\n",
            "34/34 [==============================] - 0s 2ms/step - loss: 7267.2554 - mae: 7267.2554\n",
            "Epoch 17/100\n",
            "34/34 [==============================] - 0s 2ms/step - loss: 7245.3154 - mae: 7245.3154\n",
            "Epoch 18/100\n",
            "34/34 [==============================] - 0s 2ms/step - loss: 7220.7158 - mae: 7220.7158\n",
            "Epoch 19/100\n",
            "34/34 [==============================] - 0s 2ms/step - loss: 7196.4458 - mae: 7196.4458\n",
            "Epoch 20/100\n",
            "34/34 [==============================] - 0s 2ms/step - loss: 7170.5747 - mae: 7170.5747\n",
            "Epoch 21/100\n",
            "34/34 [==============================] - 0s 2ms/step - loss: 7149.5508 - mae: 7149.5508\n",
            "Epoch 22/100\n",
            "34/34 [==============================] - 0s 2ms/step - loss: 7119.4106 - mae: 7119.4106\n",
            "Epoch 23/100\n",
            "34/34 [==============================] - 0s 2ms/step - loss: 7091.9927 - mae: 7091.9927\n",
            "Epoch 24/100\n",
            "34/34 [==============================] - 0s 2ms/step - loss: 7063.1108 - mae: 7063.1108\n",
            "Epoch 25/100\n",
            "34/34 [==============================] - 0s 3ms/step - loss: 7040.8452 - mae: 7040.8452\n",
            "Epoch 26/100\n",
            "34/34 [==============================] - 0s 2ms/step - loss: 7006.1978 - mae: 7006.1978\n",
            "Epoch 27/100\n",
            "34/34 [==============================] - 0s 2ms/step - loss: 6974.6577 - mae: 6974.6577\n",
            "Epoch 28/100\n",
            "34/34 [==============================] - 0s 2ms/step - loss: 6941.8794 - mae: 6941.8794\n",
            "Epoch 29/100\n",
            "34/34 [==============================] - 0s 3ms/step - loss: 6909.7549 - mae: 6909.7549\n",
            "Epoch 30/100\n",
            "34/34 [==============================] - 0s 2ms/step - loss: 6878.7031 - mae: 6878.7031\n",
            "Epoch 31/100\n",
            "34/34 [==============================] - 0s 2ms/step - loss: 6842.3457 - mae: 6842.3457\n",
            "Epoch 32/100\n",
            "34/34 [==============================] - 0s 3ms/step - loss: 6808.5649 - mae: 6808.5649\n",
            "Epoch 33/100\n",
            "34/34 [==============================] - 0s 2ms/step - loss: 6771.4082 - mae: 6771.4082\n",
            "Epoch 34/100\n",
            "34/34 [==============================] - 0s 2ms/step - loss: 6734.2002 - mae: 6734.2002\n",
            "Epoch 35/100\n",
            "34/34 [==============================] - 0s 3ms/step - loss: 6696.0020 - mae: 6696.0020\n",
            "Epoch 36/100\n",
            "34/34 [==============================] - 0s 3ms/step - loss: 6657.5205 - mae: 6657.5205\n",
            "Epoch 37/100\n",
            "34/34 [==============================] - 0s 2ms/step - loss: 6619.0889 - mae: 6619.0889\n",
            "Epoch 38/100\n",
            "34/34 [==============================] - 0s 2ms/step - loss: 6586.7061 - mae: 6586.7061\n",
            "Epoch 39/100\n",
            "34/34 [==============================] - 0s 3ms/step - loss: 6550.9312 - mae: 6550.9312\n",
            "Epoch 40/100\n",
            "34/34 [==============================] - 0s 2ms/step - loss: 6523.8257 - mae: 6523.8257\n",
            "Epoch 41/100\n",
            "34/34 [==============================] - 0s 2ms/step - loss: 6503.4976 - mae: 6503.4976\n",
            "Epoch 42/100\n",
            "34/34 [==============================] - 0s 3ms/step - loss: 6485.1401 - mae: 6485.1401\n",
            "Epoch 43/100\n",
            "34/34 [==============================] - 0s 3ms/step - loss: 6468.6440 - mae: 6468.6440\n",
            "Epoch 44/100\n",
            "34/34 [==============================] - 0s 3ms/step - loss: 6450.0981 - mae: 6450.0981\n",
            "Epoch 45/100\n",
            "34/34 [==============================] - 0s 2ms/step - loss: 6443.6191 - mae: 6443.6191\n",
            "Epoch 46/100\n",
            "34/34 [==============================] - 0s 2ms/step - loss: 6424.3262 - mae: 6424.3262\n",
            "Epoch 47/100\n",
            "34/34 [==============================] - 0s 2ms/step - loss: 6409.4722 - mae: 6409.4722\n",
            "Epoch 48/100\n",
            "34/34 [==============================] - 0s 2ms/step - loss: 6394.4116 - mae: 6394.4116\n",
            "Epoch 49/100\n",
            "34/34 [==============================] - 0s 2ms/step - loss: 6383.3774 - mae: 6383.3774\n",
            "Epoch 50/100\n",
            "34/34 [==============================] - 0s 2ms/step - loss: 6368.1416 - mae: 6368.1416\n",
            "Epoch 51/100\n",
            "34/34 [==============================] - 0s 2ms/step - loss: 6353.1489 - mae: 6353.1489\n",
            "Epoch 52/100\n",
            "34/34 [==============================] - 0s 2ms/step - loss: 6338.5806 - mae: 6338.5806\n",
            "Epoch 53/100\n",
            "34/34 [==============================] - 0s 2ms/step - loss: 6323.2773 - mae: 6323.2773\n",
            "Epoch 54/100\n",
            "34/34 [==============================] - 0s 2ms/step - loss: 6308.2451 - mae: 6308.2451\n",
            "Epoch 55/100\n",
            "34/34 [==============================] - 0s 2ms/step - loss: 6293.5586 - mae: 6293.5586\n",
            "Epoch 56/100\n",
            "34/34 [==============================] - 0s 2ms/step - loss: 6278.8701 - mae: 6278.8701\n",
            "Epoch 57/100\n",
            "34/34 [==============================] - 0s 2ms/step - loss: 6263.0093 - mae: 6263.0093\n",
            "Epoch 58/100\n",
            "34/34 [==============================] - 0s 2ms/step - loss: 6247.6426 - mae: 6247.6426\n",
            "Epoch 59/100\n",
            "34/34 [==============================] - 0s 2ms/step - loss: 6230.2466 - mae: 6230.2466\n",
            "Epoch 60/100\n",
            "34/34 [==============================] - 0s 2ms/step - loss: 6217.3540 - mae: 6217.3540\n",
            "Epoch 61/100\n",
            "34/34 [==============================] - 0s 2ms/step - loss: 6195.8545 - mae: 6195.8545\n",
            "Epoch 62/100\n",
            "34/34 [==============================] - 0s 3ms/step - loss: 6182.2764 - mae: 6182.2764\n",
            "Epoch 63/100\n",
            "34/34 [==============================] - 0s 2ms/step - loss: 6159.9619 - mae: 6159.9619\n",
            "Epoch 64/100\n",
            "34/34 [==============================] - 0s 2ms/step - loss: 6140.6221 - mae: 6140.6221\n",
            "Epoch 65/100\n",
            "34/34 [==============================] - 0s 3ms/step - loss: 6121.7153 - mae: 6121.7153\n",
            "Epoch 66/100\n",
            "34/34 [==============================] - 0s 3ms/step - loss: 6101.3169 - mae: 6101.3169\n",
            "Epoch 67/100\n",
            "34/34 [==============================] - 0s 2ms/step - loss: 6086.1216 - mae: 6086.1216\n",
            "Epoch 68/100\n",
            "34/34 [==============================] - 0s 3ms/step - loss: 6060.6479 - mae: 6060.6479\n",
            "Epoch 69/100\n",
            "34/34 [==============================] - 0s 2ms/step - loss: 6041.1289 - mae: 6041.1289\n",
            "Epoch 70/100\n",
            "34/34 [==============================] - 0s 2ms/step - loss: 6018.1260 - mae: 6018.1260\n",
            "Epoch 71/100\n",
            "34/34 [==============================] - 0s 2ms/step - loss: 5994.1206 - mae: 5994.1206\n",
            "Epoch 72/100\n",
            "34/34 [==============================] - 0s 3ms/step - loss: 5971.3540 - mae: 5971.3540\n",
            "Epoch 73/100\n",
            "34/34 [==============================] - 0s 2ms/step - loss: 5954.6040 - mae: 5954.6040\n",
            "Epoch 74/100\n",
            "34/34 [==============================] - 0s 2ms/step - loss: 5920.3530 - mae: 5920.3530\n",
            "Epoch 75/100\n",
            "34/34 [==============================] - 0s 2ms/step - loss: 5894.7437 - mae: 5894.7437\n",
            "Epoch 76/100\n",
            "34/34 [==============================] - 0s 3ms/step - loss: 5874.5332 - mae: 5874.5332\n",
            "Epoch 77/100\n",
            "34/34 [==============================] - 0s 3ms/step - loss: 5839.6030 - mae: 5839.6030\n",
            "Epoch 78/100\n",
            "34/34 [==============================] - 0s 2ms/step - loss: 5811.3579 - mae: 5811.3579\n",
            "Epoch 79/100\n",
            "34/34 [==============================] - 0s 2ms/step - loss: 5780.7261 - mae: 5780.7261\n",
            "Epoch 80/100\n",
            "34/34 [==============================] - 0s 3ms/step - loss: 5747.9536 - mae: 5747.9536\n",
            "Epoch 81/100\n",
            "34/34 [==============================] - 0s 3ms/step - loss: 5717.5034 - mae: 5717.5034\n",
            "Epoch 82/100\n",
            "34/34 [==============================] - 0s 2ms/step - loss: 5682.0356 - mae: 5682.0356\n",
            "Epoch 83/100\n",
            "34/34 [==============================] - 0s 2ms/step - loss: 5648.5312 - mae: 5648.5312\n",
            "Epoch 84/100\n",
            "34/34 [==============================] - 0s 3ms/step - loss: 5607.6470 - mae: 5607.6470\n",
            "Epoch 85/100\n",
            "34/34 [==============================] - 0s 3ms/step - loss: 5573.2217 - mae: 5573.2217\n",
            "Epoch 86/100\n",
            "34/34 [==============================] - 0s 3ms/step - loss: 5531.9282 - mae: 5531.9282\n",
            "Epoch 87/100\n",
            "34/34 [==============================] - 0s 4ms/step - loss: 5489.2598 - mae: 5489.2598\n",
            "Epoch 88/100\n",
            "34/34 [==============================] - 0s 3ms/step - loss: 5445.5913 - mae: 5445.5913\n",
            "Epoch 89/100\n",
            "34/34 [==============================] - 0s 3ms/step - loss: 5397.3242 - mae: 5397.3242\n",
            "Epoch 90/100\n",
            "34/34 [==============================] - 0s 3ms/step - loss: 5346.6387 - mae: 5346.6387\n",
            "Epoch 91/100\n",
            "34/34 [==============================] - 0s 4ms/step - loss: 5298.9375 - mae: 5298.9375\n",
            "Epoch 92/100\n",
            "34/34 [==============================] - 0s 4ms/step - loss: 5245.5171 - mae: 5245.5171\n",
            "Epoch 93/100\n",
            "34/34 [==============================] - 0s 4ms/step - loss: 5191.6802 - mae: 5191.6802\n",
            "Epoch 94/100\n",
            "34/34 [==============================] - 0s 4ms/step - loss: 5132.8018 - mae: 5132.8018\n",
            "Epoch 95/100\n",
            "34/34 [==============================] - 0s 5ms/step - loss: 5072.3262 - mae: 5072.3262\n",
            "Epoch 96/100\n",
            "34/34 [==============================] - 0s 3ms/step - loss: 5018.2739 - mae: 5018.2739\n",
            "Epoch 97/100\n",
            "34/34 [==============================] - 0s 4ms/step - loss: 4951.6133 - mae: 4951.6133\n",
            "Epoch 98/100\n",
            "34/34 [==============================] - 0s 4ms/step - loss: 4883.9448 - mae: 4883.9448\n",
            "Epoch 99/100\n",
            "34/34 [==============================] - 0s 3ms/step - loss: 4804.1558 - mae: 4804.1558\n",
            "Epoch 100/100\n",
            "34/34 [==============================] - 0s 4ms/step - loss: 4740.3887 - mae: 4740.3887\n"
          ]
        },
        {
          "output_type": "execute_result",
          "data": {
            "text/plain": [
              "<keras.src.callbacks.History at 0x7af5f6b4e5f0>"
            ]
          },
          "metadata": {},
          "execution_count": 76
        }
      ],
      "source": [
        "# Set random seed\n",
        "tf.random.set_seed(42)\n",
        "\n",
        "# 1. Create the model\n",
        "insurance_model_2 = tf.keras.Sequential([\n",
        "    tf.keras.layers.Dense(100),\n",
        "    tf.keras.layers.Dense(10),\n",
        "    tf.keras.layers.Dense(1)\n",
        "])\n",
        "\n",
        "# 2. Compile the model\n",
        "insurance_model_2.compile(loss=tf.keras.losses.mae,\n",
        "                          optimizer=tf.keras.optimizers.Adam(),\n",
        "                          metrics=['mae'])\n",
        "\n",
        "#3. Fit the model\n",
        "insurance_model_2.fit(X_train, y_train, epochs=100, verbose=1)"
      ]
    },
    {
      "cell_type": "code",
      "execution_count": null,
      "metadata": {
        "id": "cArv57SVVHfk",
        "colab": {
          "base_uri": "https://localhost:8080/"
        },
        "outputId": "b674e93f-cf0d-4b12-9a91-37375c0c56d6"
      },
      "outputs": [
        {
          "output_type": "stream",
          "name": "stdout",
          "text": [
            "9/9 [==============================] - 0s 4ms/step - loss: 4628.9448 - mae: 4628.9448\n"
          ]
        },
        {
          "output_type": "execute_result",
          "data": {
            "text/plain": [
              "[4628.94482421875, 4628.94482421875]"
            ]
          },
          "metadata": {},
          "execution_count": 77
        }
      ],
      "source": [
        "# Evalute the larger model\n",
        "insurance_model_2.evaluate(X_test, y_test, )"
      ]
    },
    {
      "cell_type": "code",
      "execution_count": null,
      "metadata": {
        "id": "TExmK1KyVzq0",
        "colab": {
          "base_uri": "https://localhost:8080/"
        },
        "outputId": "026bfbe9-fec8-4d1b-9031-c15384fa516d"
      },
      "outputs": [
        {
          "output_type": "stream",
          "name": "stdout",
          "text": [
            "9/9 [==============================] - 0s 4ms/step - loss: 8793.3311 - mae: 8793.3311\n"
          ]
        },
        {
          "output_type": "execute_result",
          "data": {
            "text/plain": [
              "[8793.3310546875, 8793.3310546875]"
            ]
          },
          "metadata": {},
          "execution_count": 78
        }
      ],
      "source": [
        "insurance_model.evaluate(X_test, y_test)"
      ]
    },
    {
      "cell_type": "code",
      "execution_count": null,
      "metadata": {
        "id": "mnJxnEhkWT99",
        "colab": {
          "base_uri": "https://localhost:8080/"
        },
        "outputId": "4b58deeb-1619-4c01-cb35-023753c36aee"
      },
      "outputs": [
        {
          "output_type": "stream",
          "name": "stdout",
          "text": [
            "Epoch 1/200\n",
            "34/34 [==============================] - 1s 4ms/step - loss: 13269.0342 - mae: 13269.0342\n",
            "Epoch 2/200\n",
            "34/34 [==============================] - 0s 4ms/step - loss: 13078.1758 - mae: 13078.1758\n",
            "Epoch 3/200\n",
            "34/34 [==============================] - 0s 4ms/step - loss: 12678.5498 - mae: 12678.5498\n",
            "Epoch 4/200\n",
            "34/34 [==============================] - 0s 4ms/step - loss: 11916.8447 - mae: 11916.8447\n",
            "Epoch 5/200\n",
            "34/34 [==============================] - 0s 4ms/step - loss: 10698.4551 - mae: 10698.4551\n",
            "Epoch 6/200\n",
            "34/34 [==============================] - 0s 4ms/step - loss: 9226.9023 - mae: 9226.9023\n",
            "Epoch 7/200\n",
            "34/34 [==============================] - 0s 4ms/step - loss: 7968.7627 - mae: 7968.7627\n",
            "Epoch 8/200\n",
            "34/34 [==============================] - 0s 3ms/step - loss: 7469.2290 - mae: 7469.2290\n",
            "Epoch 9/200\n",
            "34/34 [==============================] - 0s 3ms/step - loss: 7402.1748 - mae: 7402.1748\n",
            "Epoch 10/200\n",
            "34/34 [==============================] - 0s 3ms/step - loss: 7383.0947 - mae: 7383.0947\n",
            "Epoch 11/200\n",
            "34/34 [==============================] - 0s 2ms/step - loss: 7364.7368 - mae: 7364.7368\n",
            "Epoch 12/200\n",
            "34/34 [==============================] - 0s 3ms/step - loss: 7343.1597 - mae: 7343.1597\n",
            "Epoch 13/200\n",
            "34/34 [==============================] - 0s 3ms/step - loss: 7323.2905 - mae: 7323.2905\n",
            "Epoch 14/200\n",
            "34/34 [==============================] - 0s 3ms/step - loss: 7301.3208 - mae: 7301.3208\n",
            "Epoch 15/200\n",
            "34/34 [==============================] - 0s 3ms/step - loss: 7282.9961 - mae: 7282.9961\n",
            "Epoch 16/200\n",
            "34/34 [==============================] - 0s 2ms/step - loss: 7261.1646 - mae: 7261.1646\n",
            "Epoch 17/200\n",
            "34/34 [==============================] - 0s 2ms/step - loss: 7240.1074 - mae: 7240.1074\n",
            "Epoch 18/200\n",
            "34/34 [==============================] - 0s 3ms/step - loss: 7217.2681 - mae: 7217.2681\n",
            "Epoch 19/200\n",
            "34/34 [==============================] - 0s 3ms/step - loss: 7194.8760 - mae: 7194.8760\n",
            "Epoch 20/200\n",
            "34/34 [==============================] - 0s 2ms/step - loss: 7171.1934 - mae: 7171.1934\n",
            "Epoch 21/200\n",
            "34/34 [==============================] - 0s 3ms/step - loss: 7152.4175 - mae: 7152.4175\n",
            "Epoch 22/200\n",
            "34/34 [==============================] - 0s 3ms/step - loss: 7123.9341 - mae: 7123.9341\n",
            "Epoch 23/200\n",
            "34/34 [==============================] - 0s 2ms/step - loss: 7098.9536 - mae: 7098.9536\n",
            "Epoch 24/200\n",
            "34/34 [==============================] - 0s 2ms/step - loss: 7073.3032 - mae: 7073.3032\n",
            "Epoch 25/200\n",
            "34/34 [==============================] - 0s 2ms/step - loss: 7054.0957 - mae: 7054.0957\n",
            "Epoch 26/200\n",
            "34/34 [==============================] - 0s 2ms/step - loss: 7022.5884 - mae: 7022.5884\n",
            "Epoch 27/200\n",
            "34/34 [==============================] - 0s 2ms/step - loss: 6994.1250 - mae: 6994.1250\n",
            "Epoch 28/200\n",
            "34/34 [==============================] - 0s 2ms/step - loss: 6965.5127 - mae: 6965.5127\n",
            "Epoch 29/200\n",
            "34/34 [==============================] - 0s 2ms/step - loss: 6937.1909 - mae: 6937.1909\n",
            "Epoch 30/200\n",
            "34/34 [==============================] - 0s 2ms/step - loss: 6910.0474 - mae: 6910.0474\n",
            "Epoch 31/200\n",
            "34/34 [==============================] - 0s 2ms/step - loss: 6878.9019 - mae: 6878.9019\n",
            "Epoch 32/200\n",
            "34/34 [==============================] - 0s 2ms/step - loss: 6850.0894 - mae: 6850.0894\n",
            "Epoch 33/200\n",
            "34/34 [==============================] - 0s 2ms/step - loss: 6818.5317 - mae: 6818.5317\n",
            "Epoch 34/200\n",
            "34/34 [==============================] - 0s 2ms/step - loss: 6787.3887 - mae: 6787.3887\n",
            "Epoch 35/200\n",
            "34/34 [==============================] - 0s 3ms/step - loss: 6752.4395 - mae: 6752.4395\n",
            "Epoch 36/200\n",
            "34/34 [==============================] - 0s 2ms/step - loss: 6718.8687 - mae: 6718.8687\n",
            "Epoch 37/200\n",
            "34/34 [==============================] - 0s 2ms/step - loss: 6682.6172 - mae: 6682.6172\n",
            "Epoch 38/200\n",
            "34/34 [==============================] - 0s 2ms/step - loss: 6653.7017 - mae: 6653.7017\n",
            "Epoch 39/200\n",
            "34/34 [==============================] - 0s 2ms/step - loss: 6616.2534 - mae: 6616.2534\n",
            "Epoch 40/200\n",
            "34/34 [==============================] - 0s 2ms/step - loss: 6584.3188 - mae: 6584.3188\n",
            "Epoch 41/200\n",
            "34/34 [==============================] - 0s 2ms/step - loss: 6557.7261 - mae: 6557.7261\n",
            "Epoch 42/200\n",
            "34/34 [==============================] - 0s 2ms/step - loss: 6535.2930 - mae: 6535.2930\n",
            "Epoch 43/200\n",
            "34/34 [==============================] - 0s 3ms/step - loss: 6511.4678 - mae: 6511.4678\n",
            "Epoch 44/200\n",
            "34/34 [==============================] - 0s 2ms/step - loss: 6491.1616 - mae: 6491.1616\n",
            "Epoch 45/200\n",
            "34/34 [==============================] - 0s 2ms/step - loss: 6483.5137 - mae: 6483.5137\n",
            "Epoch 46/200\n",
            "34/34 [==============================] - 0s 2ms/step - loss: 6465.5190 - mae: 6465.5190\n",
            "Epoch 47/200\n",
            "34/34 [==============================] - 0s 2ms/step - loss: 6450.0894 - mae: 6450.0894\n",
            "Epoch 48/200\n",
            "34/34 [==============================] - 0s 2ms/step - loss: 6436.8101 - mae: 6436.8101\n",
            "Epoch 49/200\n",
            "34/34 [==============================] - 0s 2ms/step - loss: 6424.7568 - mae: 6424.7568\n",
            "Epoch 50/200\n",
            "34/34 [==============================] - 0s 2ms/step - loss: 6410.9736 - mae: 6410.9736\n",
            "Epoch 51/200\n",
            "34/34 [==============================] - 0s 2ms/step - loss: 6398.1177 - mae: 6398.1177\n",
            "Epoch 52/200\n",
            "34/34 [==============================] - 0s 2ms/step - loss: 6386.4443 - mae: 6386.4443\n",
            "Epoch 53/200\n",
            "34/34 [==============================] - 0s 2ms/step - loss: 6372.0923 - mae: 6372.0923\n",
            "Epoch 54/200\n",
            "34/34 [==============================] - 0s 2ms/step - loss: 6358.3374 - mae: 6358.3374\n",
            "Epoch 55/200\n",
            "34/34 [==============================] - 0s 2ms/step - loss: 6345.7227 - mae: 6345.7227\n",
            "Epoch 56/200\n",
            "34/34 [==============================] - 0s 2ms/step - loss: 6331.6396 - mae: 6331.6396\n",
            "Epoch 57/200\n",
            "34/34 [==============================] - 0s 2ms/step - loss: 6319.0859 - mae: 6319.0859\n",
            "Epoch 58/200\n",
            "34/34 [==============================] - 0s 2ms/step - loss: 6305.2324 - mae: 6305.2324\n",
            "Epoch 59/200\n",
            "34/34 [==============================] - 0s 2ms/step - loss: 6291.0156 - mae: 6291.0156\n",
            "Epoch 60/200\n",
            "34/34 [==============================] - 0s 3ms/step - loss: 6280.1406 - mae: 6280.1406\n",
            "Epoch 61/200\n",
            "34/34 [==============================] - 0s 2ms/step - loss: 6260.9019 - mae: 6260.9019\n",
            "Epoch 62/200\n",
            "34/34 [==============================] - 0s 3ms/step - loss: 6248.0391 - mae: 6248.0391\n",
            "Epoch 63/200\n",
            "34/34 [==============================] - 0s 3ms/step - loss: 6230.4009 - mae: 6230.4009\n",
            "Epoch 64/200\n",
            "34/34 [==============================] - 0s 2ms/step - loss: 6213.7124 - mae: 6213.7124\n",
            "Epoch 65/200\n",
            "34/34 [==============================] - 0s 3ms/step - loss: 6196.8511 - mae: 6196.8511\n",
            "Epoch 66/200\n",
            "34/34 [==============================] - 0s 3ms/step - loss: 6179.7939 - mae: 6179.7939\n",
            "Epoch 67/200\n",
            "34/34 [==============================] - 0s 2ms/step - loss: 6167.5518 - mae: 6167.5518\n",
            "Epoch 68/200\n",
            "34/34 [==============================] - 0s 3ms/step - loss: 6144.9834 - mae: 6144.9834\n",
            "Epoch 69/200\n",
            "34/34 [==============================] - 0s 3ms/step - loss: 6129.1748 - mae: 6129.1748\n",
            "Epoch 70/200\n",
            "34/34 [==============================] - 0s 3ms/step - loss: 6109.1494 - mae: 6109.1494\n",
            "Epoch 71/200\n",
            "34/34 [==============================] - 0s 3ms/step - loss: 6089.6987 - mae: 6089.6987\n",
            "Epoch 72/200\n",
            "34/34 [==============================] - 0s 2ms/step - loss: 6071.4014 - mae: 6071.4014\n",
            "Epoch 73/200\n",
            "34/34 [==============================] - 0s 2ms/step - loss: 6056.7837 - mae: 6056.7837\n",
            "Epoch 74/200\n",
            "34/34 [==============================] - 0s 2ms/step - loss: 6029.3037 - mae: 6029.3037\n",
            "Epoch 75/200\n",
            "34/34 [==============================] - 0s 2ms/step - loss: 6008.6313 - mae: 6008.6313\n",
            "Epoch 76/200\n",
            "34/34 [==============================] - 0s 3ms/step - loss: 5993.2891 - mae: 5993.2891\n",
            "Epoch 77/200\n",
            "34/34 [==============================] - 0s 2ms/step - loss: 5962.6782 - mae: 5962.6782\n",
            "Epoch 78/200\n",
            "34/34 [==============================] - 0s 2ms/step - loss: 5939.6470 - mae: 5939.6470\n",
            "Epoch 79/200\n",
            "34/34 [==============================] - 0s 2ms/step - loss: 5915.7847 - mae: 5915.7847\n",
            "Epoch 80/200\n",
            "34/34 [==============================] - 0s 3ms/step - loss: 5888.7827 - mae: 5888.7827\n",
            "Epoch 81/200\n",
            "34/34 [==============================] - 0s 2ms/step - loss: 5863.7168 - mae: 5863.7168\n",
            "Epoch 82/200\n",
            "34/34 [==============================] - 0s 2ms/step - loss: 5835.5708 - mae: 5835.5708\n",
            "Epoch 83/200\n",
            "34/34 [==============================] - 0s 2ms/step - loss: 5808.3374 - mae: 5808.3374\n",
            "Epoch 84/200\n",
            "34/34 [==============================] - 0s 2ms/step - loss: 5775.3926 - mae: 5775.3926\n",
            "Epoch 85/200\n",
            "34/34 [==============================] - 0s 2ms/step - loss: 5748.4849 - mae: 5748.4849\n",
            "Epoch 86/200\n",
            "34/34 [==============================] - 0s 2ms/step - loss: 5715.5288 - mae: 5715.5288\n",
            "Epoch 87/200\n",
            "34/34 [==============================] - 0s 2ms/step - loss: 5679.8091 - mae: 5679.8091\n",
            "Epoch 88/200\n",
            "34/34 [==============================] - 0s 2ms/step - loss: 5645.8623 - mae: 5645.8623\n",
            "Epoch 89/200\n",
            "34/34 [==============================] - 0s 3ms/step - loss: 5607.6543 - mae: 5607.6543\n",
            "Epoch 90/200\n",
            "34/34 [==============================] - 0s 3ms/step - loss: 5567.3623 - mae: 5567.3623\n",
            "Epoch 91/200\n",
            "34/34 [==============================] - 0s 3ms/step - loss: 5532.6616 - mae: 5532.6616\n",
            "Epoch 92/200\n",
            "34/34 [==============================] - 0s 2ms/step - loss: 5484.1836 - mae: 5484.1836\n",
            "Epoch 93/200\n",
            "34/34 [==============================] - 0s 2ms/step - loss: 5443.5034 - mae: 5443.5034\n",
            "Epoch 94/200\n",
            "34/34 [==============================] - 0s 2ms/step - loss: 5398.3252 - mae: 5398.3252\n",
            "Epoch 95/200\n",
            "34/34 [==============================] - 0s 2ms/step - loss: 5346.7144 - mae: 5346.7144\n",
            "Epoch 96/200\n",
            "34/34 [==============================] - 0s 2ms/step - loss: 5304.2109 - mae: 5304.2109\n",
            "Epoch 97/200\n",
            "34/34 [==============================] - 0s 2ms/step - loss: 5251.0151 - mae: 5251.0151\n",
            "Epoch 98/200\n",
            "34/34 [==============================] - 0s 2ms/step - loss: 5189.5317 - mae: 5189.5317\n",
            "Epoch 99/200\n",
            "34/34 [==============================] - 0s 2ms/step - loss: 5132.4673 - mae: 5132.4673\n",
            "Epoch 100/200\n",
            "34/34 [==============================] - 0s 2ms/step - loss: 5078.5601 - mae: 5078.5601\n",
            "Epoch 101/200\n",
            "34/34 [==============================] - 0s 2ms/step - loss: 5009.7773 - mae: 5009.7773\n",
            "Epoch 102/200\n",
            "34/34 [==============================] - 0s 3ms/step - loss: 4940.0757 - mae: 4940.0757\n",
            "Epoch 103/200\n",
            "34/34 [==============================] - 0s 3ms/step - loss: 4873.0151 - mae: 4873.0151\n",
            "Epoch 104/200\n",
            "34/34 [==============================] - 0s 2ms/step - loss: 4797.0679 - mae: 4797.0679\n",
            "Epoch 105/200\n",
            "34/34 [==============================] - 0s 2ms/step - loss: 4713.6870 - mae: 4713.6870\n",
            "Epoch 106/200\n",
            "34/34 [==============================] - 0s 2ms/step - loss: 4632.6348 - mae: 4632.6348\n",
            "Epoch 107/200\n",
            "34/34 [==============================] - 0s 2ms/step - loss: 4548.7935 - mae: 4548.7935\n",
            "Epoch 108/200\n",
            "34/34 [==============================] - 0s 2ms/step - loss: 4458.1768 - mae: 4458.1768\n",
            "Epoch 109/200\n",
            "34/34 [==============================] - 0s 2ms/step - loss: 4374.9580 - mae: 4374.9580\n",
            "Epoch 110/200\n",
            "34/34 [==============================] - 0s 2ms/step - loss: 4292.1260 - mae: 4292.1260\n",
            "Epoch 111/200\n",
            "34/34 [==============================] - 0s 2ms/step - loss: 4207.3345 - mae: 4207.3345\n",
            "Epoch 112/200\n",
            "34/34 [==============================] - 0s 2ms/step - loss: 4136.6758 - mae: 4136.6758\n",
            "Epoch 113/200\n",
            "34/34 [==============================] - 0s 2ms/step - loss: 4062.5088 - mae: 4062.5088\n",
            "Epoch 114/200\n",
            "34/34 [==============================] - 0s 2ms/step - loss: 4006.1453 - mae: 4006.1453\n",
            "Epoch 115/200\n",
            "34/34 [==============================] - 0s 3ms/step - loss: 3954.2537 - mae: 3954.2537\n",
            "Epoch 116/200\n",
            "34/34 [==============================] - 0s 3ms/step - loss: 3929.5449 - mae: 3929.5449\n",
            "Epoch 117/200\n",
            "34/34 [==============================] - 0s 2ms/step - loss: 3909.9973 - mae: 3909.9973\n",
            "Epoch 118/200\n",
            "34/34 [==============================] - 0s 2ms/step - loss: 3878.5400 - mae: 3878.5400\n",
            "Epoch 119/200\n",
            "34/34 [==============================] - 0s 4ms/step - loss: 3856.5728 - mae: 3856.5728\n",
            "Epoch 120/200\n",
            "34/34 [==============================] - 0s 3ms/step - loss: 3839.9180 - mae: 3839.9180\n",
            "Epoch 121/200\n",
            "34/34 [==============================] - 0s 3ms/step - loss: 3834.0137 - mae: 3834.0137\n",
            "Epoch 122/200\n",
            "34/34 [==============================] - 0s 3ms/step - loss: 3825.3918 - mae: 3825.3918\n",
            "Epoch 123/200\n",
            "34/34 [==============================] - 0s 3ms/step - loss: 3820.5786 - mae: 3820.5786\n",
            "Epoch 124/200\n",
            "34/34 [==============================] - 0s 3ms/step - loss: 3810.4539 - mae: 3810.4539\n",
            "Epoch 125/200\n",
            "34/34 [==============================] - 0s 4ms/step - loss: 3799.3167 - mae: 3799.3167\n",
            "Epoch 126/200\n",
            "34/34 [==============================] - 0s 4ms/step - loss: 3812.1736 - mae: 3812.1736\n",
            "Epoch 127/200\n",
            "34/34 [==============================] - 0s 4ms/step - loss: 3801.4792 - mae: 3801.4792\n",
            "Epoch 128/200\n",
            "34/34 [==============================] - 0s 4ms/step - loss: 3794.8845 - mae: 3794.8845\n",
            "Epoch 129/200\n",
            "34/34 [==============================] - 0s 4ms/step - loss: 3799.5229 - mae: 3799.5229\n",
            "Epoch 130/200\n",
            "34/34 [==============================] - 0s 4ms/step - loss: 3787.8169 - mae: 3787.8169\n",
            "Epoch 131/200\n",
            "34/34 [==============================] - 0s 4ms/step - loss: 3783.6426 - mae: 3783.6426\n",
            "Epoch 132/200\n",
            "34/34 [==============================] - 0s 4ms/step - loss: 3777.6052 - mae: 3777.6052\n",
            "Epoch 133/200\n",
            "34/34 [==============================] - 0s 3ms/step - loss: 3773.0327 - mae: 3773.0327\n",
            "Epoch 134/200\n",
            "34/34 [==============================] - 0s 4ms/step - loss: 3773.4453 - mae: 3773.4453\n",
            "Epoch 135/200\n",
            "34/34 [==============================] - 0s 4ms/step - loss: 3769.4072 - mae: 3769.4072\n",
            "Epoch 136/200\n",
            "34/34 [==============================] - 0s 4ms/step - loss: 3768.2031 - mae: 3768.2031\n",
            "Epoch 137/200\n",
            "34/34 [==============================] - 0s 4ms/step - loss: 3776.6106 - mae: 3776.6106\n",
            "Epoch 138/200\n",
            "34/34 [==============================] - 0s 3ms/step - loss: 3786.2988 - mae: 3786.2988\n",
            "Epoch 139/200\n",
            "34/34 [==============================] - 0s 3ms/step - loss: 3763.4792 - mae: 3763.4792\n",
            "Epoch 140/200\n",
            "34/34 [==============================] - 0s 4ms/step - loss: 3764.6687 - mae: 3764.6687\n",
            "Epoch 141/200\n",
            "34/34 [==============================] - 0s 3ms/step - loss: 3766.0964 - mae: 3766.0964\n",
            "Epoch 142/200\n",
            "34/34 [==============================] - 0s 4ms/step - loss: 3765.8157 - mae: 3765.8157\n",
            "Epoch 143/200\n",
            "34/34 [==============================] - 0s 3ms/step - loss: 3756.1851 - mae: 3756.1851\n",
            "Epoch 144/200\n",
            "34/34 [==============================] - 0s 3ms/step - loss: 3752.5222 - mae: 3752.5222\n",
            "Epoch 145/200\n",
            "34/34 [==============================] - 0s 3ms/step - loss: 3753.1987 - mae: 3753.1987\n",
            "Epoch 146/200\n",
            "34/34 [==============================] - 0s 3ms/step - loss: 3756.8035 - mae: 3756.8035\n",
            "Epoch 147/200\n",
            "34/34 [==============================] - 0s 3ms/step - loss: 3753.7932 - mae: 3753.7932\n",
            "Epoch 148/200\n",
            "34/34 [==============================] - 0s 3ms/step - loss: 3758.7983 - mae: 3758.7983\n",
            "Epoch 149/200\n",
            "34/34 [==============================] - 0s 4ms/step - loss: 3745.4297 - mae: 3745.4297\n",
            "Epoch 150/200\n",
            "34/34 [==============================] - 0s 4ms/step - loss: 3740.1223 - mae: 3740.1223\n",
            "Epoch 151/200\n",
            "34/34 [==============================] - 0s 4ms/step - loss: 3742.8323 - mae: 3742.8323\n",
            "Epoch 152/200\n",
            "34/34 [==============================] - 0s 3ms/step - loss: 3744.8225 - mae: 3744.8225\n",
            "Epoch 153/200\n",
            "34/34 [==============================] - 0s 4ms/step - loss: 3745.3506 - mae: 3745.3506\n",
            "Epoch 154/200\n",
            "34/34 [==============================] - 0s 3ms/step - loss: 3739.1672 - mae: 3739.1672\n",
            "Epoch 155/200\n",
            "34/34 [==============================] - 0s 3ms/step - loss: 3741.0039 - mae: 3741.0039\n",
            "Epoch 156/200\n",
            "34/34 [==============================] - 0s 3ms/step - loss: 3736.7979 - mae: 3736.7979\n",
            "Epoch 157/200\n",
            "34/34 [==============================] - 0s 4ms/step - loss: 3734.5876 - mae: 3734.5876\n",
            "Epoch 158/200\n",
            "34/34 [==============================] - 0s 4ms/step - loss: 3730.8503 - mae: 3730.8503\n",
            "Epoch 159/200\n",
            "34/34 [==============================] - 0s 4ms/step - loss: 3729.4634 - mae: 3729.4634\n",
            "Epoch 160/200\n",
            "34/34 [==============================] - 0s 4ms/step - loss: 3735.2898 - mae: 3735.2898\n",
            "Epoch 161/200\n",
            "34/34 [==============================] - 0s 2ms/step - loss: 3730.0503 - mae: 3730.0503\n",
            "Epoch 162/200\n",
            "34/34 [==============================] - 0s 2ms/step - loss: 3725.1477 - mae: 3725.1477\n",
            "Epoch 163/200\n",
            "34/34 [==============================] - 0s 2ms/step - loss: 3723.9260 - mae: 3723.9260\n",
            "Epoch 164/200\n",
            "34/34 [==============================] - 0s 2ms/step - loss: 3728.5203 - mae: 3728.5203\n",
            "Epoch 165/200\n",
            "34/34 [==============================] - 0s 2ms/step - loss: 3717.6870 - mae: 3717.6870\n",
            "Epoch 166/200\n",
            "34/34 [==============================] - 0s 2ms/step - loss: 3722.6003 - mae: 3722.6003\n",
            "Epoch 167/200\n",
            "34/34 [==============================] - 0s 2ms/step - loss: 3723.4944 - mae: 3723.4944\n",
            "Epoch 168/200\n",
            "34/34 [==============================] - 0s 3ms/step - loss: 3717.2649 - mae: 3717.2649\n",
            "Epoch 169/200\n",
            "34/34 [==============================] - 0s 2ms/step - loss: 3715.5554 - mae: 3715.5554\n",
            "Epoch 170/200\n",
            "34/34 [==============================] - 0s 2ms/step - loss: 3709.6440 - mae: 3709.6440\n",
            "Epoch 171/200\n",
            "34/34 [==============================] - 0s 2ms/step - loss: 3709.6885 - mae: 3709.6885\n",
            "Epoch 172/200\n",
            "34/34 [==============================] - 0s 2ms/step - loss: 3711.0061 - mae: 3711.0061\n",
            "Epoch 173/200\n",
            "34/34 [==============================] - 0s 2ms/step - loss: 3707.2100 - mae: 3707.2100\n",
            "Epoch 174/200\n",
            "34/34 [==============================] - 0s 2ms/step - loss: 3710.9919 - mae: 3710.9919\n",
            "Epoch 175/200\n",
            "34/34 [==============================] - 0s 2ms/step - loss: 3712.2297 - mae: 3712.2297\n",
            "Epoch 176/200\n",
            "34/34 [==============================] - 0s 3ms/step - loss: 3708.2092 - mae: 3708.2092\n",
            "Epoch 177/200\n",
            "34/34 [==============================] - 0s 3ms/step - loss: 3700.7173 - mae: 3700.7173\n",
            "Epoch 178/200\n",
            "34/34 [==============================] - 0s 2ms/step - loss: 3697.5232 - mae: 3697.5232\n",
            "Epoch 179/200\n",
            "34/34 [==============================] - 0s 3ms/step - loss: 3706.9421 - mae: 3706.9421\n",
            "Epoch 180/200\n",
            "34/34 [==============================] - 0s 2ms/step - loss: 3711.5742 - mae: 3711.5742\n",
            "Epoch 181/200\n",
            "34/34 [==============================] - 0s 2ms/step - loss: 3697.5095 - mae: 3697.5095\n",
            "Epoch 182/200\n",
            "34/34 [==============================] - 0s 2ms/step - loss: 3695.8083 - mae: 3695.8083\n",
            "Epoch 183/200\n",
            "34/34 [==============================] - 0s 2ms/step - loss: 3693.4412 - mae: 3693.4412\n",
            "Epoch 184/200\n",
            "34/34 [==============================] - 0s 2ms/step - loss: 3698.6248 - mae: 3698.6248\n",
            "Epoch 185/200\n",
            "34/34 [==============================] - 0s 2ms/step - loss: 3694.3396 - mae: 3694.3396\n",
            "Epoch 186/200\n",
            "34/34 [==============================] - 0s 2ms/step - loss: 3696.7297 - mae: 3696.7297\n",
            "Epoch 187/200\n",
            "34/34 [==============================] - 0s 2ms/step - loss: 3689.4106 - mae: 3689.4106\n",
            "Epoch 188/200\n",
            "34/34 [==============================] - 0s 2ms/step - loss: 3695.2498 - mae: 3695.2498\n",
            "Epoch 189/200\n",
            "34/34 [==============================] - 0s 2ms/step - loss: 3685.9292 - mae: 3685.9292\n",
            "Epoch 190/200\n",
            "34/34 [==============================] - 0s 3ms/step - loss: 3682.6277 - mae: 3682.6277\n",
            "Epoch 191/200\n",
            "34/34 [==============================] - 0s 3ms/step - loss: 3698.1743 - mae: 3698.1743\n",
            "Epoch 192/200\n",
            "34/34 [==============================] - 0s 2ms/step - loss: 3683.9951 - mae: 3683.9951\n",
            "Epoch 193/200\n",
            "34/34 [==============================] - 0s 2ms/step - loss: 3675.9517 - mae: 3675.9517\n",
            "Epoch 194/200\n",
            "34/34 [==============================] - 0s 3ms/step - loss: 3677.7493 - mae: 3677.7493\n",
            "Epoch 195/200\n",
            "34/34 [==============================] - 0s 3ms/step - loss: 3674.3391 - mae: 3674.3391\n",
            "Epoch 196/200\n",
            "34/34 [==============================] - 0s 2ms/step - loss: 3682.8545 - mae: 3682.8545\n",
            "Epoch 197/200\n",
            "34/34 [==============================] - 0s 3ms/step - loss: 3667.8464 - mae: 3667.8464\n",
            "Epoch 198/200\n",
            "34/34 [==============================] - 0s 2ms/step - loss: 3674.7986 - mae: 3674.7986\n",
            "Epoch 199/200\n",
            "34/34 [==============================] - 0s 2ms/step - loss: 3681.9321 - mae: 3681.9321\n",
            "Epoch 200/200\n",
            "34/34 [==============================] - 0s 3ms/step - loss: 3668.2363 - mae: 3668.2363\n"
          ]
        }
      ],
      "source": [
        "# Set random seed\n",
        "tf.random.set_seed(42)\n",
        "\n",
        "# 1. Create the model same as above\n",
        "insurance_model_3 = tf.keras.Sequential([\n",
        "    tf.keras.layers.Dense(100),\n",
        "    tf.keras.layers.Dense(10),\n",
        "    tf.keras.layers.Dense(1)\n",
        "])\n",
        "\n",
        "# 2. Compile the model\n",
        "insurance_model_3.compile(loss=tf.keras.losses.mae,\n",
        "                          optimizer=tf.keras.optimizers.Adam(),\n",
        "                          metrics=['mae'])\n",
        "\n",
        "# 3. Fit the model\n",
        "history = insurance_model_3.fit(X_train, y_train, epochs=200)"
      ]
    },
    {
      "cell_type": "code",
      "execution_count": null,
      "metadata": {
        "id": "Nfm5jKZEXpHl",
        "colab": {
          "base_uri": "https://localhost:8080/"
        },
        "outputId": "7a1e2257-60b5-4e76-ed50-88ecbebc36fc"
      },
      "outputs": [
        {
          "output_type": "stream",
          "name": "stdout",
          "text": [
            "9/9 [==============================] - 0s 3ms/step - loss: 3491.8518 - mae: 3491.8518\n"
          ]
        },
        {
          "output_type": "execute_result",
          "data": {
            "text/plain": [
              "[3491.851806640625, 3491.851806640625]"
            ]
          },
          "metadata": {},
          "execution_count": 80
        }
      ],
      "source": [
        "# Evaluate our third model\n",
        "insurance_model_3.evaluate(X_test, y_test)"
      ]
    },
    {
      "cell_type": "code",
      "execution_count": null,
      "metadata": {
        "id": "m7W0TtDfXz9K",
        "colab": {
          "base_uri": "https://localhost:8080/"
        },
        "outputId": "2195ece9-1b80-4867-96b3-88724d98c688"
      },
      "outputs": [
        {
          "output_type": "stream",
          "name": "stdout",
          "text": [
            "9/9 [==============================] - 0s 2ms/step - loss: 8793.3311 - mae: 8793.3311\n"
          ]
        },
        {
          "output_type": "execute_result",
          "data": {
            "text/plain": [
              "[8793.3310546875, 8793.3310546875]"
            ]
          },
          "metadata": {},
          "execution_count": 81
        }
      ],
      "source": [
        "insurance_model.evaluate(X_test, y_test)"
      ]
    },
    {
      "cell_type": "code",
      "execution_count": null,
      "metadata": {
        "id": "a7t_7IukX7cR",
        "colab": {
          "base_uri": "https://localhost:8080/",
          "height": 467
        },
        "outputId": "fe0354c7-694c-4cf7-8cdb-3655bd329a95"
      },
      "outputs": [
        {
          "output_type": "execute_result",
          "data": {
            "text/plain": [
              "Text(0.5, 0, 'epochs')"
            ]
          },
          "metadata": {},
          "execution_count": 82
        },
        {
          "output_type": "display_data",
          "data": {
            "text/plain": [
              "<Figure size 640x480 with 1 Axes>"
            ],
            "image/png": "[encoded data removed]"
          },
          "metadata": {}
        }
      ],
      "source": [
        "# Plot history (also known as a loss curve or training curve)\n",
        "pd.DataFrame(history.history).plot()\n",
        "plt.ylabel('loss')\n",
        "plt.xlabel('epochs')"
      ]
    },
    {
      "cell_type": "markdown",
      "metadata": {
        "id": "LGnGNxwYYwwf"
      },
      "source": [
        "**Question** How long should you train for?\n",
        "\n",
        "It depends on the problems you are working on. However, many people have asked this question before... so TensorFlow has a solution. It's called the EarlyStopping Callback, which is TensorFlow component you can add to your model to stop training once its stops improving certain metrics."
      ]
    },
    {
      "cell_type": "markdown",
      "metadata": {
        "id": "Wl3BLxptZyPs"
      },
      "source": [
        "## Preprocessing data (normalization and standardization)\n",
        "\n",
        "In terms of scaling values, neural networks tend to prefer normalization.\n",
        "\n",
        "If you are not sure what to use, you can try to use both and see which performs better."
      ]
    },
    {
      "cell_type": "code",
      "execution_count": null,
      "metadata": {
        "id": "FnS23oqDaftX",
        "colab": {
          "base_uri": "https://localhost:8080/",
          "height": 424
        },
        "outputId": "bdf82e16-79d8-410f-a7a7-7172b47b8f90"
      },
      "outputs": [
        {
          "output_type": "execute_result",
          "data": {
            "text/plain": [
              "      age     sex     bmi  children smoker     region      charges\n",
              "0      19  female  27.900         0    yes  southwest  16884.92400\n",
              "1      18    male  33.770         1     no  southeast   1725.55230\n",
              "2      28    male  33.000         3     no  southeast   4449.46200\n",
              "3      33    male  22.705         0     no  northwest  21984.47061\n",
              "4      32    male  28.880         0     no  northwest   3866.85520\n",
              "...   ...     ...     ...       ...    ...        ...          ...\n",
              "1333   50    male  30.970         3     no  northwest  10600.54830\n",
              "1334   18  female  31.920         0     no  northeast   2205.98080\n",
              "1335   18  female  36.850         0     no  southeast   1629.83350\n",
              "1336   21  female  25.800         0     no  southwest   2007.94500\n",
              "1337   61  female  29.070         0    yes  northwest  29141.36030\n",
              "\n",
              "[1338 rows x 7 columns]"
            ],
            "text/html": [
              "\n",
              "  <div id=\"df-820ecbe4-728c-42dd-81a9-e6a7c420e08a\" class=\"colab-df-container\">\n",
              "    <div>\n",
              "<style scoped>\n",
              "    .dataframe tbody tr th:only-of-type {\n",
              "        vertical-align: middle;\n",
              "    }\n",
              "\n",
              "    .dataframe tbody tr th {\n",
              "        vertical-align: top;\n",
              "    }\n",
              "\n",
              "    .dataframe thead th {\n",
              "        text-align: right;\n",
              "    }\n",
              "</style>\n",
              "<table border=\"1\" class=\"dataframe\">\n",
              "  <thead>\n",
              "    <tr style=\"text-align: right;\">\n",
              "      <th></th>\n",
              "      <th>age</th>\n",
              "      <th>sex</th>\n",
              "      <th>bmi</th>\n",
              "      <th>children</th>\n",
              "      <th>smoker</th>\n",
              "      <th>region</th>\n",
              "      <th>charges</th>\n",
              "    </tr>\n",
              "  </thead>\n",
              "  <tbody>\n",
              "    <tr>\n",
              "      <th>0</th>\n",
              "      <td>19</td>\n",
              "      <td>female</td>\n",
              "      <td>27.900</td>\n",
              "      <td>0</td>\n",
              "      <td>yes</td>\n",
              "      <td>southwest</td>\n",
              "      <td>16884.92400</td>\n",
              "    </tr>\n",
              "    <tr>\n",
              "      <th>1</th>\n",
              "      <td>18</td>\n",
              "      <td>male</td>\n",
              "      <td>33.770</td>\n",
              "      <td>1</td>\n",
              "      <td>no</td>\n",
              "      <td>southeast</td>\n",
              "      <td>1725.55230</td>\n",
              "    </tr>\n",
              "    <tr>\n",
              "      <th>2</th>\n",
              "      <td>28</td>\n",
              "      <td>male</td>\n",
              "      <td>33.000</td>\n",
              "      <td>3</td>\n",
              "      <td>no</td>\n",
              "      <td>southeast</td>\n",
              "      <td>4449.46200</td>\n",
              "    </tr>\n",
              "    <tr>\n",
              "      <th>3</th>\n",
              "      <td>33</td>\n",
              "      <td>male</td>\n",
              "      <td>22.705</td>\n",
              "      <td>0</td>\n",
              "      <td>no</td>\n",
              "      <td>northwest</td>\n",
              "      <td>21984.47061</td>\n",
              "    </tr>\n",
              "    <tr>\n",
              "      <th>4</th>\n",
              "      <td>32</td>\n",
              "      <td>male</td>\n",
              "      <td>28.880</td>\n",
              "      <td>0</td>\n",
              "      <td>no</td>\n",
              "      <td>northwest</td>\n",
              "      <td>3866.85520</td>\n",
              "    </tr>\n",
              "    <tr>\n",
              "      <th>...</th>\n",
              "      <td>...</td>\n",
              "      <td>...</td>\n",
              "      <td>...</td>\n",
              "      <td>...</td>\n",
              "      <td>...</td>\n",
              "      <td>...</td>\n",
              "      <td>...</td>\n",
              "    </tr>\n",
              "    <tr>\n",
              "      <th>1333</th>\n",
              "      <td>50</td>\n",
              "      <td>male</td>\n",
              "      <td>30.970</td>\n",
              "      <td>3</td>\n",
              "      <td>no</td>\n",
              "      <td>northwest</td>\n",
              "      <td>10600.54830</td>\n",
              "    </tr>\n",
              "    <tr>\n",
              "      <th>1334</th>\n",
              "      <td>18</td>\n",
              "      <td>female</td>\n",
              "      <td>31.920</td>\n",
              "      <td>0</td>\n",
              "      <td>no</td>\n",
              "      <td>northeast</td>\n",
              "      <td>2205.98080</td>\n",
              "    </tr>\n",
              "    <tr>\n",
              "      <th>1335</th>\n",
              "      <td>18</td>\n",
              "      <td>female</td>\n",
              "      <td>36.850</td>\n",
              "      <td>0</td>\n",
              "      <td>no</td>\n",
              "      <td>southeast</td>\n",
              "      <td>1629.83350</td>\n",
              "    </tr>\n",
              "    <tr>\n",
              "      <th>1336</th>\n",
              "      <td>21</td>\n",
              "      <td>female</td>\n",
              "      <td>25.800</td>\n",
              "      <td>0</td>\n",
              "      <td>no</td>\n",
              "      <td>southwest</td>\n",
              "      <td>2007.94500</td>\n",
              "    </tr>\n",
              "    <tr>\n",
              "      <th>1337</th>\n",
              "      <td>61</td>\n",
              "      <td>female</td>\n",
              "      <td>29.070</td>\n",
              "      <td>0</td>\n",
              "      <td>yes</td>\n",
              "      <td>northwest</td>\n",
              "      <td>29141.36030</td>\n",
              "    </tr>\n",
              "  </tbody>\n",
              "</table>\n",
              "<p>1338 rows × 7 columns</p>\n",
              "</div>\n",
              "    <div class=\"colab-df-buttons\">\n",
              "\n",
              "  <div class=\"colab-df-container\">\n",
              "    <button class=\"colab-df-convert\" onclick=\"convertToInteractive('df-820ecbe4-728c-42dd-81a9-e6a7c420e08a')\"\n",
              "            title=\"Convert this dataframe to an interactive table.\"\n",
              "            style=\"display:none;\">\n",
              "\n",
              "  <svg xmlns=\"http://www.w3.org/2000/svg\" height=\"24px\" viewBox=\"0 -960 960 960\">\n",
              "    <path d=\"M120-120v-720h720v720H120Zm60-500h600v-160H180v160Zm220 220h160v-160H400v160Zm0 220h160v-160H400v160ZM180-400h160v-160H180v160Zm440 0h160v-160H620v160ZM180-180h160v-160H180v160Zm440 0h160v-160H620v160Z\"/>\n",
              "  </svg>\n",
              "    </button>\n",
              "\n",
              "  <style>\n",
              "    .colab-df-container {\n",
              "      display:flex;\n",
              "      gap: 12px;\n",
              "    }\n",
              "\n",
              "    .colab-df-convert {\n",
              "      background-color: #E8F0FE;\n",
              "      border: none;\n",
              "      border-radius: 50%;\n",
              "      cursor: pointer;\n",
              "      display: none;\n",
              "      fill: #1967D2;\n",
              "      height: 32px;\n",
              "      padding: 0 0 0 0;\n",
              "      width: 32px;\n",
              "    }\n",
              "\n",
              "    .colab-df-convert:hover {\n",
              "      background-color: #E2EBFA;\n",
              "      box-shadow: 0px 1px 2px rgba(60, 64, 67, 0.3), 0px 1px 3px 1px rgba(60, 64, 67, 0.15);\n",
              "      fill: #174EA6;\n",
              "    }\n",
              "\n",
              "    .colab-df-buttons div {\n",
              "      margin-bottom: 4px;\n",
              "    }\n",
              "\n",
              "    [theme=dark] .colab-df-convert {\n",
              "      background-color: #3B4455;\n",
              "      fill: #D2E3FC;\n",
              "    }\n",
              "\n",
              "    [theme=dark] .colab-df-convert:hover {\n",
              "      background-color: #434B5C;\n",
              "      box-shadow: 0px 1px 3px 1px rgba(0, 0, 0, 0.15);\n",
              "      filter: drop-shadow(0px 1px 2px rgba(0, 0, 0, 0.3));\n",
              "      fill: #FFFFFF;\n",
              "    }\n",
              "  </style>\n",
              "\n",
              "    <script>\n",
              "      const buttonEl =\n",
              "        document.querySelector('#df-820ecbe4-728c-42dd-81a9-e6a7c420e08a button.colab-df-convert');\n",
              "      buttonEl.style.display =\n",
              "        google.colab.kernel.accessAllowed ? 'block' : 'none';\n",
              "\n",
              "      async function convertToInteractive(key) {\n",
              "        const element = document.querySelector('#df-820ecbe4-728c-42dd-81a9-e6a7c420e08a');\n",
              "        const dataTable =\n",
              "          await google.colab.kernel.invokeFunction('convertToInteractive',\n",
              "                                                    [key], {});\n",
              "        if (!dataTable) return;\n",
              "\n",
              "        const docLinkHtml = 'Like what you see? Visit the ' +\n",
              "          '<a target=\"_blank\" href=https://colab.research.google.com/notebooks/data_table.ipynb>data table notebook</a>'\n",
              "          + ' to learn more about interactive tables.';\n",
              "        element.innerHTML = '';\n",
              "        dataTable['output_type'] = 'display_data';\n",
              "        await google.colab.output.renderOutput(dataTable, element);\n",
              "        const docLink = document.createElement('div');\n",
              "        docLink.innerHTML = docLinkHtml;\n",
              "        element.appendChild(docLink);\n",
              "      }\n",
              "    </script>\n",
              "  </div>\n",
              "\n",
              "\n",
              "<div id=\"df-604a8296-5fa3-4a6f-a85c-84fc156f990e\">\n",
              "  <button class=\"colab-df-quickchart\" onclick=\"quickchart('df-604a8296-5fa3-4a6f-a85c-84fc156f990e')\"\n",
              "            title=\"Suggest charts.\"\n",
              "            style=\"display:none;\">\n",
              "\n",
              "<svg xmlns=\"http://www.w3.org/2000/svg\" height=\"24px\"viewBox=\"0 0 24 24\"\n",
              "     width=\"24px\">\n",
              "    <g>\n",
              "        <path d=\"M19 3H5c-1.1 0-2 .9-2 2v14c0 1.1.9 2 2 2h14c1.1 0 2-.9 2-2V5c0-1.1-.9-2-2-2zM9 17H7v-7h2v7zm4 0h-2V7h2v10zm4 0h-2v-4h2v4z\"/>\n",
              "    </g>\n",
              "</svg>\n",
              "  </button>\n",
              "\n",
              "<style>\n",
              "  .colab-df-quickchart {\n",
              "      --bg-color: #E8F0FE;\n",
              "      --fill-color: #1967D2;\n",
              "      --hover-bg-color: #E2EBFA;\n",
              "      --hover-fill-color: #174EA6;\n",
              "      --disabled-fill-color: #AAA;\n",
              "      --disabled-bg-color: #DDD;\n",
              "  }\n",
              "\n",
              "  [theme=dark] .colab-df-quickchart {\n",
              "      --bg-color: #3B4455;\n",
              "      --fill-color: #D2E3FC;\n",
              "      --hover-bg-color: #434B5C;\n",
              "      --hover-fill-color: #FFFFFF;\n",
              "      --disabled-bg-color: #3B4455;\n",
              "      --disabled-fill-color: #666;\n",
              "  }\n",
              "\n",
              "  .colab-df-quickchart {\n",
              "    background-color: var(--bg-color);\n",
              "    border: none;\n",
              "    border-radius: 50%;\n",
              "    cursor: pointer;\n",
              "    display: none;\n",
              "    fill: var(--fill-color);\n",
              "    height: 32px;\n",
              "    padding: 0;\n",
              "    width: 32px;\n",
              "  }\n",
              "\n",
              "  .colab-df-quickchart:hover {\n",
              "    background-color: var(--hover-bg-color);\n",
              "    box-shadow: 0 1px 2px rgba(60, 64, 67, 0.3), 0 1px 3px 1px rgba(60, 64, 67, 0.15);\n",
              "    fill: var(--button-hover-fill-color);\n",
              "  }\n",
              "\n",
              "  .colab-df-quickchart-complete:disabled,\n",
              "  .colab-df-quickchart-complete:disabled:hover {\n",
              "    background-color: var(--disabled-bg-color);\n",
              "    fill: var(--disabled-fill-color);\n",
              "    box-shadow: none;\n",
              "  }\n",
              "\n",
              "  .colab-df-spinner {\n",
              "    border: 2px solid var(--fill-color);\n",
              "    border-color: transparent;\n",
              "    border-bottom-color: var(--fill-color);\n",
              "    animation:\n",
              "      spin 1s steps(1) infinite;\n",
              "  }\n",
              "\n",
              "  @keyframes spin {\n",
              "    0% {\n",
              "      border-color: transparent;\n",
              "      border-bottom-color: var(--fill-color);\n",
              "      border-left-color: var(--fill-color);\n",
              "    }\n",
              "    20% {\n",
              "      border-color: transparent;\n",
              "      border-left-color: var(--fill-color);\n",
              "      border-top-color: var(--fill-color);\n",
              "    }\n",
              "    30% {\n",
              "      border-color: transparent;\n",
              "      border-left-color: var(--fill-color);\n",
              "      border-top-color: var(--fill-color);\n",
              "      border-right-color: var(--fill-color);\n",
              "    }\n",
              "    40% {\n",
              "      border-color: transparent;\n",
              "      border-right-color: var(--fill-color);\n",
              "      border-top-color: var(--fill-color);\n",
              "    }\n",
              "    60% {\n",
              "      border-color: transparent;\n",
              "      border-right-color: var(--fill-color);\n",
              "    }\n",
              "    80% {\n",
              "      border-color: transparent;\n",
              "      border-right-color: var(--fill-color);\n",
              "      border-bottom-color: var(--fill-color);\n",
              "    }\n",
              "    90% {\n",
              "      border-color: transparent;\n",
              "      border-bottom-color: var(--fill-color);\n",
              "    }\n",
              "  }\n",
              "</style>\n",
              "\n",
              "  <script>\n",
              "    async function quickchart(key) {\n",
              "      const quickchartButtonEl =\n",
              "        document.querySelector('#' + key + ' button');\n",
              "      quickchartButtonEl.disabled = true;  // To prevent multiple clicks.\n",
              "      quickchartButtonEl.classList.add('colab-df-spinner');\n",
              "      try {\n",
              "        const charts = await google.colab.kernel.invokeFunction(\n",
              "            'suggestCharts', [key], {});\n",
              "      } catch (error) {\n",
              "        console.error('Error during call to suggestCharts:', error);\n",
              "      }\n",
              "      quickchartButtonEl.classList.remove('colab-df-spinner');\n",
              "      quickchartButtonEl.classList.add('colab-df-quickchart-complete');\n",
              "    }\n",
              "    (() => {\n",
              "      let quickchartButtonEl =\n",
              "        document.querySelector('#df-604a8296-5fa3-4a6f-a85c-84fc156f990e button');\n",
              "      quickchartButtonEl.style.display =\n",
              "        google.colab.kernel.accessAllowed ? 'block' : 'none';\n",
              "    })();\n",
              "  </script>\n",
              "</div>\n",
              "    </div>\n",
              "  </div>\n"
            ]
          },
          "metadata": {},
          "execution_count": 83
        }
      ],
      "source": [
        "import pandas as pd\n",
        "import matplotlib.pyplot as plt\n",
        "import tensorflow as tf\n",
        "\n",
        "# read in the insurance dataframe\n",
        "insurance = pd.read_csv('https://raw.githubusercontent.com/stedy/Machine-Learning-with-R-datasets/master/insurance.csv')\n",
        "insurance"
      ]
    },
    {
      "cell_type": "code",
      "execution_count": null,
      "metadata": {
        "id": "-81zhDGFW2bX",
        "colab": {
          "base_uri": "https://localhost:8080/",
          "height": 424
        },
        "outputId": "da2a2cb7-0811-4e56-aa73-94d8074ce77e"
      },
      "outputs": [
        {
          "output_type": "execute_result",
          "data": {
            "text/plain": [
              "      age     bmi  children  sex_female  sex_male  smoker_no  smoker_yes  \\\n",
              "560    46  19.950         2           1         0          1           0   \n",
              "1285   47  24.320         0           1         0          1           0   \n",
              "1142   52  24.860         0           1         0          1           0   \n",
              "969    39  34.320         5           1         0          1           0   \n",
              "486    54  21.470         3           1         0          1           0   \n",
              "...   ...     ...       ...         ...       ...        ...         ...   \n",
              "1095   18  31.350         4           1         0          1           0   \n",
              "1130   39  23.870         5           1         0          1           0   \n",
              "1294   58  25.175         0           0         1          1           0   \n",
              "860    37  47.600         2           1         0          0           1   \n",
              "1126   55  29.900         0           0         1          1           0   \n",
              "\n",
              "      region_northeast  region_northwest  region_southeast  region_southwest  \n",
              "560                  0                 1                 0                 0  \n",
              "1285                 1                 0                 0                 0  \n",
              "1142                 0                 0                 1                 0  \n",
              "969                  0                 0                 1                 0  \n",
              "486                  0                 1                 0                 0  \n",
              "...                ...               ...               ...               ...  \n",
              "1095                 1                 0                 0                 0  \n",
              "1130                 0                 0                 1                 0  \n",
              "1294                 1                 0                 0                 0  \n",
              "860                  0                 0                 0                 1  \n",
              "1126                 0                 0                 0                 1  \n",
              "\n",
              "[1070 rows x 11 columns]"
            ],
            "text/html": [
              "\n",
              "  <div id=\"df-6f8fef6c-f0a9-49e6-b48b-a247c053c7e9\" class=\"colab-df-container\">\n",
              "    <div>\n",
              "<style scoped>\n",
              "    .dataframe tbody tr th:only-of-type {\n",
              "        vertical-align: middle;\n",
              "    }\n",
              "\n",
              "    .dataframe tbody tr th {\n",
              "        vertical-align: top;\n",
              "    }\n",
              "\n",
              "    .dataframe thead th {\n",
              "        text-align: right;\n",
              "    }\n",
              "</style>\n",
              "<table border=\"1\" class=\"dataframe\">\n",
              "  <thead>\n",
              "    <tr style=\"text-align: right;\">\n",
              "      <th></th>\n",
              "      <th>age</th>\n",
              "      <th>bmi</th>\n",
              "      <th>children</th>\n",
              "      <th>sex_female</th>\n",
              "      <th>sex_male</th>\n",
              "      <th>smoker_no</th>\n",
              "      <th>smoker_yes</th>\n",
              "      <th>region_northeast</th>\n",
              "      <th>region_northwest</th>\n",
              "      <th>region_southeast</th>\n",
              "      <th>region_southwest</th>\n",
              "    </tr>\n",
              "  </thead>\n",
              "  <tbody>\n",
              "    <tr>\n",
              "      <th>560</th>\n",
              "      <td>46</td>\n",
              "      <td>19.950</td>\n",
              "      <td>2</td>\n",
              "      <td>1</td>\n",
              "      <td>0</td>\n",
              "      <td>1</td>\n",
              "      <td>0</td>\n",
              "      <td>0</td>\n",
              "      <td>1</td>\n",
              "      <td>0</td>\n",
              "      <td>0</td>\n",
              "    </tr>\n",
              "    <tr>\n",
              "      <th>1285</th>\n",
              "      <td>47</td>\n",
              "      <td>24.320</td>\n",
              "      <td>0</td>\n",
              "      <td>1</td>\n",
              "      <td>0</td>\n",
              "      <td>1</td>\n",
              "      <td>0</td>\n",
              "      <td>1</td>\n",
              "      <td>0</td>\n",
              "      <td>0</td>\n",
              "      <td>0</td>\n",
              "    </tr>\n",
              "    <tr>\n",
              "      <th>1142</th>\n",
              "      <td>52</td>\n",
              "      <td>24.860</td>\n",
              "      <td>0</td>\n",
              "      <td>1</td>\n",
              "      <td>0</td>\n",
              "      <td>1</td>\n",
              "      <td>0</td>\n",
              "      <td>0</td>\n",
              "      <td>0</td>\n",
              "      <td>1</td>\n",
              "      <td>0</td>\n",
              "    </tr>\n",
              "    <tr>\n",
              "      <th>969</th>\n",
              "      <td>39</td>\n",
              "      <td>34.320</td>\n",
              "      <td>5</td>\n",
              "      <td>1</td>\n",
              "      <td>0</td>\n",
              "      <td>1</td>\n",
              "      <td>0</td>\n",
              "      <td>0</td>\n",
              "      <td>0</td>\n",
              "      <td>1</td>\n",
              "      <td>0</td>\n",
              "    </tr>\n",
              "    <tr>\n",
              "      <th>486</th>\n",
              "      <td>54</td>\n",
              "      <td>21.470</td>\n",
              "      <td>3</td>\n",
              "      <td>1</td>\n",
              "      <td>0</td>\n",
              "      <td>1</td>\n",
              "      <td>0</td>\n",
              "      <td>0</td>\n",
              "      <td>1</td>\n",
              "      <td>0</td>\n",
              "      <td>0</td>\n",
              "    </tr>\n",
              "    <tr>\n",
              "      <th>...</th>\n",
              "      <td>...</td>\n",
              "      <td>...</td>\n",
              "      <td>...</td>\n",
              "      <td>...</td>\n",
              "      <td>...</td>\n",
              "      <td>...</td>\n",
              "      <td>...</td>\n",
              "      <td>...</td>\n",
              "      <td>...</td>\n",
              "      <td>...</td>\n",
              "      <td>...</td>\n",
              "    </tr>\n",
              "    <tr>\n",
              "      <th>1095</th>\n",
              "      <td>18</td>\n",
              "      <td>31.350</td>\n",
              "      <td>4</td>\n",
              "      <td>1</td>\n",
              "      <td>0</td>\n",
              "      <td>1</td>\n",
              "      <td>0</td>\n",
              "      <td>1</td>\n",
              "      <td>0</td>\n",
              "      <td>0</td>\n",
              "      <td>0</td>\n",
              "    </tr>\n",
              "    <tr>\n",
              "      <th>1130</th>\n",
              "      <td>39</td>\n",
              "      <td>23.870</td>\n",
              "      <td>5</td>\n",
              "      <td>1</td>\n",
              "      <td>0</td>\n",
              "      <td>1</td>\n",
              "      <td>0</td>\n",
              "      <td>0</td>\n",
              "      <td>0</td>\n",
              "      <td>1</td>\n",
              "      <td>0</td>\n",
              "    </tr>\n",
              "    <tr>\n",
              "      <th>1294</th>\n",
              "      <td>58</td>\n",
              "      <td>25.175</td>\n",
              "      <td>0</td>\n",
              "      <td>0</td>\n",
              "      <td>1</td>\n",
              "      <td>1</td>\n",
              "      <td>0</td>\n",
              "      <td>1</td>\n",
              "      <td>0</td>\n",
              "      <td>0</td>\n",
              "      <td>0</td>\n",
              "    </tr>\n",
              "    <tr>\n",
              "      <th>860</th>\n",
              "      <td>37</td>\n",
              "      <td>47.600</td>\n",
              "      <td>2</td>\n",
              "      <td>1</td>\n",
              "      <td>0</td>\n",
              "      <td>0</td>\n",
              "      <td>1</td>\n",
              "      <td>0</td>\n",
              "      <td>0</td>\n",
              "      <td>0</td>\n",
              "      <td>1</td>\n",
              "    </tr>\n",
              "    <tr>\n",
              "      <th>1126</th>\n",
              "      <td>55</td>\n",
              "      <td>29.900</td>\n",
              "      <td>0</td>\n",
              "      <td>0</td>\n",
              "      <td>1</td>\n",
              "      <td>1</td>\n",
              "      <td>0</td>\n",
              "      <td>0</td>\n",
              "      <td>0</td>\n",
              "      <td>0</td>\n",
              "      <td>1</td>\n",
              "    </tr>\n",
              "  </tbody>\n",
              "</table>\n",
              "<p>1070 rows × 11 columns</p>\n",
              "</div>\n",
              "    <div class=\"colab-df-buttons\">\n",
              "\n",
              "  <div class=\"colab-df-container\">\n",
              "    <button class=\"colab-df-convert\" onclick=\"convertToInteractive('df-6f8fef6c-f0a9-49e6-b48b-a247c053c7e9')\"\n",
              "            title=\"Convert this dataframe to an interactive table.\"\n",
              "            style=\"display:none;\">\n",
              "\n",
              "  <svg xmlns=\"http://www.w3.org/2000/svg\" height=\"24px\" viewBox=\"0 -960 960 960\">\n",
              "    <path d=\"M120-120v-720h720v720H120Zm60-500h600v-160H180v160Zm220 220h160v-160H400v160Zm0 220h160v-160H400v160ZM180-400h160v-160H180v160Zm440 0h160v-160H620v160ZM180-180h160v-160H180v160Zm440 0h160v-160H620v160Z\"/>\n",
              "  </svg>\n",
              "    </button>\n",
              "\n",
              "  <style>\n",
              "    .colab-df-container {\n",
              "      display:flex;\n",
              "      gap: 12px;\n",
              "    }\n",
              "\n",
              "    .colab-df-convert {\n",
              "      background-color: #E8F0FE;\n",
              "      border: none;\n",
              "      border-radius: 50%;\n",
              "      cursor: pointer;\n",
              "      display: none;\n",
              "      fill: #1967D2;\n",
              "      height: 32px;\n",
              "      padding: 0 0 0 0;\n",
              "      width: 32px;\n",
              "    }\n",
              "\n",
              "    .colab-df-convert:hover {\n",
              "      background-color: #E2EBFA;\n",
              "      box-shadow: 0px 1px 2px rgba(60, 64, 67, 0.3), 0px 1px 3px 1px rgba(60, 64, 67, 0.15);\n",
              "      fill: #174EA6;\n",
              "    }\n",
              "\n",
              "    .colab-df-buttons div {\n",
              "      margin-bottom: 4px;\n",
              "    }\n",
              "\n",
              "    [theme=dark] .colab-df-convert {\n",
              "      background-color: #3B4455;\n",
              "      fill: #D2E3FC;\n",
              "    }\n",
              "\n",
              "    [theme=dark] .colab-df-convert:hover {\n",
              "      background-color: #434B5C;\n",
              "      box-shadow: 0px 1px 3px 1px rgba(0, 0, 0, 0.15);\n",
              "      filter: drop-shadow(0px 1px 2px rgba(0, 0, 0, 0.3));\n",
              "      fill: #FFFFFF;\n",
              "    }\n",
              "  </style>\n",
              "\n",
              "    <script>\n",
              "      const buttonEl =\n",
              "        document.querySelector('#df-6f8fef6c-f0a9-49e6-b48b-a247c053c7e9 button.colab-df-convert');\n",
              "      buttonEl.style.display =\n",
              "        google.colab.kernel.accessAllowed ? 'block' : 'none';\n",
              "\n",
              "      async function convertToInteractive(key) {\n",
              "        const element = document.querySelector('#df-6f8fef6c-f0a9-49e6-b48b-a247c053c7e9');\n",
              "        const dataTable =\n",
              "          await google.colab.kernel.invokeFunction('convertToInteractive',\n",
              "                                                    [key], {});\n",
              "        if (!dataTable) return;\n",
              "\n",
              "        const docLinkHtml = 'Like what you see? Visit the ' +\n",
              "          '<a target=\"_blank\" href=https://colab.research.google.com/notebooks/data_table.ipynb>data table notebook</a>'\n",
              "          + ' to learn more about interactive tables.';\n",
              "        element.innerHTML = '';\n",
              "        dataTable['output_type'] = 'display_data';\n",
              "        await google.colab.output.renderOutput(dataTable, element);\n",
              "        const docLink = document.createElement('div');\n",
              "        docLink.innerHTML = docLinkHtml;\n",
              "        element.appendChild(docLink);\n",
              "      }\n",
              "    </script>\n",
              "  </div>\n",
              "\n",
              "\n",
              "<div id=\"df-cae4751d-77cf-45d2-aec7-1357947d7448\">\n",
              "  <button class=\"colab-df-quickchart\" onclick=\"quickchart('df-cae4751d-77cf-45d2-aec7-1357947d7448')\"\n",
              "            title=\"Suggest charts.\"\n",
              "            style=\"display:none;\">\n",
              "\n",
              "<svg xmlns=\"http://www.w3.org/2000/svg\" height=\"24px\"viewBox=\"0 0 24 24\"\n",
              "     width=\"24px\">\n",
              "    <g>\n",
              "        <path d=\"M19 3H5c-1.1 0-2 .9-2 2v14c0 1.1.9 2 2 2h14c1.1 0 2-.9 2-2V5c0-1.1-.9-2-2-2zM9 17H7v-7h2v7zm4 0h-2V7h2v10zm4 0h-2v-4h2v4z\"/>\n",
              "    </g>\n",
              "</svg>\n",
              "  </button>\n",
              "\n",
              "<style>\n",
              "  .colab-df-quickchart {\n",
              "      --bg-color: #E8F0FE;\n",
              "      --fill-color: #1967D2;\n",
              "      --hover-bg-color: #E2EBFA;\n",
              "      --hover-fill-color: #174EA6;\n",
              "      --disabled-fill-color: #AAA;\n",
              "      --disabled-bg-color: #DDD;\n",
              "  }\n",
              "\n",
              "  [theme=dark] .colab-df-quickchart {\n",
              "      --bg-color: #3B4455;\n",
              "      --fill-color: #D2E3FC;\n",
              "      --hover-bg-color: #434B5C;\n",
              "      --hover-fill-color: #FFFFFF;\n",
              "      --disabled-bg-color: #3B4455;\n",
              "      --disabled-fill-color: #666;\n",
              "  }\n",
              "\n",
              "  .colab-df-quickchart {\n",
              "    background-color: var(--bg-color);\n",
              "    border: none;\n",
              "    border-radius: 50%;\n",
              "    cursor: pointer;\n",
              "    display: none;\n",
              "    fill: var(--fill-color);\n",
              "    height: 32px;\n",
              "    padding: 0;\n",
              "    width: 32px;\n",
              "  }\n",
              "\n",
              "  .colab-df-quickchart:hover {\n",
              "    background-color: var(--hover-bg-color);\n",
              "    box-shadow: 0 1px 2px rgba(60, 64, 67, 0.3), 0 1px 3px 1px rgba(60, 64, 67, 0.15);\n",
              "    fill: var(--button-hover-fill-color);\n",
              "  }\n",
              "\n",
              "  .colab-df-quickchart-complete:disabled,\n",
              "  .colab-df-quickchart-complete:disabled:hover {\n",
              "    background-color: var(--disabled-bg-color);\n",
              "    fill: var(--disabled-fill-color);\n",
              "    box-shadow: none;\n",
              "  }\n",
              "\n",
              "  .colab-df-spinner {\n",
              "    border: 2px solid var(--fill-color);\n",
              "    border-color: transparent;\n",
              "    border-bottom-color: var(--fill-color);\n",
              "    animation:\n",
              "      spin 1s steps(1) infinite;\n",
              "  }\n",
              "\n",
              "  @keyframes spin {\n",
              "    0% {\n",
              "      border-color: transparent;\n",
              "      border-bottom-color: var(--fill-color);\n",
              "      border-left-color: var(--fill-color);\n",
              "    }\n",
              "    20% {\n",
              "      border-color: transparent;\n",
              "      border-left-color: var(--fill-color);\n",
              "      border-top-color: var(--fill-color);\n",
              "    }\n",
              "    30% {\n",
              "      border-color: transparent;\n",
              "      border-left-color: var(--fill-color);\n",
              "      border-top-color: var(--fill-color);\n",
              "      border-right-color: var(--fill-color);\n",
              "    }\n",
              "    40% {\n",
              "      border-color: transparent;\n",
              "      border-right-color: var(--fill-color);\n",
              "      border-top-color: var(--fill-color);\n",
              "    }\n",
              "    60% {\n",
              "      border-color: transparent;\n",
              "      border-right-color: var(--fill-color);\n",
              "    }\n",
              "    80% {\n",
              "      border-color: transparent;\n",
              "      border-right-color: var(--fill-color);\n",
              "      border-bottom-color: var(--fill-color);\n",
              "    }\n",
              "    90% {\n",
              "      border-color: transparent;\n",
              "      border-bottom-color: var(--fill-color);\n",
              "    }\n",
              "  }\n",
              "</style>\n",
              "\n",
              "  <script>\n",
              "    async function quickchart(key) {\n",
              "      const quickchartButtonEl =\n",
              "        document.querySelector('#' + key + ' button');\n",
              "      quickchartButtonEl.disabled = true;  // To prevent multiple clicks.\n",
              "      quickchartButtonEl.classList.add('colab-df-spinner');\n",
              "      try {\n",
              "        const charts = await google.colab.kernel.invokeFunction(\n",
              "            'suggestCharts', [key], {});\n",
              "      } catch (error) {\n",
              "        console.error('Error during call to suggestCharts:', error);\n",
              "      }\n",
              "      quickchartButtonEl.classList.remove('colab-df-spinner');\n",
              "      quickchartButtonEl.classList.add('colab-df-quickchart-complete');\n",
              "    }\n",
              "    (() => {\n",
              "      let quickchartButtonEl =\n",
              "        document.querySelector('#df-cae4751d-77cf-45d2-aec7-1357947d7448 button');\n",
              "      quickchartButtonEl.style.display =\n",
              "        google.colab.kernel.accessAllowed ? 'block' : 'none';\n",
              "    })();\n",
              "  </script>\n",
              "</div>\n",
              "    </div>\n",
              "  </div>\n"
            ]
          },
          "metadata": {},
          "execution_count": 84
        }
      ],
      "source": [
        "X_train"
      ]
    },
    {
      "cell_type": "code",
      "execution_count": null,
      "metadata": {
        "id": "cXwBSH7eXEuL",
        "colab": {
          "base_uri": "https://localhost:8080/",
          "height": 448
        },
        "outputId": "2131b7fd-7fe9-4df3-c741-1128f7db4001"
      },
      "outputs": [
        {
          "output_type": "execute_result",
          "data": {
            "text/plain": [
              "<Axes: ylabel='Frequency'>"
            ]
          },
          "metadata": {},
          "execution_count": 85
        },
        {
          "output_type": "display_data",
          "data": {
            "text/plain": [
              "<Figure size 640x480 with 1 Axes>"
            ],
            "image/png": "[encoded data removed]"
          },
          "metadata": {}
        }
      ],
      "source": [
        "X['age'].plot(kind='hist')"
      ]
    },
    {
      "cell_type": "code",
      "execution_count": null,
      "metadata": {
        "id": "nAWZc1WpXOSv",
        "colab": {
          "base_uri": "https://localhost:8080/",
          "height": 448
        },
        "outputId": "2a37bbfb-585c-4866-8fde-792618e859c7"
      },
      "outputs": [
        {
          "output_type": "execute_result",
          "data": {
            "text/plain": [
              "<Axes: ylabel='Frequency'>"
            ]
          },
          "metadata": {},
          "execution_count": 86
        },
        {
          "output_type": "display_data",
          "data": {
            "text/plain": [
              "<Figure size 640x480 with 1 Axes>"
            ],
            "image/png": "[encoded data removed]"
          },
          "metadata": {}
        }
      ],
      "source": [
        "X['bmi'].plot(kind='hist')"
      ]
    },
    {
      "cell_type": "code",
      "execution_count": null,
      "metadata": {
        "id": "FBliGmgsXTlL",
        "colab": {
          "base_uri": "https://localhost:8080/"
        },
        "outputId": "29958dda-0d26-4833-9d87-ba5812be4e01"
      },
      "outputs": [
        {
          "output_type": "execute_result",
          "data": {
            "text/plain": [
              "0    574\n",
              "1    324\n",
              "2    240\n",
              "3    157\n",
              "4     25\n",
              "5     18\n",
              "Name: children, dtype: int64"
            ]
          },
          "metadata": {},
          "execution_count": 87
        }
      ],
      "source": [
        "X['children'].value_counts()"
      ]
    },
    {
      "cell_type": "markdown",
      "metadata": {
        "id": "OCw2zOSmYtqf"
      },
      "source": [
        "###To prepare our data, we can borrow a few classes from Scikit-Learn."
      ]
    },
    {
      "cell_type": "code",
      "execution_count": null,
      "metadata": {
        "id": "J-MFYYFCZ5Wr"
      },
      "outputs": [],
      "source": [
        "from sklearn.compose import make_column_transformer\n",
        "from sklearn.preprocessing import MinMaxScaler, OneHotEncoder\n",
        "from sklearn.model_selection import train_test_split\n",
        "\n",
        "# Create a column transformer\n",
        "ct = make_column_transformer(\n",
        "    (MinMaxScaler(), ['age', 'bmi', 'children']), # Turn all values in these columns between 0 to 1\n",
        "    (OneHotEncoder(handle_unknown='ignore'), ['sex', 'smoker', 'region'])\n",
        "    )\n",
        "\n",
        "# Create X and y\n",
        "X = insurance.drop('charges', axis=1)\n",
        "y = insurance['charges']\n",
        "\n",
        "# Build our train and test sets\n",
        "X_train, X_test, y_train, y_test = train_test_split(X, y, test_size = 0.2, random_state = 42)\n",
        "\n",
        "# Fit the column transformer to our training data\n",
        "ct.fit(X_train)\n",
        "\n",
        "# Transform training and test data with normalization (MinMaxScaler) and OneHotEncoder\n",
        "X_train_normal = ct.transform(X_train)\n",
        "X_test_normal = ct.transform(X_test)"
      ]
    },
    {
      "cell_type": "code",
      "execution_count": null,
      "metadata": {
        "id": "7NtfSs8HeorH",
        "colab": {
          "base_uri": "https://localhost:8080/"
        },
        "outputId": "aa49cbe4-3f7f-4a3f-c8c1-13fdfb581ffc"
      },
      "outputs": [
        {
          "output_type": "execute_result",
          "data": {
            "text/plain": [
              "age                19\n",
              "sex            female\n",
              "bmi              27.9\n",
              "children            0\n",
              "smoker            yes\n",
              "region      southwest\n",
              "Name: 0, dtype: object"
            ]
          },
          "metadata": {},
          "execution_count": 89
        }
      ],
      "source": [
        "# What does our data look like now\n",
        "X_train.loc[0]"
      ]
    },
    {
      "cell_type": "code",
      "execution_count": null,
      "metadata": {
        "id": "-F5oSDsoexRd",
        "colab": {
          "base_uri": "https://localhost:8080/"
        },
        "outputId": "bca74dad-4777-45d4-d434-ac9912a98943"
      },
      "outputs": [
        {
          "output_type": "execute_result",
          "data": {
            "text/plain": [
              "array([0.60869565, 0.10734463, 0.4       , 1.        , 0.        ,\n",
              "       1.        , 0.        , 0.        , 1.        , 0.        ,\n",
              "       0.        ])"
            ]
          },
          "metadata": {},
          "execution_count": 90
        }
      ],
      "source": [
        "X_train_normal[0]"
      ]
    },
    {
      "cell_type": "code",
      "execution_count": null,
      "metadata": {
        "id": "2Rf6eiEBfJ6w",
        "colab": {
          "base_uri": "https://localhost:8080/"
        },
        "outputId": "c493a17b-2ff6-430c-ee60-1dbabde60c9e"
      },
      "outputs": [
        {
          "output_type": "execute_result",
          "data": {
            "text/plain": [
              "((1070, 6), (1070, 11))"
            ]
          },
          "metadata": {},
          "execution_count": 91
        }
      ],
      "source": [
        "X_train.shape, X_train_normal.shape"
      ]
    },
    {
      "cell_type": "markdown",
      "metadata": {
        "id": "z4NLqKu6fSn0"
      },
      "source": [
        "### Data has been normalized and one hot encoded"
      ]
    },
    {
      "cell_type": "code",
      "execution_count": null,
      "metadata": {
        "id": "28D8fPF7facD",
        "colab": {
          "base_uri": "https://localhost:8080/"
        },
        "outputId": "d9d342a0-7086-4151-fded-37b125e94736"
      },
      "outputs": [
        {
          "output_type": "stream",
          "name": "stdout",
          "text": [
            "Epoch 1/100\n",
            "34/34 [==============================] - 2s 4ms/step - loss: 13342.9551 - mae: 13342.9551\n",
            "Epoch 2/100\n",
            "34/34 [==============================] - 0s 3ms/step - loss: 13325.9346 - mae: 13325.9346\n",
            "Epoch 3/100\n",
            "34/34 [==============================] - 0s 5ms/step - loss: 13269.8428 - mae: 13269.8428\n",
            "Epoch 4/100\n",
            "34/34 [==============================] - 0s 4ms/step - loss: 13135.4092 - mae: 13135.4092\n",
            "Epoch 5/100\n",
            "34/34 [==============================] - 0s 4ms/step - loss: 12879.5088 - mae: 12879.5088\n",
            "Epoch 6/100\n",
            "34/34 [==============================] - 0s 4ms/step - loss: 12458.6104 - mae: 12458.6104\n",
            "Epoch 7/100\n",
            "34/34 [==============================] - 0s 6ms/step - loss: 11839.1816 - mae: 11839.1816\n",
            "Epoch 8/100\n",
            "34/34 [==============================] - 0s 6ms/step - loss: 11056.5469 - mae: 11056.5469\n",
            "Epoch 9/100\n",
            "34/34 [==============================] - 0s 5ms/step - loss: 10238.2598 - mae: 10238.2598\n",
            "Epoch 10/100\n",
            "34/34 [==============================] - 0s 4ms/step - loss: 9446.0635 - mae: 9446.0635\n",
            "Epoch 11/100\n",
            "34/34 [==============================] - 0s 5ms/step - loss: 8801.6416 - mae: 8801.6416\n",
            "Epoch 12/100\n",
            "34/34 [==============================] - 0s 4ms/step - loss: 8343.4297 - mae: 8343.4297\n",
            "Epoch 13/100\n",
            "34/34 [==============================] - 0s 4ms/step - loss: 8067.4834 - mae: 8067.4834\n",
            "Epoch 14/100\n",
            "34/34 [==============================] - 0s 5ms/step - loss: 7915.8169 - mae: 7915.8169\n",
            "Epoch 15/100\n",
            "34/34 [==============================] - 0s 5ms/step - loss: 7823.9121 - mae: 7823.9121\n",
            "Epoch 16/100\n",
            "34/34 [==============================] - 0s 7ms/step - loss: 7748.6816 - mae: 7748.6816\n",
            "Epoch 17/100\n",
            "34/34 [==============================] - 0s 6ms/step - loss: 7679.2549 - mae: 7679.2549\n",
            "Epoch 18/100\n",
            "34/34 [==============================] - 0s 6ms/step - loss: 7611.4106 - mae: 7611.4106\n",
            "Epoch 19/100\n",
            "34/34 [==============================] - 0s 4ms/step - loss: 7542.4912 - mae: 7542.4912\n",
            "Epoch 20/100\n",
            "34/34 [==============================] - 0s 5ms/step - loss: 7471.5894 - mae: 7471.5894\n",
            "Epoch 21/100\n",
            "34/34 [==============================] - 0s 5ms/step - loss: 7401.6714 - mae: 7401.6714\n",
            "Epoch 22/100\n",
            "34/34 [==============================] - 0s 4ms/step - loss: 7325.0815 - mae: 7325.0815\n",
            "Epoch 23/100\n",
            "34/34 [==============================] - 0s 6ms/step - loss: 7247.0283 - mae: 7247.0283\n",
            "Epoch 24/100\n",
            "34/34 [==============================] - 0s 6ms/step - loss: 7166.2275 - mae: 7166.2275\n",
            "Epoch 25/100\n",
            "34/34 [==============================] - 0s 6ms/step - loss: 7090.2769 - mae: 7090.2769\n",
            "Epoch 26/100\n",
            "34/34 [==============================] - 0s 7ms/step - loss: 6988.8706 - mae: 6988.8706\n",
            "Epoch 27/100\n",
            "34/34 [==============================] - 0s 5ms/step - loss: 6895.6348 - mae: 6895.6348\n",
            "Epoch 28/100\n",
            "34/34 [==============================] - 0s 4ms/step - loss: 6794.9814 - mae: 6794.9814\n",
            "Epoch 29/100\n",
            "34/34 [==============================] - 0s 3ms/step - loss: 6687.7568 - mae: 6687.7568\n",
            "Epoch 30/100\n",
            "34/34 [==============================] - 0s 6ms/step - loss: 6572.6001 - mae: 6572.6001\n",
            "Epoch 31/100\n",
            "34/34 [==============================] - 0s 4ms/step - loss: 6449.6309 - mae: 6449.6309\n",
            "Epoch 32/100\n",
            "34/34 [==============================] - 0s 6ms/step - loss: 6318.2729 - mae: 6318.2729\n",
            "Epoch 33/100\n",
            "34/34 [==============================] - 0s 4ms/step - loss: 6178.2632 - mae: 6178.2632\n",
            "Epoch 34/100\n",
            "34/34 [==============================] - 0s 4ms/step - loss: 6022.6733 - mae: 6022.6733\n",
            "Epoch 35/100\n",
            "34/34 [==============================] - 0s 5ms/step - loss: 5858.0391 - mae: 5858.0391\n",
            "Epoch 36/100\n",
            "34/34 [==============================] - 0s 2ms/step - loss: 5680.8315 - mae: 5680.8315\n",
            "Epoch 37/100\n",
            "34/34 [==============================] - 0s 2ms/step - loss: 5496.4287 - mae: 5496.4287\n",
            "Epoch 38/100\n",
            "34/34 [==============================] - 0s 2ms/step - loss: 5305.6455 - mae: 5305.6455\n",
            "Epoch 39/100\n",
            "34/34 [==============================] - 0s 3ms/step - loss: 5104.5195 - mae: 5104.5195\n",
            "Epoch 40/100\n",
            "34/34 [==============================] - 0s 2ms/step - loss: 4894.4009 - mae: 4894.4009\n",
            "Epoch 41/100\n",
            "34/34 [==============================] - 0s 2ms/step - loss: 4688.2070 - mae: 4688.2070\n",
            "Epoch 42/100\n",
            "34/34 [==============================] - 0s 3ms/step - loss: 4495.3867 - mae: 4495.3867\n",
            "Epoch 43/100\n",
            "34/34 [==============================] - 0s 3ms/step - loss: 4314.3750 - mae: 4314.3750\n",
            "Epoch 44/100\n",
            "34/34 [==============================] - 0s 4ms/step - loss: 4154.5894 - mae: 4154.5894\n",
            "Epoch 45/100\n",
            "34/34 [==============================] - 0s 3ms/step - loss: 4013.7004 - mae: 4013.7004\n",
            "Epoch 46/100\n",
            "34/34 [==============================] - 0s 3ms/step - loss: 3899.6384 - mae: 3899.6384\n",
            "Epoch 47/100\n",
            "34/34 [==============================] - 0s 3ms/step - loss: 3819.5764 - mae: 3819.5764\n",
            "Epoch 48/100\n",
            "34/34 [==============================] - 0s 3ms/step - loss: 3753.1409 - mae: 3753.1409\n",
            "Epoch 49/100\n",
            "34/34 [==============================] - 0s 3ms/step - loss: 3716.0447 - mae: 3716.0447\n",
            "Epoch 50/100\n",
            "34/34 [==============================] - 0s 3ms/step - loss: 3694.4465 - mae: 3694.4465\n",
            "Epoch 51/100\n",
            "34/34 [==============================] - 0s 3ms/step - loss: 3682.3279 - mae: 3682.3279\n",
            "Epoch 52/100\n",
            "34/34 [==============================] - 0s 3ms/step - loss: 3678.4905 - mae: 3678.4905\n",
            "Epoch 53/100\n",
            "34/34 [==============================] - 0s 3ms/step - loss: 3665.7827 - mae: 3665.7827\n",
            "Epoch 54/100\n",
            "34/34 [==============================] - 0s 3ms/step - loss: 3666.6150 - mae: 3666.6150\n",
            "Epoch 55/100\n",
            "34/34 [==============================] - 0s 4ms/step - loss: 3658.8413 - mae: 3658.8413\n",
            "Epoch 56/100\n",
            "34/34 [==============================] - 0s 4ms/step - loss: 3654.5205 - mae: 3654.5205\n",
            "Epoch 57/100\n",
            "34/34 [==============================] - 0s 4ms/step - loss: 3651.0420 - mae: 3651.0420\n",
            "Epoch 58/100\n",
            "34/34 [==============================] - 0s 4ms/step - loss: 3648.0859 - mae: 3648.0859\n",
            "Epoch 59/100\n",
            "34/34 [==============================] - 0s 4ms/step - loss: 3647.4429 - mae: 3647.4429\n",
            "Epoch 60/100\n",
            "34/34 [==============================] - 0s 4ms/step - loss: 3642.3801 - mae: 3642.3801\n",
            "Epoch 61/100\n",
            "34/34 [==============================] - 0s 3ms/step - loss: 3641.6162 - mae: 3641.6162\n",
            "Epoch 62/100\n",
            "34/34 [==============================] - 0s 3ms/step - loss: 3636.8252 - mae: 3636.8252\n",
            "Epoch 63/100\n",
            "34/34 [==============================] - 0s 4ms/step - loss: 3635.1387 - mae: 3635.1387\n",
            "Epoch 64/100\n",
            "34/34 [==============================] - 0s 4ms/step - loss: 3633.6655 - mae: 3633.6655\n",
            "Epoch 65/100\n",
            "34/34 [==============================] - 0s 4ms/step - loss: 3631.9478 - mae: 3631.9478\n",
            "Epoch 66/100\n",
            "34/34 [==============================] - 0s 4ms/step - loss: 3627.0603 - mae: 3627.0603\n",
            "Epoch 67/100\n",
            "34/34 [==============================] - 0s 3ms/step - loss: 3625.2715 - mae: 3625.2715\n",
            "Epoch 68/100\n",
            "34/34 [==============================] - 0s 3ms/step - loss: 3624.5791 - mae: 3624.5791\n",
            "Epoch 69/100\n",
            "34/34 [==============================] - 0s 3ms/step - loss: 3620.4465 - mae: 3620.4465\n",
            "Epoch 70/100\n",
            "34/34 [==============================] - 0s 4ms/step - loss: 3617.5520 - mae: 3617.5520\n",
            "Epoch 71/100\n",
            "34/34 [==============================] - 0s 3ms/step - loss: 3614.9558 - mae: 3614.9558\n",
            "Epoch 72/100\n",
            "34/34 [==============================] - 0s 3ms/step - loss: 3608.7200 - mae: 3608.7200\n",
            "Epoch 73/100\n",
            "34/34 [==============================] - 0s 3ms/step - loss: 3607.3428 - mae: 3607.3428\n",
            "Epoch 74/100\n",
            "34/34 [==============================] - 0s 4ms/step - loss: 3602.5359 - mae: 3602.5359\n",
            "Epoch 75/100\n",
            "34/34 [==============================] - 0s 3ms/step - loss: 3602.0977 - mae: 3602.0977\n",
            "Epoch 76/100\n",
            "34/34 [==============================] - 0s 3ms/step - loss: 3602.0415 - mae: 3602.0415\n",
            "Epoch 77/100\n",
            "34/34 [==============================] - 0s 3ms/step - loss: 3592.7434 - mae: 3592.7434\n",
            "Epoch 78/100\n",
            "34/34 [==============================] - 0s 4ms/step - loss: 3590.4524 - mae: 3590.4524\n",
            "Epoch 79/100\n",
            "34/34 [==============================] - 0s 3ms/step - loss: 3590.0134 - mae: 3590.0134\n",
            "Epoch 80/100\n",
            "34/34 [==============================] - 0s 4ms/step - loss: 3585.9744 - mae: 3585.9744\n",
            "Epoch 81/100\n",
            "34/34 [==============================] - 0s 3ms/step - loss: 3583.0239 - mae: 3583.0239\n",
            "Epoch 82/100\n",
            "34/34 [==============================] - 0s 4ms/step - loss: 3580.5244 - mae: 3580.5244\n",
            "Epoch 83/100\n",
            "34/34 [==============================] - 0s 4ms/step - loss: 3576.2883 - mae: 3576.2883\n",
            "Epoch 84/100\n",
            "34/34 [==============================] - 0s 3ms/step - loss: 3571.9744 - mae: 3571.9744\n",
            "Epoch 85/100\n",
            "34/34 [==============================] - 0s 2ms/step - loss: 3568.5791 - mae: 3568.5791\n",
            "Epoch 86/100\n",
            "34/34 [==============================] - 0s 2ms/step - loss: 3564.9417 - mae: 3564.9417\n",
            "Epoch 87/100\n",
            "34/34 [==============================] - 0s 2ms/step - loss: 3563.7839 - mae: 3563.7839\n",
            "Epoch 88/100\n",
            "34/34 [==============================] - 0s 2ms/step - loss: 3559.6433 - mae: 3559.6433\n",
            "Epoch 89/100\n",
            "34/34 [==============================] - 0s 2ms/step - loss: 3559.5432 - mae: 3559.5432\n",
            "Epoch 90/100\n",
            "34/34 [==============================] - 0s 2ms/step - loss: 3555.0256 - mae: 3555.0256\n",
            "Epoch 91/100\n",
            "34/34 [==============================] - 0s 2ms/step - loss: 3551.2793 - mae: 3551.2793\n",
            "Epoch 92/100\n",
            "34/34 [==============================] - 0s 2ms/step - loss: 3551.3818 - mae: 3551.3818\n",
            "Epoch 93/100\n",
            "34/34 [==============================] - 0s 3ms/step - loss: 3547.1370 - mae: 3547.1370\n",
            "Epoch 94/100\n",
            "34/34 [==============================] - 0s 2ms/step - loss: 3544.9719 - mae: 3544.9719\n",
            "Epoch 95/100\n",
            "34/34 [==============================] - 0s 2ms/step - loss: 3544.7419 - mae: 3544.7419\n",
            "Epoch 96/100\n",
            "34/34 [==============================] - 0s 2ms/step - loss: 3544.6431 - mae: 3544.6431\n",
            "Epoch 97/100\n",
            "34/34 [==============================] - 0s 2ms/step - loss: 3539.1519 - mae: 3539.1519\n",
            "Epoch 98/100\n",
            "34/34 [==============================] - 0s 2ms/step - loss: 3536.3682 - mae: 3536.3682\n",
            "Epoch 99/100\n",
            "34/34 [==============================] - 0s 3ms/step - loss: 3535.8120 - mae: 3535.8120\n",
            "Epoch 100/100\n",
            "34/34 [==============================] - 0s 3ms/step - loss: 3534.8984 - mae: 3534.8984\n"
          ]
        },
        {
          "output_type": "execute_result",
          "data": {
            "text/plain": [
              "<keras.src.callbacks.History at 0x7af5f6647a30>"
            ]
          },
          "metadata": {},
          "execution_count": 95
        }
      ],
      "source": [
        "# Build a neural network model to fit our normalized data\n",
        "\n",
        "# Set random seed\n",
        "tf.random.set_seed(42)\n",
        "\n",
        "# 1. Create the model\n",
        "insurance_model_4 = tf.keras.Sequential([\n",
        "    tf.keras.layers.Dense(100),\n",
        "    tf.keras.layers.Dense(10),\n",
        "    tf.keras.layers.Dense(1)\n",
        "])\n",
        "\n",
        "# 2. Compile the model\n",
        "insurance_model_4.compile(\n",
        "    loss = tf.keras.losses.mae,\n",
        "    optimizer = tf.keras.optimizers.Adam(),\n",
        "    metrics=[\"mae\"]\n",
        ")\n",
        "\n",
        "# 3. Fit the model\n",
        "insurance_model_4.fit(X_train_normal, y_train, epochs=100)"
      ]
    },
    {
      "cell_type": "code",
      "source": [
        "# Evaluate our insurance model trained on normalized data\n",
        "insurance_model_4.evaluate(X_test_normal, y_test)"
      ],
      "metadata": {
        "colab": {
          "base_uri": "https://localhost:8080/"
        },
        "id": "F-hQF-GrZSZp",
        "outputId": "37cd58a4-0ee8-4dd3-847b-6ab09e9a5253"
      },
      "execution_count": null,
      "outputs": [
        {
          "output_type": "stream",
          "name": "stdout",
          "text": [
            "9/9 [==============================] - 1s 10ms/step - loss: 3436.7524 - mae: 3436.7524\n"
          ]
        },
        {
          "output_type": "execute_result",
          "data": {
            "text/plain": [
              "[3436.75244140625, 3436.75244140625]"
            ]
          },
          "metadata": {},
          "execution_count": 94
        }
      ]
    }
  ],
  "metadata": {
    "colab": {
      "provenance": [],
      "authorship_tag": "ABX9TyMWXsnyJNJYflwu+yqr+YXp",
      "include_colab_link": true
    },
    "kernelspec": {
      "display_name": "Python 3",
      "name": "python3"
    },
    "language_info": {
      "name": "python"
    }
  },
  "nbformat": 4,
  "nbformat_minor": 0
}
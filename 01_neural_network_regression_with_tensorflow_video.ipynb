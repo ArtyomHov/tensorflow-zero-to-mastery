{
  "nbformat": 4,
  "nbformat_minor": 0,
  "metadata": {
    "colab": {
      "provenance": [],
      "authorship_tag": "ABX9TyO1KC5c1nym2jo/5jqgT0fV",
      "include_colab_link": true
    },
    "kernelspec": {
      "name": "python3",
      "display_name": "Python 3"
    },
    "language_info": {
      "name": "python"
    }
  },
  "cells": [
    {
      "cell_type": "markdown",
      "metadata": {
        "id": "view-in-github",
        "colab_type": "text"
      },
      "source": [
        "<a href=\"https://colab.research.google.com/github/ArtyomHov/tensorflow-zero-to-mastery/blob/master/01_neural_network_regression_with_tensorflow_video.ipynb\" target=\"_parent\"><img src=\"https://colab.research.google.com/assets/colab-badge.svg\" alt=\"Open In Colab\"/></a>"
      ]
    },
    {
      "cell_type": "markdown",
      "source": [
        "# Introduction to Regression with Neural Networks inTensorFlow\n",
        "There are many definitions for regressions model but in our case, we are going to simplify it: predicting a numerical variable based on some other combination of variables, even shorter... predicting a number."
      ],
      "metadata": {
        "id": "1VZR2AOXlGVn"
      }
    },
    {
      "cell_type": "code",
      "source": [
        "# Import TensorFlow\n",
        "import tensorflow as tf\n",
        "print(tf.__version__)"
      ],
      "metadata": {
        "colab": {
          "base_uri": "https://localhost:8080/"
        },
        "id": "UVJd_-QHVzjA",
        "outputId": "a5e4066a-2296-4607-bc33-b6672dad4c05"
      },
      "execution_count": 1,
      "outputs": [
        {
          "output_type": "stream",
          "name": "stdout",
          "text": [
            "2.13.0\n"
          ]
        }
      ]
    },
    {
      "cell_type": "markdown",
      "source": [
        "### Creating a data to view and fit"
      ],
      "metadata": {
        "id": "OwXoHRGWbhmR"
      }
    },
    {
      "cell_type": "code",
      "source": [
        "import numpy as np\n",
        "import matplotlib.pyplot as plt\n",
        "\n",
        "# Create features\n",
        "X = np.array([-7.0, -4.0, -1.0, 2.0, 5.0, 8.0, 11.0, 14.0])\n",
        "\n",
        "# Create labels\n",
        "y = np.array([3.0, 6.0, 9.0, 12.0, 15.0, 18.0, 21.0, 24.0])\n",
        "\n",
        "# Visualize it\n",
        "plt.scatter(X, y)"
      ],
      "metadata": {
        "colab": {
          "base_uri": "https://localhost:8080/",
          "height": 453
        },
        "id": "WbMYpe5GblCH",
        "outputId": "4ed6920f-7237-4d01-86dc-0a742923219e"
      },
      "execution_count": 2,
      "outputs": [
        {
          "output_type": "execute_result",
          "data": {
            "text/plain": [
              "<matplotlib.collections.PathCollection at 0x7cb9f026f820>"
            ]
          },
          "metadata": {},
          "execution_count": 2
        },
        {
          "output_type": "display_data",
          "data": {
            "text/plain": [
              "<Figure size 640x480 with 1 Axes>"
            ],
            "image/png": "[encoded data removed]"
          },
          "metadata": {}
        }
      ]
    },
    {
      "cell_type": "code",
      "source": [
        "y == 10 + X"
      ],
      "metadata": {
        "colab": {
          "base_uri": "https://localhost:8080/"
        },
        "id": "DysXP8dfjrDP",
        "outputId": "c34381f6-9306-4275-8a9f-f79e22c28a11"
      },
      "execution_count": 3,
      "outputs": [
        {
          "output_type": "execute_result",
          "data": {
            "text/plain": [
              "array([ True,  True,  True,  True,  True,  True,  True,  True])"
            ]
          },
          "metadata": {},
          "execution_count": 3
        }
      ]
    },
    {
      "cell_type": "markdown",
      "source": [
        "### Input and Output shapes"
      ],
      "metadata": {
        "id": "qi9UL0mwj-xt"
      }
    },
    {
      "cell_type": "code",
      "source": [
        "# Create a demo tensor for our housing price prediction problem\n",
        "house_info = tf.constant([\"bedroom\", \"bathroom\", \"garage\"])\n",
        "house_price = tf.constant([939700])\n",
        "house_info, house_price"
      ],
      "metadata": {
        "colab": {
          "base_uri": "https://localhost:8080/"
        },
        "id": "e1s8u9eykBSq",
        "outputId": "b151a38a-904c-4e20-efa3-cc490073704f"
      },
      "execution_count": 4,
      "outputs": [
        {
          "output_type": "execute_result",
          "data": {
            "text/plain": [
              "(<tf.Tensor: shape=(3,), dtype=string, numpy=array([b'bedroom', b'bathroom', b'garage'], dtype=object)>,\n",
              " <tf.Tensor: shape=(1,), dtype=int32, numpy=array([939700], dtype=int32)>)"
            ]
          },
          "metadata": {},
          "execution_count": 4
        }
      ]
    },
    {
      "cell_type": "code",
      "source": [
        "input_shape = X.shape\n",
        "output_shape = y.shape\n",
        "input_shape, output_shape"
      ],
      "metadata": {
        "colab": {
          "base_uri": "https://localhost:8080/"
        },
        "id": "epBVYvBFmsUr",
        "outputId": "eb933f42-c1b1-4dc0-d1ec-d74eb81248ac"
      },
      "execution_count": 5,
      "outputs": [
        {
          "output_type": "execute_result",
          "data": {
            "text/plain": [
              "((8,), (8,))"
            ]
          },
          "metadata": {},
          "execution_count": 5
        }
      ]
    },
    {
      "cell_type": "code",
      "source": [
        "X[0].ndim"
      ],
      "metadata": {
        "colab": {
          "base_uri": "https://localhost:8080/"
        },
        "id": "6nwbN3winPfL",
        "outputId": "cce73747-8b5f-4d76-ed47-807a6152b30f"
      },
      "execution_count": 6,
      "outputs": [
        {
          "output_type": "execute_result",
          "data": {
            "text/plain": [
              "0"
            ]
          },
          "metadata": {},
          "execution_count": 6
        }
      ]
    },
    {
      "cell_type": "code",
      "source": [
        "X[0], y[0]"
      ],
      "metadata": {
        "colab": {
          "base_uri": "https://localhost:8080/"
        },
        "id": "NLWDrubVnZRp",
        "outputId": "9f9f1a97-453b-4c1a-f631-65289753ee03"
      },
      "execution_count": 7,
      "outputs": [
        {
          "output_type": "execute_result",
          "data": {
            "text/plain": [
              "(-7.0, 3.0)"
            ]
          },
          "metadata": {},
          "execution_count": 7
        }
      ]
    },
    {
      "cell_type": "code",
      "source": [
        "# Turn our numpy arrays into tensors\n",
        "\n",
        "X = tf.cast(tf.constant(X), dtype = tf.float32)\n",
        "y = tf.cast(tf.constant(y), dtype = tf.float32)\n",
        "X, y"
      ],
      "metadata": {
        "colab": {
          "base_uri": "https://localhost:8080/"
        },
        "id": "lkgJBV9lthlb",
        "outputId": "0eb2fa32-3dc6-43a6-b335-fc293a7dd94c"
      },
      "execution_count": 8,
      "outputs": [
        {
          "output_type": "execute_result",
          "data": {
            "text/plain": [
              "(<tf.Tensor: shape=(8,), dtype=float32, numpy=array([-7., -4., -1.,  2.,  5.,  8., 11., 14.], dtype=float32)>,\n",
              " <tf.Tensor: shape=(8,), dtype=float32, numpy=array([ 3.,  6.,  9., 12., 15., 18., 21., 24.], dtype=float32)>)"
            ]
          },
          "metadata": {},
          "execution_count": 8
        }
      ]
    },
    {
      "cell_type": "code",
      "source": [
        "input_shape = X[0].shape\n",
        "output_shape = y[0].shape\n",
        "input_shape, output_shape"
      ],
      "metadata": {
        "colab": {
          "base_uri": "https://localhost:8080/"
        },
        "id": "anNjQu5nuFbs",
        "outputId": "5a1f7162-d4a2-4115-894e-c0dabe1f0ed5"
      },
      "execution_count": 9,
      "outputs": [
        {
          "output_type": "execute_result",
          "data": {
            "text/plain": [
              "(TensorShape([]), TensorShape([]))"
            ]
          },
          "metadata": {},
          "execution_count": 9
        }
      ]
    },
    {
      "cell_type": "code",
      "source": [
        "plt.scatter(X, y)"
      ],
      "metadata": {
        "colab": {
          "base_uri": "https://localhost:8080/",
          "height": 453
        },
        "id": "xn8LYwFbud9N",
        "outputId": "b6dc3e83-68cb-47c4-80c0-22627bea3c60"
      },
      "execution_count": 10,
      "outputs": [
        {
          "output_type": "execute_result",
          "data": {
            "text/plain": [
              "<matplotlib.collections.PathCollection at 0x7cb9f024bcd0>"
            ]
          },
          "metadata": {},
          "execution_count": 10
        },
        {
          "output_type": "display_data",
          "data": {
            "text/plain": [
              "<Figure size 640x480 with 1 Axes>"
            ],
            "image/png": "[encoded data removed]"
          },
          "metadata": {}
        }
      ]
    },
    {
      "cell_type": "markdown",
      "source": [
        "## Steps in modeling with TensorFlow\n",
        "\n",
        "1. **Creating a model** - define the input and output layers, as well as the hidden layers of a deep learning model\n",
        "2. **Compiling a model** - define the loss function (in other words, the function which tells our model how wrong it is) and the optimizer (tells out model how to improve the patterns its learning) and evaluation metrics (what we can use to interpret the performance of our model).\n",
        "3. **Fitting a model** - letting the model try to find patterns between X and y (features and labels)"
      ],
      "metadata": {
        "id": "Ci7pWGwOul-7"
      }
    },
    {
      "cell_type": "code",
      "source": [
        "# Set random seed\n",
        "tf.random.set_seed(42)\n",
        "\n",
        "# 1. Create a model using the Sequential API\n",
        "model = tf.keras.Sequential([\n",
        "    tf.keras.layers.Dense(1)\n",
        "])\n",
        "\n",
        "# 2. Compile the model\n",
        "model.compile(loss = tf.keras.losses.mae, # mae is short for mean absolute error\n",
        "              optimizer = tf.keras.optimizers.SGD(), # sgd is short for stochastic gradient descent\n",
        "              metrics = [\"mae\"]\n",
        "              )\n",
        "\n",
        "# 3. Fit the model\n",
        "model.fit(tf.expand_dims(X, axis = -1), y, epochs = 5)"
      ],
      "metadata": {
        "colab": {
          "base_uri": "https://localhost:8080/"
        },
        "id": "CEKhHn6Fw9FG",
        "outputId": "c079ab10-a9da-487c-e1f4-020f30d9be15"
      },
      "execution_count": 11,
      "outputs": [
        {
          "output_type": "stream",
          "name": "stdout",
          "text": [
            "Epoch 1/5\n",
            "1/1 [==============================] - 1s 631ms/step - loss: 13.6245 - mae: 13.6245\n",
            "Epoch 2/5\n",
            "1/1 [==============================] - 0s 11ms/step - loss: 13.4920 - mae: 13.4920\n",
            "Epoch 3/5\n",
            "1/1 [==============================] - 0s 11ms/step - loss: 13.3595 - mae: 13.3595\n",
            "Epoch 4/5\n",
            "1/1 [==============================] - 0s 11ms/step - loss: 13.2269 - mae: 13.2269\n",
            "Epoch 5/5\n",
            "1/1 [==============================] - 0s 14ms/step - loss: 13.0944 - mae: 13.0944\n"
          ]
        },
        {
          "output_type": "execute_result",
          "data": {
            "text/plain": [
              "<keras.src.callbacks.History at 0x7cb9deecc190>"
            ]
          },
          "metadata": {},
          "execution_count": 11
        }
      ]
    },
    {
      "cell_type": "code",
      "source": [
        "# Check X and y\n",
        "X, y"
      ],
      "metadata": {
        "colab": {
          "base_uri": "https://localhost:8080/"
        },
        "id": "NCWuVU1n2oAT",
        "outputId": "6436fdae-9b73-4636-ab3a-7e6bed6ccd25"
      },
      "execution_count": 12,
      "outputs": [
        {
          "output_type": "execute_result",
          "data": {
            "text/plain": [
              "(<tf.Tensor: shape=(8,), dtype=float32, numpy=array([-7., -4., -1.,  2.,  5.,  8., 11., 14.], dtype=float32)>,\n",
              " <tf.Tensor: shape=(8,), dtype=float32, numpy=array([ 3.,  6.,  9., 12., 15., 18., 21., 24.], dtype=float32)>)"
            ]
          },
          "metadata": {},
          "execution_count": 12
        }
      ]
    },
    {
      "cell_type": "code",
      "source": [
        "# Try to make prediction using our model\n",
        "y_pred = model.predict([17.0])\n",
        "y_pred"
      ],
      "metadata": {
        "colab": {
          "base_uri": "https://localhost:8080/"
        },
        "id": "z72T849G2ueu",
        "outputId": "025c0d40-04e3-416e-b00a-55e0d81e6133"
      },
      "execution_count": 13,
      "outputs": [
        {
          "output_type": "stream",
          "name": "stdout",
          "text": [
            "1/1 [==============================] - 0s 135ms/step\n"
          ]
        },
        {
          "output_type": "execute_result",
          "data": {
            "text/plain": [
              "array([[2.4205263]], dtype=float32)"
            ]
          },
          "metadata": {},
          "execution_count": 13
        }
      ]
    },
    {
      "cell_type": "markdown",
      "source": [
        "## Improving model\n",
        "\n",
        "We can improve our model by altering the steps we took to create a model.\n",
        "\n",
        "1. **Creating a model** - here we might add more layers, increase the number of hidden units (all called neurons) within each of the hidden layers, change the activation function of each layer.\n",
        "2. **Compiling a model** - here we might change the optimization function or perhaps the **learning rate** of the optimization function.\n",
        "3. **Fitting a model** - here we might fit a model for more **epochs** (leave for training longer) or on more data (give the model more examples to learn)"
      ],
      "metadata": {
        "id": "fDJ8_YOB3XS-"
      }
    },
    {
      "cell_type": "code",
      "source": [
        "# Let'srebuild our model\n",
        "\n",
        "# 1. Create the model\n",
        "model = tf.keras.Sequential([\n",
        "    tf.keras.layers.Dense(1)\n",
        "])\n",
        "\n",
        "# 2. Compile the model\n",
        "model.compile(loss = tf.keras.losses.mae,\n",
        "              optimizer= tf.keras.optimizers.SGD(),\n",
        "              metrics = [\"mae\"])\n",
        "\n",
        "# 3. Fit the model (this time we'll train for longer)\n",
        "model.fit(tf.expand_dims(X, axis = -1), y, epochs=100)"
      ],
      "metadata": {
        "colab": {
          "base_uri": "https://localhost:8080/"
        },
        "id": "boXPypT_F_Jy",
        "outputId": "047aadd6-133a-4a59-d207-1cb45d93a7a4"
      },
      "execution_count": 14,
      "outputs": [
        {
          "output_type": "stream",
          "name": "stdout",
          "text": [
            "Epoch 1/100\n",
            "1/1 [==============================] - 0s 352ms/step - loss: 8.2101 - mae: 8.2101\n",
            "Epoch 2/100\n",
            "1/1 [==============================] - 0s 9ms/step - loss: 8.0776 - mae: 8.0776\n",
            "Epoch 3/100\n",
            "1/1 [==============================] - 0s 9ms/step - loss: 7.9451 - mae: 7.9451\n",
            "Epoch 4/100\n",
            "1/1 [==============================] - 0s 15ms/step - loss: 7.8126 - mae: 7.8126\n",
            "Epoch 5/100\n",
            "1/1 [==============================] - 0s 14ms/step - loss: 7.6801 - mae: 7.6801\n",
            "Epoch 6/100\n",
            "1/1 [==============================] - 0s 15ms/step - loss: 7.5476 - mae: 7.5476\n",
            "Epoch 7/100\n",
            "1/1 [==============================] - 0s 14ms/step - loss: 7.4550 - mae: 7.4550\n",
            "Epoch 8/100\n",
            "1/1 [==============================] - 0s 12ms/step - loss: 7.4494 - mae: 7.4494\n",
            "Epoch 9/100\n",
            "1/1 [==============================] - 0s 13ms/step - loss: 7.4437 - mae: 7.4437\n",
            "Epoch 10/100\n",
            "1/1 [==============================] - 0s 11ms/step - loss: 7.4381 - mae: 7.4381\n",
            "Epoch 11/100\n",
            "1/1 [==============================] - 0s 10ms/step - loss: 7.4325 - mae: 7.4325\n",
            "Epoch 12/100\n",
            "1/1 [==============================] - 0s 17ms/step - loss: 7.4269 - mae: 7.4269\n",
            "Epoch 13/100\n",
            "1/1 [==============================] - 0s 11ms/step - loss: 7.4213 - mae: 7.4213\n",
            "Epoch 14/100\n",
            "1/1 [==============================] - 0s 13ms/step - loss: 7.4156 - mae: 7.4156\n",
            "Epoch 15/100\n",
            "1/1 [==============================] - 0s 10ms/step - loss: 7.4100 - mae: 7.4100\n",
            "Epoch 16/100\n",
            "1/1 [==============================] - 0s 13ms/step - loss: 7.4044 - mae: 7.4044\n",
            "Epoch 17/100\n",
            "1/1 [==============================] - 0s 9ms/step - loss: 7.3987 - mae: 7.3987\n",
            "Epoch 18/100\n",
            "1/1 [==============================] - 0s 10ms/step - loss: 7.3931 - mae: 7.3931\n",
            "Epoch 19/100\n",
            "1/1 [==============================] - 0s 14ms/step - loss: 7.3875 - mae: 7.3875\n",
            "Epoch 20/100\n",
            "1/1 [==============================] - 0s 10ms/step - loss: 7.3819 - mae: 7.3819\n",
            "Epoch 21/100\n",
            "1/1 [==============================] - 0s 10ms/step - loss: 7.3763 - mae: 7.3763\n",
            "Epoch 22/100\n",
            "1/1 [==============================] - 0s 9ms/step - loss: 7.3706 - mae: 7.3706\n",
            "Epoch 23/100\n",
            "1/1 [==============================] - 0s 10ms/step - loss: 7.3650 - mae: 7.3650\n",
            "Epoch 24/100\n",
            "1/1 [==============================] - 0s 10ms/step - loss: 7.3594 - mae: 7.3594\n",
            "Epoch 25/100\n",
            "1/1 [==============================] - 0s 10ms/step - loss: 7.3537 - mae: 7.3537\n",
            "Epoch 26/100\n",
            "1/1 [==============================] - 0s 11ms/step - loss: 7.3481 - mae: 7.3481\n",
            "Epoch 27/100\n",
            "1/1 [==============================] - 0s 13ms/step - loss: 7.3425 - mae: 7.3425\n",
            "Epoch 28/100\n",
            "1/1 [==============================] - 0s 10ms/step - loss: 7.3369 - mae: 7.3369\n",
            "Epoch 29/100\n",
            "1/1 [==============================] - 0s 10ms/step - loss: 7.3313 - mae: 7.3313\n",
            "Epoch 30/100\n",
            "1/1 [==============================] - 0s 13ms/step - loss: 7.3256 - mae: 7.3256\n",
            "Epoch 31/100\n",
            "1/1 [==============================] - 0s 10ms/step - loss: 7.3200 - mae: 7.3200\n",
            "Epoch 32/100\n",
            "1/1 [==============================] - 0s 10ms/step - loss: 7.3144 - mae: 7.3144\n",
            "Epoch 33/100\n",
            "1/1 [==============================] - 0s 18ms/step - loss: 7.3088 - mae: 7.3088\n",
            "Epoch 34/100\n",
            "1/1 [==============================] - 0s 28ms/step - loss: 7.3031 - mae: 7.3031\n",
            "Epoch 35/100\n",
            "1/1 [==============================] - 0s 20ms/step - loss: 7.2975 - mae: 7.2975\n",
            "Epoch 36/100\n",
            "1/1 [==============================] - 0s 17ms/step - loss: 7.2919 - mae: 7.2919\n",
            "Epoch 37/100\n",
            "1/1 [==============================] - 0s 17ms/step - loss: 7.2863 - mae: 7.2863\n",
            "Epoch 38/100\n",
            "1/1 [==============================] - 0s 15ms/step - loss: 7.2806 - mae: 7.2806\n",
            "Epoch 39/100\n",
            "1/1 [==============================] - 0s 18ms/step - loss: 7.2750 - mae: 7.2750\n",
            "Epoch 40/100\n",
            "1/1 [==============================] - 0s 19ms/step - loss: 7.2694 - mae: 7.2694\n",
            "Epoch 41/100\n",
            "1/1 [==============================] - 0s 36ms/step - loss: 7.2638 - mae: 7.2638\n",
            "Epoch 42/100\n",
            "1/1 [==============================] - 0s 25ms/step - loss: 7.2581 - mae: 7.2581\n",
            "Epoch 43/100\n",
            "1/1 [==============================] - 0s 20ms/step - loss: 7.2525 - mae: 7.2525\n",
            "Epoch 44/100\n",
            "1/1 [==============================] - 0s 21ms/step - loss: 7.2469 - mae: 7.2469\n",
            "Epoch 45/100\n",
            "1/1 [==============================] - 0s 16ms/step - loss: 7.2413 - mae: 7.2413\n",
            "Epoch 46/100\n",
            "1/1 [==============================] - 0s 40ms/step - loss: 7.2356 - mae: 7.2356\n",
            "Epoch 47/100\n",
            "1/1 [==============================] - 0s 16ms/step - loss: 7.2300 - mae: 7.2300\n",
            "Epoch 48/100\n",
            "1/1 [==============================] - 0s 26ms/step - loss: 7.2244 - mae: 7.2244\n",
            "Epoch 49/100\n",
            "1/1 [==============================] - 0s 18ms/step - loss: 7.2188 - mae: 7.2188\n",
            "Epoch 50/100\n",
            "1/1 [==============================] - 0s 19ms/step - loss: 7.2131 - mae: 7.2131\n",
            "Epoch 51/100\n",
            "1/1 [==============================] - 0s 18ms/step - loss: 7.2075 - mae: 7.2075\n",
            "Epoch 52/100\n",
            "1/1 [==============================] - 0s 33ms/step - loss: 7.2019 - mae: 7.2019\n",
            "Epoch 53/100\n",
            "1/1 [==============================] - 0s 12ms/step - loss: 7.1962 - mae: 7.1962\n",
            "Epoch 54/100\n",
            "1/1 [==============================] - 0s 11ms/step - loss: 7.1906 - mae: 7.1906\n",
            "Epoch 55/100\n",
            "1/1 [==============================] - 0s 14ms/step - loss: 7.1850 - mae: 7.1850\n",
            "Epoch 56/100\n",
            "1/1 [==============================] - 0s 11ms/step - loss: 7.1794 - mae: 7.1794\n",
            "Epoch 57/100\n",
            "1/1 [==============================] - 0s 13ms/step - loss: 7.1738 - mae: 7.1738\n",
            "Epoch 58/100\n",
            "1/1 [==============================] - 0s 14ms/step - loss: 7.1681 - mae: 7.1681\n",
            "Epoch 59/100\n",
            "1/1 [==============================] - 0s 16ms/step - loss: 7.1625 - mae: 7.1625\n",
            "Epoch 60/100\n",
            "1/1 [==============================] - 0s 14ms/step - loss: 7.1569 - mae: 7.1569\n",
            "Epoch 61/100\n",
            "1/1 [==============================] - 0s 13ms/step - loss: 7.1512 - mae: 7.1512\n",
            "Epoch 62/100\n",
            "1/1 [==============================] - 0s 11ms/step - loss: 7.1456 - mae: 7.1456\n",
            "Epoch 63/100\n",
            "1/1 [==============================] - 0s 33ms/step - loss: 7.1400 - mae: 7.1400\n",
            "Epoch 64/100\n",
            "1/1 [==============================] - 0s 12ms/step - loss: 7.1344 - mae: 7.1344\n",
            "Epoch 65/100\n",
            "1/1 [==============================] - 0s 11ms/step - loss: 7.1287 - mae: 7.1287\n",
            "Epoch 66/100\n",
            "1/1 [==============================] - 0s 13ms/step - loss: 7.1231 - mae: 7.1231\n",
            "Epoch 67/100\n",
            "1/1 [==============================] - 0s 17ms/step - loss: 7.1175 - mae: 7.1175\n",
            "Epoch 68/100\n",
            "1/1 [==============================] - 0s 72ms/step - loss: 7.1119 - mae: 7.1119\n",
            "Epoch 69/100\n",
            "1/1 [==============================] - 0s 32ms/step - loss: 7.1063 - mae: 7.1063\n",
            "Epoch 70/100\n",
            "1/1 [==============================] - 0s 27ms/step - loss: 7.1006 - mae: 7.1006\n",
            "Epoch 71/100\n",
            "1/1 [==============================] - 0s 11ms/step - loss: 7.0950 - mae: 7.0950\n",
            "Epoch 72/100\n",
            "1/1 [==============================] - 0s 10ms/step - loss: 7.0894 - mae: 7.0894\n",
            "Epoch 73/100\n",
            "1/1 [==============================] - 0s 18ms/step - loss: 7.0838 - mae: 7.0838\n",
            "Epoch 74/100\n",
            "1/1 [==============================] - 0s 26ms/step - loss: 7.0781 - mae: 7.0781\n",
            "Epoch 75/100\n",
            "1/1 [==============================] - 0s 16ms/step - loss: 7.0725 - mae: 7.0725\n",
            "Epoch 76/100\n",
            "1/1 [==============================] - 0s 12ms/step - loss: 7.0669 - mae: 7.0669\n",
            "Epoch 77/100\n",
            "1/1 [==============================] - 0s 17ms/step - loss: 7.0613 - mae: 7.0613\n",
            "Epoch 78/100\n",
            "1/1 [==============================] - 0s 29ms/step - loss: 7.0556 - mae: 7.0556\n",
            "Epoch 79/100\n",
            "1/1 [==============================] - 0s 19ms/step - loss: 7.0500 - mae: 7.0500\n",
            "Epoch 80/100\n",
            "1/1 [==============================] - 0s 22ms/step - loss: 7.0444 - mae: 7.0444\n",
            "Epoch 81/100\n",
            "1/1 [==============================] - 0s 24ms/step - loss: 7.0388 - mae: 7.0388\n",
            "Epoch 82/100\n",
            "1/1 [==============================] - 0s 22ms/step - loss: 7.0331 - mae: 7.0331\n",
            "Epoch 83/100\n",
            "1/1 [==============================] - 0s 22ms/step - loss: 7.0275 - mae: 7.0275\n",
            "Epoch 84/100\n",
            "1/1 [==============================] - 0s 24ms/step - loss: 7.0219 - mae: 7.0219\n",
            "Epoch 85/100\n",
            "1/1 [==============================] - 0s 32ms/step - loss: 7.0163 - mae: 7.0163\n",
            "Epoch 86/100\n",
            "1/1 [==============================] - 0s 19ms/step - loss: 7.0106 - mae: 7.0106\n",
            "Epoch 87/100\n",
            "1/1 [==============================] - 0s 22ms/step - loss: 7.0050 - mae: 7.0050\n",
            "Epoch 88/100\n",
            "1/1 [==============================] - 0s 21ms/step - loss: 6.9994 - mae: 6.9994\n",
            "Epoch 89/100\n",
            "1/1 [==============================] - 0s 21ms/step - loss: 6.9938 - mae: 6.9938\n",
            "Epoch 90/100\n",
            "1/1 [==============================] - 0s 20ms/step - loss: 6.9881 - mae: 6.9881\n",
            "Epoch 91/100\n",
            "1/1 [==============================] - 0s 25ms/step - loss: 6.9825 - mae: 6.9825\n",
            "Epoch 92/100\n",
            "1/1 [==============================] - 0s 29ms/step - loss: 6.9769 - mae: 6.9769\n",
            "Epoch 93/100\n",
            "1/1 [==============================] - 0s 24ms/step - loss: 6.9713 - mae: 6.9713\n",
            "Epoch 94/100\n",
            "1/1 [==============================] - 0s 21ms/step - loss: 6.9656 - mae: 6.9656\n",
            "Epoch 95/100\n",
            "1/1 [==============================] - 0s 19ms/step - loss: 6.9600 - mae: 6.9600\n",
            "Epoch 96/100\n",
            "1/1 [==============================] - 0s 28ms/step - loss: 6.9544 - mae: 6.9544\n",
            "Epoch 97/100\n",
            "1/1 [==============================] - 0s 19ms/step - loss: 6.9488 - mae: 6.9488\n",
            "Epoch 98/100\n",
            "1/1 [==============================] - 0s 33ms/step - loss: 6.9431 - mae: 6.9431\n",
            "Epoch 99/100\n",
            "1/1 [==============================] - 0s 22ms/step - loss: 6.9375 - mae: 6.9375\n",
            "Epoch 100/100\n",
            "1/1 [==============================] - 0s 20ms/step - loss: 6.9319 - mae: 6.9319\n"
          ]
        },
        {
          "output_type": "execute_result",
          "data": {
            "text/plain": [
              "<keras.src.callbacks.History at 0x7cb9de4e6440>"
            ]
          },
          "metadata": {},
          "execution_count": 14
        }
      ]
    },
    {
      "cell_type": "code",
      "source": [
        "# Remind ourselves of the data\n",
        "\n",
        "X, y"
      ],
      "metadata": {
        "colab": {
          "base_uri": "https://localhost:8080/"
        },
        "id": "K8D9tuf0OWKZ",
        "outputId": "24c531b2-3537-42f8-fc48-fc965b8eb0c7"
      },
      "execution_count": 15,
      "outputs": [
        {
          "output_type": "execute_result",
          "data": {
            "text/plain": [
              "(<tf.Tensor: shape=(8,), dtype=float32, numpy=array([-7., -4., -1.,  2.,  5.,  8., 11., 14.], dtype=float32)>,\n",
              " <tf.Tensor: shape=(8,), dtype=float32, numpy=array([ 3.,  6.,  9., 12., 15., 18., 21., 24.], dtype=float32)>)"
            ]
          },
          "metadata": {},
          "execution_count": 15
        }
      ]
    },
    {
      "cell_type": "code",
      "source": [
        "# Let's see if our model's prediction has inproved\n",
        "\n",
        "model.predict([17.0])"
      ],
      "metadata": {
        "colab": {
          "base_uri": "https://localhost:8080/"
        },
        "id": "Ev8cp9QTOjHR",
        "outputId": "375632f4-84c2-4cc0-cb7b-da1069f4758b"
      },
      "execution_count": 16,
      "outputs": [
        {
          "output_type": "stream",
          "name": "stdout",
          "text": [
            "1/1 [==============================] - 0s 214ms/step\n"
          ]
        },
        {
          "output_type": "execute_result",
          "data": {
            "text/plain": [
              "array([[30.029028]], dtype=float32)"
            ]
          },
          "metadata": {},
          "execution_count": 16
        }
      ]
    },
    {
      "cell_type": "code",
      "source": [
        "# Let's see if we can make another change to improve our model\n",
        "\n",
        "# 1. Create the model (this time with an extra hidden layer with 100 hidden units)\n",
        "model = tf.keras.Sequential([\n",
        "    tf.keras.layers.Dense(50, activation = None),\n",
        "    tf.keras.layers.Dense(1)\n",
        "])\n",
        "\n",
        "# 2. Compile the model\n",
        "model.compile(loss = tf.keras.losses.mae,\n",
        "              optimizer = tf.keras.optimizers.Adam(learning_rate = 0.01),\n",
        "              metrics=[\"mae\"])\n",
        "\n",
        "# 3. Fit the model\n",
        "model.fit(tf.expand_dims(X, axis = -1), y, epochs = 100)"
      ],
      "metadata": {
        "colab": {
          "base_uri": "https://localhost:8080/"
        },
        "id": "ZTKE8AUAT40S",
        "outputId": "b5d5b894-f49a-45d9-a02d-dfe4ac8e12f0"
      },
      "execution_count": 17,
      "outputs": [
        {
          "output_type": "stream",
          "name": "stdout",
          "text": [
            "Epoch 1/100\n",
            "1/1 [==============================] - 1s 1s/step - loss: 13.6148 - mae: 13.6148\n",
            "Epoch 2/100\n",
            "1/1 [==============================] - 0s 30ms/step - loss: 12.8971 - mae: 12.8971\n",
            "Epoch 3/100\n",
            "1/1 [==============================] - 0s 16ms/step - loss: 12.1744 - mae: 12.1744\n",
            "Epoch 4/100\n",
            "1/1 [==============================] - 0s 20ms/step - loss: 11.4461 - mae: 11.4461\n",
            "Epoch 5/100\n",
            "1/1 [==============================] - 0s 39ms/step - loss: 10.7108 - mae: 10.7108\n",
            "Epoch 6/100\n",
            "1/1 [==============================] - 0s 20ms/step - loss: 9.9668 - mae: 9.9668\n",
            "Epoch 7/100\n",
            "1/1 [==============================] - 0s 17ms/step - loss: 9.2121 - mae: 9.2121\n",
            "Epoch 8/100\n",
            "1/1 [==============================] - 0s 23ms/step - loss: 8.4445 - mae: 8.4445\n",
            "Epoch 9/100\n",
            "1/1 [==============================] - 0s 26ms/step - loss: 7.6613 - mae: 7.6613\n",
            "Epoch 10/100\n",
            "1/1 [==============================] - 0s 39ms/step - loss: 6.8596 - mae: 6.8596\n",
            "Epoch 11/100\n",
            "1/1 [==============================] - 0s 19ms/step - loss: 6.7732 - mae: 6.7732\n",
            "Epoch 12/100\n",
            "1/1 [==============================] - 0s 15ms/step - loss: 7.1274 - mae: 7.1274\n",
            "Epoch 13/100\n",
            "1/1 [==============================] - 0s 13ms/step - loss: 7.3612 - mae: 7.3612\n",
            "Epoch 14/100\n",
            "1/1 [==============================] - 0s 12ms/step - loss: 7.6473 - mae: 7.6473\n",
            "Epoch 15/100\n",
            "1/1 [==============================] - 0s 13ms/step - loss: 7.6885 - mae: 7.6885\n",
            "Epoch 16/100\n",
            "1/1 [==============================] - 0s 12ms/step - loss: 7.5437 - mae: 7.5437\n",
            "Epoch 17/100\n",
            "1/1 [==============================] - 0s 11ms/step - loss: 7.2580 - mae: 7.2580\n",
            "Epoch 18/100\n",
            "1/1 [==============================] - 0s 12ms/step - loss: 6.9291 - mae: 6.9291\n",
            "Epoch 19/100\n",
            "1/1 [==============================] - 0s 17ms/step - loss: 6.6608 - mae: 6.6608\n",
            "Epoch 20/100\n",
            "1/1 [==============================] - 0s 15ms/step - loss: 6.3776 - mae: 6.3776\n",
            "Epoch 21/100\n",
            "1/1 [==============================] - 0s 14ms/step - loss: 6.1086 - mae: 6.1086\n",
            "Epoch 22/100\n",
            "1/1 [==============================] - 0s 15ms/step - loss: 6.0634 - mae: 6.0634\n",
            "Epoch 23/100\n",
            "1/1 [==============================] - 0s 15ms/step - loss: 6.0222 - mae: 6.0222\n",
            "Epoch 24/100\n",
            "1/1 [==============================] - 0s 14ms/step - loss: 6.1003 - mae: 6.1003\n",
            "Epoch 25/100\n",
            "1/1 [==============================] - 0s 16ms/step - loss: 6.0758 - mae: 6.0758\n",
            "Epoch 26/100\n",
            "1/1 [==============================] - 0s 15ms/step - loss: 5.9616 - mae: 5.9616\n",
            "Epoch 27/100\n",
            "1/1 [==============================] - 0s 33ms/step - loss: 5.7667 - mae: 5.7667\n",
            "Epoch 28/100\n",
            "1/1 [==============================] - 0s 18ms/step - loss: 5.6197 - mae: 5.6197\n",
            "Epoch 29/100\n",
            "1/1 [==============================] - 0s 26ms/step - loss: 5.5196 - mae: 5.5196\n",
            "Epoch 30/100\n",
            "1/1 [==============================] - 0s 25ms/step - loss: 5.4165 - mae: 5.4165\n",
            "Epoch 31/100\n",
            "1/1 [==============================] - 0s 26ms/step - loss: 5.4046 - mae: 5.4046\n",
            "Epoch 32/100\n",
            "1/1 [==============================] - 0s 39ms/step - loss: 5.3811 - mae: 5.3811\n",
            "Epoch 33/100\n",
            "1/1 [==============================] - 0s 27ms/step - loss: 5.3141 - mae: 5.3141\n",
            "Epoch 34/100\n",
            "1/1 [==============================] - 0s 30ms/step - loss: 5.2070 - mae: 5.2070\n",
            "Epoch 35/100\n",
            "1/1 [==============================] - 0s 24ms/step - loss: 5.0634 - mae: 5.0634\n",
            "Epoch 36/100\n",
            "1/1 [==============================] - 0s 24ms/step - loss: 4.8865 - mae: 4.8865\n",
            "Epoch 37/100\n",
            "1/1 [==============================] - 0s 34ms/step - loss: 4.7519 - mae: 4.7519\n",
            "Epoch 38/100\n",
            "1/1 [==============================] - 0s 23ms/step - loss: 4.6598 - mae: 4.6598\n",
            "Epoch 39/100\n",
            "1/1 [==============================] - 0s 28ms/step - loss: 4.5607 - mae: 4.5607\n",
            "Epoch 40/100\n",
            "1/1 [==============================] - 0s 24ms/step - loss: 4.4698 - mae: 4.4698\n",
            "Epoch 41/100\n",
            "1/1 [==============================] - 0s 24ms/step - loss: 4.3422 - mae: 4.3422\n",
            "Epoch 42/100\n",
            "1/1 [==============================] - 0s 22ms/step - loss: 4.1931 - mae: 4.1931\n",
            "Epoch 43/100\n",
            "1/1 [==============================] - 0s 18ms/step - loss: 4.0483 - mae: 4.0483\n",
            "Epoch 44/100\n",
            "1/1 [==============================] - 0s 23ms/step - loss: 3.8971 - mae: 3.8971\n",
            "Epoch 45/100\n",
            "1/1 [==============================] - 0s 25ms/step - loss: 3.7887 - mae: 3.7887\n",
            "Epoch 46/100\n",
            "1/1 [==============================] - 0s 30ms/step - loss: 3.6742 - mae: 3.6742\n",
            "Epoch 47/100\n",
            "1/1 [==============================] - 0s 41ms/step - loss: 3.5094 - mae: 3.5094\n",
            "Epoch 48/100\n",
            "1/1 [==============================] - 0s 16ms/step - loss: 3.2972 - mae: 3.2972\n",
            "Epoch 49/100\n",
            "1/1 [==============================] - 0s 14ms/step - loss: 3.1405 - mae: 3.1405\n",
            "Epoch 50/100\n",
            "1/1 [==============================] - 0s 26ms/step - loss: 2.9839 - mae: 2.9839\n",
            "Epoch 51/100\n",
            "1/1 [==============================] - 0s 22ms/step - loss: 2.9002 - mae: 2.9002\n",
            "Epoch 52/100\n",
            "1/1 [==============================] - 0s 19ms/step - loss: 2.6913 - mae: 2.6913\n",
            "Epoch 53/100\n",
            "1/1 [==============================] - 0s 16ms/step - loss: 2.4177 - mae: 2.4177\n",
            "Epoch 54/100\n",
            "1/1 [==============================] - 0s 16ms/step - loss: 2.2119 - mae: 2.2119\n",
            "Epoch 55/100\n",
            "1/1 [==============================] - 0s 16ms/step - loss: 2.0526 - mae: 2.0526\n",
            "Epoch 56/100\n",
            "1/1 [==============================] - 0s 15ms/step - loss: 1.8295 - mae: 1.8295\n",
            "Epoch 57/100\n",
            "1/1 [==============================] - 0s 16ms/step - loss: 1.5574 - mae: 1.5574\n",
            "Epoch 58/100\n",
            "1/1 [==============================] - 0s 16ms/step - loss: 1.3329 - mae: 1.3329\n",
            "Epoch 59/100\n",
            "1/1 [==============================] - 0s 21ms/step - loss: 1.1312 - mae: 1.1312\n",
            "Epoch 60/100\n",
            "1/1 [==============================] - 0s 17ms/step - loss: 0.8333 - mae: 0.8333\n",
            "Epoch 61/100\n",
            "1/1 [==============================] - 0s 21ms/step - loss: 0.6237 - mae: 0.6237\n",
            "Epoch 62/100\n",
            "1/1 [==============================] - 0s 17ms/step - loss: 0.3867 - mae: 0.3867\n",
            "Epoch 63/100\n",
            "1/1 [==============================] - 0s 19ms/step - loss: 0.1188 - mae: 0.1188\n",
            "Epoch 64/100\n",
            "1/1 [==============================] - 0s 20ms/step - loss: 0.2538 - mae: 0.2538\n",
            "Epoch 65/100\n",
            "1/1 [==============================] - 0s 38ms/step - loss: 0.4329 - mae: 0.4329\n",
            "Epoch 66/100\n",
            "1/1 [==============================] - 0s 54ms/step - loss: 0.5586 - mae: 0.5586\n",
            "Epoch 67/100\n",
            "1/1 [==============================] - 0s 39ms/step - loss: 0.6448 - mae: 0.6448\n",
            "Epoch 68/100\n",
            "1/1 [==============================] - 0s 33ms/step - loss: 0.6816 - mae: 0.6816\n",
            "Epoch 69/100\n",
            "1/1 [==============================] - 0s 46ms/step - loss: 0.6848 - mae: 0.6848\n",
            "Epoch 70/100\n",
            "1/1 [==============================] - 0s 16ms/step - loss: 0.6432 - mae: 0.6432\n",
            "Epoch 71/100\n",
            "1/1 [==============================] - 0s 16ms/step - loss: 0.6126 - mae: 0.6126\n",
            "Epoch 72/100\n",
            "1/1 [==============================] - 0s 20ms/step - loss: 0.4891 - mae: 0.4891\n",
            "Epoch 73/100\n",
            "1/1 [==============================] - 0s 25ms/step - loss: 0.3845 - mae: 0.3845\n",
            "Epoch 74/100\n",
            "1/1 [==============================] - 0s 24ms/step - loss: 0.2805 - mae: 0.2805\n",
            "Epoch 75/100\n",
            "1/1 [==============================] - 0s 21ms/step - loss: 0.1142 - mae: 0.1142\n",
            "Epoch 76/100\n",
            "1/1 [==============================] - 0s 26ms/step - loss: 0.2174 - mae: 0.2174\n",
            "Epoch 77/100\n",
            "1/1 [==============================] - 0s 24ms/step - loss: 0.3290 - mae: 0.3290\n",
            "Epoch 78/100\n",
            "1/1 [==============================] - 0s 24ms/step - loss: 0.3062 - mae: 0.3062\n",
            "Epoch 79/100\n",
            "1/1 [==============================] - 0s 37ms/step - loss: 0.3708 - mae: 0.3708\n",
            "Epoch 80/100\n",
            "1/1 [==============================] - 0s 31ms/step - loss: 0.3656 - mae: 0.3656\n",
            "Epoch 81/100\n",
            "1/1 [==============================] - 0s 31ms/step - loss: 0.3222 - mae: 0.3222\n",
            "Epoch 82/100\n",
            "1/1 [==============================] - 0s 36ms/step - loss: 0.2962 - mae: 0.2962\n",
            "Epoch 83/100\n",
            "1/1 [==============================] - 0s 33ms/step - loss: 0.2065 - mae: 0.2065\n",
            "Epoch 84/100\n",
            "1/1 [==============================] - 0s 32ms/step - loss: 0.1931 - mae: 0.1931\n",
            "Epoch 85/100\n",
            "1/1 [==============================] - 0s 28ms/step - loss: 0.0806 - mae: 0.0806\n",
            "Epoch 86/100\n",
            "1/1 [==============================] - 0s 37ms/step - loss: 0.3489 - mae: 0.3489\n",
            "Epoch 87/100\n",
            "1/1 [==============================] - 0s 27ms/step - loss: 0.4370 - mae: 0.4370\n",
            "Epoch 88/100\n",
            "1/1 [==============================] - 0s 22ms/step - loss: 0.3143 - mae: 0.3143\n",
            "Epoch 89/100\n",
            "1/1 [==============================] - 0s 10ms/step - loss: 0.4061 - mae: 0.4061\n",
            "Epoch 90/100\n",
            "1/1 [==============================] - 0s 10ms/step - loss: 0.4764 - mae: 0.4764\n",
            "Epoch 91/100\n",
            "1/1 [==============================] - 0s 48ms/step - loss: 0.2605 - mae: 0.2605\n",
            "Epoch 92/100\n",
            "1/1 [==============================] - 0s 45ms/step - loss: 0.3227 - mae: 0.3227\n",
            "Epoch 93/100\n",
            "1/1 [==============================] - 0s 11ms/step - loss: 0.4601 - mae: 0.4601\n",
            "Epoch 94/100\n",
            "1/1 [==============================] - 0s 23ms/step - loss: 0.2931 - mae: 0.2931\n",
            "Epoch 95/100\n",
            "1/1 [==============================] - 0s 14ms/step - loss: 0.1756 - mae: 0.1756\n",
            "Epoch 96/100\n",
            "1/1 [==============================] - 0s 23ms/step - loss: 0.3153 - mae: 0.3153\n",
            "Epoch 97/100\n",
            "1/1 [==============================] - 0s 11ms/step - loss: 0.2046 - mae: 0.2046\n",
            "Epoch 98/100\n",
            "1/1 [==============================] - 0s 16ms/step - loss: 0.2551 - mae: 0.2551\n",
            "Epoch 99/100\n",
            "1/1 [==============================] - 0s 21ms/step - loss: 0.2806 - mae: 0.2806\n",
            "Epoch 100/100\n",
            "1/1 [==============================] - 0s 25ms/step - loss: 0.0645 - mae: 0.0645\n"
          ]
        },
        {
          "output_type": "execute_result",
          "data": {
            "text/plain": [
              "<keras.src.callbacks.History at 0x7cb9df614220>"
            ]
          },
          "metadata": {},
          "execution_count": 17
        }
      ]
    },
    {
      "cell_type": "code",
      "source": [
        "# Let's remind ourselves about the data\n",
        "X, y"
      ],
      "metadata": {
        "colab": {
          "base_uri": "https://localhost:8080/"
        },
        "id": "Df02HdRMW1bp",
        "outputId": "961b4f40-f6bf-483a-9925-20f71bbfd7f7"
      },
      "execution_count": 18,
      "outputs": [
        {
          "output_type": "execute_result",
          "data": {
            "text/plain": [
              "(<tf.Tensor: shape=(8,), dtype=float32, numpy=array([-7., -4., -1.,  2.,  5.,  8., 11., 14.], dtype=float32)>,\n",
              " <tf.Tensor: shape=(8,), dtype=float32, numpy=array([ 3.,  6.,  9., 12., 15., 18., 21., 24.], dtype=float32)>)"
            ]
          },
          "metadata": {},
          "execution_count": 18
        }
      ]
    },
    {
      "cell_type": "code",
      "source": [
        "# Let's try to make a prediction\n",
        "model.predict([17.0])"
      ],
      "metadata": {
        "colab": {
          "base_uri": "https://localhost:8080/"
        },
        "id": "-swGWav7W8La",
        "outputId": "76107271-b2a8-45bb-ba9f-23d77514eb1e"
      },
      "execution_count": 19,
      "outputs": [
        {
          "output_type": "stream",
          "name": "stdout",
          "text": [
            "1/1 [==============================] - 0s 172ms/step\n"
          ]
        },
        {
          "output_type": "execute_result",
          "data": {
            "text/plain": [
              "array([[26.228277]], dtype=float32)"
            ]
          },
          "metadata": {},
          "execution_count": 19
        }
      ]
    },
    {
      "cell_type": "markdown",
      "source": [
        "## Evaluating a model\n",
        "In practice, a typical workflow you'll go through when building neural networks is:\n",
        "\n",
        "```\n",
        "Build a model -> Fit it -> evaluate it -> tweak a model ->  -> Fit it -> evaluate it -> tweak a model -> Fit it -> evaluate it -> tweak a model\n",
        "```"
      ],
      "metadata": {
        "id": "eaHE71W9aYqi"
      }
    },
    {
      "cell_type": "markdown",
      "source": [
        "When it comes to evaluation... there are 3 words you should memorise\n",
        "> \"Visualize, Visualize, Visualize\"\n",
        "\n",
        "It's good idea to visualize:\n",
        "\n",
        "* The data - what data we are working with? What does it look like?\n",
        "* The model itself - what does a model look like?\n",
        "* The training of model - how does a model perform while it learns?\n",
        "* The predictions of the model - how do the the predictions of a model line up against the ground truth (the original labels)?\n"
      ],
      "metadata": {
        "id": "5uabykW803SO"
      }
    },
    {
      "cell_type": "code",
      "source": [
        "# Make a bigger dataset\n",
        "X = tf.range(-100, 100, 4)\n",
        "X"
      ],
      "metadata": {
        "colab": {
          "base_uri": "https://localhost:8080/"
        },
        "id": "xeMMos6g1W3s",
        "outputId": "c41e7a9a-5999-48e4-e8b3-27de540288f8"
      },
      "execution_count": 20,
      "outputs": [
        {
          "output_type": "execute_result",
          "data": {
            "text/plain": [
              "<tf.Tensor: shape=(50,), dtype=int32, numpy=\n",
              "array([-100,  -96,  -92,  -88,  -84,  -80,  -76,  -72,  -68,  -64,  -60,\n",
              "        -56,  -52,  -48,  -44,  -40,  -36,  -32,  -28,  -24,  -20,  -16,\n",
              "        -12,   -8,   -4,    0,    4,    8,   12,   16,   20,   24,   28,\n",
              "         32,   36,   40,   44,   48,   52,   56,   60,   64,   68,   72,\n",
              "         76,   80,   84,   88,   92,   96], dtype=int32)>"
            ]
          },
          "metadata": {},
          "execution_count": 20
        }
      ]
    },
    {
      "cell_type": "code",
      "source": [
        "# Make labels for dataset\n",
        "\n",
        "y = X + 10\n",
        "y"
      ],
      "metadata": {
        "colab": {
          "base_uri": "https://localhost:8080/"
        },
        "id": "SzjJOu9L2lyu",
        "outputId": "f6b80d55-0c70-4f46-e7c1-60a1e4f9e677"
      },
      "execution_count": 21,
      "outputs": [
        {
          "output_type": "execute_result",
          "data": {
            "text/plain": [
              "<tf.Tensor: shape=(50,), dtype=int32, numpy=\n",
              "array([-90, -86, -82, -78, -74, -70, -66, -62, -58, -54, -50, -46, -42,\n",
              "       -38, -34, -30, -26, -22, -18, -14, -10,  -6,  -2,   2,   6,  10,\n",
              "        14,  18,  22,  26,  30,  34,  38,  42,  46,  50,  54,  58,  62,\n",
              "        66,  70,  74,  78,  82,  86,  90,  94,  98, 102, 106], dtype=int32)>"
            ]
          },
          "metadata": {},
          "execution_count": 21
        }
      ]
    },
    {
      "cell_type": "code",
      "source": [
        "# Visualize the data\n",
        "import matplotlib.pyplot as plt\n",
        "plt.scatter(X, y)\n"
      ],
      "metadata": {
        "colab": {
          "base_uri": "https://localhost:8080/",
          "height": 448
        },
        "id": "tHyQs2bH2v-L",
        "outputId": "4cbd93c1-4c24-437e-9369-bd31fdfc5877"
      },
      "execution_count": 22,
      "outputs": [
        {
          "output_type": "execute_result",
          "data": {
            "text/plain": [
              "<matplotlib.collections.PathCollection at 0x7cb9df55fcd0>"
            ]
          },
          "metadata": {},
          "execution_count": 22
        },
        {
          "output_type": "display_data",
          "data": {
            "text/plain": [
              "<Figure size 640x480 with 1 Axes>"
            ],
            "image/png": "[encoded data removed]"
          },
          "metadata": {}
        }
      ]
    },
    {
      "cell_type": "markdown",
      "source": [
        "### The 3 sets...\n",
        "\n",
        "**Training set** - the model learns from this data, which is typically 70-80% of the total data you have available\n",
        "\n",
        "**Validation set** - the model gets tuned on this data, which is typically 10-15% of the data available\n",
        "\n",
        "**Test set** - the model gets evaluated on this data to test what it has learned, which is typically 10-15% of the data available.\n"
      ],
      "metadata": {
        "id": "LtFy_UgJ3GvN"
      }
    },
    {
      "cell_type": "code",
      "source": [
        "# Check the length of how many samples we have\n",
        "\n",
        "len(X)"
      ],
      "metadata": {
        "colab": {
          "base_uri": "https://localhost:8080/"
        },
        "id": "QF3pURD77gDd",
        "outputId": "a51b29fb-2c02-44ce-ae27-2e0a719bb990"
      },
      "execution_count": 23,
      "outputs": [
        {
          "output_type": "execute_result",
          "data": {
            "text/plain": [
              "50"
            ]
          },
          "metadata": {},
          "execution_count": 23
        }
      ]
    },
    {
      "cell_type": "code",
      "source": [
        "# Split the data into train and test sets\n",
        "\n",
        "X_train = X[:40] # first 40 are training samples\n",
        "y_train = y[:40]\n",
        "\n",
        "X_test = X[40:] # last 10 are test samples\n",
        "y_test = y[40:]\n",
        "\n",
        "len(X_train), len(X_test), len(y_train), len(y_test)"
      ],
      "metadata": {
        "colab": {
          "base_uri": "https://localhost:8080/"
        },
        "id": "UBaKO6Ob8y7o",
        "outputId": "b9acd435-07c0-4ada-a16c-c97da1e90243"
      },
      "execution_count": 24,
      "outputs": [
        {
          "output_type": "execute_result",
          "data": {
            "text/plain": [
              "(40, 10, 40, 10)"
            ]
          },
          "metadata": {},
          "execution_count": 24
        }
      ]
    },
    {
      "cell_type": "markdown",
      "source": [
        "### Visualizing the data\n",
        "\n",
        "Now we've got our data in training and test sets... let's visualize it again!"
      ],
      "metadata": {
        "id": "ijcsjbrW-E_k"
      }
    },
    {
      "cell_type": "code",
      "source": [
        "plt.figure(figsize = (10, 7))\n",
        "\n",
        "# Plot training data in blue\n",
        "\n",
        "plt.scatter(X_train, y_train, c = 'b', label = 'Training data')\n",
        "\n",
        "# Plot test data in green\n",
        "\n",
        "plt.scatter(X_test, y_test, c = 'g', label = 'Test data')\n",
        "\n",
        "# Show legend\n",
        "\n",
        "plt.legend()"
      ],
      "metadata": {
        "colab": {
          "base_uri": "https://localhost:8080/",
          "height": 617
        },
        "id": "dEE_2i2c-b5V",
        "outputId": "1251b837-8487-47c4-e5d5-42c5089e1af9"
      },
      "execution_count": 25,
      "outputs": [
        {
          "output_type": "execute_result",
          "data": {
            "text/plain": [
              "<matplotlib.legend.Legend at 0x7cb9ddb1c040>"
            ]
          },
          "metadata": {},
          "execution_count": 25
        },
        {
          "output_type": "display_data",
          "data": {
            "text/plain": [
              "<Figure size 1000x700 with 1 Axes>"
            ],
            "image/png": "[encoded data removed]"
          },
          "metadata": {}
        }
      ]
    },
    {
      "cell_type": "code",
      "source": [
        "# Let's have a look at how to build a neural network for our data\n",
        "\n",
        "# 1. Create a model\n",
        "\n",
        "model = tf.keras.Sequential([\n",
        "    tf.keras.layers.Dense(1)\n",
        "])\n",
        "\n",
        "# 2. Compile the model\n",
        "\n",
        "model.compile(loss = tf.keras.losses.mae,\n",
        "              optimizer = tf.keras.optimizers.SGD(),\n",
        "              metrics = [\"mae\"])\n",
        "\n",
        "# 3. Fit the model\n",
        "#model.fit(X_train, y_train, epochs=100)"
      ],
      "metadata": {
        "id": "bOgcmcyu1u1y"
      },
      "execution_count": 26,
      "outputs": []
    },
    {
      "cell_type": "markdown",
      "source": [
        "### Visualizing the model"
      ],
      "metadata": {
        "id": "vAkiEqwg3LD-"
      }
    },
    {
      "cell_type": "code",
      "source": [
        "model.summary()"
      ],
      "metadata": {
        "colab": {
          "base_uri": "https://localhost:8080/",
          "height": 304
        },
        "id": "KZnW3kTH3PXk",
        "outputId": "4a896f51-a2cf-44ef-e52b-66dd1df8fac3"
      },
      "execution_count": 27,
      "outputs": [
        {
          "output_type": "error",
          "ename": "ValueError",
          "evalue": "ignored",
          "traceback": [
            "\u001b[0;31m---------------------------------------------------------------------------\u001b[0m",
            "\u001b[0;31mValueError\u001b[0m                                Traceback (most recent call last)",
            "\u001b[0;32m<ipython-input-27-5f15418b3570>\u001b[0m in \u001b[0;36m<cell line: 1>\u001b[0;34m()\u001b[0m\n\u001b[0;32m----> 1\u001b[0;31m \u001b[0mmodel\u001b[0m\u001b[0;34m.\u001b[0m\u001b[0msummary\u001b[0m\u001b[0;34m(\u001b[0m\u001b[0;34m)\u001b[0m\u001b[0;34m\u001b[0m\u001b[0;34m\u001b[0m\u001b[0m\n\u001b[0m",
            "\u001b[0;32m/usr/local/lib/python3.10/dist-packages/keras/src/engine/training.py\u001b[0m in \u001b[0;36msummary\u001b[0;34m(self, line_length, positions, print_fn, expand_nested, show_trainable, layer_range)\u001b[0m\n\u001b[1;32m   3401\u001b[0m         \"\"\"\n\u001b[1;32m   3402\u001b[0m         \u001b[0;32mif\u001b[0m \u001b[0;32mnot\u001b[0m \u001b[0mself\u001b[0m\u001b[0;34m.\u001b[0m\u001b[0mbuilt\u001b[0m\u001b[0;34m:\u001b[0m\u001b[0;34m\u001b[0m\u001b[0;34m\u001b[0m\u001b[0m\n\u001b[0;32m-> 3403\u001b[0;31m             raise ValueError(\n\u001b[0m\u001b[1;32m   3404\u001b[0m                 \u001b[0;34m\"This model has not yet been built. \"\u001b[0m\u001b[0;34m\u001b[0m\u001b[0;34m\u001b[0m\u001b[0m\n\u001b[1;32m   3405\u001b[0m                 \u001b[0;34m\"Build the model first by calling `build()` or by calling \"\u001b[0m\u001b[0;34m\u001b[0m\u001b[0;34m\u001b[0m\u001b[0m\n",
            "\u001b[0;31mValueError\u001b[0m: This model has not yet been built. Build the model first by calling `build()` or by calling the model on a batch of data."
          ]
        }
      ]
    },
    {
      "cell_type": "code",
      "source": [
        "# Let's create a model which builds automatically by defining the input_shape argument in the first layer\n",
        "\n",
        "tf.random.set_seed(42)\n",
        "\n",
        "# Create a model (same as above)\n",
        "\n",
        "model = tf.keras.Sequential([\n",
        "    tf.keras.layers.Dense(10, input_shape=[1], name='input_layer'),\n",
        "    tf.keras.layers.Dense(1, name='output_layer')\n",
        "], name='model_1')\n",
        "\n",
        "# Compile a model (same as above)\n",
        "model.compile(loss=tf.keras.losses.mae,\n",
        "              optimizer=tf.keras.optimizers.SGD(),\n",
        "              metrics=[\"mae\"])"
      ],
      "metadata": {
        "id": "KqwQO1Vz3fT7"
      },
      "execution_count": 28,
      "outputs": []
    },
    {
      "cell_type": "code",
      "source": [
        "model.summary()"
      ],
      "metadata": {
        "colab": {
          "base_uri": "https://localhost:8080/"
        },
        "id": "w44moFz24z1e",
        "outputId": "41cc54a2-871a-4477-a80d-9dbefd4caf55"
      },
      "execution_count": 29,
      "outputs": [
        {
          "output_type": "stream",
          "name": "stdout",
          "text": [
            "Model: \"model_1\"\n",
            "_________________________________________________________________\n",
            " Layer (type)                Output Shape              Param #   \n",
            "=================================================================\n",
            " input_layer (Dense)         (None, 10)                20        \n",
            "                                                                 \n",
            " output_layer (Dense)        (None, 1)                 11        \n",
            "                                                                 \n",
            "=================================================================\n",
            "Total params: 31 (124.00 Byte)\n",
            "Trainable params: 31 (124.00 Byte)\n",
            "Non-trainable params: 0 (0.00 Byte)\n",
            "_________________________________________________________________\n"
          ]
        }
      ]
    },
    {
      "cell_type": "markdown",
      "source": [
        "* Total params - total number of parameters in the model\n",
        "* Trainable parameters - these are the parameters (patterns) the model can update as it trains.\n",
        "* Non-trainable params - these parameters aren't updated during training (this is typical when you bring in already learn patterns or parameters from other models during **transfer learning**)\n",
        "\n",
        "📖**Resource:** For a more in depth overview of the trainable parameters within a layer, check out MIT's introduction to deep learning.\n",
        "\n",
        "⚓**Exercise** Try playing around with the number of hidden units in the dense layer, see how that effects the number of parameters total and trainable by calling model.summary()"
      ],
      "metadata": {
        "id": "CmDgPusF5KMt"
      }
    },
    {
      "cell_type": "code",
      "source": [
        "# Let's fit our model to the training data\n",
        "model.fit(X_train, y_train, epochs=100, verbose=0)"
      ],
      "metadata": {
        "colab": {
          "base_uri": "https://localhost:8080/"
        },
        "id": "134jJyEB8bdn",
        "outputId": "7bc5cf2a-cbc6-4951-f9c9-3ea65af776c9"
      },
      "execution_count": 30,
      "outputs": [
        {
          "output_type": "execute_result",
          "data": {
            "text/plain": [
              "<keras.src.callbacks.History at 0x7cb9ddafc880>"
            ]
          },
          "metadata": {},
          "execution_count": 30
        }
      ]
    },
    {
      "cell_type": "code",
      "source": [
        "# Get a summary of our model\n",
        "model.summary()"
      ],
      "metadata": {
        "colab": {
          "base_uri": "https://localhost:8080/"
        },
        "id": "2NiEDCahh03K",
        "outputId": "d0b4193d-1479-4392-a454-21a2f51e54fd"
      },
      "execution_count": 31,
      "outputs": [
        {
          "output_type": "stream",
          "name": "stdout",
          "text": [
            "Model: \"model_1\"\n",
            "_________________________________________________________________\n",
            " Layer (type)                Output Shape              Param #   \n",
            "=================================================================\n",
            " input_layer (Dense)         (None, 10)                20        \n",
            "                                                                 \n",
            " output_layer (Dense)        (None, 1)                 11        \n",
            "                                                                 \n",
            "=================================================================\n",
            "Total params: 31 (124.00 Byte)\n",
            "Trainable params: 31 (124.00 Byte)\n",
            "Non-trainable params: 0 (0.00 Byte)\n",
            "_________________________________________________________________\n"
          ]
        }
      ]
    },
    {
      "cell_type": "code",
      "source": [
        "from tensorflow.keras.utils import plot_model\n",
        "plot_model(model=model, show_shapes=True)"
      ],
      "metadata": {
        "colab": {
          "base_uri": "https://localhost:8080/",
          "height": 312
        },
        "id": "j6jgjS84iTKZ",
        "outputId": "3a8dab86-8953-4495-c526-8cb0082478a0"
      },
      "execution_count": 32,
      "outputs": [
        {
          "output_type": "execute_result",
          "data": {
            "image/png": "[encoded data removed]",
            "text/plain": [
              "<IPython.core.display.Image object>"
            ]
          },
          "metadata": {},
          "execution_count": 32
        }
      ]
    },
    {
      "cell_type": "markdown",
      "source": [
        "### Visualizing our model's predictions\n",
        "To visualize predictions it's a good idea to plot them against the ground truth labels.\n",
        "\n",
        "Often you'll see this in the form of `y_test` or `y_true` versus `y_pred` (ground truth versus your model predictions)"
      ],
      "metadata": {
        "id": "4YPEnsgikETD"
      }
    },
    {
      "cell_type": "code",
      "source": [
        "# Make some predictions\n",
        "\n",
        "y_pred = model.predict(X_test)\n",
        "y_pred"
      ],
      "metadata": {
        "colab": {
          "base_uri": "https://localhost:8080/"
        },
        "id": "Kj-An0oa4znY",
        "outputId": "df5aec91-e1b3-4836-e70f-3dd1cd9a03da"
      },
      "execution_count": 34,
      "outputs": [
        {
          "output_type": "stream",
          "name": "stdout",
          "text": [
            "1/1 [==============================] - 0s 117ms/step\n"
          ]
        },
        {
          "output_type": "execute_result",
          "data": {
            "text/plain": [
              "array([[ 78.14477 ],\n",
              "       [ 83.23953 ],\n",
              "       [ 88.33433 ],\n",
              "       [ 93.42911 ],\n",
              "       [ 98.52389 ],\n",
              "       [103.61868 ],\n",
              "       [108.71346 ],\n",
              "       [113.80824 ],\n",
              "       [118.90304 ],\n",
              "       [123.997826]], dtype=float32)"
            ]
          },
          "metadata": {},
          "execution_count": 34
        }
      ]
    },
    {
      "cell_type": "markdown",
      "source": [
        "**Note** If you feel like you are going to use some functionality in the future it's a good idea to turn it into a function"
      ],
      "metadata": {
        "id": "cN-qjgtx5Quh"
      }
    },
    {
      "cell_type": "code",
      "source": [
        "# Let's create a plotting function\n",
        "def plot_predictions(train_data = X_train,\n",
        "                     train_labels = y_train,\n",
        "                     test_data=X_test,\n",
        "                     test_labels=y_test,\n",
        "                     predictions=y_pred):\n",
        "  \"\"\"\n",
        "  Plots training data, test data and compares predictions to ground truth labels\n",
        "  \"\"\"\n",
        "  plt.figure(figsize=(10, 7))\n",
        "  # Plot training data in blue\n",
        "  plt.scatter(train_data, train_labels, c = \"b\", label = \"Training data\")\n",
        "  # Plot testing data in green\n",
        "  plt.scatter(test_data, test_labels, c=\"g\", label=\"Testing data\")\n",
        "  # Plot models predictions in red\n",
        "  plt.scatter(test_data, predictions, c = \"r\", label = \"Predictions\")\n",
        "  plt.legend()"
      ],
      "metadata": {
        "id": "GpqbggKN5Ehy"
      },
      "execution_count": 35,
      "outputs": []
    },
    {
      "cell_type": "code",
      "source": [
        "plot_predictions(train_data=X_train,\n",
        "                 train_labels=y_train,\n",
        "                 test_data=X_test,\n",
        "                 test_labels=y_test,\n",
        "                 predictions=y_pred)"
      ],
      "metadata": {
        "colab": {
          "base_uri": "https://localhost:8080/",
          "height": 599
        },
        "id": "77AWq7aL7WCF",
        "outputId": "6ce21564-7064-4145-89a0-13986a480fac"
      },
      "execution_count": 38,
      "outputs": [
        {
          "output_type": "display_data",
          "data": {
            "text/plain": [
              "<Figure size 1000x700 with 1 Axes>"
            ],
            "image/png": "[encoded data removed]"
          },
          "metadata": {}
        }
      ]
    },
    {
      "cell_type": "markdown",
      "source": [
        "### Evaluating our model's predictions with regression evaluation metrics.\n",
        "Depending on the problem you are working on, there will be different evaluation metric to evaluate your model's performance.\n",
        "\n",
        "Since we are working on a regression, two of the main metrics:\n",
        "* MAE - mean absolute error, \"on average\", how wrong is each of my model's predictions\"\n",
        "* MSE - mean square error, \"square the average errors\""
      ],
      "metadata": {
        "id": "jlkrCCOI7zpi"
      }
    },
    {
      "cell_type": "code",
      "source": [
        "# Evaluate the model on the test set\n",
        "model.evaluate(X_test, y_test)"
      ],
      "metadata": {
        "colab": {
          "base_uri": "https://localhost:8080/"
        },
        "id": "cRkOZV8yHjmQ",
        "outputId": "280df8b3-087e-4f4a-bcaa-214c73d8a190"
      },
      "execution_count": 39,
      "outputs": [
        {
          "output_type": "stream",
          "name": "stdout",
          "text": [
            "1/1 [==============================] - 1s 762ms/step - loss: 13.0713 - mae: 13.0713\n"
          ]
        },
        {
          "output_type": "execute_result",
          "data": {
            "text/plain": [
              "[13.0712890625, 13.0712890625]"
            ]
          },
          "metadata": {},
          "execution_count": 39
        }
      ]
    },
    {
      "cell_type": "code",
      "source": [
        "# Calculate the main absolute error\n",
        "tf.metrics.mean_absolute_error(y_test, y_pred)"
      ],
      "metadata": {
        "colab": {
          "base_uri": "https://localhost:8080/"
        },
        "id": "i-eLUncBJ1YQ",
        "outputId": "0aca0de1-b9cf-4a48-8cb9-7946a1ac5d71"
      },
      "execution_count": 42,
      "outputs": [
        {
          "output_type": "execute_result",
          "data": {
            "text/plain": [
              "<tf.Tensor: shape=(10,), dtype=float32, numpy=\n",
              "array([12.3420925, 10.5520935, 10.       , 10.685822 , 12.714333 ,\n",
              "       16.094946 , 20.713463 , 25.808243 , 30.90304  , 35.997826 ],\n",
              "      dtype=float32)>"
            ]
          },
          "metadata": {},
          "execution_count": 42
        }
      ]
    },
    {
      "cell_type": "code",
      "source": [
        "y_pred"
      ],
      "metadata": {
        "colab": {
          "base_uri": "https://localhost:8080/"
        },
        "id": "QouKt4idKD9_",
        "outputId": "81767836-53ce-40c1-888d-20c7e17e305e"
      },
      "execution_count": 40,
      "outputs": [
        {
          "output_type": "execute_result",
          "data": {
            "text/plain": [
              "array([[ 78.14477 ],\n",
              "       [ 83.23953 ],\n",
              "       [ 88.33433 ],\n",
              "       [ 93.42911 ],\n",
              "       [ 98.52389 ],\n",
              "       [103.61868 ],\n",
              "       [108.71346 ],\n",
              "       [113.80824 ],\n",
              "       [118.90304 ],\n",
              "       [123.997826]], dtype=float32)"
            ]
          },
          "metadata": {},
          "execution_count": 40
        }
      ]
    },
    {
      "cell_type": "code",
      "source": [
        "y_test"
      ],
      "metadata": {
        "colab": {
          "base_uri": "https://localhost:8080/"
        },
        "id": "9Sefo97aKFI7",
        "outputId": "96380cc7-22d4-4560-eb64-c868cd3be7f0"
      },
      "execution_count": 41,
      "outputs": [
        {
          "output_type": "execute_result",
          "data": {
            "text/plain": [
              "<tf.Tensor: shape=(10,), dtype=int32, numpy=array([ 70,  74,  78,  82,  86,  90,  94,  98, 102, 106], dtype=int32)>"
            ]
          },
          "metadata": {},
          "execution_count": 41
        }
      ]
    }
  ]
}
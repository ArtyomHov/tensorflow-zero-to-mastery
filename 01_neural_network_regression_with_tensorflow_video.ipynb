{
  "nbformat": 4,
  "nbformat_minor": 0,
  "metadata": {
    "colab": {
      "provenance": [],
      "authorship_tag": "ABX9TyMwhtOm/Ls+XKy7VDn0q63A",
      "include_colab_link": true
    },
    "kernelspec": {
      "name": "python3",
      "display_name": "Python 3"
    },
    "language_info": {
      "name": "python"
    }
  },
  "cells": [
    {
      "cell_type": "markdown",
      "metadata": {
        "id": "view-in-github",
        "colab_type": "text"
      },
      "source": [
        "<a href=\"https://colab.research.google.com/github/ArtyomHov/tensorflow-zero-to-mastery/blob/master/01_neural_network_regression_with_tensorflow_video.ipynb\" target=\"_parent\"><img src=\"https://colab.research.google.com/assets/colab-badge.svg\" alt=\"Open In Colab\"/></a>"
      ]
    },
    {
      "cell_type": "markdown",
      "source": [
        "# Introduction to Regression with Neural Networks inTensorFlow\n",
        "There are many definitions for regressions model but in our case, we are going to simplify it: predicting a numerical variable based on some other combination of variables, even shorter... predicting a number."
      ],
      "metadata": {
        "id": "1VZR2AOXlGVn"
      }
    },
    {
      "cell_type": "code",
      "source": [
        "# Import TensorFlow\n",
        "import tensorflow as tf\n",
        "print(tf.__version__)"
      ],
      "metadata": {
        "colab": {
          "base_uri": "https://localhost:8080/"
        },
        "id": "UVJd_-QHVzjA",
        "outputId": "dc31c12a-db5e-49c9-ae60-2cec20dc11e2"
      },
      "execution_count": 1,
      "outputs": [
        {
          "output_type": "stream",
          "name": "stdout",
          "text": [
            "2.13.0\n"
          ]
        }
      ]
    },
    {
      "cell_type": "markdown",
      "source": [
        "### Creating a data to view and fit"
      ],
      "metadata": {
        "id": "OwXoHRGWbhmR"
      }
    },
    {
      "cell_type": "code",
      "source": [
        "import numpy as np\n",
        "import matplotlib.pyplot as plt\n",
        "\n",
        "# Create features\n",
        "X = np.array([-7.0, -4.0, -1.0, 2.0, 5.0, 8.0, 11.0, 14.0])\n",
        "\n",
        "# Create labels\n",
        "y = np.array([3.0, 6.0, 9.0, 12.0, 15.0, 18.0, 21.0, 24.0])\n",
        "\n",
        "# Visualize it\n",
        "plt.scatter(X, y)"
      ],
      "metadata": {
        "colab": {
          "base_uri": "https://localhost:8080/",
          "height": 453
        },
        "id": "WbMYpe5GblCH",
        "outputId": "5551561a-a82d-4dfe-e949-2fb0e706be6a"
      },
      "execution_count": 2,
      "outputs": [
        {
          "output_type": "execute_result",
          "data": {
            "text/plain": [
              "<matplotlib.collections.PathCollection at 0x7c2bc44b4a60>"
            ]
          },
          "metadata": {},
          "execution_count": 2
        },
        {
          "output_type": "display_data",
          "data": {
            "text/plain": [
              "<Figure size 640x480 with 1 Axes>"
            ],
            "image/png": "[encoded data removed]"
          },
          "metadata": {}
        }
      ]
    },
    {
      "cell_type": "code",
      "source": [
        "y == 10 + X"
      ],
      "metadata": {
        "colab": {
          "base_uri": "https://localhost:8080/"
        },
        "id": "DysXP8dfjrDP",
        "outputId": "66cab663-1303-405c-c657-3f9eeb50c234"
      },
      "execution_count": 3,
      "outputs": [
        {
          "output_type": "execute_result",
          "data": {
            "text/plain": [
              "array([ True,  True,  True,  True,  True,  True,  True,  True])"
            ]
          },
          "metadata": {},
          "execution_count": 3
        }
      ]
    },
    {
      "cell_type": "markdown",
      "source": [
        "### Input and Output shapes"
      ],
      "metadata": {
        "id": "qi9UL0mwj-xt"
      }
    },
    {
      "cell_type": "code",
      "source": [
        "# Create a demo tensor for our housing price prediction problem\n",
        "house_info = tf.constant([\"bedroom\", \"bathroom\", \"garage\"])\n",
        "house_price = tf.constant([939700])\n",
        "house_info, house_price"
      ],
      "metadata": {
        "colab": {
          "base_uri": "https://localhost:8080/"
        },
        "id": "e1s8u9eykBSq",
        "outputId": "6d7c0f26-06b2-4076-def3-f7d735c224dd"
      },
      "execution_count": 4,
      "outputs": [
        {
          "output_type": "execute_result",
          "data": {
            "text/plain": [
              "(<tf.Tensor: shape=(3,), dtype=string, numpy=array([b'bedroom', b'bathroom', b'garage'], dtype=object)>,\n",
              " <tf.Tensor: shape=(1,), dtype=int32, numpy=array([939700], dtype=int32)>)"
            ]
          },
          "metadata": {},
          "execution_count": 4
        }
      ]
    },
    {
      "cell_type": "code",
      "source": [
        "input_shape = X.shape\n",
        "output_shape = y.shape\n",
        "input_shape, output_shape"
      ],
      "metadata": {
        "colab": {
          "base_uri": "https://localhost:8080/"
        },
        "id": "epBVYvBFmsUr",
        "outputId": "ed974a24-a930-43f1-cb0c-6150ecfe1f70"
      },
      "execution_count": 5,
      "outputs": [
        {
          "output_type": "execute_result",
          "data": {
            "text/plain": [
              "((8,), (8,))"
            ]
          },
          "metadata": {},
          "execution_count": 5
        }
      ]
    },
    {
      "cell_type": "code",
      "source": [
        "X[0].ndim"
      ],
      "metadata": {
        "colab": {
          "base_uri": "https://localhost:8080/"
        },
        "id": "6nwbN3winPfL",
        "outputId": "dab749bf-7f4c-434c-c067-b9b5aec339a5"
      },
      "execution_count": 6,
      "outputs": [
        {
          "output_type": "execute_result",
          "data": {
            "text/plain": [
              "0"
            ]
          },
          "metadata": {},
          "execution_count": 6
        }
      ]
    },
    {
      "cell_type": "code",
      "source": [
        "X[0], y[0]"
      ],
      "metadata": {
        "colab": {
          "base_uri": "https://localhost:8080/"
        },
        "id": "NLWDrubVnZRp",
        "outputId": "4e8b3692-0b97-4975-fb1b-ca7d7297d9e4"
      },
      "execution_count": 7,
      "outputs": [
        {
          "output_type": "execute_result",
          "data": {
            "text/plain": [
              "(-7.0, 3.0)"
            ]
          },
          "metadata": {},
          "execution_count": 7
        }
      ]
    },
    {
      "cell_type": "code",
      "source": [
        "# Turn our numpy arrays into tensors\n",
        "\n",
        "X = tf.cast(tf.constant(X), dtype = tf.float32)\n",
        "y = tf.cast(tf.constant(y), dtype = tf.float32)\n",
        "X, y"
      ],
      "metadata": {
        "colab": {
          "base_uri": "https://localhost:8080/"
        },
        "id": "lkgJBV9lthlb",
        "outputId": "f37e4c5e-13c0-4f7a-9afb-69433784b0ea"
      },
      "execution_count": 8,
      "outputs": [
        {
          "output_type": "execute_result",
          "data": {
            "text/plain": [
              "(<tf.Tensor: shape=(8,), dtype=float32, numpy=array([-7., -4., -1.,  2.,  5.,  8., 11., 14.], dtype=float32)>,\n",
              " <tf.Tensor: shape=(8,), dtype=float32, numpy=array([ 3.,  6.,  9., 12., 15., 18., 21., 24.], dtype=float32)>)"
            ]
          },
          "metadata": {},
          "execution_count": 8
        }
      ]
    },
    {
      "cell_type": "code",
      "source": [
        "input_shape = X[0].shape\n",
        "output_shape = y[0].shape\n",
        "input_shape, output_shape"
      ],
      "metadata": {
        "colab": {
          "base_uri": "https://localhost:8080/"
        },
        "id": "anNjQu5nuFbs",
        "outputId": "1c27e283-9d4e-4d8d-d6d7-58ecee1d9766"
      },
      "execution_count": 9,
      "outputs": [
        {
          "output_type": "execute_result",
          "data": {
            "text/plain": [
              "(TensorShape([]), TensorShape([]))"
            ]
          },
          "metadata": {},
          "execution_count": 9
        }
      ]
    },
    {
      "cell_type": "code",
      "source": [
        "plt.scatter(X, y)"
      ],
      "metadata": {
        "colab": {
          "base_uri": "https://localhost:8080/",
          "height": 453
        },
        "id": "xn8LYwFbud9N",
        "outputId": "41f70634-b5b4-4046-be09-619e24384bdf"
      },
      "execution_count": 10,
      "outputs": [
        {
          "output_type": "execute_result",
          "data": {
            "text/plain": [
              "<matplotlib.collections.PathCollection at 0x7c2bc23ff0a0>"
            ]
          },
          "metadata": {},
          "execution_count": 10
        },
        {
          "output_type": "display_data",
          "data": {
            "text/plain": [
              "<Figure size 640x480 with 1 Axes>"
            ],
            "image/png": "[encoded data removed]"
          },
          "metadata": {}
        }
      ]
    },
    {
      "cell_type": "markdown",
      "source": [
        "## Steps in modeling with TensorFlow\n",
        "\n",
        "1. **Creating a model** - define the input and output layers, as well as the hidden layers of a deep learning model\n",
        "2. **Compiling a model** - define the loss function (in other words, the function which tells our model how wrong it is) and the optimizer (tells out model how to improve the patterns its learning) and evaluation metrics (what we can use to interpret the performance of our model).\n",
        "3. **Fitting a model** - letting the model try to find patterns between X and y (features and labels)"
      ],
      "metadata": {
        "id": "Ci7pWGwOul-7"
      }
    },
    {
      "cell_type": "code",
      "source": [
        "# Set random seed\n",
        "tf.random.set_seed(42)\n",
        "\n",
        "# 1. Create a model using the Sequential API\n",
        "model = tf.keras.Sequential([\n",
        "    tf.keras.layers.Dense(1)\n",
        "])\n",
        "\n",
        "# 2. Compile the model\n",
        "model.compile(loss = tf.keras.losses.mae, # mae is short for mean absolute error\n",
        "              optimizer = tf.keras.optimizers.SGD(), # sgd is short for stochastic gradient descent\n",
        "              metrics = [\"mae\"]\n",
        "              )\n",
        "\n",
        "# 3. Fit the model\n",
        "model.fit(tf.expand_dims(X, axis = -1), y, epochs = 5)"
      ],
      "metadata": {
        "colab": {
          "base_uri": "https://localhost:8080/"
        },
        "id": "CEKhHn6Fw9FG",
        "outputId": "fc43735a-b033-46cf-ebc8-2f8278e7d2d0"
      },
      "execution_count": 11,
      "outputs": [
        {
          "output_type": "stream",
          "name": "stdout",
          "text": [
            "Epoch 1/5\n",
            "1/1 [==============================] - 0s 491ms/step - loss: 9.3155 - mae: 9.3155\n",
            "Epoch 2/5\n",
            "1/1 [==============================] - 0s 12ms/step - loss: 9.1830 - mae: 9.1830\n",
            "Epoch 3/5\n",
            "1/1 [==============================] - 0s 15ms/step - loss: 9.0505 - mae: 9.0505\n",
            "Epoch 4/5\n",
            "1/1 [==============================] - 0s 17ms/step - loss: 8.9180 - mae: 8.9180\n",
            "Epoch 5/5\n",
            "1/1 [==============================] - 0s 13ms/step - loss: 8.7855 - mae: 8.7855\n"
          ]
        },
        {
          "output_type": "execute_result",
          "data": {
            "text/plain": [
              "<keras.src.callbacks.History at 0x7c2bc038a980>"
            ]
          },
          "metadata": {},
          "execution_count": 11
        }
      ]
    },
    {
      "cell_type": "code",
      "source": [
        "# Check X and y\n",
        "X, y"
      ],
      "metadata": {
        "colab": {
          "base_uri": "https://localhost:8080/"
        },
        "id": "NCWuVU1n2oAT",
        "outputId": "ca2ea442-b0f3-4d3f-e18a-08b4f9740f34"
      },
      "execution_count": 12,
      "outputs": [
        {
          "output_type": "execute_result",
          "data": {
            "text/plain": [
              "(<tf.Tensor: shape=(8,), dtype=float32, numpy=array([-7., -4., -1.,  2.,  5.,  8., 11., 14.], dtype=float32)>,\n",
              " <tf.Tensor: shape=(8,), dtype=float32, numpy=array([ 3.,  6.,  9., 12., 15., 18., 21., 24.], dtype=float32)>)"
            ]
          },
          "metadata": {},
          "execution_count": 12
        }
      ]
    },
    {
      "cell_type": "code",
      "source": [
        "# Try to make prediction using our model\n",
        "y_pred = model.predict([17.0])\n",
        "y_pred"
      ],
      "metadata": {
        "colab": {
          "base_uri": "https://localhost:8080/"
        },
        "id": "z72T849G2ueu",
        "outputId": "6c8eb4f3-7a98-4c85-fb11-a0828b7d535d"
      },
      "execution_count": 13,
      "outputs": [
        {
          "output_type": "stream",
          "name": "stdout",
          "text": [
            "1/1 [==============================] - 0s 88ms/step\n"
          ]
        },
        {
          "output_type": "execute_result",
          "data": {
            "text/plain": [
              "array([[23.349684]], dtype=float32)"
            ]
          },
          "metadata": {},
          "execution_count": 13
        }
      ]
    },
    {
      "cell_type": "markdown",
      "source": [
        "## Improving model\n",
        "\n",
        "We can improve our model by altering the steps we took to create a model.\n",
        "\n",
        "1. **Creating a model** - here we might add more layers, increase the number of hidden units (all called neurons) within each of the hidden layers, change the activation function of each layer.\n",
        "2. **Compiling a model** - here we might change the optimization function or perhaps the **learning rate** of the optimization function.\n",
        "3. **Fitting a model** - here we might fit a model for more **epochs** (leave for training longer) or on more data (give the model more examples to learn)"
      ],
      "metadata": {
        "id": "fDJ8_YOB3XS-"
      }
    },
    {
      "cell_type": "code",
      "source": [
        "# Let'srebuild our model\n",
        "\n",
        "# 1. Create the model\n",
        "model = tf.keras.Sequential([\n",
        "    tf.keras.layers.Dense(1)\n",
        "])\n",
        "\n",
        "# 2. Compile the model\n",
        "model.compile(loss = tf.keras.losses.mae,\n",
        "              optimizer= tf.keras.optimizers.SGD(),\n",
        "              metrics = [\"mae\"])\n",
        "\n",
        "# 3. Fit the model (this time we'll train for longer)\n",
        "model.fit(tf.expand_dims(X, axis = -1), y, epochs=100)"
      ],
      "metadata": {
        "colab": {
          "base_uri": "https://localhost:8080/"
        },
        "id": "boXPypT_F_Jy",
        "outputId": "3475a3d3-e567-4770-c6a9-d7691684dc07"
      },
      "execution_count": 14,
      "outputs": [
        {
          "output_type": "stream",
          "name": "stdout",
          "text": [
            "Epoch 1/100\n",
            "1/1 [==============================] - 0s 333ms/step - loss: 14.6241 - mae: 14.6241\n",
            "Epoch 2/100\n",
            "1/1 [==============================] - 0s 13ms/step - loss: 14.4916 - mae: 14.4916\n",
            "Epoch 3/100\n",
            "1/1 [==============================] - 0s 10ms/step - loss: 14.3591 - mae: 14.3591\n",
            "Epoch 4/100\n",
            "1/1 [==============================] - 0s 9ms/step - loss: 14.2266 - mae: 14.2266\n",
            "Epoch 5/100\n",
            "1/1 [==============================] - 0s 12ms/step - loss: 14.0941 - mae: 14.0941\n",
            "Epoch 6/100\n",
            "1/1 [==============================] - 0s 9ms/step - loss: 13.9616 - mae: 13.9616\n",
            "Epoch 7/100\n",
            "1/1 [==============================] - 0s 9ms/step - loss: 13.8291 - mae: 13.8291\n",
            "Epoch 8/100\n",
            "1/1 [==============================] - 0s 11ms/step - loss: 13.6966 - mae: 13.6966\n",
            "Epoch 9/100\n",
            "1/1 [==============================] - 0s 11ms/step - loss: 13.5641 - mae: 13.5641\n",
            "Epoch 10/100\n",
            "1/1 [==============================] - 0s 12ms/step - loss: 13.4316 - mae: 13.4316\n",
            "Epoch 11/100\n",
            "1/1 [==============================] - 0s 12ms/step - loss: 13.2991 - mae: 13.2991\n",
            "Epoch 12/100\n",
            "1/1 [==============================] - 0s 10ms/step - loss: 13.1666 - mae: 13.1666\n",
            "Epoch 13/100\n",
            "1/1 [==============================] - 0s 8ms/step - loss: 13.0341 - mae: 13.0341\n",
            "Epoch 14/100\n",
            "1/1 [==============================] - 0s 9ms/step - loss: 12.9016 - mae: 12.9016\n",
            "Epoch 15/100\n",
            "1/1 [==============================] - 0s 10ms/step - loss: 12.7691 - mae: 12.7691\n",
            "Epoch 16/100\n",
            "1/1 [==============================] - 0s 8ms/step - loss: 12.6366 - mae: 12.6366\n",
            "Epoch 17/100\n",
            "1/1 [==============================] - 0s 13ms/step - loss: 12.5041 - mae: 12.5041\n",
            "Epoch 18/100\n",
            "1/1 [==============================] - 0s 11ms/step - loss: 12.3716 - mae: 12.3716\n",
            "Epoch 19/100\n",
            "1/1 [==============================] - 0s 10ms/step - loss: 12.2391 - mae: 12.2391\n",
            "Epoch 20/100\n",
            "1/1 [==============================] - 0s 10ms/step - loss: 12.1066 - mae: 12.1066\n",
            "Epoch 21/100\n",
            "1/1 [==============================] - 0s 10ms/step - loss: 11.9741 - mae: 11.9741\n",
            "Epoch 22/100\n",
            "1/1 [==============================] - 0s 9ms/step - loss: 11.8416 - mae: 11.8416\n",
            "Epoch 23/100\n",
            "1/1 [==============================] - 0s 9ms/step - loss: 11.7091 - mae: 11.7091\n",
            "Epoch 24/100\n",
            "1/1 [==============================] - 0s 9ms/step - loss: 11.5766 - mae: 11.5766\n",
            "Epoch 25/100\n",
            "1/1 [==============================] - 0s 9ms/step - loss: 11.4441 - mae: 11.4441\n",
            "Epoch 26/100\n",
            "1/1 [==============================] - 0s 9ms/step - loss: 11.3116 - mae: 11.3116\n",
            "Epoch 27/100\n",
            "1/1 [==============================] - 0s 13ms/step - loss: 11.1791 - mae: 11.1791\n",
            "Epoch 28/100\n",
            "1/1 [==============================] - 0s 14ms/step - loss: 11.0466 - mae: 11.0466\n",
            "Epoch 29/100\n",
            "1/1 [==============================] - 0s 10ms/step - loss: 10.9141 - mae: 10.9141\n",
            "Epoch 30/100\n",
            "1/1 [==============================] - 0s 10ms/step - loss: 10.7816 - mae: 10.7816\n",
            "Epoch 31/100\n",
            "1/1 [==============================] - 0s 10ms/step - loss: 10.6491 - mae: 10.6491\n",
            "Epoch 32/100\n",
            "1/1 [==============================] - 0s 11ms/step - loss: 10.5166 - mae: 10.5166\n",
            "Epoch 33/100\n",
            "1/1 [==============================] - 0s 10ms/step - loss: 10.3841 - mae: 10.3841\n",
            "Epoch 34/100\n",
            "1/1 [==============================] - 0s 8ms/step - loss: 10.2516 - mae: 10.2516\n",
            "Epoch 35/100\n",
            "1/1 [==============================] - 0s 9ms/step - loss: 10.1191 - mae: 10.1191\n",
            "Epoch 36/100\n",
            "1/1 [==============================] - 0s 9ms/step - loss: 9.9866 - mae: 9.9866\n",
            "Epoch 37/100\n",
            "1/1 [==============================] - 0s 9ms/step - loss: 9.8541 - mae: 9.8541\n",
            "Epoch 38/100\n",
            "1/1 [==============================] - 0s 8ms/step - loss: 9.7216 - mae: 9.7216\n",
            "Epoch 39/100\n",
            "1/1 [==============================] - 0s 9ms/step - loss: 9.5891 - mae: 9.5891\n",
            "Epoch 40/100\n",
            "1/1 [==============================] - 0s 9ms/step - loss: 9.4566 - mae: 9.4566\n",
            "Epoch 41/100\n",
            "1/1 [==============================] - 0s 9ms/step - loss: 9.3241 - mae: 9.3241\n",
            "Epoch 42/100\n",
            "1/1 [==============================] - 0s 9ms/step - loss: 9.1916 - mae: 9.1916\n",
            "Epoch 43/100\n",
            "1/1 [==============================] - 0s 9ms/step - loss: 9.0591 - mae: 9.0591\n",
            "Epoch 44/100\n",
            "1/1 [==============================] - 0s 9ms/step - loss: 8.9266 - mae: 8.9266\n",
            "Epoch 45/100\n",
            "1/1 [==============================] - 0s 9ms/step - loss: 8.7941 - mae: 8.7941\n",
            "Epoch 46/100\n",
            "1/1 [==============================] - 0s 9ms/step - loss: 8.6616 - mae: 8.6616\n",
            "Epoch 47/100\n",
            "1/1 [==============================] - 0s 9ms/step - loss: 8.5291 - mae: 8.5291\n",
            "Epoch 48/100\n",
            "1/1 [==============================] - 0s 9ms/step - loss: 8.3966 - mae: 8.3966\n",
            "Epoch 49/100\n",
            "1/1 [==============================] - 0s 11ms/step - loss: 8.2641 - mae: 8.2641\n",
            "Epoch 50/100\n",
            "1/1 [==============================] - 0s 10ms/step - loss: 8.1316 - mae: 8.1316\n",
            "Epoch 51/100\n",
            "1/1 [==============================] - 0s 10ms/step - loss: 7.9991 - mae: 7.9991\n",
            "Epoch 52/100\n",
            "1/1 [==============================] - 0s 9ms/step - loss: 7.8666 - mae: 7.8666\n",
            "Epoch 53/100\n",
            "1/1 [==============================] - 0s 11ms/step - loss: 7.7341 - mae: 7.7341\n",
            "Epoch 54/100\n",
            "1/1 [==============================] - 0s 15ms/step - loss: 7.6016 - mae: 7.6016\n",
            "Epoch 55/100\n",
            "1/1 [==============================] - 0s 12ms/step - loss: 7.4691 - mae: 7.4691\n",
            "Epoch 56/100\n",
            "1/1 [==============================] - 0s 9ms/step - loss: 7.3366 - mae: 7.3366\n",
            "Epoch 57/100\n",
            "1/1 [==============================] - 0s 10ms/step - loss: 7.2041 - mae: 7.2041\n",
            "Epoch 58/100\n",
            "1/1 [==============================] - 0s 10ms/step - loss: 7.0725 - mae: 7.0725\n",
            "Epoch 59/100\n",
            "1/1 [==============================] - 0s 10ms/step - loss: 7.0669 - mae: 7.0669\n",
            "Epoch 60/100\n",
            "1/1 [==============================] - 0s 11ms/step - loss: 7.0613 - mae: 7.0613\n",
            "Epoch 61/100\n",
            "1/1 [==============================] - 0s 11ms/step - loss: 7.0556 - mae: 7.0556\n",
            "Epoch 62/100\n",
            "1/1 [==============================] - 0s 11ms/step - loss: 7.0500 - mae: 7.0500\n",
            "Epoch 63/100\n",
            "1/1 [==============================] - 0s 10ms/step - loss: 7.0444 - mae: 7.0444\n",
            "Epoch 64/100\n",
            "1/1 [==============================] - 0s 9ms/step - loss: 7.0388 - mae: 7.0388\n",
            "Epoch 65/100\n",
            "1/1 [==============================] - 0s 10ms/step - loss: 7.0331 - mae: 7.0331\n",
            "Epoch 66/100\n",
            "1/1 [==============================] - 0s 13ms/step - loss: 7.0275 - mae: 7.0275\n",
            "Epoch 67/100\n",
            "1/1 [==============================] - 0s 12ms/step - loss: 7.0219 - mae: 7.0219\n",
            "Epoch 68/100\n",
            "1/1 [==============================] - 0s 9ms/step - loss: 7.0163 - mae: 7.0163\n",
            "Epoch 69/100\n",
            "1/1 [==============================] - 0s 10ms/step - loss: 7.0106 - mae: 7.0106\n",
            "Epoch 70/100\n",
            "1/1 [==============================] - 0s 9ms/step - loss: 7.0050 - mae: 7.0050\n",
            "Epoch 71/100\n",
            "1/1 [==============================] - 0s 9ms/step - loss: 6.9994 - mae: 6.9994\n",
            "Epoch 72/100\n",
            "1/1 [==============================] - 0s 9ms/step - loss: 6.9938 - mae: 6.9938\n",
            "Epoch 73/100\n",
            "1/1 [==============================] - 0s 9ms/step - loss: 6.9881 - mae: 6.9881\n",
            "Epoch 74/100\n",
            "1/1 [==============================] - 0s 9ms/step - loss: 6.9825 - mae: 6.9825\n",
            "Epoch 75/100\n",
            "1/1 [==============================] - 0s 9ms/step - loss: 6.9769 - mae: 6.9769\n",
            "Epoch 76/100\n",
            "1/1 [==============================] - 0s 9ms/step - loss: 6.9713 - mae: 6.9713\n",
            "Epoch 77/100\n",
            "1/1 [==============================] - 0s 8ms/step - loss: 6.9656 - mae: 6.9656\n",
            "Epoch 78/100\n",
            "1/1 [==============================] - 0s 9ms/step - loss: 6.9600 - mae: 6.9600\n",
            "Epoch 79/100\n",
            "1/1 [==============================] - 0s 10ms/step - loss: 6.9544 - mae: 6.9544\n",
            "Epoch 80/100\n",
            "1/1 [==============================] - 0s 11ms/step - loss: 6.9488 - mae: 6.9488\n",
            "Epoch 81/100\n",
            "1/1 [==============================] - 0s 11ms/step - loss: 6.9431 - mae: 6.9431\n",
            "Epoch 82/100\n",
            "1/1 [==============================] - 0s 10ms/step - loss: 6.9375 - mae: 6.9375\n",
            "Epoch 83/100\n",
            "1/1 [==============================] - 0s 12ms/step - loss: 6.9319 - mae: 6.9319\n",
            "Epoch 84/100\n",
            "1/1 [==============================] - 0s 22ms/step - loss: 6.9263 - mae: 6.9263\n",
            "Epoch 85/100\n",
            "1/1 [==============================] - 0s 17ms/step - loss: 6.9206 - mae: 6.9206\n",
            "Epoch 86/100\n",
            "1/1 [==============================] - 0s 31ms/step - loss: 6.9150 - mae: 6.9150\n",
            "Epoch 87/100\n",
            "1/1 [==============================] - 0s 17ms/step - loss: 6.9094 - mae: 6.9094\n",
            "Epoch 88/100\n",
            "1/1 [==============================] - 0s 10ms/step - loss: 6.9038 - mae: 6.9038\n",
            "Epoch 89/100\n",
            "1/1 [==============================] - 0s 10ms/step - loss: 6.8981 - mae: 6.8981\n",
            "Epoch 90/100\n",
            "1/1 [==============================] - 0s 26ms/step - loss: 6.8925 - mae: 6.8925\n",
            "Epoch 91/100\n",
            "1/1 [==============================] - 0s 17ms/step - loss: 6.8869 - mae: 6.8869\n",
            "Epoch 92/100\n",
            "1/1 [==============================] - 0s 24ms/step - loss: 6.8813 - mae: 6.8813\n",
            "Epoch 93/100\n",
            "1/1 [==============================] - 0s 26ms/step - loss: 6.8756 - mae: 6.8756\n",
            "Epoch 94/100\n",
            "1/1 [==============================] - 0s 22ms/step - loss: 6.8700 - mae: 6.8700\n",
            "Epoch 95/100\n",
            "1/1 [==============================] - 0s 23ms/step - loss: 6.8644 - mae: 6.8644\n",
            "Epoch 96/100\n",
            "1/1 [==============================] - 0s 23ms/step - loss: 6.8588 - mae: 6.8588\n",
            "Epoch 97/100\n",
            "1/1 [==============================] - 0s 28ms/step - loss: 6.8531 - mae: 6.8531\n",
            "Epoch 98/100\n",
            "1/1 [==============================] - 0s 27ms/step - loss: 6.8475 - mae: 6.8475\n",
            "Epoch 99/100\n",
            "1/1 [==============================] - 0s 19ms/step - loss: 6.8419 - mae: 6.8419\n",
            "Epoch 100/100\n",
            "1/1 [==============================] - 0s 22ms/step - loss: 6.8363 - mae: 6.8363\n"
          ]
        },
        {
          "output_type": "execute_result",
          "data": {
            "text/plain": [
              "<keras.src.callbacks.History at 0x7c2bb270ee00>"
            ]
          },
          "metadata": {},
          "execution_count": 14
        }
      ]
    },
    {
      "cell_type": "code",
      "source": [
        "# Remind ourselves of the data\n",
        "\n",
        "X, y"
      ],
      "metadata": {
        "colab": {
          "base_uri": "https://localhost:8080/"
        },
        "id": "K8D9tuf0OWKZ",
        "outputId": "2f218c65-323b-46c6-9dea-2fd2390f4dcd"
      },
      "execution_count": 15,
      "outputs": [
        {
          "output_type": "execute_result",
          "data": {
            "text/plain": [
              "(<tf.Tensor: shape=(8,), dtype=float32, numpy=array([-7., -4., -1.,  2.,  5.,  8., 11., 14.], dtype=float32)>,\n",
              " <tf.Tensor: shape=(8,), dtype=float32, numpy=array([ 3.,  6.,  9., 12., 15., 18., 21., 24.], dtype=float32)>)"
            ]
          },
          "metadata": {},
          "execution_count": 15
        }
      ]
    },
    {
      "cell_type": "code",
      "source": [
        "# Let's see if our model's prediction has inproved\n",
        "\n",
        "model.predict([17.0])"
      ],
      "metadata": {
        "colab": {
          "base_uri": "https://localhost:8080/"
        },
        "id": "Ev8cp9QTOjHR",
        "outputId": "a14c0144-a1fe-4a74-844f-0348257265a5"
      },
      "execution_count": 16,
      "outputs": [
        {
          "output_type": "stream",
          "name": "stdout",
          "text": [
            "1/1 [==============================] - 0s 102ms/step\n"
          ]
        },
        {
          "output_type": "execute_result",
          "data": {
            "text/plain": [
              "array([[29.34777]], dtype=float32)"
            ]
          },
          "metadata": {},
          "execution_count": 16
        }
      ]
    },
    {
      "cell_type": "code",
      "source": [
        "# Let's see if we can make another change to improve our model\n",
        "\n",
        "# 1. Create the model (this time with an extra hidden layer with 100 hidden units)\n",
        "model = tf.keras.Sequential([\n",
        "    tf.keras.layers.Dense(50, activation = None),\n",
        "    tf.keras.layers.Dense(1)\n",
        "])\n",
        "\n",
        "# 2. Compile the model\n",
        "model.compile(loss = tf.keras.losses.mae,\n",
        "              optimizer = tf.keras.optimizers.Adam(learning_rate = 0.01),\n",
        "              metrics=[\"mae\"])\n",
        "\n",
        "# 3. Fit the model\n",
        "model.fit(tf.expand_dims(X, axis = -1), y, epochs = 100)"
      ],
      "metadata": {
        "colab": {
          "base_uri": "https://localhost:8080/"
        },
        "id": "ZTKE8AUAT40S",
        "outputId": "f04c7870-39f0-4785-b144-fabba970ed09"
      },
      "execution_count": 17,
      "outputs": [
        {
          "output_type": "stream",
          "name": "stdout",
          "text": [
            "Epoch 1/100\n",
            "1/1 [==============================] - 3s 3s/step - loss: 15.8086 - mae: 15.8086\n",
            "Epoch 2/100\n",
            "1/1 [==============================] - 0s 23ms/step - loss: 14.7934 - mae: 14.7934\n",
            "Epoch 3/100\n",
            "1/1 [==============================] - 0s 27ms/step - loss: 14.0766 - mae: 14.0766\n",
            "Epoch 4/100\n",
            "1/1 [==============================] - 0s 28ms/step - loss: 13.3706 - mae: 13.3706\n",
            "Epoch 5/100\n",
            "1/1 [==============================] - 0s 50ms/step - loss: 12.6716 - mae: 12.6716\n",
            "Epoch 6/100\n",
            "1/1 [==============================] - 0s 25ms/step - loss: 11.9776 - mae: 11.9776\n",
            "Epoch 7/100\n",
            "1/1 [==============================] - 0s 18ms/step - loss: 11.2871 - mae: 11.2871\n",
            "Epoch 8/100\n",
            "1/1 [==============================] - 0s 22ms/step - loss: 10.5983 - mae: 10.5983\n",
            "Epoch 9/100\n",
            "1/1 [==============================] - 0s 20ms/step - loss: 9.9093 - mae: 9.9093\n",
            "Epoch 10/100\n",
            "1/1 [==============================] - 0s 11ms/step - loss: 9.2178 - mae: 9.2178\n",
            "Epoch 11/100\n",
            "1/1 [==============================] - 0s 30ms/step - loss: 8.5213 - mae: 8.5213\n",
            "Epoch 12/100\n",
            "1/1 [==============================] - 0s 22ms/step - loss: 7.8170 - mae: 7.8170\n",
            "Epoch 13/100\n",
            "1/1 [==============================] - 0s 31ms/step - loss: 7.1021 - mae: 7.1021\n",
            "Epoch 14/100\n",
            "1/1 [==============================] - 0s 21ms/step - loss: 6.5421 - mae: 6.5421\n",
            "Epoch 15/100\n",
            "1/1 [==============================] - 0s 25ms/step - loss: 6.5993 - mae: 6.5993\n",
            "Epoch 16/100\n",
            "1/1 [==============================] - 0s 20ms/step - loss: 6.8860 - mae: 6.8860\n",
            "Epoch 17/100\n",
            "1/1 [==============================] - 0s 45ms/step - loss: 7.0782 - mae: 7.0782\n",
            "Epoch 18/100\n",
            "1/1 [==============================] - 0s 43ms/step - loss: 7.3172 - mae: 7.3172\n",
            "Epoch 19/100\n",
            "1/1 [==============================] - 0s 27ms/step - loss: 7.3616 - mae: 7.3616\n",
            "Epoch 20/100\n",
            "1/1 [==============================] - 0s 22ms/step - loss: 7.2470 - mae: 7.2470\n",
            "Epoch 21/100\n",
            "1/1 [==============================] - 0s 19ms/step - loss: 7.0082 - mae: 7.0082\n",
            "Epoch 22/100\n",
            "1/1 [==============================] - 0s 12ms/step - loss: 6.7106 - mae: 6.7106\n",
            "Epoch 23/100\n",
            "1/1 [==============================] - 0s 20ms/step - loss: 6.4765 - mae: 6.4765\n",
            "Epoch 24/100\n",
            "1/1 [==============================] - 0s 15ms/step - loss: 6.2275 - mae: 6.2275\n",
            "Epoch 25/100\n",
            "1/1 [==============================] - 0s 14ms/step - loss: 5.9667 - mae: 5.9667\n",
            "Epoch 26/100\n",
            "1/1 [==============================] - 0s 18ms/step - loss: 5.8449 - mae: 5.8449\n",
            "Epoch 27/100\n",
            "1/1 [==============================] - 0s 14ms/step - loss: 5.8000 - mae: 5.8000\n",
            "Epoch 28/100\n",
            "1/1 [==============================] - 0s 16ms/step - loss: 5.8890 - mae: 5.8890\n",
            "Epoch 29/100\n",
            "1/1 [==============================] - 0s 15ms/step - loss: 5.9560 - mae: 5.9560\n",
            "Epoch 30/100\n",
            "1/1 [==============================] - 0s 20ms/step - loss: 5.9303 - mae: 5.9303\n",
            "Epoch 31/100\n",
            "1/1 [==============================] - 0s 15ms/step - loss: 5.8228 - mae: 5.8228\n",
            "Epoch 32/100\n",
            "1/1 [==============================] - 0s 16ms/step - loss: 5.6418 - mae: 5.6418\n",
            "Epoch 33/100\n",
            "1/1 [==============================] - 0s 17ms/step - loss: 5.3934 - mae: 5.3934\n",
            "Epoch 34/100\n",
            "1/1 [==============================] - 0s 14ms/step - loss: 5.2424 - mae: 5.2424\n",
            "Epoch 35/100\n",
            "1/1 [==============================] - 0s 21ms/step - loss: 5.1325 - mae: 5.1325\n",
            "Epoch 36/100\n",
            "1/1 [==============================] - 0s 21ms/step - loss: 5.0896 - mae: 5.0896\n",
            "Epoch 37/100\n",
            "1/1 [==============================] - 0s 20ms/step - loss: 5.0892 - mae: 5.0892\n",
            "Epoch 38/100\n",
            "1/1 [==============================] - 0s 19ms/step - loss: 5.0476 - mae: 5.0476\n",
            "Epoch 39/100\n",
            "1/1 [==============================] - 0s 19ms/step - loss: 4.9676 - mae: 4.9676\n",
            "Epoch 40/100\n",
            "1/1 [==============================] - 0s 19ms/step - loss: 4.8522 - mae: 4.8522\n",
            "Epoch 41/100\n",
            "1/1 [==============================] - 0s 18ms/step - loss: 4.7039 - mae: 4.7039\n",
            "Epoch 42/100\n",
            "1/1 [==============================] - 0s 18ms/step - loss: 4.5253 - mae: 4.5253\n",
            "Epoch 43/100\n",
            "1/1 [==============================] - 0s 15ms/step - loss: 4.3227 - mae: 4.3227\n",
            "Epoch 44/100\n",
            "1/1 [==============================] - 0s 16ms/step - loss: 4.2229 - mae: 4.2229\n",
            "Epoch 45/100\n",
            "1/1 [==============================] - 0s 15ms/step - loss: 4.1155 - mae: 4.1155\n",
            "Epoch 46/100\n",
            "1/1 [==============================] - 0s 14ms/step - loss: 4.0004 - mae: 4.0004\n",
            "Epoch 47/100\n",
            "1/1 [==============================] - 0s 15ms/step - loss: 3.9041 - mae: 3.9041\n",
            "Epoch 48/100\n",
            "1/1 [==============================] - 0s 21ms/step - loss: 3.7461 - mae: 3.7461\n",
            "Epoch 49/100\n",
            "1/1 [==============================] - 0s 20ms/step - loss: 3.5830 - mae: 3.5830\n",
            "Epoch 50/100\n",
            "1/1 [==============================] - 0s 23ms/step - loss: 3.4210 - mae: 3.4210\n",
            "Epoch 51/100\n",
            "1/1 [==============================] - 0s 23ms/step - loss: 3.2701 - mae: 3.2701\n",
            "Epoch 52/100\n",
            "1/1 [==============================] - 0s 25ms/step - loss: 3.1492 - mae: 3.1492\n",
            "Epoch 53/100\n",
            "1/1 [==============================] - 0s 28ms/step - loss: 2.9792 - mae: 2.9792\n",
            "Epoch 54/100\n",
            "1/1 [==============================] - 0s 24ms/step - loss: 2.7623 - mae: 2.7623\n",
            "Epoch 55/100\n",
            "1/1 [==============================] - 0s 12ms/step - loss: 2.5942 - mae: 2.5942\n",
            "Epoch 56/100\n",
            "1/1 [==============================] - 0s 10ms/step - loss: 2.4244 - mae: 2.4244\n",
            "Epoch 57/100\n",
            "1/1 [==============================] - 0s 19ms/step - loss: 2.2284 - mae: 2.2284\n",
            "Epoch 58/100\n",
            "1/1 [==============================] - 0s 16ms/step - loss: 2.0094 - mae: 2.0094\n",
            "Epoch 59/100\n",
            "1/1 [==============================] - 0s 18ms/step - loss: 1.8346 - mae: 1.8346\n",
            "Epoch 60/100\n",
            "1/1 [==============================] - 0s 18ms/step - loss: 1.6531 - mae: 1.6531\n",
            "Epoch 61/100\n",
            "1/1 [==============================] - 0s 16ms/step - loss: 1.4098 - mae: 1.4098\n",
            "Epoch 62/100\n",
            "1/1 [==============================] - 0s 11ms/step - loss: 1.1136 - mae: 1.1136\n",
            "Epoch 63/100\n",
            "1/1 [==============================] - 0s 12ms/step - loss: 0.8860 - mae: 0.8860\n",
            "Epoch 64/100\n",
            "1/1 [==============================] - 0s 19ms/step - loss: 0.6159 - mae: 0.6159\n",
            "Epoch 65/100\n",
            "1/1 [==============================] - 0s 23ms/step - loss: 0.3813 - mae: 0.3813\n",
            "Epoch 66/100\n",
            "1/1 [==============================] - 0s 15ms/step - loss: 0.1024 - mae: 0.1024\n",
            "Epoch 67/100\n",
            "1/1 [==============================] - 0s 19ms/step - loss: 0.3972 - mae: 0.3972\n",
            "Epoch 68/100\n",
            "1/1 [==============================] - 0s 18ms/step - loss: 0.5197 - mae: 0.5197\n",
            "Epoch 69/100\n",
            "1/1 [==============================] - 0s 14ms/step - loss: 0.7054 - mae: 0.7054\n",
            "Epoch 70/100\n",
            "1/1 [==============================] - 0s 13ms/step - loss: 0.8674 - mae: 0.8674\n",
            "Epoch 71/100\n",
            "1/1 [==============================] - 0s 13ms/step - loss: 0.8327 - mae: 0.8327\n",
            "Epoch 72/100\n",
            "1/1 [==============================] - 0s 13ms/step - loss: 0.8895 - mae: 0.8895\n",
            "Epoch 73/100\n",
            "1/1 [==============================] - 0s 13ms/step - loss: 0.8891 - mae: 0.8891\n",
            "Epoch 74/100\n",
            "1/1 [==============================] - 0s 14ms/step - loss: 0.7975 - mae: 0.7975\n",
            "Epoch 75/100\n",
            "1/1 [==============================] - 0s 16ms/step - loss: 0.7895 - mae: 0.7895\n",
            "Epoch 76/100\n",
            "1/1 [==============================] - 0s 15ms/step - loss: 0.6742 - mae: 0.6742\n",
            "Epoch 77/100\n",
            "1/1 [==============================] - 0s 15ms/step - loss: 0.5045 - mae: 0.5045\n",
            "Epoch 78/100\n",
            "1/1 [==============================] - 0s 19ms/step - loss: 0.4235 - mae: 0.4235\n",
            "Epoch 79/100\n",
            "1/1 [==============================] - 0s 19ms/step - loss: 0.1815 - mae: 0.1815\n",
            "Epoch 80/100\n",
            "1/1 [==============================] - 0s 20ms/step - loss: 0.2393 - mae: 0.2393\n",
            "Epoch 81/100\n",
            "1/1 [==============================] - 0s 20ms/step - loss: 0.2098 - mae: 0.2098\n",
            "Epoch 82/100\n",
            "1/1 [==============================] - 0s 15ms/step - loss: 0.3548 - mae: 0.3548\n",
            "Epoch 83/100\n",
            "1/1 [==============================] - 0s 16ms/step - loss: 0.4633 - mae: 0.4633\n",
            "Epoch 84/100\n",
            "1/1 [==============================] - 0s 16ms/step - loss: 0.4055 - mae: 0.4055\n",
            "Epoch 85/100\n",
            "1/1 [==============================] - 0s 11ms/step - loss: 0.3877 - mae: 0.3877\n",
            "Epoch 86/100\n",
            "1/1 [==============================] - 0s 15ms/step - loss: 0.4065 - mae: 0.4065\n",
            "Epoch 87/100\n",
            "1/1 [==============================] - 0s 22ms/step - loss: 0.2573 - mae: 0.2573\n",
            "Epoch 88/100\n",
            "1/1 [==============================] - 0s 13ms/step - loss: 0.2624 - mae: 0.2624\n",
            "Epoch 89/100\n",
            "1/1 [==============================] - 0s 14ms/step - loss: 0.2023 - mae: 0.2023\n",
            "Epoch 90/100\n",
            "1/1 [==============================] - 0s 15ms/step - loss: 0.0666 - mae: 0.0666\n",
            "Epoch 91/100\n",
            "1/1 [==============================] - 0s 15ms/step - loss: 0.1395 - mae: 0.1395\n",
            "Epoch 92/100\n",
            "1/1 [==============================] - 0s 22ms/step - loss: 0.1876 - mae: 0.1876\n",
            "Epoch 93/100\n",
            "1/1 [==============================] - 0s 32ms/step - loss: 0.1476 - mae: 0.1476\n",
            "Epoch 94/100\n",
            "1/1 [==============================] - 0s 19ms/step - loss: 0.2179 - mae: 0.2179\n",
            "Epoch 95/100\n",
            "1/1 [==============================] - 0s 19ms/step - loss: 0.2352 - mae: 0.2352\n",
            "Epoch 96/100\n",
            "1/1 [==============================] - 0s 15ms/step - loss: 0.0292 - mae: 0.0292\n",
            "Epoch 97/100\n",
            "1/1 [==============================] - 0s 14ms/step - loss: 0.0452 - mae: 0.0452\n",
            "Epoch 98/100\n",
            "1/1 [==============================] - 0s 15ms/step - loss: 0.2141 - mae: 0.2141\n",
            "Epoch 99/100\n",
            "1/1 [==============================] - 0s 13ms/step - loss: 0.1021 - mae: 0.1021\n",
            "Epoch 100/100\n",
            "1/1 [==============================] - 0s 10ms/step - loss: 0.2872 - mae: 0.2872\n"
          ]
        },
        {
          "output_type": "execute_result",
          "data": {
            "text/plain": [
              "<keras.src.callbacks.History at 0x7c2bb1e4e4d0>"
            ]
          },
          "metadata": {},
          "execution_count": 17
        }
      ]
    },
    {
      "cell_type": "code",
      "source": [
        "# Let's remind ourselves about the data\n",
        "X, y"
      ],
      "metadata": {
        "colab": {
          "base_uri": "https://localhost:8080/"
        },
        "id": "Df02HdRMW1bp",
        "outputId": "14754224-b024-4224-902d-29c0e0a7fe00"
      },
      "execution_count": 18,
      "outputs": [
        {
          "output_type": "execute_result",
          "data": {
            "text/plain": [
              "(<tf.Tensor: shape=(8,), dtype=float32, numpy=array([-7., -4., -1.,  2.,  5.,  8., 11., 14.], dtype=float32)>,\n",
              " <tf.Tensor: shape=(8,), dtype=float32, numpy=array([ 3.,  6.,  9., 12., 15., 18., 21., 24.], dtype=float32)>)"
            ]
          },
          "metadata": {},
          "execution_count": 18
        }
      ]
    },
    {
      "cell_type": "code",
      "source": [
        "# Let's try to make a prediction\n",
        "model.predict([17.0])"
      ],
      "metadata": {
        "colab": {
          "base_uri": "https://localhost:8080/"
        },
        "id": "-swGWav7W8La",
        "outputId": "78f9c2d4-49f6-497d-cc52-5416af235abd"
      },
      "execution_count": 19,
      "outputs": [
        {
          "output_type": "stream",
          "name": "stdout",
          "text": [
            "1/1 [==============================] - 0s 120ms/step\n"
          ]
        },
        {
          "output_type": "execute_result",
          "data": {
            "text/plain": [
              "array([[26.06837]], dtype=float32)"
            ]
          },
          "metadata": {},
          "execution_count": 19
        }
      ]
    },
    {
      "cell_type": "markdown",
      "source": [
        "## Evaluating a model\n",
        "In practice, a typical workflow you'll go through when building neural networks is:\n",
        "\n",
        "```\n",
        "Build a model -> Fit it -> evaluate it -> tweak a model ->  -> Fit it -> evaluate it -> tweak a model -> Fit it -> evaluate it -> tweak a model\n",
        "```"
      ],
      "metadata": {
        "id": "eaHE71W9aYqi"
      }
    },
    {
      "cell_type": "markdown",
      "source": [
        "When it comes to evaluation... there are 3 words you should memorise\n",
        "> \"Visualize, Visualize, Visualize\"\n",
        "\n",
        "It's good idea to visualize:\n",
        "\n",
        "* The data - what data we are working with? What does it look like?\n",
        "* The model itself - what does a model look like?\n",
        "* The training of model - how does a model perform while it learns?\n",
        "* The predictions of the model - how do the the predictions of a model line up against the ground truth (the original labels)?\n"
      ],
      "metadata": {
        "id": "5uabykW803SO"
      }
    },
    {
      "cell_type": "code",
      "source": [
        "# Make a bigger dataset\n",
        "X = tf.range(-100, 100, 4)\n",
        "X"
      ],
      "metadata": {
        "colab": {
          "base_uri": "https://localhost:8080/"
        },
        "id": "xeMMos6g1W3s",
        "outputId": "5cf65414-be14-420b-e5ad-3dab78b5dacc"
      },
      "execution_count": 20,
      "outputs": [
        {
          "output_type": "execute_result",
          "data": {
            "text/plain": [
              "<tf.Tensor: shape=(50,), dtype=int32, numpy=\n",
              "array([-100,  -96,  -92,  -88,  -84,  -80,  -76,  -72,  -68,  -64,  -60,\n",
              "        -56,  -52,  -48,  -44,  -40,  -36,  -32,  -28,  -24,  -20,  -16,\n",
              "        -12,   -8,   -4,    0,    4,    8,   12,   16,   20,   24,   28,\n",
              "         32,   36,   40,   44,   48,   52,   56,   60,   64,   68,   72,\n",
              "         76,   80,   84,   88,   92,   96], dtype=int32)>"
            ]
          },
          "metadata": {},
          "execution_count": 20
        }
      ]
    },
    {
      "cell_type": "code",
      "source": [
        "# Make labels for dataset\n",
        "\n",
        "y = X + 10\n",
        "y"
      ],
      "metadata": {
        "colab": {
          "base_uri": "https://localhost:8080/"
        },
        "id": "SzjJOu9L2lyu",
        "outputId": "039ef897-66de-41a3-c246-9fe39e896923"
      },
      "execution_count": 21,
      "outputs": [
        {
          "output_type": "execute_result",
          "data": {
            "text/plain": [
              "<tf.Tensor: shape=(50,), dtype=int32, numpy=\n",
              "array([-90, -86, -82, -78, -74, -70, -66, -62, -58, -54, -50, -46, -42,\n",
              "       -38, -34, -30, -26, -22, -18, -14, -10,  -6,  -2,   2,   6,  10,\n",
              "        14,  18,  22,  26,  30,  34,  38,  42,  46,  50,  54,  58,  62,\n",
              "        66,  70,  74,  78,  82,  86,  90,  94,  98, 102, 106], dtype=int32)>"
            ]
          },
          "metadata": {},
          "execution_count": 21
        }
      ]
    },
    {
      "cell_type": "code",
      "source": [
        "# Visualize the data\n",
        "import matplotlib.pyplot as plt\n",
        "plt.scatter(X, y)\n"
      ],
      "metadata": {
        "colab": {
          "base_uri": "https://localhost:8080/",
          "height": 448
        },
        "id": "tHyQs2bH2v-L",
        "outputId": "a2cdc790-44b4-4704-bc34-6a7ee0051490"
      },
      "execution_count": 22,
      "outputs": [
        {
          "output_type": "execute_result",
          "data": {
            "text/plain": [
              "<matplotlib.collections.PathCollection at 0x7c2bb1dcc730>"
            ]
          },
          "metadata": {},
          "execution_count": 22
        },
        {
          "output_type": "display_data",
          "data": {
            "text/plain": [
              "<Figure size 640x480 with 1 Axes>"
            ],
            "image/png": "[encoded data removed]"
          },
          "metadata": {}
        }
      ]
    },
    {
      "cell_type": "markdown",
      "source": [
        "### The 3 sets...\n",
        "\n",
        "**Training set** - the model learns from this data, which is typically 70-80% of the total data you have available\n",
        "\n",
        "**Validation set** - the model gets tuned on this data, which is typically 10-15% of the data available\n",
        "\n",
        "**Test set** - the model gets evaluated on this data to test what it has learned, which is typically 10-15% of the data available.\n"
      ],
      "metadata": {
        "id": "LtFy_UgJ3GvN"
      }
    },
    {
      "cell_type": "code",
      "source": [
        "# Check the length of how many samples we have\n",
        "\n",
        "len(X)"
      ],
      "metadata": {
        "colab": {
          "base_uri": "https://localhost:8080/"
        },
        "id": "QF3pURD77gDd",
        "outputId": "ecd35389-c2c9-4155-b12b-d6d69b92159d"
      },
      "execution_count": 23,
      "outputs": [
        {
          "output_type": "execute_result",
          "data": {
            "text/plain": [
              "50"
            ]
          },
          "metadata": {},
          "execution_count": 23
        }
      ]
    },
    {
      "cell_type": "code",
      "source": [
        "# Split the data into train and test sets\n",
        "\n",
        "X_train = X[:40] # first 40 are training samples\n",
        "y_train = y[:40]\n",
        "\n",
        "X_test = X[40:] # last 10 are test samples\n",
        "y_test = y[40:]\n",
        "\n",
        "len(X_train), len(X_test), len(y_train), len(y_test)"
      ],
      "metadata": {
        "colab": {
          "base_uri": "https://localhost:8080/"
        },
        "id": "UBaKO6Ob8y7o",
        "outputId": "8bfd8c90-dffe-4f61-b28b-543e0478257e"
      },
      "execution_count": 24,
      "outputs": [
        {
          "output_type": "execute_result",
          "data": {
            "text/plain": [
              "(40, 10, 40, 10)"
            ]
          },
          "metadata": {},
          "execution_count": 24
        }
      ]
    },
    {
      "cell_type": "markdown",
      "source": [
        "### Visualizing the data\n",
        "\n",
        "Now we've got our data in training and test sets... let's visualize it again!"
      ],
      "metadata": {
        "id": "ijcsjbrW-E_k"
      }
    },
    {
      "cell_type": "code",
      "source": [
        "plt.figure(figsize = (10, 7))\n",
        "\n",
        "# Plot training data in blue\n",
        "\n",
        "plt.scatter(X_train, y_train, c = 'b', label = 'Training data')\n",
        "\n",
        "# Plot test data in green\n",
        "\n",
        "plt.scatter(X_test, y_test, c = 'g', label = 'Test data')\n",
        "\n",
        "# Show legend\n",
        "\n",
        "plt.legend()"
      ],
      "metadata": {
        "colab": {
          "base_uri": "https://localhost:8080/",
          "height": 617
        },
        "id": "dEE_2i2c-b5V",
        "outputId": "0d5d1264-6c72-416f-d750-21502248ec08"
      },
      "execution_count": 25,
      "outputs": [
        {
          "output_type": "execute_result",
          "data": {
            "text/plain": [
              "<matplotlib.legend.Legend at 0x7c2bb1c764d0>"
            ]
          },
          "metadata": {},
          "execution_count": 25
        },
        {
          "output_type": "display_data",
          "data": {
            "text/plain": [
              "<Figure size 1000x700 with 1 Axes>"
            ],
            "image/png": "[encoded data removed]"
          },
          "metadata": {}
        }
      ]
    },
    {
      "cell_type": "code",
      "source": [
        "# Let's have a look at how to build a neural network for our data\n",
        "\n",
        "# 1. Create a model\n",
        "\n",
        "model = tf.keras.Sequential([\n",
        "    tf.keras.layers.Dense(1)\n",
        "])\n",
        "\n",
        "# 2. Compile the model\n",
        "\n",
        "model.compile(loss = tf.keras.losses.mae,\n",
        "              optimizer = tf.keras.optimizers.SGD(),\n",
        "              metrics = [\"mae\"])\n",
        "\n",
        "# 3. Fit the model\n",
        "#model.fit(X_train, y_train, epochs=100)"
      ],
      "metadata": {
        "id": "bOgcmcyu1u1y"
      },
      "execution_count": 26,
      "outputs": []
    },
    {
      "cell_type": "markdown",
      "source": [
        "### Visualizing the model"
      ],
      "metadata": {
        "id": "vAkiEqwg3LD-"
      }
    },
    {
      "cell_type": "code",
      "source": [
        "model.summary()"
      ],
      "metadata": {
        "colab": {
          "base_uri": "https://localhost:8080/",
          "height": 304
        },
        "id": "KZnW3kTH3PXk",
        "outputId": "bf29b1e6-9c33-4719-987a-5061dd90506f"
      },
      "execution_count": 28,
      "outputs": [
        {
          "output_type": "error",
          "ename": "ValueError",
          "evalue": "ignored",
          "traceback": [
            "\u001b[0;31m---------------------------------------------------------------------------\u001b[0m",
            "\u001b[0;31mValueError\u001b[0m                                Traceback (most recent call last)",
            "\u001b[0;32m<ipython-input-28-5f15418b3570>\u001b[0m in \u001b[0;36m<cell line: 1>\u001b[0;34m()\u001b[0m\n\u001b[0;32m----> 1\u001b[0;31m \u001b[0mmodel\u001b[0m\u001b[0;34m.\u001b[0m\u001b[0msummary\u001b[0m\u001b[0;34m(\u001b[0m\u001b[0;34m)\u001b[0m\u001b[0;34m\u001b[0m\u001b[0;34m\u001b[0m\u001b[0m\n\u001b[0m",
            "\u001b[0;32m/usr/local/lib/python3.10/dist-packages/keras/src/engine/training.py\u001b[0m in \u001b[0;36msummary\u001b[0;34m(self, line_length, positions, print_fn, expand_nested, show_trainable, layer_range)\u001b[0m\n\u001b[1;32m   3401\u001b[0m         \"\"\"\n\u001b[1;32m   3402\u001b[0m         \u001b[0;32mif\u001b[0m \u001b[0;32mnot\u001b[0m \u001b[0mself\u001b[0m\u001b[0;34m.\u001b[0m\u001b[0mbuilt\u001b[0m\u001b[0;34m:\u001b[0m\u001b[0;34m\u001b[0m\u001b[0;34m\u001b[0m\u001b[0m\n\u001b[0;32m-> 3403\u001b[0;31m             raise ValueError(\n\u001b[0m\u001b[1;32m   3404\u001b[0m                 \u001b[0;34m\"This model has not yet been built. \"\u001b[0m\u001b[0;34m\u001b[0m\u001b[0;34m\u001b[0m\u001b[0m\n\u001b[1;32m   3405\u001b[0m                 \u001b[0;34m\"Build the model first by calling `build()` or by calling \"\u001b[0m\u001b[0;34m\u001b[0m\u001b[0;34m\u001b[0m\u001b[0m\n",
            "\u001b[0;31mValueError\u001b[0m: This model has not yet been built. Build the model first by calling `build()` or by calling the model on a batch of data."
          ]
        }
      ]
    },
    {
      "cell_type": "code",
      "source": [
        "# Let's create a model which builds automatically by defining the input_shape argument in the first layer\n",
        "\n",
        "tf.random.set_seed(42)\n",
        "\n",
        "# Create a model (same as above)\n",
        "\n",
        "model = tf.keras.Sequential([\n",
        "    tf.keras.layers.Dense(10, input_shape=[1], name='input_layer'),\n",
        "    tf.keras.layers.Dense(1, name='output_layer')\n",
        "], name='model_1')\n",
        "\n",
        "# Compile a model (same as above)\n",
        "model.compile(loss=tf.keras.losses.mae,\n",
        "              optimizer=tf.keras.optimizers.SGD(),\n",
        "              metrics=[\"mae\"])"
      ],
      "metadata": {
        "id": "KqwQO1Vz3fT7"
      },
      "execution_count": 29,
      "outputs": []
    },
    {
      "cell_type": "code",
      "source": [
        "model.summary()"
      ],
      "metadata": {
        "colab": {
          "base_uri": "https://localhost:8080/"
        },
        "id": "w44moFz24z1e",
        "outputId": "dbd8addb-16c7-49ca-9aa4-59a423c02140"
      },
      "execution_count": 30,
      "outputs": [
        {
          "output_type": "stream",
          "name": "stdout",
          "text": [
            "Model: \"model_1\"\n",
            "_________________________________________________________________\n",
            " Layer (type)                Output Shape              Param #   \n",
            "=================================================================\n",
            " input_layer (Dense)         (None, 10)                20        \n",
            "                                                                 \n",
            " output_layer (Dense)        (None, 1)                 11        \n",
            "                                                                 \n",
            "=================================================================\n",
            "Total params: 31 (124.00 Byte)\n",
            "Trainable params: 31 (124.00 Byte)\n",
            "Non-trainable params: 0 (0.00 Byte)\n",
            "_________________________________________________________________\n"
          ]
        }
      ]
    },
    {
      "cell_type": "markdown",
      "source": [
        "* Total params - total number of parameters in the model\n",
        "* Trainable parameters - these are the parameters (patterns) the model can update as it trains.\n",
        "* Non-trainable params - these parameters aren't updated during training (this is typical when you bring in already learn patterns or parameters from other models during **transfer learning**)\n",
        "\n",
        "📖**Resource:** For a more in depth overview of the trainable parameters within a layer, check out MIT's introduction to deep learning.\n",
        "\n",
        "⚓**Exercise** Try playing around with the number of hidden units in the dense layer, see how that effects the number of parameters total and trainable by calling model.summary()"
      ],
      "metadata": {
        "id": "CmDgPusF5KMt"
      }
    },
    {
      "cell_type": "code",
      "source": [
        "# Let's fit our model to the training data\n",
        "model.fit(X_train, y_train, epochs=100, verbose=0)"
      ],
      "metadata": {
        "colab": {
          "base_uri": "https://localhost:8080/"
        },
        "id": "134jJyEB8bdn",
        "outputId": "d4da7351-4245-4dee-8fe3-c1d005e0a464"
      },
      "execution_count": 31,
      "outputs": [
        {
          "output_type": "execute_result",
          "data": {
            "text/plain": [
              "<keras.src.callbacks.History at 0x7c2bb1ce2cb0>"
            ]
          },
          "metadata": {},
          "execution_count": 31
        }
      ]
    },
    {
      "cell_type": "code",
      "source": [
        "# Get a summary of our model\n",
        "model.summary()"
      ],
      "metadata": {
        "colab": {
          "base_uri": "https://localhost:8080/"
        },
        "id": "2NiEDCahh03K",
        "outputId": "d2c561d2-de2f-41eb-e36c-72d4f9f838c1"
      },
      "execution_count": 32,
      "outputs": [
        {
          "output_type": "stream",
          "name": "stdout",
          "text": [
            "Model: \"model_1\"\n",
            "_________________________________________________________________\n",
            " Layer (type)                Output Shape              Param #   \n",
            "=================================================================\n",
            " input_layer (Dense)         (None, 10)                20        \n",
            "                                                                 \n",
            " output_layer (Dense)        (None, 1)                 11        \n",
            "                                                                 \n",
            "=================================================================\n",
            "Total params: 31 (124.00 Byte)\n",
            "Trainable params: 31 (124.00 Byte)\n",
            "Non-trainable params: 0 (0.00 Byte)\n",
            "_________________________________________________________________\n"
          ]
        }
      ]
    },
    {
      "cell_type": "code",
      "source": [
        "from tensorflow.keras.utils import plot_model\n",
        "plot_model(model=model, show_shapes=True)"
      ],
      "metadata": {
        "colab": {
          "base_uri": "https://localhost:8080/",
          "height": 312
        },
        "id": "j6jgjS84iTKZ",
        "outputId": "0e5f9341-ab87-423f-c8e6-b48a9503b084"
      },
      "execution_count": 33,
      "outputs": [
        {
          "output_type": "execute_result",
          "data": {
            "image/png": "[encoded data removed]",
            "text/plain": [
              "<IPython.core.display.Image object>"
            ]
          },
          "metadata": {},
          "execution_count": 33
        }
      ]
    },
    {
      "cell_type": "markdown",
      "source": [
        "### Visualizing our model's predictions\n",
        "To visualize predictions it's a good idea to plot them against the ground truth labels.\n",
        "\n",
        "Often you'll see this in the form of `y_test` or `y_true` versus `y_pred` (ground truth versus your model predictions)"
      ],
      "metadata": {
        "id": "4YPEnsgikETD"
      }
    },
    {
      "cell_type": "code",
      "source": [
        "# Make some predictions\n",
        "\n",
        "y_pred = model.predict(X_test)\n",
        "y_pred"
      ],
      "metadata": {
        "colab": {
          "base_uri": "https://localhost:8080/"
        },
        "id": "Kj-An0oa4znY",
        "outputId": "008e3233-ea2b-45a4-e98b-d2d5b972bc35"
      },
      "execution_count": 34,
      "outputs": [
        {
          "output_type": "stream",
          "name": "stdout",
          "text": [
            "1/1 [==============================] - 0s 111ms/step\n"
          ]
        },
        {
          "output_type": "execute_result",
          "data": {
            "text/plain": [
              "array([[ 70.4914  ],\n",
              "       [ 75.07661 ],\n",
              "       [ 79.66182 ],\n",
              "       [ 84.24703 ],\n",
              "       [ 88.832245],\n",
              "       [ 93.41745 ],\n",
              "       [ 98.00267 ],\n",
              "       [102.587875],\n",
              "       [107.17309 ],\n",
              "       [111.7583  ]], dtype=float32)"
            ]
          },
          "metadata": {},
          "execution_count": 34
        }
      ]
    },
    {
      "cell_type": "markdown",
      "source": [
        "**Note** If you feel like you are going to use some functionality in the future it's a good idea to turn it into a function"
      ],
      "metadata": {
        "id": "cN-qjgtx5Quh"
      }
    },
    {
      "cell_type": "code",
      "source": [
        "# Let's create a plotting function\n",
        "def plot_predictions(train_data = X_train,\n",
        "                     train_labels = y_train,\n",
        "                     test_data=X_test,\n",
        "                     test_labels=y_test,\n",
        "                     predictions=y_pred):\n",
        "  \"\"\"\n",
        "  Plots training data, test data and compares predictions to ground truth labels\n",
        "  \"\"\"\n",
        "  plt.figure(figsize=(10, 7))\n",
        "  # Plot training data in blue\n",
        "  plt.scatter(train_data, train_labels, c = \"b\", label = \"Training data\")\n",
        "  # Plot testing data in green\n",
        "  plt.scatter(test_data, test_labels, c=\"g\", label=\"Testing data\")\n",
        "  # Plot models predictions in red\n",
        "  plt.scatter(test_data, predictions, c = \"r\", label = \"Predictions\")\n",
        "  plt.legend()"
      ],
      "metadata": {
        "id": "GpqbggKN5Ehy"
      },
      "execution_count": 35,
      "outputs": []
    },
    {
      "cell_type": "code",
      "source": [
        "plot_predictions(train_data=X_train,\n",
        "                 train_labels=y_train,\n",
        "                 test_data=X_test,\n",
        "                 test_labels=y_test,\n",
        "                 predictions=y_pred)"
      ],
      "metadata": {
        "colab": {
          "base_uri": "https://localhost:8080/",
          "height": 599
        },
        "id": "77AWq7aL7WCF",
        "outputId": "29522901-505b-4bb9-9e22-1535dd1d21de"
      },
      "execution_count": 36,
      "outputs": [
        {
          "output_type": "display_data",
          "data": {
            "text/plain": [
              "<Figure size 1000x700 with 1 Axes>"
            ],
            "image/png": "[encoded data removed]"
          },
          "metadata": {}
        }
      ]
    },
    {
      "cell_type": "markdown",
      "source": [
        "### Evaluating our model's predictions with regression evaluation metrics.\n",
        "Depending on the problem you are working on, there will be different evaluation metric to evaluate your model's performance.\n",
        "\n",
        "Since we are working on a regression, two of the main metrics:\n",
        "* MAE - mean absolute error, \"on average\", how wrong is each of my model's predictions\"\n",
        "* MSE - mean square error, \"square the average errors\""
      ],
      "metadata": {
        "id": "jlkrCCOI7zpi"
      }
    },
    {
      "cell_type": "code",
      "source": [
        "# Evaluate the model on the test set\n",
        "model.evaluate(X_test, y_test)"
      ],
      "metadata": {
        "colab": {
          "base_uri": "https://localhost:8080/"
        },
        "id": "cRkOZV8yHjmQ",
        "outputId": "2cb978eb-f346-40d3-98fc-dc7613ff1f03"
      },
      "execution_count": 37,
      "outputs": [
        {
          "output_type": "stream",
          "name": "stdout",
          "text": [
            "1/1 [==============================] - 0s 239ms/step - loss: 3.1248 - mae: 3.1248\n"
          ]
        },
        {
          "output_type": "execute_result",
          "data": {
            "text/plain": [
              "[3.1248481273651123, 3.1248481273651123]"
            ]
          },
          "metadata": {},
          "execution_count": 37
        }
      ]
    },
    {
      "cell_type": "code",
      "source": [
        "# Calculate the mean absolute error\n",
        "mae = tf.metrics.mean_absolute_error(y_true = y_test,\n",
        "                                     y_pred = tf.constant(y_pred))\n",
        "mae"
      ],
      "metadata": {
        "colab": {
          "base_uri": "https://localhost:8080/"
        },
        "id": "i-eLUncBJ1YQ",
        "outputId": "8a6151ef-c477-47ef-fd53-552c4e7f6e40"
      },
      "execution_count": 38,
      "outputs": [
        {
          "output_type": "execute_result",
          "data": {
            "text/plain": [
              "<tf.Tensor: shape=(10,), dtype=float32, numpy=\n",
              "array([17.606878, 14.154036, 11.735272, 10.350594, 10.      , 10.68349 ,\n",
              "       12.401602, 15.2703  , 19.173088, 23.7583  ], dtype=float32)>"
            ]
          },
          "metadata": {},
          "execution_count": 38
        }
      ]
    },
    {
      "cell_type": "code",
      "source": [
        "y_pred"
      ],
      "metadata": {
        "colab": {
          "base_uri": "https://localhost:8080/"
        },
        "id": "QouKt4idKD9_",
        "outputId": "55bb7891-6560-46f3-c0cc-5d082cce787e"
      },
      "execution_count": 39,
      "outputs": [
        {
          "output_type": "execute_result",
          "data": {
            "text/plain": [
              "array([[ 70.4914  ],\n",
              "       [ 75.07661 ],\n",
              "       [ 79.66182 ],\n",
              "       [ 84.24703 ],\n",
              "       [ 88.832245],\n",
              "       [ 93.41745 ],\n",
              "       [ 98.00267 ],\n",
              "       [102.587875],\n",
              "       [107.17309 ],\n",
              "       [111.7583  ]], dtype=float32)"
            ]
          },
          "metadata": {},
          "execution_count": 39
        }
      ]
    },
    {
      "cell_type": "code",
      "source": [
        "y_test"
      ],
      "metadata": {
        "colab": {
          "base_uri": "https://localhost:8080/"
        },
        "id": "9Sefo97aKFI7",
        "outputId": "1ea25f25-36c0-4d16-8127-c872c6735070"
      },
      "execution_count": 40,
      "outputs": [
        {
          "output_type": "execute_result",
          "data": {
            "text/plain": [
              "<tf.Tensor: shape=(10,), dtype=int32, numpy=array([ 70,  74,  78,  82,  86,  90,  94,  98, 102, 106], dtype=int32)>"
            ]
          },
          "metadata": {},
          "execution_count": 40
        }
      ]
    },
    {
      "cell_type": "code",
      "source": [
        "tf.squeeze(y_pred)"
      ],
      "metadata": {
        "colab": {
          "base_uri": "https://localhost:8080/"
        },
        "id": "HicAw1FZtSAJ",
        "outputId": "fbd8b4a3-e543-4452-8f85-c67da3f71acd"
      },
      "execution_count": 41,
      "outputs": [
        {
          "output_type": "execute_result",
          "data": {
            "text/plain": [
              "<tf.Tensor: shape=(10,), dtype=float32, numpy=\n",
              "array([ 70.4914  ,  75.07661 ,  79.66182 ,  84.24703 ,  88.832245,\n",
              "        93.41745 ,  98.00267 , 102.587875, 107.17309 , 111.7583  ],\n",
              "      dtype=float32)>"
            ]
          },
          "metadata": {},
          "execution_count": 41
        }
      ]
    },
    {
      "cell_type": "code",
      "source": [
        "# Calculate the mean absolute error\n",
        "mae = tf.metrics.mean_absolute_error(y_true = y_test,\n",
        "                                     y_pred = tf.squeeze(y_pred))\n",
        "mae"
      ],
      "metadata": {
        "colab": {
          "base_uri": "https://localhost:8080/"
        },
        "id": "a6iqOUVwtZ-A",
        "outputId": "191f52da-7667-473e-84cf-d3fdbb3940fb"
      },
      "execution_count": 42,
      "outputs": [
        {
          "output_type": "execute_result",
          "data": {
            "text/plain": [
              "<tf.Tensor: shape=(), dtype=float32, numpy=3.1248488>"
            ]
          },
          "metadata": {},
          "execution_count": 42
        }
      ]
    },
    {
      "cell_type": "code",
      "source": [
        "# Calculate the mean squared error\n",
        "mse = tf.metrics.mean_squared_error(y_true = y_test,\n",
        "                                     y_pred = tf.squeeze(y_pred))\n",
        "mse"
      ],
      "metadata": {
        "colab": {
          "base_uri": "https://localhost:8080/"
        },
        "id": "4xD8KYWZt840",
        "outputId": "56835e58-03dd-4ad2-e225-7d85bb53e65c"
      },
      "execution_count": 43,
      "outputs": [
        {
          "output_type": "execute_result",
          "data": {
            "text/plain": [
              "<tf.Tensor: shape=(), dtype=float32, numpy=12.590077>"
            ]
          },
          "metadata": {},
          "execution_count": 43
        }
      ]
    },
    {
      "cell_type": "code",
      "source": [
        "# Make some functions to reause MAE and MSE\n",
        "def mae(y_true, y_pred):\n",
        "  return tf.metrics.mean_absolute_error(y_true = y_true,\n",
        "                                        y_pred = tf.squeeze(y_pred))\n",
        "\n",
        "def mse(y_true, y_pred):\n",
        "  return tf.metrics.mean_squared_error(y_true = y_true,\n",
        "                                       y_pred = tf.squeeze(y_pred))"
      ],
      "metadata": {
        "id": "eJtlBX8yuySQ"
      },
      "execution_count": 44,
      "outputs": []
    },
    {
      "cell_type": "markdown",
      "source": [
        "### Running experiments to i mprove our model\n",
        "\n",
        "```\n",
        "Build a model -> fit it -> evaluate it -> tweak it -> fit it -> evaluate it -> tweak it -> fit it -> evaluate it ...\n",
        "```\n",
        "1. Get more data - get more examples for you model to train on (more opportunities to learn patterns or relationships between features and labels)\n",
        "2. Make your model larger (using more complex model) - this might come in the form of more layers or more hidden units in eaxh layer.\n",
        "3. Train for longer - give your model more of a chance to find a patterns in the data\n",
        "\n",
        "Lets do 3 modelling experiments.\n",
        "\n",
        "1. `model_1` - same as the original model, 1 layer, trained for 100 epochs.\n",
        "2. `model_2` - 2 layers, trained for 100 epochs.\n",
        "3. `model_3` - 2 layers, trained for 500 epochs."
      ],
      "metadata": {
        "id": "TP8bORXObTgL"
      }
    },
    {
      "cell_type": "markdown",
      "source": [
        "**Build** `model_1`"
      ],
      "metadata": {
        "id": "mY_sCQBneU1H"
      }
    },
    {
      "cell_type": "code",
      "source": [
        "# Set random seed\n",
        "tf.random.set_seed(42)\n",
        "# 1. Create the model\n",
        "model_1 = tf.keras.Sequential([\n",
        "    tf.keras.layers.Dense(1)\n",
        "])\n",
        "\n",
        "# 2. Compile the model\n",
        "model_1.compile(loss = tf.keras.losses.mae,\n",
        "                optimizer = tf.keras.optimizers.SGD(),\n",
        "                metrics = ['mae'])\n",
        "\n",
        "# 3. Fit the model\n",
        "model_1.fit(tf.expand_dims(X_train, axis = -1), y_train, epochs = 100)"
      ],
      "metadata": {
        "colab": {
          "base_uri": "https://localhost:8080/"
        },
        "id": "2VjtBjM6b5yr",
        "outputId": "b15e4021-49b5-4d00-cb03-d18da154108a"
      },
      "execution_count": 45,
      "outputs": [
        {
          "output_type": "stream",
          "name": "stdout",
          "text": [
            "Epoch 1/100\n",
            "2/2 [==============================] - 1s 20ms/step - loss: 57.7694 - mae: 57.7694\n",
            "Epoch 2/100\n",
            "2/2 [==============================] - 0s 12ms/step - loss: 23.2973 - mae: 23.2973\n",
            "Epoch 3/100\n",
            "2/2 [==============================] - 0s 8ms/step - loss: 10.5120 - mae: 10.5120\n",
            "Epoch 4/100\n",
            "2/2 [==============================] - 0s 7ms/step - loss: 13.0065 - mae: 13.0065\n",
            "Epoch 5/100\n",
            "2/2 [==============================] - 0s 8ms/step - loss: 12.0561 - mae: 12.0561\n",
            "Epoch 6/100\n",
            "2/2 [==============================] - 0s 8ms/step - loss: 9.3297 - mae: 9.3297\n",
            "Epoch 7/100\n",
            "2/2 [==============================] - 0s 8ms/step - loss: 8.4881 - mae: 8.4881\n",
            "Epoch 8/100\n",
            "2/2 [==============================] - 0s 9ms/step - loss: 9.0502 - mae: 9.0502\n",
            "Epoch 9/100\n",
            "2/2 [==============================] - 0s 8ms/step - loss: 18.5204 - mae: 18.5204\n",
            "Epoch 10/100\n",
            "2/2 [==============================] - 0s 16ms/step - loss: 9.9952 - mae: 9.9952\n",
            "Epoch 11/100\n",
            "2/2 [==============================] - 0s 12ms/step - loss: 8.3599 - mae: 8.3599\n",
            "Epoch 12/100\n",
            "2/2 [==============================] - 0s 10ms/step - loss: 10.5713 - mae: 10.5713\n",
            "Epoch 13/100\n",
            "2/2 [==============================] - 0s 10ms/step - loss: 9.7692 - mae: 9.7692\n",
            "Epoch 14/100\n",
            "2/2 [==============================] - 0s 9ms/step - loss: 15.7620 - mae: 15.7620\n",
            "Epoch 15/100\n",
            "2/2 [==============================] - 0s 9ms/step - loss: 11.6185 - mae: 11.6185\n",
            "Epoch 16/100\n",
            "2/2 [==============================] - 0s 12ms/step - loss: 8.4922 - mae: 8.4922\n",
            "Epoch 17/100\n",
            "2/2 [==============================] - 0s 11ms/step - loss: 13.5110 - mae: 13.5110\n",
            "Epoch 18/100\n",
            "2/2 [==============================] - 0s 16ms/step - loss: 11.3046 - mae: 11.3046\n",
            "Epoch 19/100\n",
            "2/2 [==============================] - 0s 24ms/step - loss: 18.1326 - mae: 18.1326\n",
            "Epoch 20/100\n",
            "2/2 [==============================] - 0s 12ms/step - loss: 15.2656 - mae: 15.2656\n",
            "Epoch 21/100\n",
            "2/2 [==============================] - 0s 18ms/step - loss: 11.2052 - mae: 11.2052\n",
            "Epoch 22/100\n",
            "2/2 [==============================] - 0s 8ms/step - loss: 8.3497 - mae: 8.3497\n",
            "Epoch 23/100\n",
            "2/2 [==============================] - 0s 16ms/step - loss: 9.9503 - mae: 9.9503\n",
            "Epoch 24/100\n",
            "2/2 [==============================] - 0s 13ms/step - loss: 15.7883 - mae: 15.7883\n",
            "Epoch 25/100\n",
            "2/2 [==============================] - 0s 15ms/step - loss: 12.2149 - mae: 12.2149\n",
            "Epoch 26/100\n",
            "2/2 [==============================] - 0s 10ms/step - loss: 13.3566 - mae: 13.3566\n",
            "Epoch 27/100\n",
            "2/2 [==============================] - 0s 21ms/step - loss: 10.7808 - mae: 10.7808\n",
            "Epoch 28/100\n",
            "2/2 [==============================] - 0s 15ms/step - loss: 13.0582 - mae: 13.0582\n",
            "Epoch 29/100\n",
            "2/2 [==============================] - 0s 18ms/step - loss: 9.5553 - mae: 9.5553\n",
            "Epoch 30/100\n",
            "2/2 [==============================] - 0s 13ms/step - loss: 16.6701 - mae: 16.6701\n",
            "Epoch 31/100\n",
            "2/2 [==============================] - 0s 10ms/step - loss: 23.3547 - mae: 23.3547\n",
            "Epoch 32/100\n",
            "2/2 [==============================] - 0s 11ms/step - loss: 7.3747 - mae: 7.3747\n",
            "Epoch 33/100\n",
            "2/2 [==============================] - 0s 11ms/step - loss: 9.7797 - mae: 9.7797\n",
            "Epoch 34/100\n",
            "2/2 [==============================] - 0s 10ms/step - loss: 12.1903 - mae: 12.1903\n",
            "Epoch 35/100\n",
            "2/2 [==============================] - 0s 16ms/step - loss: 11.4730 - mae: 11.4730\n",
            "Epoch 36/100\n",
            "2/2 [==============================] - 0s 13ms/step - loss: 12.6132 - mae: 12.6132\n",
            "Epoch 37/100\n",
            "2/2 [==============================] - 0s 16ms/step - loss: 9.5408 - mae: 9.5408\n",
            "Epoch 38/100\n",
            "2/2 [==============================] - 0s 20ms/step - loss: 10.2371 - mae: 10.2371\n",
            "Epoch 39/100\n",
            "2/2 [==============================] - 0s 26ms/step - loss: 16.1158 - mae: 16.1158\n",
            "Epoch 40/100\n",
            "2/2 [==============================] - 0s 17ms/step - loss: 13.8652 - mae: 13.8652\n",
            "Epoch 41/100\n",
            "2/2 [==============================] - 0s 20ms/step - loss: 9.7521 - mae: 9.7521\n",
            "Epoch 42/100\n",
            "2/2 [==============================] - 0s 15ms/step - loss: 10.7108 - mae: 10.7108\n",
            "Epoch 43/100\n",
            "2/2 [==============================] - 0s 31ms/step - loss: 7.3352 - mae: 7.3352\n",
            "Epoch 44/100\n",
            "2/2 [==============================] - 0s 13ms/step - loss: 9.4122 - mae: 9.4122\n",
            "Epoch 45/100\n",
            "2/2 [==============================] - 0s 14ms/step - loss: 10.0070 - mae: 10.0070\n",
            "Epoch 46/100\n",
            "2/2 [==============================] - 0s 12ms/step - loss: 9.1132 - mae: 9.1132\n",
            "Epoch 47/100\n",
            "2/2 [==============================] - 0s 16ms/step - loss: 7.3621 - mae: 7.3621\n",
            "Epoch 48/100\n",
            "2/2 [==============================] - 0s 22ms/step - loss: 9.6016 - mae: 9.6016\n",
            "Epoch 49/100\n",
            "2/2 [==============================] - 0s 11ms/step - loss: 10.4528 - mae: 10.4528\n",
            "Epoch 50/100\n",
            "2/2 [==============================] - 0s 11ms/step - loss: 14.4910 - mae: 14.4910\n",
            "Epoch 51/100\n",
            "2/2 [==============================] - 0s 10ms/step - loss: 9.3938 - mae: 9.3938\n",
            "Epoch 52/100\n",
            "2/2 [==============================] - 0s 17ms/step - loss: 14.1042 - mae: 14.1042\n",
            "Epoch 53/100\n",
            "2/2 [==============================] - 0s 19ms/step - loss: 15.3693 - mae: 15.3693\n",
            "Epoch 54/100\n",
            "2/2 [==============================] - 0s 14ms/step - loss: 10.8916 - mae: 10.8916\n",
            "Epoch 55/100\n",
            "2/2 [==============================] - 0s 10ms/step - loss: 15.3990 - mae: 15.3990\n",
            "Epoch 56/100\n",
            "2/2 [==============================] - 0s 10ms/step - loss: 9.0996 - mae: 9.0996\n",
            "Epoch 57/100\n",
            "2/2 [==============================] - 0s 15ms/step - loss: 9.7229 - mae: 9.7229\n",
            "Epoch 58/100\n",
            "2/2 [==============================] - 0s 8ms/step - loss: 9.0227 - mae: 9.0227\n",
            "Epoch 59/100\n",
            "2/2 [==============================] - 0s 10ms/step - loss: 10.2675 - mae: 10.2675\n",
            "Epoch 60/100\n",
            "2/2 [==============================] - 0s 8ms/step - loss: 8.1629 - mae: 8.1629\n",
            "Epoch 61/100\n",
            "2/2 [==============================] - 0s 15ms/step - loss: 10.0165 - mae: 10.0165\n",
            "Epoch 62/100\n",
            "2/2 [==============================] - 0s 13ms/step - loss: 7.0748 - mae: 7.0748\n",
            "Epoch 63/100\n",
            "2/2 [==============================] - 0s 20ms/step - loss: 8.5630 - mae: 8.5630\n",
            "Epoch 64/100\n",
            "2/2 [==============================] - 0s 11ms/step - loss: 11.0811 - mae: 11.0811\n",
            "Epoch 65/100\n",
            "2/2 [==============================] - 0s 10ms/step - loss: 12.4188 - mae: 12.4188\n",
            "Epoch 66/100\n",
            "2/2 [==============================] - 0s 8ms/step - loss: 12.9650 - mae: 12.9650\n",
            "Epoch 67/100\n",
            "2/2 [==============================] - 0s 12ms/step - loss: 7.8267 - mae: 7.8267\n",
            "Epoch 68/100\n",
            "2/2 [==============================] - 0s 14ms/step - loss: 11.2534 - mae: 11.2534\n",
            "Epoch 69/100\n",
            "2/2 [==============================] - 0s 18ms/step - loss: 12.0906 - mae: 12.0906\n",
            "Epoch 70/100\n",
            "2/2 [==============================] - 0s 7ms/step - loss: 9.1709 - mae: 9.1709\n",
            "Epoch 71/100\n",
            "2/2 [==============================] - 0s 9ms/step - loss: 10.1722 - mae: 10.1722\n",
            "Epoch 72/100\n",
            "2/2 [==============================] - 0s 11ms/step - loss: 10.1520 - mae: 10.1520\n",
            "Epoch 73/100\n",
            "2/2 [==============================] - 0s 16ms/step - loss: 12.7537 - mae: 12.7537\n",
            "Epoch 74/100\n",
            "2/2 [==============================] - 0s 7ms/step - loss: 10.8905 - mae: 10.8905\n",
            "Epoch 75/100\n",
            "2/2 [==============================] - 0s 7ms/step - loss: 9.4944 - mae: 9.4944\n",
            "Epoch 76/100\n",
            "2/2 [==============================] - 0s 6ms/step - loss: 10.9393 - mae: 10.9393\n",
            "Epoch 77/100\n",
            "2/2 [==============================] - 0s 19ms/step - loss: 15.0067 - mae: 15.0067\n",
            "Epoch 78/100\n",
            "2/2 [==============================] - 0s 19ms/step - loss: 10.8068 - mae: 10.8068\n",
            "Epoch 79/100\n",
            "2/2 [==============================] - 0s 13ms/step - loss: 15.1271 - mae: 15.1271\n",
            "Epoch 80/100\n",
            "2/2 [==============================] - 0s 10ms/step - loss: 11.8231 - mae: 11.8231\n",
            "Epoch 81/100\n",
            "2/2 [==============================] - 0s 14ms/step - loss: 8.1535 - mae: 8.1535\n",
            "Epoch 82/100\n",
            "2/2 [==============================] - 0s 12ms/step - loss: 9.1336 - mae: 9.1336\n",
            "Epoch 83/100\n",
            "2/2 [==============================] - 0s 20ms/step - loss: 9.2182 - mae: 9.2182\n",
            "Epoch 84/100\n",
            "2/2 [==============================] - 0s 22ms/step - loss: 8.9491 - mae: 8.9491\n",
            "Epoch 85/100\n",
            "2/2 [==============================] - 0s 14ms/step - loss: 13.1657 - mae: 13.1657\n",
            "Epoch 86/100\n",
            "2/2 [==============================] - 0s 31ms/step - loss: 13.7402 - mae: 13.7402\n",
            "Epoch 87/100\n",
            "2/2 [==============================] - 0s 12ms/step - loss: 13.2256 - mae: 13.2256\n",
            "Epoch 88/100\n",
            "2/2 [==============================] - 0s 8ms/step - loss: 11.5546 - mae: 11.5546\n",
            "Epoch 89/100\n",
            "2/2 [==============================] - 0s 11ms/step - loss: 7.8272 - mae: 7.8272\n",
            "Epoch 90/100\n",
            "2/2 [==============================] - 0s 9ms/step - loss: 10.9687 - mae: 10.9687\n",
            "Epoch 91/100\n",
            "2/2 [==============================] - 0s 12ms/step - loss: 6.7637 - mae: 6.7637\n",
            "Epoch 92/100\n",
            "2/2 [==============================] - 0s 12ms/step - loss: 10.1618 - mae: 10.1618\n",
            "Epoch 93/100\n",
            "2/2 [==============================] - 0s 12ms/step - loss: 7.6091 - mae: 7.6091\n",
            "Epoch 94/100\n",
            "2/2 [==============================] - 0s 11ms/step - loss: 9.2408 - mae: 9.2408\n",
            "Epoch 95/100\n",
            "2/2 [==============================] - 0s 11ms/step - loss: 10.8180 - mae: 10.8180\n",
            "Epoch 96/100\n",
            "2/2 [==============================] - 0s 9ms/step - loss: 10.3335 - mae: 10.3335\n",
            "Epoch 97/100\n",
            "2/2 [==============================] - 0s 13ms/step - loss: 7.6762 - mae: 7.6762\n",
            "Epoch 98/100\n",
            "2/2 [==============================] - 0s 12ms/step - loss: 8.6145 - mae: 8.6145\n",
            "Epoch 99/100\n",
            "2/2 [==============================] - 0s 9ms/step - loss: 9.3909 - mae: 9.3909\n",
            "Epoch 100/100\n",
            "2/2 [==============================] - 0s 14ms/step - loss: 8.8425 - mae: 8.8425\n"
          ]
        },
        {
          "output_type": "execute_result",
          "data": {
            "text/plain": [
              "<keras.src.callbacks.History at 0x7c2bb26e1930>"
            ]
          },
          "metadata": {},
          "execution_count": 45
        }
      ]
    },
    {
      "cell_type": "code",
      "source": [
        "# Make and plot predictions for model_1\n",
        "y_preds_1 = model_1.predict(X_test)\n",
        "plot_predictions(predictions=y_preds_1)"
      ],
      "metadata": {
        "colab": {
          "base_uri": "https://localhost:8080/",
          "height": 655
        },
        "id": "zjCmcPEph_xy",
        "outputId": "7f3fd7c6-65d2-4467-f303-ecc7596b4f2b"
      },
      "execution_count": 46,
      "outputs": [
        {
          "output_type": "stream",
          "name": "stderr",
          "text": [
            "WARNING:tensorflow:5 out of the last 5 calls to <function Model.make_predict_function.<locals>.predict_function at 0x7c2bb269acb0> triggered tf.function retracing. Tracing is expensive and the excessive number of tracings could be due to (1) creating @tf.function repeatedly in a loop, (2) passing tensors with different shapes, (3) passing Python objects instead of tensors. For (1), please define your @tf.function outside of the loop. For (2), @tf.function has reduce_retracing=True option that can avoid unnecessary retracing. For (3), please refer to https://www.tensorflow.org/guide/function#controlling_retracing and https://www.tensorflow.org/api_docs/python/tf/function for  more details.\n"
          ]
        },
        {
          "output_type": "stream",
          "name": "stdout",
          "text": [
            "1/1 [==============================] - 0s 83ms/step\n"
          ]
        },
        {
          "output_type": "display_data",
          "data": {
            "text/plain": [
              "<Figure size 1000x700 with 1 Axes>"
            ],
            "image/png": "[encoded data removed]"
          },
          "metadata": {}
        }
      ]
    },
    {
      "cell_type": "code",
      "source": [
        "tf.constant(y_preds_1), tf.squeeze(y_preds_1)"
      ],
      "metadata": {
        "colab": {
          "base_uri": "https://localhost:8080/"
        },
        "id": "YF2gQyySjWCE",
        "outputId": "6655ae06-89f2-4f0a-aba8-cba63dfc0b5f"
      },
      "execution_count": 47,
      "outputs": [
        {
          "output_type": "execute_result",
          "data": {
            "text/plain": [
              "(<tf.Tensor: shape=(10, 1), dtype=float32, numpy=\n",
              " array([[ 74.52825],\n",
              "        [ 79.4113 ],\n",
              "        [ 84.29435],\n",
              "        [ 89.1774 ],\n",
              "        [ 94.06045],\n",
              "        [ 98.9435 ],\n",
              "        [103.82655],\n",
              "        [108.7096 ],\n",
              "        [113.59265],\n",
              "        [118.4757 ]], dtype=float32)>,\n",
              " <tf.Tensor: shape=(10,), dtype=float32, numpy=\n",
              " array([ 74.52825,  79.4113 ,  84.29435,  89.1774 ,  94.06045,  98.9435 ,\n",
              "        103.82655, 108.7096 , 113.59265, 118.4757 ], dtype=float32)>)"
            ]
          },
          "metadata": {},
          "execution_count": 47
        }
      ]
    },
    {
      "cell_type": "code",
      "source": [
        "# Calculate model_1 evaluation metrics\n",
        "mae_1 = mae(y_test, y_preds_1)\n",
        "mse_1 = mse(y_test, y_preds_1)\n",
        "mae_1, mse_1"
      ],
      "metadata": {
        "colab": {
          "base_uri": "https://localhost:8080/"
        },
        "id": "b_GPftVciark",
        "outputId": "7268cb29-8670-46c4-b587-2dc8b242a101"
      },
      "execution_count": 48,
      "outputs": [
        {
          "output_type": "execute_result",
          "data": {
            "text/plain": [
              "(<tf.Tensor: shape=(), dtype=float32, numpy=8.501975>,\n",
              " <tf.Tensor: shape=(), dtype=float32, numpy=78.71675>)"
            ]
          },
          "metadata": {},
          "execution_count": 48
        }
      ]
    },
    {
      "cell_type": "markdown",
      "source": [
        "**Build `model_2`**\n",
        "\n",
        "* 2 dense layers, trained for 100 epochs"
      ],
      "metadata": {
        "id": "cfq1AhUgkBOj"
      }
    },
    {
      "cell_type": "code",
      "source": [
        "# Set random seed\n",
        "tf.random.set_seed(42)\n",
        "\n",
        "# 2. Create the model\n",
        "model_2 = tf.keras.Sequential([\n",
        "    tf.keras.layers.Dense(10),\n",
        "    tf.keras.layers.Dense(1)\n",
        "])\n",
        "\n",
        "# 2. Compile the model\n",
        "model_2.compile(loss = tf.keras.losses.mae,\n",
        "            optimizer = tf.keras.optimizers.SGD(),\n",
        "            metrics = ['mse'])\n",
        "\n",
        "# 3. Fit the model\n",
        "model_2.fit(tf.expand_dims(X_train, axis = -1), y_train, epochs = 100)"
      ],
      "metadata": {
        "colab": {
          "base_uri": "https://localhost:8080/"
        },
        "id": "ZJ4LuQjIkSum",
        "outputId": "573a8a46-6876-4956-e5a0-411d0f7c37b0"
      },
      "execution_count": 49,
      "outputs": [
        {
          "output_type": "stream",
          "name": "stdout",
          "text": [
            "Epoch 1/100\n",
            "2/2 [==============================] - 1s 22ms/step - loss: 55.9189 - mse: 4955.2842\n",
            "Epoch 2/100\n",
            "2/2 [==============================] - 0s 14ms/step - loss: 12.0542 - mse: 207.0120\n",
            "Epoch 3/100\n",
            "2/2 [==============================] - 0s 8ms/step - loss: 32.9811 - mse: 1606.9548\n",
            "Epoch 4/100\n",
            "2/2 [==============================] - 0s 10ms/step - loss: 15.2186 - mse: 311.2467\n",
            "Epoch 5/100\n",
            "2/2 [==============================] - 0s 9ms/step - loss: 18.7378 - mse: 476.7646\n",
            "Epoch 6/100\n",
            "2/2 [==============================] - 0s 8ms/step - loss: 9.4114 - mse: 129.0636\n",
            "Epoch 7/100\n",
            "2/2 [==============================] - 0s 10ms/step - loss: 10.4540 - mse: 143.0633\n",
            "Epoch 8/100\n",
            "2/2 [==============================] - 0s 8ms/step - loss: 12.1388 - mse: 202.2617\n",
            "Epoch 9/100\n",
            "2/2 [==============================] - 0s 8ms/step - loss: 38.1646 - mse: 2250.6614\n",
            "Epoch 10/100\n",
            "2/2 [==============================] - 0s 14ms/step - loss: 25.7275 - mse: 929.7765\n",
            "Epoch 11/100\n",
            "2/2 [==============================] - 0s 9ms/step - loss: 10.2557 - mse: 148.9247\n",
            "Epoch 12/100\n",
            "2/2 [==============================] - 0s 6ms/step - loss: 25.2896 - mse: 891.7474\n",
            "Epoch 13/100\n",
            "2/2 [==============================] - 0s 7ms/step - loss: 17.1006 - mse: 406.5121\n",
            "Epoch 14/100\n",
            "2/2 [==============================] - 0s 9ms/step - loss: 26.1259 - mse: 1068.1234\n",
            "Epoch 15/100\n",
            "2/2 [==============================] - 0s 10ms/step - loss: 18.1607 - mse: 458.5616\n",
            "Epoch 16/100\n",
            "2/2 [==============================] - 0s 11ms/step - loss: 7.8605 - mse: 89.4062\n",
            "Epoch 17/100\n",
            "2/2 [==============================] - 0s 17ms/step - loss: 22.2756 - mse: 687.8823\n",
            "Epoch 18/100\n",
            "2/2 [==============================] - 0s 11ms/step - loss: 10.8441 - mse: 173.2135\n",
            "Epoch 19/100\n",
            "2/2 [==============================] - 0s 15ms/step - loss: 10.7332 - mse: 140.2047\n",
            "Epoch 20/100\n",
            "2/2 [==============================] - 0s 11ms/step - loss: 12.0551 - mse: 165.8365\n",
            "Epoch 21/100\n",
            "2/2 [==============================] - 0s 8ms/step - loss: 20.1923 - mse: 592.2562\n",
            "Epoch 22/100\n",
            "2/2 [==============================] - 0s 8ms/step - loss: 13.8115 - mse: 244.3790\n",
            "Epoch 23/100\n",
            "2/2 [==============================] - 0s 11ms/step - loss: 9.5501 - mse: 95.1741\n",
            "Epoch 24/100\n",
            "2/2 [==============================] - 0s 10ms/step - loss: 11.9079 - mse: 164.2058\n",
            "Epoch 25/100\n",
            "2/2 [==============================] - 0s 9ms/step - loss: 16.2405 - mse: 386.4379\n",
            "Epoch 26/100\n",
            "2/2 [==============================] - 0s 13ms/step - loss: 16.4309 - mse: 376.0291\n",
            "Epoch 27/100\n",
            "2/2 [==============================] - 0s 9ms/step - loss: 11.5957 - mse: 182.3158\n",
            "Epoch 28/100\n",
            "2/2 [==============================] - 0s 8ms/step - loss: 30.0435 - mse: 1472.0382\n",
            "Epoch 29/100\n",
            "2/2 [==============================] - 0s 7ms/step - loss: 9.2519 - mse: 92.4771\n",
            "Epoch 30/100\n",
            "2/2 [==============================] - 0s 8ms/step - loss: 30.5779 - mse: 1716.1862\n",
            "Epoch 31/100\n",
            "2/2 [==============================] - 0s 9ms/step - loss: 55.5924 - mse: 5544.8247\n",
            "Epoch 32/100\n",
            "2/2 [==============================] - 0s 7ms/step - loss: 9.7393 - mse: 103.5340\n",
            "Epoch 33/100\n",
            "2/2 [==============================] - 0s 9ms/step - loss: 12.3596 - mse: 195.6043\n",
            "Epoch 34/100\n",
            "2/2 [==============================] - 0s 10ms/step - loss: 24.7542 - mse: 932.1700\n",
            "Epoch 35/100\n",
            "2/2 [==============================] - 0s 9ms/step - loss: 11.9125 - mse: 211.7278\n",
            "Epoch 36/100\n",
            "2/2 [==============================] - 0s 8ms/step - loss: 22.0814 - mse: 694.6123\n",
            "Epoch 37/100\n",
            "2/2 [==============================] - 0s 7ms/step - loss: 17.5961 - mse: 442.8065\n",
            "Epoch 38/100\n",
            "2/2 [==============================] - 0s 10ms/step - loss: 10.7424 - mse: 134.1831\n",
            "Epoch 39/100\n",
            "2/2 [==============================] - 0s 7ms/step - loss: 11.2596 - mse: 167.8948\n",
            "Epoch 40/100\n",
            "2/2 [==============================] - 0s 7ms/step - loss: 18.2704 - mse: 481.9296\n",
            "Epoch 41/100\n",
            "2/2 [==============================] - 0s 8ms/step - loss: 10.5149 - mse: 181.6597\n",
            "Epoch 42/100\n",
            "2/2 [==============================] - 0s 7ms/step - loss: 7.8448 - mse: 83.0716\n",
            "Epoch 43/100\n",
            "2/2 [==============================] - 0s 7ms/step - loss: 14.2388 - mse: 292.5804\n",
            "Epoch 44/100\n",
            "2/2 [==============================] - 0s 7ms/step - loss: 25.0365 - mse: 995.1907\n",
            "Epoch 45/100\n",
            "2/2 [==============================] - 0s 16ms/step - loss: 10.9742 - mse: 138.4524\n",
            "Epoch 46/100\n",
            "2/2 [==============================] - 0s 10ms/step - loss: 13.0937 - mse: 246.0948\n",
            "Epoch 47/100\n",
            "2/2 [==============================] - 0s 10ms/step - loss: 10.4192 - mse: 172.0307\n",
            "Epoch 48/100\n",
            "2/2 [==============================] - 0s 14ms/step - loss: 17.1214 - mse: 397.3987\n",
            "Epoch 49/100\n",
            "2/2 [==============================] - 0s 20ms/step - loss: 9.6462 - mse: 101.5635\n",
            "Epoch 50/100\n",
            "2/2 [==============================] - 0s 9ms/step - loss: 13.9501 - mse: 268.1100\n",
            "Epoch 51/100\n",
            "2/2 [==============================] - 0s 22ms/step - loss: 11.6453 - mse: 157.0794\n",
            "Epoch 52/100\n",
            "2/2 [==============================] - 0s 11ms/step - loss: 30.8915 - mse: 1652.5310\n",
            "Epoch 53/100\n",
            "2/2 [==============================] - 0s 19ms/step - loss: 14.5012 - mse: 309.7628\n",
            "Epoch 54/100\n",
            "2/2 [==============================] - 0s 11ms/step - loss: 24.2314 - mse: 880.1976\n",
            "Epoch 55/100\n",
            "2/2 [==============================] - 0s 16ms/step - loss: 23.4772 - mse: 826.6271\n",
            "Epoch 56/100\n",
            "2/2 [==============================] - 0s 10ms/step - loss: 10.9733 - mse: 170.7411\n",
            "Epoch 57/100\n",
            "2/2 [==============================] - 0s 14ms/step - loss: 12.8672 - mse: 203.6383\n",
            "Epoch 58/100\n",
            "2/2 [==============================] - 0s 8ms/step - loss: 9.6682 - mse: 103.5924\n",
            "Epoch 59/100\n",
            "2/2 [==============================] - 0s 10ms/step - loss: 13.0362 - mse: 234.8480\n",
            "Epoch 60/100\n",
            "2/2 [==============================] - 0s 9ms/step - loss: 10.7080 - mse: 133.9575\n",
            "Epoch 61/100\n",
            "2/2 [==============================] - 0s 9ms/step - loss: 13.2470 - mse: 229.6611\n",
            "Epoch 62/100\n",
            "2/2 [==============================] - 0s 10ms/step - loss: 17.0894 - mse: 444.7366\n",
            "Epoch 63/100\n",
            "2/2 [==============================] - 0s 9ms/step - loss: 9.0577 - mse: 87.3989\n",
            "Epoch 64/100\n",
            "2/2 [==============================] - 0s 8ms/step - loss: 17.7338 - mse: 455.7796\n",
            "Epoch 65/100\n",
            "2/2 [==============================] - 0s 10ms/step - loss: 10.5314 - mse: 134.1084\n",
            "Epoch 66/100\n",
            "2/2 [==============================] - 0s 8ms/step - loss: 21.2227 - mse: 664.5419\n",
            "Epoch 67/100\n",
            "2/2 [==============================] - 0s 8ms/step - loss: 10.5293 - mse: 129.2939\n",
            "Epoch 68/100\n",
            "2/2 [==============================] - 0s 7ms/step - loss: 14.3830 - mse: 311.9782\n",
            "Epoch 69/100\n",
            "2/2 [==============================] - 0s 9ms/step - loss: 10.6214 - mse: 129.4718\n",
            "Epoch 70/100\n",
            "2/2 [==============================] - 0s 8ms/step - loss: 12.7071 - mse: 205.3481\n",
            "Epoch 71/100\n",
            "2/2 [==============================] - 0s 8ms/step - loss: 13.1364 - mse: 232.8679\n",
            "Epoch 72/100\n",
            "2/2 [==============================] - 0s 8ms/step - loss: 19.6495 - mse: 548.3188\n",
            "Epoch 73/100\n",
            "2/2 [==============================] - 0s 8ms/step - loss: 11.2005 - mse: 191.1456\n",
            "Epoch 74/100\n",
            "2/2 [==============================] - 0s 9ms/step - loss: 21.9374 - mse: 749.1253\n",
            "Epoch 75/100\n",
            "2/2 [==============================] - 0s 8ms/step - loss: 7.1911 - mse: 71.4429\n",
            "Epoch 76/100\n",
            "2/2 [==============================] - 0s 8ms/step - loss: 9.4153 - mse: 149.8596\n",
            "Epoch 77/100\n",
            "2/2 [==============================] - 0s 9ms/step - loss: 22.0371 - mse: 726.1121\n",
            "Epoch 78/100\n",
            "2/2 [==============================] - 0s 9ms/step - loss: 17.7216 - mse: 477.0087\n",
            "Epoch 79/100\n",
            "2/2 [==============================] - 0s 8ms/step - loss: 14.8768 - mse: 324.0789\n",
            "Epoch 80/100\n",
            "2/2 [==============================] - 0s 9ms/step - loss: 25.2124 - mse: 970.3666\n",
            "Epoch 81/100\n",
            "2/2 [==============================] - 0s 11ms/step - loss: 10.9441 - mse: 141.9838\n",
            "Epoch 82/100\n",
            "2/2 [==============================] - 0s 9ms/step - loss: 12.7329 - mse: 231.8842\n",
            "Epoch 83/100\n",
            "2/2 [==============================] - 0s 19ms/step - loss: 17.4993 - mse: 399.2102\n",
            "Epoch 84/100\n",
            "2/2 [==============================] - 0s 11ms/step - loss: 7.2840 - mse: 73.1823\n",
            "Epoch 85/100\n",
            "2/2 [==============================] - 0s 9ms/step - loss: 15.0252 - mse: 315.1653\n",
            "Epoch 86/100\n",
            "2/2 [==============================] - 0s 10ms/step - loss: 15.3350 - mse: 316.6467\n",
            "Epoch 87/100\n",
            "2/2 [==============================] - 0s 8ms/step - loss: 19.2040 - mse: 525.5959\n",
            "Epoch 88/100\n",
            "2/2 [==============================] - 0s 10ms/step - loss: 29.5745 - mse: 1264.3286\n",
            "Epoch 89/100\n",
            "2/2 [==============================] - 0s 7ms/step - loss: 10.1448 - mse: 124.1866\n",
            "Epoch 90/100\n",
            "2/2 [==============================] - 0s 7ms/step - loss: 21.3186 - mse: 650.9573\n",
            "Epoch 91/100\n",
            "2/2 [==============================] - 0s 11ms/step - loss: 10.5286 - mse: 162.7360\n",
            "Epoch 92/100\n",
            "2/2 [==============================] - 0s 6ms/step - loss: 18.2124 - mse: 454.2980\n",
            "Epoch 93/100\n",
            "2/2 [==============================] - 0s 10ms/step - loss: 6.8148 - mse: 67.3625\n",
            "Epoch 94/100\n",
            "2/2 [==============================] - 0s 6ms/step - loss: 13.0128 - mse: 230.1917\n",
            "Epoch 95/100\n",
            "2/2 [==============================] - 0s 6ms/step - loss: 18.3999 - mse: 499.3463\n",
            "Epoch 96/100\n",
            "2/2 [==============================] - 0s 8ms/step - loss: 10.3524 - mse: 178.5586\n",
            "Epoch 97/100\n",
            "2/2 [==============================] - 0s 6ms/step - loss: 14.4174 - mse: 314.1424\n",
            "Epoch 98/100\n",
            "2/2 [==============================] - 0s 5ms/step - loss: 6.5784 - mse: 60.5965\n",
            "Epoch 99/100\n",
            "2/2 [==============================] - 0s 5ms/step - loss: 12.5997 - mse: 229.4370\n",
            "Epoch 100/100\n",
            "2/2 [==============================] - 0s 6ms/step - loss: 19.4170 - mse: 553.6805\n"
          ]
        },
        {
          "output_type": "execute_result",
          "data": {
            "text/plain": [
              "<keras.src.callbacks.History at 0x7c2bb2468b20>"
            ]
          },
          "metadata": {},
          "execution_count": 49
        }
      ]
    },
    {
      "cell_type": "code",
      "source": [
        "# Make and plot predictions for model_2\n",
        "y_preds_2 = model_2.predict(X_test)\n",
        "plot_predictions(predictions=y_preds_2)"
      ],
      "metadata": {
        "colab": {
          "base_uri": "https://localhost:8080/",
          "height": 655
        },
        "id": "OiM1bhjU58Db",
        "outputId": "43820b4b-6df9-40bb-e9fd-ea66a38d07f5"
      },
      "execution_count": 50,
      "outputs": [
        {
          "output_type": "stream",
          "name": "stderr",
          "text": [
            "WARNING:tensorflow:6 out of the last 6 calls to <function Model.make_predict_function.<locals>.predict_function at 0x7c2bb2489ab0> triggered tf.function retracing. Tracing is expensive and the excessive number of tracings could be due to (1) creating @tf.function repeatedly in a loop, (2) passing tensors with different shapes, (3) passing Python objects instead of tensors. For (1), please define your @tf.function outside of the loop. For (2), @tf.function has reduce_retracing=True option that can avoid unnecessary retracing. For (3), please refer to https://www.tensorflow.org/guide/function#controlling_retracing and https://www.tensorflow.org/api_docs/python/tf/function for  more details.\n"
          ]
        },
        {
          "output_type": "stream",
          "name": "stdout",
          "text": [
            "1/1 [==============================] - 0s 102ms/step\n"
          ]
        },
        {
          "output_type": "display_data",
          "data": {
            "text/plain": [
              "<Figure size 1000x700 with 1 Axes>"
            ],
            "image/png": "[encoded data removed]"
          },
          "metadata": {}
        }
      ]
    },
    {
      "cell_type": "code",
      "source": [
        "# Calculate model_2 evaluation matrix\n",
        "\n",
        "mae_2 = mae(y_test, y_preds_2)\n",
        "mse_2 = mse(y_test, y_preds_2)\n",
        "mae_2, mse_2"
      ],
      "metadata": {
        "colab": {
          "base_uri": "https://localhost:8080/"
        },
        "id": "UxnveU7I7vJ9",
        "outputId": "b34ae2da-0545-41ed-c0e6-28b1c81d75f0"
      },
      "execution_count": 51,
      "outputs": [
        {
          "output_type": "execute_result",
          "data": {
            "text/plain": [
              "(<tf.Tensor: shape=(), dtype=float32, numpy=13.238078>,\n",
              " <tf.Tensor: shape=(), dtype=float32, numpy=185.23671>)"
            ]
          },
          "metadata": {},
          "execution_count": 51
        }
      ]
    },
    {
      "cell_type": "markdown",
      "source": [
        "**Build** ``model_3``\n",
        "\n",
        "* 2 layers trained for 500 epochs"
      ],
      "metadata": {
        "id": "Zlt8sa8Z8CQZ"
      }
    },
    {
      "cell_type": "code",
      "source": [
        "# Set random seed\n",
        "tf.random.set_seed(42)\n",
        "\n",
        "# 1. Create the model\n",
        "model_3 = tf.keras.Sequential([\n",
        "    tf.keras.layers.Dense(10),\n",
        "    tf.keras.layers.Dense(1)\n",
        "])\n",
        "\n",
        "# 2. Compile the model\n",
        "model_3.compile(loss = tf.keras.losses.mae,\n",
        "                optimizer = tf.keras.optimizers.SGD(),\n",
        "                metrics = ['mae'])\n",
        "\n",
        "# 3. Fit the model\n",
        "model_3.fit(tf.expand_dims(X_train, axis = -1), y_train, epochs = 500)"
      ],
      "metadata": {
        "colab": {
          "base_uri": "https://localhost:8080/"
        },
        "id": "GuCvzSXL8Q_P",
        "outputId": "fb2a2e9e-e60a-41a1-c44e-e1838b8cbf50"
      },
      "execution_count": 52,
      "outputs": [
        {
          "output_type": "stream",
          "name": "stdout",
          "text": [
            "Epoch 1/500\n",
            "2/2 [==============================] - 1s 15ms/step - loss: 30.2809 - mae: 30.2809\n",
            "Epoch 2/500\n",
            "2/2 [==============================] - 0s 9ms/step - loss: 26.2384 - mae: 26.2384\n",
            "Epoch 3/500\n",
            "2/2 [==============================] - 0s 8ms/step - loss: 31.9907 - mae: 31.9907\n",
            "Epoch 4/500\n",
            "2/2 [==============================] - 0s 9ms/step - loss: 24.7937 - mae: 24.7937\n",
            "Epoch 5/500\n",
            "2/2 [==============================] - 0s 8ms/step - loss: 14.6895 - mae: 14.6895\n",
            "Epoch 6/500\n",
            "2/2 [==============================] - 0s 8ms/step - loss: 11.6956 - mae: 11.6956\n",
            "Epoch 7/500\n",
            "2/2 [==============================] - 0s 8ms/step - loss: 11.0391 - mae: 11.0391\n",
            "Epoch 8/500\n",
            "2/2 [==============================] - 0s 12ms/step - loss: 11.0422 - mae: 11.0422\n",
            "Epoch 9/500\n",
            "2/2 [==============================] - 0s 10ms/step - loss: 39.8559 - mae: 39.8559\n",
            "Epoch 10/500\n",
            "2/2 [==============================] - 0s 7ms/step - loss: 27.3285 - mae: 27.3285\n",
            "Epoch 11/500\n",
            "2/2 [==============================] - 0s 7ms/step - loss: 11.0227 - mae: 11.0227\n",
            "Epoch 12/500\n",
            "2/2 [==============================] - 0s 7ms/step - loss: 24.3634 - mae: 24.3634\n",
            "Epoch 13/500\n",
            "2/2 [==============================] - 0s 8ms/step - loss: 19.3672 - mae: 19.3672\n",
            "Epoch 14/500\n",
            "2/2 [==============================] - 0s 7ms/step - loss: 23.6290 - mae: 23.6290\n",
            "Epoch 15/500\n",
            "2/2 [==============================] - 0s 7ms/step - loss: 15.7208 - mae: 15.7208\n",
            "Epoch 16/500\n",
            "2/2 [==============================] - 0s 7ms/step - loss: 10.4198 - mae: 10.4198\n",
            "Epoch 17/500\n",
            "2/2 [==============================] - 0s 6ms/step - loss: 19.6392 - mae: 19.6392\n",
            "Epoch 18/500\n",
            "2/2 [==============================] - 0s 7ms/step - loss: 13.2806 - mae: 13.2806\n",
            "Epoch 19/500\n",
            "2/2 [==============================] - 0s 13ms/step - loss: 16.0499 - mae: 16.0499\n",
            "Epoch 20/500\n",
            "2/2 [==============================] - 0s 7ms/step - loss: 10.1995 - mae: 10.1995\n",
            "Epoch 21/500\n",
            "2/2 [==============================] - 0s 8ms/step - loss: 13.7464 - mae: 13.7464\n",
            "Epoch 22/500\n",
            "2/2 [==============================] - 0s 7ms/step - loss: 21.9653 - mae: 21.9653\n",
            "Epoch 23/500\n",
            "2/2 [==============================] - 0s 15ms/step - loss: 10.4520 - mae: 10.4520\n",
            "Epoch 24/500\n",
            "2/2 [==============================] - 0s 12ms/step - loss: 15.7421 - mae: 15.7421\n",
            "Epoch 25/500\n",
            "2/2 [==============================] - 0s 8ms/step - loss: 14.8956 - mae: 14.8956\n",
            "Epoch 26/500\n",
            "2/2 [==============================] - 0s 10ms/step - loss: 19.5156 - mae: 19.5156\n",
            "Epoch 27/500\n",
            "2/2 [==============================] - 0s 8ms/step - loss: 20.5493 - mae: 20.5493\n",
            "Epoch 28/500\n",
            "2/2 [==============================] - 0s 8ms/step - loss: 14.9189 - mae: 14.9189\n",
            "Epoch 29/500\n",
            "2/2 [==============================] - 0s 8ms/step - loss: 9.2640 - mae: 9.2640\n",
            "Epoch 30/500\n",
            "2/2 [==============================] - 0s 10ms/step - loss: 30.2956 - mae: 30.2956\n",
            "Epoch 31/500\n",
            "2/2 [==============================] - 0s 13ms/step - loss: 55.0418 - mae: 55.0418\n",
            "Epoch 32/500\n",
            "2/2 [==============================] - 0s 12ms/step - loss: 9.6883 - mae: 9.6883\n",
            "Epoch 33/500\n",
            "2/2 [==============================] - 0s 24ms/step - loss: 12.2970 - mae: 12.2970\n",
            "Epoch 34/500\n",
            "2/2 [==============================] - 0s 23ms/step - loss: 24.4220 - mae: 24.4220\n",
            "Epoch 35/500\n",
            "2/2 [==============================] - 0s 37ms/step - loss: 11.9636 - mae: 11.9636\n",
            "Epoch 36/500\n",
            "2/2 [==============================] - 0s 24ms/step - loss: 22.2128 - mae: 22.2128\n",
            "Epoch 37/500\n",
            "2/2 [==============================] - 0s 16ms/step - loss: 17.3830 - mae: 17.3830\n",
            "Epoch 38/500\n",
            "2/2 [==============================] - 0s 15ms/step - loss: 10.6724 - mae: 10.6724\n",
            "Epoch 39/500\n",
            "2/2 [==============================] - 0s 10ms/step - loss: 11.1885 - mae: 11.1885\n",
            "Epoch 40/500\n",
            "2/2 [==============================] - 0s 17ms/step - loss: 17.9969 - mae: 17.9969\n",
            "Epoch 41/500\n",
            "2/2 [==============================] - 0s 14ms/step - loss: 10.4088 - mae: 10.4088\n",
            "Epoch 42/500\n",
            "2/2 [==============================] - 0s 9ms/step - loss: 7.2715 - mae: 7.2715\n",
            "Epoch 43/500\n",
            "2/2 [==============================] - 0s 9ms/step - loss: 18.9583 - mae: 18.9583\n",
            "Epoch 44/500\n",
            "2/2 [==============================] - 0s 8ms/step - loss: 20.1154 - mae: 20.1154\n",
            "Epoch 45/500\n",
            "2/2 [==============================] - 0s 10ms/step - loss: 10.1257 - mae: 10.1257\n",
            "Epoch 46/500\n",
            "2/2 [==============================] - 0s 19ms/step - loss: 11.3887 - mae: 11.3887\n",
            "Epoch 47/500\n",
            "2/2 [==============================] - 0s 12ms/step - loss: 9.8175 - mae: 9.8175\n",
            "Epoch 48/500\n",
            "2/2 [==============================] - 0s 12ms/step - loss: 17.6041 - mae: 17.6041\n",
            "Epoch 49/500\n",
            "2/2 [==============================] - 0s 20ms/step - loss: 9.3381 - mae: 9.3381\n",
            "Epoch 50/500\n",
            "2/2 [==============================] - 0s 17ms/step - loss: 13.3896 - mae: 13.3896\n",
            "Epoch 51/500\n",
            "2/2 [==============================] - 0s 9ms/step - loss: 11.4394 - mae: 11.4394\n",
            "Epoch 52/500\n",
            "2/2 [==============================] - 0s 9ms/step - loss: 29.4309 - mae: 29.4309\n",
            "Epoch 53/500\n",
            "2/2 [==============================] - 0s 8ms/step - loss: 16.7679 - mae: 16.7679\n",
            "Epoch 54/500\n",
            "2/2 [==============================] - 0s 8ms/step - loss: 21.7511 - mae: 21.7511\n",
            "Epoch 55/500\n",
            "2/2 [==============================] - 0s 13ms/step - loss: 22.2009 - mae: 22.2009\n",
            "Epoch 56/500\n",
            "2/2 [==============================] - 0s 25ms/step - loss: 11.2524 - mae: 11.2524\n",
            "Epoch 57/500\n",
            "2/2 [==============================] - 0s 8ms/step - loss: 13.2347 - mae: 13.2347\n",
            "Epoch 58/500\n",
            "2/2 [==============================] - 0s 9ms/step - loss: 9.8808 - mae: 9.8808\n",
            "Epoch 59/500\n",
            "2/2 [==============================] - 0s 8ms/step - loss: 13.4277 - mae: 13.4277\n",
            "Epoch 60/500\n",
            "2/2 [==============================] - 0s 12ms/step - loss: 10.9476 - mae: 10.9476\n",
            "Epoch 61/500\n",
            "2/2 [==============================] - 0s 13ms/step - loss: 13.5746 - mae: 13.5746\n",
            "Epoch 62/500\n",
            "2/2 [==============================] - 0s 12ms/step - loss: 17.9041 - mae: 17.9041\n",
            "Epoch 63/500\n",
            "2/2 [==============================] - 0s 9ms/step - loss: 8.7459 - mae: 8.7459\n",
            "Epoch 64/500\n",
            "2/2 [==============================] - 0s 38ms/step - loss: 16.1588 - mae: 16.1588\n",
            "Epoch 65/500\n",
            "2/2 [==============================] - 0s 20ms/step - loss: 10.7560 - mae: 10.7560\n",
            "Epoch 66/500\n",
            "2/2 [==============================] - 0s 19ms/step - loss: 22.2156 - mae: 22.2156\n",
            "Epoch 67/500\n",
            "2/2 [==============================] - 0s 8ms/step - loss: 10.2794 - mae: 10.2794\n",
            "Epoch 68/500\n",
            "2/2 [==============================] - 0s 7ms/step - loss: 13.4879 - mae: 13.4879\n",
            "Epoch 69/500\n",
            "2/2 [==============================] - 0s 32ms/step - loss: 11.4466 - mae: 11.4466\n",
            "Epoch 70/500\n",
            "2/2 [==============================] - 0s 8ms/step - loss: 13.6331 - mae: 13.6331\n",
            "Epoch 71/500\n",
            "2/2 [==============================] - 0s 7ms/step - loss: 15.6480 - mae: 15.6480\n",
            "Epoch 72/500\n",
            "2/2 [==============================] - 0s 12ms/step - loss: 11.8656 - mae: 11.8656\n",
            "Epoch 73/500\n",
            "2/2 [==============================] - 0s 16ms/step - loss: 16.6472 - mae: 16.6472\n",
            "Epoch 74/500\n",
            "2/2 [==============================] - 0s 12ms/step - loss: 24.1806 - mae: 24.1806\n",
            "Epoch 75/500\n",
            "2/2 [==============================] - 0s 14ms/step - loss: 9.6434 - mae: 9.6434\n",
            "Epoch 76/500\n",
            "2/2 [==============================] - 0s 13ms/step - loss: 12.4971 - mae: 12.4971\n",
            "Epoch 77/500\n",
            "2/2 [==============================] - 0s 13ms/step - loss: 16.7426 - mae: 16.7426\n",
            "Epoch 78/500\n",
            "2/2 [==============================] - 0s 24ms/step - loss: 9.0917 - mae: 9.0917\n",
            "Epoch 79/500\n",
            "2/2 [==============================] - 0s 20ms/step - loss: 24.0688 - mae: 24.0688\n",
            "Epoch 80/500\n",
            "2/2 [==============================] - 0s 24ms/step - loss: 26.8698 - mae: 26.8698\n",
            "Epoch 81/500\n",
            "2/2 [==============================] - 0s 30ms/step - loss: 11.7457 - mae: 11.7457\n",
            "Epoch 82/500\n",
            "2/2 [==============================] - 0s 12ms/step - loss: 11.9978 - mae: 11.9978\n",
            "Epoch 83/500\n",
            "2/2 [==============================] - 0s 11ms/step - loss: 17.3879 - mae: 17.3879\n",
            "Epoch 84/500\n",
            "2/2 [==============================] - 0s 11ms/step - loss: 7.2737 - mae: 7.2737\n",
            "Epoch 85/500\n",
            "2/2 [==============================] - 0s 16ms/step - loss: 14.9446 - mae: 14.9446\n",
            "Epoch 86/500\n",
            "2/2 [==============================] - 0s 21ms/step - loss: 15.2721 - mae: 15.2721\n",
            "Epoch 87/500\n",
            "2/2 [==============================] - 0s 18ms/step - loss: 19.0716 - mae: 19.0716\n",
            "Epoch 88/500\n",
            "2/2 [==============================] - 0s 20ms/step - loss: 29.9261 - mae: 29.9261\n",
            "Epoch 89/500\n",
            "2/2 [==============================] - 0s 18ms/step - loss: 10.2074 - mae: 10.2074\n",
            "Epoch 90/500\n",
            "2/2 [==============================] - 0s 12ms/step - loss: 21.6029 - mae: 21.6029\n",
            "Epoch 91/500\n",
            "2/2 [==============================] - 0s 7ms/step - loss: 10.6072 - mae: 10.6072\n",
            "Epoch 92/500\n",
            "2/2 [==============================] - 0s 7ms/step - loss: 18.4655 - mae: 18.4655\n",
            "Epoch 93/500\n",
            "2/2 [==============================] - 0s 11ms/step - loss: 7.4350 - mae: 7.4350\n",
            "Epoch 94/500\n",
            "2/2 [==============================] - 0s 29ms/step - loss: 17.7944 - mae: 17.7944\n",
            "Epoch 95/500\n",
            "2/2 [==============================] - 0s 8ms/step - loss: 11.1500 - mae: 11.1500\n",
            "Epoch 96/500\n",
            "2/2 [==============================] - 0s 11ms/step - loss: 19.4905 - mae: 19.4905\n",
            "Epoch 97/500\n",
            "2/2 [==============================] - 0s 7ms/step - loss: 12.5245 - mae: 12.5245\n",
            "Epoch 98/500\n",
            "2/2 [==============================] - 0s 7ms/step - loss: 10.3150 - mae: 10.3150\n",
            "Epoch 99/500\n",
            "2/2 [==============================] - 0s 8ms/step - loss: 13.8489 - mae: 13.8489\n",
            "Epoch 100/500\n",
            "2/2 [==============================] - 0s 10ms/step - loss: 20.1478 - mae: 20.1478\n",
            "Epoch 101/500\n",
            "2/2 [==============================] - 0s 9ms/step - loss: 11.4352 - mae: 11.4352\n",
            "Epoch 102/500\n",
            "2/2 [==============================] - 0s 13ms/step - loss: 17.4113 - mae: 17.4113\n",
            "Epoch 103/500\n",
            "2/2 [==============================] - 0s 11ms/step - loss: 7.7785 - mae: 7.7785\n",
            "Epoch 104/500\n",
            "2/2 [==============================] - 0s 8ms/step - loss: 22.1203 - mae: 22.1203\n",
            "Epoch 105/500\n",
            "2/2 [==============================] - 0s 8ms/step - loss: 20.6755 - mae: 20.6755\n",
            "Epoch 106/500\n",
            "2/2 [==============================] - 0s 7ms/step - loss: 10.0586 - mae: 10.0586\n",
            "Epoch 107/500\n",
            "2/2 [==============================] - 0s 14ms/step - loss: 24.6447 - mae: 24.6447\n",
            "Epoch 108/500\n",
            "2/2 [==============================] - 0s 13ms/step - loss: 15.4555 - mae: 15.4555\n",
            "Epoch 109/500\n",
            "2/2 [==============================] - 0s 9ms/step - loss: 8.1820 - mae: 8.1820\n",
            "Epoch 110/500\n",
            "2/2 [==============================] - 0s 10ms/step - loss: 6.7468 - mae: 6.7468\n",
            "Epoch 111/500\n",
            "2/2 [==============================] - 0s 9ms/step - loss: 11.0108 - mae: 11.0108\n",
            "Epoch 112/500\n",
            "2/2 [==============================] - 1s 15ms/step - loss: 19.9111 - mae: 19.9111\n",
            "Epoch 113/500\n",
            "2/2 [==============================] - 0s 11ms/step - loss: 14.6662 - mae: 14.6662\n",
            "Epoch 114/500\n",
            "2/2 [==============================] - 0s 18ms/step - loss: 18.3977 - mae: 18.3977\n",
            "Epoch 115/500\n",
            "2/2 [==============================] - 0s 9ms/step - loss: 10.8997 - mae: 10.8997\n",
            "Epoch 116/500\n",
            "2/2 [==============================] - 0s 7ms/step - loss: 22.3725 - mae: 22.3725\n",
            "Epoch 117/500\n",
            "2/2 [==============================] - 0s 12ms/step - loss: 9.3445 - mae: 9.3445\n",
            "Epoch 118/500\n",
            "2/2 [==============================] - 0s 23ms/step - loss: 10.3676 - mae: 10.3676\n",
            "Epoch 119/500\n",
            "2/2 [==============================] - 0s 18ms/step - loss: 8.0324 - mae: 8.0324\n",
            "Epoch 120/500\n",
            "2/2 [==============================] - 0s 7ms/step - loss: 37.7446 - mae: 37.7446\n",
            "Epoch 121/500\n",
            "2/2 [==============================] - 0s 7ms/step - loss: 10.6733 - mae: 10.6733\n",
            "Epoch 122/500\n",
            "2/2 [==============================] - 0s 10ms/step - loss: 28.2897 - mae: 28.2897\n",
            "Epoch 123/500\n",
            "2/2 [==============================] - 0s 9ms/step - loss: 32.8743 - mae: 32.8743\n",
            "Epoch 124/500\n",
            "2/2 [==============================] - 0s 11ms/step - loss: 19.6220 - mae: 19.6220\n",
            "Epoch 125/500\n",
            "2/2 [==============================] - 0s 11ms/step - loss: 7.0599 - mae: 7.0599\n",
            "Epoch 126/500\n",
            "2/2 [==============================] - 0s 7ms/step - loss: 21.7725 - mae: 21.7725\n",
            "Epoch 127/500\n",
            "2/2 [==============================] - 0s 8ms/step - loss: 8.0177 - mae: 8.0177\n",
            "Epoch 128/500\n",
            "2/2 [==============================] - 0s 10ms/step - loss: 21.0086 - mae: 21.0086\n",
            "Epoch 129/500\n",
            "2/2 [==============================] - 0s 7ms/step - loss: 9.0459 - mae: 9.0459\n",
            "Epoch 130/500\n",
            "2/2 [==============================] - 0s 12ms/step - loss: 23.9685 - mae: 23.9685\n",
            "Epoch 131/500\n",
            "2/2 [==============================] - 0s 6ms/step - loss: 9.7808 - mae: 9.7808\n",
            "Epoch 132/500\n",
            "2/2 [==============================] - 0s 13ms/step - loss: 18.2253 - mae: 18.2253\n",
            "Epoch 133/500\n",
            "2/2 [==============================] - 0s 9ms/step - loss: 7.6113 - mae: 7.6113\n",
            "Epoch 134/500\n",
            "2/2 [==============================] - 0s 10ms/step - loss: 18.4879 - mae: 18.4879\n",
            "Epoch 135/500\n",
            "2/2 [==============================] - 0s 14ms/step - loss: 10.5450 - mae: 10.5450\n",
            "Epoch 136/500\n",
            "2/2 [==============================] - 0s 13ms/step - loss: 18.1813 - mae: 18.1813\n",
            "Epoch 137/500\n",
            "2/2 [==============================] - 0s 10ms/step - loss: 23.0288 - mae: 23.0288\n",
            "Epoch 138/500\n",
            "2/2 [==============================] - 0s 11ms/step - loss: 9.1158 - mae: 9.1158\n",
            "Epoch 139/500\n",
            "2/2 [==============================] - 0s 14ms/step - loss: 8.9158 - mae: 8.9158\n",
            "Epoch 140/500\n",
            "2/2 [==============================] - 0s 12ms/step - loss: 16.3471 - mae: 16.3471\n",
            "Epoch 141/500\n",
            "2/2 [==============================] - 0s 7ms/step - loss: 8.4575 - mae: 8.4575\n",
            "Epoch 142/500\n",
            "2/2 [==============================] - 0s 24ms/step - loss: 36.6292 - mae: 36.6292\n",
            "Epoch 143/500\n",
            "2/2 [==============================] - 0s 12ms/step - loss: 25.3466 - mae: 25.3466\n",
            "Epoch 144/500\n",
            "2/2 [==============================] - 0s 15ms/step - loss: 10.4753 - mae: 10.4753\n",
            "Epoch 145/500\n",
            "2/2 [==============================] - 0s 8ms/step - loss: 25.7847 - mae: 25.7847\n",
            "Epoch 146/500\n",
            "2/2 [==============================] - 0s 25ms/step - loss: 10.0376 - mae: 10.0376\n",
            "Epoch 147/500\n",
            "2/2 [==============================] - 0s 7ms/step - loss: 14.6916 - mae: 14.6916\n",
            "Epoch 148/500\n",
            "2/2 [==============================] - 0s 30ms/step - loss: 17.7846 - mae: 17.7846\n",
            "Epoch 149/500\n",
            "2/2 [==============================] - 0s 13ms/step - loss: 8.5139 - mae: 8.5139\n",
            "Epoch 150/500\n",
            "2/2 [==============================] - 0s 19ms/step - loss: 7.6487 - mae: 7.6487\n",
            "Epoch 151/500\n",
            "2/2 [==============================] - 0s 24ms/step - loss: 18.9835 - mae: 18.9835\n",
            "Epoch 152/500\n",
            "2/2 [==============================] - 0s 15ms/step - loss: 10.5070 - mae: 10.5070\n",
            "Epoch 153/500\n",
            "2/2 [==============================] - 0s 8ms/step - loss: 30.5872 - mae: 30.5872\n",
            "Epoch 154/500\n",
            "2/2 [==============================] - 0s 12ms/step - loss: 9.9602 - mae: 9.9602\n",
            "Epoch 155/500\n",
            "2/2 [==============================] - 0s 18ms/step - loss: 15.7092 - mae: 15.7092\n",
            "Epoch 156/500\n",
            "2/2 [==============================] - 0s 17ms/step - loss: 17.5779 - mae: 17.5779\n",
            "Epoch 157/500\n",
            "2/2 [==============================] - 0s 21ms/step - loss: 31.3576 - mae: 31.3576\n",
            "Epoch 158/500\n",
            "2/2 [==============================] - 0s 18ms/step - loss: 10.2960 - mae: 10.2960\n",
            "Epoch 159/500\n",
            "2/2 [==============================] - 0s 18ms/step - loss: 8.7313 - mae: 8.7313\n",
            "Epoch 160/500\n",
            "2/2 [==============================] - 0s 13ms/step - loss: 20.9188 - mae: 20.9188\n",
            "Epoch 161/500\n",
            "2/2 [==============================] - 0s 13ms/step - loss: 11.8921 - mae: 11.8921\n",
            "Epoch 162/500\n",
            "2/2 [==============================] - 0s 17ms/step - loss: 21.8989 - mae: 21.8989\n",
            "Epoch 163/500\n",
            "2/2 [==============================] - 0s 12ms/step - loss: 19.5649 - mae: 19.5649\n",
            "Epoch 164/500\n",
            "2/2 [==============================] - 0s 6ms/step - loss: 11.4588 - mae: 11.4588\n",
            "Epoch 165/500\n",
            "2/2 [==============================] - 0s 6ms/step - loss: 11.6079 - mae: 11.6079\n",
            "Epoch 166/500\n",
            "2/2 [==============================] - 0s 6ms/step - loss: 21.3425 - mae: 21.3425\n",
            "Epoch 167/500\n",
            "2/2 [==============================] - 0s 11ms/step - loss: 26.9241 - mae: 26.9241\n",
            "Epoch 168/500\n",
            "2/2 [==============================] - 0s 6ms/step - loss: 10.0316 - mae: 10.0316\n",
            "Epoch 169/500\n",
            "2/2 [==============================] - 0s 7ms/step - loss: 23.1592 - mae: 23.1592\n",
            "Epoch 170/500\n",
            "2/2 [==============================] - 0s 8ms/step - loss: 9.6008 - mae: 9.6008\n",
            "Epoch 171/500\n",
            "2/2 [==============================] - 0s 11ms/step - loss: 15.8566 - mae: 15.8566\n",
            "Epoch 172/500\n",
            "2/2 [==============================] - 0s 8ms/step - loss: 13.8944 - mae: 13.8944\n",
            "Epoch 173/500\n",
            "2/2 [==============================] - 0s 7ms/step - loss: 22.5829 - mae: 22.5829\n",
            "Epoch 174/500\n",
            "2/2 [==============================] - 0s 7ms/step - loss: 11.3709 - mae: 11.3709\n",
            "Epoch 175/500\n",
            "2/2 [==============================] - 0s 6ms/step - loss: 20.0856 - mae: 20.0856\n",
            "Epoch 176/500\n",
            "2/2 [==============================] - 0s 7ms/step - loss: 7.4301 - mae: 7.4301\n",
            "Epoch 177/500\n",
            "2/2 [==============================] - 0s 9ms/step - loss: 8.6188 - mae: 8.6188\n",
            "Epoch 178/500\n",
            "2/2 [==============================] - 0s 7ms/step - loss: 15.4920 - mae: 15.4920\n",
            "Epoch 179/500\n",
            "2/2 [==============================] - 0s 8ms/step - loss: 9.3039 - mae: 9.3039\n",
            "Epoch 180/500\n",
            "2/2 [==============================] - 0s 7ms/step - loss: 8.1507 - mae: 8.1507\n",
            "Epoch 181/500\n",
            "2/2 [==============================] - 0s 7ms/step - loss: 18.7146 - mae: 18.7146\n",
            "Epoch 182/500\n",
            "2/2 [==============================] - 0s 8ms/step - loss: 10.7968 - mae: 10.7968\n",
            "Epoch 183/500\n",
            "2/2 [==============================] - 0s 9ms/step - loss: 10.9131 - mae: 10.9131\n",
            "Epoch 184/500\n",
            "2/2 [==============================] - 0s 7ms/step - loss: 33.6952 - mae: 33.6952\n",
            "Epoch 185/500\n",
            "2/2 [==============================] - 0s 7ms/step - loss: 7.6425 - mae: 7.6425\n",
            "Epoch 186/500\n",
            "2/2 [==============================] - 0s 6ms/step - loss: 16.7713 - mae: 16.7713\n",
            "Epoch 187/500\n",
            "2/2 [==============================] - 0s 8ms/step - loss: 10.2026 - mae: 10.2026\n",
            "Epoch 188/500\n",
            "2/2 [==============================] - 0s 6ms/step - loss: 23.0483 - mae: 23.0483\n",
            "Epoch 189/500\n",
            "2/2 [==============================] - 0s 7ms/step - loss: 9.8918 - mae: 9.8918\n",
            "Epoch 190/500\n",
            "2/2 [==============================] - 0s 8ms/step - loss: 15.2824 - mae: 15.2824\n",
            "Epoch 191/500\n",
            "2/2 [==============================] - 0s 7ms/step - loss: 9.9681 - mae: 9.9681\n",
            "Epoch 192/500\n",
            "2/2 [==============================] - 0s 7ms/step - loss: 15.0009 - mae: 15.0009\n",
            "Epoch 193/500\n",
            "2/2 [==============================] - 0s 6ms/step - loss: 29.6773 - mae: 29.6773\n",
            "Epoch 194/500\n",
            "2/2 [==============================] - 0s 6ms/step - loss: 8.3922 - mae: 8.3922\n",
            "Epoch 195/500\n",
            "2/2 [==============================] - 0s 6ms/step - loss: 12.9159 - mae: 12.9159\n",
            "Epoch 196/500\n",
            "2/2 [==============================] - 0s 9ms/step - loss: 23.9550 - mae: 23.9550\n",
            "Epoch 197/500\n",
            "2/2 [==============================] - 0s 7ms/step - loss: 16.7618 - mae: 16.7618\n",
            "Epoch 198/500\n",
            "2/2 [==============================] - 0s 7ms/step - loss: 11.4605 - mae: 11.4605\n",
            "Epoch 199/500\n",
            "2/2 [==============================] - 0s 7ms/step - loss: 19.5581 - mae: 19.5581\n",
            "Epoch 200/500\n",
            "2/2 [==============================] - 0s 8ms/step - loss: 15.5467 - mae: 15.5467\n",
            "Epoch 201/500\n",
            "2/2 [==============================] - 0s 7ms/step - loss: 5.7428 - mae: 5.7428\n",
            "Epoch 202/500\n",
            "2/2 [==============================] - 0s 8ms/step - loss: 28.2145 - mae: 28.2145\n",
            "Epoch 203/500\n",
            "2/2 [==============================] - 0s 7ms/step - loss: 9.7719 - mae: 9.7719\n",
            "Epoch 204/500\n",
            "2/2 [==============================] - 0s 11ms/step - loss: 22.2814 - mae: 22.2814\n",
            "Epoch 205/500\n",
            "2/2 [==============================] - 0s 7ms/step - loss: 10.0523 - mae: 10.0523\n",
            "Epoch 206/500\n",
            "2/2 [==============================] - 0s 9ms/step - loss: 12.3493 - mae: 12.3493\n",
            "Epoch 207/500\n",
            "2/2 [==============================] - 0s 8ms/step - loss: 15.5214 - mae: 15.5214\n",
            "Epoch 208/500\n",
            "2/2 [==============================] - 0s 8ms/step - loss: 14.0254 - mae: 14.0254\n",
            "Epoch 209/500\n",
            "2/2 [==============================] - 0s 9ms/step - loss: 16.2242 - mae: 16.2242\n",
            "Epoch 210/500\n",
            "2/2 [==============================] - 0s 9ms/step - loss: 17.6424 - mae: 17.6424\n",
            "Epoch 211/500\n",
            "2/2 [==============================] - 0s 7ms/step - loss: 9.7856 - mae: 9.7856\n",
            "Epoch 212/500\n",
            "2/2 [==============================] - 0s 6ms/step - loss: 18.0088 - mae: 18.0088\n",
            "Epoch 213/500\n",
            "2/2 [==============================] - 0s 8ms/step - loss: 15.1472 - mae: 15.1472\n",
            "Epoch 214/500\n",
            "2/2 [==============================] - 0s 7ms/step - loss: 14.6612 - mae: 14.6612\n",
            "Epoch 215/500\n",
            "2/2 [==============================] - 0s 7ms/step - loss: 23.4354 - mae: 23.4354\n",
            "Epoch 216/500\n",
            "2/2 [==============================] - 0s 9ms/step - loss: 12.8481 - mae: 12.8481\n",
            "Epoch 217/500\n",
            "2/2 [==============================] - 0s 7ms/step - loss: 11.9899 - mae: 11.9899\n",
            "Epoch 218/500\n",
            "2/2 [==============================] - 0s 7ms/step - loss: 17.1212 - mae: 17.1212\n",
            "Epoch 219/500\n",
            "2/2 [==============================] - 0s 7ms/step - loss: 9.5090 - mae: 9.5090\n",
            "Epoch 220/500\n",
            "2/2 [==============================] - 0s 9ms/step - loss: 13.8708 - mae: 13.8708\n",
            "Epoch 221/500\n",
            "2/2 [==============================] - 0s 9ms/step - loss: 32.2749 - mae: 32.2749\n",
            "Epoch 222/500\n",
            "2/2 [==============================] - 0s 9ms/step - loss: 11.0784 - mae: 11.0784\n",
            "Epoch 223/500\n",
            "2/2 [==============================] - 0s 9ms/step - loss: 8.6604 - mae: 8.6604\n",
            "Epoch 224/500\n",
            "2/2 [==============================] - 0s 7ms/step - loss: 14.5850 - mae: 14.5850\n",
            "Epoch 225/500\n",
            "2/2 [==============================] - 0s 6ms/step - loss: 16.5972 - mae: 16.5972\n",
            "Epoch 226/500\n",
            "2/2 [==============================] - 0s 8ms/step - loss: 15.8232 - mae: 15.8232\n",
            "Epoch 227/500\n",
            "2/2 [==============================] - 0s 11ms/step - loss: 16.0378 - mae: 16.0378\n",
            "Epoch 228/500\n",
            "2/2 [==============================] - 0s 7ms/step - loss: 13.8225 - mae: 13.8225\n",
            "Epoch 229/500\n",
            "2/2 [==============================] - 0s 7ms/step - loss: 17.9331 - mae: 17.9331\n",
            "Epoch 230/500\n",
            "2/2 [==============================] - 0s 7ms/step - loss: 15.5385 - mae: 15.5385\n",
            "Epoch 231/500\n",
            "2/2 [==============================] - 0s 6ms/step - loss: 21.0242 - mae: 21.0242\n",
            "Epoch 232/500\n",
            "2/2 [==============================] - 0s 6ms/step - loss: 25.6828 - mae: 25.6828\n",
            "Epoch 233/500\n",
            "2/2 [==============================] - 0s 6ms/step - loss: 16.6431 - mae: 16.6431\n",
            "Epoch 234/500\n",
            "2/2 [==============================] - 0s 9ms/step - loss: 7.3903 - mae: 7.3903\n",
            "Epoch 235/500\n",
            "2/2 [==============================] - 0s 6ms/step - loss: 17.2852 - mae: 17.2852\n",
            "Epoch 236/500\n",
            "2/2 [==============================] - 0s 6ms/step - loss: 7.2659 - mae: 7.2659\n",
            "Epoch 237/500\n",
            "2/2 [==============================] - 0s 10ms/step - loss: 9.3846 - mae: 9.3846\n",
            "Epoch 238/500\n",
            "2/2 [==============================] - 0s 10ms/step - loss: 8.2108 - mae: 8.2108\n",
            "Epoch 239/500\n",
            "2/2 [==============================] - 0s 7ms/step - loss: 17.3153 - mae: 17.3153\n",
            "Epoch 240/500\n",
            "2/2 [==============================] - 0s 7ms/step - loss: 9.0029 - mae: 9.0029\n",
            "Epoch 241/500\n",
            "2/2 [==============================] - 0s 6ms/step - loss: 13.3698 - mae: 13.3698\n",
            "Epoch 242/500\n",
            "2/2 [==============================] - 0s 6ms/step - loss: 8.8988 - mae: 8.8988\n",
            "Epoch 243/500\n",
            "2/2 [==============================] - 0s 6ms/step - loss: 19.1655 - mae: 19.1655\n",
            "Epoch 244/500\n",
            "2/2 [==============================] - 0s 7ms/step - loss: 13.9402 - mae: 13.9402\n",
            "Epoch 245/500\n",
            "2/2 [==============================] - 0s 7ms/step - loss: 14.5816 - mae: 14.5816\n",
            "Epoch 246/500\n",
            "2/2 [==============================] - 0s 7ms/step - loss: 15.7242 - mae: 15.7242\n",
            "Epoch 247/500\n",
            "2/2 [==============================] - 0s 7ms/step - loss: 17.5737 - mae: 17.5737\n",
            "Epoch 248/500\n",
            "2/2 [==============================] - 0s 7ms/step - loss: 13.1381 - mae: 13.1381\n",
            "Epoch 249/500\n",
            "2/2 [==============================] - 0s 9ms/step - loss: 14.4570 - mae: 14.4570\n",
            "Epoch 250/500\n",
            "2/2 [==============================] - 0s 6ms/step - loss: 23.1203 - mae: 23.1203\n",
            "Epoch 251/500\n",
            "2/2 [==============================] - 0s 7ms/step - loss: 10.1141 - mae: 10.1141\n",
            "Epoch 252/500\n",
            "2/2 [==============================] - 0s 7ms/step - loss: 32.5965 - mae: 32.5965\n",
            "Epoch 253/500\n",
            "2/2 [==============================] - 0s 6ms/step - loss: 18.6546 - mae: 18.6546\n",
            "Epoch 254/500\n",
            "2/2 [==============================] - 0s 7ms/step - loss: 6.3736 - mae: 6.3736\n",
            "Epoch 255/500\n",
            "2/2 [==============================] - 0s 6ms/step - loss: 19.4536 - mae: 19.4536\n",
            "Epoch 256/500\n",
            "2/2 [==============================] - 0s 6ms/step - loss: 33.4888 - mae: 33.4888\n",
            "Epoch 257/500\n",
            "2/2 [==============================] - 0s 6ms/step - loss: 16.5463 - mae: 16.5463\n",
            "Epoch 258/500\n",
            "2/2 [==============================] - 0s 8ms/step - loss: 5.8401 - mae: 5.8401\n",
            "Epoch 259/500\n",
            "2/2 [==============================] - 0s 6ms/step - loss: 14.8427 - mae: 14.8427\n",
            "Epoch 260/500\n",
            "2/2 [==============================] - 0s 6ms/step - loss: 14.9835 - mae: 14.9835\n",
            "Epoch 261/500\n",
            "2/2 [==============================] - 0s 6ms/step - loss: 17.4731 - mae: 17.4731\n",
            "Epoch 262/500\n",
            "2/2 [==============================] - 0s 6ms/step - loss: 15.5607 - mae: 15.5607\n",
            "Epoch 263/500\n",
            "2/2 [==============================] - 0s 6ms/step - loss: 10.0959 - mae: 10.0959\n",
            "Epoch 264/500\n",
            "2/2 [==============================] - 0s 6ms/step - loss: 20.2159 - mae: 20.2159\n",
            "Epoch 265/500\n",
            "2/2 [==============================] - 0s 6ms/step - loss: 9.7410 - mae: 9.7410\n",
            "Epoch 266/500\n",
            "2/2 [==============================] - 0s 6ms/step - loss: 7.8376 - mae: 7.8376\n",
            "Epoch 267/500\n",
            "2/2 [==============================] - 0s 8ms/step - loss: 7.6034 - mae: 7.6034\n",
            "Epoch 268/500\n",
            "2/2 [==============================] - 0s 6ms/step - loss: 18.4023 - mae: 18.4023\n",
            "Epoch 269/500\n",
            "2/2 [==============================] - 0s 7ms/step - loss: 21.7705 - mae: 21.7705\n",
            "Epoch 270/500\n",
            "2/2 [==============================] - 0s 7ms/step - loss: 5.4704 - mae: 5.4704\n",
            "Epoch 271/500\n",
            "2/2 [==============================] - 0s 10ms/step - loss: 12.0918 - mae: 12.0918\n",
            "Epoch 272/500\n",
            "2/2 [==============================] - 0s 7ms/step - loss: 26.1223 - mae: 26.1223\n",
            "Epoch 273/500\n",
            "2/2 [==============================] - 0s 7ms/step - loss: 12.1977 - mae: 12.1977\n",
            "Epoch 274/500\n",
            "2/2 [==============================] - 0s 7ms/step - loss: 13.3162 - mae: 13.3162\n",
            "Epoch 275/500\n",
            "2/2 [==============================] - 0s 6ms/step - loss: 29.3627 - mae: 29.3627\n",
            "Epoch 276/500\n",
            "2/2 [==============================] - 0s 6ms/step - loss: 7.3290 - mae: 7.3290\n",
            "Epoch 277/500\n",
            "2/2 [==============================] - 0s 6ms/step - loss: 31.1226 - mae: 31.1226\n",
            "Epoch 278/500\n",
            "2/2 [==============================] - 0s 10ms/step - loss: 12.2822 - mae: 12.2822\n",
            "Epoch 279/500\n",
            "2/2 [==============================] - 0s 6ms/step - loss: 16.3947 - mae: 16.3947\n",
            "Epoch 280/500\n",
            "2/2 [==============================] - 0s 6ms/step - loss: 21.8806 - mae: 21.8806\n",
            "Epoch 281/500\n",
            "2/2 [==============================] - 0s 6ms/step - loss: 22.2236 - mae: 22.2236\n",
            "Epoch 282/500\n",
            "2/2 [==============================] - 0s 7ms/step - loss: 7.7543 - mae: 7.7543\n",
            "Epoch 283/500\n",
            "2/2 [==============================] - 0s 6ms/step - loss: 8.1459 - mae: 8.1459\n",
            "Epoch 284/500\n",
            "2/2 [==============================] - 0s 6ms/step - loss: 25.0275 - mae: 25.0275\n",
            "Epoch 285/500\n",
            "2/2 [==============================] - 0s 6ms/step - loss: 13.7602 - mae: 13.7602\n",
            "Epoch 286/500\n",
            "2/2 [==============================] - 0s 7ms/step - loss: 6.8852 - mae: 6.8852\n",
            "Epoch 287/500\n",
            "2/2 [==============================] - 0s 7ms/step - loss: 24.5012 - mae: 24.5012\n",
            "Epoch 288/500\n",
            "2/2 [==============================] - 0s 7ms/step - loss: 20.2661 - mae: 20.2661\n",
            "Epoch 289/500\n",
            "2/2 [==============================] - 0s 6ms/step - loss: 11.9357 - mae: 11.9357\n",
            "Epoch 290/500\n",
            "2/2 [==============================] - 0s 8ms/step - loss: 16.5103 - mae: 16.5103\n",
            "Epoch 291/500\n",
            "2/2 [==============================] - 0s 6ms/step - loss: 16.7628 - mae: 16.7628\n",
            "Epoch 292/500\n",
            "2/2 [==============================] - 0s 6ms/step - loss: 8.8306 - mae: 8.8306\n",
            "Epoch 293/500\n",
            "2/2 [==============================] - 0s 6ms/step - loss: 15.6946 - mae: 15.6946\n",
            "Epoch 294/500\n",
            "2/2 [==============================] - 0s 7ms/step - loss: 23.5822 - mae: 23.5822\n",
            "Epoch 295/500\n",
            "2/2 [==============================] - 0s 7ms/step - loss: 16.0080 - mae: 16.0080\n",
            "Epoch 296/500\n",
            "2/2 [==============================] - 0s 6ms/step - loss: 5.3830 - mae: 5.3830\n",
            "Epoch 297/500\n",
            "2/2 [==============================] - 0s 6ms/step - loss: 12.5944 - mae: 12.5944\n",
            "Epoch 298/500\n",
            "2/2 [==============================] - 0s 6ms/step - loss: 24.3558 - mae: 24.3558\n",
            "Epoch 299/500\n",
            "2/2 [==============================] - 0s 8ms/step - loss: 17.6013 - mae: 17.6013\n",
            "Epoch 300/500\n",
            "2/2 [==============================] - 0s 6ms/step - loss: 6.9580 - mae: 6.9580\n",
            "Epoch 301/500\n",
            "2/2 [==============================] - 0s 7ms/step - loss: 25.0302 - mae: 25.0302\n",
            "Epoch 302/500\n",
            "2/2 [==============================] - 0s 6ms/step - loss: 8.8517 - mae: 8.8517\n",
            "Epoch 303/500\n",
            "2/2 [==============================] - 0s 10ms/step - loss: 17.6482 - mae: 17.6482\n",
            "Epoch 304/500\n",
            "2/2 [==============================] - 0s 8ms/step - loss: 10.9380 - mae: 10.9380\n",
            "Epoch 305/500\n",
            "2/2 [==============================] - 0s 8ms/step - loss: 12.8310 - mae: 12.8310\n",
            "Epoch 306/500\n",
            "2/2 [==============================] - 0s 7ms/step - loss: 8.3582 - mae: 8.3582\n",
            "Epoch 307/500\n",
            "2/2 [==============================] - 0s 6ms/step - loss: 13.2683 - mae: 13.2683\n",
            "Epoch 308/500\n",
            "2/2 [==============================] - 0s 6ms/step - loss: 8.2243 - mae: 8.2243\n",
            "Epoch 309/500\n",
            "2/2 [==============================] - 0s 6ms/step - loss: 12.1932 - mae: 12.1932\n",
            "Epoch 310/500\n",
            "2/2 [==============================] - 0s 6ms/step - loss: 4.6179 - mae: 4.6179\n",
            "Epoch 311/500\n",
            "2/2 [==============================] - 0s 6ms/step - loss: 14.1759 - mae: 14.1759\n",
            "Epoch 312/500\n",
            "2/2 [==============================] - 0s 9ms/step - loss: 27.2105 - mae: 27.2105\n",
            "Epoch 313/500\n",
            "2/2 [==============================] - 0s 6ms/step - loss: 14.8704 - mae: 14.8704\n",
            "Epoch 314/500\n",
            "2/2 [==============================] - 0s 6ms/step - loss: 13.0131 - mae: 13.0131\n",
            "Epoch 315/500\n",
            "2/2 [==============================] - 0s 6ms/step - loss: 25.1940 - mae: 25.1940\n",
            "Epoch 316/500\n",
            "2/2 [==============================] - 0s 6ms/step - loss: 13.3062 - mae: 13.3062\n",
            "Epoch 317/500\n",
            "2/2 [==============================] - 0s 7ms/step - loss: 20.3634 - mae: 20.3634\n",
            "Epoch 318/500\n",
            "2/2 [==============================] - 0s 7ms/step - loss: 8.0975 - mae: 8.0975\n",
            "Epoch 319/500\n",
            "2/2 [==============================] - 0s 7ms/step - loss: 18.4804 - mae: 18.4804\n",
            "Epoch 320/500\n",
            "2/2 [==============================] - 0s 7ms/step - loss: 11.1694 - mae: 11.1694\n",
            "Epoch 321/500\n",
            "2/2 [==============================] - 0s 7ms/step - loss: 4.5302 - mae: 4.5302\n",
            "Epoch 322/500\n",
            "2/2 [==============================] - 0s 6ms/step - loss: 18.2124 - mae: 18.2124\n",
            "Epoch 323/500\n",
            "2/2 [==============================] - 0s 6ms/step - loss: 6.6487 - mae: 6.6487\n",
            "Epoch 324/500\n",
            "2/2 [==============================] - 0s 6ms/step - loss: 12.7988 - mae: 12.7988\n",
            "Epoch 325/500\n",
            "2/2 [==============================] - 0s 6ms/step - loss: 9.4618 - mae: 9.4618\n",
            "Epoch 326/500\n",
            "2/2 [==============================] - 0s 6ms/step - loss: 20.3536 - mae: 20.3536\n",
            "Epoch 327/500\n",
            "2/2 [==============================] - 0s 6ms/step - loss: 26.9065 - mae: 26.9065\n",
            "Epoch 328/500\n",
            "2/2 [==============================] - 0s 6ms/step - loss: 11.9654 - mae: 11.9654\n",
            "Epoch 329/500\n",
            "2/2 [==============================] - 0s 6ms/step - loss: 16.7332 - mae: 16.7332\n",
            "Epoch 330/500\n",
            "2/2 [==============================] - 0s 6ms/step - loss: 7.1347 - mae: 7.1347\n",
            "Epoch 331/500\n",
            "2/2 [==============================] - 0s 7ms/step - loss: 21.6976 - mae: 21.6976\n",
            "Epoch 332/500\n",
            "2/2 [==============================] - 0s 6ms/step - loss: 12.7683 - mae: 12.7683\n",
            "Epoch 333/500\n",
            "2/2 [==============================] - 0s 7ms/step - loss: 9.0368 - mae: 9.0368\n",
            "Epoch 334/500\n",
            "2/2 [==============================] - 0s 9ms/step - loss: 9.7948 - mae: 9.7948\n",
            "Epoch 335/500\n",
            "2/2 [==============================] - 0s 7ms/step - loss: 5.9853 - mae: 5.9853\n",
            "Epoch 336/500\n",
            "2/2 [==============================] - 0s 6ms/step - loss: 31.7484 - mae: 31.7484\n",
            "Epoch 337/500\n",
            "2/2 [==============================] - 0s 6ms/step - loss: 9.1606 - mae: 9.1606\n",
            "Epoch 338/500\n",
            "2/2 [==============================] - 0s 6ms/step - loss: 19.5348 - mae: 19.5348\n",
            "Epoch 339/500\n",
            "2/2 [==============================] - 0s 5ms/step - loss: 35.5158 - mae: 35.5158\n",
            "Epoch 340/500\n",
            "2/2 [==============================] - 0s 6ms/step - loss: 10.5841 - mae: 10.5841\n",
            "Epoch 341/500\n",
            "2/2 [==============================] - 0s 6ms/step - loss: 10.1819 - mae: 10.1819\n",
            "Epoch 342/500\n",
            "2/2 [==============================] - 0s 6ms/step - loss: 13.2606 - mae: 13.2606\n",
            "Epoch 343/500\n",
            "2/2 [==============================] - 0s 6ms/step - loss: 11.0085 - mae: 11.0085\n",
            "Epoch 344/500\n",
            "2/2 [==============================] - 0s 7ms/step - loss: 9.9232 - mae: 9.9232\n",
            "Epoch 345/500\n",
            "2/2 [==============================] - 0s 6ms/step - loss: 30.9815 - mae: 30.9815\n",
            "Epoch 346/500\n",
            "2/2 [==============================] - 0s 6ms/step - loss: 10.6703 - mae: 10.6703\n",
            "Epoch 347/500\n",
            "2/2 [==============================] - 0s 6ms/step - loss: 25.6566 - mae: 25.6566\n",
            "Epoch 348/500\n",
            "2/2 [==============================] - 0s 6ms/step - loss: 13.0532 - mae: 13.0532\n",
            "Epoch 349/500\n",
            "2/2 [==============================] - 0s 6ms/step - loss: 13.0961 - mae: 13.0961\n",
            "Epoch 350/500\n",
            "2/2 [==============================] - 0s 6ms/step - loss: 15.4134 - mae: 15.4134\n",
            "Epoch 351/500\n",
            "2/2 [==============================] - 0s 6ms/step - loss: 32.9187 - mae: 32.9187\n",
            "Epoch 352/500\n",
            "2/2 [==============================] - 0s 6ms/step - loss: 14.1368 - mae: 14.1368\n",
            "Epoch 353/500\n",
            "2/2 [==============================] - 0s 6ms/step - loss: 15.8659 - mae: 15.8659\n",
            "Epoch 354/500\n",
            "2/2 [==============================] - 0s 6ms/step - loss: 18.9733 - mae: 18.9733\n",
            "Epoch 355/500\n",
            "2/2 [==============================] - 0s 11ms/step - loss: 34.4392 - mae: 34.4392\n",
            "Epoch 356/500\n",
            "2/2 [==============================] - 0s 7ms/step - loss: 8.3137 - mae: 8.3137\n",
            "Epoch 357/500\n",
            "2/2 [==============================] - 0s 6ms/step - loss: 21.9260 - mae: 21.9260\n",
            "Epoch 358/500\n",
            "2/2 [==============================] - 0s 6ms/step - loss: 20.0692 - mae: 20.0692\n",
            "Epoch 359/500\n",
            "2/2 [==============================] - 0s 6ms/step - loss: 11.0311 - mae: 11.0311\n",
            "Epoch 360/500\n",
            "2/2 [==============================] - 0s 6ms/step - loss: 20.2478 - mae: 20.2478\n",
            "Epoch 361/500\n",
            "2/2 [==============================] - 0s 6ms/step - loss: 11.0459 - mae: 11.0459\n",
            "Epoch 362/500\n",
            "2/2 [==============================] - 0s 6ms/step - loss: 6.8136 - mae: 6.8136\n",
            "Epoch 363/500\n",
            "2/2 [==============================] - 0s 6ms/step - loss: 24.0602 - mae: 24.0602\n",
            "Epoch 364/500\n",
            "2/2 [==============================] - 0s 6ms/step - loss: 29.8451 - mae: 29.8451\n",
            "Epoch 365/500\n",
            "2/2 [==============================] - 0s 6ms/step - loss: 8.3699 - mae: 8.3699\n",
            "Epoch 366/500\n",
            "2/2 [==============================] - 0s 6ms/step - loss: 6.0828 - mae: 6.0828\n",
            "Epoch 367/500\n",
            "2/2 [==============================] - 0s 7ms/step - loss: 35.0383 - mae: 35.0383\n",
            "Epoch 368/500\n",
            "2/2 [==============================] - 0s 7ms/step - loss: 7.4241 - mae: 7.4241\n",
            "Epoch 369/500\n",
            "2/2 [==============================] - 0s 6ms/step - loss: 9.2606 - mae: 9.2606\n",
            "Epoch 370/500\n",
            "2/2 [==============================] - 0s 6ms/step - loss: 10.9834 - mae: 10.9834\n",
            "Epoch 371/500\n",
            "2/2 [==============================] - 0s 6ms/step - loss: 9.0463 - mae: 9.0463\n",
            "Epoch 372/500\n",
            "2/2 [==============================] - 0s 6ms/step - loss: 6.9315 - mae: 6.9315\n",
            "Epoch 373/500\n",
            "2/2 [==============================] - 0s 7ms/step - loss: 25.9130 - mae: 25.9130\n",
            "Epoch 374/500\n",
            "2/2 [==============================] - 0s 7ms/step - loss: 11.0296 - mae: 11.0296\n",
            "Epoch 375/500\n",
            "2/2 [==============================] - 0s 8ms/step - loss: 10.7477 - mae: 10.7477\n",
            "Epoch 376/500\n",
            "2/2 [==============================] - 0s 7ms/step - loss: 13.5462 - mae: 13.5462\n",
            "Epoch 377/500\n",
            "2/2 [==============================] - 0s 10ms/step - loss: 15.2346 - mae: 15.2346\n",
            "Epoch 378/500\n",
            "2/2 [==============================] - 0s 6ms/step - loss: 16.3798 - mae: 16.3798\n",
            "Epoch 379/500\n",
            "2/2 [==============================] - 0s 7ms/step - loss: 21.0946 - mae: 21.0946\n",
            "Epoch 380/500\n",
            "2/2 [==============================] - 0s 7ms/step - loss: 32.7663 - mae: 32.7663\n",
            "Epoch 381/500\n",
            "2/2 [==============================] - 0s 7ms/step - loss: 7.9815 - mae: 7.9815\n",
            "Epoch 382/500\n",
            "2/2 [==============================] - 0s 6ms/step - loss: 12.5088 - mae: 12.5088\n",
            "Epoch 383/500\n",
            "2/2 [==============================] - 0s 7ms/step - loss: 7.2199 - mae: 7.2199\n",
            "Epoch 384/500\n",
            "2/2 [==============================] - 0s 9ms/step - loss: 6.4255 - mae: 6.4255\n",
            "Epoch 385/500\n",
            "2/2 [==============================] - 0s 7ms/step - loss: 11.5920 - mae: 11.5920\n",
            "Epoch 386/500\n",
            "2/2 [==============================] - 0s 6ms/step - loss: 19.9091 - mae: 19.9091\n",
            "Epoch 387/500\n",
            "2/2 [==============================] - 0s 7ms/step - loss: 24.5309 - mae: 24.5309\n",
            "Epoch 388/500\n",
            "2/2 [==============================] - 0s 9ms/step - loss: 8.1542 - mae: 8.1542\n",
            "Epoch 389/500\n",
            "2/2 [==============================] - 0s 6ms/step - loss: 10.7578 - mae: 10.7578\n",
            "Epoch 390/500\n",
            "2/2 [==============================] - 0s 6ms/step - loss: 4.7524 - mae: 4.7524\n",
            "Epoch 391/500\n",
            "2/2 [==============================] - 0s 6ms/step - loss: 18.8236 - mae: 18.8236\n",
            "Epoch 392/500\n",
            "2/2 [==============================] - 0s 6ms/step - loss: 26.9541 - mae: 26.9541\n",
            "Epoch 393/500\n",
            "2/2 [==============================] - 0s 6ms/step - loss: 12.3075 - mae: 12.3075\n",
            "Epoch 394/500\n",
            "2/2 [==============================] - 0s 6ms/step - loss: 11.8118 - mae: 11.8118\n",
            "Epoch 395/500\n",
            "2/2 [==============================] - 0s 6ms/step - loss: 25.2835 - mae: 25.2835\n",
            "Epoch 396/500\n",
            "2/2 [==============================] - 0s 6ms/step - loss: 18.3014 - mae: 18.3014\n",
            "Epoch 397/500\n",
            "2/2 [==============================] - 0s 7ms/step - loss: 11.7573 - mae: 11.7573\n",
            "Epoch 398/500\n",
            "2/2 [==============================] - 0s 7ms/step - loss: 19.6061 - mae: 19.6061\n",
            "Epoch 399/500\n",
            "2/2 [==============================] - 0s 7ms/step - loss: 25.0748 - mae: 25.0748\n",
            "Epoch 400/500\n",
            "2/2 [==============================] - 0s 6ms/step - loss: 14.8114 - mae: 14.8114\n",
            "Epoch 401/500\n",
            "2/2 [==============================] - 0s 7ms/step - loss: 14.9786 - mae: 14.9786\n",
            "Epoch 402/500\n",
            "2/2 [==============================] - 0s 7ms/step - loss: 24.3560 - mae: 24.3560\n",
            "Epoch 403/500\n",
            "2/2 [==============================] - 0s 6ms/step - loss: 16.1047 - mae: 16.1047\n",
            "Epoch 404/500\n",
            "2/2 [==============================] - 0s 7ms/step - loss: 10.3066 - mae: 10.3066\n",
            "Epoch 405/500\n",
            "2/2 [==============================] - 0s 6ms/step - loss: 6.3417 - mae: 6.3417\n",
            "Epoch 406/500\n",
            "2/2 [==============================] - 0s 7ms/step - loss: 17.5672 - mae: 17.5672\n",
            "Epoch 407/500\n",
            "2/2 [==============================] - 0s 9ms/step - loss: 11.0631 - mae: 11.0631\n",
            "Epoch 408/500\n",
            "2/2 [==============================] - 0s 8ms/step - loss: 21.1675 - mae: 21.1675\n",
            "Epoch 409/500\n",
            "2/2 [==============================] - 0s 11ms/step - loss: 30.0301 - mae: 30.0301\n",
            "Epoch 410/500\n",
            "2/2 [==============================] - 0s 7ms/step - loss: 9.8944 - mae: 9.8944\n",
            "Epoch 411/500\n",
            "2/2 [==============================] - 0s 6ms/step - loss: 14.7532 - mae: 14.7532\n",
            "Epoch 412/500\n",
            "2/2 [==============================] - 0s 8ms/step - loss: 21.5324 - mae: 21.5324\n",
            "Epoch 413/500\n",
            "2/2 [==============================] - 0s 5ms/step - loss: 13.1687 - mae: 13.1687\n",
            "Epoch 414/500\n",
            "2/2 [==============================] - 0s 7ms/step - loss: 8.2615 - mae: 8.2615\n",
            "Epoch 415/500\n",
            "2/2 [==============================] - 0s 6ms/step - loss: 11.6866 - mae: 11.6866\n",
            "Epoch 416/500\n",
            "2/2 [==============================] - 0s 11ms/step - loss: 25.5980 - mae: 25.5980\n",
            "Epoch 417/500\n",
            "2/2 [==============================] - 0s 6ms/step - loss: 15.7995 - mae: 15.7995\n",
            "Epoch 418/500\n",
            "2/2 [==============================] - 0s 6ms/step - loss: 12.5633 - mae: 12.5633\n",
            "Epoch 419/500\n",
            "2/2 [==============================] - 0s 8ms/step - loss: 15.7173 - mae: 15.7173\n",
            "Epoch 420/500\n",
            "2/2 [==============================] - 0s 11ms/step - loss: 24.4064 - mae: 24.4064\n",
            "Epoch 421/500\n",
            "2/2 [==============================] - 0s 6ms/step - loss: 18.3268 - mae: 18.3268\n",
            "Epoch 422/500\n",
            "2/2 [==============================] - 0s 7ms/step - loss: 8.6475 - mae: 8.6475\n",
            "Epoch 423/500\n",
            "2/2 [==============================] - 0s 7ms/step - loss: 24.6143 - mae: 24.6143\n",
            "Epoch 424/500\n",
            "2/2 [==============================] - 0s 6ms/step - loss: 16.9278 - mae: 16.9278\n",
            "Epoch 425/500\n",
            "2/2 [==============================] - 0s 6ms/step - loss: 7.3590 - mae: 7.3590\n",
            "Epoch 426/500\n",
            "2/2 [==============================] - 0s 6ms/step - loss: 21.1264 - mae: 21.1264\n",
            "Epoch 427/500\n",
            "2/2 [==============================] - 0s 6ms/step - loss: 6.5400 - mae: 6.5400\n",
            "Epoch 428/500\n",
            "2/2 [==============================] - 0s 6ms/step - loss: 13.5391 - mae: 13.5391\n",
            "Epoch 429/500\n",
            "2/2 [==============================] - 0s 6ms/step - loss: 11.5133 - mae: 11.5133\n",
            "Epoch 430/500\n",
            "2/2 [==============================] - 0s 6ms/step - loss: 10.2898 - mae: 10.2898\n",
            "Epoch 431/500\n",
            "2/2 [==============================] - 0s 5ms/step - loss: 11.5608 - mae: 11.5608\n",
            "Epoch 432/500\n",
            "2/2 [==============================] - 0s 7ms/step - loss: 10.0008 - mae: 10.0008\n",
            "Epoch 433/500\n",
            "2/2 [==============================] - 0s 6ms/step - loss: 3.5937 - mae: 3.5937\n",
            "Epoch 434/500\n",
            "2/2 [==============================] - 0s 6ms/step - loss: 37.1553 - mae: 37.1553\n",
            "Epoch 435/500\n",
            "2/2 [==============================] - 0s 6ms/step - loss: 14.0562 - mae: 14.0562\n",
            "Epoch 436/500\n",
            "2/2 [==============================] - 0s 6ms/step - loss: 12.2664 - mae: 12.2664\n",
            "Epoch 437/500\n",
            "2/2 [==============================] - 0s 7ms/step - loss: 16.3032 - mae: 16.3032\n",
            "Epoch 438/500\n",
            "2/2 [==============================] - 0s 6ms/step - loss: 13.9711 - mae: 13.9711\n",
            "Epoch 439/500\n",
            "2/2 [==============================] - 0s 6ms/step - loss: 32.0114 - mae: 32.0114\n",
            "Epoch 440/500\n",
            "2/2 [==============================] - 0s 6ms/step - loss: 12.5637 - mae: 12.5637\n",
            "Epoch 441/500\n",
            "2/2 [==============================] - 0s 6ms/step - loss: 15.8174 - mae: 15.8174\n",
            "Epoch 442/500\n",
            "2/2 [==============================] - 0s 6ms/step - loss: 23.7623 - mae: 23.7623\n",
            "Epoch 443/500\n",
            "2/2 [==============================] - 0s 6ms/step - loss: 19.9919 - mae: 19.9919\n",
            "Epoch 444/500\n",
            "2/2 [==============================] - 0s 6ms/step - loss: 8.7016 - mae: 8.7016\n",
            "Epoch 445/500\n",
            "2/2 [==============================] - 0s 6ms/step - loss: 14.0803 - mae: 14.0803\n",
            "Epoch 446/500\n",
            "2/2 [==============================] - 0s 7ms/step - loss: 16.7822 - mae: 16.7822\n",
            "Epoch 447/500\n",
            "2/2 [==============================] - 0s 8ms/step - loss: 6.7431 - mae: 6.7431\n",
            "Epoch 448/500\n",
            "2/2 [==============================] - 0s 7ms/step - loss: 6.7470 - mae: 6.7470\n",
            "Epoch 449/500\n",
            "2/2 [==============================] - 0s 7ms/step - loss: 15.6252 - mae: 15.6252\n",
            "Epoch 450/500\n",
            "2/2 [==============================] - 0s 8ms/step - loss: 16.5845 - mae: 16.5845\n",
            "Epoch 451/500\n",
            "2/2 [==============================] - 0s 7ms/step - loss: 14.2146 - mae: 14.2146\n",
            "Epoch 452/500\n",
            "2/2 [==============================] - 0s 7ms/step - loss: 30.4635 - mae: 30.4635\n",
            "Epoch 453/500\n",
            "2/2 [==============================] - 0s 7ms/step - loss: 5.1649 - mae: 5.1649\n",
            "Epoch 454/500\n",
            "2/2 [==============================] - 0s 6ms/step - loss: 30.0673 - mae: 30.0673\n",
            "Epoch 455/500\n",
            "2/2 [==============================] - 0s 6ms/step - loss: 4.8265 - mae: 4.8265\n",
            "Epoch 456/500\n",
            "2/2 [==============================] - 0s 7ms/step - loss: 13.8642 - mae: 13.8642\n",
            "Epoch 457/500\n",
            "2/2 [==============================] - 0s 6ms/step - loss: 16.9342 - mae: 16.9342\n",
            "Epoch 458/500\n",
            "2/2 [==============================] - 0s 6ms/step - loss: 13.5654 - mae: 13.5654\n",
            "Epoch 459/500\n",
            "2/2 [==============================] - 0s 6ms/step - loss: 25.0176 - mae: 25.0176\n",
            "Epoch 460/500\n",
            "2/2 [==============================] - 0s 6ms/step - loss: 17.3922 - mae: 17.3922\n",
            "Epoch 461/500\n",
            "2/2 [==============================] - 0s 6ms/step - loss: 11.0562 - mae: 11.0562\n",
            "Epoch 462/500\n",
            "2/2 [==============================] - 0s 6ms/step - loss: 12.9362 - mae: 12.9362\n",
            "Epoch 463/500\n",
            "2/2 [==============================] - 0s 6ms/step - loss: 28.7752 - mae: 28.7752\n",
            "Epoch 464/500\n",
            "2/2 [==============================] - 0s 8ms/step - loss: 7.6048 - mae: 7.6048\n",
            "Epoch 465/500\n",
            "2/2 [==============================] - 0s 9ms/step - loss: 15.9098 - mae: 15.9098\n",
            "Epoch 466/500\n",
            "2/2 [==============================] - 0s 8ms/step - loss: 8.7681 - mae: 8.7681\n",
            "Epoch 467/500\n",
            "2/2 [==============================] - 0s 8ms/step - loss: 22.1300 - mae: 22.1300\n",
            "Epoch 468/500\n",
            "2/2 [==============================] - 0s 6ms/step - loss: 22.5731 - mae: 22.5731\n",
            "Epoch 469/500\n",
            "2/2 [==============================] - 0s 6ms/step - loss: 19.9568 - mae: 19.9568\n",
            "Epoch 470/500\n",
            "2/2 [==============================] - 0s 6ms/step - loss: 7.5246 - mae: 7.5246\n",
            "Epoch 471/500\n",
            "2/2 [==============================] - 0s 8ms/step - loss: 27.8121 - mae: 27.8121\n",
            "Epoch 472/500\n",
            "2/2 [==============================] - 0s 8ms/step - loss: 12.0947 - mae: 12.0947\n",
            "Epoch 473/500\n",
            "2/2 [==============================] - 0s 7ms/step - loss: 14.5316 - mae: 14.5316\n",
            "Epoch 474/500\n",
            "2/2 [==============================] - 0s 7ms/step - loss: 18.2688 - mae: 18.2688\n",
            "Epoch 475/500\n",
            "2/2 [==============================] - 0s 7ms/step - loss: 10.5094 - mae: 10.5094\n",
            "Epoch 476/500\n",
            "2/2 [==============================] - 0s 7ms/step - loss: 12.0105 - mae: 12.0105\n",
            "Epoch 477/500\n",
            "2/2 [==============================] - 0s 8ms/step - loss: 28.1901 - mae: 28.1901\n",
            "Epoch 478/500\n",
            "2/2 [==============================] - 0s 7ms/step - loss: 7.2818 - mae: 7.2818\n",
            "Epoch 479/500\n",
            "2/2 [==============================] - 0s 9ms/step - loss: 5.9668 - mae: 5.9668\n",
            "Epoch 480/500\n",
            "2/2 [==============================] - 0s 7ms/step - loss: 19.2840 - mae: 19.2840\n",
            "Epoch 481/500\n",
            "2/2 [==============================] - 0s 8ms/step - loss: 10.9793 - mae: 10.9793\n",
            "Epoch 482/500\n",
            "2/2 [==============================] - 0s 10ms/step - loss: 18.5274 - mae: 18.5274\n",
            "Epoch 483/500\n",
            "2/2 [==============================] - 0s 6ms/step - loss: 19.6522 - mae: 19.6522\n",
            "Epoch 484/500\n",
            "2/2 [==============================] - 0s 8ms/step - loss: 17.8039 - mae: 17.8039\n",
            "Epoch 485/500\n",
            "2/2 [==============================] - 0s 7ms/step - loss: 8.5374 - mae: 8.5374\n",
            "Epoch 486/500\n",
            "2/2 [==============================] - 0s 7ms/step - loss: 18.6743 - mae: 18.6743\n",
            "Epoch 487/500\n",
            "2/2 [==============================] - 0s 7ms/step - loss: 13.7812 - mae: 13.7812\n",
            "Epoch 488/500\n",
            "2/2 [==============================] - 0s 7ms/step - loss: 10.9189 - mae: 10.9189\n",
            "Epoch 489/500\n",
            "2/2 [==============================] - 0s 9ms/step - loss: 15.9657 - mae: 15.9657\n",
            "Epoch 490/500\n",
            "2/2 [==============================] - 0s 6ms/step - loss: 14.2210 - mae: 14.2210\n",
            "Epoch 491/500\n",
            "2/2 [==============================] - 0s 6ms/step - loss: 26.2542 - mae: 26.2542\n",
            "Epoch 492/500\n",
            "2/2 [==============================] - 0s 9ms/step - loss: 14.0344 - mae: 14.0344\n",
            "Epoch 493/500\n",
            "2/2 [==============================] - 0s 6ms/step - loss: 10.2460 - mae: 10.2460\n",
            "Epoch 494/500\n",
            "2/2 [==============================] - 0s 7ms/step - loss: 12.8115 - mae: 12.8115\n",
            "Epoch 495/500\n",
            "2/2 [==============================] - 0s 6ms/step - loss: 13.8031 - mae: 13.8031\n",
            "Epoch 496/500\n",
            "2/2 [==============================] - 0s 6ms/step - loss: 12.9781 - mae: 12.9781\n",
            "Epoch 497/500\n",
            "2/2 [==============================] - 0s 7ms/step - loss: 18.1754 - mae: 18.1754\n",
            "Epoch 498/500\n",
            "2/2 [==============================] - 0s 6ms/step - loss: 22.2891 - mae: 22.2891\n",
            "Epoch 499/500\n",
            "2/2 [==============================] - 0s 6ms/step - loss: 8.1546 - mae: 8.1546\n",
            "Epoch 500/500\n",
            "2/2 [==============================] - 0s 6ms/step - loss: 14.1758 - mae: 14.1758\n"
          ]
        },
        {
          "output_type": "execute_result",
          "data": {
            "text/plain": [
              "<keras.src.callbacks.History at 0x7c2bb237a800>"
            ]
          },
          "metadata": {},
          "execution_count": 52
        }
      ]
    },
    {
      "cell_type": "code",
      "source": [
        "# Make and plot some predictions\n",
        "y_preds_3 = model_3.predict(X_test)\n",
        "plot_predictions(predictions = y_preds_3)"
      ],
      "metadata": {
        "colab": {
          "base_uri": "https://localhost:8080/",
          "height": 617
        },
        "id": "_tS0lJBT9WcD",
        "outputId": "af921e58-89c7-42ef-d97c-31ef415de6e8"
      },
      "execution_count": 53,
      "outputs": [
        {
          "output_type": "stream",
          "name": "stdout",
          "text": [
            "1/1 [==============================] - 0s 96ms/step\n"
          ]
        },
        {
          "output_type": "display_data",
          "data": {
            "text/plain": [
              "<Figure size 1000x700 with 1 Axes>"
            ],
            "image/png": "[encoded data removed]"
          },
          "metadata": {}
        }
      ]
    },
    {
      "cell_type": "code",
      "source": [
        "# Calculate model_3 evaluation matrix\n",
        "mae_3 = mae(y_test, y_preds_3)\n",
        "mse_3 = mse(y_test, y_preds_3)\n",
        "mae_3, mse_3"
      ],
      "metadata": {
        "colab": {
          "base_uri": "https://localhost:8080/"
        },
        "id": "EDebsehq_DrU",
        "outputId": "f2190d69-ff0f-431c-9d21-4cd7fd8dc074"
      },
      "execution_count": 54,
      "outputs": [
        {
          "output_type": "execute_result",
          "data": {
            "text/plain": [
              "(<tf.Tensor: shape=(), dtype=float32, numpy=67.230415>,\n",
              " <tf.Tensor: shape=(), dtype=float32, numpy=4602.606>)"
            ]
          },
          "metadata": {},
          "execution_count": 54
        }
      ]
    },
    {
      "cell_type": "markdown",
      "source": [
        "**Note** You want to start with small experiments (small models) and make sure they work and then increase their scale when necessary."
      ],
      "metadata": {
        "id": "TTeACsrP9PcT"
      }
    },
    {
      "cell_type": "markdown",
      "source": [
        "### Comparing the results of our experments\n",
        "We've run some experiments, let's compare the results"
      ],
      "metadata": {
        "id": "_QfZ6msk_cB-"
      }
    },
    {
      "cell_type": "code",
      "source": [
        "# Let's compare our model's results using Panda's dataframe\n",
        "import pandas as pd\n",
        "\n",
        "model_results = [['model_1', mae_1.numpy(), mse_1.numpy()],\n",
        "                 ['model_2', mae_2.numpy(), mse_2.numpy()],\n",
        "                 ['model_3', mae_3.numpy(), mse_3.numpy()]]\n",
        "\n",
        "all_results = pd.DataFrame(model_results, columns = ['model', 'mae', 'mse'])\n",
        "all_results"
      ],
      "metadata": {
        "colab": {
          "base_uri": "https://localhost:8080/",
          "height": 143
        },
        "id": "aw7Ei17Y93r1",
        "outputId": "4fc758d8-a156-47dc-b30f-541ace060ed8"
      },
      "execution_count": 55,
      "outputs": [
        {
          "output_type": "execute_result",
          "data": {
            "text/plain": [
              "     model        mae          mse\n",
              "0  model_1   8.501975    78.716751\n",
              "1  model_2  13.238078   185.236710\n",
              "2  model_3  67.230415  4602.605957"
            ],
            "text/html": [
              "\n",
              "  <div id=\"df-eda59b06-5464-428f-8dd3-a16122533d53\" class=\"colab-df-container\">\n",
              "    <div>\n",
              "<style scoped>\n",
              "    .dataframe tbody tr th:only-of-type {\n",
              "        vertical-align: middle;\n",
              "    }\n",
              "\n",
              "    .dataframe tbody tr th {\n",
              "        vertical-align: top;\n",
              "    }\n",
              "\n",
              "    .dataframe thead th {\n",
              "        text-align: right;\n",
              "    }\n",
              "</style>\n",
              "<table border=\"1\" class=\"dataframe\">\n",
              "  <thead>\n",
              "    <tr style=\"text-align: right;\">\n",
              "      <th></th>\n",
              "      <th>model</th>\n",
              "      <th>mae</th>\n",
              "      <th>mse</th>\n",
              "    </tr>\n",
              "  </thead>\n",
              "  <tbody>\n",
              "    <tr>\n",
              "      <th>0</th>\n",
              "      <td>model_1</td>\n",
              "      <td>8.501975</td>\n",
              "      <td>78.716751</td>\n",
              "    </tr>\n",
              "    <tr>\n",
              "      <th>1</th>\n",
              "      <td>model_2</td>\n",
              "      <td>13.238078</td>\n",
              "      <td>185.236710</td>\n",
              "    </tr>\n",
              "    <tr>\n",
              "      <th>2</th>\n",
              "      <td>model_3</td>\n",
              "      <td>67.230415</td>\n",
              "      <td>4602.605957</td>\n",
              "    </tr>\n",
              "  </tbody>\n",
              "</table>\n",
              "</div>\n",
              "    <div class=\"colab-df-buttons\">\n",
              "\n",
              "  <div class=\"colab-df-container\">\n",
              "    <button class=\"colab-df-convert\" onclick=\"convertToInteractive('df-eda59b06-5464-428f-8dd3-a16122533d53')\"\n",
              "            title=\"Convert this dataframe to an interactive table.\"\n",
              "            style=\"display:none;\">\n",
              "\n",
              "  <svg xmlns=\"http://www.w3.org/2000/svg\" height=\"24px\" viewBox=\"0 -960 960 960\">\n",
              "    <path d=\"M120-120v-720h720v720H120Zm60-500h600v-160H180v160Zm220 220h160v-160H400v160Zm0 220h160v-160H400v160ZM180-400h160v-160H180v160Zm440 0h160v-160H620v160ZM180-180h160v-160H180v160Zm440 0h160v-160H620v160Z\"/>\n",
              "  </svg>\n",
              "    </button>\n",
              "\n",
              "  <style>\n",
              "    .colab-df-container {\n",
              "      display:flex;\n",
              "      gap: 12px;\n",
              "    }\n",
              "\n",
              "    .colab-df-convert {\n",
              "      background-color: #E8F0FE;\n",
              "      border: none;\n",
              "      border-radius: 50%;\n",
              "      cursor: pointer;\n",
              "      display: none;\n",
              "      fill: #1967D2;\n",
              "      height: 32px;\n",
              "      padding: 0 0 0 0;\n",
              "      width: 32px;\n",
              "    }\n",
              "\n",
              "    .colab-df-convert:hover {\n",
              "      background-color: #E2EBFA;\n",
              "      box-shadow: 0px 1px 2px rgba(60, 64, 67, 0.3), 0px 1px 3px 1px rgba(60, 64, 67, 0.15);\n",
              "      fill: #174EA6;\n",
              "    }\n",
              "\n",
              "    .colab-df-buttons div {\n",
              "      margin-bottom: 4px;\n",
              "    }\n",
              "\n",
              "    [theme=dark] .colab-df-convert {\n",
              "      background-color: #3B4455;\n",
              "      fill: #D2E3FC;\n",
              "    }\n",
              "\n",
              "    [theme=dark] .colab-df-convert:hover {\n",
              "      background-color: #434B5C;\n",
              "      box-shadow: 0px 1px 3px 1px rgba(0, 0, 0, 0.15);\n",
              "      filter: drop-shadow(0px 1px 2px rgba(0, 0, 0, 0.3));\n",
              "      fill: #FFFFFF;\n",
              "    }\n",
              "  </style>\n",
              "\n",
              "    <script>\n",
              "      const buttonEl =\n",
              "        document.querySelector('#df-eda59b06-5464-428f-8dd3-a16122533d53 button.colab-df-convert');\n",
              "      buttonEl.style.display =\n",
              "        google.colab.kernel.accessAllowed ? 'block' : 'none';\n",
              "\n",
              "      async function convertToInteractive(key) {\n",
              "        const element = document.querySelector('#df-eda59b06-5464-428f-8dd3-a16122533d53');\n",
              "        const dataTable =\n",
              "          await google.colab.kernel.invokeFunction('convertToInteractive',\n",
              "                                                    [key], {});\n",
              "        if (!dataTable) return;\n",
              "\n",
              "        const docLinkHtml = 'Like what you see? Visit the ' +\n",
              "          '<a target=\"_blank\" href=https://colab.research.google.com/notebooks/data_table.ipynb>data table notebook</a>'\n",
              "          + ' to learn more about interactive tables.';\n",
              "        element.innerHTML = '';\n",
              "        dataTable['output_type'] = 'display_data';\n",
              "        await google.colab.output.renderOutput(dataTable, element);\n",
              "        const docLink = document.createElement('div');\n",
              "        docLink.innerHTML = docLinkHtml;\n",
              "        element.appendChild(docLink);\n",
              "      }\n",
              "    </script>\n",
              "  </div>\n",
              "\n",
              "\n",
              "<div id=\"df-9aeb4fb9-74c9-4552-8ddb-d0181f833ae9\">\n",
              "  <button class=\"colab-df-quickchart\" onclick=\"quickchart('df-9aeb4fb9-74c9-4552-8ddb-d0181f833ae9')\"\n",
              "            title=\"Suggest charts.\"\n",
              "            style=\"display:none;\">\n",
              "\n",
              "<svg xmlns=\"http://www.w3.org/2000/svg\" height=\"24px\"viewBox=\"0 0 24 24\"\n",
              "     width=\"24px\">\n",
              "    <g>\n",
              "        <path d=\"M19 3H5c-1.1 0-2 .9-2 2v14c0 1.1.9 2 2 2h14c1.1 0 2-.9 2-2V5c0-1.1-.9-2-2-2zM9 17H7v-7h2v7zm4 0h-2V7h2v10zm4 0h-2v-4h2v4z\"/>\n",
              "    </g>\n",
              "</svg>\n",
              "  </button>\n",
              "\n",
              "<style>\n",
              "  .colab-df-quickchart {\n",
              "      --bg-color: #E8F0FE;\n",
              "      --fill-color: #1967D2;\n",
              "      --hover-bg-color: #E2EBFA;\n",
              "      --hover-fill-color: #174EA6;\n",
              "      --disabled-fill-color: #AAA;\n",
              "      --disabled-bg-color: #DDD;\n",
              "  }\n",
              "\n",
              "  [theme=dark] .colab-df-quickchart {\n",
              "      --bg-color: #3B4455;\n",
              "      --fill-color: #D2E3FC;\n",
              "      --hover-bg-color: #434B5C;\n",
              "      --hover-fill-color: #FFFFFF;\n",
              "      --disabled-bg-color: #3B4455;\n",
              "      --disabled-fill-color: #666;\n",
              "  }\n",
              "\n",
              "  .colab-df-quickchart {\n",
              "    background-color: var(--bg-color);\n",
              "    border: none;\n",
              "    border-radius: 50%;\n",
              "    cursor: pointer;\n",
              "    display: none;\n",
              "    fill: var(--fill-color);\n",
              "    height: 32px;\n",
              "    padding: 0;\n",
              "    width: 32px;\n",
              "  }\n",
              "\n",
              "  .colab-df-quickchart:hover {\n",
              "    background-color: var(--hover-bg-color);\n",
              "    box-shadow: 0 1px 2px rgba(60, 64, 67, 0.3), 0 1px 3px 1px rgba(60, 64, 67, 0.15);\n",
              "    fill: var(--button-hover-fill-color);\n",
              "  }\n",
              "\n",
              "  .colab-df-quickchart-complete:disabled,\n",
              "  .colab-df-quickchart-complete:disabled:hover {\n",
              "    background-color: var(--disabled-bg-color);\n",
              "    fill: var(--disabled-fill-color);\n",
              "    box-shadow: none;\n",
              "  }\n",
              "\n",
              "  .colab-df-spinner {\n",
              "    border: 2px solid var(--fill-color);\n",
              "    border-color: transparent;\n",
              "    border-bottom-color: var(--fill-color);\n",
              "    animation:\n",
              "      spin 1s steps(1) infinite;\n",
              "  }\n",
              "\n",
              "  @keyframes spin {\n",
              "    0% {\n",
              "      border-color: transparent;\n",
              "      border-bottom-color: var(--fill-color);\n",
              "      border-left-color: var(--fill-color);\n",
              "    }\n",
              "    20% {\n",
              "      border-color: transparent;\n",
              "      border-left-color: var(--fill-color);\n",
              "      border-top-color: var(--fill-color);\n",
              "    }\n",
              "    30% {\n",
              "      border-color: transparent;\n",
              "      border-left-color: var(--fill-color);\n",
              "      border-top-color: var(--fill-color);\n",
              "      border-right-color: var(--fill-color);\n",
              "    }\n",
              "    40% {\n",
              "      border-color: transparent;\n",
              "      border-right-color: var(--fill-color);\n",
              "      border-top-color: var(--fill-color);\n",
              "    }\n",
              "    60% {\n",
              "      border-color: transparent;\n",
              "      border-right-color: var(--fill-color);\n",
              "    }\n",
              "    80% {\n",
              "      border-color: transparent;\n",
              "      border-right-color: var(--fill-color);\n",
              "      border-bottom-color: var(--fill-color);\n",
              "    }\n",
              "    90% {\n",
              "      border-color: transparent;\n",
              "      border-bottom-color: var(--fill-color);\n",
              "    }\n",
              "  }\n",
              "</style>\n",
              "\n",
              "  <script>\n",
              "    async function quickchart(key) {\n",
              "      const quickchartButtonEl =\n",
              "        document.querySelector('#' + key + ' button');\n",
              "      quickchartButtonEl.disabled = true;  // To prevent multiple clicks.\n",
              "      quickchartButtonEl.classList.add('colab-df-spinner');\n",
              "      try {\n",
              "        const charts = await google.colab.kernel.invokeFunction(\n",
              "            'suggestCharts', [key], {});\n",
              "      } catch (error) {\n",
              "        console.error('Error during call to suggestCharts:', error);\n",
              "      }\n",
              "      quickchartButtonEl.classList.remove('colab-df-spinner');\n",
              "      quickchartButtonEl.classList.add('colab-df-quickchart-complete');\n",
              "    }\n",
              "    (() => {\n",
              "      let quickchartButtonEl =\n",
              "        document.querySelector('#df-9aeb4fb9-74c9-4552-8ddb-d0181f833ae9 button');\n",
              "      quickchartButtonEl.style.display =\n",
              "        google.colab.kernel.accessAllowed ? 'block' : 'none';\n",
              "    })();\n",
              "  </script>\n",
              "</div>\n",
              "    </div>\n",
              "  </div>\n"
            ]
          },
          "metadata": {},
          "execution_count": 55
        }
      ]
    },
    {
      "cell_type": "markdown",
      "source": [
        "## Looks like `model_2` performed the best"
      ],
      "metadata": {
        "id": "4XJitjcCAKZy"
      }
    },
    {
      "cell_type": "code",
      "source": [
        "model_2.summary()"
      ],
      "metadata": {
        "colab": {
          "base_uri": "https://localhost:8080/"
        },
        "id": "uTydp5a7_sBW",
        "outputId": "088b3086-5acf-466a-8505-f37a2790fb72"
      },
      "execution_count": 56,
      "outputs": [
        {
          "output_type": "stream",
          "name": "stdout",
          "text": [
            "Model: \"sequential_5\"\n",
            "_________________________________________________________________\n",
            " Layer (type)                Output Shape              Param #   \n",
            "=================================================================\n",
            " dense_6 (Dense)             (None, 10)                20        \n",
            "                                                                 \n",
            " dense_7 (Dense)             (None, 1)                 11        \n",
            "                                                                 \n",
            "=================================================================\n",
            "Total params: 31 (124.00 Byte)\n",
            "Trainable params: 31 (124.00 Byte)\n",
            "Non-trainable params: 0 (0.00 Byte)\n",
            "_________________________________________________________________\n"
          ]
        }
      ]
    },
    {
      "cell_type": "markdown",
      "source": [
        "**Note:** One of your main goals should be to minimize the time between your experiments. The more experiments you do the more thing you'll figure out which don't work. Remember the machine learning practitioner's motto: \"experiment, experiment, experiment."
      ],
      "metadata": {
        "id": "0FC0OLvWAWzq"
      }
    },
    {
      "cell_type": "markdown",
      "source": [
        "## Tracking you experiments\n",
        "\n",
        "One really good habbit in machine learning modelling is to track the results of your experiments.\n",
        "\n",
        "And when doing so, it can be tedios if you running lots of expermients.\n",
        "\n",
        "Luckily, there are tools to help us!\n",
        "\n",
        "**Resource:** As you build more models, you'll want to look into using:\n",
        "\n",
        "* Tensorboard - a component of the Tensorflow library to help track modelling experiments (we'll see this one later).\n",
        "* Weghts & Biases - a tool for tracking all of kinds of machine learning experiments (plugs straight into Tensorboard)."
      ],
      "metadata": {
        "id": "fta5hklpBJX2"
      }
    },
    {
      "cell_type": "markdown",
      "source": [
        "### Saving our models\n",
        "Saving models allows us to use them outside of Google Colab (or whereever they were trained) such as in a web application or a mobile app.\n",
        "\n",
        "There are two main formats we can save our model's too:\n",
        "\n",
        "1. The SavedModel format\n",
        "2. The HDF5 format"
      ],
      "metadata": {
        "id": "-jha9pxTCwhL"
      }
    },
    {
      "cell_type": "code",
      "source": [
        "# Save a model using Tthe SavedModel format\n",
        "model_2.save(\"model_2_SavedModel_format\")"
      ],
      "metadata": {
        "id": "_2GDo0GUmbw5"
      },
      "execution_count": 57,
      "outputs": []
    },
    {
      "cell_type": "code",
      "source": [
        "# Save the model using HDF5 format.\n",
        "model_2.save(\"model_2_HDF5_format.h5\")"
      ],
      "metadata": {
        "colab": {
          "base_uri": "https://localhost:8080/"
        },
        "id": "GYGL3DpMpB2l",
        "outputId": "cc65f554-d612-4c8a-ef6d-2bef848e21e5"
      },
      "execution_count": 58,
      "outputs": [
        {
          "output_type": "stream",
          "name": "stderr",
          "text": [
            "/usr/local/lib/python3.10/dist-packages/keras/src/engine/training.py:3000: UserWarning: You are saving your model as an HDF5 file via `model.save()`. This file format is considered legacy. We recommend using instead the native Keras format, e.g. `model.save('my_model.keras')`.\n",
            "  saving_api.save_model(\n"
          ]
        }
      ]
    },
    {
      "cell_type": "markdown",
      "source": [
        "### Loading in a saved model."
      ],
      "metadata": {
        "id": "rRyzyBXJp17A"
      }
    },
    {
      "cell_type": "code",
      "source": [
        "# Load in the SavedModel format model\n",
        "loaded_SavedModel_format = tf.keras.models.load_model(\"/content/model_2_SavedModel_format\")\n",
        "loaded_SavedModel_format.summary()"
      ],
      "metadata": {
        "colab": {
          "base_uri": "https://localhost:8080/"
        },
        "id": "EvSonbfmrIJO",
        "outputId": "77926d5d-9de8-40a0-d3ed-89c745368665"
      },
      "execution_count": 59,
      "outputs": [
        {
          "output_type": "stream",
          "name": "stdout",
          "text": [
            "Model: \"sequential_5\"\n",
            "_________________________________________________________________\n",
            " Layer (type)                Output Shape              Param #   \n",
            "=================================================================\n",
            " dense_6 (Dense)             (None, 10)                20        \n",
            "                                                                 \n",
            " dense_7 (Dense)             (None, 1)                 11        \n",
            "                                                                 \n",
            "=================================================================\n",
            "Total params: 31 (124.00 Byte)\n",
            "Trainable params: 31 (124.00 Byte)\n",
            "Non-trainable params: 0 (0.00 Byte)\n",
            "_________________________________________________________________\n"
          ]
        }
      ]
    },
    {
      "cell_type": "code",
      "source": [
        "# Compare model_2 predictions with loaded_SavedModel_format predictions.\n",
        "model_2_preds = model_2.predict(X_test)\n",
        "loaded_SavedModel_format_preds = loaded_SavedModel_format.predict(X_test)\n",
        "model_2_preds == loaded_SavedModel_format_preds"
      ],
      "metadata": {
        "colab": {
          "base_uri": "https://localhost:8080/"
        },
        "id": "gZHrUzudrrzY",
        "outputId": "155d2078-5f62-4ad5-c20e-8e1bebe02311"
      },
      "execution_count": 60,
      "outputs": [
        {
          "output_type": "stream",
          "name": "stdout",
          "text": [
            "1/1 [==============================] - 0s 53ms/step\n",
            "1/1 [==============================] - 0s 53ms/step\n"
          ]
        },
        {
          "output_type": "execute_result",
          "data": {
            "text/plain": [
              "array([[ True],\n",
              "       [ True],\n",
              "       [ True],\n",
              "       [ True],\n",
              "       [ True],\n",
              "       [ True],\n",
              "       [ True],\n",
              "       [ True],\n",
              "       [ True],\n",
              "       [ True]])"
            ]
          },
          "metadata": {},
          "execution_count": 60
        }
      ]
    },
    {
      "cell_type": "code",
      "source": [
        "# Loading a model using .h5 format\n",
        "loaded_h5_model = tf.keras.models.load_model('/content/model_2_HDF5_format.h5')\n",
        "loaded_h5_model.summary()"
      ],
      "metadata": {
        "colab": {
          "base_uri": "https://localhost:8080/"
        },
        "id": "1qy1-MGitGwz",
        "outputId": "c04d1e18-3a5b-49ea-899c-a9a7c0741d7d"
      },
      "execution_count": 61,
      "outputs": [
        {
          "output_type": "stream",
          "name": "stdout",
          "text": [
            "Model: \"sequential_5\"\n",
            "_________________________________________________________________\n",
            " Layer (type)                Output Shape              Param #   \n",
            "=================================================================\n",
            " dense_6 (Dense)             (None, 10)                20        \n",
            "                                                                 \n",
            " dense_7 (Dense)             (None, 1)                 11        \n",
            "                                                                 \n",
            "=================================================================\n",
            "Total params: 31 (124.00 Byte)\n",
            "Trainable params: 31 (124.00 Byte)\n",
            "Non-trainable params: 0 (0.00 Byte)\n",
            "_________________________________________________________________\n"
          ]
        }
      ]
    },
    {
      "cell_type": "code",
      "source": [
        "# Compare the MAE of model_2 preds and loaded_SavedModel preds.\n",
        "mae(y_true=y_test, y_pred=model_2_preds) == mae(y_true=y_test, y_pred=loaded_SavedModel_format_preds)"
      ],
      "metadata": {
        "colab": {
          "base_uri": "https://localhost:8080/"
        },
        "id": "NE91HVkUsN48",
        "outputId": "61085e35-1d10-44e7-d714-d0d9483faf91"
      },
      "execution_count": 62,
      "outputs": [
        {
          "output_type": "execute_result",
          "data": {
            "text/plain": [
              "<tf.Tensor: shape=(), dtype=bool, numpy=True>"
            ]
          },
          "metadata": {},
          "execution_count": 62
        }
      ]
    },
    {
      "cell_type": "code",
      "source": [
        "# Check to see if loaded .h5 model predictions match model_2\n",
        "model_2_preds = model_2.predict(X_test)\n",
        "loaded_h5_model_preds = loaded_h5_model.predict(X_test)\n",
        "model_2_preds == loaded_h5_model_preds"
      ],
      "metadata": {
        "colab": {
          "base_uri": "https://localhost:8080/"
        },
        "id": "vWZ3qGTptkhq",
        "outputId": "d74c6f34-4619-48fd-dc59-e8ba704b635a"
      },
      "execution_count": 63,
      "outputs": [
        {
          "output_type": "stream",
          "name": "stdout",
          "text": [
            "1/1 [==============================] - 0s 20ms/step\n",
            "1/1 [==============================] - 0s 47ms/step\n"
          ]
        },
        {
          "output_type": "execute_result",
          "data": {
            "text/plain": [
              "array([[ True],\n",
              "       [ True],\n",
              "       [ True],\n",
              "       [ True],\n",
              "       [ True],\n",
              "       [ True],\n",
              "       [ True],\n",
              "       [ True],\n",
              "       [ True],\n",
              "       [ True]])"
            ]
          },
          "metadata": {},
          "execution_count": 63
        }
      ]
    },
    {
      "cell_type": "markdown",
      "source": [
        "## Download a model (or any other file) from Google Colab\n",
        "\n",
        "1. You can go to \"files\" and right click on the file you are after and click \"download\"\n",
        "2. Use code (see the cell below)\n",
        "3. Save it to google drive by connecting google drive and copying it there."
      ],
      "metadata": {
        "id": "keunR5jTv2_C"
      }
    },
    {
      "cell_type": "code",
      "source": [
        "from google.colab import drive\n",
        "drive.mount('/content/drive')"
      ],
      "metadata": {
        "colab": {
          "base_uri": "https://localhost:8080/"
        },
        "id": "HopKL0S5xRsN",
        "outputId": "eda01094-6126-45fb-ebc8-22736fc5d61f"
      },
      "execution_count": 64,
      "outputs": [
        {
          "output_type": "stream",
          "name": "stdout",
          "text": [
            "Mounted at /content/drive\n"
          ]
        }
      ]
    },
    {
      "cell_type": "code",
      "source": [
        "# Download a file from Google Colab\n",
        "from google.colab import files\n",
        "files.download(\"/content/model_2_HDF5_format.h5\")"
      ],
      "metadata": {
        "colab": {
          "base_uri": "https://localhost:8080/",
          "height": 17
        },
        "id": "xRJb7n6iv7v6",
        "outputId": "df4241e9-c786-40cd-aec4-7bc55ec3feea"
      },
      "execution_count": 65,
      "outputs": [
        {
          "output_type": "display_data",
          "data": {
            "text/plain": [
              "<IPython.core.display.Javascript object>"
            ],
            "application/javascript": [
              "\n",
              "    async function download(id, filename, size) {\n",
              "      if (!google.colab.kernel.accessAllowed) {\n",
              "        return;\n",
              "      }\n",
              "      const div = document.createElement('div');\n",
              "      const label = document.createElement('label');\n",
              "      label.textContent = `Downloading \"${filename}\": `;\n",
              "      div.appendChild(label);\n",
              "      const progress = document.createElement('progress');\n",
              "      progress.max = size;\n",
              "      div.appendChild(progress);\n",
              "      document.body.appendChild(div);\n",
              "\n",
              "      const buffers = [];\n",
              "      let downloaded = 0;\n",
              "\n",
              "      const channel = await google.colab.kernel.comms.open(id);\n",
              "      // Send a message to notify the kernel that we're ready.\n",
              "      channel.send({})\n",
              "\n",
              "      for await (const message of channel.messages) {\n",
              "        // Send a message to notify the kernel that we're ready.\n",
              "        channel.send({})\n",
              "        if (message.buffers) {\n",
              "          for (const buffer of message.buffers) {\n",
              "            buffers.push(buffer);\n",
              "            downloaded += buffer.byteLength;\n",
              "            progress.value = downloaded;\n",
              "          }\n",
              "        }\n",
              "      }\n",
              "      const blob = new Blob(buffers, {type: 'application/binary'});\n",
              "      const a = document.createElement('a');\n",
              "      a.href = window.URL.createObjectURL(blob);\n",
              "      a.download = filename;\n",
              "      div.appendChild(a);\n",
              "      a.click();\n",
              "      div.remove();\n",
              "    }\n",
              "  "
            ]
          },
          "metadata": {}
        },
        {
          "output_type": "display_data",
          "data": {
            "text/plain": [
              "<IPython.core.display.Javascript object>"
            ],
            "application/javascript": [
              "download(\"download_17a65d6c-2665-478e-b496-16d801348d6f\", \"model_2_HDF5_format.h5\", 21952)"
            ]
          },
          "metadata": {}
        }
      ]
    },
    {
      "cell_type": "code",
      "source": [
        "# Save it from Google Colab to Google Drive (this requires mounting Google Drive)\n",
        "!cp /content/model_2_HDF5_format.h5 /content/drive/MyDrive/model_2_HDF5_format.h5"
      ],
      "metadata": {
        "id": "aH9CgyEPw7Cj"
      },
      "execution_count": 66,
      "outputs": []
    },
    {
      "cell_type": "markdown",
      "source": [
        "## A larger example"
      ],
      "metadata": {
        "id": "bQ9Poi3YvedL"
      }
    },
    {
      "cell_type": "code",
      "source": [
        "# Import required libraries\n",
        "import tensorflow as tf\n",
        "import pandas as pd\n",
        "import matplotlib.pyplot as plt\n"
      ],
      "metadata": {
        "id": "i3MrFL8Evh3w"
      },
      "execution_count": 67,
      "outputs": []
    },
    {
      "cell_type": "code",
      "source": [
        "# Read the insurance dataset\n",
        "insurance = pd.read_csv(\"https://raw.githubusercontent.com/stedy/Machine-Learning-with-R-datasets/master/insurance.csv\")\n",
        "insurance"
      ],
      "metadata": {
        "colab": {
          "base_uri": "https://localhost:8080/",
          "height": 424
        },
        "id": "AF7BXjL1w0_H",
        "outputId": "a7e7f21f-8dc0-48b9-f932-29ba71519799"
      },
      "execution_count": 68,
      "outputs": [
        {
          "output_type": "execute_result",
          "data": {
            "text/plain": [
              "      age     sex     bmi  children smoker     region      charges\n",
              "0      19  female  27.900         0    yes  southwest  16884.92400\n",
              "1      18    male  33.770         1     no  southeast   1725.55230\n",
              "2      28    male  33.000         3     no  southeast   4449.46200\n",
              "3      33    male  22.705         0     no  northwest  21984.47061\n",
              "4      32    male  28.880         0     no  northwest   3866.85520\n",
              "...   ...     ...     ...       ...    ...        ...          ...\n",
              "1333   50    male  30.970         3     no  northwest  10600.54830\n",
              "1334   18  female  31.920         0     no  northeast   2205.98080\n",
              "1335   18  female  36.850         0     no  southeast   1629.83350\n",
              "1336   21  female  25.800         0     no  southwest   2007.94500\n",
              "1337   61  female  29.070         0    yes  northwest  29141.36030\n",
              "\n",
              "[1338 rows x 7 columns]"
            ],
            "text/html": [
              "\n",
              "  <div id=\"df-c924ae78-aaaf-4a53-a10d-f43d21a2959a\" class=\"colab-df-container\">\n",
              "    <div>\n",
              "<style scoped>\n",
              "    .dataframe tbody tr th:only-of-type {\n",
              "        vertical-align: middle;\n",
              "    }\n",
              "\n",
              "    .dataframe tbody tr th {\n",
              "        vertical-align: top;\n",
              "    }\n",
              "\n",
              "    .dataframe thead th {\n",
              "        text-align: right;\n",
              "    }\n",
              "</style>\n",
              "<table border=\"1\" class=\"dataframe\">\n",
              "  <thead>\n",
              "    <tr style=\"text-align: right;\">\n",
              "      <th></th>\n",
              "      <th>age</th>\n",
              "      <th>sex</th>\n",
              "      <th>bmi</th>\n",
              "      <th>children</th>\n",
              "      <th>smoker</th>\n",
              "      <th>region</th>\n",
              "      <th>charges</th>\n",
              "    </tr>\n",
              "  </thead>\n",
              "  <tbody>\n",
              "    <tr>\n",
              "      <th>0</th>\n",
              "      <td>19</td>\n",
              "      <td>female</td>\n",
              "      <td>27.900</td>\n",
              "      <td>0</td>\n",
              "      <td>yes</td>\n",
              "      <td>southwest</td>\n",
              "      <td>16884.92400</td>\n",
              "    </tr>\n",
              "    <tr>\n",
              "      <th>1</th>\n",
              "      <td>18</td>\n",
              "      <td>male</td>\n",
              "      <td>33.770</td>\n",
              "      <td>1</td>\n",
              "      <td>no</td>\n",
              "      <td>southeast</td>\n",
              "      <td>1725.55230</td>\n",
              "    </tr>\n",
              "    <tr>\n",
              "      <th>2</th>\n",
              "      <td>28</td>\n",
              "      <td>male</td>\n",
              "      <td>33.000</td>\n",
              "      <td>3</td>\n",
              "      <td>no</td>\n",
              "      <td>southeast</td>\n",
              "      <td>4449.46200</td>\n",
              "    </tr>\n",
              "    <tr>\n",
              "      <th>3</th>\n",
              "      <td>33</td>\n",
              "      <td>male</td>\n",
              "      <td>22.705</td>\n",
              "      <td>0</td>\n",
              "      <td>no</td>\n",
              "      <td>northwest</td>\n",
              "      <td>21984.47061</td>\n",
              "    </tr>\n",
              "    <tr>\n",
              "      <th>4</th>\n",
              "      <td>32</td>\n",
              "      <td>male</td>\n",
              "      <td>28.880</td>\n",
              "      <td>0</td>\n",
              "      <td>no</td>\n",
              "      <td>northwest</td>\n",
              "      <td>3866.85520</td>\n",
              "    </tr>\n",
              "    <tr>\n",
              "      <th>...</th>\n",
              "      <td>...</td>\n",
              "      <td>...</td>\n",
              "      <td>...</td>\n",
              "      <td>...</td>\n",
              "      <td>...</td>\n",
              "      <td>...</td>\n",
              "      <td>...</td>\n",
              "    </tr>\n",
              "    <tr>\n",
              "      <th>1333</th>\n",
              "      <td>50</td>\n",
              "      <td>male</td>\n",
              "      <td>30.970</td>\n",
              "      <td>3</td>\n",
              "      <td>no</td>\n",
              "      <td>northwest</td>\n",
              "      <td>10600.54830</td>\n",
              "    </tr>\n",
              "    <tr>\n",
              "      <th>1334</th>\n",
              "      <td>18</td>\n",
              "      <td>female</td>\n",
              "      <td>31.920</td>\n",
              "      <td>0</td>\n",
              "      <td>no</td>\n",
              "      <td>northeast</td>\n",
              "      <td>2205.98080</td>\n",
              "    </tr>\n",
              "    <tr>\n",
              "      <th>1335</th>\n",
              "      <td>18</td>\n",
              "      <td>female</td>\n",
              "      <td>36.850</td>\n",
              "      <td>0</td>\n",
              "      <td>no</td>\n",
              "      <td>southeast</td>\n",
              "      <td>1629.83350</td>\n",
              "    </tr>\n",
              "    <tr>\n",
              "      <th>1336</th>\n",
              "      <td>21</td>\n",
              "      <td>female</td>\n",
              "      <td>25.800</td>\n",
              "      <td>0</td>\n",
              "      <td>no</td>\n",
              "      <td>southwest</td>\n",
              "      <td>2007.94500</td>\n",
              "    </tr>\n",
              "    <tr>\n",
              "      <th>1337</th>\n",
              "      <td>61</td>\n",
              "      <td>female</td>\n",
              "      <td>29.070</td>\n",
              "      <td>0</td>\n",
              "      <td>yes</td>\n",
              "      <td>northwest</td>\n",
              "      <td>29141.36030</td>\n",
              "    </tr>\n",
              "  </tbody>\n",
              "</table>\n",
              "<p>1338 rows × 7 columns</p>\n",
              "</div>\n",
              "    <div class=\"colab-df-buttons\">\n",
              "\n",
              "  <div class=\"colab-df-container\">\n",
              "    <button class=\"colab-df-convert\" onclick=\"convertToInteractive('df-c924ae78-aaaf-4a53-a10d-f43d21a2959a')\"\n",
              "            title=\"Convert this dataframe to an interactive table.\"\n",
              "            style=\"display:none;\">\n",
              "\n",
              "  <svg xmlns=\"http://www.w3.org/2000/svg\" height=\"24px\" viewBox=\"0 -960 960 960\">\n",
              "    <path d=\"M120-120v-720h720v720H120Zm60-500h600v-160H180v160Zm220 220h160v-160H400v160Zm0 220h160v-160H400v160ZM180-400h160v-160H180v160Zm440 0h160v-160H620v160ZM180-180h160v-160H180v160Zm440 0h160v-160H620v160Z\"/>\n",
              "  </svg>\n",
              "    </button>\n",
              "\n",
              "  <style>\n",
              "    .colab-df-container {\n",
              "      display:flex;\n",
              "      gap: 12px;\n",
              "    }\n",
              "\n",
              "    .colab-df-convert {\n",
              "      background-color: #E8F0FE;\n",
              "      border: none;\n",
              "      border-radius: 50%;\n",
              "      cursor: pointer;\n",
              "      display: none;\n",
              "      fill: #1967D2;\n",
              "      height: 32px;\n",
              "      padding: 0 0 0 0;\n",
              "      width: 32px;\n",
              "    }\n",
              "\n",
              "    .colab-df-convert:hover {\n",
              "      background-color: #E2EBFA;\n",
              "      box-shadow: 0px 1px 2px rgba(60, 64, 67, 0.3), 0px 1px 3px 1px rgba(60, 64, 67, 0.15);\n",
              "      fill: #174EA6;\n",
              "    }\n",
              "\n",
              "    .colab-df-buttons div {\n",
              "      margin-bottom: 4px;\n",
              "    }\n",
              "\n",
              "    [theme=dark] .colab-df-convert {\n",
              "      background-color: #3B4455;\n",
              "      fill: #D2E3FC;\n",
              "    }\n",
              "\n",
              "    [theme=dark] .colab-df-convert:hover {\n",
              "      background-color: #434B5C;\n",
              "      box-shadow: 0px 1px 3px 1px rgba(0, 0, 0, 0.15);\n",
              "      filter: drop-shadow(0px 1px 2px rgba(0, 0, 0, 0.3));\n",
              "      fill: #FFFFFF;\n",
              "    }\n",
              "  </style>\n",
              "\n",
              "    <script>\n",
              "      const buttonEl =\n",
              "        document.querySelector('#df-c924ae78-aaaf-4a53-a10d-f43d21a2959a button.colab-df-convert');\n",
              "      buttonEl.style.display =\n",
              "        google.colab.kernel.accessAllowed ? 'block' : 'none';\n",
              "\n",
              "      async function convertToInteractive(key) {\n",
              "        const element = document.querySelector('#df-c924ae78-aaaf-4a53-a10d-f43d21a2959a');\n",
              "        const dataTable =\n",
              "          await google.colab.kernel.invokeFunction('convertToInteractive',\n",
              "                                                    [key], {});\n",
              "        if (!dataTable) return;\n",
              "\n",
              "        const docLinkHtml = 'Like what you see? Visit the ' +\n",
              "          '<a target=\"_blank\" href=https://colab.research.google.com/notebooks/data_table.ipynb>data table notebook</a>'\n",
              "          + ' to learn more about interactive tables.';\n",
              "        element.innerHTML = '';\n",
              "        dataTable['output_type'] = 'display_data';\n",
              "        await google.colab.output.renderOutput(dataTable, element);\n",
              "        const docLink = document.createElement('div');\n",
              "        docLink.innerHTML = docLinkHtml;\n",
              "        element.appendChild(docLink);\n",
              "      }\n",
              "    </script>\n",
              "  </div>\n",
              "\n",
              "\n",
              "<div id=\"df-afba81cc-70fb-46c7-8cf3-f48c86ad5367\">\n",
              "  <button class=\"colab-df-quickchart\" onclick=\"quickchart('df-afba81cc-70fb-46c7-8cf3-f48c86ad5367')\"\n",
              "            title=\"Suggest charts.\"\n",
              "            style=\"display:none;\">\n",
              "\n",
              "<svg xmlns=\"http://www.w3.org/2000/svg\" height=\"24px\"viewBox=\"0 0 24 24\"\n",
              "     width=\"24px\">\n",
              "    <g>\n",
              "        <path d=\"M19 3H5c-1.1 0-2 .9-2 2v14c0 1.1.9 2 2 2h14c1.1 0 2-.9 2-2V5c0-1.1-.9-2-2-2zM9 17H7v-7h2v7zm4 0h-2V7h2v10zm4 0h-2v-4h2v4z\"/>\n",
              "    </g>\n",
              "</svg>\n",
              "  </button>\n",
              "\n",
              "<style>\n",
              "  .colab-df-quickchart {\n",
              "      --bg-color: #E8F0FE;\n",
              "      --fill-color: #1967D2;\n",
              "      --hover-bg-color: #E2EBFA;\n",
              "      --hover-fill-color: #174EA6;\n",
              "      --disabled-fill-color: #AAA;\n",
              "      --disabled-bg-color: #DDD;\n",
              "  }\n",
              "\n",
              "  [theme=dark] .colab-df-quickchart {\n",
              "      --bg-color: #3B4455;\n",
              "      --fill-color: #D2E3FC;\n",
              "      --hover-bg-color: #434B5C;\n",
              "      --hover-fill-color: #FFFFFF;\n",
              "      --disabled-bg-color: #3B4455;\n",
              "      --disabled-fill-color: #666;\n",
              "  }\n",
              "\n",
              "  .colab-df-quickchart {\n",
              "    background-color: var(--bg-color);\n",
              "    border: none;\n",
              "    border-radius: 50%;\n",
              "    cursor: pointer;\n",
              "    display: none;\n",
              "    fill: var(--fill-color);\n",
              "    height: 32px;\n",
              "    padding: 0;\n",
              "    width: 32px;\n",
              "  }\n",
              "\n",
              "  .colab-df-quickchart:hover {\n",
              "    background-color: var(--hover-bg-color);\n",
              "    box-shadow: 0 1px 2px rgba(60, 64, 67, 0.3), 0 1px 3px 1px rgba(60, 64, 67, 0.15);\n",
              "    fill: var(--button-hover-fill-color);\n",
              "  }\n",
              "\n",
              "  .colab-df-quickchart-complete:disabled,\n",
              "  .colab-df-quickchart-complete:disabled:hover {\n",
              "    background-color: var(--disabled-bg-color);\n",
              "    fill: var(--disabled-fill-color);\n",
              "    box-shadow: none;\n",
              "  }\n",
              "\n",
              "  .colab-df-spinner {\n",
              "    border: 2px solid var(--fill-color);\n",
              "    border-color: transparent;\n",
              "    border-bottom-color: var(--fill-color);\n",
              "    animation:\n",
              "      spin 1s steps(1) infinite;\n",
              "  }\n",
              "\n",
              "  @keyframes spin {\n",
              "    0% {\n",
              "      border-color: transparent;\n",
              "      border-bottom-color: var(--fill-color);\n",
              "      border-left-color: var(--fill-color);\n",
              "    }\n",
              "    20% {\n",
              "      border-color: transparent;\n",
              "      border-left-color: var(--fill-color);\n",
              "      border-top-color: var(--fill-color);\n",
              "    }\n",
              "    30% {\n",
              "      border-color: transparent;\n",
              "      border-left-color: var(--fill-color);\n",
              "      border-top-color: var(--fill-color);\n",
              "      border-right-color: var(--fill-color);\n",
              "    }\n",
              "    40% {\n",
              "      border-color: transparent;\n",
              "      border-right-color: var(--fill-color);\n",
              "      border-top-color: var(--fill-color);\n",
              "    }\n",
              "    60% {\n",
              "      border-color: transparent;\n",
              "      border-right-color: var(--fill-color);\n",
              "    }\n",
              "    80% {\n",
              "      border-color: transparent;\n",
              "      border-right-color: var(--fill-color);\n",
              "      border-bottom-color: var(--fill-color);\n",
              "    }\n",
              "    90% {\n",
              "      border-color: transparent;\n",
              "      border-bottom-color: var(--fill-color);\n",
              "    }\n",
              "  }\n",
              "</style>\n",
              "\n",
              "  <script>\n",
              "    async function quickchart(key) {\n",
              "      const quickchartButtonEl =\n",
              "        document.querySelector('#' + key + ' button');\n",
              "      quickchartButtonEl.disabled = true;  // To prevent multiple clicks.\n",
              "      quickchartButtonEl.classList.add('colab-df-spinner');\n",
              "      try {\n",
              "        const charts = await google.colab.kernel.invokeFunction(\n",
              "            'suggestCharts', [key], {});\n",
              "      } catch (error) {\n",
              "        console.error('Error during call to suggestCharts:', error);\n",
              "      }\n",
              "      quickchartButtonEl.classList.remove('colab-df-spinner');\n",
              "      quickchartButtonEl.classList.add('colab-df-quickchart-complete');\n",
              "    }\n",
              "    (() => {\n",
              "      let quickchartButtonEl =\n",
              "        document.querySelector('#df-afba81cc-70fb-46c7-8cf3-f48c86ad5367 button');\n",
              "      quickchartButtonEl.style.display =\n",
              "        google.colab.kernel.accessAllowed ? 'block' : 'none';\n",
              "    })();\n",
              "  </script>\n",
              "</div>\n",
              "    </div>\n",
              "  </div>\n"
            ]
          },
          "metadata": {},
          "execution_count": 68
        }
      ]
    },
    {
      "cell_type": "code",
      "source": [
        "# Let's try one-hot encode our dataframe so it's all numbers.\n",
        "insurance_one_hot = pd.get_dummies(insurance)\n",
        "insurance_one_hot.head()"
      ],
      "metadata": {
        "colab": {
          "base_uri": "https://localhost:8080/",
          "height": 206
        },
        "id": "srtJ5yuYxgIE",
        "outputId": "11a2696b-242b-43d8-ec0c-398317bc1b21"
      },
      "execution_count": 69,
      "outputs": [
        {
          "output_type": "execute_result",
          "data": {
            "text/plain": [
              "   age     bmi  children      charges  sex_female  sex_male  smoker_no  \\\n",
              "0   19  27.900         0  16884.92400           1         0          0   \n",
              "1   18  33.770         1   1725.55230           0         1          1   \n",
              "2   28  33.000         3   4449.46200           0         1          1   \n",
              "3   33  22.705         0  21984.47061           0         1          1   \n",
              "4   32  28.880         0   3866.85520           0         1          1   \n",
              "\n",
              "   smoker_yes  region_northeast  region_northwest  region_southeast  \\\n",
              "0           1                 0                 0                 0   \n",
              "1           0                 0                 0                 1   \n",
              "2           0                 0                 0                 1   \n",
              "3           0                 0                 1                 0   \n",
              "4           0                 0                 1                 0   \n",
              "\n",
              "   region_southwest  \n",
              "0                 1  \n",
              "1                 0  \n",
              "2                 0  \n",
              "3                 0  \n",
              "4                 0  "
            ],
            "text/html": [
              "\n",
              "  <div id=\"df-f5379c78-0f13-4725-a646-1e969d9800d6\" class=\"colab-df-container\">\n",
              "    <div>\n",
              "<style scoped>\n",
              "    .dataframe tbody tr th:only-of-type {\n",
              "        vertical-align: middle;\n",
              "    }\n",
              "\n",
              "    .dataframe tbody tr th {\n",
              "        vertical-align: top;\n",
              "    }\n",
              "\n",
              "    .dataframe thead th {\n",
              "        text-align: right;\n",
              "    }\n",
              "</style>\n",
              "<table border=\"1\" class=\"dataframe\">\n",
              "  <thead>\n",
              "    <tr style=\"text-align: right;\">\n",
              "      <th></th>\n",
              "      <th>age</th>\n",
              "      <th>bmi</th>\n",
              "      <th>children</th>\n",
              "      <th>charges</th>\n",
              "      <th>sex_female</th>\n",
              "      <th>sex_male</th>\n",
              "      <th>smoker_no</th>\n",
              "      <th>smoker_yes</th>\n",
              "      <th>region_northeast</th>\n",
              "      <th>region_northwest</th>\n",
              "      <th>region_southeast</th>\n",
              "      <th>region_southwest</th>\n",
              "    </tr>\n",
              "  </thead>\n",
              "  <tbody>\n",
              "    <tr>\n",
              "      <th>0</th>\n",
              "      <td>19</td>\n",
              "      <td>27.900</td>\n",
              "      <td>0</td>\n",
              "      <td>16884.92400</td>\n",
              "      <td>1</td>\n",
              "      <td>0</td>\n",
              "      <td>0</td>\n",
              "      <td>1</td>\n",
              "      <td>0</td>\n",
              "      <td>0</td>\n",
              "      <td>0</td>\n",
              "      <td>1</td>\n",
              "    </tr>\n",
              "    <tr>\n",
              "      <th>1</th>\n",
              "      <td>18</td>\n",
              "      <td>33.770</td>\n",
              "      <td>1</td>\n",
              "      <td>1725.55230</td>\n",
              "      <td>0</td>\n",
              "      <td>1</td>\n",
              "      <td>1</td>\n",
              "      <td>0</td>\n",
              "      <td>0</td>\n",
              "      <td>0</td>\n",
              "      <td>1</td>\n",
              "      <td>0</td>\n",
              "    </tr>\n",
              "    <tr>\n",
              "      <th>2</th>\n",
              "      <td>28</td>\n",
              "      <td>33.000</td>\n",
              "      <td>3</td>\n",
              "      <td>4449.46200</td>\n",
              "      <td>0</td>\n",
              "      <td>1</td>\n",
              "      <td>1</td>\n",
              "      <td>0</td>\n",
              "      <td>0</td>\n",
              "      <td>0</td>\n",
              "      <td>1</td>\n",
              "      <td>0</td>\n",
              "    </tr>\n",
              "    <tr>\n",
              "      <th>3</th>\n",
              "      <td>33</td>\n",
              "      <td>22.705</td>\n",
              "      <td>0</td>\n",
              "      <td>21984.47061</td>\n",
              "      <td>0</td>\n",
              "      <td>1</td>\n",
              "      <td>1</td>\n",
              "      <td>0</td>\n",
              "      <td>0</td>\n",
              "      <td>1</td>\n",
              "      <td>0</td>\n",
              "      <td>0</td>\n",
              "    </tr>\n",
              "    <tr>\n",
              "      <th>4</th>\n",
              "      <td>32</td>\n",
              "      <td>28.880</td>\n",
              "      <td>0</td>\n",
              "      <td>3866.85520</td>\n",
              "      <td>0</td>\n",
              "      <td>1</td>\n",
              "      <td>1</td>\n",
              "      <td>0</td>\n",
              "      <td>0</td>\n",
              "      <td>1</td>\n",
              "      <td>0</td>\n",
              "      <td>0</td>\n",
              "    </tr>\n",
              "  </tbody>\n",
              "</table>\n",
              "</div>\n",
              "    <div class=\"colab-df-buttons\">\n",
              "\n",
              "  <div class=\"colab-df-container\">\n",
              "    <button class=\"colab-df-convert\" onclick=\"convertToInteractive('df-f5379c78-0f13-4725-a646-1e969d9800d6')\"\n",
              "            title=\"Convert this dataframe to an interactive table.\"\n",
              "            style=\"display:none;\">\n",
              "\n",
              "  <svg xmlns=\"http://www.w3.org/2000/svg\" height=\"24px\" viewBox=\"0 -960 960 960\">\n",
              "    <path d=\"M120-120v-720h720v720H120Zm60-500h600v-160H180v160Zm220 220h160v-160H400v160Zm0 220h160v-160H400v160ZM180-400h160v-160H180v160Zm440 0h160v-160H620v160ZM180-180h160v-160H180v160Zm440 0h160v-160H620v160Z\"/>\n",
              "  </svg>\n",
              "    </button>\n",
              "\n",
              "  <style>\n",
              "    .colab-df-container {\n",
              "      display:flex;\n",
              "      gap: 12px;\n",
              "    }\n",
              "\n",
              "    .colab-df-convert {\n",
              "      background-color: #E8F0FE;\n",
              "      border: none;\n",
              "      border-radius: 50%;\n",
              "      cursor: pointer;\n",
              "      display: none;\n",
              "      fill: #1967D2;\n",
              "      height: 32px;\n",
              "      padding: 0 0 0 0;\n",
              "      width: 32px;\n",
              "    }\n",
              "\n",
              "    .colab-df-convert:hover {\n",
              "      background-color: #E2EBFA;\n",
              "      box-shadow: 0px 1px 2px rgba(60, 64, 67, 0.3), 0px 1px 3px 1px rgba(60, 64, 67, 0.15);\n",
              "      fill: #174EA6;\n",
              "    }\n",
              "\n",
              "    .colab-df-buttons div {\n",
              "      margin-bottom: 4px;\n",
              "    }\n",
              "\n",
              "    [theme=dark] .colab-df-convert {\n",
              "      background-color: #3B4455;\n",
              "      fill: #D2E3FC;\n",
              "    }\n",
              "\n",
              "    [theme=dark] .colab-df-convert:hover {\n",
              "      background-color: #434B5C;\n",
              "      box-shadow: 0px 1px 3px 1px rgba(0, 0, 0, 0.15);\n",
              "      filter: drop-shadow(0px 1px 2px rgba(0, 0, 0, 0.3));\n",
              "      fill: #FFFFFF;\n",
              "    }\n",
              "  </style>\n",
              "\n",
              "    <script>\n",
              "      const buttonEl =\n",
              "        document.querySelector('#df-f5379c78-0f13-4725-a646-1e969d9800d6 button.colab-df-convert');\n",
              "      buttonEl.style.display =\n",
              "        google.colab.kernel.accessAllowed ? 'block' : 'none';\n",
              "\n",
              "      async function convertToInteractive(key) {\n",
              "        const element = document.querySelector('#df-f5379c78-0f13-4725-a646-1e969d9800d6');\n",
              "        const dataTable =\n",
              "          await google.colab.kernel.invokeFunction('convertToInteractive',\n",
              "                                                    [key], {});\n",
              "        if (!dataTable) return;\n",
              "\n",
              "        const docLinkHtml = 'Like what you see? Visit the ' +\n",
              "          '<a target=\"_blank\" href=https://colab.research.google.com/notebooks/data_table.ipynb>data table notebook</a>'\n",
              "          + ' to learn more about interactive tables.';\n",
              "        element.innerHTML = '';\n",
              "        dataTable['output_type'] = 'display_data';\n",
              "        await google.colab.output.renderOutput(dataTable, element);\n",
              "        const docLink = document.createElement('div');\n",
              "        docLink.innerHTML = docLinkHtml;\n",
              "        element.appendChild(docLink);\n",
              "      }\n",
              "    </script>\n",
              "  </div>\n",
              "\n",
              "\n",
              "<div id=\"df-81dd8ac9-c97f-4cf1-87f5-6dedf3f4e7bc\">\n",
              "  <button class=\"colab-df-quickchart\" onclick=\"quickchart('df-81dd8ac9-c97f-4cf1-87f5-6dedf3f4e7bc')\"\n",
              "            title=\"Suggest charts.\"\n",
              "            style=\"display:none;\">\n",
              "\n",
              "<svg xmlns=\"http://www.w3.org/2000/svg\" height=\"24px\"viewBox=\"0 0 24 24\"\n",
              "     width=\"24px\">\n",
              "    <g>\n",
              "        <path d=\"M19 3H5c-1.1 0-2 .9-2 2v14c0 1.1.9 2 2 2h14c1.1 0 2-.9 2-2V5c0-1.1-.9-2-2-2zM9 17H7v-7h2v7zm4 0h-2V7h2v10zm4 0h-2v-4h2v4z\"/>\n",
              "    </g>\n",
              "</svg>\n",
              "  </button>\n",
              "\n",
              "<style>\n",
              "  .colab-df-quickchart {\n",
              "      --bg-color: #E8F0FE;\n",
              "      --fill-color: #1967D2;\n",
              "      --hover-bg-color: #E2EBFA;\n",
              "      --hover-fill-color: #174EA6;\n",
              "      --disabled-fill-color: #AAA;\n",
              "      --disabled-bg-color: #DDD;\n",
              "  }\n",
              "\n",
              "  [theme=dark] .colab-df-quickchart {\n",
              "      --bg-color: #3B4455;\n",
              "      --fill-color: #D2E3FC;\n",
              "      --hover-bg-color: #434B5C;\n",
              "      --hover-fill-color: #FFFFFF;\n",
              "      --disabled-bg-color: #3B4455;\n",
              "      --disabled-fill-color: #666;\n",
              "  }\n",
              "\n",
              "  .colab-df-quickchart {\n",
              "    background-color: var(--bg-color);\n",
              "    border: none;\n",
              "    border-radius: 50%;\n",
              "    cursor: pointer;\n",
              "    display: none;\n",
              "    fill: var(--fill-color);\n",
              "    height: 32px;\n",
              "    padding: 0;\n",
              "    width: 32px;\n",
              "  }\n",
              "\n",
              "  .colab-df-quickchart:hover {\n",
              "    background-color: var(--hover-bg-color);\n",
              "    box-shadow: 0 1px 2px rgba(60, 64, 67, 0.3), 0 1px 3px 1px rgba(60, 64, 67, 0.15);\n",
              "    fill: var(--button-hover-fill-color);\n",
              "  }\n",
              "\n",
              "  .colab-df-quickchart-complete:disabled,\n",
              "  .colab-df-quickchart-complete:disabled:hover {\n",
              "    background-color: var(--disabled-bg-color);\n",
              "    fill: var(--disabled-fill-color);\n",
              "    box-shadow: none;\n",
              "  }\n",
              "\n",
              "  .colab-df-spinner {\n",
              "    border: 2px solid var(--fill-color);\n",
              "    border-color: transparent;\n",
              "    border-bottom-color: var(--fill-color);\n",
              "    animation:\n",
              "      spin 1s steps(1) infinite;\n",
              "  }\n",
              "\n",
              "  @keyframes spin {\n",
              "    0% {\n",
              "      border-color: transparent;\n",
              "      border-bottom-color: var(--fill-color);\n",
              "      border-left-color: var(--fill-color);\n",
              "    }\n",
              "    20% {\n",
              "      border-color: transparent;\n",
              "      border-left-color: var(--fill-color);\n",
              "      border-top-color: var(--fill-color);\n",
              "    }\n",
              "    30% {\n",
              "      border-color: transparent;\n",
              "      border-left-color: var(--fill-color);\n",
              "      border-top-color: var(--fill-color);\n",
              "      border-right-color: var(--fill-color);\n",
              "    }\n",
              "    40% {\n",
              "      border-color: transparent;\n",
              "      border-right-color: var(--fill-color);\n",
              "      border-top-color: var(--fill-color);\n",
              "    }\n",
              "    60% {\n",
              "      border-color: transparent;\n",
              "      border-right-color: var(--fill-color);\n",
              "    }\n",
              "    80% {\n",
              "      border-color: transparent;\n",
              "      border-right-color: var(--fill-color);\n",
              "      border-bottom-color: var(--fill-color);\n",
              "    }\n",
              "    90% {\n",
              "      border-color: transparent;\n",
              "      border-bottom-color: var(--fill-color);\n",
              "    }\n",
              "  }\n",
              "</style>\n",
              "\n",
              "  <script>\n",
              "    async function quickchart(key) {\n",
              "      const quickchartButtonEl =\n",
              "        document.querySelector('#' + key + ' button');\n",
              "      quickchartButtonEl.disabled = true;  // To prevent multiple clicks.\n",
              "      quickchartButtonEl.classList.add('colab-df-spinner');\n",
              "      try {\n",
              "        const charts = await google.colab.kernel.invokeFunction(\n",
              "            'suggestCharts', [key], {});\n",
              "      } catch (error) {\n",
              "        console.error('Error during call to suggestCharts:', error);\n",
              "      }\n",
              "      quickchartButtonEl.classList.remove('colab-df-spinner');\n",
              "      quickchartButtonEl.classList.add('colab-df-quickchart-complete');\n",
              "    }\n",
              "    (() => {\n",
              "      let quickchartButtonEl =\n",
              "        document.querySelector('#df-81dd8ac9-c97f-4cf1-87f5-6dedf3f4e7bc button');\n",
              "      quickchartButtonEl.style.display =\n",
              "        google.colab.kernel.accessAllowed ? 'block' : 'none';\n",
              "    })();\n",
              "  </script>\n",
              "</div>\n",
              "    </div>\n",
              "  </div>\n"
            ]
          },
          "metadata": {},
          "execution_count": 69
        }
      ]
    },
    {
      "cell_type": "code",
      "source": [
        "# Create X and y values (features and labels)\n",
        "X = insurance_one_hot.drop(\"charges\", axis=1)\n",
        "y = insurance_one_hot['charges']"
      ],
      "metadata": {
        "id": "FkfzYEBCzaw4"
      },
      "execution_count": 72,
      "outputs": []
    },
    {
      "cell_type": "code",
      "source": [
        "# View X\n",
        "X.head()"
      ],
      "metadata": {
        "colab": {
          "base_uri": "https://localhost:8080/",
          "height": 206
        },
        "id": "-nIKVtfBCG9j",
        "outputId": "374b2f04-135c-4800-fc71-f2278a706313"
      },
      "execution_count": 73,
      "outputs": [
        {
          "output_type": "execute_result",
          "data": {
            "text/plain": [
              "   age     bmi  children  sex_female  sex_male  smoker_no  smoker_yes  \\\n",
              "0   19  27.900         0           1         0          0           1   \n",
              "1   18  33.770         1           0         1          1           0   \n",
              "2   28  33.000         3           0         1          1           0   \n",
              "3   33  22.705         0           0         1          1           0   \n",
              "4   32  28.880         0           0         1          1           0   \n",
              "\n",
              "   region_northeast  region_northwest  region_southeast  region_southwest  \n",
              "0                 0                 0                 0                 1  \n",
              "1                 0                 0                 1                 0  \n",
              "2                 0                 0                 1                 0  \n",
              "3                 0                 1                 0                 0  \n",
              "4                 0                 1                 0                 0  "
            ],
            "text/html": [
              "\n",
              "  <div id=\"df-b9e49c5b-08b0-4d39-b66b-010ed6b0dbe9\" class=\"colab-df-container\">\n",
              "    <div>\n",
              "<style scoped>\n",
              "    .dataframe tbody tr th:only-of-type {\n",
              "        vertical-align: middle;\n",
              "    }\n",
              "\n",
              "    .dataframe tbody tr th {\n",
              "        vertical-align: top;\n",
              "    }\n",
              "\n",
              "    .dataframe thead th {\n",
              "        text-align: right;\n",
              "    }\n",
              "</style>\n",
              "<table border=\"1\" class=\"dataframe\">\n",
              "  <thead>\n",
              "    <tr style=\"text-align: right;\">\n",
              "      <th></th>\n",
              "      <th>age</th>\n",
              "      <th>bmi</th>\n",
              "      <th>children</th>\n",
              "      <th>sex_female</th>\n",
              "      <th>sex_male</th>\n",
              "      <th>smoker_no</th>\n",
              "      <th>smoker_yes</th>\n",
              "      <th>region_northeast</th>\n",
              "      <th>region_northwest</th>\n",
              "      <th>region_southeast</th>\n",
              "      <th>region_southwest</th>\n",
              "    </tr>\n",
              "  </thead>\n",
              "  <tbody>\n",
              "    <tr>\n",
              "      <th>0</th>\n",
              "      <td>19</td>\n",
              "      <td>27.900</td>\n",
              "      <td>0</td>\n",
              "      <td>1</td>\n",
              "      <td>0</td>\n",
              "      <td>0</td>\n",
              "      <td>1</td>\n",
              "      <td>0</td>\n",
              "      <td>0</td>\n",
              "      <td>0</td>\n",
              "      <td>1</td>\n",
              "    </tr>\n",
              "    <tr>\n",
              "      <th>1</th>\n",
              "      <td>18</td>\n",
              "      <td>33.770</td>\n",
              "      <td>1</td>\n",
              "      <td>0</td>\n",
              "      <td>1</td>\n",
              "      <td>1</td>\n",
              "      <td>0</td>\n",
              "      <td>0</td>\n",
              "      <td>0</td>\n",
              "      <td>1</td>\n",
              "      <td>0</td>\n",
              "    </tr>\n",
              "    <tr>\n",
              "      <th>2</th>\n",
              "      <td>28</td>\n",
              "      <td>33.000</td>\n",
              "      <td>3</td>\n",
              "      <td>0</td>\n",
              "      <td>1</td>\n",
              "      <td>1</td>\n",
              "      <td>0</td>\n",
              "      <td>0</td>\n",
              "      <td>0</td>\n",
              "      <td>1</td>\n",
              "      <td>0</td>\n",
              "    </tr>\n",
              "    <tr>\n",
              "      <th>3</th>\n",
              "      <td>33</td>\n",
              "      <td>22.705</td>\n",
              "      <td>0</td>\n",
              "      <td>0</td>\n",
              "      <td>1</td>\n",
              "      <td>1</td>\n",
              "      <td>0</td>\n",
              "      <td>0</td>\n",
              "      <td>1</td>\n",
              "      <td>0</td>\n",
              "      <td>0</td>\n",
              "    </tr>\n",
              "    <tr>\n",
              "      <th>4</th>\n",
              "      <td>32</td>\n",
              "      <td>28.880</td>\n",
              "      <td>0</td>\n",
              "      <td>0</td>\n",
              "      <td>1</td>\n",
              "      <td>1</td>\n",
              "      <td>0</td>\n",
              "      <td>0</td>\n",
              "      <td>1</td>\n",
              "      <td>0</td>\n",
              "      <td>0</td>\n",
              "    </tr>\n",
              "  </tbody>\n",
              "</table>\n",
              "</div>\n",
              "    <div class=\"colab-df-buttons\">\n",
              "\n",
              "  <div class=\"colab-df-container\">\n",
              "    <button class=\"colab-df-convert\" onclick=\"convertToInteractive('df-b9e49c5b-08b0-4d39-b66b-010ed6b0dbe9')\"\n",
              "            title=\"Convert this dataframe to an interactive table.\"\n",
              "            style=\"display:none;\">\n",
              "\n",
              "  <svg xmlns=\"http://www.w3.org/2000/svg\" height=\"24px\" viewBox=\"0 -960 960 960\">\n",
              "    <path d=\"M120-120v-720h720v720H120Zm60-500h600v-160H180v160Zm220 220h160v-160H400v160Zm0 220h160v-160H400v160ZM180-400h160v-160H180v160Zm440 0h160v-160H620v160ZM180-180h160v-160H180v160Zm440 0h160v-160H620v160Z\"/>\n",
              "  </svg>\n",
              "    </button>\n",
              "\n",
              "  <style>\n",
              "    .colab-df-container {\n",
              "      display:flex;\n",
              "      gap: 12px;\n",
              "    }\n",
              "\n",
              "    .colab-df-convert {\n",
              "      background-color: #E8F0FE;\n",
              "      border: none;\n",
              "      border-radius: 50%;\n",
              "      cursor: pointer;\n",
              "      display: none;\n",
              "      fill: #1967D2;\n",
              "      height: 32px;\n",
              "      padding: 0 0 0 0;\n",
              "      width: 32px;\n",
              "    }\n",
              "\n",
              "    .colab-df-convert:hover {\n",
              "      background-color: #E2EBFA;\n",
              "      box-shadow: 0px 1px 2px rgba(60, 64, 67, 0.3), 0px 1px 3px 1px rgba(60, 64, 67, 0.15);\n",
              "      fill: #174EA6;\n",
              "    }\n",
              "\n",
              "    .colab-df-buttons div {\n",
              "      margin-bottom: 4px;\n",
              "    }\n",
              "\n",
              "    [theme=dark] .colab-df-convert {\n",
              "      background-color: #3B4455;\n",
              "      fill: #D2E3FC;\n",
              "    }\n",
              "\n",
              "    [theme=dark] .colab-df-convert:hover {\n",
              "      background-color: #434B5C;\n",
              "      box-shadow: 0px 1px 3px 1px rgba(0, 0, 0, 0.15);\n",
              "      filter: drop-shadow(0px 1px 2px rgba(0, 0, 0, 0.3));\n",
              "      fill: #FFFFFF;\n",
              "    }\n",
              "  </style>\n",
              "\n",
              "    <script>\n",
              "      const buttonEl =\n",
              "        document.querySelector('#df-b9e49c5b-08b0-4d39-b66b-010ed6b0dbe9 button.colab-df-convert');\n",
              "      buttonEl.style.display =\n",
              "        google.colab.kernel.accessAllowed ? 'block' : 'none';\n",
              "\n",
              "      async function convertToInteractive(key) {\n",
              "        const element = document.querySelector('#df-b9e49c5b-08b0-4d39-b66b-010ed6b0dbe9');\n",
              "        const dataTable =\n",
              "          await google.colab.kernel.invokeFunction('convertToInteractive',\n",
              "                                                    [key], {});\n",
              "        if (!dataTable) return;\n",
              "\n",
              "        const docLinkHtml = 'Like what you see? Visit the ' +\n",
              "          '<a target=\"_blank\" href=https://colab.research.google.com/notebooks/data_table.ipynb>data table notebook</a>'\n",
              "          + ' to learn more about interactive tables.';\n",
              "        element.innerHTML = '';\n",
              "        dataTable['output_type'] = 'display_data';\n",
              "        await google.colab.output.renderOutput(dataTable, element);\n",
              "        const docLink = document.createElement('div');\n",
              "        docLink.innerHTML = docLinkHtml;\n",
              "        element.appendChild(docLink);\n",
              "      }\n",
              "    </script>\n",
              "  </div>\n",
              "\n",
              "\n",
              "<div id=\"df-817a3e5a-64d4-4c43-9d7d-37e13f9627c6\">\n",
              "  <button class=\"colab-df-quickchart\" onclick=\"quickchart('df-817a3e5a-64d4-4c43-9d7d-37e13f9627c6')\"\n",
              "            title=\"Suggest charts.\"\n",
              "            style=\"display:none;\">\n",
              "\n",
              "<svg xmlns=\"http://www.w3.org/2000/svg\" height=\"24px\"viewBox=\"0 0 24 24\"\n",
              "     width=\"24px\">\n",
              "    <g>\n",
              "        <path d=\"M19 3H5c-1.1 0-2 .9-2 2v14c0 1.1.9 2 2 2h14c1.1 0 2-.9 2-2V5c0-1.1-.9-2-2-2zM9 17H7v-7h2v7zm4 0h-2V7h2v10zm4 0h-2v-4h2v4z\"/>\n",
              "    </g>\n",
              "</svg>\n",
              "  </button>\n",
              "\n",
              "<style>\n",
              "  .colab-df-quickchart {\n",
              "      --bg-color: #E8F0FE;\n",
              "      --fill-color: #1967D2;\n",
              "      --hover-bg-color: #E2EBFA;\n",
              "      --hover-fill-color: #174EA6;\n",
              "      --disabled-fill-color: #AAA;\n",
              "      --disabled-bg-color: #DDD;\n",
              "  }\n",
              "\n",
              "  [theme=dark] .colab-df-quickchart {\n",
              "      --bg-color: #3B4455;\n",
              "      --fill-color: #D2E3FC;\n",
              "      --hover-bg-color: #434B5C;\n",
              "      --hover-fill-color: #FFFFFF;\n",
              "      --disabled-bg-color: #3B4455;\n",
              "      --disabled-fill-color: #666;\n",
              "  }\n",
              "\n",
              "  .colab-df-quickchart {\n",
              "    background-color: var(--bg-color);\n",
              "    border: none;\n",
              "    border-radius: 50%;\n",
              "    cursor: pointer;\n",
              "    display: none;\n",
              "    fill: var(--fill-color);\n",
              "    height: 32px;\n",
              "    padding: 0;\n",
              "    width: 32px;\n",
              "  }\n",
              "\n",
              "  .colab-df-quickchart:hover {\n",
              "    background-color: var(--hover-bg-color);\n",
              "    box-shadow: 0 1px 2px rgba(60, 64, 67, 0.3), 0 1px 3px 1px rgba(60, 64, 67, 0.15);\n",
              "    fill: var(--button-hover-fill-color);\n",
              "  }\n",
              "\n",
              "  .colab-df-quickchart-complete:disabled,\n",
              "  .colab-df-quickchart-complete:disabled:hover {\n",
              "    background-color: var(--disabled-bg-color);\n",
              "    fill: var(--disabled-fill-color);\n",
              "    box-shadow: none;\n",
              "  }\n",
              "\n",
              "  .colab-df-spinner {\n",
              "    border: 2px solid var(--fill-color);\n",
              "    border-color: transparent;\n",
              "    border-bottom-color: var(--fill-color);\n",
              "    animation:\n",
              "      spin 1s steps(1) infinite;\n",
              "  }\n",
              "\n",
              "  @keyframes spin {\n",
              "    0% {\n",
              "      border-color: transparent;\n",
              "      border-bottom-color: var(--fill-color);\n",
              "      border-left-color: var(--fill-color);\n",
              "    }\n",
              "    20% {\n",
              "      border-color: transparent;\n",
              "      border-left-color: var(--fill-color);\n",
              "      border-top-color: var(--fill-color);\n",
              "    }\n",
              "    30% {\n",
              "      border-color: transparent;\n",
              "      border-left-color: var(--fill-color);\n",
              "      border-top-color: var(--fill-color);\n",
              "      border-right-color: var(--fill-color);\n",
              "    }\n",
              "    40% {\n",
              "      border-color: transparent;\n",
              "      border-right-color: var(--fill-color);\n",
              "      border-top-color: var(--fill-color);\n",
              "    }\n",
              "    60% {\n",
              "      border-color: transparent;\n",
              "      border-right-color: var(--fill-color);\n",
              "    }\n",
              "    80% {\n",
              "      border-color: transparent;\n",
              "      border-right-color: var(--fill-color);\n",
              "      border-bottom-color: var(--fill-color);\n",
              "    }\n",
              "    90% {\n",
              "      border-color: transparent;\n",
              "      border-bottom-color: var(--fill-color);\n",
              "    }\n",
              "  }\n",
              "</style>\n",
              "\n",
              "  <script>\n",
              "    async function quickchart(key) {\n",
              "      const quickchartButtonEl =\n",
              "        document.querySelector('#' + key + ' button');\n",
              "      quickchartButtonEl.disabled = true;  // To prevent multiple clicks.\n",
              "      quickchartButtonEl.classList.add('colab-df-spinner');\n",
              "      try {\n",
              "        const charts = await google.colab.kernel.invokeFunction(\n",
              "            'suggestCharts', [key], {});\n",
              "      } catch (error) {\n",
              "        console.error('Error during call to suggestCharts:', error);\n",
              "      }\n",
              "      quickchartButtonEl.classList.remove('colab-df-spinner');\n",
              "      quickchartButtonEl.classList.add('colab-df-quickchart-complete');\n",
              "    }\n",
              "    (() => {\n",
              "      let quickchartButtonEl =\n",
              "        document.querySelector('#df-817a3e5a-64d4-4c43-9d7d-37e13f9627c6 button');\n",
              "      quickchartButtonEl.style.display =\n",
              "        google.colab.kernel.accessAllowed ? 'block' : 'none';\n",
              "    })();\n",
              "  </script>\n",
              "</div>\n",
              "    </div>\n",
              "  </div>\n"
            ]
          },
          "metadata": {},
          "execution_count": 73
        }
      ]
    },
    {
      "cell_type": "code",
      "source": [
        "# View y\n",
        "y.head()"
      ],
      "metadata": {
        "colab": {
          "base_uri": "https://localhost:8080/"
        },
        "id": "OICZrd8aCNOi",
        "outputId": "bb95a057-94f9-4e2e-f674-b457d51e118c"
      },
      "execution_count": 74,
      "outputs": [
        {
          "output_type": "execute_result",
          "data": {
            "text/plain": [
              "0    16884.92400\n",
              "1     1725.55230\n",
              "2     4449.46200\n",
              "3    21984.47061\n",
              "4     3866.85520\n",
              "Name: charges, dtype: float64"
            ]
          },
          "metadata": {},
          "execution_count": 74
        }
      ]
    },
    {
      "cell_type": "code",
      "source": [
        "\n",
        "# Create training and test sets\n",
        "from sklearn.model_selection import train_test_split\n",
        "X_train, X_test, y_train, y_test = train_test_split(X, y, test_size = 0.2, random_state = 42)\n",
        "len(X), len(X_train), len(X_test)"
      ],
      "metadata": {
        "colab": {
          "base_uri": "https://localhost:8080/"
        },
        "id": "wXuD9sPFBwly",
        "outputId": "5e9385ff-3450-49ac-a42c-5685463f3755"
      },
      "execution_count": 75,
      "outputs": [
        {
          "output_type": "execute_result",
          "data": {
            "text/plain": [
              "(1338, 1070, 268)"
            ]
          },
          "metadata": {},
          "execution_count": 75
        }
      ]
    },
    {
      "cell_type": "code",
      "source": [
        "# Build a neural network (sort of like model_2 above)\n",
        "tf.random.set_seed = 42\n",
        "\n",
        "# 1. Create a model\n",
        "insurance_model = tf.keras.Sequential([\n",
        "    tf.keras.layers.Dense(10),\n",
        "    tf.keras.layers.Dense(1)\n",
        "])\n",
        "\n",
        "# 2. Compile the model\n",
        "insurance_model.compile(loss = tf.keras.losses.mae,\n",
        "                        optimizer = tf.keras.optimizers.SGD(),\n",
        "                        metrics = [\"mae\"])\n",
        "\n",
        "# 3. fit the model\n",
        "insurance_model.fit(X_train, y_train, epochs = 100)"
      ],
      "metadata": {
        "colab": {
          "base_uri": "https://localhost:8080/"
        },
        "id": "o7_uUA_xBy2K",
        "outputId": "d43d7542-427f-41bc-8381-55c8a2bbfa23"
      },
      "execution_count": 77,
      "outputs": [
        {
          "output_type": "stream",
          "name": "stdout",
          "text": [
            "Epoch 1/100\n",
            "34/34 [==============================] - 1s 4ms/step - loss: 8741.9521 - mae: 8741.9521\n",
            "Epoch 2/100\n",
            "34/34 [==============================] - 0s 2ms/step - loss: 7875.5635 - mae: 7875.5635\n",
            "Epoch 3/100\n",
            "34/34 [==============================] - 0s 2ms/step - loss: 7610.0532 - mae: 7610.0532\n",
            "Epoch 4/100\n",
            "34/34 [==============================] - 0s 2ms/step - loss: 7692.4253 - mae: 7692.4253\n",
            "Epoch 5/100\n",
            "34/34 [==============================] - 0s 3ms/step - loss: 7646.7554 - mae: 7646.7554\n",
            "Epoch 6/100\n",
            "34/34 [==============================] - 0s 2ms/step - loss: 7650.1611 - mae: 7650.1611\n",
            "Epoch 7/100\n",
            "34/34 [==============================] - 0s 2ms/step - loss: 7545.0166 - mae: 7545.0166\n",
            "Epoch 8/100\n",
            "34/34 [==============================] - 0s 3ms/step - loss: 7735.7529 - mae: 7735.7529\n",
            "Epoch 9/100\n",
            "34/34 [==============================] - 0s 3ms/step - loss: 7546.6221 - mae: 7546.6221\n",
            "Epoch 10/100\n",
            "34/34 [==============================] - 0s 3ms/step - loss: 7706.3506 - mae: 7706.3506\n",
            "Epoch 11/100\n",
            "34/34 [==============================] - 0s 2ms/step - loss: 7562.5054 - mae: 7562.5054\n",
            "Epoch 12/100\n",
            "34/34 [==============================] - 0s 3ms/step - loss: 7525.1538 - mae: 7525.1538\n",
            "Epoch 13/100\n",
            "34/34 [==============================] - 0s 3ms/step - loss: 7802.3936 - mae: 7802.3936\n",
            "Epoch 14/100\n",
            "34/34 [==============================] - 0s 2ms/step - loss: 7749.3091 - mae: 7749.3091\n",
            "Epoch 15/100\n",
            "34/34 [==============================] - 0s 2ms/step - loss: 7499.7920 - mae: 7499.7920\n",
            "Epoch 16/100\n",
            "34/34 [==============================] - 0s 2ms/step - loss: 7767.0801 - mae: 7767.0801\n",
            "Epoch 17/100\n",
            "34/34 [==============================] - 0s 2ms/step - loss: 7489.6030 - mae: 7489.6030\n",
            "Epoch 18/100\n",
            "34/34 [==============================] - 0s 3ms/step - loss: 7813.9839 - mae: 7813.9839\n",
            "Epoch 19/100\n",
            "34/34 [==============================] - 0s 3ms/step - loss: 7611.4292 - mae: 7611.4292\n",
            "Epoch 20/100\n",
            "34/34 [==============================] - 0s 3ms/step - loss: 7927.2241 - mae: 7927.2241\n",
            "Epoch 21/100\n",
            "34/34 [==============================] - 0s 3ms/step - loss: 7456.9116 - mae: 7456.9116\n",
            "Epoch 22/100\n",
            "34/34 [==============================] - 0s 2ms/step - loss: 7575.0996 - mae: 7575.0996\n",
            "Epoch 23/100\n",
            "34/34 [==============================] - 0s 3ms/step - loss: 7625.2314 - mae: 7625.2314\n",
            "Epoch 24/100\n",
            "34/34 [==============================] - 0s 3ms/step - loss: 7520.5234 - mae: 7520.5234\n",
            "Epoch 25/100\n",
            "34/34 [==============================] - 0s 3ms/step - loss: 7555.1846 - mae: 7555.1846\n",
            "Epoch 26/100\n",
            "34/34 [==============================] - 0s 2ms/step - loss: 7673.6685 - mae: 7673.6685\n",
            "Epoch 27/100\n",
            "34/34 [==============================] - 0s 2ms/step - loss: 7558.5967 - mae: 7558.5967\n",
            "Epoch 28/100\n",
            "34/34 [==============================] - 0s 2ms/step - loss: 7238.3159 - mae: 7238.3159\n",
            "Epoch 29/100\n",
            "34/34 [==============================] - 0s 2ms/step - loss: 7625.4146 - mae: 7625.4146\n",
            "Epoch 30/100\n",
            "34/34 [==============================] - 0s 2ms/step - loss: 7534.7451 - mae: 7534.7451\n",
            "Epoch 31/100\n",
            "34/34 [==============================] - 0s 2ms/step - loss: 7694.3164 - mae: 7694.3164\n",
            "Epoch 32/100\n",
            "34/34 [==============================] - 0s 2ms/step - loss: 7167.5264 - mae: 7167.5264\n",
            "Epoch 33/100\n",
            "34/34 [==============================] - 0s 2ms/step - loss: 7386.1172 - mae: 7386.1172\n",
            "Epoch 34/100\n",
            "34/34 [==============================] - 0s 2ms/step - loss: 7473.6699 - mae: 7473.6699\n",
            "Epoch 35/100\n",
            "34/34 [==============================] - 0s 2ms/step - loss: 7629.4380 - mae: 7629.4380\n",
            "Epoch 36/100\n",
            "34/34 [==============================] - 0s 2ms/step - loss: 7351.9746 - mae: 7351.9746\n",
            "Epoch 37/100\n",
            "34/34 [==============================] - 0s 2ms/step - loss: 7484.6299 - mae: 7484.6299\n",
            "Epoch 38/100\n",
            "34/34 [==============================] - 0s 2ms/step - loss: 7557.1479 - mae: 7557.1479\n",
            "Epoch 39/100\n",
            "34/34 [==============================] - 0s 2ms/step - loss: 7542.1841 - mae: 7542.1841\n",
            "Epoch 40/100\n",
            "34/34 [==============================] - 0s 2ms/step - loss: 7376.1304 - mae: 7376.1304\n",
            "Epoch 41/100\n",
            "34/34 [==============================] - 0s 2ms/step - loss: 7688.9121 - mae: 7688.9121\n",
            "Epoch 42/100\n",
            "34/34 [==============================] - 0s 2ms/step - loss: 7289.2891 - mae: 7289.2891\n",
            "Epoch 43/100\n",
            "34/34 [==============================] - 0s 2ms/step - loss: 7644.6440 - mae: 7644.6440\n",
            "Epoch 44/100\n",
            "34/34 [==============================] - 0s 2ms/step - loss: 7405.9194 - mae: 7405.9194\n",
            "Epoch 45/100\n",
            "34/34 [==============================] - 0s 2ms/step - loss: 7548.5122 - mae: 7548.5122\n",
            "Epoch 46/100\n",
            "34/34 [==============================] - 0s 2ms/step - loss: 7317.0923 - mae: 7317.0923\n",
            "Epoch 47/100\n",
            "34/34 [==============================] - 0s 2ms/step - loss: 7508.6587 - mae: 7508.6587\n",
            "Epoch 48/100\n",
            "34/34 [==============================] - 0s 2ms/step - loss: 7538.1943 - mae: 7538.1943\n",
            "Epoch 49/100\n",
            "34/34 [==============================] - 0s 2ms/step - loss: 7542.6978 - mae: 7542.6978\n",
            "Epoch 50/100\n",
            "34/34 [==============================] - 0s 14ms/step - loss: 7473.5327 - mae: 7473.5327\n",
            "Epoch 51/100\n",
            "34/34 [==============================] - 0s 2ms/step - loss: 7298.9741 - mae: 7298.9741\n",
            "Epoch 52/100\n",
            "34/34 [==============================] - 0s 2ms/step - loss: 7556.0747 - mae: 7556.0747\n",
            "Epoch 53/100\n",
            "34/34 [==============================] - 0s 2ms/step - loss: 7569.7393 - mae: 7569.7393\n",
            "Epoch 54/100\n",
            "34/34 [==============================] - 0s 2ms/step - loss: 7310.5322 - mae: 7310.5322\n",
            "Epoch 55/100\n",
            "34/34 [==============================] - 0s 2ms/step - loss: 7309.5439 - mae: 7309.5439\n",
            "Epoch 56/100\n",
            "34/34 [==============================] - 0s 3ms/step - loss: 7291.1167 - mae: 7291.1167\n",
            "Epoch 57/100\n",
            "34/34 [==============================] - 0s 2ms/step - loss: 7545.5137 - mae: 7545.5137\n",
            "Epoch 58/100\n",
            "34/34 [==============================] - 0s 2ms/step - loss: 7442.7300 - mae: 7442.7300\n",
            "Epoch 59/100\n",
            "34/34 [==============================] - 0s 2ms/step - loss: 7655.3516 - mae: 7655.3516\n",
            "Epoch 60/100\n",
            "34/34 [==============================] - 0s 2ms/step - loss: 7456.0469 - mae: 7456.0469\n",
            "Epoch 61/100\n",
            "34/34 [==============================] - 0s 2ms/step - loss: 7546.9526 - mae: 7546.9526\n",
            "Epoch 62/100\n",
            "34/34 [==============================] - 0s 2ms/step - loss: 7395.0415 - mae: 7395.0415\n",
            "Epoch 63/100\n",
            "34/34 [==============================] - 0s 2ms/step - loss: 7440.2822 - mae: 7440.2822\n",
            "Epoch 64/100\n",
            "34/34 [==============================] - 0s 2ms/step - loss: 7312.1797 - mae: 7312.1797\n",
            "Epoch 65/100\n",
            "34/34 [==============================] - 0s 2ms/step - loss: 7483.2217 - mae: 7483.2217\n",
            "Epoch 66/100\n",
            "34/34 [==============================] - 0s 2ms/step - loss: 7268.2397 - mae: 7268.2397\n",
            "Epoch 67/100\n",
            "34/34 [==============================] - 0s 2ms/step - loss: 7300.5674 - mae: 7300.5674\n",
            "Epoch 68/100\n",
            "34/34 [==============================] - 0s 2ms/step - loss: 7530.3447 - mae: 7530.3447\n",
            "Epoch 69/100\n",
            "34/34 [==============================] - 0s 2ms/step - loss: 7550.1914 - mae: 7550.1914\n",
            "Epoch 70/100\n",
            "34/34 [==============================] - 0s 2ms/step - loss: 7671.9893 - mae: 7671.9893\n",
            "Epoch 71/100\n",
            "34/34 [==============================] - 0s 2ms/step - loss: 7422.4141 - mae: 7422.4141\n",
            "Epoch 72/100\n",
            "34/34 [==============================] - 0s 2ms/step - loss: 7421.8188 - mae: 7421.8188\n",
            "Epoch 73/100\n",
            "34/34 [==============================] - 0s 2ms/step - loss: 7333.4595 - mae: 7333.4595\n",
            "Epoch 74/100\n",
            "34/34 [==============================] - 0s 2ms/step - loss: 7430.0947 - mae: 7430.0947\n",
            "Epoch 75/100\n",
            "34/34 [==============================] - 0s 2ms/step - loss: 7265.1572 - mae: 7265.1572\n",
            "Epoch 76/100\n",
            "34/34 [==============================] - 0s 2ms/step - loss: 7191.7349 - mae: 7191.7349\n",
            "Epoch 77/100\n",
            "34/34 [==============================] - 0s 2ms/step - loss: 7427.4482 - mae: 7427.4482\n",
            "Epoch 78/100\n",
            "34/34 [==============================] - 0s 2ms/step - loss: 7202.0464 - mae: 7202.0464\n",
            "Epoch 79/100\n",
            "34/34 [==============================] - 0s 2ms/step - loss: 7504.5161 - mae: 7504.5161\n",
            "Epoch 80/100\n",
            "34/34 [==============================] - 0s 2ms/step - loss: 7277.2231 - mae: 7277.2231\n",
            "Epoch 81/100\n",
            "34/34 [==============================] - 0s 2ms/step - loss: 7243.0234 - mae: 7243.0234\n",
            "Epoch 82/100\n",
            "34/34 [==============================] - 0s 2ms/step - loss: 7307.2397 - mae: 7307.2397\n",
            "Epoch 83/100\n",
            "34/34 [==============================] - 0s 2ms/step - loss: 7436.9595 - mae: 7436.9595\n",
            "Epoch 84/100\n",
            "34/34 [==============================] - 0s 2ms/step - loss: 7419.1699 - mae: 7419.1699\n",
            "Epoch 85/100\n",
            "34/34 [==============================] - 0s 2ms/step - loss: 7304.9385 - mae: 7304.9385\n",
            "Epoch 86/100\n",
            "34/34 [==============================] - 0s 2ms/step - loss: 7495.4668 - mae: 7495.4668\n",
            "Epoch 87/100\n",
            "34/34 [==============================] - 0s 2ms/step - loss: 7287.2012 - mae: 7287.2012\n",
            "Epoch 88/100\n",
            "34/34 [==============================] - 0s 2ms/step - loss: 7364.8232 - mae: 7364.8232\n",
            "Epoch 89/100\n",
            "34/34 [==============================] - 0s 2ms/step - loss: 7504.3857 - mae: 7504.3857\n",
            "Epoch 90/100\n",
            "34/34 [==============================] - 0s 2ms/step - loss: 7071.8740 - mae: 7071.8740\n",
            "Epoch 91/100\n",
            "34/34 [==============================] - 0s 2ms/step - loss: 7056.1465 - mae: 7056.1465\n",
            "Epoch 92/100\n",
            "34/34 [==============================] - 0s 2ms/step - loss: 7254.6431 - mae: 7254.6431\n",
            "Epoch 93/100\n",
            "34/34 [==============================] - 0s 2ms/step - loss: 7393.2300 - mae: 7393.2300\n",
            "Epoch 94/100\n",
            "34/34 [==============================] - 0s 2ms/step - loss: 7226.7598 - mae: 7226.7598\n",
            "Epoch 95/100\n",
            "34/34 [==============================] - 0s 2ms/step - loss: 7243.1406 - mae: 7243.1406\n",
            "Epoch 96/100\n",
            "34/34 [==============================] - 0s 2ms/step - loss: 7084.6504 - mae: 7084.6504\n",
            "Epoch 97/100\n",
            "34/34 [==============================] - 0s 2ms/step - loss: 7241.8906 - mae: 7241.8906\n",
            "Epoch 98/100\n",
            "34/34 [==============================] - 0s 2ms/step - loss: 7411.9263 - mae: 7411.9263\n",
            "Epoch 99/100\n",
            "34/34 [==============================] - 0s 2ms/step - loss: 7417.1123 - mae: 7417.1123\n",
            "Epoch 100/100\n",
            "34/34 [==============================] - 0s 2ms/step - loss: 7295.4600 - mae: 7295.4600\n"
          ]
        },
        {
          "output_type": "execute_result",
          "data": {
            "text/plain": [
              "<keras.src.callbacks.History at 0x7c2bc021a4a0>"
            ]
          },
          "metadata": {},
          "execution_count": 77
        }
      ]
    },
    {
      "cell_type": "code",
      "source": [
        "# check the results of the insurance_model on the test data\n",
        "insurance_model.evaluate(X_test, y_test)"
      ],
      "metadata": {
        "colab": {
          "base_uri": "https://localhost:8080/"
        },
        "id": "FVy7DzxOGf1K",
        "outputId": "a90a21c1-dfe8-4a9d-9713-02a55a44dd73"
      },
      "execution_count": 78,
      "outputs": [
        {
          "output_type": "stream",
          "name": "stdout",
          "text": [
            "9/9 [==============================] - 0s 2ms/step - loss: 7284.1050 - mae: 7284.1050\n"
          ]
        },
        {
          "output_type": "execute_result",
          "data": {
            "text/plain": [
              "[7284.10498046875, 7284.10498046875]"
            ]
          },
          "metadata": {},
          "execution_count": 78
        }
      ]
    },
    {
      "cell_type": "code",
      "source": [
        "y_train.median(), y_train.mean()"
      ],
      "metadata": {
        "colab": {
          "base_uri": "https://localhost:8080/"
        },
        "id": "Qo_SEXFMGyX_",
        "outputId": "56c653d5-aa71-42ab-d65d-7046b96a5a05"
      },
      "execution_count": 81,
      "outputs": [
        {
          "output_type": "execute_result",
          "data": {
            "text/plain": [
              "(9575.4421, 13346.089736364485)"
            ]
          },
          "metadata": {},
          "execution_count": 81
        }
      ]
    },
    {
      "cell_type": "markdown",
      "source": [
        "#### Right now it looks like our model isn't performing too well... let's try and improve it.\n",
        "\n",
        "To try to improve our model, we'll run 2 experiments\n",
        "1. Add an extra layers with more hidden units and use Adam optimizer\n",
        "2. Same as above but train for longer (200 epochs)\n",
        "3. Insert your experiments here"
      ],
      "metadata": {
        "id": "J7DY5UlkHEId"
      }
    },
    {
      "cell_type": "code",
      "source": [
        "# Set random seed\n",
        "tf.random.set_seed = 42\n",
        "\n",
        "# 1. Create the model\n",
        "insurance_model_2 = tf.keras.Sequential([\n",
        "    tf.keras.layers.Dense(100),\n",
        "    tf.keras.layers.Dense(10),\n",
        "    tf.keras.layers.Dense(1)\n",
        "])\n",
        "\n",
        "# 2. Compile the model\n",
        "insurance_model_2.compile(loss=tf.keras.losses.mae,\n",
        "                          optimizer=tf.keras.optimizers.Adam(),\n",
        "                          metrics=['mae'])\n",
        "\n",
        "#3. Fit the model\n",
        "insurance_model_2.fit(X_train, y_train, epochs=100, verbose=1)"
      ],
      "metadata": {
        "colab": {
          "base_uri": "https://localhost:8080/"
        },
        "id": "zv7d9-H4HSuQ",
        "outputId": "843ed0ed-eedc-4503-b519-bcde31c5aea5"
      },
      "execution_count": 88,
      "outputs": [
        {
          "output_type": "stream",
          "name": "stdout",
          "text": [
            "Epoch 1/100\n",
            "34/34 [==============================] - 3s 5ms/step - loss: 13287.3467 - mae: 13287.3467\n",
            "Epoch 2/100\n",
            "34/34 [==============================] - 0s 4ms/step - loss: 13116.6963 - mae: 13116.6963\n",
            "Epoch 3/100\n",
            "34/34 [==============================] - 0s 3ms/step - loss: 12758.3408 - mae: 12758.3408\n",
            "Epoch 4/100\n",
            "34/34 [==============================] - 0s 3ms/step - loss: 12057.3955 - mae: 12057.3955\n",
            "Epoch 5/100\n",
            "34/34 [==============================] - 0s 3ms/step - loss: 10894.9111 - mae: 10894.9111\n",
            "Epoch 6/100\n",
            "34/34 [==============================] - 0s 3ms/step - loss: 9428.3154 - mae: 9428.3154\n",
            "Epoch 7/100\n",
            "34/34 [==============================] - 0s 3ms/step - loss: 8111.7637 - mae: 8111.7637\n",
            "Epoch 8/100\n",
            "34/34 [==============================] - 0s 4ms/step - loss: 7505.0674 - mae: 7505.0674\n",
            "Epoch 9/100\n",
            "34/34 [==============================] - 0s 3ms/step - loss: 7412.9341 - mae: 7412.9341\n",
            "Epoch 10/100\n",
            "34/34 [==============================] - 0s 3ms/step - loss: 7393.5015 - mae: 7393.5015\n",
            "Epoch 11/100\n",
            "34/34 [==============================] - 0s 4ms/step - loss: 7374.5176 - mae: 7374.5176\n",
            "Epoch 12/100\n",
            "34/34 [==============================] - 0s 3ms/step - loss: 7352.4844 - mae: 7352.4844\n",
            "Epoch 13/100\n",
            "34/34 [==============================] - 0s 4ms/step - loss: 7331.9614 - mae: 7331.9614\n",
            "Epoch 14/100\n",
            "34/34 [==============================] - 0s 3ms/step - loss: 7309.3232 - mae: 7309.3232\n",
            "Epoch 15/100\n",
            "34/34 [==============================] - 0s 4ms/step - loss: 7290.2188 - mae: 7290.2188\n",
            "Epoch 16/100\n",
            "34/34 [==============================] - 0s 3ms/step - loss: 7267.8882 - mae: 7267.8882\n",
            "Epoch 17/100\n",
            "34/34 [==============================] - 0s 3ms/step - loss: 7246.7651 - mae: 7246.7651\n",
            "Epoch 18/100\n",
            "34/34 [==============================] - 0s 4ms/step - loss: 7223.5220 - mae: 7223.5220\n",
            "Epoch 19/100\n",
            "34/34 [==============================] - 0s 2ms/step - loss: 7200.7959 - mae: 7200.7959\n",
            "Epoch 20/100\n",
            "34/34 [==============================] - 0s 2ms/step - loss: 7176.6958 - mae: 7176.6958\n",
            "Epoch 21/100\n",
            "34/34 [==============================] - 0s 2ms/step - loss: 7157.4292 - mae: 7157.4292\n",
            "Epoch 22/100\n",
            "34/34 [==============================] - 0s 2ms/step - loss: 7128.8315 - mae: 7128.8315\n",
            "Epoch 23/100\n",
            "34/34 [==============================] - 0s 2ms/step - loss: 7103.2842 - mae: 7103.2842\n",
            "Epoch 24/100\n",
            "34/34 [==============================] - 0s 2ms/step - loss: 7077.2939 - mae: 7077.2939\n",
            "Epoch 25/100\n",
            "34/34 [==============================] - 0s 2ms/step - loss: 7057.1499 - mae: 7057.1499\n",
            "Epoch 26/100\n",
            "34/34 [==============================] - 0s 2ms/step - loss: 7026.1572 - mae: 7026.1572\n",
            "Epoch 27/100\n",
            "34/34 [==============================] - 0s 2ms/step - loss: 6997.0435 - mae: 6997.0435\n",
            "Epoch 28/100\n",
            "34/34 [==============================] - 0s 2ms/step - loss: 6968.2705 - mae: 6968.2705\n",
            "Epoch 29/100\n",
            "34/34 [==============================] - 0s 2ms/step - loss: 6939.3472 - mae: 6939.3472\n",
            "Epoch 30/100\n",
            "34/34 [==============================] - 0s 2ms/step - loss: 6911.6162 - mae: 6911.6162\n",
            "Epoch 31/100\n",
            "34/34 [==============================] - 0s 2ms/step - loss: 6880.4351 - mae: 6880.4351\n",
            "Epoch 32/100\n",
            "34/34 [==============================] - 0s 2ms/step - loss: 6851.1240 - mae: 6851.1240\n",
            "Epoch 33/100\n",
            "34/34 [==============================] - 0s 2ms/step - loss: 6818.9971 - mae: 6818.9971\n",
            "Epoch 34/100\n",
            "34/34 [==============================] - 0s 2ms/step - loss: 6787.9688 - mae: 6787.9688\n",
            "Epoch 35/100\n",
            "34/34 [==============================] - 0s 2ms/step - loss: 6752.6562 - mae: 6752.6562\n",
            "Epoch 36/100\n",
            "34/34 [==============================] - 0s 2ms/step - loss: 6718.9092 - mae: 6718.9092\n",
            "Epoch 37/100\n",
            "34/34 [==============================] - 0s 2ms/step - loss: 6682.3691 - mae: 6682.3691\n",
            "Epoch 38/100\n",
            "34/34 [==============================] - 0s 2ms/step - loss: 6653.7188 - mae: 6653.7188\n",
            "Epoch 39/100\n",
            "34/34 [==============================] - 0s 2ms/step - loss: 6615.4150 - mae: 6615.4150\n",
            "Epoch 40/100\n",
            "34/34 [==============================] - 0s 2ms/step - loss: 6583.5830 - mae: 6583.5830\n",
            "Epoch 41/100\n",
            "34/34 [==============================] - 0s 2ms/step - loss: 6556.9995 - mae: 6556.9995\n",
            "Epoch 42/100\n",
            "34/34 [==============================] - 0s 2ms/step - loss: 6534.4902 - mae: 6534.4902\n",
            "Epoch 43/100\n",
            "34/34 [==============================] - 0s 2ms/step - loss: 6512.2646 - mae: 6512.2646\n",
            "Epoch 44/100\n",
            "34/34 [==============================] - 0s 2ms/step - loss: 6491.8301 - mae: 6491.8301\n",
            "Epoch 45/100\n",
            "34/34 [==============================] - 0s 2ms/step - loss: 6483.6528 - mae: 6483.6528\n",
            "Epoch 46/100\n",
            "34/34 [==============================] - 0s 2ms/step - loss: 6466.3105 - mae: 6466.3105\n",
            "Epoch 47/100\n",
            "34/34 [==============================] - 0s 2ms/step - loss: 6450.5488 - mae: 6450.5488\n",
            "Epoch 48/100\n",
            "34/34 [==============================] - 0s 2ms/step - loss: 6436.9219 - mae: 6436.9219\n",
            "Epoch 49/100\n",
            "34/34 [==============================] - 0s 2ms/step - loss: 6425.3379 - mae: 6425.3379\n",
            "Epoch 50/100\n",
            "34/34 [==============================] - 0s 2ms/step - loss: 6411.3076 - mae: 6411.3076\n",
            "Epoch 51/100\n",
            "34/34 [==============================] - 0s 2ms/step - loss: 6398.4521 - mae: 6398.4521\n",
            "Epoch 52/100\n",
            "34/34 [==============================] - 0s 2ms/step - loss: 6386.1099 - mae: 6386.1099\n",
            "Epoch 53/100\n",
            "34/34 [==============================] - 0s 2ms/step - loss: 6372.2021 - mae: 6372.2021\n",
            "Epoch 54/100\n",
            "34/34 [==============================] - 0s 2ms/step - loss: 6358.6929 - mae: 6358.6929\n",
            "Epoch 55/100\n",
            "34/34 [==============================] - 0s 2ms/step - loss: 6345.1113 - mae: 6345.1113\n",
            "Epoch 56/100\n",
            "34/34 [==============================] - 0s 2ms/step - loss: 6331.2690 - mae: 6331.2690\n",
            "Epoch 57/100\n",
            "34/34 [==============================] - 0s 2ms/step - loss: 6318.0498 - mae: 6318.0498\n",
            "Epoch 58/100\n",
            "34/34 [==============================] - 0s 2ms/step - loss: 6304.2749 - mae: 6304.2749\n",
            "Epoch 59/100\n",
            "34/34 [==============================] - 0s 2ms/step - loss: 6288.9409 - mae: 6288.9409\n",
            "Epoch 60/100\n",
            "34/34 [==============================] - 0s 2ms/step - loss: 6278.7114 - mae: 6278.7114\n",
            "Epoch 61/100\n",
            "34/34 [==============================] - 0s 2ms/step - loss: 6258.8672 - mae: 6258.8672\n",
            "Epoch 62/100\n",
            "34/34 [==============================] - 0s 2ms/step - loss: 6246.6035 - mae: 6246.6035\n",
            "Epoch 63/100\n",
            "34/34 [==============================] - 0s 2ms/step - loss: 6227.4580 - mae: 6227.4580\n",
            "Epoch 64/100\n",
            "34/34 [==============================] - 0s 2ms/step - loss: 6210.3589 - mae: 6210.3589\n",
            "Epoch 65/100\n",
            "34/34 [==============================] - 0s 2ms/step - loss: 6193.2480 - mae: 6193.2480\n",
            "Epoch 66/100\n",
            "34/34 [==============================] - 0s 2ms/step - loss: 6175.8623 - mae: 6175.8623\n",
            "Epoch 67/100\n",
            "34/34 [==============================] - 0s 2ms/step - loss: 6163.0249 - mae: 6163.0249\n",
            "Epoch 68/100\n",
            "34/34 [==============================] - 0s 2ms/step - loss: 6140.3252 - mae: 6140.3252\n",
            "Epoch 69/100\n",
            "34/34 [==============================] - 0s 2ms/step - loss: 6123.4897 - mae: 6123.4897\n",
            "Epoch 70/100\n",
            "34/34 [==============================] - 0s 2ms/step - loss: 6103.0557 - mae: 6103.0557\n",
            "Epoch 71/100\n",
            "34/34 [==============================] - 0s 2ms/step - loss: 6082.9351 - mae: 6082.9351\n",
            "Epoch 72/100\n",
            "34/34 [==============================] - 0s 2ms/step - loss: 6062.8286 - mae: 6062.8286\n",
            "Epoch 73/100\n",
            "34/34 [==============================] - 0s 2ms/step - loss: 6048.6455 - mae: 6048.6455\n",
            "Epoch 74/100\n",
            "34/34 [==============================] - 0s 2ms/step - loss: 6019.5996 - mae: 6019.5996\n",
            "Epoch 75/100\n",
            "34/34 [==============================] - 0s 2ms/step - loss: 5997.6367 - mae: 5997.6367\n",
            "Epoch 76/100\n",
            "34/34 [==============================] - 0s 2ms/step - loss: 5983.4453 - mae: 5983.4453\n",
            "Epoch 77/100\n",
            "34/34 [==============================] - 0s 2ms/step - loss: 5950.1606 - mae: 5950.1606\n",
            "Epoch 78/100\n",
            "34/34 [==============================] - 0s 2ms/step - loss: 5925.7485 - mae: 5925.7485\n",
            "Epoch 79/100\n",
            "34/34 [==============================] - 0s 2ms/step - loss: 5900.5347 - mae: 5900.5347\n",
            "Epoch 80/100\n",
            "34/34 [==============================] - 0s 2ms/step - loss: 5872.0000 - mae: 5872.0000\n",
            "Epoch 81/100\n",
            "34/34 [==============================] - 0s 2ms/step - loss: 5845.8682 - mae: 5845.8682\n",
            "Epoch 82/100\n",
            "34/34 [==============================] - 0s 2ms/step - loss: 5815.7700 - mae: 5815.7700\n",
            "Epoch 83/100\n",
            "34/34 [==============================] - 0s 2ms/step - loss: 5787.3096 - mae: 5787.3096\n",
            "Epoch 84/100\n",
            "34/34 [==============================] - 0s 2ms/step - loss: 5752.9658 - mae: 5752.9658\n",
            "Epoch 85/100\n",
            "34/34 [==============================] - 0s 2ms/step - loss: 5725.8794 - mae: 5725.8794\n",
            "Epoch 86/100\n",
            "34/34 [==============================] - 0s 2ms/step - loss: 5691.2749 - mae: 5691.2749\n",
            "Epoch 87/100\n",
            "34/34 [==============================] - 0s 2ms/step - loss: 5652.3662 - mae: 5652.3662\n",
            "Epoch 88/100\n",
            "34/34 [==============================] - 0s 2ms/step - loss: 5616.5078 - mae: 5616.5078\n",
            "Epoch 89/100\n",
            "34/34 [==============================] - 0s 2ms/step - loss: 5575.9092 - mae: 5575.9092\n",
            "Epoch 90/100\n",
            "34/34 [==============================] - 0s 2ms/step - loss: 5533.4214 - mae: 5533.4214\n",
            "Epoch 91/100\n",
            "34/34 [==============================] - 0s 2ms/step - loss: 5495.8223 - mae: 5495.8223\n",
            "Epoch 92/100\n",
            "34/34 [==============================] - 0s 2ms/step - loss: 5445.3301 - mae: 5445.3301\n",
            "Epoch 93/100\n",
            "34/34 [==============================] - 0s 2ms/step - loss: 5402.0811 - mae: 5402.0811\n",
            "Epoch 94/100\n",
            "34/34 [==============================] - 0s 2ms/step - loss: 5356.4331 - mae: 5356.4331\n",
            "Epoch 95/100\n",
            "34/34 [==============================] - 0s 2ms/step - loss: 5300.9238 - mae: 5300.9238\n",
            "Epoch 96/100\n",
            "34/34 [==============================] - 0s 2ms/step - loss: 5255.1587 - mae: 5255.1587\n",
            "Epoch 97/100\n",
            "34/34 [==============================] - 0s 2ms/step - loss: 5197.4839 - mae: 5197.4839\n",
            "Epoch 98/100\n",
            "34/34 [==============================] - 0s 2ms/step - loss: 5133.7676 - mae: 5133.7676\n",
            "Epoch 99/100\n",
            "34/34 [==============================] - 0s 2ms/step - loss: 5074.0347 - mae: 5074.0347\n",
            "Epoch 100/100\n",
            "34/34 [==============================] - 0s 2ms/step - loss: 5018.9531 - mae: 5018.9531\n"
          ]
        },
        {
          "output_type": "execute_result",
          "data": {
            "text/plain": [
              "<keras.src.callbacks.History at 0x7c2ba89c9780>"
            ]
          },
          "metadata": {},
          "execution_count": 88
        }
      ]
    },
    {
      "cell_type": "code",
      "source": [
        "# Evalute the larger model\n",
        "insurance_model_2.evaluate(X_test, y_test, )"
      ],
      "metadata": {
        "colab": {
          "base_uri": "https://localhost:8080/"
        },
        "id": "cArv57SVVHfk",
        "outputId": "b56b76af-200e-4da1-bd55-68cc36ad3c94"
      },
      "execution_count": 89,
      "outputs": [
        {
          "output_type": "stream",
          "name": "stdout",
          "text": [
            "9/9 [==============================] - 0s 3ms/step - loss: 4884.7622 - mae: 4884.7622\n"
          ]
        },
        {
          "output_type": "execute_result",
          "data": {
            "text/plain": [
              "[4884.76220703125, 4884.76220703125]"
            ]
          },
          "metadata": {},
          "execution_count": 89
        }
      ]
    },
    {
      "cell_type": "code",
      "source": [
        "insurance_model.evaluate(X_test, y_test)"
      ],
      "metadata": {
        "colab": {
          "base_uri": "https://localhost:8080/"
        },
        "id": "TExmK1KyVzq0",
        "outputId": "05723d9d-6495-4197-df11-18774b7c2939"
      },
      "execution_count": 90,
      "outputs": [
        {
          "output_type": "stream",
          "name": "stdout",
          "text": [
            "9/9 [==============================] - 0s 3ms/step - loss: 7284.1050 - mae: 7284.1050\n"
          ]
        },
        {
          "output_type": "execute_result",
          "data": {
            "text/plain": [
              "[7284.10498046875, 7284.10498046875]"
            ]
          },
          "metadata": {},
          "execution_count": 90
        }
      ]
    },
    {
      "cell_type": "code",
      "source": [
        "# Set random seed\n",
        "tf.random.set_seed = 42\n",
        "\n",
        "# 1. Create the model same as above\n",
        "insurance_model_3 = tf.keras.Sequential([\n",
        "    tf.keras.layers.Dense(100),\n",
        "    tf.keras.layers.Dense(10),\n",
        "    tf.keras.layers.Dense(1)\n",
        "])\n",
        "\n",
        "# 2. Compile the model\n",
        "insurance_model_3.compile(loss=tf.keras.losses.mae,\n",
        "                          optimizer=tf.keras.optimizers.Adam(),\n",
        "                          metrics=['mae'])\n",
        "\n",
        "# 3. Fit the model\n",
        "history = insurance_model_3.fit(X_train, y_train, epochs=200)"
      ],
      "metadata": {
        "colab": {
          "base_uri": "https://localhost:8080/"
        },
        "id": "mnJxnEhkWT99",
        "outputId": "60d10b9b-5af3-42a4-e959-2648ed313bcf"
      },
      "execution_count": 92,
      "outputs": [
        {
          "output_type": "stream",
          "name": "stdout",
          "text": [
            "Epoch 1/200\n",
            "34/34 [==============================] - 1s 2ms/step - loss: 13298.5068 - mae: 13298.5068\n",
            "Epoch 2/200\n",
            "34/34 [==============================] - 0s 3ms/step - loss: 13154.4678 - mae: 13154.4678\n",
            "Epoch 3/200\n",
            "34/34 [==============================] - 0s 2ms/step - loss: 12843.3027 - mae: 12843.3027\n",
            "Epoch 4/200\n",
            "34/34 [==============================] - 0s 2ms/step - loss: 12215.5957 - mae: 12215.5957\n",
            "Epoch 5/200\n",
            "34/34 [==============================] - 0s 2ms/step - loss: 11134.9424 - mae: 11134.9424\n",
            "Epoch 6/200\n",
            "34/34 [==============================] - 0s 2ms/step - loss: 9689.4102 - mae: 9689.4102\n",
            "Epoch 7/200\n",
            "34/34 [==============================] - 0s 2ms/step - loss: 8299.8369 - mae: 8299.8369\n",
            "Epoch 8/200\n",
            "34/34 [==============================] - 0s 2ms/step - loss: 7567.7515 - mae: 7567.7515\n",
            "Epoch 9/200\n",
            "34/34 [==============================] - 0s 2ms/step - loss: 7430.0938 - mae: 7430.0938\n",
            "Epoch 10/200\n",
            "34/34 [==============================] - 0s 2ms/step - loss: 7408.8696 - mae: 7408.8696\n",
            "Epoch 11/200\n",
            "34/34 [==============================] - 0s 2ms/step - loss: 7390.7588 - mae: 7390.7588\n",
            "Epoch 12/200\n",
            "34/34 [==============================] - 0s 2ms/step - loss: 7369.5488 - mae: 7369.5488\n",
            "Epoch 13/200\n",
            "34/34 [==============================] - 0s 2ms/step - loss: 7349.8325 - mae: 7349.8325\n",
            "Epoch 14/200\n",
            "34/34 [==============================] - 0s 2ms/step - loss: 7328.3643 - mae: 7328.3643\n",
            "Epoch 15/200\n",
            "34/34 [==============================] - 0s 2ms/step - loss: 7310.1528 - mae: 7310.1528\n",
            "Epoch 16/200\n",
            "34/34 [==============================] - 0s 2ms/step - loss: 7288.9512 - mae: 7288.9512\n",
            "Epoch 17/200\n",
            "34/34 [==============================] - 0s 2ms/step - loss: 7269.7749 - mae: 7269.7749\n",
            "Epoch 18/200\n",
            "34/34 [==============================] - 0s 2ms/step - loss: 7247.2529 - mae: 7247.2529\n",
            "Epoch 19/200\n",
            "34/34 [==============================] - 0s 2ms/step - loss: 7225.8740 - mae: 7225.8740\n",
            "Epoch 20/200\n",
            "34/34 [==============================] - 0s 2ms/step - loss: 7203.5776 - mae: 7203.5776\n",
            "Epoch 21/200\n",
            "34/34 [==============================] - 0s 2ms/step - loss: 7185.9312 - mae: 7185.9312\n",
            "Epoch 22/200\n",
            "34/34 [==============================] - 0s 2ms/step - loss: 7159.2373 - mae: 7159.2373\n",
            "Epoch 23/200\n",
            "34/34 [==============================] - 0s 2ms/step - loss: 7135.6094 - mae: 7135.6094\n",
            "Epoch 24/200\n",
            "34/34 [==============================] - 0s 2ms/step - loss: 7111.9805 - mae: 7111.9805\n",
            "Epoch 25/200\n",
            "34/34 [==============================] - 0s 2ms/step - loss: 7094.5596 - mae: 7094.5596\n",
            "Epoch 26/200\n",
            "34/34 [==============================] - 0s 2ms/step - loss: 7064.6313 - mae: 7064.6313\n",
            "Epoch 27/200\n",
            "34/34 [==============================] - 0s 2ms/step - loss: 7037.3716 - mae: 7037.3716\n",
            "Epoch 28/200\n",
            "34/34 [==============================] - 0s 2ms/step - loss: 7010.6992 - mae: 7010.6992\n",
            "Epoch 29/200\n",
            "34/34 [==============================] - 0s 2ms/step - loss: 6984.1440 - mae: 6984.1440\n",
            "Epoch 30/200\n",
            "34/34 [==============================] - 0s 2ms/step - loss: 6958.3853 - mae: 6958.3853\n",
            "Epoch 31/200\n",
            "34/34 [==============================] - 0s 2ms/step - loss: 6928.6226 - mae: 6928.6226\n",
            "Epoch 32/200\n",
            "34/34 [==============================] - 0s 2ms/step - loss: 6903.1484 - mae: 6903.1484\n",
            "Epoch 33/200\n",
            "34/34 [==============================] - 0s 2ms/step - loss: 6873.0654 - mae: 6873.0654\n",
            "Epoch 34/200\n",
            "34/34 [==============================] - 0s 2ms/step - loss: 6842.6021 - mae: 6842.6021\n",
            "Epoch 35/200\n",
            "34/34 [==============================] - 0s 2ms/step - loss: 6811.3525 - mae: 6811.3525\n",
            "Epoch 36/200\n",
            "34/34 [==============================] - 0s 2ms/step - loss: 6778.8135 - mae: 6778.8135\n",
            "Epoch 37/200\n",
            "34/34 [==============================] - 0s 2ms/step - loss: 6744.9990 - mae: 6744.9990\n",
            "Epoch 38/200\n",
            "34/34 [==============================] - 0s 3ms/step - loss: 6714.6221 - mae: 6714.6221\n",
            "Epoch 39/200\n",
            "34/34 [==============================] - 0s 2ms/step - loss: 6676.7285 - mae: 6676.7285\n",
            "Epoch 40/200\n",
            "34/34 [==============================] - 0s 2ms/step - loss: 6642.8335 - mae: 6642.8335\n",
            "Epoch 41/200\n",
            "34/34 [==============================] - 0s 2ms/step - loss: 6610.8726 - mae: 6610.8726\n",
            "Epoch 42/200\n",
            "34/34 [==============================] - 0s 2ms/step - loss: 6579.8179 - mae: 6579.8179\n",
            "Epoch 43/200\n",
            "34/34 [==============================] - 0s 2ms/step - loss: 6550.3340 - mae: 6550.3340\n",
            "Epoch 44/200\n",
            "34/34 [==============================] - 0s 2ms/step - loss: 6524.2817 - mae: 6524.2817\n",
            "Epoch 45/200\n",
            "34/34 [==============================] - 0s 2ms/step - loss: 6506.7681 - mae: 6506.7681\n",
            "Epoch 46/200\n",
            "34/34 [==============================] - 0s 2ms/step - loss: 6486.2891 - mae: 6486.2891\n",
            "Epoch 47/200\n",
            "34/34 [==============================] - 0s 2ms/step - loss: 6470.6055 - mae: 6470.6055\n",
            "Epoch 48/200\n",
            "34/34 [==============================] - 0s 2ms/step - loss: 6454.8369 - mae: 6454.8369\n",
            "Epoch 49/200\n",
            "34/34 [==============================] - 0s 2ms/step - loss: 6441.3096 - mae: 6441.3096\n",
            "Epoch 50/200\n",
            "34/34 [==============================] - 0s 2ms/step - loss: 6427.7607 - mae: 6427.7607\n",
            "Epoch 51/200\n",
            "34/34 [==============================] - 0s 3ms/step - loss: 6414.0254 - mae: 6414.0254\n",
            "Epoch 52/200\n",
            "34/34 [==============================] - 0s 2ms/step - loss: 6403.0737 - mae: 6403.0737\n",
            "Epoch 53/200\n",
            "34/34 [==============================] - 0s 2ms/step - loss: 6389.1709 - mae: 6389.1709\n",
            "Epoch 54/200\n",
            "34/34 [==============================] - 0s 2ms/step - loss: 6375.8164 - mae: 6375.8164\n",
            "Epoch 55/200\n",
            "34/34 [==============================] - 0s 2ms/step - loss: 6362.5312 - mae: 6362.5312\n",
            "Epoch 56/200\n",
            "34/34 [==============================] - 0s 2ms/step - loss: 6348.8970 - mae: 6348.8970\n",
            "Epoch 57/200\n",
            "34/34 [==============================] - 0s 2ms/step - loss: 6336.6606 - mae: 6336.6606\n",
            "Epoch 58/200\n",
            "34/34 [==============================] - 0s 2ms/step - loss: 6322.2373 - mae: 6322.2373\n",
            "Epoch 59/200\n",
            "34/34 [==============================] - 0s 3ms/step - loss: 6308.4336 - mae: 6308.4336\n",
            "Epoch 60/200\n",
            "34/34 [==============================] - 0s 3ms/step - loss: 6297.8706 - mae: 6297.8706\n",
            "Epoch 61/200\n",
            "34/34 [==============================] - 0s 3ms/step - loss: 6279.4502 - mae: 6279.4502\n",
            "Epoch 62/200\n",
            "34/34 [==============================] - 0s 3ms/step - loss: 6267.4287 - mae: 6267.4287\n",
            "Epoch 63/200\n",
            "34/34 [==============================] - 0s 3ms/step - loss: 6249.4434 - mae: 6249.4434\n",
            "Epoch 64/200\n",
            "34/34 [==============================] - 0s 2ms/step - loss: 6234.2344 - mae: 6234.2344\n",
            "Epoch 65/200\n",
            "34/34 [==============================] - 0s 3ms/step - loss: 6217.3970 - mae: 6217.3970\n",
            "Epoch 66/200\n",
            "34/34 [==============================] - 0s 3ms/step - loss: 6201.2173 - mae: 6201.2173\n",
            "Epoch 67/200\n",
            "34/34 [==============================] - 0s 3ms/step - loss: 6189.3096 - mae: 6189.3096\n",
            "Epoch 68/200\n",
            "34/34 [==============================] - 0s 3ms/step - loss: 6168.7612 - mae: 6168.7612\n",
            "Epoch 69/200\n",
            "34/34 [==============================] - 0s 3ms/step - loss: 6151.9839 - mae: 6151.9839\n",
            "Epoch 70/200\n",
            "34/34 [==============================] - 0s 3ms/step - loss: 6132.4941 - mae: 6132.4941\n",
            "Epoch 71/200\n",
            "34/34 [==============================] - 0s 3ms/step - loss: 6113.9863 - mae: 6113.9863\n",
            "Epoch 72/200\n",
            "34/34 [==============================] - 0s 3ms/step - loss: 6096.5317 - mae: 6096.5317\n",
            "Epoch 73/200\n",
            "34/34 [==============================] - 0s 3ms/step - loss: 6081.0562 - mae: 6081.0562\n",
            "Epoch 74/200\n",
            "34/34 [==============================] - 0s 3ms/step - loss: 6056.2715 - mae: 6056.2715\n",
            "Epoch 75/200\n",
            "34/34 [==============================] - 0s 3ms/step - loss: 6036.2661 - mae: 6036.2661\n",
            "Epoch 76/200\n",
            "34/34 [==============================] - 0s 3ms/step - loss: 6022.8096 - mae: 6022.8096\n",
            "Epoch 77/200\n",
            "34/34 [==============================] - 0s 3ms/step - loss: 5990.3813 - mae: 5990.3813\n",
            "Epoch 78/200\n",
            "34/34 [==============================] - 0s 3ms/step - loss: 5969.4956 - mae: 5969.4956\n",
            "Epoch 79/200\n",
            "34/34 [==============================] - 0s 3ms/step - loss: 5946.6279 - mae: 5946.6279\n",
            "Epoch 80/200\n",
            "34/34 [==============================] - 0s 3ms/step - loss: 5920.8530 - mae: 5920.8530\n",
            "Epoch 81/200\n",
            "34/34 [==============================] - 0s 3ms/step - loss: 5896.6426 - mae: 5896.6426\n",
            "Epoch 82/200\n",
            "34/34 [==============================] - 0s 3ms/step - loss: 5870.4077 - mae: 5870.4077\n",
            "Epoch 83/200\n",
            "34/34 [==============================] - 0s 3ms/step - loss: 5843.5244 - mae: 5843.5244\n",
            "Epoch 84/200\n",
            "34/34 [==============================] - 0s 3ms/step - loss: 5812.4673 - mae: 5812.4673\n",
            "Epoch 85/200\n",
            "34/34 [==============================] - 0s 3ms/step - loss: 5787.7368 - mae: 5787.7368\n",
            "Epoch 86/200\n",
            "34/34 [==============================] - 0s 2ms/step - loss: 5754.7109 - mae: 5754.7109\n",
            "Epoch 87/200\n",
            "34/34 [==============================] - 0s 2ms/step - loss: 5720.6475 - mae: 5720.6475\n",
            "Epoch 88/200\n",
            "34/34 [==============================] - 0s 2ms/step - loss: 5689.3896 - mae: 5689.3896\n",
            "Epoch 89/200\n",
            "34/34 [==============================] - 0s 3ms/step - loss: 5652.3301 - mae: 5652.3301\n",
            "Epoch 90/200\n",
            "34/34 [==============================] - 0s 3ms/step - loss: 5614.0620 - mae: 5614.0620\n",
            "Epoch 91/200\n",
            "34/34 [==============================] - 0s 3ms/step - loss: 5581.3813 - mae: 5581.3813\n",
            "Epoch 92/200\n",
            "34/34 [==============================] - 0s 3ms/step - loss: 5534.9390 - mae: 5534.9390\n",
            "Epoch 93/200\n",
            "34/34 [==============================] - 0s 4ms/step - loss: 5496.7461 - mae: 5496.7461\n",
            "Epoch 94/200\n",
            "34/34 [==============================] - 0s 3ms/step - loss: 5455.9819 - mae: 5455.9819\n",
            "Epoch 95/200\n",
            "34/34 [==============================] - 0s 3ms/step - loss: 5405.1387 - mae: 5405.1387\n",
            "Epoch 96/200\n",
            "34/34 [==============================] - 0s 3ms/step - loss: 5365.1250 - mae: 5365.1250\n",
            "Epoch 97/200\n",
            "34/34 [==============================] - 0s 3ms/step - loss: 5315.4175 - mae: 5315.4175\n",
            "Epoch 98/200\n",
            "34/34 [==============================] - 0s 3ms/step - loss: 5257.3506 - mae: 5257.3506\n",
            "Epoch 99/200\n",
            "34/34 [==============================] - 0s 3ms/step - loss: 5201.6782 - mae: 5201.6782\n",
            "Epoch 100/200\n",
            "34/34 [==============================] - 0s 3ms/step - loss: 5147.3584 - mae: 5147.3584\n",
            "Epoch 101/200\n",
            "34/34 [==============================] - 0s 3ms/step - loss: 5083.0986 - mae: 5083.0986\n",
            "Epoch 102/200\n",
            "34/34 [==============================] - 0s 3ms/step - loss: 5020.1436 - mae: 5020.1436\n",
            "Epoch 103/200\n",
            "34/34 [==============================] - 0s 3ms/step - loss: 4957.7817 - mae: 4957.7817\n",
            "Epoch 104/200\n",
            "34/34 [==============================] - 0s 3ms/step - loss: 4883.7275 - mae: 4883.7275\n",
            "Epoch 105/200\n",
            "34/34 [==============================] - 0s 3ms/step - loss: 4807.0264 - mae: 4807.0264\n",
            "Epoch 106/200\n",
            "34/34 [==============================] - 0s 3ms/step - loss: 4728.8848 - mae: 4728.8848\n",
            "Epoch 107/200\n",
            "34/34 [==============================] - 0s 3ms/step - loss: 4647.6318 - mae: 4647.6318\n",
            "Epoch 108/200\n",
            "34/34 [==============================] - 0s 3ms/step - loss: 4564.9277 - mae: 4564.9277\n",
            "Epoch 109/200\n",
            "34/34 [==============================] - 0s 3ms/step - loss: 4478.6885 - mae: 4478.6885\n",
            "Epoch 110/200\n",
            "34/34 [==============================] - 0s 3ms/step - loss: 4392.6177 - mae: 4392.6177\n",
            "Epoch 111/200\n",
            "34/34 [==============================] - 0s 3ms/step - loss: 4306.9932 - mae: 4306.9932\n",
            "Epoch 112/200\n",
            "34/34 [==============================] - 0s 2ms/step - loss: 4232.4810 - mae: 4232.4810\n",
            "Epoch 113/200\n",
            "34/34 [==============================] - 0s 3ms/step - loss: 4151.5854 - mae: 4151.5854\n",
            "Epoch 114/200\n",
            "34/34 [==============================] - 0s 2ms/step - loss: 4078.3752 - mae: 4078.3752\n",
            "Epoch 115/200\n",
            "34/34 [==============================] - 0s 2ms/step - loss: 4013.9556 - mae: 4013.9556\n",
            "Epoch 116/200\n",
            "34/34 [==============================] - 0s 2ms/step - loss: 3971.5945 - mae: 3971.5945\n",
            "Epoch 117/200\n",
            "34/34 [==============================] - 0s 2ms/step - loss: 3947.6458 - mae: 3947.6458\n",
            "Epoch 118/200\n",
            "34/34 [==============================] - 0s 2ms/step - loss: 3915.5916 - mae: 3915.5916\n",
            "Epoch 119/200\n",
            "34/34 [==============================] - 0s 2ms/step - loss: 3882.8403 - mae: 3882.8403\n",
            "Epoch 120/200\n",
            "34/34 [==============================] - 0s 2ms/step - loss: 3859.0671 - mae: 3859.0671\n",
            "Epoch 121/200\n",
            "34/34 [==============================] - 0s 2ms/step - loss: 3847.5334 - mae: 3847.5334\n",
            "Epoch 122/200\n",
            "34/34 [==============================] - 0s 2ms/step - loss: 3837.7583 - mae: 3837.7583\n",
            "Epoch 123/200\n",
            "34/34 [==============================] - 0s 2ms/step - loss: 3831.5420 - mae: 3831.5420\n",
            "Epoch 124/200\n",
            "34/34 [==============================] - 0s 3ms/step - loss: 3821.7849 - mae: 3821.7849\n",
            "Epoch 125/200\n",
            "34/34 [==============================] - 0s 2ms/step - loss: 3806.3486 - mae: 3806.3486\n",
            "Epoch 126/200\n",
            "34/34 [==============================] - 0s 2ms/step - loss: 3818.4993 - mae: 3818.4993\n",
            "Epoch 127/200\n",
            "34/34 [==============================] - 0s 2ms/step - loss: 3806.2327 - mae: 3806.2327\n",
            "Epoch 128/200\n",
            "34/34 [==============================] - 0s 2ms/step - loss: 3799.3506 - mae: 3799.3506\n",
            "Epoch 129/200\n",
            "34/34 [==============================] - 0s 2ms/step - loss: 3808.2495 - mae: 3808.2495\n",
            "Epoch 130/200\n",
            "34/34 [==============================] - 0s 2ms/step - loss: 3792.3838 - mae: 3792.3838\n",
            "Epoch 131/200\n",
            "34/34 [==============================] - 0s 2ms/step - loss: 3788.0535 - mae: 3788.0535\n",
            "Epoch 132/200\n",
            "34/34 [==============================] - 0s 2ms/step - loss: 3780.9985 - mae: 3780.9985\n",
            "Epoch 133/200\n",
            "34/34 [==============================] - 0s 2ms/step - loss: 3775.9651 - mae: 3775.9651\n",
            "Epoch 134/200\n",
            "34/34 [==============================] - 0s 2ms/step - loss: 3777.1082 - mae: 3777.1082\n",
            "Epoch 135/200\n",
            "34/34 [==============================] - 0s 2ms/step - loss: 3772.5798 - mae: 3772.5798\n",
            "Epoch 136/200\n",
            "34/34 [==============================] - 0s 2ms/step - loss: 3771.1357 - mae: 3771.1357\n",
            "Epoch 137/200\n",
            "34/34 [==============================] - 0s 2ms/step - loss: 3780.5864 - mae: 3780.5864\n",
            "Epoch 138/200\n",
            "34/34 [==============================] - 0s 2ms/step - loss: 3784.5964 - mae: 3784.5964\n",
            "Epoch 139/200\n",
            "34/34 [==============================] - 0s 2ms/step - loss: 3765.8723 - mae: 3765.8723\n",
            "Epoch 140/200\n",
            "34/34 [==============================] - 0s 2ms/step - loss: 3768.2976 - mae: 3768.2976\n",
            "Epoch 141/200\n",
            "34/34 [==============================] - 0s 2ms/step - loss: 3767.8611 - mae: 3767.8611\n",
            "Epoch 142/200\n",
            "34/34 [==============================] - 0s 2ms/step - loss: 3766.9158 - mae: 3766.9158\n",
            "Epoch 143/200\n",
            "34/34 [==============================] - 0s 2ms/step - loss: 3759.4429 - mae: 3759.4429\n",
            "Epoch 144/200\n",
            "34/34 [==============================] - 0s 2ms/step - loss: 3755.1472 - mae: 3755.1472\n",
            "Epoch 145/200\n",
            "34/34 [==============================] - 0s 2ms/step - loss: 3754.8167 - mae: 3754.8167\n",
            "Epoch 146/200\n",
            "34/34 [==============================] - 0s 2ms/step - loss: 3759.4062 - mae: 3759.4062\n",
            "Epoch 147/200\n",
            "34/34 [==============================] - 0s 2ms/step - loss: 3756.6589 - mae: 3756.6589\n",
            "Epoch 148/200\n",
            "34/34 [==============================] - 0s 2ms/step - loss: 3760.6628 - mae: 3760.6628\n",
            "Epoch 149/200\n",
            "34/34 [==============================] - 0s 2ms/step - loss: 3747.9705 - mae: 3747.9705\n",
            "Epoch 150/200\n",
            "34/34 [==============================] - 0s 2ms/step - loss: 3742.8442 - mae: 3742.8442\n",
            "Epoch 151/200\n",
            "34/34 [==============================] - 0s 2ms/step - loss: 3745.9158 - mae: 3745.9158\n",
            "Epoch 152/200\n",
            "34/34 [==============================] - 0s 2ms/step - loss: 3746.7014 - mae: 3746.7014\n",
            "Epoch 153/200\n",
            "34/34 [==============================] - 0s 2ms/step - loss: 3746.7522 - mae: 3746.7522\n",
            "Epoch 154/200\n",
            "34/34 [==============================] - 0s 2ms/step - loss: 3741.2031 - mae: 3741.2031\n",
            "Epoch 155/200\n",
            "34/34 [==============================] - 0s 2ms/step - loss: 3742.3013 - mae: 3742.3013\n",
            "Epoch 156/200\n",
            "34/34 [==============================] - 0s 2ms/step - loss: 3738.8735 - mae: 3738.8735\n",
            "Epoch 157/200\n",
            "34/34 [==============================] - 0s 2ms/step - loss: 3738.1765 - mae: 3738.1765\n",
            "Epoch 158/200\n",
            "34/34 [==============================] - 0s 2ms/step - loss: 3734.1929 - mae: 3734.1929\n",
            "Epoch 159/200\n",
            "34/34 [==============================] - 0s 2ms/step - loss: 3733.6541 - mae: 3733.6541\n",
            "Epoch 160/200\n",
            "34/34 [==============================] - 0s 2ms/step - loss: 3737.8921 - mae: 3737.8921\n",
            "Epoch 161/200\n",
            "34/34 [==============================] - 0s 2ms/step - loss: 3735.9143 - mae: 3735.9143\n",
            "Epoch 162/200\n",
            "34/34 [==============================] - 0s 2ms/step - loss: 3727.3821 - mae: 3727.3821\n",
            "Epoch 163/200\n",
            "34/34 [==============================] - 0s 2ms/step - loss: 3727.9431 - mae: 3727.9431\n",
            "Epoch 164/200\n",
            "34/34 [==============================] - 0s 2ms/step - loss: 3731.4885 - mae: 3731.4885\n",
            "Epoch 165/200\n",
            "34/34 [==============================] - 0s 2ms/step - loss: 3721.6074 - mae: 3721.6074\n",
            "Epoch 166/200\n",
            "34/34 [==============================] - 0s 2ms/step - loss: 3724.8977 - mae: 3724.8977\n",
            "Epoch 167/200\n",
            "34/34 [==============================] - 0s 2ms/step - loss: 3726.6228 - mae: 3726.6228\n",
            "Epoch 168/200\n",
            "34/34 [==============================] - 0s 2ms/step - loss: 3719.1038 - mae: 3719.1038\n",
            "Epoch 169/200\n",
            "34/34 [==============================] - 0s 2ms/step - loss: 3719.0215 - mae: 3719.0215\n",
            "Epoch 170/200\n",
            "34/34 [==============================] - 0s 2ms/step - loss: 3712.6187 - mae: 3712.6187\n",
            "Epoch 171/200\n",
            "34/34 [==============================] - 0s 2ms/step - loss: 3712.9211 - mae: 3712.9211\n",
            "Epoch 172/200\n",
            "34/34 [==============================] - 0s 2ms/step - loss: 3714.6326 - mae: 3714.6326\n",
            "Epoch 173/200\n",
            "34/34 [==============================] - 0s 2ms/step - loss: 3708.3777 - mae: 3708.3777\n",
            "Epoch 174/200\n",
            "34/34 [==============================] - 0s 2ms/step - loss: 3714.4773 - mae: 3714.4773\n",
            "Epoch 175/200\n",
            "34/34 [==============================] - 0s 2ms/step - loss: 3719.1816 - mae: 3719.1816\n",
            "Epoch 176/200\n",
            "34/34 [==============================] - 0s 2ms/step - loss: 3710.7625 - mae: 3710.7625\n",
            "Epoch 177/200\n",
            "34/34 [==============================] - 0s 2ms/step - loss: 3704.1877 - mae: 3704.1877\n",
            "Epoch 178/200\n",
            "34/34 [==============================] - 0s 2ms/step - loss: 3703.8760 - mae: 3703.8760\n",
            "Epoch 179/200\n",
            "34/34 [==============================] - 0s 2ms/step - loss: 3712.3589 - mae: 3712.3589\n",
            "Epoch 180/200\n",
            "34/34 [==============================] - 0s 2ms/step - loss: 3716.0596 - mae: 3716.0596\n",
            "Epoch 181/200\n",
            "34/34 [==============================] - 0s 2ms/step - loss: 3702.4622 - mae: 3702.4622\n",
            "Epoch 182/200\n",
            "34/34 [==============================] - 0s 2ms/step - loss: 3699.1013 - mae: 3699.1013\n",
            "Epoch 183/200\n",
            "34/34 [==============================] - 0s 2ms/step - loss: 3696.5271 - mae: 3696.5271\n",
            "Epoch 184/200\n",
            "34/34 [==============================] - 0s 2ms/step - loss: 3704.0195 - mae: 3704.0195\n",
            "Epoch 185/200\n",
            "34/34 [==============================] - 0s 2ms/step - loss: 3699.8245 - mae: 3699.8245\n",
            "Epoch 186/200\n",
            "34/34 [==============================] - 0s 2ms/step - loss: 3702.5874 - mae: 3702.5874\n",
            "Epoch 187/200\n",
            "34/34 [==============================] - 0s 2ms/step - loss: 3691.8052 - mae: 3691.8052\n",
            "Epoch 188/200\n",
            "34/34 [==============================] - 0s 2ms/step - loss: 3699.8977 - mae: 3699.8977\n",
            "Epoch 189/200\n",
            "34/34 [==============================] - 0s 2ms/step - loss: 3689.5273 - mae: 3689.5273\n",
            "Epoch 190/200\n",
            "34/34 [==============================] - 0s 2ms/step - loss: 3688.2898 - mae: 3688.2898\n",
            "Epoch 191/200\n",
            "34/34 [==============================] - 0s 2ms/step - loss: 3703.6450 - mae: 3703.6450\n",
            "Epoch 192/200\n",
            "34/34 [==============================] - 0s 2ms/step - loss: 3689.5168 - mae: 3689.5168\n",
            "Epoch 193/200\n",
            "34/34 [==============================] - 0s 3ms/step - loss: 3679.9592 - mae: 3679.9592\n",
            "Epoch 194/200\n",
            "34/34 [==============================] - 0s 2ms/step - loss: 3679.8447 - mae: 3679.8447\n",
            "Epoch 195/200\n",
            "34/34 [==============================] - 0s 2ms/step - loss: 3678.1277 - mae: 3678.1277\n",
            "Epoch 196/200\n",
            "34/34 [==============================] - 0s 2ms/step - loss: 3686.7170 - mae: 3686.7170\n",
            "Epoch 197/200\n",
            "34/34 [==============================] - 0s 2ms/step - loss: 3671.6870 - mae: 3671.6870\n",
            "Epoch 198/200\n",
            "34/34 [==============================] - 0s 2ms/step - loss: 3676.6348 - mae: 3676.6348\n",
            "Epoch 199/200\n",
            "34/34 [==============================] - 0s 2ms/step - loss: 3683.9612 - mae: 3683.9612\n",
            "Epoch 200/200\n",
            "34/34 [==============================] - 0s 2ms/step - loss: 3670.7703 - mae: 3670.7703\n"
          ]
        }
      ]
    },
    {
      "cell_type": "code",
      "source": [
        "# Evaluate our third model\n",
        "insurance_model_3.evaluate(X_test, y_test)"
      ],
      "metadata": {
        "colab": {
          "base_uri": "https://localhost:8080/"
        },
        "id": "Nfm5jKZEXpHl",
        "outputId": "bb184244-1166-471b-a87e-f1e39f4b92e7"
      },
      "execution_count": 93,
      "outputs": [
        {
          "output_type": "stream",
          "name": "stdout",
          "text": [
            "9/9 [==============================] - 0s 2ms/step - loss: 3497.4712 - mae: 3497.4712\n"
          ]
        },
        {
          "output_type": "execute_result",
          "data": {
            "text/plain": [
              "[3497.47119140625, 3497.47119140625]"
            ]
          },
          "metadata": {},
          "execution_count": 93
        }
      ]
    },
    {
      "cell_type": "code",
      "source": [
        "insurance_model.evaluate(X_test, y_test)"
      ],
      "metadata": {
        "colab": {
          "base_uri": "https://localhost:8080/"
        },
        "id": "m7W0TtDfXz9K",
        "outputId": "4b50c8e9-e386-4042-9808-2fa2771ef7fa"
      },
      "execution_count": 94,
      "outputs": [
        {
          "output_type": "stream",
          "name": "stdout",
          "text": [
            "9/9 [==============================] - 0s 3ms/step - loss: 7284.1050 - mae: 7284.1050\n"
          ]
        },
        {
          "output_type": "execute_result",
          "data": {
            "text/plain": [
              "[7284.10498046875, 7284.10498046875]"
            ]
          },
          "metadata": {},
          "execution_count": 94
        }
      ]
    },
    {
      "cell_type": "code",
      "source": [
        "# Plot history (also known as a loss curve or training curve)\n",
        "pd.DataFrame(history.history).plot()\n",
        "plt.ylabel('loss')\n",
        "plt.xlabel('epochs')"
      ],
      "metadata": {
        "colab": {
          "base_uri": "https://localhost:8080/",
          "height": 467
        },
        "id": "a7t_7IukX7cR",
        "outputId": "fce3e4ad-a02d-4ac2-9957-03dd12362176"
      },
      "execution_count": 96,
      "outputs": [
        {
          "output_type": "execute_result",
          "data": {
            "text/plain": [
              "Text(0.5, 0, 'epochs')"
            ]
          },
          "metadata": {},
          "execution_count": 96
        },
        {
          "output_type": "display_data",
          "data": {
            "text/plain": [
              "<Figure size 640x480 with 1 Axes>"
            ],
            "image/png": "[encoded data removed]"
          },
          "metadata": {}
        }
      ]
    },
    {
      "cell_type": "markdown",
      "source": [
        "**Question** How long should you train for?\n",
        "\n",
        "It depends on the problems you are working on. However, many people have asked this question before... so TensorFlow has a solution. It's called the EarlyStopping Callback, which is TensorFlow component you can add to your model to stop training once its stops improving certain metrics."
      ],
      "metadata": {
        "id": "LGnGNxwYYwwf"
      }
    },
    {
      "cell_type": "markdown",
      "source": [
        "## Preprocessing data (normalization and standardization)"
      ],
      "metadata": {
        "id": "Wl3BLxptZyPs"
      }
    }
  ]
}
{
  "nbformat": 4,
  "nbformat_minor": 0,
  "metadata": {
    "colab": {
      "provenance": [],
      "gpuType": "T4",
      "authorship_tag": "ABX9TyMW+uWYLkQsfTKaKGOMFZqC",
      "include_colab_link": true
    },
    "kernelspec": {
      "name": "python3",
      "display_name": "Python 3"
    },
    "language_info": {
      "name": "python"
    },
    "accelerator": "GPU"
  },
  "cells": [
    {
      "cell_type": "markdown",
      "metadata": {
        "id": "view-in-github",
        "colab_type": "text"
      },
      "source": [
        "<a href=\"https://colab.research.google.com/github/ArtyomHov/tensorflow-zero-to-mastery/blob/master/05_transfer_learning_in_tensorflow_part_2_finetuning.ipynb\" target=\"_parent\"><img src=\"https://colab.research.google.com/assets/colab-badge.svg\" alt=\"Open In Colab\"/></a>"
      ]
    },
    {
      "cell_type": "markdown",
      "source": [
        "# Transfer learning with Tensorflow Part 2: Fine-tuning\n",
        "In the previous notebook, we covered transfer learning feature extration, now it's time to learn about a new kind of transfer learning: fine-tuning."
      ],
      "metadata": {
        "id": "wqWYS4kf4t7G"
      }
    },
    {
      "cell_type": "code",
      "source": [
        "# Check if we are using GPU\n",
        "!nvidia-smi"
      ],
      "metadata": {
        "colab": {
          "base_uri": "https://localhost:8080/"
        },
        "id": "GXxtoeBL6x9M",
        "outputId": "5e553b44-2a87-43e3-b6d8-9a4855b79b9d"
      },
      "execution_count": 1,
      "outputs": [
        {
          "output_type": "stream",
          "name": "stdout",
          "text": [
            "Mon Sep 23 17:26:10 2024       \n",
            "+---------------------------------------------------------------------------------------+\n",
            "| NVIDIA-SMI 535.104.05             Driver Version: 535.104.05   CUDA Version: 12.2     |\n",
            "|-----------------------------------------+----------------------+----------------------+\n",
            "| GPU  Name                 Persistence-M | Bus-Id        Disp.A | Volatile Uncorr. ECC |\n",
            "| Fan  Temp   Perf          Pwr:Usage/Cap |         Memory-Usage | GPU-Util  Compute M. |\n",
            "|                                         |                      |               MIG M. |\n",
            "|=========================================+======================+======================|\n",
            "|   0  Tesla T4                       Off | 00000000:00:04.0 Off |                    0 |\n",
            "| N/A   40C    P8               9W /  70W |      0MiB / 15360MiB |      0%      Default |\n",
            "|                                         |                      |                  N/A |\n",
            "+-----------------------------------------+----------------------+----------------------+\n",
            "                                                                                         \n",
            "+---------------------------------------------------------------------------------------+\n",
            "| Processes:                                                                            |\n",
            "|  GPU   GI   CI        PID   Type   Process name                            GPU Memory |\n",
            "|        ID   ID                                                             Usage      |\n",
            "|=======================================================================================|\n",
            "|  No running processes found                                                           |\n",
            "+---------------------------------------------------------------------------------------+\n"
          ]
        }
      ]
    },
    {
      "cell_type": "markdown",
      "source": [
        "## Creating helper functions\n",
        "\n",
        "In previous notebooks, we've created a bunch of helper functions, now we could rewrite them all, however, this is tedious.\n",
        "\n",
        "So, it's a good idea to put functions you'll want to use again in a script you can download and import into your notebooks (or elsewhere).\n",
        "\n"
      ],
      "metadata": {
        "id": "ykqiN6hl63G_"
      }
    },
    {
      "cell_type": "code",
      "source": [
        "!wget https://raw.githubusercontent.com/mrdbourke/tensorflow-deep-learning/refs/heads/main/extras/helper_functions.py"
      ],
      "metadata": {
        "colab": {
          "base_uri": "https://localhost:8080/"
        },
        "id": "VfKfGkM27FL2",
        "outputId": "8a7d8b9c-da43-447c-8223-d858e497ffa4"
      },
      "execution_count": 2,
      "outputs": [
        {
          "output_type": "stream",
          "name": "stdout",
          "text": [
            "--2024-09-23 17:29:00--  https://raw.githubusercontent.com/mrdbourke/tensorflow-deep-learning/refs/heads/main/extras/helper_functions.py\n",
            "Resolving raw.githubusercontent.com (raw.githubusercontent.com)... 185.199.111.133, 185.199.109.133, 185.199.110.133, ...\n",
            "Connecting to raw.githubusercontent.com (raw.githubusercontent.com)|185.199.111.133|:443... connected.\n",
            "HTTP request sent, awaiting response... 200 OK\n",
            "Length: 10246 (10K) [text/plain]\n",
            "Saving to: ‘helper_functions.py’\n",
            "\n",
            "\rhelper_functions.py   0%[                    ]       0  --.-KB/s               \rhelper_functions.py 100%[===================>]  10.01K  --.-KB/s    in 0s      \n",
            "\n",
            "2024-09-23 17:29:00 (97.9 MB/s) - ‘helper_functions.py’ saved [10246/10246]\n",
            "\n"
          ]
        }
      ]
    },
    {
      "cell_type": "code",
      "source": [
        "# Import helper functions we're going to use in this notebook\n",
        "from helper_functions import create_tensorboard_callback, plot_loss_curves, unzip_data, walk_through_dir"
      ],
      "metadata": {
        "id": "t3OXHb_G705B"
      },
      "execution_count": 5,
      "outputs": []
    },
    {
      "cell_type": "markdown",
      "source": [
        "**Note** If you're running this notebook in Google Colab, when it times out Colab will delete `helper_functions.py`, so you'll have to redownload it if you want access to your helper functions."
      ],
      "metadata": {
        "id": "BxmeizyN8J2L"
      }
    },
    {
      "cell_type": "markdown",
      "source": [
        "## Let's get some data\n",
        "\n",
        "This time we're going to see how we can use the pretrained within tf.keras.applications and apply them to our problem (recognizing images of food)"
      ],
      "metadata": {
        "id": "DDg4Q6mJ-IjN"
      }
    },
    {
      "cell_type": "code",
      "source": [
        "# Get 10% of training data of 10 classes of Food101\n",
        "!wget https://storage.googleapis.com/ztm_tf_course/food_vision/10_food_classes_10_percent.zip\n",
        "\n",
        "# Unzip the downloaded file\n",
        "unzip_data(\"10_food_classes_10_percent.zip\")"
      ],
      "metadata": {
        "colab": {
          "base_uri": "https://localhost:8080/"
        },
        "id": "Z56lXXW5-MzI",
        "outputId": "1499fe8b-2f5e-46b1-b1b6-398fd2476a66"
      },
      "execution_count": 6,
      "outputs": [
        {
          "output_type": "stream",
          "name": "stdout",
          "text": [
            "--2024-09-23 17:44:34--  https://storage.googleapis.com/ztm_tf_course/food_vision/10_food_classes_10_percent.zip\n",
            "Resolving storage.googleapis.com (storage.googleapis.com)... 142.251.2.207, 142.250.141.207, 74.125.137.207, ...\n",
            "Connecting to storage.googleapis.com (storage.googleapis.com)|142.251.2.207|:443... connected.\n",
            "HTTP request sent, awaiting response... 200 OK\n",
            "Length: 168546183 (161M) [application/zip]\n",
            "Saving to: ‘10_food_classes_10_percent.zip’\n",
            "\n",
            "10_food_classes_10_ 100%[===================>] 160.74M   122MB/s    in 1.3s    \n",
            "\n",
            "2024-09-23 17:44:36 (122 MB/s) - ‘10_food_classes_10_percent.zip’ saved [168546183/168546183]\n",
            "\n"
          ]
        }
      ]
    },
    {
      "cell_type": "code",
      "source": [
        "# Check out how many images and subdirectories are in our dataset\n",
        "walk_through_dir(\"10_food_classes_10_percent\")"
      ],
      "metadata": {
        "colab": {
          "base_uri": "https://localhost:8080/"
        },
        "id": "Z3cdxHzI_LH4",
        "outputId": "39aea2da-7034-4c21-f7a2-4c455bddf8b6"
      },
      "execution_count": 7,
      "outputs": [
        {
          "output_type": "stream",
          "name": "stdout",
          "text": [
            "There are 2 directories and 0 images in '10_food_classes_10_percent'.\n",
            "There are 10 directories and 0 images in '10_food_classes_10_percent/test'.\n",
            "There are 0 directories and 250 images in '10_food_classes_10_percent/test/hamburger'.\n",
            "There are 0 directories and 250 images in '10_food_classes_10_percent/test/ice_cream'.\n",
            "There are 0 directories and 250 images in '10_food_classes_10_percent/test/pizza'.\n",
            "There are 0 directories and 250 images in '10_food_classes_10_percent/test/sushi'.\n",
            "There are 0 directories and 250 images in '10_food_classes_10_percent/test/grilled_salmon'.\n",
            "There are 0 directories and 250 images in '10_food_classes_10_percent/test/chicken_wings'.\n",
            "There are 0 directories and 250 images in '10_food_classes_10_percent/test/chicken_curry'.\n",
            "There are 0 directories and 250 images in '10_food_classes_10_percent/test/fried_rice'.\n",
            "There are 0 directories and 250 images in '10_food_classes_10_percent/test/ramen'.\n",
            "There are 0 directories and 250 images in '10_food_classes_10_percent/test/steak'.\n",
            "There are 10 directories and 0 images in '10_food_classes_10_percent/train'.\n",
            "There are 0 directories and 75 images in '10_food_classes_10_percent/train/hamburger'.\n",
            "There are 0 directories and 75 images in '10_food_classes_10_percent/train/ice_cream'.\n",
            "There are 0 directories and 75 images in '10_food_classes_10_percent/train/pizza'.\n",
            "There are 0 directories and 75 images in '10_food_classes_10_percent/train/sushi'.\n",
            "There are 0 directories and 75 images in '10_food_classes_10_percent/train/grilled_salmon'.\n",
            "There are 0 directories and 75 images in '10_food_classes_10_percent/train/chicken_wings'.\n",
            "There are 0 directories and 75 images in '10_food_classes_10_percent/train/chicken_curry'.\n",
            "There are 0 directories and 75 images in '10_food_classes_10_percent/train/fried_rice'.\n",
            "There are 0 directories and 75 images in '10_food_classes_10_percent/train/ramen'.\n",
            "There are 0 directories and 75 images in '10_food_classes_10_percent/train/steak'.\n"
          ]
        }
      ]
    },
    {
      "cell_type": "code",
      "source": [
        "# Create training and test directory paths\n",
        "train_dir = \"10_food_classes_10_percent/train/\"\n",
        "test_dir = \"10_food_classes_10_percent/test/\""
      ],
      "metadata": {
        "id": "wu-IJl0H_hNl"
      },
      "execution_count": 9,
      "outputs": []
    },
    {
      "cell_type": "code",
      "source": [
        "import tensorflow as tf\n",
        "\n",
        "IMG_SIZE = (224, 224)\n",
        "BATCH_SIZE = 32\n",
        "train_data_10_percent = tf.keras.preprocessing.image_dataset_from_directory(directory=train_dir,\n",
        "                                                                            image_size=IMG_SIZE,\n",
        "                                                                            label_mode=\"categorical\",\n",
        "                                                                            batch_size=BATCH_SIZE)\n",
        "\n",
        "test_data = tf.keras.preprocessing.image_dataset_from_directory(directory=test_dir,\n",
        "                                                                image_size=IMG_SIZE,\n",
        "                                                                label_mode=\"categorical\",\n",
        "                                                                batch_size=BATCH_SIZE)"
      ],
      "metadata": {
        "colab": {
          "base_uri": "https://localhost:8080/"
        },
        "id": "cUgtFyG4_ooe",
        "outputId": "e0756f33-82d8-4a85-932f-9eb5db902dff"
      },
      "execution_count": 10,
      "outputs": [
        {
          "output_type": "stream",
          "name": "stdout",
          "text": [
            "Found 750 files belonging to 10 classes.\n",
            "Found 2500 files belonging to 10 classes.\n"
          ]
        }
      ]
    },
    {
      "cell_type": "code",
      "source": [
        "train_data_10_percent"
      ],
      "metadata": {
        "colab": {
          "base_uri": "https://localhost:8080/"
        },
        "id": "-AJhDR2uA1tT",
        "outputId": "b7dc869b-84f5-4bae-c464-cb13a62a8ac8"
      },
      "execution_count": 11,
      "outputs": [
        {
          "output_type": "execute_result",
          "data": {
            "text/plain": [
              "<_PrefetchDataset element_spec=(TensorSpec(shape=(None, 224, 224, 3), dtype=tf.float32, name=None), TensorSpec(shape=(None, 10), dtype=tf.float32, name=None))>"
            ]
          },
          "metadata": {},
          "execution_count": 11
        }
      ]
    },
    {
      "cell_type": "code",
      "source": [
        "# Check out the class names of oyr dataset\n",
        "train_data_10_percent.class_names"
      ],
      "metadata": {
        "colab": {
          "base_uri": "https://localhost:8080/"
        },
        "id": "NjkChnDNBXQX",
        "outputId": "07430a7d-d1b0-41b0-bb85-f0cdbaa9116a"
      },
      "execution_count": 12,
      "outputs": [
        {
          "output_type": "execute_result",
          "data": {
            "text/plain": [
              "['chicken_curry',\n",
              " 'chicken_wings',\n",
              " 'fried_rice',\n",
              " 'grilled_salmon',\n",
              " 'hamburger',\n",
              " 'ice_cream',\n",
              " 'pizza',\n",
              " 'ramen',\n",
              " 'steak',\n",
              " 'sushi']"
            ]
          },
          "metadata": {},
          "execution_count": 12
        }
      ]
    },
    {
      "cell_type": "code",
      "source": [
        "# See an example of a batch of data\n",
        "for images, labels in train_data_10_percent.take(1):\n",
        "  print(images, labels)"
      ],
      "metadata": {
        "colab": {
          "base_uri": "https://localhost:8080/"
        },
        "id": "SzoGOQeuBhF-",
        "outputId": "2dbc0101-6c8a-4cea-b15a-32c1c04fd7e7"
      },
      "execution_count": 16,
      "outputs": [
        {
          "output_type": "stream",
          "name": "stdout",
          "text": [
            "tf.Tensor(\n",
            "[[[[2.47000000e+02 2.34000000e+02 2.18000000e+02]\n",
            "   [2.47000000e+02 2.34000000e+02 2.18000000e+02]\n",
            "   [2.47000000e+02 2.34000000e+02 2.18000000e+02]\n",
            "   ...\n",
            "   [2.47000000e+02 2.34000000e+02 2.18000000e+02]\n",
            "   [2.47000000e+02 2.34000000e+02 2.18000000e+02]\n",
            "   [2.47000000e+02 2.34000000e+02 2.18000000e+02]]\n",
            "\n",
            "  [[2.47000000e+02 2.34000000e+02 2.18000000e+02]\n",
            "   [2.47000000e+02 2.34000000e+02 2.18000000e+02]\n",
            "   [2.47000000e+02 2.34000000e+02 2.18000000e+02]\n",
            "   ...\n",
            "   [2.47000000e+02 2.34000000e+02 2.18000000e+02]\n",
            "   [2.47000000e+02 2.34000000e+02 2.18000000e+02]\n",
            "   [2.47000000e+02 2.34000000e+02 2.18000000e+02]]\n",
            "\n",
            "  [[2.47000000e+02 2.34000000e+02 2.18000000e+02]\n",
            "   [2.47000000e+02 2.34000000e+02 2.18000000e+02]\n",
            "   [2.47000000e+02 2.34000000e+02 2.18000000e+02]\n",
            "   ...\n",
            "   [2.47000000e+02 2.34000000e+02 2.18000000e+02]\n",
            "   [2.47000000e+02 2.34000000e+02 2.18000000e+02]\n",
            "   [2.47000000e+02 2.34000000e+02 2.18000000e+02]]\n",
            "\n",
            "  ...\n",
            "\n",
            "  [[2.47000000e+02 2.34000000e+02 2.18000000e+02]\n",
            "   [2.47000000e+02 2.34000000e+02 2.18000000e+02]\n",
            "   [2.47000000e+02 2.34000000e+02 2.18000000e+02]\n",
            "   ...\n",
            "   [2.47000000e+02 2.34000000e+02 2.18000000e+02]\n",
            "   [2.47000000e+02 2.34000000e+02 2.18000000e+02]\n",
            "   [2.47000000e+02 2.34000000e+02 2.18000000e+02]]\n",
            "\n",
            "  [[2.47000000e+02 2.34000000e+02 2.18000000e+02]\n",
            "   [2.47000000e+02 2.34000000e+02 2.18000000e+02]\n",
            "   [2.47000000e+02 2.34000000e+02 2.18000000e+02]\n",
            "   ...\n",
            "   [2.47000000e+02 2.34000000e+02 2.18000000e+02]\n",
            "   [2.47000000e+02 2.34000000e+02 2.18000000e+02]\n",
            "   [2.47000000e+02 2.34000000e+02 2.18000000e+02]]\n",
            "\n",
            "  [[2.47000000e+02 2.34000000e+02 2.18000000e+02]\n",
            "   [2.47000000e+02 2.34000000e+02 2.18000000e+02]\n",
            "   [2.47000000e+02 2.34000000e+02 2.18000000e+02]\n",
            "   ...\n",
            "   [2.47000000e+02 2.34000000e+02 2.18000000e+02]\n",
            "   [2.47000000e+02 2.34000000e+02 2.18000000e+02]\n",
            "   [2.47000000e+02 2.34000000e+02 2.18000000e+02]]]\n",
            "\n",
            "\n",
            " [[[1.01296562e+02 9.42965622e+01 5.22965546e+01]\n",
            "   [1.03403061e+02 9.54030609e+01 5.93316345e+01]\n",
            "   [1.08793365e+02 9.95790787e+01 7.10076523e+01]\n",
            "   ...\n",
            "   [2.35086231e+01 2.60172482e+01 1.04913759e+01]\n",
            "   [2.64241199e+01 2.94241199e+01 1.10790854e+01]\n",
            "   [2.63481789e+01 2.93481789e+01 1.03481798e+01]]\n",
            "\n",
            "  [[1.07638718e+02 1.00601410e+02 5.87133293e+01]\n",
            "   [1.07411354e+02 9.94113541e+01 6.33399239e+01]\n",
            "   [1.12610970e+02 1.03409119e+02 7.47216263e+01]\n",
            "   ...\n",
            "   [1.94955559e+01 2.14955559e+01 7.55359268e+00]\n",
            "   [2.49729214e+01 2.79190331e+01 1.10807009e+01]\n",
            "   [2.89046574e+01 3.19046574e+01 1.49046574e+01]]\n",
            "\n",
            "  [[1.09861603e+02 1.01946106e+02 6.26926041e+01]\n",
            "   [1.16691010e+02 1.08691010e+02 7.26195831e+01]\n",
            "   [1.18625000e+02 1.09625000e+02 7.90535736e+01]\n",
            "   ...\n",
            "   [1.32589502e+01 1.52589502e+01 2.25895023e+00]\n",
            "   [2.06875381e+01 2.27044430e+01 9.36258698e+00]\n",
            "   [2.58303909e+01 2.80669994e+01 1.33571777e+01]]\n",
            "\n",
            "  ...\n",
            "\n",
            "  [[2.45249786e+02 2.21776520e+02 1.69303253e+02]\n",
            "   [2.24139099e+02 2.01139099e+02 1.50522980e+02]\n",
            "   [2.16065994e+02 1.94280273e+02 1.46908417e+02]\n",
            "   ...\n",
            "   [7.91320343e+01 4.47601700e+01 1.71320305e+01]\n",
            "   [7.73948364e+01 4.29215736e+01 1.53948393e+01]\n",
            "   [8.47207184e+01 5.02474518e+01 2.34840832e+01]]\n",
            "\n",
            "  [[2.42843521e+02 2.17843521e+02 1.63843521e+02]\n",
            "   [2.26634140e+02 2.03499573e+02 1.51356720e+02]\n",
            "   [2.19057816e+02 1.97272095e+02 1.48700668e+02]\n",
            "   ...\n",
            "   [7.86564026e+01 4.30849304e+01 1.66564026e+01]\n",
            "   [7.88332520e+01 4.28332520e+01 1.68332539e+01]\n",
            "   [8.31132507e+01 4.71132507e+01 2.11132507e+01]]\n",
            "\n",
            "  [[1.77354950e+02 1.49808365e+02 9.95816498e+01]\n",
            "   [2.12658463e+02 1.89444183e+02 1.39465240e+02]\n",
            "   [2.37237717e+02 2.15960632e+02 1.69666626e+02]\n",
            "   ...\n",
            "   [7.87144165e+01 4.53572083e+01 1.79286804e+01]\n",
            "   [8.24540634e+01 4.64540672e+01 2.04540653e+01]\n",
            "   [7.44867477e+01 3.84867477e+01 1.24867468e+01]]]\n",
            "\n",
            "\n",
            " [[[1.06219383e+02 6.62908096e+01 2.12193871e+01]\n",
            "   [7.51071396e+01 3.32499962e+01 3.87755060e+00]\n",
            "   [1.16658173e+02 7.14387817e+01 3.65663338e+01]\n",
            "   ...\n",
            "   [1.67112518e+02 1.04035988e+02 3.62553253e+01]\n",
            "   [1.90953964e+02 1.25122314e+02 5.69539146e+01]\n",
            "   [1.64065765e+02 9.42238770e+01 2.55300655e+01]]\n",
            "\n",
            "  [[9.89030609e+01 5.01887741e+01 1.08877516e+01]\n",
            "   [1.10719406e+02 5.80765457e+01 2.50051174e+01]\n",
            "   [1.78627548e+02 1.24897964e+02 8.72551041e+01]\n",
            "   ...\n",
            "   [1.63550919e+02 1.01295837e+02 2.42958775e+01]\n",
            "   [1.33311172e+02 7.31632233e+01 3.51021385e+00]\n",
            "   [1.40056335e+02 7.96991959e+01 1.68165779e+01]]\n",
            "\n",
            "  [[1.63908157e+02 1.08122444e+02 5.85561142e+01]\n",
            "   [1.44178574e+02 8.55204086e+01 4.35612183e+01]\n",
            "   [1.26862244e+02 6.40306091e+01 2.10561218e+01]\n",
            "   ...\n",
            "   [1.68484192e+02 1.03963814e+02 1.37751322e+01]\n",
            "   [1.38800934e+02 8.26733932e+01 8.88779831e+00]\n",
            "   [1.36740219e+02 8.51739273e+01 2.83985405e+01]]\n",
            "\n",
            "  ...\n",
            "\n",
            "  [[2.50785736e+02 2.38290848e+02 1.57852020e+02]\n",
            "   [2.51729614e+02 2.38729614e+02 1.59943878e+02]\n",
            "   [2.50785721e+02 2.38122452e+02 1.59168350e+02]\n",
            "   ...\n",
            "   [2.51617386e+02 2.26739822e+02 1.37214264e+02]\n",
            "   [2.52943863e+02 2.28943863e+02 1.39372391e+02]\n",
            "   [2.51857086e+02 2.27857086e+02 1.38285614e+02]]\n",
            "\n",
            "  [[2.49928558e+02 2.37928558e+02 1.53928558e+02]\n",
            "   [2.50857132e+02 2.38857132e+02 1.54857132e+02]\n",
            "   [2.49714279e+02 2.37928558e+02 1.55816299e+02]\n",
            "   ...\n",
            "   [2.50000000e+02 2.25015305e+02 1.31969391e+02]\n",
            "   [2.49928558e+02 2.24928558e+02 1.32928558e+02]\n",
            "   [2.48000000e+02 2.24000000e+02 1.34000000e+02]]\n",
            "\n",
            "  [[2.48770416e+02 2.36770416e+02 1.50770416e+02]\n",
            "   [2.49331665e+02 2.37331665e+02 1.51331665e+02]\n",
            "   [2.48785721e+02 2.37214279e+02 1.53000000e+02]\n",
            "   ...\n",
            "   [2.50357178e+02 2.25571442e+02 1.31775589e+02]\n",
            "   [2.50357178e+02 2.25357178e+02 1.33357178e+02]\n",
            "   [2.50714355e+02 2.25714355e+02 1.35714355e+02]]]\n",
            "\n",
            "\n",
            " ...\n",
            "\n",
            "\n",
            " [[[1.95387756e+02 1.97387756e+02 1.58387756e+02]\n",
            "   [1.97214279e+02 1.99214279e+02 1.62214279e+02]\n",
            "   [2.06214294e+02 2.07642868e+02 1.76285721e+02]\n",
            "   ...\n",
            "   [1.87142792e+02 1.81280533e+02 1.58719299e+02]\n",
            "   [1.94515472e+02 1.89872620e+02 1.66801193e+02]\n",
            "   [2.13178406e+02 2.08178406e+02 1.87464127e+02]]\n",
            "\n",
            "  [[1.61719391e+02 1.63719391e+02 1.24719391e+02]\n",
            "   [1.85158157e+02 1.86295914e+02 1.51882660e+02]\n",
            "   [1.92239792e+02 1.93224487e+02 1.61484695e+02]\n",
            "   ...\n",
            "   [1.51433777e+02 1.48520477e+02 1.33234772e+02]\n",
            "   [1.54301010e+02 1.51505112e+02 1.34153061e+02]\n",
            "   [1.63740005e+02 1.61668579e+02 1.46382858e+02]]\n",
            "\n",
            "  [[9.38775558e+01 9.48775558e+01 6.13061218e+01]\n",
            "   [1.25581635e+02 1.26581635e+02 9.30102081e+01]\n",
            "   [1.40204086e+02 1.41204086e+02 1.09418365e+02]\n",
            "   ...\n",
            "   [8.85614319e+01 8.89899826e+01 8.20613708e+01]\n",
            "   [8.97245255e+01 9.09388123e+01 8.35816727e+01]\n",
            "   [9.68111191e+01 9.88162994e+01 9.11019821e+01]]\n",
            "\n",
            "  ...\n",
            "\n",
            "  [[1.37806442e+02 6.65206833e+01 1.10920887e+01]\n",
            "   [1.45025818e+02 7.24543457e+01 1.76686115e+01]\n",
            "   [1.44928970e+02 7.01891174e+01 1.62145920e+01]\n",
            "   ...\n",
            "   [6.43367081e+01 3.04285278e+01 3.85705566e+00]\n",
            "   [7.46887131e+01 3.86887131e+01 1.66887131e+01]\n",
            "   [7.32857666e+01 3.52857666e+01 1.62857666e+01]]\n",
            "\n",
            "  [[1.49790817e+02 7.58622742e+01 1.05765057e+01]\n",
            "   [1.64428574e+02 8.94948959e+01 2.42805748e+01]\n",
            "   [1.56658096e+02 8.14591217e+01 1.68570385e+01]\n",
            "   ...\n",
            "   [7.16735916e+01 3.68878517e+01 6.11748600e+00]\n",
            "   [7.93927536e+01 4.33927536e+01 1.93927517e+01]\n",
            "   [7.56635666e+01 3.86635666e+01 1.96635647e+01]]\n",
            "\n",
            "  [[1.60020477e+02 8.60204697e+01 1.23061171e+01]\n",
            "   [1.67556107e+02 9.35560989e+01 1.98417454e+01]\n",
            "   [1.64653320e+02 8.85768204e+01 1.57961082e+01]\n",
            "   ...\n",
            "   [6.66784134e+01 3.18926754e+01 2.29590893e-01]\n",
            "   [7.11990891e+01 3.51990891e+01 9.34197235e+00]\n",
            "   [8.79184036e+01 5.09184074e+01 3.19184074e+01]]]\n",
            "\n",
            "\n",
            " [[[1.79964294e+02 2.39642849e+01 2.29591799e+00]\n",
            "   [1.78209183e+02 2.28061237e+01 1.23979616e+00]\n",
            "   [1.79647964e+02 2.65918350e+01 6.51530504e+00]\n",
            "   ...\n",
            "   [2.10204102e+02 2.08357147e+02 1.57846893e+02]\n",
            "   [2.07066345e+02 2.04928558e+02 1.47780579e+02]\n",
            "   [2.10418381e+02 2.06418381e+02 1.44704025e+02]]\n",
            "\n",
            "  [[1.74698990e+02 2.24846954e+01 1.65816367e+00]\n",
            "   [1.82586731e+02 3.03724518e+01 7.44387960e+00]\n",
            "   [1.80244888e+02 2.95714321e+01 8.37245178e+00]\n",
            "   ...\n",
            "   [2.10918472e+02 2.04132751e+02 1.58005203e+02]\n",
            "   [2.18025406e+02 2.08443787e+02 1.55152939e+02]\n",
            "   [2.13571671e+02 2.03260483e+02 1.45979767e+02]]\n",
            "\n",
            "  [[1.68193878e+02 2.83367348e+01 6.55102158e+00]\n",
            "   [1.71331635e+02 3.30459175e+01 1.00459194e+01]\n",
            "   [1.69602036e+02 3.33163300e+01 7.31632710e+00]\n",
            "   ...\n",
            "   [2.05494904e+02 1.92923431e+02 1.47923431e+02]\n",
            "   [2.15290848e+02 2.01775543e+02 1.52362244e+02]\n",
            "   [2.22831741e+02 2.07474594e+02 1.55260300e+02]]\n",
            "\n",
            "  ...\n",
            "\n",
            "  [[2.52806854e+01 1.92041626e+01 0.00000000e+00]\n",
            "   [3.18725357e+01 2.38725357e+01 1.45922458e+00]\n",
            "   [4.25204430e+01 3.07092361e+01 3.30609131e+00]\n",
            "   ...\n",
            "   [1.65913406e+02 1.95341934e+02 1.91673416e+02]\n",
            "   [1.96897949e+02 2.19540802e+02 2.14255035e+02]\n",
            "   [2.15331711e+02 2.31331711e+02 2.28760239e+02]]\n",
            "\n",
            "  [[2.64031487e+01 1.84490757e+01 4.59267795e-02]\n",
            "   [4.08674126e+01 3.08010769e+01 3.93371463e+00]\n",
            "   [5.36275482e+01 4.00714035e+01 7.78567505e+00]\n",
            "   ...\n",
            "   [1.66525726e+02 1.88928741e+02 1.73295975e+02]\n",
            "   [1.98749954e+02 2.16331512e+02 2.04050858e+02]\n",
            "   [2.05693893e+02 2.21076462e+02 2.12071442e+02]]\n",
            "\n",
            "  [[3.81172066e+01 2.81172047e+01 3.16823053e+00]\n",
            "   [4.98061180e+01 3.88061180e+01 8.28564453e+00]\n",
            "   [5.28062592e+01 3.78726120e+01 4.09704590e+00]\n",
            "   ...\n",
            "   [1.50408356e+02 1.64051178e+02 1.38694000e+02]\n",
            "   [1.74403229e+02 1.85285767e+02 1.65117401e+02]\n",
            "   [2.10060989e+02 2.19989456e+02 2.05632278e+02]]]\n",
            "\n",
            "\n",
            " [[[3.03571434e+01 1.93571434e+01 1.53571424e+01]\n",
            "   [3.09540825e+01 1.99540825e+01 1.59540815e+01]\n",
            "   [3.20765305e+01 2.10765305e+01 1.70765305e+01]\n",
            "   ...\n",
            "   [2.00765228e+01 1.10765228e+01 6.07652283e+00]\n",
            "   [2.00714417e+01 1.10714417e+01 6.07144165e+00]\n",
            "   [2.16428566e+01 1.26428576e+01 7.64285707e+00]]\n",
            "\n",
            "  [[3.05969391e+01 1.95969391e+01 1.55969391e+01]\n",
            "   [3.18571434e+01 2.08571434e+01 1.68571434e+01]\n",
            "   [3.20000000e+01 2.10000000e+01 1.70000000e+01]\n",
            "   ...\n",
            "   [1.90714283e+01 1.00714283e+01 5.07142830e+00]\n",
            "   [2.10663395e+01 1.20663385e+01 7.06633854e+00]\n",
            "   [2.29540844e+01 1.39540844e+01 8.95408440e+00]]\n",
            "\n",
            "  [[3.24285698e+01 2.14285698e+01 1.74285698e+01]\n",
            "   [3.49285736e+01 2.39285717e+01 1.99285717e+01]\n",
            "   [3.47857132e+01 2.37857132e+01 1.97857132e+01]\n",
            "   ...\n",
            "   [2.00000000e+01 1.10000000e+01 6.00000000e+00]\n",
            "   [2.08010235e+01 1.18010235e+01 6.80102301e+00]\n",
            "   [2.22806396e+01 1.32806396e+01 8.28063965e+00]]\n",
            "\n",
            "  ...\n",
            "\n",
            "  [[1.08780357e+02 4.12958145e+01 1.63010197e+01]\n",
            "   [1.21642639e+02 5.07549973e+01 2.37142868e+01]\n",
            "   [1.36336548e+02 5.94794502e+01 2.59029922e+01]\n",
            "   ...\n",
            "   [1.17857361e+01 7.00000000e+00 4.00000000e+00]\n",
            "   [1.20000000e+01 7.00000000e+00 4.00000000e+00]\n",
            "   [1.45714722e+01 7.21426392e+00 5.00000000e+00]]\n",
            "\n",
            "  [[7.58569565e+01 2.35713120e+01 9.76522446e+00]\n",
            "   [1.02270248e+02 4.17804947e+01 2.32754574e+01]\n",
            "   [1.21530502e+02 4.86989136e+01 2.39591389e+01]\n",
            "   ...\n",
            "   [1.17296019e+01 6.94386578e+00 3.94386578e+00]\n",
            "   [1.42143250e+01 6.21432495e+00 4.21432495e+00]\n",
            "   [1.75255775e+01 9.52557850e+00 7.52557850e+00]]\n",
            "\n",
            "  [[4.99130669e+01 6.75495243e+00 0.00000000e+00]\n",
            "   [7.24537354e+01 1.95711517e+01 7.45888090e+00]\n",
            "   [1.01994644e+02 3.35099754e+01 1.37293701e+01]\n",
            "   ...\n",
            "   [1.07857361e+01 6.00000000e+00 3.00000000e+00]\n",
            "   [1.65715027e+01 8.57150269e+00 6.57150269e+00]\n",
            "   [2.30715332e+01 1.50715332e+01 1.30715332e+01]]]], shape=(32, 224, 224, 3), dtype=float32) tf.Tensor(\n",
            "[[0. 0. 0. 0. 0. 0. 0. 0. 0. 1.]\n",
            " [0. 0. 0. 0. 0. 0. 0. 0. 0. 1.]\n",
            " [0. 0. 0. 0. 0. 0. 0. 0. 1. 0.]\n",
            " [0. 0. 0. 0. 0. 0. 1. 0. 0. 0.]\n",
            " [0. 0. 0. 1. 0. 0. 0. 0. 0. 0.]\n",
            " [1. 0. 0. 0. 0. 0. 0. 0. 0. 0.]\n",
            " [0. 0. 0. 0. 0. 0. 0. 0. 0. 1.]\n",
            " [0. 0. 0. 1. 0. 0. 0. 0. 0. 0.]\n",
            " [0. 0. 0. 0. 0. 0. 0. 0. 1. 0.]\n",
            " [0. 1. 0. 0. 0. 0. 0. 0. 0. 0.]\n",
            " [0. 0. 0. 0. 0. 0. 0. 1. 0. 0.]\n",
            " [0. 0. 0. 0. 1. 0. 0. 0. 0. 0.]\n",
            " [0. 0. 0. 0. 0. 0. 0. 0. 0. 1.]\n",
            " [0. 0. 0. 0. 0. 1. 0. 0. 0. 0.]\n",
            " [0. 0. 0. 0. 0. 0. 0. 1. 0. 0.]\n",
            " [0. 0. 0. 0. 1. 0. 0. 0. 0. 0.]\n",
            " [0. 0. 0. 0. 0. 1. 0. 0. 0. 0.]\n",
            " [0. 0. 0. 0. 0. 0. 1. 0. 0. 0.]\n",
            " [0. 0. 0. 0. 1. 0. 0. 0. 0. 0.]\n",
            " [0. 0. 0. 0. 0. 1. 0. 0. 0. 0.]\n",
            " [0. 0. 0. 0. 0. 1. 0. 0. 0. 0.]\n",
            " [0. 0. 0. 0. 0. 0. 0. 1. 0. 0.]\n",
            " [0. 0. 0. 0. 0. 0. 0. 1. 0. 0.]\n",
            " [0. 0. 0. 0. 0. 0. 0. 0. 1. 0.]\n",
            " [0. 1. 0. 0. 0. 0. 0. 0. 0. 0.]\n",
            " [0. 0. 0. 0. 0. 0. 1. 0. 0. 0.]\n",
            " [0. 0. 0. 1. 0. 0. 0. 0. 0. 0.]\n",
            " [0. 0. 1. 0. 0. 0. 0. 0. 0. 0.]\n",
            " [0. 0. 0. 1. 0. 0. 0. 0. 0. 0.]\n",
            " [0. 1. 0. 0. 0. 0. 0. 0. 0. 0.]\n",
            " [0. 0. 0. 0. 0. 0. 0. 0. 1. 0.]\n",
            " [0. 0. 1. 0. 0. 0. 0. 0. 0. 0.]], shape=(32, 10), dtype=float32)\n"
          ]
        }
      ]
    },
    {
      "cell_type": "code",
      "source": [
        "q"
      ],
      "metadata": {
        "id": "tU1stZfyCCtW"
      },
      "execution_count": null,
      "outputs": []
    }
  ]
}